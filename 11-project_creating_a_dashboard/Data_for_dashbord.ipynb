{
 "cells": [
  {
   "cell_type": "markdown",
   "id": "9c439b15",
   "metadata": {
    "toc": true
   },
   "source": [
    "<h1>Table of Contents<span class=\"tocSkip\"></span></h1>\n",
    "<div class=\"toc\"><ul class=\"toc-item\"><li><span><a href=\"#Создание-коннекции-к-базе-и-выгрузка-данных.\" data-toc-modified-id=\"Создание-коннекции-к-базе-и-выгрузка-данных.-1\"><span class=\"toc-item-num\">1&nbsp;&nbsp;</span>Создание коннекции к базе и выгрузка данных.</a></span></li><li><span><a href=\"#Предобработка-данных.\" data-toc-modified-id=\"Предобработка-данных.-2\"><span class=\"toc-item-num\">2&nbsp;&nbsp;</span>Предобработка данных.</a></span></li></ul></div>"
   ]
  },
  {
   "cell_type": "markdown",
   "id": "bcd91010",
   "metadata": {},
   "source": [
    "# Подготовка данных для дашборда."
   ]
  },
  {
   "cell_type": "markdown",
   "id": "fe49cdf3",
   "metadata": {},
   "source": [
    "## Создание коннекции к базе и выгрузка данных."
   ]
  },
  {
   "cell_type": "code",
   "execution_count": 31,
   "id": "275c53d6",
   "metadata": {},
   "outputs": [],
   "source": [
    "# импортируем библиотеки\n",
    "import pandas as pd\n",
    "import matplotlib.pyplot as plt\n",
    "from sqlalchemy import create_engine"
   ]
  },
  {
   "cell_type": "code",
   "execution_count": 1,
   "id": "a99cd089",
   "metadata": {},
   "outputs": [],
   "source": [
    "#!/usr/bin/python\n",
    "# -*- coding: utf-8 -*-\n",
    "\n",
    "db_config = {'user': 'praktikum_student', # имя пользователя\n",
    "            'pwd': 'Sdf4$2;d-d30pp', # пароль\n",
    "            'host': 'rc1b-wcoijxj3yxfsf3fs.mdb.yandexcloud.net',\n",
    "            'port': 6432, # порт подключения\n",
    "            'db': 'data-analyst-zen-project-db'} # название базы данных\n",
    "\n",
    "connection_string = 'postgresql://{}:{}@{}:{}/{}'.format(db_config['user'],\n",
    "                                                db_config['pwd'],\n",
    "                                                db_config['host'],\n",
    "                                                db_config['port'],\n",
    "                                                db_config['db'])\n",
    "\n",
    "engine = create_engine(connection_string) \n",
    "\n",
    "query = ''' SELECT *\n",
    "            FROM dash_visits\n",
    "        '''\n",
    "\n",
    "dash_visits = pd.io.sql.read_sql(query, con = engine)"
   ]
  },
  {
   "cell_type": "code",
   "execution_count": 3,
   "id": "42535dac",
   "metadata": {},
   "outputs": [
    {
     "data": {
      "text/html": [
       "<div>\n",
       "<style scoped>\n",
       "    .dataframe tbody tr th:only-of-type {\n",
       "        vertical-align: middle;\n",
       "    }\n",
       "\n",
       "    .dataframe tbody tr th {\n",
       "        vertical-align: top;\n",
       "    }\n",
       "\n",
       "    .dataframe thead th {\n",
       "        text-align: right;\n",
       "    }\n",
       "</style>\n",
       "<table border=\"1\" class=\"dataframe\">\n",
       "  <thead>\n",
       "    <tr style=\"text-align: right;\">\n",
       "      <th></th>\n",
       "      <th>record_id</th>\n",
       "      <th>item_topic</th>\n",
       "      <th>source_topic</th>\n",
       "      <th>age_segment</th>\n",
       "      <th>dt</th>\n",
       "      <th>visits</th>\n",
       "    </tr>\n",
       "  </thead>\n",
       "  <tbody>\n",
       "    <tr>\n",
       "      <th>22034</th>\n",
       "      <td>1062631</td>\n",
       "      <td>Путешествия</td>\n",
       "      <td>Кино</td>\n",
       "      <td>18-25</td>\n",
       "      <td>2019-09-24 18:30:00</td>\n",
       "      <td>1</td>\n",
       "    </tr>\n",
       "    <tr>\n",
       "      <th>18065</th>\n",
       "      <td>1058662</td>\n",
       "      <td>Подборки</td>\n",
       "      <td>История</td>\n",
       "      <td>26-30</td>\n",
       "      <td>2019-09-24 18:56:00</td>\n",
       "      <td>20</td>\n",
       "    </tr>\n",
       "    <tr>\n",
       "      <th>30057</th>\n",
       "      <td>1070654</td>\n",
       "      <td>Юмор</td>\n",
       "      <td>Музыка</td>\n",
       "      <td>36-40</td>\n",
       "      <td>2019-09-24 18:57:00</td>\n",
       "      <td>3</td>\n",
       "    </tr>\n",
       "    <tr>\n",
       "      <th>5955</th>\n",
       "      <td>1046552</td>\n",
       "      <td>Знаменитости</td>\n",
       "      <td>Знаменитости</td>\n",
       "      <td>18-25</td>\n",
       "      <td>2019-09-24 18:32:00</td>\n",
       "      <td>2</td>\n",
       "    </tr>\n",
       "    <tr>\n",
       "      <th>10820</th>\n",
       "      <td>1051417</td>\n",
       "      <td>Красота</td>\n",
       "      <td>Деньги</td>\n",
       "      <td>18-25</td>\n",
       "      <td>2019-09-24 18:54:00</td>\n",
       "      <td>3</td>\n",
       "    </tr>\n",
       "    <tr>\n",
       "      <th>13521</th>\n",
       "      <td>1054118</td>\n",
       "      <td>Наука</td>\n",
       "      <td>Интерьеры</td>\n",
       "      <td>26-30</td>\n",
       "      <td>2019-09-24 19:00:00</td>\n",
       "      <td>1</td>\n",
       "    </tr>\n",
       "    <tr>\n",
       "      <th>29393</th>\n",
       "      <td>1069990</td>\n",
       "      <td>Шоу</td>\n",
       "      <td>Семейные отношения</td>\n",
       "      <td>18-25</td>\n",
       "      <td>2019-09-24 18:29:00</td>\n",
       "      <td>3</td>\n",
       "    </tr>\n",
       "    <tr>\n",
       "      <th>8898</th>\n",
       "      <td>1049495</td>\n",
       "      <td>Искусство</td>\n",
       "      <td>Полезные советы</td>\n",
       "      <td>26-30</td>\n",
       "      <td>2019-09-24 18:59:00</td>\n",
       "      <td>10</td>\n",
       "    </tr>\n",
       "    <tr>\n",
       "      <th>22633</th>\n",
       "      <td>1063230</td>\n",
       "      <td>Путешествия</td>\n",
       "      <td>Семья</td>\n",
       "      <td>18-25</td>\n",
       "      <td>2019-09-24 18:30:00</td>\n",
       "      <td>3</td>\n",
       "    </tr>\n",
       "    <tr>\n",
       "      <th>8389</th>\n",
       "      <td>1048986</td>\n",
       "      <td>Искусство</td>\n",
       "      <td>Деньги</td>\n",
       "      <td>36-40</td>\n",
       "      <td>2019-09-24 19:00:00</td>\n",
       "      <td>1</td>\n",
       "    </tr>\n",
       "  </tbody>\n",
       "</table>\n",
       "</div>"
      ],
      "text/plain": [
       "       record_id    item_topic        source_topic age_segment  \\\n",
       "22034    1062631   Путешествия                Кино       18-25   \n",
       "18065    1058662      Подборки             История       26-30   \n",
       "30057    1070654          Юмор              Музыка       36-40   \n",
       "5955     1046552  Знаменитости        Знаменитости       18-25   \n",
       "10820    1051417       Красота              Деньги       18-25   \n",
       "13521    1054118         Наука           Интерьеры       26-30   \n",
       "29393    1069990           Шоу  Семейные отношения       18-25   \n",
       "8898     1049495     Искусство     Полезные советы       26-30   \n",
       "22633    1063230   Путешествия               Семья       18-25   \n",
       "8389     1048986     Искусство              Деньги       36-40   \n",
       "\n",
       "                       dt  visits  \n",
       "22034 2019-09-24 18:30:00       1  \n",
       "18065 2019-09-24 18:56:00      20  \n",
       "30057 2019-09-24 18:57:00       3  \n",
       "5955  2019-09-24 18:32:00       2  \n",
       "10820 2019-09-24 18:54:00       3  \n",
       "13521 2019-09-24 19:00:00       1  \n",
       "29393 2019-09-24 18:29:00       3  \n",
       "8898  2019-09-24 18:59:00      10  \n",
       "22633 2019-09-24 18:30:00       3  \n",
       "8389  2019-09-24 19:00:00       1  "
      ]
     },
     "execution_count": 3,
     "metadata": {},
     "output_type": "execute_result"
    }
   ],
   "source": [
    "dash_visits.sample(10)"
   ]
  },
  {
   "cell_type": "markdown",
   "id": "3103afdc",
   "metadata": {},
   "source": [
    "## Предобработка данных."
   ]
  },
  {
   "cell_type": "markdown",
   "id": "fd476a91",
   "metadata": {},
   "source": [
    "Посмотрим на общую информацию о таблице."
   ]
  },
  {
   "cell_type": "code",
   "execution_count": 4,
   "id": "0324c830",
   "metadata": {},
   "outputs": [
    {
     "name": "stdout",
     "output_type": "stream",
     "text": [
      "<class 'pandas.core.frame.DataFrame'>\n",
      "RangeIndex: 30745 entries, 0 to 30744\n",
      "Data columns (total 6 columns):\n",
      " #   Column        Non-Null Count  Dtype         \n",
      "---  ------        --------------  -----         \n",
      " 0   record_id     30745 non-null  int64         \n",
      " 1   item_topic    30745 non-null  object        \n",
      " 2   source_topic  30745 non-null  object        \n",
      " 3   age_segment   30745 non-null  object        \n",
      " 4   dt            30745 non-null  datetime64[ns]\n",
      " 5   visits        30745 non-null  int64         \n",
      "dtypes: datetime64[ns](1), int64(2), object(3)\n",
      "memory usage: 1.4+ MB\n"
     ]
    }
   ],
   "source": [
    "dash_visits.info()"
   ]
  },
  {
   "cell_type": "markdown",
   "id": "28aa90fb",
   "metadata": {},
   "source": [
    "Таблица состоит из 6 столбцов и 30745 строк. Типы данных соответствуют хранящейся в столбцах информации. Пропусков в таблице нет. Проверим данные на корректность и наличие дубликатов."
   ]
  },
  {
   "cell_type": "code",
   "execution_count": 5,
   "id": "b9c3b0b2",
   "metadata": {
    "scrolled": true
   },
   "outputs": [
    {
     "data": {
      "text/plain": [
       "30745"
      ]
     },
     "execution_count": 5,
     "metadata": {},
     "output_type": "execute_result"
    }
   ],
   "source": [
    "dash_visits['record_id'].nunique()"
   ]
  },
  {
   "cell_type": "markdown",
   "id": "eb213afb",
   "metadata": {},
   "source": [
    "Все идентификаторы записей уникальны, так как их количество соответствует количеству строк в таблице."
   ]
  },
  {
   "cell_type": "code",
   "execution_count": 35,
   "id": "355ed4c7",
   "metadata": {},
   "outputs": [
    {
     "name": "stdout",
     "output_type": "stream",
     "text": [
      "Отношения             1536\n",
      "Интересные факты      1535\n",
      "Наука                 1505\n",
      "Подборки              1456\n",
      "Полезные советы       1424\n",
      "Общество              1422\n",
      "Россия                1385\n",
      "История               1363\n",
      "Семья                 1287\n",
      "Путешествия           1247\n",
      "Деньги                1234\n",
      "Женщины               1230\n",
      "Дети                  1229\n",
      "Туризм                1206\n",
      "Здоровье              1203\n",
      "Красота               1193\n",
      "Культура              1160\n",
      "Юмор                  1129\n",
      "Искусство             1119\n",
      "Рассказы              1109\n",
      "Психология            1056\n",
      "Скандалы              1023\n",
      "Знаменитости           976\n",
      "Женская психология     914\n",
      "Шоу                    804\n",
      "Name: item_topic, dtype: int64\n",
      "Всего 25 тем\n"
     ]
    }
   ],
   "source": [
    "print(dash_visits['item_topic'].value_counts())\n",
    "print(f'Всего {dash_visits.item_topic.nunique()} тем')"
   ]
  },
  {
   "cell_type": "code",
   "execution_count": 36,
   "id": "2925a559",
   "metadata": {},
   "outputs": [
    {
     "name": "stdout",
     "output_type": "stream",
     "text": [
      "Семейные отношения    1822\n",
      "Россия                1687\n",
      "Знаменитости          1650\n",
      "Полезные советы       1578\n",
      "Путешествия           1563\n",
      "Кино                  1505\n",
      "Дети                  1459\n",
      "История               1437\n",
      "Семья                 1405\n",
      "Одежда                1379\n",
      "Здоровье              1243\n",
      "Искусство             1228\n",
      "Авто                  1077\n",
      "Психология            1055\n",
      "Сад и дача            1036\n",
      "Политика              1024\n",
      "Спорт                 1007\n",
      "Сделай сам             995\n",
      "Ремонт                 985\n",
      "Деньги                 973\n",
      "Еда                    912\n",
      "Интерьеры              809\n",
      "Строительство          758\n",
      "Музыка                 750\n",
      "Технологии             741\n",
      "Финансы                667\n",
      "Name: source_topic, dtype: int64\n",
      "Всего 26 тем\n"
     ]
    }
   ],
   "source": [
    "print(dash_visits['source_topic'].value_counts())\n",
    "print(f'Всего {dash_visits.source_topic.nunique()} тем')"
   ]
  },
  {
   "cell_type": "code",
   "execution_count": 9,
   "id": "33526d98",
   "metadata": {},
   "outputs": [
    {
     "data": {
      "text/plain": [
       "18-25    7056\n",
       "26-30    5875\n",
       "31-35    5552\n",
       "36-40    5105\n",
       "41-45    3903\n",
       "45+      3254\n",
       "Name: age_segment, dtype: int64"
      ]
     },
     "execution_count": 9,
     "metadata": {},
     "output_type": "execute_result"
    }
   ],
   "source": [
    "dash_visits['age_segment'].value_counts()"
   ]
  },
  {
   "cell_type": "markdown",
   "id": "e8eddcfe",
   "metadata": {},
   "source": [
    "Названия тем карточек и источников корректны. Посетители разбиты на 6 возрастных категорий.  \n",
    "Узнаем за какой период предоставлены данные."
   ]
  },
  {
   "cell_type": "code",
   "execution_count": 14,
   "id": "1bd20b53",
   "metadata": {},
   "outputs": [
    {
     "name": "stdout",
     "output_type": "stream",
     "text": [
      "2019-09-24 18:28:00 \n",
      " 2019-09-24 19:00:00\n"
     ]
    }
   ],
   "source": [
    "print(dash_visits['dt'].min(), '\\n',\n",
    "      dash_visits['dt'].max())"
   ]
  },
  {
   "cell_type": "markdown",
   "id": "86e0fd42",
   "metadata": {},
   "source": [
    "Данные включают в себя период всего 32 минуты за сутки 24 сентября 2019 г.  \n",
    "Изучим столбец с данными о посещениях."
   ]
  },
  {
   "cell_type": "code",
   "execution_count": 15,
   "id": "f5ce6694",
   "metadata": {},
   "outputs": [
    {
     "data": {
      "text/plain": [
       "count    30745.000000\n",
       "mean        10.089673\n",
       "std         19.727601\n",
       "min          1.000000\n",
       "25%          1.000000\n",
       "50%          3.000000\n",
       "75%         10.000000\n",
       "max        371.000000\n",
       "Name: visits, dtype: float64"
      ]
     },
     "execution_count": 15,
     "metadata": {},
     "output_type": "execute_result"
    }
   ],
   "source": [
    "dash_visits['visits'].describe()"
   ]
  },
  {
   "cell_type": "code",
   "execution_count": 32,
   "id": "bbaee758",
   "metadata": {},
   "outputs": [
    {
     "data": {
      "image/png": "[encoded data removed]",
      "text/plain": [
       "<Figure size 432x288 with 1 Axes>"
      ]
     },
     "metadata": {
      "needs_background": "light"
     },
     "output_type": "display_data"
    }
   ],
   "source": [
    "plt.boxplot(dash_visits['visits'], patch_artist=True, showfliers=False)\n",
    "plt.title('Распределение данных о визитах');"
   ]
  },
  {
   "cell_type": "markdown",
   "id": "c03d8eea",
   "metadata": {},
   "source": [
    "В данных о визитах имеются выбросы, так как максимальное число посещений равно 371, а медиана равна 3. Но это нормально, так как интерес к определенной тем нестабилен, а зависит от множества факторов"
   ]
  },
  {
   "cell_type": "code",
   "execution_count": 33,
   "id": "bcb379b2",
   "metadata": {},
   "outputs": [
    {
     "data": {
      "text/plain": [
       "0"
      ]
     },
     "execution_count": 33,
     "metadata": {},
     "output_type": "execute_result"
    }
   ],
   "source": [
    "dash_visits.duplicated().sum()"
   ]
  },
  {
   "cell_type": "markdown",
   "id": "58a85adc",
   "metadata": {},
   "source": [
    "Дубликатов в таблице также не обнаружено.  \n",
    "\n",
    "Экспортируем полученные данные в csv-файл."
   ]
  },
  {
   "cell_type": "code",
   "execution_count": 37,
   "id": "e4a1e2b9",
   "metadata": {},
   "outputs": [],
   "source": [
    "dash_visits.to_csv('dash_visits.csv', index=False)"
   ]
  },
  {
   "cell_type": "markdown",
   "id": "1641570c",
   "metadata": {},
   "source": [
    "**Вывод.**  \n",
    "\n",
    "Выгрузили данные для проекта из базы данных. Провели предобработку данных, хранящихся в таблице - все данные оказались корректными. Сохранили данные в csv-файл."
   ]
  }
 ],
 "metadata": {
  "kernelspec": {
   "display_name": "Python 3 (ipykernel)",
   "language": "python",
   "name": "python3"
  },
  "language_info": {
   "codemirror_mode": {
    "name": "ipython",
    "version": 3
   },
   "file_extension": ".py",
   "mimetype": "text/x-python",
   "name": "python",
   "nbconvert_exporter": "python",
   "pygments_lexer": "ipython3",
   "version": "3.9.7"
  },
  "toc": {
   "base_numbering": 1,
   "nav_menu": {},
   "number_sections": true,
   "sideBar": true,
   "skip_h1_title": true,
   "title_cell": "Table of Contents",
   "title_sidebar": "Contents",
   "toc_cell": true,
   "toc_position": {},
   "toc_section_display": true,
   "toc_window_display": false
  }
 },
 "nbformat": 4,
 "nbformat_minor": 5
}
