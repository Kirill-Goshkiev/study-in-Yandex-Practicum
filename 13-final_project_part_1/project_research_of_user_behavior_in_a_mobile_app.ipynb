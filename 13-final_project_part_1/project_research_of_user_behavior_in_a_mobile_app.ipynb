{
 "cells": [
  {
   "cell_type": "markdown",
   "id": "d4d0e428",
   "metadata": {
    "toc": true
   },
   "source": [
    "<h1>Содержание<span class=\"tocSkip\"></span></h1>\n",
    "<div class=\"toc\"><ul class=\"toc-item\"><li><span><a href=\"#Загрузка-и-предобработка-данных.\" data-toc-modified-id=\"Загрузка-и-предобработка-данных.-1\"><span class=\"toc-item-num\">1&nbsp;&nbsp;</span>Загрузка и предобработка данных.</a></span></li><li><span><a href=\"#Исследовательский-анализ-данных.\" data-toc-modified-id=\"Исследовательский-анализ-данных.-2\"><span class=\"toc-item-num\">2&nbsp;&nbsp;</span>Исследовательский анализ данных.</a></span></li><li><span><a href=\"#Анализ-действий-пользователей-в-приложении.\" data-toc-modified-id=\"Анализ-действий-пользователей-в-приложении.-3\"><span class=\"toc-item-num\">3&nbsp;&nbsp;</span>Анализ действий пользователей в приложении.</a></span><ul class=\"toc-item\"><li><span><a href=\"#Общий-анализ-событий.\" data-toc-modified-id=\"Общий-анализ-событий.-3.1\"><span class=\"toc-item-num\">3.1&nbsp;&nbsp;</span>Общий анализ событий.</a></span></li><li><span><a href=\"#Выделение-событий,-совершаемых-вместе-с-целевым-событием.\" data-toc-modified-id=\"Выделение-событий,-совершаемых-вместе-с-целевым-событием.-3.2\"><span class=\"toc-item-num\">3.2&nbsp;&nbsp;</span>Выделение событий, совершаемых вместе с целевым событием.</a></span></li><li><span><a href=\"#Анализ--воронки-событий.\" data-toc-modified-id=\"Анализ--воронки-событий.-3.3\"><span class=\"toc-item-num\">3.3&nbsp;&nbsp;</span>Анализ  воронки событий.</a></span></li><li><span><a href=\"#Расчёт-пройденного-времени-от--предыдущего-до-целевого-события.\" data-toc-modified-id=\"Расчёт-пройденного-времени-от--предыдущего-до-целевого-события.-3.4\"><span class=\"toc-item-num\">3.4&nbsp;&nbsp;</span>Расчёт пройденного времени от  предыдущего до целевого события.</a></span></li></ul></li><li><span><a href=\"#Проверка-статистических-гипотез.\" data-toc-modified-id=\"Проверка-статистических-гипотез.-4\"><span class=\"toc-item-num\">4&nbsp;&nbsp;</span>Проверка статистических гипотез.</a></span><ul class=\"toc-item\"><li><span><a href=\"#Первая-гипотеза.\" data-toc-modified-id=\"Первая-гипотеза.-4.1\"><span class=\"toc-item-num\">4.1&nbsp;&nbsp;</span>Первая гипотеза.</a></span></li><li><span><a href=\"#Вторая-гипотеза.\" data-toc-modified-id=\"Вторая-гипотеза.-4.2\"><span class=\"toc-item-num\">4.2&nbsp;&nbsp;</span>Вторая гипотеза.</a></span></li></ul></li><li><span><a href=\"#Общий-вывод.\" data-toc-modified-id=\"Общий-вывод.-5\"><span class=\"toc-item-num\">5&nbsp;&nbsp;</span>Общий вывод.</a></span></li><li><span><a href=\"#Подготовка-презентации.\" data-toc-modified-id=\"Подготовка-презентации.-6\"><span class=\"toc-item-num\">6&nbsp;&nbsp;</span>Подготовка презентации.</a></span></li><li><span><a href=\"#Построение-дашборда.\" data-toc-modified-id=\"Построение-дашборда.-7\"><span class=\"toc-item-num\">7&nbsp;&nbsp;</span>Построение дашборда.</a></span></li></ul></div>"
   ]
  },
  {
   "cell_type": "markdown",
   "id": "8dfc01ad",
   "metadata": {},
   "source": [
    "# Анализ поведения пользователей в мобильном приложении."
   ]
  },
  {
   "cell_type": "markdown",
   "id": "cf6b2f0a",
   "metadata": {},
   "source": [
    "**Описание проекта.**  \n",
    "\n",
    "Команде сервиса «Ненужные вещи» нужен в своём составе аналитик, который возьмёт огромное количество имеющихся данных, и проведет их оценку и анализ. В этих данных информация о наших пользователях, которые совершают много действий в приложении, и мы уверены, что в этих данных есть инсайты, которые позволят нам стать лучшим приложением для продажи ненужных вещей.\n",
    "\n",
    "**Задачи проекта:**\n",
    "1. Проанализируйте связь целевого события — просмотра контактов — и других действий пользователей.\n",
    "2. Оцените, какие действия чаще совершают те пользователи, которые просматривают контакты.\n",
    "- Проведите исследовательский анализ данных.\n",
    "- Проанализируйте влияние событий на совершение целевого события.\n",
    "- Проверьте статистические гипотезы:\n",
    "   1. Одни пользователи совершают действия tips_show и tips_click, другие — только tips_show. Проверьте гипотезу: конверсия в просмотры контактов различается у этих двух групп.\n",
    "   2. Сформулируйте собственную статистическую гипотезу. Дополните её нулевой и альтернативной гипотезами. Проверьте гипотезу с помощью статистического теста.  \n",
    "\n",
    "**Описание данных:**  \n",
    "\n",
    "Датасет содержит данные о событиях, совершенных в мобильном приложении \"Ненужные вещи\". В нем пользователи продают свои ненужные вещи, размещая их на доске объявлений.  \n",
    "В датасете содержатся данные пользователей, впервые совершивших действия в приложении после 7 октября 2019 года.\n",
    "\n",
    "***Колонки в \"mobile_sources.csv\":***\n",
    "- userId — идентификатор пользователя,\n",
    "- source — источник, с которого пользователь установил приложение.  \n",
    "\n",
    "***Колонки в \"mobile_dataset.csv\":***\n",
    "\n",
    "- event.time — время совершения,\n",
    "- user.id — идентификатор пользователя,\n",
    "- event.name — действие пользователя.\n",
    "\n",
    "*Виды действий:*\n",
    "- advert_open — открыл карточки объявления,\n",
    "- photos_show — просмотрел фотографий в объявлении,\n",
    "- tips_show — увидел рекомендованные объявления,\n",
    "- tips_click — кликнул по рекомендованному объявлению,\n",
    "- contacts_show и show_contacts — посмотрел номер телефона,\n",
    "- contacts_call — позвонил по номеру из объявления,\n",
    "- map — открыл карту объявлений,\n",
    "- search_1—search_7 — разные действия, связанные с поиском по сайту,\n",
    "- favorites_add — добавил объявление в избранное.  \n",
    "\n",
    "По итогам исследования подготовьте презентацию. Отправить презентацию необходимо в формате pdf, прикрепив ссылку на файл в основном проекте."
   ]
  },
  {
   "cell_type": "markdown",
   "id": "69c5bff3",
   "metadata": {},
   "source": [
    "## Загрузка и предобработка данных."
   ]
  },
  {
   "cell_type": "markdown",
   "id": "db8478aa",
   "metadata": {},
   "source": [
    "Сначала импортируем необходимые библиотеки и модули."
   ]
  },
  {
   "cell_type": "code",
   "execution_count": 19,
   "id": "e639b0e0",
   "metadata": {},
   "outputs": [],
   "source": [
    "import numpy as np\n",
    "import pandas as pd\n",
    "from matplotlib import pyplot as plt\n",
    "import seaborn as sns\n",
    "import datetime as dt\n",
    "import plotly.graph_objects as go\n",
    "from scipy import stats as st\n",
    "import math\n",
    "\n",
    "import warnings\n",
    "warnings.filterwarnings('ignore')\n",
    "\n",
    "sns.set(rc={'figure.figsize':(20, 10)})"
   ]
  },
  {
   "cell_type": "markdown",
   "id": "c3ef6793",
   "metadata": {},
   "source": [
    "Загрузим данные, предоставленные сервисом \"Ненужные вещи\""
   ]
  },
  {
   "cell_type": "code",
   "execution_count": 20,
   "id": "7fde928e",
   "metadata": {},
   "outputs": [],
   "source": [
    "mobile_sourсes = pd.read_csv('/datasets/mobile_soures.csv')\n",
    "mobile_dataset = pd.read_csv('/datasets/mobile_dataset.csv')"
   ]
  },
  {
   "cell_type": "markdown",
   "id": "bcf78f3c",
   "metadata": {},
   "source": [
    "Взглянем, что представляют из себя датасеты, и изучим общую информацию о них."
   ]
  },
  {
   "cell_type": "code",
   "execution_count": 21,
   "id": "3b95114d",
   "metadata": {},
   "outputs": [
    {
     "data": {
      "text/html": [
       "<div>\n",
       "<style scoped>\n",
       "    .dataframe tbody tr th:only-of-type {\n",
       "        vertical-align: middle;\n",
       "    }\n",
       "\n",
       "    .dataframe tbody tr th {\n",
       "        vertical-align: top;\n",
       "    }\n",
       "\n",
       "    .dataframe thead th {\n",
       "        text-align: right;\n",
       "    }\n",
       "</style>\n",
       "<table border=\"1\" class=\"dataframe\">\n",
       "  <thead>\n",
       "    <tr style=\"text-align: right;\">\n",
       "      <th></th>\n",
       "      <th>userId</th>\n",
       "      <th>source</th>\n",
       "    </tr>\n",
       "  </thead>\n",
       "  <tbody>\n",
       "    <tr>\n",
       "      <th>0</th>\n",
       "      <td>020292ab-89bc-4156-9acf-68bc2783f894</td>\n",
       "      <td>other</td>\n",
       "    </tr>\n",
       "    <tr>\n",
       "      <th>1</th>\n",
       "      <td>cf7eda61-9349-469f-ac27-e5b6f5ec475c</td>\n",
       "      <td>yandex</td>\n",
       "    </tr>\n",
       "    <tr>\n",
       "      <th>2</th>\n",
       "      <td>8c356c42-3ba9-4cb6-80b8-3f868d0192c3</td>\n",
       "      <td>yandex</td>\n",
       "    </tr>\n",
       "    <tr>\n",
       "      <th>3</th>\n",
       "      <td>d9b06b47-0f36-419b-bbb0-3533e582a6cb</td>\n",
       "      <td>other</td>\n",
       "    </tr>\n",
       "    <tr>\n",
       "      <th>4</th>\n",
       "      <td>f32e1e2a-3027-4693-b793-b7b3ff274439</td>\n",
       "      <td>google</td>\n",
       "    </tr>\n",
       "  </tbody>\n",
       "</table>\n",
       "</div>"
      ],
      "text/plain": [
       "                                 userId  source\n",
       "0  020292ab-89bc-4156-9acf-68bc2783f894   other\n",
       "1  cf7eda61-9349-469f-ac27-e5b6f5ec475c  yandex\n",
       "2  8c356c42-3ba9-4cb6-80b8-3f868d0192c3  yandex\n",
       "3  d9b06b47-0f36-419b-bbb0-3533e582a6cb   other\n",
       "4  f32e1e2a-3027-4693-b793-b7b3ff274439  google"
      ]
     },
     "metadata": {},
     "output_type": "display_data"
    },
    {
     "name": "stdout",
     "output_type": "stream",
     "text": [
      "<class 'pandas.core.frame.DataFrame'>\n",
      "RangeIndex: 4293 entries, 0 to 4292\n",
      "Data columns (total 2 columns):\n",
      " #   Column  Non-Null Count  Dtype \n",
      "---  ------  --------------  ----- \n",
      " 0   userId  4293 non-null   object\n",
      " 1   source  4293 non-null   object\n",
      "dtypes: object(2)\n",
      "memory usage: 67.2+ KB\n",
      "None \n",
      "\n"
     ]
    },
    {
     "data": {
      "text/html": [
       "<div>\n",
       "<style scoped>\n",
       "    .dataframe tbody tr th:only-of-type {\n",
       "        vertical-align: middle;\n",
       "    }\n",
       "\n",
       "    .dataframe tbody tr th {\n",
       "        vertical-align: top;\n",
       "    }\n",
       "\n",
       "    .dataframe thead th {\n",
       "        text-align: right;\n",
       "    }\n",
       "</style>\n",
       "<table border=\"1\" class=\"dataframe\">\n",
       "  <thead>\n",
       "    <tr style=\"text-align: right;\">\n",
       "      <th></th>\n",
       "      <th>event.time</th>\n",
       "      <th>event.name</th>\n",
       "      <th>user.id</th>\n",
       "    </tr>\n",
       "  </thead>\n",
       "  <tbody>\n",
       "    <tr>\n",
       "      <th>0</th>\n",
       "      <td>2019-10-07 00:00:00.431357</td>\n",
       "      <td>advert_open</td>\n",
       "      <td>020292ab-89bc-4156-9acf-68bc2783f894</td>\n",
       "    </tr>\n",
       "    <tr>\n",
       "      <th>1</th>\n",
       "      <td>2019-10-07 00:00:01.236320</td>\n",
       "      <td>tips_show</td>\n",
       "      <td>020292ab-89bc-4156-9acf-68bc2783f894</td>\n",
       "    </tr>\n",
       "    <tr>\n",
       "      <th>2</th>\n",
       "      <td>2019-10-07 00:00:02.245341</td>\n",
       "      <td>tips_show</td>\n",
       "      <td>cf7eda61-9349-469f-ac27-e5b6f5ec475c</td>\n",
       "    </tr>\n",
       "    <tr>\n",
       "      <th>3</th>\n",
       "      <td>2019-10-07 00:00:07.039334</td>\n",
       "      <td>tips_show</td>\n",
       "      <td>020292ab-89bc-4156-9acf-68bc2783f894</td>\n",
       "    </tr>\n",
       "    <tr>\n",
       "      <th>4</th>\n",
       "      <td>2019-10-07 00:00:56.319813</td>\n",
       "      <td>advert_open</td>\n",
       "      <td>cf7eda61-9349-469f-ac27-e5b6f5ec475c</td>\n",
       "    </tr>\n",
       "  </tbody>\n",
       "</table>\n",
       "</div>"
      ],
      "text/plain": [
       "                   event.time   event.name  \\\n",
       "0  2019-10-07 00:00:00.431357  advert_open   \n",
       "1  2019-10-07 00:00:01.236320    tips_show   \n",
       "2  2019-10-07 00:00:02.245341    tips_show   \n",
       "3  2019-10-07 00:00:07.039334    tips_show   \n",
       "4  2019-10-07 00:00:56.319813  advert_open   \n",
       "\n",
       "                                user.id  \n",
       "0  020292ab-89bc-4156-9acf-68bc2783f894  \n",
       "1  020292ab-89bc-4156-9acf-68bc2783f894  \n",
       "2  cf7eda61-9349-469f-ac27-e5b6f5ec475c  \n",
       "3  020292ab-89bc-4156-9acf-68bc2783f894  \n",
       "4  cf7eda61-9349-469f-ac27-e5b6f5ec475c  "
      ]
     },
     "metadata": {},
     "output_type": "display_data"
    },
    {
     "name": "stdout",
     "output_type": "stream",
     "text": [
      "<class 'pandas.core.frame.DataFrame'>\n",
      "RangeIndex: 74197 entries, 0 to 74196\n",
      "Data columns (total 3 columns):\n",
      " #   Column      Non-Null Count  Dtype \n",
      "---  ------      --------------  ----- \n",
      " 0   event.time  74197 non-null  object\n",
      " 1   event.name  74197 non-null  object\n",
      " 2   user.id     74197 non-null  object\n",
      "dtypes: object(3)\n",
      "memory usage: 1.7+ MB\n",
      "None \n",
      "\n"
     ]
    }
   ],
   "source": [
    "for df in [mobile_sourсes, mobile_dataset]:\n",
    "    display(df.head())\n",
    "    print(df.info(), '\\n')"
   ]
  },
  {
   "cell_type": "markdown",
   "id": "4e7083b4",
   "metadata": {},
   "source": [
    "**Вывод после первого знакомства с таблицами:**\n",
    "- названия столбцов необходимо привести к правильному формату;\n",
    "- нужно изменить тип данных в столбце с временем совершения действия;\n",
    "- пропусков в обеих таблицах нет;\n",
    "- необходимо провести предобработку данных, чтобы проверить их корректность и наличие дубликатов."
   ]
  },
  {
   "cell_type": "markdown",
   "id": "13d92222",
   "metadata": {},
   "source": [
    "Выполним предобработку данных.  \n",
    "\n",
    "Начнем с изменения названия столбцов в таблицах."
   ]
  },
  {
   "cell_type": "code",
   "execution_count": 22,
   "id": "f132a311",
   "metadata": {},
   "outputs": [],
   "source": [
    "mobile_sourсes.columns = ['user_id', 'source']\n",
    "mobile_dataset.columns = ['event_time', 'event_name', 'user_id']"
   ]
  },
  {
   "cell_type": "markdown",
   "id": "b75e74fa",
   "metadata": {},
   "source": [
    "Изменим тип данных в колонке со временем события на `datetime`."
   ]
  },
  {
   "cell_type": "code",
   "execution_count": 23,
   "id": "900df7fa",
   "metadata": {},
   "outputs": [],
   "source": [
    "mobile_dataset['event_time'] = mobile_dataset['event_time'].astype('datetime64')"
   ]
  },
  {
   "cell_type": "markdown",
   "id": "95cfd35a",
   "metadata": {},
   "source": [
    "Теперь проверим наши датасеты на дубликаты."
   ]
  },
  {
   "cell_type": "code",
   "execution_count": 24,
   "id": "66f59023",
   "metadata": {},
   "outputs": [
    {
     "name": "stdout",
     "output_type": "stream",
     "text": [
      "0\n",
      "0\n"
     ]
    }
   ],
   "source": [
    "print(mobile_sourсes.duplicated().sum()) \n",
    "print(mobile_dataset.duplicated().sum())    "
   ]
  },
  {
   "cell_type": "markdown",
   "id": "cea4bf84",
   "metadata": {},
   "source": [
    "Ни в одной из таблиц дубликатов не выявлено. "
   ]
  },
  {
   "cell_type": "code",
   "execution_count": 25,
   "id": "a11c12ea",
   "metadata": {},
   "outputs": [
    {
     "name": "stdout",
     "output_type": "stream",
     "text": [
      "<class 'pandas.core.frame.DataFrame'>\n",
      "RangeIndex: 4293 entries, 0 to 4292\n",
      "Data columns (total 2 columns):\n",
      " #   Column   Non-Null Count  Dtype \n",
      "---  ------   --------------  ----- \n",
      " 0   user_id  4293 non-null   object\n",
      " 1   source   4293 non-null   object\n",
      "dtypes: object(2)\n",
      "memory usage: 67.2+ KB\n",
      "None \n",
      "\n",
      "<class 'pandas.core.frame.DataFrame'>\n",
      "RangeIndex: 74197 entries, 0 to 74196\n",
      "Data columns (total 3 columns):\n",
      " #   Column      Non-Null Count  Dtype         \n",
      "---  ------      --------------  -----         \n",
      " 0   event_time  74197 non-null  datetime64[ns]\n",
      " 1   event_name  74197 non-null  object        \n",
      " 2   user_id     74197 non-null  object        \n",
      "dtypes: datetime64[ns](1), object(2)\n",
      "memory usage: 1.7+ MB\n",
      "None \n",
      "\n"
     ]
    }
   ],
   "source": [
    "for df in [mobile_sourсes, mobile_dataset]:\n",
    "    print(df.info(), '\\n')"
   ]
  },
  {
   "cell_type": "markdown",
   "id": "9fdad998",
   "metadata": {},
   "source": [
    "Предобработка выполнена, данные подготовлены к дальнейшему анализу."
   ]
  },
  {
   "cell_type": "markdown",
   "id": "a3edebcd",
   "metadata": {},
   "source": [
    "## Исследовательский анализ данных."
   ]
  },
  {
   "cell_type": "markdown",
   "id": "8a60181a",
   "metadata": {},
   "source": [
    "Начнем с таблицы `mobile_sourсes`. Так как дубликатов в таблице нет, то все идентификаторы пользователей уникальны, а это значит, что у нас имеется 4293 уникальных пользователя. Остается проверить какие источники имеются в колонке `source`."
   ]
  },
  {
   "cell_type": "code",
   "execution_count": 26,
   "id": "77a2b2cb",
   "metadata": {},
   "outputs": [
    {
     "data": {
      "text/plain": [
       "yandex    1934\n",
       "other     1230\n",
       "google    1129\n",
       "Name: source, dtype: int64"
      ]
     },
     "execution_count": 26,
     "metadata": {},
     "output_type": "execute_result"
    }
   ],
   "source": [
    "mobile_sourсes.source.value_counts()"
   ]
  },
  {
   "cell_type": "code",
   "execution_count": 27,
   "id": "8d1fc24a",
   "metadata": {
    "scrolled": true
   },
   "outputs": [
    {
     "data": {
      "text/html": [
       "<div>\n",
       "<style scoped>\n",
       "    .dataframe tbody tr th:only-of-type {\n",
       "        vertical-align: middle;\n",
       "    }\n",
       "\n",
       "    .dataframe tbody tr th {\n",
       "        vertical-align: top;\n",
       "    }\n",
       "\n",
       "    .dataframe thead th {\n",
       "        text-align: right;\n",
       "    }\n",
       "</style>\n",
       "<table border=\"1\" class=\"dataframe\">\n",
       "  <thead>\n",
       "    <tr style=\"text-align: right;\">\n",
       "      <th></th>\n",
       "      <th>source</th>\n",
       "      <th>quantity</th>\n",
       "      <th>fraction</th>\n",
       "    </tr>\n",
       "  </thead>\n",
       "  <tbody>\n",
       "    <tr>\n",
       "      <th>2</th>\n",
       "      <td>yandex</td>\n",
       "      <td>1934</td>\n",
       "      <td>45.05</td>\n",
       "    </tr>\n",
       "    <tr>\n",
       "      <th>1</th>\n",
       "      <td>other</td>\n",
       "      <td>1230</td>\n",
       "      <td>28.65</td>\n",
       "    </tr>\n",
       "    <tr>\n",
       "      <th>0</th>\n",
       "      <td>google</td>\n",
       "      <td>1129</td>\n",
       "      <td>26.30</td>\n",
       "    </tr>\n",
       "  </tbody>\n",
       "</table>\n",
       "</div>"
      ],
      "text/plain": [
       "   source  quantity  fraction\n",
       "2  yandex      1934     45.05\n",
       "1   other      1230     28.65\n",
       "0  google      1129     26.30"
      ]
     },
     "execution_count": 27,
     "metadata": {},
     "output_type": "execute_result"
    }
   ],
   "source": [
    "users_by_source = mobile_sourсes.groupby('source').agg({'user_id':'nunique'}).reset_index()\n",
    "users_by_source.columns = ['source', 'quantity']\n",
    "users_by_source['fraction'] = (users_by_source['quantity'] / len(mobile_sourсes)*100).round(2)\n",
    "users_by_source.sort_values(by='fraction', ascending=False)"
   ]
  },
  {
   "cell_type": "code",
   "execution_count": 28,
   "id": "8007622b",
   "metadata": {},
   "outputs": [
    {
     "data": {
      "application/vnd.plotly.v1+json": {
       "config": {
        "plotlyServerURL": "https://plot.ly"
       },
       "data": [
        {
         "hole": 0.5,
         "labels": [
          "google",
          "other",
          "yandex"
         ],
         "type": "pie",
         "values": [
          26.3,
          28.65,
          45.05
         ]
        }
       ],
       "layout": {
        "height": 400,
        "margin": {
         "b": 30,
         "l": 30,
         "r": 30,
         "t": 70
        },
        "template": {
         "data": {
          "bar": [
           {
            "error_x": {
             "color": "#2a3f5f"
            },
            "error_y": {
             "color": "#2a3f5f"
            },
            "marker": {
             "line": {
              "color": "#E5ECF6",
              "width": 0.5
             },
             "pattern": {
              "fillmode": "overlay",
              "size": 10,
              "solidity": 0.2
             }
            },
            "type": "bar"
           }
          ],
          "barpolar": [
           {
            "marker": {
             "line": {
              "color": "#E5ECF6",
              "width": 0.5
             },
             "pattern": {
              "fillmode": "overlay",
              "size": 10,
              "solidity": 0.2
             }
            },
            "type": "barpolar"
           }
          ],
          "carpet": [
           {
            "aaxis": {
             "endlinecolor": "#2a3f5f",
             "gridcolor": "white",
             "linecolor": "white",
             "minorgridcolor": "white",
             "startlinecolor": "#2a3f5f"
            },
            "baxis": {
             "endlinecolor": "#2a3f5f",
             "gridcolor": "white",
             "linecolor": "white",
             "minorgridcolor": "white",
             "startlinecolor": "#2a3f5f"
            },
            "type": "carpet"
           }
          ],
          "choropleth": [
           {
            "colorbar": {
             "outlinewidth": 0,
             "ticks": ""
            },
            "type": "choropleth"
           }
          ],
          "contour": [
           {
            "colorbar": {
             "outlinewidth": 0,
             "ticks": ""
            },
            "colorscale": [
             [
              0,
              "#0d0887"
             ],
             [
              0.1111111111111111,
              "#46039f"
             ],
             [
              0.2222222222222222,
              "#7201a8"
             ],
             [
              0.3333333333333333,
              "#9c179e"
             ],
             [
              0.4444444444444444,
              "#bd3786"
             ],
             [
              0.5555555555555556,
              "#d8576b"
             ],
             [
              0.6666666666666666,
              "#ed7953"
             ],
             [
              0.7777777777777778,
              "#fb9f3a"
             ],
             [
              0.8888888888888888,
              "#fdca26"
             ],
             [
              1,
              "#f0f921"
             ]
            ],
            "type": "contour"
           }
          ],
          "contourcarpet": [
           {
            "colorbar": {
             "outlinewidth": 0,
             "ticks": ""
            },
            "type": "contourcarpet"
           }
          ],
          "heatmap": [
           {
            "colorbar": {
             "outlinewidth": 0,
             "ticks": ""
            },
            "colorscale": [
             [
              0,
              "#0d0887"
             ],
             [
              0.1111111111111111,
              "#46039f"
             ],
             [
              0.2222222222222222,
              "#7201a8"
             ],
             [
              0.3333333333333333,
              "#9c179e"
             ],
             [
              0.4444444444444444,
              "#bd3786"
             ],
             [
              0.5555555555555556,
              "#d8576b"
             ],
             [
              0.6666666666666666,
              "#ed7953"
             ],
             [
              0.7777777777777778,
              "#fb9f3a"
             ],
             [
              0.8888888888888888,
              "#fdca26"
             ],
             [
              1,
              "#f0f921"
             ]
            ],
            "type": "heatmap"
           }
          ],
          "heatmapgl": [
           {
            "colorbar": {
             "outlinewidth": 0,
             "ticks": ""
            },
            "colorscale": [
             [
              0,
              "#0d0887"
             ],
             [
              0.1111111111111111,
              "#46039f"
             ],
             [
              0.2222222222222222,
              "#7201a8"
             ],
             [
              0.3333333333333333,
              "#9c179e"
             ],
             [
              0.4444444444444444,
              "#bd3786"
             ],
             [
              0.5555555555555556,
              "#d8576b"
             ],
             [
              0.6666666666666666,
              "#ed7953"
             ],
             [
              0.7777777777777778,
              "#fb9f3a"
             ],
             [
              0.8888888888888888,
              "#fdca26"
             ],
             [
              1,
              "#f0f921"
             ]
            ],
            "type": "heatmapgl"
           }
          ],
          "histogram": [
           {
            "marker": {
             "pattern": {
              "fillmode": "overlay",
              "size": 10,
              "solidity": 0.2
             }
            },
            "type": "histogram"
           }
          ],
          "histogram2d": [
           {
            "colorbar": {
             "outlinewidth": 0,
             "ticks": ""
            },
            "colorscale": [
             [
              0,
              "#0d0887"
             ],
             [
              0.1111111111111111,
              "#46039f"
             ],
             [
              0.2222222222222222,
              "#7201a8"
             ],
             [
              0.3333333333333333,
              "#9c179e"
             ],
             [
              0.4444444444444444,
              "#bd3786"
             ],
             [
              0.5555555555555556,
              "#d8576b"
             ],
             [
              0.6666666666666666,
              "#ed7953"
             ],
             [
              0.7777777777777778,
              "#fb9f3a"
             ],
             [
              0.8888888888888888,
              "#fdca26"
             ],
             [
              1,
              "#f0f921"
             ]
            ],
            "type": "histogram2d"
           }
          ],
          "histogram2dcontour": [
           {
            "colorbar": {
             "outlinewidth": 0,
             "ticks": ""
            },
            "colorscale": [
             [
              0,
              "#0d0887"
             ],
             [
              0.1111111111111111,
              "#46039f"
             ],
             [
              0.2222222222222222,
              "#7201a8"
             ],
             [
              0.3333333333333333,
              "#9c179e"
             ],
             [
              0.4444444444444444,
              "#bd3786"
             ],
             [
              0.5555555555555556,
              "#d8576b"
             ],
             [
              0.6666666666666666,
              "#ed7953"
             ],
             [
              0.7777777777777778,
              "#fb9f3a"
             ],
             [
              0.8888888888888888,
              "#fdca26"
             ],
             [
              1,
              "#f0f921"
             ]
            ],
            "type": "histogram2dcontour"
           }
          ],
          "mesh3d": [
           {
            "colorbar": {
             "outlinewidth": 0,
             "ticks": ""
            },
            "type": "mesh3d"
           }
          ],
          "parcoords": [
           {
            "line": {
             "colorbar": {
              "outlinewidth": 0,
              "ticks": ""
             }
            },
            "type": "parcoords"
           }
          ],
          "pie": [
           {
            "automargin": true,
            "type": "pie"
           }
          ],
          "scatter": [
           {
            "marker": {
             "colorbar": {
              "outlinewidth": 0,
              "ticks": ""
             }
            },
            "type": "scatter"
           }
          ],
          "scatter3d": [
           {
            "line": {
             "colorbar": {
              "outlinewidth": 0,
              "ticks": ""
             }
            },
            "marker": {
             "colorbar": {
              "outlinewidth": 0,
              "ticks": ""
             }
            },
            "type": "scatter3d"
           }
          ],
          "scattercarpet": [
           {
            "marker": {
             "colorbar": {
              "outlinewidth": 0,
              "ticks": ""
             }
            },
            "type": "scattercarpet"
           }
          ],
          "scattergeo": [
           {
            "marker": {
             "colorbar": {
              "outlinewidth": 0,
              "ticks": ""
             }
            },
            "type": "scattergeo"
           }
          ],
          "scattergl": [
           {
            "marker": {
             "colorbar": {
              "outlinewidth": 0,
              "ticks": ""
             }
            },
            "type": "scattergl"
           }
          ],
          "scattermapbox": [
           {
            "marker": {
             "colorbar": {
              "outlinewidth": 0,
              "ticks": ""
             }
            },
            "type": "scattermapbox"
           }
          ],
          "scatterpolar": [
           {
            "marker": {
             "colorbar": {
              "outlinewidth": 0,
              "ticks": ""
             }
            },
            "type": "scatterpolar"
           }
          ],
          "scatterpolargl": [
           {
            "marker": {
             "colorbar": {
              "outlinewidth": 0,
              "ticks": ""
             }
            },
            "type": "scatterpolargl"
           }
          ],
          "scatterternary": [
           {
            "marker": {
             "colorbar": {
              "outlinewidth": 0,
              "ticks": ""
             }
            },
            "type": "scatterternary"
           }
          ],
          "surface": [
           {
            "colorbar": {
             "outlinewidth": 0,
             "ticks": ""
            },
            "colorscale": [
             [
              0,
              "#0d0887"
             ],
             [
              0.1111111111111111,
              "#46039f"
             ],
             [
              0.2222222222222222,
              "#7201a8"
             ],
             [
              0.3333333333333333,
              "#9c179e"
             ],
             [
              0.4444444444444444,
              "#bd3786"
             ],
             [
              0.5555555555555556,
              "#d8576b"
             ],
             [
              0.6666666666666666,
              "#ed7953"
             ],
             [
              0.7777777777777778,
              "#fb9f3a"
             ],
             [
              0.8888888888888888,
              "#fdca26"
             ],
             [
              1,
              "#f0f921"
             ]
            ],
            "type": "surface"
           }
          ],
          "table": [
           {
            "cells": {
             "fill": {
              "color": "#EBF0F8"
             },
             "line": {
              "color": "white"
             }
            },
            "header": {
             "fill": {
              "color": "#C8D4E3"
             },
             "line": {
              "color": "white"
             }
            },
            "type": "table"
           }
          ]
         },
         "layout": {
          "annotationdefaults": {
           "arrowcolor": "#2a3f5f",
           "arrowhead": 0,
           "arrowwidth": 1
          },
          "autotypenumbers": "strict",
          "coloraxis": {
           "colorbar": {
            "outlinewidth": 0,
            "ticks": ""
           }
          },
          "colorscale": {
           "diverging": [
            [
             0,
             "#8e0152"
            ],
            [
             0.1,
             "#c51b7d"
            ],
            [
             0.2,
             "#de77ae"
            ],
            [
             0.3,
             "#f1b6da"
            ],
            [
             0.4,
             "#fde0ef"
            ],
            [
             0.5,
             "#f7f7f7"
            ],
            [
             0.6,
             "#e6f5d0"
            ],
            [
             0.7,
             "#b8e186"
            ],
            [
             0.8,
             "#7fbc41"
            ],
            [
             0.9,
             "#4d9221"
            ],
            [
             1,
             "#276419"
            ]
           ],
           "sequential": [
            [
             0,
             "#0d0887"
            ],
            [
             0.1111111111111111,
             "#46039f"
            ],
            [
             0.2222222222222222,
             "#7201a8"
            ],
            [
             0.3333333333333333,
             "#9c179e"
            ],
            [
             0.4444444444444444,
             "#bd3786"
            ],
            [
             0.5555555555555556,
             "#d8576b"
            ],
            [
             0.6666666666666666,
             "#ed7953"
            ],
            [
             0.7777777777777778,
             "#fb9f3a"
            ],
            [
             0.8888888888888888,
             "#fdca26"
            ],
            [
             1,
             "#f0f921"
            ]
           ],
           "sequentialminus": [
            [
             0,
             "#0d0887"
            ],
            [
             0.1111111111111111,
             "#46039f"
            ],
            [
             0.2222222222222222,
             "#7201a8"
            ],
            [
             0.3333333333333333,
             "#9c179e"
            ],
            [
             0.4444444444444444,
             "#bd3786"
            ],
            [
             0.5555555555555556,
             "#d8576b"
            ],
            [
             0.6666666666666666,
             "#ed7953"
            ],
            [
             0.7777777777777778,
             "#fb9f3a"
            ],
            [
             0.8888888888888888,
             "#fdca26"
            ],
            [
             1,
             "#f0f921"
            ]
           ]
          },
          "colorway": [
           "#636efa",
           "#EF553B",
           "#00cc96",
           "#ab63fa",
           "#FFA15A",
           "#19d3f3",
           "#FF6692",
           "#B6E880",
           "#FF97FF",
           "#FECB52"
          ],
          "font": {
           "color": "#2a3f5f"
          },
          "geo": {
           "bgcolor": "white",
           "lakecolor": "white",
           "landcolor": "#E5ECF6",
           "showlakes": true,
           "showland": true,
           "subunitcolor": "white"
          },
          "hoverlabel": {
           "align": "left"
          },
          "hovermode": "closest",
          "mapbox": {
           "style": "light"
          },
          "paper_bgcolor": "white",
          "plot_bgcolor": "#E5ECF6",
          "polar": {
           "angularaxis": {
            "gridcolor": "white",
            "linecolor": "white",
            "ticks": ""
           },
           "bgcolor": "#E5ECF6",
           "radialaxis": {
            "gridcolor": "white",
            "linecolor": "white",
            "ticks": ""
           }
          },
          "scene": {
           "xaxis": {
            "backgroundcolor": "#E5ECF6",
            "gridcolor": "white",
            "gridwidth": 2,
            "linecolor": "white",
            "showbackground": true,
            "ticks": "",
            "zerolinecolor": "white"
           },
           "yaxis": {
            "backgroundcolor": "#E5ECF6",
            "gridcolor": "white",
            "gridwidth": 2,
            "linecolor": "white",
            "showbackground": true,
            "ticks": "",
            "zerolinecolor": "white"
           },
           "zaxis": {
            "backgroundcolor": "#E5ECF6",
            "gridcolor": "white",
            "gridwidth": 2,
            "linecolor": "white",
            "showbackground": true,
            "ticks": "",
            "zerolinecolor": "white"
           }
          },
          "shapedefaults": {
           "line": {
            "color": "#2a3f5f"
           }
          },
          "ternary": {
           "aaxis": {
            "gridcolor": "white",
            "linecolor": "white",
            "ticks": ""
           },
           "baxis": {
            "gridcolor": "white",
            "linecolor": "white",
            "ticks": ""
           },
           "bgcolor": "#E5ECF6",
           "caxis": {
            "gridcolor": "white",
            "linecolor": "white",
            "ticks": ""
           }
          },
          "title": {
           "x": 0.05
          },
          "xaxis": {
           "automargin": true,
           "gridcolor": "white",
           "linecolor": "white",
           "ticks": "",
           "title": {
            "standoff": 15
           },
           "zerolinecolor": "white",
           "zerolinewidth": 2
          },
          "yaxis": {
           "automargin": true,
           "gridcolor": "white",
           "linecolor": "white",
           "ticks": "",
           "title": {
            "standoff": 15
           },
           "zerolinecolor": "white",
           "zerolinewidth": 2
          }
         }
        },
        "title": {
         "text": "Соотношение пользователей по источникам, из которых установлено приложение"
        },
        "width": 800
       }
      },
      "text/html": [
       "<div>                            <div id=\"b99bcb8a-d107-483f-9338-4b7ea89778b9\" class=\"plotly-graph-div\" style=\"height:400px; width:800px;\"></div>            <script type=\"text/javascript\">                require([\"plotly\"], function(Plotly) {                    window.PLOTLYENV=window.PLOTLYENV || {};                                    if (document.getElementById(\"b99bcb8a-d107-483f-9338-4b7ea89778b9\")) {                    Plotly.newPlot(                        \"b99bcb8a-d107-483f-9338-4b7ea89778b9\",                        [{\"hole\":0.5,\"labels\":[\"google\",\"other\",\"yandex\"],\"values\":[26.3,28.65,45.05],\"type\":\"pie\"}],                        {\"template\":{\"data\":{\"bar\":[{\"error_x\":{\"color\":\"#2a3f5f\"},\"error_y\":{\"color\":\"#2a3f5f\"},\"marker\":{\"line\":{\"color\":\"#E5ECF6\",\"width\":0.5},\"pattern\":{\"fillmode\":\"overlay\",\"size\":10,\"solidity\":0.2}},\"type\":\"bar\"}],\"barpolar\":[{\"marker\":{\"line\":{\"color\":\"#E5ECF6\",\"width\":0.5},\"pattern\":{\"fillmode\":\"overlay\",\"size\":10,\"solidity\":0.2}},\"type\":\"barpolar\"}],\"carpet\":[{\"aaxis\":{\"endlinecolor\":\"#2a3f5f\",\"gridcolor\":\"white\",\"linecolor\":\"white\",\"minorgridcolor\":\"white\",\"startlinecolor\":\"#2a3f5f\"},\"baxis\":{\"endlinecolor\":\"#2a3f5f\",\"gridcolor\":\"white\",\"linecolor\":\"white\",\"minorgridcolor\":\"white\",\"startlinecolor\":\"#2a3f5f\"},\"type\":\"carpet\"}],\"choropleth\":[{\"colorbar\":{\"outlinewidth\":0,\"ticks\":\"\"},\"type\":\"choropleth\"}],\"contour\":[{\"colorbar\":{\"outlinewidth\":0,\"ticks\":\"\"},\"colorscale\":[[0.0,\"#0d0887\"],[0.1111111111111111,\"#46039f\"],[0.2222222222222222,\"#7201a8\"],[0.3333333333333333,\"#9c179e\"],[0.4444444444444444,\"#bd3786\"],[0.5555555555555556,\"#d8576b\"],[0.6666666666666666,\"#ed7953\"],[0.7777777777777778,\"#fb9f3a\"],[0.8888888888888888,\"#fdca26\"],[1.0,\"#f0f921\"]],\"type\":\"contour\"}],\"contourcarpet\":[{\"colorbar\":{\"outlinewidth\":0,\"ticks\":\"\"},\"type\":\"contourcarpet\"}],\"heatmap\":[{\"colorbar\":{\"outlinewidth\":0,\"ticks\":\"\"},\"colorscale\":[[0.0,\"#0d0887\"],[0.1111111111111111,\"#46039f\"],[0.2222222222222222,\"#7201a8\"],[0.3333333333333333,\"#9c179e\"],[0.4444444444444444,\"#bd3786\"],[0.5555555555555556,\"#d8576b\"],[0.6666666666666666,\"#ed7953\"],[0.7777777777777778,\"#fb9f3a\"],[0.8888888888888888,\"#fdca26\"],[1.0,\"#f0f921\"]],\"type\":\"heatmap\"}],\"heatmapgl\":[{\"colorbar\":{\"outlinewidth\":0,\"ticks\":\"\"},\"colorscale\":[[0.0,\"#0d0887\"],[0.1111111111111111,\"#46039f\"],[0.2222222222222222,\"#7201a8\"],[0.3333333333333333,\"#9c179e\"],[0.4444444444444444,\"#bd3786\"],[0.5555555555555556,\"#d8576b\"],[0.6666666666666666,\"#ed7953\"],[0.7777777777777778,\"#fb9f3a\"],[0.8888888888888888,\"#fdca26\"],[1.0,\"#f0f921\"]],\"type\":\"heatmapgl\"}],\"histogram\":[{\"marker\":{\"pattern\":{\"fillmode\":\"overlay\",\"size\":10,\"solidity\":0.2}},\"type\":\"histogram\"}],\"histogram2d\":[{\"colorbar\":{\"outlinewidth\":0,\"ticks\":\"\"},\"colorscale\":[[0.0,\"#0d0887\"],[0.1111111111111111,\"#46039f\"],[0.2222222222222222,\"#7201a8\"],[0.3333333333333333,\"#9c179e\"],[0.4444444444444444,\"#bd3786\"],[0.5555555555555556,\"#d8576b\"],[0.6666666666666666,\"#ed7953\"],[0.7777777777777778,\"#fb9f3a\"],[0.8888888888888888,\"#fdca26\"],[1.0,\"#f0f921\"]],\"type\":\"histogram2d\"}],\"histogram2dcontour\":[{\"colorbar\":{\"outlinewidth\":0,\"ticks\":\"\"},\"colorscale\":[[0.0,\"#0d0887\"],[0.1111111111111111,\"#46039f\"],[0.2222222222222222,\"#7201a8\"],[0.3333333333333333,\"#9c179e\"],[0.4444444444444444,\"#bd3786\"],[0.5555555555555556,\"#d8576b\"],[0.6666666666666666,\"#ed7953\"],[0.7777777777777778,\"#fb9f3a\"],[0.8888888888888888,\"#fdca26\"],[1.0,\"#f0f921\"]],\"type\":\"histogram2dcontour\"}],\"mesh3d\":[{\"colorbar\":{\"outlinewidth\":0,\"ticks\":\"\"},\"type\":\"mesh3d\"}],\"parcoords\":[{\"line\":{\"colorbar\":{\"outlinewidth\":0,\"ticks\":\"\"}},\"type\":\"parcoords\"}],\"pie\":[{\"automargin\":true,\"type\":\"pie\"}],\"scatter\":[{\"marker\":{\"colorbar\":{\"outlinewidth\":0,\"ticks\":\"\"}},\"type\":\"scatter\"}],\"scatter3d\":[{\"line\":{\"colorbar\":{\"outlinewidth\":0,\"ticks\":\"\"}},\"marker\":{\"colorbar\":{\"outlinewidth\":0,\"ticks\":\"\"}},\"type\":\"scatter3d\"}],\"scattercarpet\":[{\"marker\":{\"colorbar\":{\"outlinewidth\":0,\"ticks\":\"\"}},\"type\":\"scattercarpet\"}],\"scattergeo\":[{\"marker\":{\"colorbar\":{\"outlinewidth\":0,\"ticks\":\"\"}},\"type\":\"scattergeo\"}],\"scattergl\":[{\"marker\":{\"colorbar\":{\"outlinewidth\":0,\"ticks\":\"\"}},\"type\":\"scattergl\"}],\"scattermapbox\":[{\"marker\":{\"colorbar\":{\"outlinewidth\":0,\"ticks\":\"\"}},\"type\":\"scattermapbox\"}],\"scatterpolar\":[{\"marker\":{\"colorbar\":{\"outlinewidth\":0,\"ticks\":\"\"}},\"type\":\"scatterpolar\"}],\"scatterpolargl\":[{\"marker\":{\"colorbar\":{\"outlinewidth\":0,\"ticks\":\"\"}},\"type\":\"scatterpolargl\"}],\"scatterternary\":[{\"marker\":{\"colorbar\":{\"outlinewidth\":0,\"ticks\":\"\"}},\"type\":\"scatterternary\"}],\"surface\":[{\"colorbar\":{\"outlinewidth\":0,\"ticks\":\"\"},\"colorscale\":[[0.0,\"#0d0887\"],[0.1111111111111111,\"#46039f\"],[0.2222222222222222,\"#7201a8\"],[0.3333333333333333,\"#9c179e\"],[0.4444444444444444,\"#bd3786\"],[0.5555555555555556,\"#d8576b\"],[0.6666666666666666,\"#ed7953\"],[0.7777777777777778,\"#fb9f3a\"],[0.8888888888888888,\"#fdca26\"],[1.0,\"#f0f921\"]],\"type\":\"surface\"}],\"table\":[{\"cells\":{\"fill\":{\"color\":\"#EBF0F8\"},\"line\":{\"color\":\"white\"}},\"header\":{\"fill\":{\"color\":\"#C8D4E3\"},\"line\":{\"color\":\"white\"}},\"type\":\"table\"}]},\"layout\":{\"annotationdefaults\":{\"arrowcolor\":\"#2a3f5f\",\"arrowhead\":0,\"arrowwidth\":1},\"autotypenumbers\":\"strict\",\"coloraxis\":{\"colorbar\":{\"outlinewidth\":0,\"ticks\":\"\"}},\"colorscale\":{\"diverging\":[[0,\"#8e0152\"],[0.1,\"#c51b7d\"],[0.2,\"#de77ae\"],[0.3,\"#f1b6da\"],[0.4,\"#fde0ef\"],[0.5,\"#f7f7f7\"],[0.6,\"#e6f5d0\"],[0.7,\"#b8e186\"],[0.8,\"#7fbc41\"],[0.9,\"#4d9221\"],[1,\"#276419\"]],\"sequential\":[[0.0,\"#0d0887\"],[0.1111111111111111,\"#46039f\"],[0.2222222222222222,\"#7201a8\"],[0.3333333333333333,\"#9c179e\"],[0.4444444444444444,\"#bd3786\"],[0.5555555555555556,\"#d8576b\"],[0.6666666666666666,\"#ed7953\"],[0.7777777777777778,\"#fb9f3a\"],[0.8888888888888888,\"#fdca26\"],[1.0,\"#f0f921\"]],\"sequentialminus\":[[0.0,\"#0d0887\"],[0.1111111111111111,\"#46039f\"],[0.2222222222222222,\"#7201a8\"],[0.3333333333333333,\"#9c179e\"],[0.4444444444444444,\"#bd3786\"],[0.5555555555555556,\"#d8576b\"],[0.6666666666666666,\"#ed7953\"],[0.7777777777777778,\"#fb9f3a\"],[0.8888888888888888,\"#fdca26\"],[1.0,\"#f0f921\"]]},\"colorway\":[\"#636efa\",\"#EF553B\",\"#00cc96\",\"#ab63fa\",\"#FFA15A\",\"#19d3f3\",\"#FF6692\",\"#B6E880\",\"#FF97FF\",\"#FECB52\"],\"font\":{\"color\":\"#2a3f5f\"},\"geo\":{\"bgcolor\":\"white\",\"lakecolor\":\"white\",\"landcolor\":\"#E5ECF6\",\"showlakes\":true,\"showland\":true,\"subunitcolor\":\"white\"},\"hoverlabel\":{\"align\":\"left\"},\"hovermode\":\"closest\",\"mapbox\":{\"style\":\"light\"},\"paper_bgcolor\":\"white\",\"plot_bgcolor\":\"#E5ECF6\",\"polar\":{\"angularaxis\":{\"gridcolor\":\"white\",\"linecolor\":\"white\",\"ticks\":\"\"},\"bgcolor\":\"#E5ECF6\",\"radialaxis\":{\"gridcolor\":\"white\",\"linecolor\":\"white\",\"ticks\":\"\"}},\"scene\":{\"xaxis\":{\"backgroundcolor\":\"#E5ECF6\",\"gridcolor\":\"white\",\"gridwidth\":2,\"linecolor\":\"white\",\"showbackground\":true,\"ticks\":\"\",\"zerolinecolor\":\"white\"},\"yaxis\":{\"backgroundcolor\":\"#E5ECF6\",\"gridcolor\":\"white\",\"gridwidth\":2,\"linecolor\":\"white\",\"showbackground\":true,\"ticks\":\"\",\"zerolinecolor\":\"white\"},\"zaxis\":{\"backgroundcolor\":\"#E5ECF6\",\"gridcolor\":\"white\",\"gridwidth\":2,\"linecolor\":\"white\",\"showbackground\":true,\"ticks\":\"\",\"zerolinecolor\":\"white\"}},\"shapedefaults\":{\"line\":{\"color\":\"#2a3f5f\"}},\"ternary\":{\"aaxis\":{\"gridcolor\":\"white\",\"linecolor\":\"white\",\"ticks\":\"\"},\"baxis\":{\"gridcolor\":\"white\",\"linecolor\":\"white\",\"ticks\":\"\"},\"bgcolor\":\"#E5ECF6\",\"caxis\":{\"gridcolor\":\"white\",\"linecolor\":\"white\",\"ticks\":\"\"}},\"title\":{\"x\":0.05},\"xaxis\":{\"automargin\":true,\"gridcolor\":\"white\",\"linecolor\":\"white\",\"ticks\":\"\",\"title\":{\"standoff\":15},\"zerolinecolor\":\"white\",\"zerolinewidth\":2},\"yaxis\":{\"automargin\":true,\"gridcolor\":\"white\",\"linecolor\":\"white\",\"ticks\":\"\",\"title\":{\"standoff\":15},\"zerolinecolor\":\"white\",\"zerolinewidth\":2}}},\"title\":{\"text\":\"\\u0421\\u043e\\u043e\\u0442\\u043d\\u043e\\u0448\\u0435\\u043d\\u0438\\u0435 \\u043f\\u043e\\u043b\\u044c\\u0437\\u043e\\u0432\\u0430\\u0442\\u0435\\u043b\\u0435\\u0439 \\u043f\\u043e \\u0438\\u0441\\u0442\\u043e\\u0447\\u043d\\u0438\\u043a\\u0430\\u043c, \\u0438\\u0437 \\u043a\\u043e\\u0442\\u043e\\u0440\\u044b\\u0445 \\u0443\\u0441\\u0442\\u0430\\u043d\\u043e\\u0432\\u043b\\u0435\\u043d\\u043e \\u043f\\u0440\\u0438\\u043b\\u043e\\u0436\\u0435\\u043d\\u0438\\u0435\"},\"margin\":{\"l\":30,\"r\":30,\"t\":70,\"b\":30},\"width\":800,\"height\":400},                        {\"responsive\": true}                    ).then(function(){\n",
       "                            \n",
       "var gd = document.getElementById('b99bcb8a-d107-483f-9338-4b7ea89778b9');\n",
       "var x = new MutationObserver(function (mutations, observer) {{\n",
       "        var display = window.getComputedStyle(gd).display;\n",
       "        if (!display || display === 'none') {{\n",
       "            console.log([gd, 'removed!']);\n",
       "            Plotly.purge(gd);\n",
       "            observer.disconnect();\n",
       "        }}\n",
       "}});\n",
       "\n",
       "// Listen for the removal of the full notebook cells\n",
       "var notebookContainer = gd.closest('#notebook-container');\n",
       "if (notebookContainer) {{\n",
       "    x.observe(notebookContainer, {childList: true});\n",
       "}}\n",
       "\n",
       "// Listen for the clearing of the current output cell\n",
       "var outputEl = gd.closest('.output');\n",
       "if (outputEl) {{\n",
       "    x.observe(outputEl, {childList: true});\n",
       "}}\n",
       "\n",
       "                        })                };                });            </script>        </div>"
      ]
     },
     "metadata": {},
     "output_type": "display_data"
    }
   ],
   "source": [
    "values = users_by_source['fraction']\n",
    "labels = users_by_source['source']\n",
    "\n",
    "fig = go.Figure()\n",
    "fig = go.Figure(data=[go.Pie(labels=labels, values=values, hole=.5)], \n",
    "               layout_title_text='Соотношение пользователей по источникам, из которых установлено приложение')\n",
    "\n",
    "fig.update_layout(margin=dict(l=30, r=30, t=70, b=30))\n",
    "fig.update_layout(width=800, height=400)\n",
    "fig.show()"
   ]
  },
  {
   "cell_type": "markdown",
   "id": "ca3fa04d",
   "metadata": {},
   "source": [
    "Источники, с которых пользователь установил приложение  «Ненужные вещи» представлены тремя видами: Яндекс, Гугл и \"другой тип источника\". Явный лидер из них это Яндекс - почти половина установок с этого ресурса.  \n",
    "\n",
    "Сравним пользователей в двух таблицах."
   ]
  },
  {
   "cell_type": "code",
   "execution_count": 29,
   "id": "21c9b0e7",
   "metadata": {},
   "outputs": [
    {
     "name": "stdout",
     "output_type": "stream",
     "text": [
      "Идентификаторы пользователей в обоих датасетах совпадают\n"
     ]
    }
   ],
   "source": [
    "if set(mobile_sourсes['user_id']) == set(mobile_dataset['user_id']):\n",
    "    print('Идентификаторы пользователей в обоих датасетах совпадают')\n",
    "else:\n",
    "    print('Идентификаторы пользователей не совпадают')"
   ]
  },
  {
   "cell_type": "markdown",
   "id": "5426a864",
   "metadata": {},
   "source": [
    "В таблице `mobile_dataset` проверим за какой промежуток времени у нас имеются данные."
   ]
  },
  {
   "cell_type": "code",
   "execution_count": 30,
   "id": "c42b6977",
   "metadata": {},
   "outputs": [
    {
     "data": {
      "text/plain": [
       "count                          74197\n",
       "unique                         74197\n",
       "top       2019-10-19 18:36:07.773802\n",
       "freq                               1\n",
       "first     2019-10-07 00:00:00.431357\n",
       "last      2019-11-03 23:58:12.532487\n",
       "Name: event_time, dtype: object"
      ]
     },
     "execution_count": 30,
     "metadata": {},
     "output_type": "execute_result"
    }
   ],
   "source": [
    "mobile_dataset['event_time'].describe()"
   ]
  },
  {
   "cell_type": "markdown",
   "id": "d07038bf",
   "metadata": {},
   "source": [
    "Временной период у нас составляет 28 дней или 4 недели: с 7 октября 2019 г. по 3 ноября 2019 г. включительно.  \n",
    "\n",
    "Проверим столбец с видами действий пользователя."
   ]
  },
  {
   "cell_type": "code",
   "execution_count": 31,
   "id": "9809995a",
   "metadata": {},
   "outputs": [
    {
     "data": {
      "text/plain": [
       "tips_show        40055\n",
       "photos_show      10012\n",
       "advert_open       6164\n",
       "contacts_show     4450\n",
       "map               3881\n",
       "search_1          3506\n",
       "favorites_add     1417\n",
       "search_5          1049\n",
       "tips_click         814\n",
       "search_4           701\n",
       "contacts_call      541\n",
       "search_3           522\n",
       "search_6           460\n",
       "search_2           324\n",
       "search_7           222\n",
       "show_contacts       79\n",
       "Name: event_name, dtype: int64"
      ]
     },
     "execution_count": 31,
     "metadata": {},
     "output_type": "execute_result"
    }
   ],
   "source": [
    "mobile_dataset['event_name'].value_counts()"
   ]
  },
  {
   "cell_type": "markdown",
   "id": "880e31b8",
   "metadata": {},
   "source": [
    "Все действия представлены в соответствии с заданием. Самым многочисленным действием является \"tips_show\" (показ рекомендованного объявления) - 54% от общего количества - оно и понятно, ненужных вещей у каждого человека накопилось предостаточно, и люди пытаются от них избавиться, размещая объявления. Самые редкие действия search_1—search_7 — разные действия, связанные с поиском по сайту.  \n",
    "Так как имеются два одинаковых события, но записаных по-разному - это \"contacts_show\" и \"show_contacts\", то для удобства переименуем всё в \"contacts_show\". Также события, связанные с поисковыми запросами, объединим в одну группу и назовем их \"search\"."
   ]
  },
  {
   "cell_type": "code",
   "execution_count": 32,
   "id": "56c8d367",
   "metadata": {
    "scrolled": true
   },
   "outputs": [
    {
     "data": {
      "text/plain": [
       "tips_show        40055\n",
       "photos_show      10012\n",
       "search            6784\n",
       "advert_open       6164\n",
       "contacts_show     4529\n",
       "map               3881\n",
       "favorites_add     1417\n",
       "tips_click         814\n",
       "contacts_call      541\n",
       "Name: event_name, dtype: int64"
      ]
     },
     "execution_count": 32,
     "metadata": {},
     "output_type": "execute_result"
    }
   ],
   "source": [
    "mobile_dataset['event_name'] = mobile_dataset['event_name'].str.replace('show_contacts', 'contacts_show')\n",
    "mobile_dataset['event_name'] = mobile_dataset['event_name'].str.replace('search_+\\d', 'search') \n",
    "mobile_dataset['event_name'].value_counts()"
   ]
  },
  {
   "cell_type": "code",
   "execution_count": 33,
   "id": "9c06bbf2",
   "metadata": {},
   "outputs": [
    {
     "data": {
      "application/vnd.plotly.v1+json": {
       "config": {
        "plotlyServerURL": "https://plot.ly"
       },
       "data": [
        {
         "hole": 0.5,
         "labels": [
          "tips_show",
          "photos_show",
          "search",
          "advert_open",
          "contacts_show",
          "map",
          "favorites_add",
          "tips_click",
          "contacts_call"
         ],
         "type": "pie",
         "values": [
          40055,
          10012,
          6784,
          6164,
          4529,
          3881,
          1417,
          814,
          541
         ]
        }
       ],
       "layout": {
        "height": 400,
        "margin": {
         "b": 30,
         "l": 30,
         "r": 30,
         "t": 70
        },
        "template": {
         "data": {
          "bar": [
           {
            "error_x": {
             "color": "#2a3f5f"
            },
            "error_y": {
             "color": "#2a3f5f"
            },
            "marker": {
             "line": {
              "color": "#E5ECF6",
              "width": 0.5
             },
             "pattern": {
              "fillmode": "overlay",
              "size": 10,
              "solidity": 0.2
             }
            },
            "type": "bar"
           }
          ],
          "barpolar": [
           {
            "marker": {
             "line": {
              "color": "#E5ECF6",
              "width": 0.5
             },
             "pattern": {
              "fillmode": "overlay",
              "size": 10,
              "solidity": 0.2
             }
            },
            "type": "barpolar"
           }
          ],
          "carpet": [
           {
            "aaxis": {
             "endlinecolor": "#2a3f5f",
             "gridcolor": "white",
             "linecolor": "white",
             "minorgridcolor": "white",
             "startlinecolor": "#2a3f5f"
            },
            "baxis": {
             "endlinecolor": "#2a3f5f",
             "gridcolor": "white",
             "linecolor": "white",
             "minorgridcolor": "white",
             "startlinecolor": "#2a3f5f"
            },
            "type": "carpet"
           }
          ],
          "choropleth": [
           {
            "colorbar": {
             "outlinewidth": 0,
             "ticks": ""
            },
            "type": "choropleth"
           }
          ],
          "contour": [
           {
            "colorbar": {
             "outlinewidth": 0,
             "ticks": ""
            },
            "colorscale": [
             [
              0,
              "#0d0887"
             ],
             [
              0.1111111111111111,
              "#46039f"
             ],
             [
              0.2222222222222222,
              "#7201a8"
             ],
             [
              0.3333333333333333,
              "#9c179e"
             ],
             [
              0.4444444444444444,
              "#bd3786"
             ],
             [
              0.5555555555555556,
              "#d8576b"
             ],
             [
              0.6666666666666666,
              "#ed7953"
             ],
             [
              0.7777777777777778,
              "#fb9f3a"
             ],
             [
              0.8888888888888888,
              "#fdca26"
             ],
             [
              1,
              "#f0f921"
             ]
            ],
            "type": "contour"
           }
          ],
          "contourcarpet": [
           {
            "colorbar": {
             "outlinewidth": 0,
             "ticks": ""
            },
            "type": "contourcarpet"
           }
          ],
          "heatmap": [
           {
            "colorbar": {
             "outlinewidth": 0,
             "ticks": ""
            },
            "colorscale": [
             [
              0,
              "#0d0887"
             ],
             [
              0.1111111111111111,
              "#46039f"
             ],
             [
              0.2222222222222222,
              "#7201a8"
             ],
             [
              0.3333333333333333,
              "#9c179e"
             ],
             [
              0.4444444444444444,
              "#bd3786"
             ],
             [
              0.5555555555555556,
              "#d8576b"
             ],
             [
              0.6666666666666666,
              "#ed7953"
             ],
             [
              0.7777777777777778,
              "#fb9f3a"
             ],
             [
              0.8888888888888888,
              "#fdca26"
             ],
             [
              1,
              "#f0f921"
             ]
            ],
            "type": "heatmap"
           }
          ],
          "heatmapgl": [
           {
            "colorbar": {
             "outlinewidth": 0,
             "ticks": ""
            },
            "colorscale": [
             [
              0,
              "#0d0887"
             ],
             [
              0.1111111111111111,
              "#46039f"
             ],
             [
              0.2222222222222222,
              "#7201a8"
             ],
             [
              0.3333333333333333,
              "#9c179e"
             ],
             [
              0.4444444444444444,
              "#bd3786"
             ],
             [
              0.5555555555555556,
              "#d8576b"
             ],
             [
              0.6666666666666666,
              "#ed7953"
             ],
             [
              0.7777777777777778,
              "#fb9f3a"
             ],
             [
              0.8888888888888888,
              "#fdca26"
             ],
             [
              1,
              "#f0f921"
             ]
            ],
            "type": "heatmapgl"
           }
          ],
          "histogram": [
           {
            "marker": {
             "pattern": {
              "fillmode": "overlay",
              "size": 10,
              "solidity": 0.2
             }
            },
            "type": "histogram"
           }
          ],
          "histogram2d": [
           {
            "colorbar": {
             "outlinewidth": 0,
             "ticks": ""
            },
            "colorscale": [
             [
              0,
              "#0d0887"
             ],
             [
              0.1111111111111111,
              "#46039f"
             ],
             [
              0.2222222222222222,
              "#7201a8"
             ],
             [
              0.3333333333333333,
              "#9c179e"
             ],
             [
              0.4444444444444444,
              "#bd3786"
             ],
             [
              0.5555555555555556,
              "#d8576b"
             ],
             [
              0.6666666666666666,
              "#ed7953"
             ],
             [
              0.7777777777777778,
              "#fb9f3a"
             ],
             [
              0.8888888888888888,
              "#fdca26"
             ],
             [
              1,
              "#f0f921"
             ]
            ],
            "type": "histogram2d"
           }
          ],
          "histogram2dcontour": [
           {
            "colorbar": {
             "outlinewidth": 0,
             "ticks": ""
            },
            "colorscale": [
             [
              0,
              "#0d0887"
             ],
             [
              0.1111111111111111,
              "#46039f"
             ],
             [
              0.2222222222222222,
              "#7201a8"
             ],
             [
              0.3333333333333333,
              "#9c179e"
             ],
             [
              0.4444444444444444,
              "#bd3786"
             ],
             [
              0.5555555555555556,
              "#d8576b"
             ],
             [
              0.6666666666666666,
              "#ed7953"
             ],
             [
              0.7777777777777778,
              "#fb9f3a"
             ],
             [
              0.8888888888888888,
              "#fdca26"
             ],
             [
              1,
              "#f0f921"
             ]
            ],
            "type": "histogram2dcontour"
           }
          ],
          "mesh3d": [
           {
            "colorbar": {
             "outlinewidth": 0,
             "ticks": ""
            },
            "type": "mesh3d"
           }
          ],
          "parcoords": [
           {
            "line": {
             "colorbar": {
              "outlinewidth": 0,
              "ticks": ""
             }
            },
            "type": "parcoords"
           }
          ],
          "pie": [
           {
            "automargin": true,
            "type": "pie"
           }
          ],
          "scatter": [
           {
            "marker": {
             "colorbar": {
              "outlinewidth": 0,
              "ticks": ""
             }
            },
            "type": "scatter"
           }
          ],
          "scatter3d": [
           {
            "line": {
             "colorbar": {
              "outlinewidth": 0,
              "ticks": ""
             }
            },
            "marker": {
             "colorbar": {
              "outlinewidth": 0,
              "ticks": ""
             }
            },
            "type": "scatter3d"
           }
          ],
          "scattercarpet": [
           {
            "marker": {
             "colorbar": {
              "outlinewidth": 0,
              "ticks": ""
             }
            },
            "type": "scattercarpet"
           }
          ],
          "scattergeo": [
           {
            "marker": {
             "colorbar": {
              "outlinewidth": 0,
              "ticks": ""
             }
            },
            "type": "scattergeo"
           }
          ],
          "scattergl": [
           {
            "marker": {
             "colorbar": {
              "outlinewidth": 0,
              "ticks": ""
             }
            },
            "type": "scattergl"
           }
          ],
          "scattermapbox": [
           {
            "marker": {
             "colorbar": {
              "outlinewidth": 0,
              "ticks": ""
             }
            },
            "type": "scattermapbox"
           }
          ],
          "scatterpolar": [
           {
            "marker": {
             "colorbar": {
              "outlinewidth": 0,
              "ticks": ""
             }
            },
            "type": "scatterpolar"
           }
          ],
          "scatterpolargl": [
           {
            "marker": {
             "colorbar": {
              "outlinewidth": 0,
              "ticks": ""
             }
            },
            "type": "scatterpolargl"
           }
          ],
          "scatterternary": [
           {
            "marker": {
             "colorbar": {
              "outlinewidth": 0,
              "ticks": ""
             }
            },
            "type": "scatterternary"
           }
          ],
          "surface": [
           {
            "colorbar": {
             "outlinewidth": 0,
             "ticks": ""
            },
            "colorscale": [
             [
              0,
              "#0d0887"
             ],
             [
              0.1111111111111111,
              "#46039f"
             ],
             [
              0.2222222222222222,
              "#7201a8"
             ],
             [
              0.3333333333333333,
              "#9c179e"
             ],
             [
              0.4444444444444444,
              "#bd3786"
             ],
             [
              0.5555555555555556,
              "#d8576b"
             ],
             [
              0.6666666666666666,
              "#ed7953"
             ],
             [
              0.7777777777777778,
              "#fb9f3a"
             ],
             [
              0.8888888888888888,
              "#fdca26"
             ],
             [
              1,
              "#f0f921"
             ]
            ],
            "type": "surface"
           }
          ],
          "table": [
           {
            "cells": {
             "fill": {
              "color": "#EBF0F8"
             },
             "line": {
              "color": "white"
             }
            },
            "header": {
             "fill": {
              "color": "#C8D4E3"
             },
             "line": {
              "color": "white"
             }
            },
            "type": "table"
           }
          ]
         },
         "layout": {
          "annotationdefaults": {
           "arrowcolor": "#2a3f5f",
           "arrowhead": 0,
           "arrowwidth": 1
          },
          "autotypenumbers": "strict",
          "coloraxis": {
           "colorbar": {
            "outlinewidth": 0,
            "ticks": ""
           }
          },
          "colorscale": {
           "diverging": [
            [
             0,
             "#8e0152"
            ],
            [
             0.1,
             "#c51b7d"
            ],
            [
             0.2,
             "#de77ae"
            ],
            [
             0.3,
             "#f1b6da"
            ],
            [
             0.4,
             "#fde0ef"
            ],
            [
             0.5,
             "#f7f7f7"
            ],
            [
             0.6,
             "#e6f5d0"
            ],
            [
             0.7,
             "#b8e186"
            ],
            [
             0.8,
             "#7fbc41"
            ],
            [
             0.9,
             "#4d9221"
            ],
            [
             1,
             "#276419"
            ]
           ],
           "sequential": [
            [
             0,
             "#0d0887"
            ],
            [
             0.1111111111111111,
             "#46039f"
            ],
            [
             0.2222222222222222,
             "#7201a8"
            ],
            [
             0.3333333333333333,
             "#9c179e"
            ],
            [
             0.4444444444444444,
             "#bd3786"
            ],
            [
             0.5555555555555556,
             "#d8576b"
            ],
            [
             0.6666666666666666,
             "#ed7953"
            ],
            [
             0.7777777777777778,
             "#fb9f3a"
            ],
            [
             0.8888888888888888,
             "#fdca26"
            ],
            [
             1,
             "#f0f921"
            ]
           ],
           "sequentialminus": [
            [
             0,
             "#0d0887"
            ],
            [
             0.1111111111111111,
             "#46039f"
            ],
            [
             0.2222222222222222,
             "#7201a8"
            ],
            [
             0.3333333333333333,
             "#9c179e"
            ],
            [
             0.4444444444444444,
             "#bd3786"
            ],
            [
             0.5555555555555556,
             "#d8576b"
            ],
            [
             0.6666666666666666,
             "#ed7953"
            ],
            [
             0.7777777777777778,
             "#fb9f3a"
            ],
            [
             0.8888888888888888,
             "#fdca26"
            ],
            [
             1,
             "#f0f921"
            ]
           ]
          },
          "colorway": [
           "#636efa",
           "#EF553B",
           "#00cc96",
           "#ab63fa",
           "#FFA15A",
           "#19d3f3",
           "#FF6692",
           "#B6E880",
           "#FF97FF",
           "#FECB52"
          ],
          "font": {
           "color": "#2a3f5f"
          },
          "geo": {
           "bgcolor": "white",
           "lakecolor": "white",
           "landcolor": "#E5ECF6",
           "showlakes": true,
           "showland": true,
           "subunitcolor": "white"
          },
          "hoverlabel": {
           "align": "left"
          },
          "hovermode": "closest",
          "mapbox": {
           "style": "light"
          },
          "paper_bgcolor": "white",
          "plot_bgcolor": "#E5ECF6",
          "polar": {
           "angularaxis": {
            "gridcolor": "white",
            "linecolor": "white",
            "ticks": ""
           },
           "bgcolor": "#E5ECF6",
           "radialaxis": {
            "gridcolor": "white",
            "linecolor": "white",
            "ticks": ""
           }
          },
          "scene": {
           "xaxis": {
            "backgroundcolor": "#E5ECF6",
            "gridcolor": "white",
            "gridwidth": 2,
            "linecolor": "white",
            "showbackground": true,
            "ticks": "",
            "zerolinecolor": "white"
           },
           "yaxis": {
            "backgroundcolor": "#E5ECF6",
            "gridcolor": "white",
            "gridwidth": 2,
            "linecolor": "white",
            "showbackground": true,
            "ticks": "",
            "zerolinecolor": "white"
           },
           "zaxis": {
            "backgroundcolor": "#E5ECF6",
            "gridcolor": "white",
            "gridwidth": 2,
            "linecolor": "white",
            "showbackground": true,
            "ticks": "",
            "zerolinecolor": "white"
           }
          },
          "shapedefaults": {
           "line": {
            "color": "#2a3f5f"
           }
          },
          "ternary": {
           "aaxis": {
            "gridcolor": "white",
            "linecolor": "white",
            "ticks": ""
           },
           "baxis": {
            "gridcolor": "white",
            "linecolor": "white",
            "ticks": ""
           },
           "bgcolor": "#E5ECF6",
           "caxis": {
            "gridcolor": "white",
            "linecolor": "white",
            "ticks": ""
           }
          },
          "title": {
           "x": 0.05
          },
          "xaxis": {
           "automargin": true,
           "gridcolor": "white",
           "linecolor": "white",
           "ticks": "",
           "title": {
            "standoff": 15
           },
           "zerolinecolor": "white",
           "zerolinewidth": 2
          },
          "yaxis": {
           "automargin": true,
           "gridcolor": "white",
           "linecolor": "white",
           "ticks": "",
           "title": {
            "standoff": 15
           },
           "zerolinecolor": "white",
           "zerolinewidth": 2
          }
         }
        },
        "title": {
         "text": "Соотношение событий по их количеству"
        },
        "width": 600
       }
      },
      "text/html": [
       "<div>                            <div id=\"12642b14-af0b-47fe-b342-81f8c1138708\" class=\"plotly-graph-div\" style=\"height:400px; width:600px;\"></div>            <script type=\"text/javascript\">                require([\"plotly\"], function(Plotly) {                    window.PLOTLYENV=window.PLOTLYENV || {};                                    if (document.getElementById(\"12642b14-af0b-47fe-b342-81f8c1138708\")) {                    Plotly.newPlot(                        \"12642b14-af0b-47fe-b342-81f8c1138708\",                        [{\"hole\":0.5,\"labels\":[\"tips_show\",\"photos_show\",\"search\",\"advert_open\",\"contacts_show\",\"map\",\"favorites_add\",\"tips_click\",\"contacts_call\"],\"values\":[40055,10012,6784,6164,4529,3881,1417,814,541],\"type\":\"pie\"}],                        {\"template\":{\"data\":{\"bar\":[{\"error_x\":{\"color\":\"#2a3f5f\"},\"error_y\":{\"color\":\"#2a3f5f\"},\"marker\":{\"line\":{\"color\":\"#E5ECF6\",\"width\":0.5},\"pattern\":{\"fillmode\":\"overlay\",\"size\":10,\"solidity\":0.2}},\"type\":\"bar\"}],\"barpolar\":[{\"marker\":{\"line\":{\"color\":\"#E5ECF6\",\"width\":0.5},\"pattern\":{\"fillmode\":\"overlay\",\"size\":10,\"solidity\":0.2}},\"type\":\"barpolar\"}],\"carpet\":[{\"aaxis\":{\"endlinecolor\":\"#2a3f5f\",\"gridcolor\":\"white\",\"linecolor\":\"white\",\"minorgridcolor\":\"white\",\"startlinecolor\":\"#2a3f5f\"},\"baxis\":{\"endlinecolor\":\"#2a3f5f\",\"gridcolor\":\"white\",\"linecolor\":\"white\",\"minorgridcolor\":\"white\",\"startlinecolor\":\"#2a3f5f\"},\"type\":\"carpet\"}],\"choropleth\":[{\"colorbar\":{\"outlinewidth\":0,\"ticks\":\"\"},\"type\":\"choropleth\"}],\"contour\":[{\"colorbar\":{\"outlinewidth\":0,\"ticks\":\"\"},\"colorscale\":[[0.0,\"#0d0887\"],[0.1111111111111111,\"#46039f\"],[0.2222222222222222,\"#7201a8\"],[0.3333333333333333,\"#9c179e\"],[0.4444444444444444,\"#bd3786\"],[0.5555555555555556,\"#d8576b\"],[0.6666666666666666,\"#ed7953\"],[0.7777777777777778,\"#fb9f3a\"],[0.8888888888888888,\"#fdca26\"],[1.0,\"#f0f921\"]],\"type\":\"contour\"}],\"contourcarpet\":[{\"colorbar\":{\"outlinewidth\":0,\"ticks\":\"\"},\"type\":\"contourcarpet\"}],\"heatmap\":[{\"colorbar\":{\"outlinewidth\":0,\"ticks\":\"\"},\"colorscale\":[[0.0,\"#0d0887\"],[0.1111111111111111,\"#46039f\"],[0.2222222222222222,\"#7201a8\"],[0.3333333333333333,\"#9c179e\"],[0.4444444444444444,\"#bd3786\"],[0.5555555555555556,\"#d8576b\"],[0.6666666666666666,\"#ed7953\"],[0.7777777777777778,\"#fb9f3a\"],[0.8888888888888888,\"#fdca26\"],[1.0,\"#f0f921\"]],\"type\":\"heatmap\"}],\"heatmapgl\":[{\"colorbar\":{\"outlinewidth\":0,\"ticks\":\"\"},\"colorscale\":[[0.0,\"#0d0887\"],[0.1111111111111111,\"#46039f\"],[0.2222222222222222,\"#7201a8\"],[0.3333333333333333,\"#9c179e\"],[0.4444444444444444,\"#bd3786\"],[0.5555555555555556,\"#d8576b\"],[0.6666666666666666,\"#ed7953\"],[0.7777777777777778,\"#fb9f3a\"],[0.8888888888888888,\"#fdca26\"],[1.0,\"#f0f921\"]],\"type\":\"heatmapgl\"}],\"histogram\":[{\"marker\":{\"pattern\":{\"fillmode\":\"overlay\",\"size\":10,\"solidity\":0.2}},\"type\":\"histogram\"}],\"histogram2d\":[{\"colorbar\":{\"outlinewidth\":0,\"ticks\":\"\"},\"colorscale\":[[0.0,\"#0d0887\"],[0.1111111111111111,\"#46039f\"],[0.2222222222222222,\"#7201a8\"],[0.3333333333333333,\"#9c179e\"],[0.4444444444444444,\"#bd3786\"],[0.5555555555555556,\"#d8576b\"],[0.6666666666666666,\"#ed7953\"],[0.7777777777777778,\"#fb9f3a\"],[0.8888888888888888,\"#fdca26\"],[1.0,\"#f0f921\"]],\"type\":\"histogram2d\"}],\"histogram2dcontour\":[{\"colorbar\":{\"outlinewidth\":0,\"ticks\":\"\"},\"colorscale\":[[0.0,\"#0d0887\"],[0.1111111111111111,\"#46039f\"],[0.2222222222222222,\"#7201a8\"],[0.3333333333333333,\"#9c179e\"],[0.4444444444444444,\"#bd3786\"],[0.5555555555555556,\"#d8576b\"],[0.6666666666666666,\"#ed7953\"],[0.7777777777777778,\"#fb9f3a\"],[0.8888888888888888,\"#fdca26\"],[1.0,\"#f0f921\"]],\"type\":\"histogram2dcontour\"}],\"mesh3d\":[{\"colorbar\":{\"outlinewidth\":0,\"ticks\":\"\"},\"type\":\"mesh3d\"}],\"parcoords\":[{\"line\":{\"colorbar\":{\"outlinewidth\":0,\"ticks\":\"\"}},\"type\":\"parcoords\"}],\"pie\":[{\"automargin\":true,\"type\":\"pie\"}],\"scatter\":[{\"marker\":{\"colorbar\":{\"outlinewidth\":0,\"ticks\":\"\"}},\"type\":\"scatter\"}],\"scatter3d\":[{\"line\":{\"colorbar\":{\"outlinewidth\":0,\"ticks\":\"\"}},\"marker\":{\"colorbar\":{\"outlinewidth\":0,\"ticks\":\"\"}},\"type\":\"scatter3d\"}],\"scattercarpet\":[{\"marker\":{\"colorbar\":{\"outlinewidth\":0,\"ticks\":\"\"}},\"type\":\"scattercarpet\"}],\"scattergeo\":[{\"marker\":{\"colorbar\":{\"outlinewidth\":0,\"ticks\":\"\"}},\"type\":\"scattergeo\"}],\"scattergl\":[{\"marker\":{\"colorbar\":{\"outlinewidth\":0,\"ticks\":\"\"}},\"type\":\"scattergl\"}],\"scattermapbox\":[{\"marker\":{\"colorbar\":{\"outlinewidth\":0,\"ticks\":\"\"}},\"type\":\"scattermapbox\"}],\"scatterpolar\":[{\"marker\":{\"colorbar\":{\"outlinewidth\":0,\"ticks\":\"\"}},\"type\":\"scatterpolar\"}],\"scatterpolargl\":[{\"marker\":{\"colorbar\":{\"outlinewidth\":0,\"ticks\":\"\"}},\"type\":\"scatterpolargl\"}],\"scatterternary\":[{\"marker\":{\"colorbar\":{\"outlinewidth\":0,\"ticks\":\"\"}},\"type\":\"scatterternary\"}],\"surface\":[{\"colorbar\":{\"outlinewidth\":0,\"ticks\":\"\"},\"colorscale\":[[0.0,\"#0d0887\"],[0.1111111111111111,\"#46039f\"],[0.2222222222222222,\"#7201a8\"],[0.3333333333333333,\"#9c179e\"],[0.4444444444444444,\"#bd3786\"],[0.5555555555555556,\"#d8576b\"],[0.6666666666666666,\"#ed7953\"],[0.7777777777777778,\"#fb9f3a\"],[0.8888888888888888,\"#fdca26\"],[1.0,\"#f0f921\"]],\"type\":\"surface\"}],\"table\":[{\"cells\":{\"fill\":{\"color\":\"#EBF0F8\"},\"line\":{\"color\":\"white\"}},\"header\":{\"fill\":{\"color\":\"#C8D4E3\"},\"line\":{\"color\":\"white\"}},\"type\":\"table\"}]},\"layout\":{\"annotationdefaults\":{\"arrowcolor\":\"#2a3f5f\",\"arrowhead\":0,\"arrowwidth\":1},\"autotypenumbers\":\"strict\",\"coloraxis\":{\"colorbar\":{\"outlinewidth\":0,\"ticks\":\"\"}},\"colorscale\":{\"diverging\":[[0,\"#8e0152\"],[0.1,\"#c51b7d\"],[0.2,\"#de77ae\"],[0.3,\"#f1b6da\"],[0.4,\"#fde0ef\"],[0.5,\"#f7f7f7\"],[0.6,\"#e6f5d0\"],[0.7,\"#b8e186\"],[0.8,\"#7fbc41\"],[0.9,\"#4d9221\"],[1,\"#276419\"]],\"sequential\":[[0.0,\"#0d0887\"],[0.1111111111111111,\"#46039f\"],[0.2222222222222222,\"#7201a8\"],[0.3333333333333333,\"#9c179e\"],[0.4444444444444444,\"#bd3786\"],[0.5555555555555556,\"#d8576b\"],[0.6666666666666666,\"#ed7953\"],[0.7777777777777778,\"#fb9f3a\"],[0.8888888888888888,\"#fdca26\"],[1.0,\"#f0f921\"]],\"sequentialminus\":[[0.0,\"#0d0887\"],[0.1111111111111111,\"#46039f\"],[0.2222222222222222,\"#7201a8\"],[0.3333333333333333,\"#9c179e\"],[0.4444444444444444,\"#bd3786\"],[0.5555555555555556,\"#d8576b\"],[0.6666666666666666,\"#ed7953\"],[0.7777777777777778,\"#fb9f3a\"],[0.8888888888888888,\"#fdca26\"],[1.0,\"#f0f921\"]]},\"colorway\":[\"#636efa\",\"#EF553B\",\"#00cc96\",\"#ab63fa\",\"#FFA15A\",\"#19d3f3\",\"#FF6692\",\"#B6E880\",\"#FF97FF\",\"#FECB52\"],\"font\":{\"color\":\"#2a3f5f\"},\"geo\":{\"bgcolor\":\"white\",\"lakecolor\":\"white\",\"landcolor\":\"#E5ECF6\",\"showlakes\":true,\"showland\":true,\"subunitcolor\":\"white\"},\"hoverlabel\":{\"align\":\"left\"},\"hovermode\":\"closest\",\"mapbox\":{\"style\":\"light\"},\"paper_bgcolor\":\"white\",\"plot_bgcolor\":\"#E5ECF6\",\"polar\":{\"angularaxis\":{\"gridcolor\":\"white\",\"linecolor\":\"white\",\"ticks\":\"\"},\"bgcolor\":\"#E5ECF6\",\"radialaxis\":{\"gridcolor\":\"white\",\"linecolor\":\"white\",\"ticks\":\"\"}},\"scene\":{\"xaxis\":{\"backgroundcolor\":\"#E5ECF6\",\"gridcolor\":\"white\",\"gridwidth\":2,\"linecolor\":\"white\",\"showbackground\":true,\"ticks\":\"\",\"zerolinecolor\":\"white\"},\"yaxis\":{\"backgroundcolor\":\"#E5ECF6\",\"gridcolor\":\"white\",\"gridwidth\":2,\"linecolor\":\"white\",\"showbackground\":true,\"ticks\":\"\",\"zerolinecolor\":\"white\"},\"zaxis\":{\"backgroundcolor\":\"#E5ECF6\",\"gridcolor\":\"white\",\"gridwidth\":2,\"linecolor\":\"white\",\"showbackground\":true,\"ticks\":\"\",\"zerolinecolor\":\"white\"}},\"shapedefaults\":{\"line\":{\"color\":\"#2a3f5f\"}},\"ternary\":{\"aaxis\":{\"gridcolor\":\"white\",\"linecolor\":\"white\",\"ticks\":\"\"},\"baxis\":{\"gridcolor\":\"white\",\"linecolor\":\"white\",\"ticks\":\"\"},\"bgcolor\":\"#E5ECF6\",\"caxis\":{\"gridcolor\":\"white\",\"linecolor\":\"white\",\"ticks\":\"\"}},\"title\":{\"x\":0.05},\"xaxis\":{\"automargin\":true,\"gridcolor\":\"white\",\"linecolor\":\"white\",\"ticks\":\"\",\"title\":{\"standoff\":15},\"zerolinecolor\":\"white\",\"zerolinewidth\":2},\"yaxis\":{\"automargin\":true,\"gridcolor\":\"white\",\"linecolor\":\"white\",\"ticks\":\"\",\"title\":{\"standoff\":15},\"zerolinecolor\":\"white\",\"zerolinewidth\":2}}},\"title\":{\"text\":\"\\u0421\\u043e\\u043e\\u0442\\u043d\\u043e\\u0448\\u0435\\u043d\\u0438\\u0435 \\u0441\\u043e\\u0431\\u044b\\u0442\\u0438\\u0439 \\u043f\\u043e \\u0438\\u0445 \\u043a\\u043e\\u043b\\u0438\\u0447\\u0435\\u0441\\u0442\\u0432\\u0443\"},\"margin\":{\"l\":30,\"r\":30,\"t\":70,\"b\":30},\"width\":600,\"height\":400},                        {\"responsive\": true}                    ).then(function(){\n",
       "                            \n",
       "var gd = document.getElementById('12642b14-af0b-47fe-b342-81f8c1138708');\n",
       "var x = new MutationObserver(function (mutations, observer) {{\n",
       "        var display = window.getComputedStyle(gd).display;\n",
       "        if (!display || display === 'none') {{\n",
       "            console.log([gd, 'removed!']);\n",
       "            Plotly.purge(gd);\n",
       "            observer.disconnect();\n",
       "        }}\n",
       "}});\n",
       "\n",
       "// Listen for the removal of the full notebook cells\n",
       "var notebookContainer = gd.closest('#notebook-container');\n",
       "if (notebookContainer) {{\n",
       "    x.observe(notebookContainer, {childList: true});\n",
       "}}\n",
       "\n",
       "// Listen for the clearing of the current output cell\n",
       "var outputEl = gd.closest('.output');\n",
       "if (outputEl) {{\n",
       "    x.observe(outputEl, {childList: true});\n",
       "}}\n",
       "\n",
       "                        })                };                });            </script>        </div>"
      ]
     },
     "metadata": {},
     "output_type": "display_data"
    }
   ],
   "source": [
    "values = mobile_dataset['event_name'].value_counts()\n",
    "labels = mobile_dataset['event_name'].value_counts().index\n",
    "\n",
    "fig = go.Figure()\n",
    "fig = go.Figure(data=[go.Pie(labels=labels, values=values, hole=.5)], \n",
    "               layout_title_text='Соотношение событий по их количеству')\n",
    "\n",
    "fig.update_layout(margin=dict(l=30, r=30, t=70, b=30))\n",
    "fig.update_layout(width=600, height=400)\n",
    "fig.show()"
   ]
  },
  {
   "cell_type": "markdown",
   "id": "ae523c52",
   "metadata": {},
   "source": [
    "**Вывод.**  \n",
    "\n",
    "В ходе исследовательского анализа подтвердилось, что в обеих таблицах корректные данные. Данные предоставлены за период с 7 октября 2019 г. по 3 ноября 2019 г. включительно. Имеется три источника из которых установлено приложение: Yandex, Google, Other. Самый популярный Yandex - 45% переходов. Самым популярным действием в приложении является \"tips_show\" (показ рекомендованного объявления) - 54% от общего количества, следом идут просмотр фотографий и поиск по сайту - 13,5% и 9,1% соответственно."
   ]
  },
  {
   "cell_type": "markdown",
   "id": "e74ae81b",
   "metadata": {},
   "source": [
    "## Анализ действий пользователей в приложении."
   ]
  },
  {
   "cell_type": "markdown",
   "id": "413df0dc",
   "metadata": {},
   "source": [
    "Для удобства дальнейшей работы, с помощью метода `merge()` объединим оба датафрейма в один. Объединенный датафрейм сохраним в переменной df."
   ]
  },
  {
   "cell_type": "code",
   "execution_count": 34,
   "id": "13de99cb",
   "metadata": {},
   "outputs": [
    {
     "data": {
      "text/html": [
       "<div>\n",
       "<style scoped>\n",
       "    .dataframe tbody tr th:only-of-type {\n",
       "        vertical-align: middle;\n",
       "    }\n",
       "\n",
       "    .dataframe tbody tr th {\n",
       "        vertical-align: top;\n",
       "    }\n",
       "\n",
       "    .dataframe thead th {\n",
       "        text-align: right;\n",
       "    }\n",
       "</style>\n",
       "<table border=\"1\" class=\"dataframe\">\n",
       "  <thead>\n",
       "    <tr style=\"text-align: right;\">\n",
       "      <th></th>\n",
       "      <th>event_time</th>\n",
       "      <th>event_name</th>\n",
       "      <th>user_id</th>\n",
       "      <th>source</th>\n",
       "    </tr>\n",
       "  </thead>\n",
       "  <tbody>\n",
       "    <tr>\n",
       "      <th>0</th>\n",
       "      <td>2019-10-07 00:00:00.431357</td>\n",
       "      <td>advert_open</td>\n",
       "      <td>020292ab-89bc-4156-9acf-68bc2783f894</td>\n",
       "      <td>other</td>\n",
       "    </tr>\n",
       "    <tr>\n",
       "      <th>1</th>\n",
       "      <td>2019-10-07 00:00:01.236320</td>\n",
       "      <td>tips_show</td>\n",
       "      <td>020292ab-89bc-4156-9acf-68bc2783f894</td>\n",
       "      <td>other</td>\n",
       "    </tr>\n",
       "    <tr>\n",
       "      <th>2</th>\n",
       "      <td>2019-10-07 00:00:02.245341</td>\n",
       "      <td>tips_show</td>\n",
       "      <td>cf7eda61-9349-469f-ac27-e5b6f5ec475c</td>\n",
       "      <td>yandex</td>\n",
       "    </tr>\n",
       "    <tr>\n",
       "      <th>3</th>\n",
       "      <td>2019-10-07 00:00:07.039334</td>\n",
       "      <td>tips_show</td>\n",
       "      <td>020292ab-89bc-4156-9acf-68bc2783f894</td>\n",
       "      <td>other</td>\n",
       "    </tr>\n",
       "    <tr>\n",
       "      <th>4</th>\n",
       "      <td>2019-10-07 00:00:56.319813</td>\n",
       "      <td>advert_open</td>\n",
       "      <td>cf7eda61-9349-469f-ac27-e5b6f5ec475c</td>\n",
       "      <td>yandex</td>\n",
       "    </tr>\n",
       "  </tbody>\n",
       "</table>\n",
       "</div>"
      ],
      "text/plain": [
       "                  event_time   event_name  \\\n",
       "0 2019-10-07 00:00:00.431357  advert_open   \n",
       "1 2019-10-07 00:00:01.236320    tips_show   \n",
       "2 2019-10-07 00:00:02.245341    tips_show   \n",
       "3 2019-10-07 00:00:07.039334    tips_show   \n",
       "4 2019-10-07 00:00:56.319813  advert_open   \n",
       "\n",
       "                                user_id  source  \n",
       "0  020292ab-89bc-4156-9acf-68bc2783f894   other  \n",
       "1  020292ab-89bc-4156-9acf-68bc2783f894   other  \n",
       "2  cf7eda61-9349-469f-ac27-e5b6f5ec475c  yandex  \n",
       "3  020292ab-89bc-4156-9acf-68bc2783f894   other  \n",
       "4  cf7eda61-9349-469f-ac27-e5b6f5ec475c  yandex  "
      ]
     },
     "execution_count": 34,
     "metadata": {},
     "output_type": "execute_result"
    }
   ],
   "source": [
    "df = mobile_dataset.merge(mobile_sourсes, on='user_id', how='left')\n",
    "df.head()"
   ]
  },
  {
   "cell_type": "markdown",
   "id": "014fc521",
   "metadata": {},
   "source": [
    "### Общий анализ событий."
   ]
  },
  {
   "cell_type": "markdown",
   "id": "7a3f1931",
   "metadata": {},
   "source": [
    "**Рассмотрим распределение событий по пользователям и по времени.**  \n",
    "\n",
    "Посмотрим, какая доля уникальных пользователей совершила каждое из событий."
   ]
  },
  {
   "cell_type": "code",
   "execution_count": 35,
   "id": "22dd6bee",
   "metadata": {
    "scrolled": true
   },
   "outputs": [
    {
     "data": {
      "text/html": [
       "<div>\n",
       "<style scoped>\n",
       "    .dataframe tbody tr th:only-of-type {\n",
       "        vertical-align: middle;\n",
       "    }\n",
       "\n",
       "    .dataframe tbody tr th {\n",
       "        vertical-align: top;\n",
       "    }\n",
       "\n",
       "    .dataframe thead th {\n",
       "        text-align: right;\n",
       "    }\n",
       "</style>\n",
       "<table border=\"1\" class=\"dataframe\">\n",
       "  <thead>\n",
       "    <tr style=\"text-align: right;\">\n",
       "      <th></th>\n",
       "      <th>event_name</th>\n",
       "      <th>users_frac</th>\n",
       "    </tr>\n",
       "  </thead>\n",
       "  <tbody>\n",
       "    <tr>\n",
       "      <th>0</th>\n",
       "      <td>advert_open</td>\n",
       "      <td>17.5</td>\n",
       "    </tr>\n",
       "    <tr>\n",
       "      <th>1</th>\n",
       "      <td>contacts_call</td>\n",
       "      <td>5.0</td>\n",
       "    </tr>\n",
       "    <tr>\n",
       "      <th>2</th>\n",
       "      <td>contacts_show</td>\n",
       "      <td>22.9</td>\n",
       "    </tr>\n",
       "    <tr>\n",
       "      <th>3</th>\n",
       "      <td>favorites_add</td>\n",
       "      <td>8.2</td>\n",
       "    </tr>\n",
       "    <tr>\n",
       "      <th>4</th>\n",
       "      <td>map</td>\n",
       "      <td>33.9</td>\n",
       "    </tr>\n",
       "    <tr>\n",
       "      <th>5</th>\n",
       "      <td>photos_show</td>\n",
       "      <td>25.5</td>\n",
       "    </tr>\n",
       "    <tr>\n",
       "      <th>6</th>\n",
       "      <td>search</td>\n",
       "      <td>38.8</td>\n",
       "    </tr>\n",
       "    <tr>\n",
       "      <th>7</th>\n",
       "      <td>tips_click</td>\n",
       "      <td>7.5</td>\n",
       "    </tr>\n",
       "    <tr>\n",
       "      <th>8</th>\n",
       "      <td>tips_show</td>\n",
       "      <td>65.2</td>\n",
       "    </tr>\n",
       "  </tbody>\n",
       "</table>\n",
       "</div>"
      ],
      "text/plain": [
       "      event_name  users_frac\n",
       "0    advert_open        17.5\n",
       "1  contacts_call         5.0\n",
       "2  contacts_show        22.9\n",
       "3  favorites_add         8.2\n",
       "4            map        33.9\n",
       "5    photos_show        25.5\n",
       "6         search        38.8\n",
       "7     tips_click         7.5\n",
       "8      tips_show        65.2"
      ]
     },
     "execution_count": 35,
     "metadata": {},
     "output_type": "execute_result"
    }
   ],
   "source": [
    "users_by_events = df.groupby('event_name').agg({'user_id': 'nunique'}) / len(df['user_id'].unique()) * 100\n",
    "users_by_events = users_by_events.reset_index()\n",
    "users_by_events.columns = ['event_name', 'users_frac']\n",
    "users_by_events['users_frac'] = round(users_by_events['users_frac'], 1)\n",
    "users_by_events"
   ]
  },
  {
   "cell_type": "markdown",
   "id": "0fb3e010",
   "metadata": {},
   "source": [
    "Визуализируем полученные данные."
   ]
  },
  {
   "cell_type": "code",
   "execution_count": 36,
   "id": "d61ece0a",
   "metadata": {},
   "outputs": [
    {
     "data": {
      "image/png": "[encoded data removed]",
      "text/plain": [
       "<Figure size 1440x720 with 1 Axes>"
      ]
     },
     "metadata": {},
     "output_type": "display_data"
    }
   ],
   "source": [
    "e = sns.barplot(y=('users_frac'), x='event_name', \n",
    "                data=users_by_events.sort_values(by='users_frac', ascending=False),\n",
    "                palette='rainbow')\n",
    "sns.set(font_scale=1.5)\n",
    "e.bar_label(e.containers[0])\n",
    "plt.xlabel('Событие', fontsize=17)\n",
    "plt.grid()\n",
    "plt.ylabel('Доля, %', fontsize=17)\n",
    "plt.title('Доли уникальных пользователей по событиям', fontsize=20)\n",
    "plt.show()"
   ]
  },
  {
   "cell_type": "markdown",
   "id": "6144b214",
   "metadata": {},
   "source": [
    "Основная доля пользователей совершает просмотр рекомендованных объявлений, но это действие автоматическое, а среди целенаправленных действий пользователей лидируют поисковые запросы, просмотр карты объявлений и просмотр фотографий в объявлении.\n",
    "\n",
    "Узнаем сколько в среднем событий приходится на пользователя.  \n",
    "\n",
    "Нам известно, что в датасете содержится информация о 4293 уникальном пользователе. Посчитаем, сколько пользователей в среднем пользуется приложением в день и в неделю. Для этого рассчитаем следующие метрики:\n",
    "- DAU (daily active users) — количество уникальных пользователей в день\n",
    "- WAU (weekly active users) — количество уникальных пользователей в неделю.  \n",
    "\n",
    "Добавим в датафрейме столбцы с датой и неделей события, и найдем значения метрик."
   ]
  },
  {
   "cell_type": "code",
   "execution_count": 37,
   "id": "a3aec0d8",
   "metadata": {},
   "outputs": [],
   "source": [
    "df['event_date'] = df['event_time'].dt.date.astype('datetime64')\n",
    "df['event_week'] = df['event_time'].dt.week"
   ]
  },
  {
   "cell_type": "code",
   "execution_count": 38,
   "id": "8bdb2076",
   "metadata": {
    "scrolled": true
   },
   "outputs": [
    {
     "name": "stdout",
     "output_type": "stream",
     "text": [
      "DAU = 279\n",
      "WAU = 1382\n"
     ]
    }
   ],
   "source": [
    "DAU = round(df.groupby('event_date').agg({'user_id': 'nunique'})['user_id'].mean())\n",
    "WAU = round(df.groupby(['event_week']).agg({'user_id': 'nunique'})['user_id'].mean())\n",
    "print('DAU =', DAU)\n",
    "print('WAU =', WAU)"
   ]
  },
  {
   "cell_type": "markdown",
   "id": "bbad0074",
   "metadata": {},
   "source": [
    "Посмотрим на степень вовлеченности пользователей."
   ]
  },
  {
   "cell_type": "code",
   "execution_count": 39,
   "id": "f129e208",
   "metadata": {},
   "outputs": [
    {
     "data": {
      "text/plain": [
       "20.19"
      ]
     },
     "execution_count": 39,
     "metadata": {},
     "output_type": "execute_result"
    }
   ],
   "source": [
    "sticky_factor = round(DAU / WAU * 100, 2)\n",
    "sticky_factor"
   ]
  },
  {
   "cell_type": "markdown",
   "id": "1d0d29eb",
   "metadata": {},
   "source": [
    "Рассчитанная степень вовлечённости показывает, что клиенты не очень часто возвращаются в приложение в течение недели.  \n",
    "\n",
    "Посчитаем среднее количество событий на пользователя в день и в неделю."
   ]
  },
  {
   "cell_type": "code",
   "execution_count": 40,
   "id": "1c826397",
   "metadata": {
    "scrolled": true
   },
   "outputs": [
    {
     "name": "stdout",
     "output_type": "stream",
     "text": [
      "Среднее количество событий на пользователя в день равняется 4\n",
      "Среднее количество событий на пользователя в неделю равняется 6\n"
     ]
    }
   ],
   "source": [
    "avg_event_day = round(df.query('event_name != \"tips_show\"')\n",
    "                      .groupby('event_date')\n",
    "                      .agg({'user_id': 'count'})['user_id'].mean() / DAU)\n",
    "avg_event_week = round(df.query('event_name != \"tips_show\"')\n",
    "                       .groupby('event_week')\n",
    "                       .agg({'user_id': 'count'})['user_id'].mean() / WAU)\n",
    "print(f'Среднее количество событий на пользователя в день равняется {avg_event_day}')\n",
    "print(f'Среднее количество событий на пользователя в неделю равняется {avg_event_week}')"
   ]
  },
  {
   "cell_type": "markdown",
   "id": "46a9b2c9",
   "metadata": {},
   "source": [
    "По пользователям можно сделать такой вывод: в среднем в день приложением пользуются 279 пользователей, каждый из которых в среднем совершает по 4 активных события. В неделю приложением в среднем пользуются 1382 пользователя. В неделю каждый пользователь в среднем совершает 6 событий."
   ]
  },
  {
   "cell_type": "markdown",
   "id": "478d1895",
   "metadata": {},
   "source": [
    "С помощью гистограммы посмотрим на распределение событий по времени."
   ]
  },
  {
   "cell_type": "code",
   "execution_count": 41,
   "id": "1bf13c3c",
   "metadata": {
    "scrolled": false
   },
   "outputs": [
    {
     "data": {
      "image/png": "[encoded data removed]",
      "text/plain": [
       "<Figure size 1080x360 with 1 Axes>"
      ]
     },
     "metadata": {},
     "output_type": "display_data"
    }
   ],
   "source": [
    "plt.figure(figsize=(15,5))\n",
    "plt.hist(df['event_time'], bins=100) \n",
    "plt.xlabel('Дата')\n",
    "plt.xticks(rotation=45)\n",
    "plt.ylabel('Количество событий')\n",
    "plt.title('Распределение событий по времени');"
   ]
  },
  {
   "cell_type": "code",
   "execution_count": 42,
   "id": "a3dade39",
   "metadata": {},
   "outputs": [
    {
     "data": {
      "image/png": "[encoded data removed]",
      "text/plain": [
       "<Figure size 1080x360 with 1 Axes>"
      ]
     },
     "metadata": {},
     "output_type": "display_data"
    }
   ],
   "source": [
    "plt.figure(figsize=(15,5))\n",
    "plt.hist(df['event_date'], bins=100, color='r')\n",
    "plt.grid()\n",
    "plt.xlabel('Дата')\n",
    "plt.xticks(rotation=45)\n",
    "plt.ylabel('Количество событий')\n",
    "plt.title('Распределение событий по дням');"
   ]
  },
  {
   "cell_type": "markdown",
   "id": "0519ec18",
   "metadata": {},
   "source": [
    "Данные имеют равномерное распределение. Как видно из графика, активность пользователей незначительно уменьшается к выходным дням: 12, 13, 19, 20, 26, 27 октября и 2 ноября.  \n",
    "\n",
    "Узнаем сколько времени в среднем проводит пользователь в приложении, а также выделим пользовательские сессии.\n",
    "\n",
    "Для начала рассчитаем сколько времени проходит между событиями и посмотрим на это распределение, для того чтобы выделить пользовательские сессии."
   ]
  },
  {
   "cell_type": "code",
   "execution_count": 43,
   "id": "6292eacf",
   "metadata": {},
   "outputs": [
    {
     "data": {
      "text/html": [
       "<div>\n",
       "<style scoped>\n",
       "    .dataframe tbody tr th:only-of-type {\n",
       "        vertical-align: middle;\n",
       "    }\n",
       "\n",
       "    .dataframe tbody tr th {\n",
       "        vertical-align: top;\n",
       "    }\n",
       "\n",
       "    .dataframe thead th {\n",
       "        text-align: right;\n",
       "    }\n",
       "</style>\n",
       "<table border=\"1\" class=\"dataframe\">\n",
       "  <thead>\n",
       "    <tr style=\"text-align: right;\">\n",
       "      <th></th>\n",
       "      <th>event_time</th>\n",
       "      <th>event_name</th>\n",
       "      <th>user_id</th>\n",
       "      <th>source</th>\n",
       "      <th>event_date</th>\n",
       "      <th>event_week</th>\n",
       "      <th>diff</th>\n",
       "    </tr>\n",
       "  </thead>\n",
       "  <tbody>\n",
       "    <tr>\n",
       "      <th>0</th>\n",
       "      <td>2019-10-07 13:39:45.989359</td>\n",
       "      <td>tips_show</td>\n",
       "      <td>0001b1d5-b74a-4cbf-aeb0-7df5947bf349</td>\n",
       "      <td>other</td>\n",
       "      <td>2019-10-07</td>\n",
       "      <td>41</td>\n",
       "      <td>NaT</td>\n",
       "    </tr>\n",
       "    <tr>\n",
       "      <th>1</th>\n",
       "      <td>2019-10-07 13:40:31.052909</td>\n",
       "      <td>tips_show</td>\n",
       "      <td>0001b1d5-b74a-4cbf-aeb0-7df5947bf349</td>\n",
       "      <td>other</td>\n",
       "      <td>2019-10-07</td>\n",
       "      <td>41</td>\n",
       "      <td>0 days 00:00:45.063550</td>\n",
       "    </tr>\n",
       "    <tr>\n",
       "      <th>2</th>\n",
       "      <td>2019-10-07 13:41:05.722489</td>\n",
       "      <td>tips_show</td>\n",
       "      <td>0001b1d5-b74a-4cbf-aeb0-7df5947bf349</td>\n",
       "      <td>other</td>\n",
       "      <td>2019-10-07</td>\n",
       "      <td>41</td>\n",
       "      <td>0 days 00:00:34.669580</td>\n",
       "    </tr>\n",
       "    <tr>\n",
       "      <th>3</th>\n",
       "      <td>2019-10-07 13:43:20.735461</td>\n",
       "      <td>tips_show</td>\n",
       "      <td>0001b1d5-b74a-4cbf-aeb0-7df5947bf349</td>\n",
       "      <td>other</td>\n",
       "      <td>2019-10-07</td>\n",
       "      <td>41</td>\n",
       "      <td>0 days 00:02:15.012972</td>\n",
       "    </tr>\n",
       "    <tr>\n",
       "      <th>4</th>\n",
       "      <td>2019-10-07 13:45:30.917502</td>\n",
       "      <td>tips_show</td>\n",
       "      <td>0001b1d5-b74a-4cbf-aeb0-7df5947bf349</td>\n",
       "      <td>other</td>\n",
       "      <td>2019-10-07</td>\n",
       "      <td>41</td>\n",
       "      <td>0 days 00:02:10.182041</td>\n",
       "    </tr>\n",
       "    <tr>\n",
       "      <th>5</th>\n",
       "      <td>2019-10-07 13:45:43.212340</td>\n",
       "      <td>tips_show</td>\n",
       "      <td>0001b1d5-b74a-4cbf-aeb0-7df5947bf349</td>\n",
       "      <td>other</td>\n",
       "      <td>2019-10-07</td>\n",
       "      <td>41</td>\n",
       "      <td>0 days 00:00:12.294838</td>\n",
       "    </tr>\n",
       "    <tr>\n",
       "      <th>6</th>\n",
       "      <td>2019-10-07 13:46:31.033718</td>\n",
       "      <td>tips_show</td>\n",
       "      <td>0001b1d5-b74a-4cbf-aeb0-7df5947bf349</td>\n",
       "      <td>other</td>\n",
       "      <td>2019-10-07</td>\n",
       "      <td>41</td>\n",
       "      <td>0 days 00:00:47.821378</td>\n",
       "    </tr>\n",
       "    <tr>\n",
       "      <th>7</th>\n",
       "      <td>2019-10-07 13:47:32.860234</td>\n",
       "      <td>tips_show</td>\n",
       "      <td>0001b1d5-b74a-4cbf-aeb0-7df5947bf349</td>\n",
       "      <td>other</td>\n",
       "      <td>2019-10-07</td>\n",
       "      <td>41</td>\n",
       "      <td>0 days 00:01:01.826516</td>\n",
       "    </tr>\n",
       "    <tr>\n",
       "      <th>8</th>\n",
       "      <td>2019-10-07 13:49:41.716617</td>\n",
       "      <td>tips_show</td>\n",
       "      <td>0001b1d5-b74a-4cbf-aeb0-7df5947bf349</td>\n",
       "      <td>other</td>\n",
       "      <td>2019-10-07</td>\n",
       "      <td>41</td>\n",
       "      <td>0 days 00:02:08.856383</td>\n",
       "    </tr>\n",
       "    <tr>\n",
       "      <th>9</th>\n",
       "      <td>2019-10-09 18:33:55.577963</td>\n",
       "      <td>map</td>\n",
       "      <td>0001b1d5-b74a-4cbf-aeb0-7df5947bf349</td>\n",
       "      <td>other</td>\n",
       "      <td>2019-10-09</td>\n",
       "      <td>41</td>\n",
       "      <td>2 days 04:44:13.861346</td>\n",
       "    </tr>\n",
       "  </tbody>\n",
       "</table>\n",
       "</div>"
      ],
      "text/plain": [
       "                  event_time event_name                               user_id  \\\n",
       "0 2019-10-07 13:39:45.989359  tips_show  0001b1d5-b74a-4cbf-aeb0-7df5947bf349   \n",
       "1 2019-10-07 13:40:31.052909  tips_show  0001b1d5-b74a-4cbf-aeb0-7df5947bf349   \n",
       "2 2019-10-07 13:41:05.722489  tips_show  0001b1d5-b74a-4cbf-aeb0-7df5947bf349   \n",
       "3 2019-10-07 13:43:20.735461  tips_show  0001b1d5-b74a-4cbf-aeb0-7df5947bf349   \n",
       "4 2019-10-07 13:45:30.917502  tips_show  0001b1d5-b74a-4cbf-aeb0-7df5947bf349   \n",
       "5 2019-10-07 13:45:43.212340  tips_show  0001b1d5-b74a-4cbf-aeb0-7df5947bf349   \n",
       "6 2019-10-07 13:46:31.033718  tips_show  0001b1d5-b74a-4cbf-aeb0-7df5947bf349   \n",
       "7 2019-10-07 13:47:32.860234  tips_show  0001b1d5-b74a-4cbf-aeb0-7df5947bf349   \n",
       "8 2019-10-07 13:49:41.716617  tips_show  0001b1d5-b74a-4cbf-aeb0-7df5947bf349   \n",
       "9 2019-10-09 18:33:55.577963        map  0001b1d5-b74a-4cbf-aeb0-7df5947bf349   \n",
       "\n",
       "  source event_date  event_week                   diff  \n",
       "0  other 2019-10-07          41                    NaT  \n",
       "1  other 2019-10-07          41 0 days 00:00:45.063550  \n",
       "2  other 2019-10-07          41 0 days 00:00:34.669580  \n",
       "3  other 2019-10-07          41 0 days 00:02:15.012972  \n",
       "4  other 2019-10-07          41 0 days 00:02:10.182041  \n",
       "5  other 2019-10-07          41 0 days 00:00:12.294838  \n",
       "6  other 2019-10-07          41 0 days 00:00:47.821378  \n",
       "7  other 2019-10-07          41 0 days 00:01:01.826516  \n",
       "8  other 2019-10-07          41 0 days 00:02:08.856383  \n",
       "9  other 2019-10-09          41 2 days 04:44:13.861346  "
      ]
     },
     "metadata": {},
     "output_type": "display_data"
    }
   ],
   "source": [
    "time = df.sort_values(['user_id', 'event_time'])\n",
    "time['diff'] = time.groupby('user_id')['event_time'].diff(1)\n",
    "time = time.reset_index().drop(columns=['index'])\n",
    "display(time.head(10))"
   ]
  },
  {
   "cell_type": "code",
   "execution_count": 44,
   "id": "773f3e02",
   "metadata": {},
   "outputs": [
    {
     "data": {
      "image/png": "[encoded data removed]",
      "text/plain": [
       "<Figure size 1080x360 with 1 Axes>"
      ]
     },
     "metadata": {},
     "output_type": "display_data"
    }
   ],
   "source": [
    "plt.figure(figsize=(15,5))\n",
    "plt.title('Распределение времени между событиями', fontsize=14)\n",
    "((time['diff'].dropna().dt.total_seconds()) / 60).astype('int').hist(bins=12000)\n",
    "plt.xlabel('Временной промежуток между событиями', fontsize=11)\n",
    "plt.ylabel('Количество событий', fontsize=11)\n",
    "plt.xlim(0, 30);"
   ]
  },
  {
   "cell_type": "markdown",
   "id": "9df7b426",
   "metadata": {},
   "source": [
    "Проанализировав гистограмму, примем время сессии для пользователя - 20 минут (1200 секунд)."
   ]
  },
  {
   "cell_type": "code",
   "execution_count": 45,
   "id": "b558cc4c",
   "metadata": {},
   "outputs": [
    {
     "name": "stdout",
     "output_type": "stream",
     "text": [
      "Количество сессий равно 10975\n"
     ]
    },
    {
     "data": {
      "text/html": [
       "<div>\n",
       "<style scoped>\n",
       "    .dataframe tbody tr th:only-of-type {\n",
       "        vertical-align: middle;\n",
       "    }\n",
       "\n",
       "    .dataframe tbody tr th {\n",
       "        vertical-align: top;\n",
       "    }\n",
       "\n",
       "    .dataframe thead th {\n",
       "        text-align: right;\n",
       "    }\n",
       "</style>\n",
       "<table border=\"1\" class=\"dataframe\">\n",
       "  <thead>\n",
       "    <tr style=\"text-align: right;\">\n",
       "      <th></th>\n",
       "      <th>event_time</th>\n",
       "      <th>event_name</th>\n",
       "      <th>user_id</th>\n",
       "      <th>source</th>\n",
       "      <th>event_date</th>\n",
       "      <th>event_week</th>\n",
       "      <th>diff</th>\n",
       "      <th>session_id</th>\n",
       "    </tr>\n",
       "  </thead>\n",
       "  <tbody>\n",
       "    <tr>\n",
       "      <th>0</th>\n",
       "      <td>2019-10-07 13:39:45.989359</td>\n",
       "      <td>tips_show</td>\n",
       "      <td>0001b1d5-b74a-4cbf-aeb0-7df5947bf349</td>\n",
       "      <td>other</td>\n",
       "      <td>2019-10-07</td>\n",
       "      <td>41</td>\n",
       "      <td>NaT</td>\n",
       "      <td>0</td>\n",
       "    </tr>\n",
       "    <tr>\n",
       "      <th>9</th>\n",
       "      <td>2019-10-09 18:33:55.577963</td>\n",
       "      <td>map</td>\n",
       "      <td>0001b1d5-b74a-4cbf-aeb0-7df5947bf349</td>\n",
       "      <td>other</td>\n",
       "      <td>2019-10-09</td>\n",
       "      <td>41</td>\n",
       "      <td>2 days 04:44:13.861346</td>\n",
       "      <td>9</td>\n",
       "    </tr>\n",
       "    <tr>\n",
       "      <th>13</th>\n",
       "      <td>2019-10-21 19:52:30.778932</td>\n",
       "      <td>tips_show</td>\n",
       "      <td>0001b1d5-b74a-4cbf-aeb0-7df5947bf349</td>\n",
       "      <td>other</td>\n",
       "      <td>2019-10-21</td>\n",
       "      <td>43</td>\n",
       "      <td>12 days 01:10:07.814984</td>\n",
       "      <td>13</td>\n",
       "    </tr>\n",
       "    <tr>\n",
       "      <th>27</th>\n",
       "      <td>2019-10-22 11:18:14.635436</td>\n",
       "      <td>map</td>\n",
       "      <td>0001b1d5-b74a-4cbf-aeb0-7df5947bf349</td>\n",
       "      <td>other</td>\n",
       "      <td>2019-10-22</td>\n",
       "      <td>43</td>\n",
       "      <td>0 days 15:10:44.584408</td>\n",
       "      <td>27</td>\n",
       "    </tr>\n",
       "    <tr>\n",
       "      <th>35</th>\n",
       "      <td>2019-10-19 21:34:33.849769</td>\n",
       "      <td>search</td>\n",
       "      <td>00157779-810c-4498-9e05-a1e9e3cedf93</td>\n",
       "      <td>yandex</td>\n",
       "      <td>2019-10-19</td>\n",
       "      <td>42</td>\n",
       "      <td>NaT</td>\n",
       "      <td>35</td>\n",
       "    </tr>\n",
       "    <tr>\n",
       "      <th>44</th>\n",
       "      <td>2019-10-20 18:49:24.115634</td>\n",
       "      <td>search</td>\n",
       "      <td>00157779-810c-4498-9e05-a1e9e3cedf93</td>\n",
       "      <td>yandex</td>\n",
       "      <td>2019-10-20</td>\n",
       "      <td>42</td>\n",
       "      <td>0 days 20:49:29.478536</td>\n",
       "      <td>44</td>\n",
       "    </tr>\n",
       "    <tr>\n",
       "      <th>58</th>\n",
       "      <td>2019-10-20 19:57:15.652784</td>\n",
       "      <td>photos_show</td>\n",
       "      <td>00157779-810c-4498-9e05-a1e9e3cedf93</td>\n",
       "      <td>yandex</td>\n",
       "      <td>2019-10-20</td>\n",
       "      <td>42</td>\n",
       "      <td>0 days 00:26:39.555867</td>\n",
       "      <td>58</td>\n",
       "    </tr>\n",
       "    <tr>\n",
       "      <th>62</th>\n",
       "      <td>2019-10-24 10:50:40.219833</td>\n",
       "      <td>photos_show</td>\n",
       "      <td>00157779-810c-4498-9e05-a1e9e3cedf93</td>\n",
       "      <td>yandex</td>\n",
       "      <td>2019-10-24</td>\n",
       "      <td>43</td>\n",
       "      <td>3 days 14:45:03.985760</td>\n",
       "      <td>62</td>\n",
       "    </tr>\n",
       "    <tr>\n",
       "      <th>71</th>\n",
       "      <td>2019-10-29 21:18:24.850073</td>\n",
       "      <td>search</td>\n",
       "      <td>00157779-810c-4498-9e05-a1e9e3cedf93</td>\n",
       "      <td>yandex</td>\n",
       "      <td>2019-10-29</td>\n",
       "      <td>44</td>\n",
       "      <td>5 days 10:21:12.174963</td>\n",
       "      <td>71</td>\n",
       "    </tr>\n",
       "    <tr>\n",
       "      <th>82</th>\n",
       "      <td>2019-10-29 21:53:34.469417</td>\n",
       "      <td>contacts_show</td>\n",
       "      <td>00157779-810c-4498-9e05-a1e9e3cedf93</td>\n",
       "      <td>yandex</td>\n",
       "      <td>2019-10-29</td>\n",
       "      <td>44</td>\n",
       "      <td>0 days 00:23:34.259917</td>\n",
       "      <td>82</td>\n",
       "    </tr>\n",
       "  </tbody>\n",
       "</table>\n",
       "</div>"
      ],
      "text/plain": [
       "                   event_time     event_name  \\\n",
       "0  2019-10-07 13:39:45.989359      tips_show   \n",
       "9  2019-10-09 18:33:55.577963            map   \n",
       "13 2019-10-21 19:52:30.778932      tips_show   \n",
       "27 2019-10-22 11:18:14.635436            map   \n",
       "35 2019-10-19 21:34:33.849769         search   \n",
       "44 2019-10-20 18:49:24.115634         search   \n",
       "58 2019-10-20 19:57:15.652784    photos_show   \n",
       "62 2019-10-24 10:50:40.219833    photos_show   \n",
       "71 2019-10-29 21:18:24.850073         search   \n",
       "82 2019-10-29 21:53:34.469417  contacts_show   \n",
       "\n",
       "                                 user_id  source event_date  event_week  \\\n",
       "0   0001b1d5-b74a-4cbf-aeb0-7df5947bf349   other 2019-10-07          41   \n",
       "9   0001b1d5-b74a-4cbf-aeb0-7df5947bf349   other 2019-10-09          41   \n",
       "13  0001b1d5-b74a-4cbf-aeb0-7df5947bf349   other 2019-10-21          43   \n",
       "27  0001b1d5-b74a-4cbf-aeb0-7df5947bf349   other 2019-10-22          43   \n",
       "35  00157779-810c-4498-9e05-a1e9e3cedf93  yandex 2019-10-19          42   \n",
       "44  00157779-810c-4498-9e05-a1e9e3cedf93  yandex 2019-10-20          42   \n",
       "58  00157779-810c-4498-9e05-a1e9e3cedf93  yandex 2019-10-20          42   \n",
       "62  00157779-810c-4498-9e05-a1e9e3cedf93  yandex 2019-10-24          43   \n",
       "71  00157779-810c-4498-9e05-a1e9e3cedf93  yandex 2019-10-29          44   \n",
       "82  00157779-810c-4498-9e05-a1e9e3cedf93  yandex 2019-10-29          44   \n",
       "\n",
       "                      diff  session_id  \n",
       "0                      NaT           0  \n",
       "9   2 days 04:44:13.861346           9  \n",
       "13 12 days 01:10:07.814984          13  \n",
       "27  0 days 15:10:44.584408          27  \n",
       "35                     NaT          35  \n",
       "44  0 days 20:49:29.478536          44  \n",
       "58  0 days 00:26:39.555867          58  \n",
       "62  3 days 14:45:03.985760          62  \n",
       "71  5 days 10:21:12.174963          71  \n",
       "82  0 days 00:23:34.259917          82  "
      ]
     },
     "execution_count": 45,
     "metadata": {},
     "output_type": "execute_result"
    }
   ],
   "source": [
    "sessions = time[(time['diff'].isnull()) | (time['diff'] > '1200 seconds')]\n",
    "sessions['session_id'] = sessions.index\n",
    "print('Количество сессий равно', sessions['session_id'].nunique())\n",
    "sessions.head(10)"
   ]
  },
  {
   "cell_type": "markdown",
   "id": "f177ddf7",
   "metadata": {},
   "source": [
    "Узнаем сколько в среднем сессий приходится на пользователя."
   ]
  },
  {
   "cell_type": "code",
   "execution_count": 46,
   "id": "3d0b4731",
   "metadata": {
    "scrolled": true
   },
   "outputs": [
    {
     "data": {
      "text/html": [
       "<div>\n",
       "<style scoped>\n",
       "    .dataframe tbody tr th:only-of-type {\n",
       "        vertical-align: middle;\n",
       "    }\n",
       "\n",
       "    .dataframe tbody tr th {\n",
       "        vertical-align: top;\n",
       "    }\n",
       "\n",
       "    .dataframe thead th {\n",
       "        text-align: right;\n",
       "    }\n",
       "</style>\n",
       "<table border=\"1\" class=\"dataframe\">\n",
       "  <thead>\n",
       "    <tr style=\"text-align: right;\">\n",
       "      <th></th>\n",
       "      <th>user_id</th>\n",
       "      <th>session_id</th>\n",
       "    </tr>\n",
       "  </thead>\n",
       "  <tbody>\n",
       "    <tr>\n",
       "      <th>0</th>\n",
       "      <td>0001b1d5-b74a-4cbf-aeb0-7df5947bf349</td>\n",
       "      <td>4</td>\n",
       "    </tr>\n",
       "    <tr>\n",
       "      <th>1</th>\n",
       "      <td>00157779-810c-4498-9e05-a1e9e3cedf93</td>\n",
       "      <td>8</td>\n",
       "    </tr>\n",
       "    <tr>\n",
       "      <th>2</th>\n",
       "      <td>00463033-5717-4bf1-91b4-09183923b9df</td>\n",
       "      <td>1</td>\n",
       "    </tr>\n",
       "    <tr>\n",
       "      <th>3</th>\n",
       "      <td>004690c3-5a84-4bb7-a8af-e0c8f8fca64e</td>\n",
       "      <td>8</td>\n",
       "    </tr>\n",
       "    <tr>\n",
       "      <th>4</th>\n",
       "      <td>00551e79-152e-4441-9cf7-565d7eb04090</td>\n",
       "      <td>3</td>\n",
       "    </tr>\n",
       "    <tr>\n",
       "      <th>5</th>\n",
       "      <td>00554293-7e00-4122-b898-4e892c4a7c53</td>\n",
       "      <td>2</td>\n",
       "    </tr>\n",
       "    <tr>\n",
       "      <th>6</th>\n",
       "      <td>005fbea5-2678-406f-88a6-fbe9787e2268</td>\n",
       "      <td>1</td>\n",
       "    </tr>\n",
       "    <tr>\n",
       "      <th>7</th>\n",
       "      <td>00653802-5ff1-4071-bc17-347fc4cef569</td>\n",
       "      <td>1</td>\n",
       "    </tr>\n",
       "    <tr>\n",
       "      <th>8</th>\n",
       "      <td>006a32d4-ee10-40dc-b237-11e0fde81cbc</td>\n",
       "      <td>1</td>\n",
       "    </tr>\n",
       "    <tr>\n",
       "      <th>9</th>\n",
       "      <td>006f6ced-225b-4f9c-9f17-23404bc6835f</td>\n",
       "      <td>1</td>\n",
       "    </tr>\n",
       "  </tbody>\n",
       "</table>\n",
       "</div>"
      ],
      "text/plain": [
       "                                user_id  session_id\n",
       "0  0001b1d5-b74a-4cbf-aeb0-7df5947bf349           4\n",
       "1  00157779-810c-4498-9e05-a1e9e3cedf93           8\n",
       "2  00463033-5717-4bf1-91b4-09183923b9df           1\n",
       "3  004690c3-5a84-4bb7-a8af-e0c8f8fca64e           8\n",
       "4  00551e79-152e-4441-9cf7-565d7eb04090           3\n",
       "5  00554293-7e00-4122-b898-4e892c4a7c53           2\n",
       "6  005fbea5-2678-406f-88a6-fbe9787e2268           1\n",
       "7  00653802-5ff1-4071-bc17-347fc4cef569           1\n",
       "8  006a32d4-ee10-40dc-b237-11e0fde81cbc           1\n",
       "9  006f6ced-225b-4f9c-9f17-23404bc6835f           1"
      ]
     },
     "execution_count": 46,
     "metadata": {},
     "output_type": "execute_result"
    }
   ],
   "source": [
    "sessions_by_user = sessions.groupby('user_id', as_index=False).agg({'session_id': 'count'})\n",
    "sessions_by_user.head(10)"
   ]
  },
  {
   "cell_type": "code",
   "execution_count": 47,
   "id": "e4c77e8e",
   "metadata": {},
   "outputs": [
    {
     "data": {
      "image/png": "[encoded data removed]",
      "text/plain": [
       "<Figure size 1080x360 with 1 Axes>"
      ]
     },
     "metadata": {},
     "output_type": "display_data"
    }
   ],
   "source": [
    "plt.figure(figsize=(15,5))\n",
    "plt.title('Распределение сессий по пользователям', fontsize=14)\n",
    "sessions_by_user['session_id'].hist(bins=100)\n",
    "plt.xlabel('Количество сессий', fontsize=11)\n",
    "plt.ylabel('Количество пользователей', fontsize=11)\n",
    "plt.xlim(0, 15);"
   ]
  },
  {
   "cell_type": "code",
   "execution_count": 48,
   "id": "7f12ac44",
   "metadata": {},
   "outputs": [
    {
     "data": {
      "text/plain": [
       "3"
      ]
     },
     "execution_count": 48,
     "metadata": {},
     "output_type": "execute_result"
    }
   ],
   "source": [
    "round(sessions_by_user['session_id'].mean())"
   ]
  },
  {
   "cell_type": "markdown",
   "id": "d71f842a",
   "metadata": {},
   "source": [
    "В среднем на одного пользователя приходится 3 сессии. Основная доля пользователей за 4 недели совершила от 1 до 4 сессий.  \n",
    "\n",
    "Теперь узнаем сколько времени пользователь тратит на использование нашего приложения. В данном случае лучше подойдет медианное время, так как некоторые пользователи заходят в приложение через несколько дней, и такие выбросы сильно сдвинут среднее время нахождения в приложении."
   ]
  },
  {
   "cell_type": "code",
   "execution_count": 49,
   "id": "7097dbc9",
   "metadata": {},
   "outputs": [
    {
     "data": {
      "text/plain": [
       "Timedelta('0 days 00:42:32.346610')"
      ]
     },
     "execution_count": 49,
     "metadata": {},
     "output_type": "execute_result"
    }
   ],
   "source": [
    "time_user = df.groupby('user_id').agg({'event_time': ['min', 'max']}).reset_index()\n",
    "time_user.columns = ['user_id', 'min_time', 'max_time']\n",
    "time_user['total_time'] = (time_user['max_time'] - time_user['min_time'])\n",
    "time_user['total_time'].median()"
   ]
  },
  {
   "cell_type": "markdown",
   "id": "e772049b",
   "metadata": {},
   "source": [
    "Выходит за 4 недели пользователь тратит в среднем около 43 мин на использование нашего приложения, а это как раз 2-3 сессии."
   ]
  },
  {
   "cell_type": "markdown",
   "id": "574bd3a5",
   "metadata": {},
   "source": [
    "### Выделение событий, совершаемых вместе с целевым событием."
   ]
  },
  {
   "cell_type": "markdown",
   "id": "0c906035",
   "metadata": {},
   "source": [
    "Для каждого пользователя найдем действия предшествующие \"contacts_show\" и подсчитаем количество для каждого. "
   ]
  },
  {
   "cell_type": "code",
   "execution_count": 50,
   "id": "e79f4488",
   "metadata": {
    "scrolled": true
   },
   "outputs": [
    {
     "data": {
      "text/html": [
       "<div>\n",
       "<style scoped>\n",
       "    .dataframe tbody tr th:only-of-type {\n",
       "        vertical-align: middle;\n",
       "    }\n",
       "\n",
       "    .dataframe tbody tr th {\n",
       "        vertical-align: top;\n",
       "    }\n",
       "\n",
       "    .dataframe thead th {\n",
       "        text-align: right;\n",
       "    }\n",
       "</style>\n",
       "<table border=\"1\" class=\"dataframe\">\n",
       "  <thead>\n",
       "    <tr style=\"text-align: right;\">\n",
       "      <th></th>\n",
       "      <th>prev_event</th>\n",
       "      <th>count</th>\n",
       "    </tr>\n",
       "  </thead>\n",
       "  <tbody>\n",
       "    <tr>\n",
       "      <th>0</th>\n",
       "      <td>advert_open</td>\n",
       "      <td>164</td>\n",
       "    </tr>\n",
       "    <tr>\n",
       "      <th>1</th>\n",
       "      <td>contacts_call</td>\n",
       "      <td>47</td>\n",
       "    </tr>\n",
       "    <tr>\n",
       "      <th>2</th>\n",
       "      <td>contacts_show</td>\n",
       "      <td>783</td>\n",
       "    </tr>\n",
       "    <tr>\n",
       "      <th>3</th>\n",
       "      <td>favorites_add</td>\n",
       "      <td>73</td>\n",
       "    </tr>\n",
       "    <tr>\n",
       "      <th>4</th>\n",
       "      <td>map</td>\n",
       "      <td>192</td>\n",
       "    </tr>\n",
       "    <tr>\n",
       "      <th>5</th>\n",
       "      <td>photos_show</td>\n",
       "      <td>531</td>\n",
       "    </tr>\n",
       "    <tr>\n",
       "      <th>6</th>\n",
       "      <td>search</td>\n",
       "      <td>305</td>\n",
       "    </tr>\n",
       "    <tr>\n",
       "      <th>7</th>\n",
       "      <td>tips_click</td>\n",
       "      <td>12</td>\n",
       "    </tr>\n",
       "    <tr>\n",
       "      <th>8</th>\n",
       "      <td>tips_show</td>\n",
       "      <td>2422</td>\n",
       "    </tr>\n",
       "  </tbody>\n",
       "</table>\n",
       "</div>"
      ],
      "text/plain": [
       "      prev_event  count\n",
       "0    advert_open    164\n",
       "1  contacts_call     47\n",
       "2  contacts_show    783\n",
       "3  favorites_add     73\n",
       "4            map    192\n",
       "5    photos_show    531\n",
       "6         search    305\n",
       "7     tips_click     12\n",
       "8      tips_show   2422"
      ]
     },
     "execution_count": 50,
     "metadata": {},
     "output_type": "execute_result"
    }
   ],
   "source": [
    "previous = df.copy()\n",
    "previous['prev_event'] = previous['event_name'].shift()\n",
    "previous = previous.query('event_name == \"contacts_show\"')\n",
    "previous = (previous.groupby('prev_event')\n",
    "            .agg({'prev_event': 'count'})\n",
    "            .rename(columns={'prev_event': 'prev_event', 'prev_event': 'count'})\n",
    "            .reset_index())\n",
    "previous"
   ]
  },
  {
   "cell_type": "markdown",
   "id": "4b8f9579",
   "metadata": {},
   "source": [
    "Как видно, самое популярное событие, предшествующее целевому - это \"tips_show\". Посмотрим на графике пользовательский путь к целевому событию."
   ]
  },
  {
   "cell_type": "code",
   "execution_count": 51,
   "id": "803da50d",
   "metadata": {},
   "outputs": [],
   "source": [
    "labels = [] \n",
    "source = [] \n",
    "value = []\n",
    "\n",
    "for index, row in previous.iterrows():\n",
    "    labels.append(row['prev_event']) # добавляем названия события\n",
    "    if (row['prev_event'] == 'contacts_show'):\n",
    "        continue\n",
    "    source.append(index) # добавляем индекс каждого события  \n",
    "    value.append(row['count']) # значение, сколько раз наступило каждое событие\n",
    "\n",
    "target = [labels.index('contacts_show')] * (len(labels) - 1) # целевое событие"
   ]
  },
  {
   "cell_type": "code",
   "execution_count": 52,
   "id": "2e9694cc",
   "metadata": {},
   "outputs": [
    {
     "data": {
      "application/vnd.plotly.v1+json": {
       "config": {
        "plotlyServerURL": "https://plot.ly"
       },
       "data": [
        {
         "link": {
          "source": [
           0,
           1,
           3,
           4,
           5,
           6,
           7,
           8
          ],
          "target": [
           2,
           2,
           2,
           2,
           2,
           2,
           2,
           2
          ],
          "value": [
           164,
           47,
           73,
           192,
           531,
           305,
           12,
           2422
          ]
         },
         "node": {
          "color": "green",
          "label": [
           "advert_open",
           "contacts_call",
           "contacts_show",
           "favorites_add",
           "map",
           "photos_show",
           "search",
           "tips_click",
           "tips_show"
          ],
          "line": {
           "color": "black",
           "width": 0.5
          },
          "pad": 30,
          "thickness": 20
         },
         "type": "sankey"
        }
       ],
       "layout": {
        "template": {
         "data": {
          "bar": [
           {
            "error_x": {
             "color": "#2a3f5f"
            },
            "error_y": {
             "color": "#2a3f5f"
            },
            "marker": {
             "line": {
              "color": "#E5ECF6",
              "width": 0.5
             },
             "pattern": {
              "fillmode": "overlay",
              "size": 10,
              "solidity": 0.2
             }
            },
            "type": "bar"
           }
          ],
          "barpolar": [
           {
            "marker": {
             "line": {
              "color": "#E5ECF6",
              "width": 0.5
             },
             "pattern": {
              "fillmode": "overlay",
              "size": 10,
              "solidity": 0.2
             }
            },
            "type": "barpolar"
           }
          ],
          "carpet": [
           {
            "aaxis": {
             "endlinecolor": "#2a3f5f",
             "gridcolor": "white",
             "linecolor": "white",
             "minorgridcolor": "white",
             "startlinecolor": "#2a3f5f"
            },
            "baxis": {
             "endlinecolor": "#2a3f5f",
             "gridcolor": "white",
             "linecolor": "white",
             "minorgridcolor": "white",
             "startlinecolor": "#2a3f5f"
            },
            "type": "carpet"
           }
          ],
          "choropleth": [
           {
            "colorbar": {
             "outlinewidth": 0,
             "ticks": ""
            },
            "type": "choropleth"
           }
          ],
          "contour": [
           {
            "colorbar": {
             "outlinewidth": 0,
             "ticks": ""
            },
            "colorscale": [
             [
              0,
              "#0d0887"
             ],
             [
              0.1111111111111111,
              "#46039f"
             ],
             [
              0.2222222222222222,
              "#7201a8"
             ],
             [
              0.3333333333333333,
              "#9c179e"
             ],
             [
              0.4444444444444444,
              "#bd3786"
             ],
             [
              0.5555555555555556,
              "#d8576b"
             ],
             [
              0.6666666666666666,
              "#ed7953"
             ],
             [
              0.7777777777777778,
              "#fb9f3a"
             ],
             [
              0.8888888888888888,
              "#fdca26"
             ],
             [
              1,
              "#f0f921"
             ]
            ],
            "type": "contour"
           }
          ],
          "contourcarpet": [
           {
            "colorbar": {
             "outlinewidth": 0,
             "ticks": ""
            },
            "type": "contourcarpet"
           }
          ],
          "heatmap": [
           {
            "colorbar": {
             "outlinewidth": 0,
             "ticks": ""
            },
            "colorscale": [
             [
              0,
              "#0d0887"
             ],
             [
              0.1111111111111111,
              "#46039f"
             ],
             [
              0.2222222222222222,
              "#7201a8"
             ],
             [
              0.3333333333333333,
              "#9c179e"
             ],
             [
              0.4444444444444444,
              "#bd3786"
             ],
             [
              0.5555555555555556,
              "#d8576b"
             ],
             [
              0.6666666666666666,
              "#ed7953"
             ],
             [
              0.7777777777777778,
              "#fb9f3a"
             ],
             [
              0.8888888888888888,
              "#fdca26"
             ],
             [
              1,
              "#f0f921"
             ]
            ],
            "type": "heatmap"
           }
          ],
          "heatmapgl": [
           {
            "colorbar": {
             "outlinewidth": 0,
             "ticks": ""
            },
            "colorscale": [
             [
              0,
              "#0d0887"
             ],
             [
              0.1111111111111111,
              "#46039f"
             ],
             [
              0.2222222222222222,
              "#7201a8"
             ],
             [
              0.3333333333333333,
              "#9c179e"
             ],
             [
              0.4444444444444444,
              "#bd3786"
             ],
             [
              0.5555555555555556,
              "#d8576b"
             ],
             [
              0.6666666666666666,
              "#ed7953"
             ],
             [
              0.7777777777777778,
              "#fb9f3a"
             ],
             [
              0.8888888888888888,
              "#fdca26"
             ],
             [
              1,
              "#f0f921"
             ]
            ],
            "type": "heatmapgl"
           }
          ],
          "histogram": [
           {
            "marker": {
             "pattern": {
              "fillmode": "overlay",
              "size": 10,
              "solidity": 0.2
             }
            },
            "type": "histogram"
           }
          ],
          "histogram2d": [
           {
            "colorbar": {
             "outlinewidth": 0,
             "ticks": ""
            },
            "colorscale": [
             [
              0,
              "#0d0887"
             ],
             [
              0.1111111111111111,
              "#46039f"
             ],
             [
              0.2222222222222222,
              "#7201a8"
             ],
             [
              0.3333333333333333,
              "#9c179e"
             ],
             [
              0.4444444444444444,
              "#bd3786"
             ],
             [
              0.5555555555555556,
              "#d8576b"
             ],
             [
              0.6666666666666666,
              "#ed7953"
             ],
             [
              0.7777777777777778,
              "#fb9f3a"
             ],
             [
              0.8888888888888888,
              "#fdca26"
             ],
             [
              1,
              "#f0f921"
             ]
            ],
            "type": "histogram2d"
           }
          ],
          "histogram2dcontour": [
           {
            "colorbar": {
             "outlinewidth": 0,
             "ticks": ""
            },
            "colorscale": [
             [
              0,
              "#0d0887"
             ],
             [
              0.1111111111111111,
              "#46039f"
             ],
             [
              0.2222222222222222,
              "#7201a8"
             ],
             [
              0.3333333333333333,
              "#9c179e"
             ],
             [
              0.4444444444444444,
              "#bd3786"
             ],
             [
              0.5555555555555556,
              "#d8576b"
             ],
             [
              0.6666666666666666,
              "#ed7953"
             ],
             [
              0.7777777777777778,
              "#fb9f3a"
             ],
             [
              0.8888888888888888,
              "#fdca26"
             ],
             [
              1,
              "#f0f921"
             ]
            ],
            "type": "histogram2dcontour"
           }
          ],
          "mesh3d": [
           {
            "colorbar": {
             "outlinewidth": 0,
             "ticks": ""
            },
            "type": "mesh3d"
           }
          ],
          "parcoords": [
           {
            "line": {
             "colorbar": {
              "outlinewidth": 0,
              "ticks": ""
             }
            },
            "type": "parcoords"
           }
          ],
          "pie": [
           {
            "automargin": true,
            "type": "pie"
           }
          ],
          "scatter": [
           {
            "marker": {
             "colorbar": {
              "outlinewidth": 0,
              "ticks": ""
             }
            },
            "type": "scatter"
           }
          ],
          "scatter3d": [
           {
            "line": {
             "colorbar": {
              "outlinewidth": 0,
              "ticks": ""
             }
            },
            "marker": {
             "colorbar": {
              "outlinewidth": 0,
              "ticks": ""
             }
            },
            "type": "scatter3d"
           }
          ],
          "scattercarpet": [
           {
            "marker": {
             "colorbar": {
              "outlinewidth": 0,
              "ticks": ""
             }
            },
            "type": "scattercarpet"
           }
          ],
          "scattergeo": [
           {
            "marker": {
             "colorbar": {
              "outlinewidth": 0,
              "ticks": ""
             }
            },
            "type": "scattergeo"
           }
          ],
          "scattergl": [
           {
            "marker": {
             "colorbar": {
              "outlinewidth": 0,
              "ticks": ""
             }
            },
            "type": "scattergl"
           }
          ],
          "scattermapbox": [
           {
            "marker": {
             "colorbar": {
              "outlinewidth": 0,
              "ticks": ""
             }
            },
            "type": "scattermapbox"
           }
          ],
          "scatterpolar": [
           {
            "marker": {
             "colorbar": {
              "outlinewidth": 0,
              "ticks": ""
             }
            },
            "type": "scatterpolar"
           }
          ],
          "scatterpolargl": [
           {
            "marker": {
             "colorbar": {
              "outlinewidth": 0,
              "ticks": ""
             }
            },
            "type": "scatterpolargl"
           }
          ],
          "scatterternary": [
           {
            "marker": {
             "colorbar": {
              "outlinewidth": 0,
              "ticks": ""
             }
            },
            "type": "scatterternary"
           }
          ],
          "surface": [
           {
            "colorbar": {
             "outlinewidth": 0,
             "ticks": ""
            },
            "colorscale": [
             [
              0,
              "#0d0887"
             ],
             [
              0.1111111111111111,
              "#46039f"
             ],
             [
              0.2222222222222222,
              "#7201a8"
             ],
             [
              0.3333333333333333,
              "#9c179e"
             ],
             [
              0.4444444444444444,
              "#bd3786"
             ],
             [
              0.5555555555555556,
              "#d8576b"
             ],
             [
              0.6666666666666666,
              "#ed7953"
             ],
             [
              0.7777777777777778,
              "#fb9f3a"
             ],
             [
              0.8888888888888888,
              "#fdca26"
             ],
             [
              1,
              "#f0f921"
             ]
            ],
            "type": "surface"
           }
          ],
          "table": [
           {
            "cells": {
             "fill": {
              "color": "#EBF0F8"
             },
             "line": {
              "color": "white"
             }
            },
            "header": {
             "fill": {
              "color": "#C8D4E3"
             },
             "line": {
              "color": "white"
             }
            },
            "type": "table"
           }
          ]
         },
         "layout": {
          "annotationdefaults": {
           "arrowcolor": "#2a3f5f",
           "arrowhead": 0,
           "arrowwidth": 1
          },
          "autotypenumbers": "strict",
          "coloraxis": {
           "colorbar": {
            "outlinewidth": 0,
            "ticks": ""
           }
          },
          "colorscale": {
           "diverging": [
            [
             0,
             "#8e0152"
            ],
            [
             0.1,
             "#c51b7d"
            ],
            [
             0.2,
             "#de77ae"
            ],
            [
             0.3,
             "#f1b6da"
            ],
            [
             0.4,
             "#fde0ef"
            ],
            [
             0.5,
             "#f7f7f7"
            ],
            [
             0.6,
             "#e6f5d0"
            ],
            [
             0.7,
             "#b8e186"
            ],
            [
             0.8,
             "#7fbc41"
            ],
            [
             0.9,
             "#4d9221"
            ],
            [
             1,
             "#276419"
            ]
           ],
           "sequential": [
            [
             0,
             "#0d0887"
            ],
            [
             0.1111111111111111,
             "#46039f"
            ],
            [
             0.2222222222222222,
             "#7201a8"
            ],
            [
             0.3333333333333333,
             "#9c179e"
            ],
            [
             0.4444444444444444,
             "#bd3786"
            ],
            [
             0.5555555555555556,
             "#d8576b"
            ],
            [
             0.6666666666666666,
             "#ed7953"
            ],
            [
             0.7777777777777778,
             "#fb9f3a"
            ],
            [
             0.8888888888888888,
             "#fdca26"
            ],
            [
             1,
             "#f0f921"
            ]
           ],
           "sequentialminus": [
            [
             0,
             "#0d0887"
            ],
            [
             0.1111111111111111,
             "#46039f"
            ],
            [
             0.2222222222222222,
             "#7201a8"
            ],
            [
             0.3333333333333333,
             "#9c179e"
            ],
            [
             0.4444444444444444,
             "#bd3786"
            ],
            [
             0.5555555555555556,
             "#d8576b"
            ],
            [
             0.6666666666666666,
             "#ed7953"
            ],
            [
             0.7777777777777778,
             "#fb9f3a"
            ],
            [
             0.8888888888888888,
             "#fdca26"
            ],
            [
             1,
             "#f0f921"
            ]
           ]
          },
          "colorway": [
           "#636efa",
           "#EF553B",
           "#00cc96",
           "#ab63fa",
           "#FFA15A",
           "#19d3f3",
           "#FF6692",
           "#B6E880",
           "#FF97FF",
           "#FECB52"
          ],
          "font": {
           "color": "#2a3f5f"
          },
          "geo": {
           "bgcolor": "white",
           "lakecolor": "white",
           "landcolor": "#E5ECF6",
           "showlakes": true,
           "showland": true,
           "subunitcolor": "white"
          },
          "hoverlabel": {
           "align": "left"
          },
          "hovermode": "closest",
          "mapbox": {
           "style": "light"
          },
          "paper_bgcolor": "white",
          "plot_bgcolor": "#E5ECF6",
          "polar": {
           "angularaxis": {
            "gridcolor": "white",
            "linecolor": "white",
            "ticks": ""
           },
           "bgcolor": "#E5ECF6",
           "radialaxis": {
            "gridcolor": "white",
            "linecolor": "white",
            "ticks": ""
           }
          },
          "scene": {
           "xaxis": {
            "backgroundcolor": "#E5ECF6",
            "gridcolor": "white",
            "gridwidth": 2,
            "linecolor": "white",
            "showbackground": true,
            "ticks": "",
            "zerolinecolor": "white"
           },
           "yaxis": {
            "backgroundcolor": "#E5ECF6",
            "gridcolor": "white",
            "gridwidth": 2,
            "linecolor": "white",
            "showbackground": true,
            "ticks": "",
            "zerolinecolor": "white"
           },
           "zaxis": {
            "backgroundcolor": "#E5ECF6",
            "gridcolor": "white",
            "gridwidth": 2,
            "linecolor": "white",
            "showbackground": true,
            "ticks": "",
            "zerolinecolor": "white"
           }
          },
          "shapedefaults": {
           "line": {
            "color": "#2a3f5f"
           }
          },
          "ternary": {
           "aaxis": {
            "gridcolor": "white",
            "linecolor": "white",
            "ticks": ""
           },
           "baxis": {
            "gridcolor": "white",
            "linecolor": "white",
            "ticks": ""
           },
           "bgcolor": "#E5ECF6",
           "caxis": {
            "gridcolor": "white",
            "linecolor": "white",
            "ticks": ""
           }
          },
          "title": {
           "x": 0.05
          },
          "xaxis": {
           "automargin": true,
           "gridcolor": "white",
           "linecolor": "white",
           "ticks": "",
           "title": {
            "standoff": 15
           },
           "zerolinecolor": "white",
           "zerolinewidth": 2
          },
          "yaxis": {
           "automargin": true,
           "gridcolor": "white",
           "linecolor": "white",
           "ticks": "",
           "title": {
            "standoff": 15
           },
           "zerolinecolor": "white",
           "zerolinewidth": 2
          }
         }
        },
        "title": {
         "text": "Пользовательский путь к целевому событию"
        }
       }
      },
      "text/html": [
       "<div>                            <div id=\"1675778f-929b-4e79-8e6b-5577d0c7daf5\" class=\"plotly-graph-div\" style=\"height:525px; width:100%;\"></div>            <script type=\"text/javascript\">                require([\"plotly\"], function(Plotly) {                    window.PLOTLYENV=window.PLOTLYENV || {};                                    if (document.getElementById(\"1675778f-929b-4e79-8e6b-5577d0c7daf5\")) {                    Plotly.newPlot(                        \"1675778f-929b-4e79-8e6b-5577d0c7daf5\",                        [{\"link\":{\"source\":[0,1,3,4,5,6,7,8],\"target\":[2,2,2,2,2,2,2,2],\"value\":[164,47,73,192,531,305,12,2422]},\"node\":{\"color\":\"green\",\"label\":[\"advert_open\",\"contacts_call\",\"contacts_show\",\"favorites_add\",\"map\",\"photos_show\",\"search\",\"tips_click\",\"tips_show\"],\"line\":{\"color\":\"black\",\"width\":0.5},\"pad\":30,\"thickness\":20},\"type\":\"sankey\"}],                        {\"template\":{\"data\":{\"bar\":[{\"error_x\":{\"color\":\"#2a3f5f\"},\"error_y\":{\"color\":\"#2a3f5f\"},\"marker\":{\"line\":{\"color\":\"#E5ECF6\",\"width\":0.5},\"pattern\":{\"fillmode\":\"overlay\",\"size\":10,\"solidity\":0.2}},\"type\":\"bar\"}],\"barpolar\":[{\"marker\":{\"line\":{\"color\":\"#E5ECF6\",\"width\":0.5},\"pattern\":{\"fillmode\":\"overlay\",\"size\":10,\"solidity\":0.2}},\"type\":\"barpolar\"}],\"carpet\":[{\"aaxis\":{\"endlinecolor\":\"#2a3f5f\",\"gridcolor\":\"white\",\"linecolor\":\"white\",\"minorgridcolor\":\"white\",\"startlinecolor\":\"#2a3f5f\"},\"baxis\":{\"endlinecolor\":\"#2a3f5f\",\"gridcolor\":\"white\",\"linecolor\":\"white\",\"minorgridcolor\":\"white\",\"startlinecolor\":\"#2a3f5f\"},\"type\":\"carpet\"}],\"choropleth\":[{\"colorbar\":{\"outlinewidth\":0,\"ticks\":\"\"},\"type\":\"choropleth\"}],\"contour\":[{\"colorbar\":{\"outlinewidth\":0,\"ticks\":\"\"},\"colorscale\":[[0.0,\"#0d0887\"],[0.1111111111111111,\"#46039f\"],[0.2222222222222222,\"#7201a8\"],[0.3333333333333333,\"#9c179e\"],[0.4444444444444444,\"#bd3786\"],[0.5555555555555556,\"#d8576b\"],[0.6666666666666666,\"#ed7953\"],[0.7777777777777778,\"#fb9f3a\"],[0.8888888888888888,\"#fdca26\"],[1.0,\"#f0f921\"]],\"type\":\"contour\"}],\"contourcarpet\":[{\"colorbar\":{\"outlinewidth\":0,\"ticks\":\"\"},\"type\":\"contourcarpet\"}],\"heatmap\":[{\"colorbar\":{\"outlinewidth\":0,\"ticks\":\"\"},\"colorscale\":[[0.0,\"#0d0887\"],[0.1111111111111111,\"#46039f\"],[0.2222222222222222,\"#7201a8\"],[0.3333333333333333,\"#9c179e\"],[0.4444444444444444,\"#bd3786\"],[0.5555555555555556,\"#d8576b\"],[0.6666666666666666,\"#ed7953\"],[0.7777777777777778,\"#fb9f3a\"],[0.8888888888888888,\"#fdca26\"],[1.0,\"#f0f921\"]],\"type\":\"heatmap\"}],\"heatmapgl\":[{\"colorbar\":{\"outlinewidth\":0,\"ticks\":\"\"},\"colorscale\":[[0.0,\"#0d0887\"],[0.1111111111111111,\"#46039f\"],[0.2222222222222222,\"#7201a8\"],[0.3333333333333333,\"#9c179e\"],[0.4444444444444444,\"#bd3786\"],[0.5555555555555556,\"#d8576b\"],[0.6666666666666666,\"#ed7953\"],[0.7777777777777778,\"#fb9f3a\"],[0.8888888888888888,\"#fdca26\"],[1.0,\"#f0f921\"]],\"type\":\"heatmapgl\"}],\"histogram\":[{\"marker\":{\"pattern\":{\"fillmode\":\"overlay\",\"size\":10,\"solidity\":0.2}},\"type\":\"histogram\"}],\"histogram2d\":[{\"colorbar\":{\"outlinewidth\":0,\"ticks\":\"\"},\"colorscale\":[[0.0,\"#0d0887\"],[0.1111111111111111,\"#46039f\"],[0.2222222222222222,\"#7201a8\"],[0.3333333333333333,\"#9c179e\"],[0.4444444444444444,\"#bd3786\"],[0.5555555555555556,\"#d8576b\"],[0.6666666666666666,\"#ed7953\"],[0.7777777777777778,\"#fb9f3a\"],[0.8888888888888888,\"#fdca26\"],[1.0,\"#f0f921\"]],\"type\":\"histogram2d\"}],\"histogram2dcontour\":[{\"colorbar\":{\"outlinewidth\":0,\"ticks\":\"\"},\"colorscale\":[[0.0,\"#0d0887\"],[0.1111111111111111,\"#46039f\"],[0.2222222222222222,\"#7201a8\"],[0.3333333333333333,\"#9c179e\"],[0.4444444444444444,\"#bd3786\"],[0.5555555555555556,\"#d8576b\"],[0.6666666666666666,\"#ed7953\"],[0.7777777777777778,\"#fb9f3a\"],[0.8888888888888888,\"#fdca26\"],[1.0,\"#f0f921\"]],\"type\":\"histogram2dcontour\"}],\"mesh3d\":[{\"colorbar\":{\"outlinewidth\":0,\"ticks\":\"\"},\"type\":\"mesh3d\"}],\"parcoords\":[{\"line\":{\"colorbar\":{\"outlinewidth\":0,\"ticks\":\"\"}},\"type\":\"parcoords\"}],\"pie\":[{\"automargin\":true,\"type\":\"pie\"}],\"scatter\":[{\"marker\":{\"colorbar\":{\"outlinewidth\":0,\"ticks\":\"\"}},\"type\":\"scatter\"}],\"scatter3d\":[{\"line\":{\"colorbar\":{\"outlinewidth\":0,\"ticks\":\"\"}},\"marker\":{\"colorbar\":{\"outlinewidth\":0,\"ticks\":\"\"}},\"type\":\"scatter3d\"}],\"scattercarpet\":[{\"marker\":{\"colorbar\":{\"outlinewidth\":0,\"ticks\":\"\"}},\"type\":\"scattercarpet\"}],\"scattergeo\":[{\"marker\":{\"colorbar\":{\"outlinewidth\":0,\"ticks\":\"\"}},\"type\":\"scattergeo\"}],\"scattergl\":[{\"marker\":{\"colorbar\":{\"outlinewidth\":0,\"ticks\":\"\"}},\"type\":\"scattergl\"}],\"scattermapbox\":[{\"marker\":{\"colorbar\":{\"outlinewidth\":0,\"ticks\":\"\"}},\"type\":\"scattermapbox\"}],\"scatterpolar\":[{\"marker\":{\"colorbar\":{\"outlinewidth\":0,\"ticks\":\"\"}},\"type\":\"scatterpolar\"}],\"scatterpolargl\":[{\"marker\":{\"colorbar\":{\"outlinewidth\":0,\"ticks\":\"\"}},\"type\":\"scatterpolargl\"}],\"scatterternary\":[{\"marker\":{\"colorbar\":{\"outlinewidth\":0,\"ticks\":\"\"}},\"type\":\"scatterternary\"}],\"surface\":[{\"colorbar\":{\"outlinewidth\":0,\"ticks\":\"\"},\"colorscale\":[[0.0,\"#0d0887\"],[0.1111111111111111,\"#46039f\"],[0.2222222222222222,\"#7201a8\"],[0.3333333333333333,\"#9c179e\"],[0.4444444444444444,\"#bd3786\"],[0.5555555555555556,\"#d8576b\"],[0.6666666666666666,\"#ed7953\"],[0.7777777777777778,\"#fb9f3a\"],[0.8888888888888888,\"#fdca26\"],[1.0,\"#f0f921\"]],\"type\":\"surface\"}],\"table\":[{\"cells\":{\"fill\":{\"color\":\"#EBF0F8\"},\"line\":{\"color\":\"white\"}},\"header\":{\"fill\":{\"color\":\"#C8D4E3\"},\"line\":{\"color\":\"white\"}},\"type\":\"table\"}]},\"layout\":{\"annotationdefaults\":{\"arrowcolor\":\"#2a3f5f\",\"arrowhead\":0,\"arrowwidth\":1},\"autotypenumbers\":\"strict\",\"coloraxis\":{\"colorbar\":{\"outlinewidth\":0,\"ticks\":\"\"}},\"colorscale\":{\"diverging\":[[0,\"#8e0152\"],[0.1,\"#c51b7d\"],[0.2,\"#de77ae\"],[0.3,\"#f1b6da\"],[0.4,\"#fde0ef\"],[0.5,\"#f7f7f7\"],[0.6,\"#e6f5d0\"],[0.7,\"#b8e186\"],[0.8,\"#7fbc41\"],[0.9,\"#4d9221\"],[1,\"#276419\"]],\"sequential\":[[0.0,\"#0d0887\"],[0.1111111111111111,\"#46039f\"],[0.2222222222222222,\"#7201a8\"],[0.3333333333333333,\"#9c179e\"],[0.4444444444444444,\"#bd3786\"],[0.5555555555555556,\"#d8576b\"],[0.6666666666666666,\"#ed7953\"],[0.7777777777777778,\"#fb9f3a\"],[0.8888888888888888,\"#fdca26\"],[1.0,\"#f0f921\"]],\"sequentialminus\":[[0.0,\"#0d0887\"],[0.1111111111111111,\"#46039f\"],[0.2222222222222222,\"#7201a8\"],[0.3333333333333333,\"#9c179e\"],[0.4444444444444444,\"#bd3786\"],[0.5555555555555556,\"#d8576b\"],[0.6666666666666666,\"#ed7953\"],[0.7777777777777778,\"#fb9f3a\"],[0.8888888888888888,\"#fdca26\"],[1.0,\"#f0f921\"]]},\"colorway\":[\"#636efa\",\"#EF553B\",\"#00cc96\",\"#ab63fa\",\"#FFA15A\",\"#19d3f3\",\"#FF6692\",\"#B6E880\",\"#FF97FF\",\"#FECB52\"],\"font\":{\"color\":\"#2a3f5f\"},\"geo\":{\"bgcolor\":\"white\",\"lakecolor\":\"white\",\"landcolor\":\"#E5ECF6\",\"showlakes\":true,\"showland\":true,\"subunitcolor\":\"white\"},\"hoverlabel\":{\"align\":\"left\"},\"hovermode\":\"closest\",\"mapbox\":{\"style\":\"light\"},\"paper_bgcolor\":\"white\",\"plot_bgcolor\":\"#E5ECF6\",\"polar\":{\"angularaxis\":{\"gridcolor\":\"white\",\"linecolor\":\"white\",\"ticks\":\"\"},\"bgcolor\":\"#E5ECF6\",\"radialaxis\":{\"gridcolor\":\"white\",\"linecolor\":\"white\",\"ticks\":\"\"}},\"scene\":{\"xaxis\":{\"backgroundcolor\":\"#E5ECF6\",\"gridcolor\":\"white\",\"gridwidth\":2,\"linecolor\":\"white\",\"showbackground\":true,\"ticks\":\"\",\"zerolinecolor\":\"white\"},\"yaxis\":{\"backgroundcolor\":\"#E5ECF6\",\"gridcolor\":\"white\",\"gridwidth\":2,\"linecolor\":\"white\",\"showbackground\":true,\"ticks\":\"\",\"zerolinecolor\":\"white\"},\"zaxis\":{\"backgroundcolor\":\"#E5ECF6\",\"gridcolor\":\"white\",\"gridwidth\":2,\"linecolor\":\"white\",\"showbackground\":true,\"ticks\":\"\",\"zerolinecolor\":\"white\"}},\"shapedefaults\":{\"line\":{\"color\":\"#2a3f5f\"}},\"ternary\":{\"aaxis\":{\"gridcolor\":\"white\",\"linecolor\":\"white\",\"ticks\":\"\"},\"baxis\":{\"gridcolor\":\"white\",\"linecolor\":\"white\",\"ticks\":\"\"},\"bgcolor\":\"#E5ECF6\",\"caxis\":{\"gridcolor\":\"white\",\"linecolor\":\"white\",\"ticks\":\"\"}},\"title\":{\"x\":0.05},\"xaxis\":{\"automargin\":true,\"gridcolor\":\"white\",\"linecolor\":\"white\",\"ticks\":\"\",\"title\":{\"standoff\":15},\"zerolinecolor\":\"white\",\"zerolinewidth\":2},\"yaxis\":{\"automargin\":true,\"gridcolor\":\"white\",\"linecolor\":\"white\",\"ticks\":\"\",\"title\":{\"standoff\":15},\"zerolinecolor\":\"white\",\"zerolinewidth\":2}}},\"title\":{\"text\":\"\\u041f\\u043e\\u043b\\u044c\\u0437\\u043e\\u0432\\u0430\\u0442\\u0435\\u043b\\u044c\\u0441\\u043a\\u0438\\u0439 \\u043f\\u0443\\u0442\\u044c \\u043a \\u0446\\u0435\\u043b\\u0435\\u0432\\u043e\\u043c\\u0443 \\u0441\\u043e\\u0431\\u044b\\u0442\\u0438\\u044e\"}},                        {\"responsive\": true}                    ).then(function(){\n",
       "                            \n",
       "var gd = document.getElementById('1675778f-929b-4e79-8e6b-5577d0c7daf5');\n",
       "var x = new MutationObserver(function (mutations, observer) {{\n",
       "        var display = window.getComputedStyle(gd).display;\n",
       "        if (!display || display === 'none') {{\n",
       "            console.log([gd, 'removed!']);\n",
       "            Plotly.purge(gd);\n",
       "            observer.disconnect();\n",
       "        }}\n",
       "}});\n",
       "\n",
       "// Listen for the removal of the full notebook cells\n",
       "var notebookContainer = gd.closest('#notebook-container');\n",
       "if (notebookContainer) {{\n",
       "    x.observe(notebookContainer, {childList: true});\n",
       "}}\n",
       "\n",
       "// Listen for the clearing of the current output cell\n",
       "var outputEl = gd.closest('.output');\n",
       "if (outputEl) {{\n",
       "    x.observe(outputEl, {childList: true});\n",
       "}}\n",
       "\n",
       "                        })                };                });            </script>        </div>"
      ]
     },
     "metadata": {},
     "output_type": "display_data"
    }
   ],
   "source": [
    "fig = go.Figure(data=[go.Sankey(\n",
    "    node = dict(\n",
    "      pad = 30,\n",
    "      thickness = 20,\n",
    "      line = dict(color = 'black', width = 0.5),\n",
    "      label = labels,\n",
    "      color = 'green'\n",
    "    ),\n",
    "    link = dict(\n",
    "      source = source,\n",
    "      target = target, \n",
    "      value = value\n",
    "  ))])\n",
    "\n",
    "fig.update_layout(title_text='Пользовательский путь к целевому событию')\n",
    "fig.show()"
   ]
  },
  {
   "cell_type": "markdown",
   "id": "665c5c60",
   "metadata": {},
   "source": [
    "В полученном результате можно не учитывать следующие события:\n",
    "- \"contacts_show\" - так как это и так целевое событие, и пользователи, скорее всего, просто повторно просматривали контакт;\n",
    "- \"contacts_call\" - так как это скорее всего звонок по предыдущему просмотру контакта."
   ]
  },
  {
   "cell_type": "code",
   "execution_count": 53,
   "id": "12f954ee",
   "metadata": {},
   "outputs": [
    {
     "data": {
      "text/html": [
       "<div>\n",
       "<style scoped>\n",
       "    .dataframe tbody tr th:only-of-type {\n",
       "        vertical-align: middle;\n",
       "    }\n",
       "\n",
       "    .dataframe tbody tr th {\n",
       "        vertical-align: top;\n",
       "    }\n",
       "\n",
       "    .dataframe thead th {\n",
       "        text-align: right;\n",
       "    }\n",
       "</style>\n",
       "<table border=\"1\" class=\"dataframe\">\n",
       "  <thead>\n",
       "    <tr style=\"text-align: right;\">\n",
       "      <th></th>\n",
       "      <th>prev_event</th>\n",
       "      <th>count</th>\n",
       "    </tr>\n",
       "  </thead>\n",
       "  <tbody>\n",
       "    <tr>\n",
       "      <th>8</th>\n",
       "      <td>tips_show</td>\n",
       "      <td>2422</td>\n",
       "    </tr>\n",
       "    <tr>\n",
       "      <th>5</th>\n",
       "      <td>photos_show</td>\n",
       "      <td>531</td>\n",
       "    </tr>\n",
       "    <tr>\n",
       "      <th>6</th>\n",
       "      <td>search</td>\n",
       "      <td>305</td>\n",
       "    </tr>\n",
       "    <tr>\n",
       "      <th>4</th>\n",
       "      <td>map</td>\n",
       "      <td>192</td>\n",
       "    </tr>\n",
       "    <tr>\n",
       "      <th>0</th>\n",
       "      <td>advert_open</td>\n",
       "      <td>164</td>\n",
       "    </tr>\n",
       "    <tr>\n",
       "      <th>3</th>\n",
       "      <td>favorites_add</td>\n",
       "      <td>73</td>\n",
       "    </tr>\n",
       "    <tr>\n",
       "      <th>7</th>\n",
       "      <td>tips_click</td>\n",
       "      <td>12</td>\n",
       "    </tr>\n",
       "  </tbody>\n",
       "</table>\n",
       "</div>"
      ],
      "text/plain": [
       "      prev_event  count\n",
       "8      tips_show   2422\n",
       "5    photos_show    531\n",
       "6         search    305\n",
       "4            map    192\n",
       "0    advert_open    164\n",
       "3  favorites_add     73\n",
       "7     tips_click     12"
      ]
     },
     "execution_count": 53,
     "metadata": {},
     "output_type": "execute_result"
    }
   ],
   "source": [
    "previous = previous.query('index not in [1, 2]').sort_values(by='count', ascending=False)\n",
    "previous"
   ]
  },
  {
   "cell_type": "code",
   "execution_count": 54,
   "id": "acc304e7",
   "metadata": {},
   "outputs": [
    {
     "data": {
      "image/png": "[encoded data removed]",
      "text/plain": [
       "<Figure size 1440x720 with 1 Axes>"
      ]
     },
     "metadata": {},
     "output_type": "display_data"
    }
   ],
   "source": [
    "g = sns.barplot(y=('count'), x='prev_event', data=previous, palette='rainbow')\n",
    "sns.set(font_scale=1.5)\n",
    "g.bar_label(g.containers[0])\n",
    "plt.xlabel('Событие', fontsize=17)\n",
    "plt.grid()\n",
    "plt.ylabel('Количество', fontsize=17)\n",
    "plt.title('События, совершаемые вместе с целевым событием', fontsize=20)\n",
    "plt.show()"
   ]
  },
  {
   "cell_type": "markdown",
   "id": "d063b319",
   "metadata": {},
   "source": [
    "По графику можно сделать вывод, что основное действие пользователей перед просмотром контакта это то, что они увидели рекомендованное объявление, но важно понимать, что это действие автоматическое. Так же перед просмотром контакта пользователи часто просматривают фотографии объявления и выполняют поиск по сайту. Заметно, что событие \"tips click\" - клик по рекомендованному объявлению, очень редкое, а это значит, что пользователи могут просмотреть контакт не совершая данное действие."
   ]
  },
  {
   "cell_type": "markdown",
   "id": "00f995fd",
   "metadata": {},
   "source": [
    "### Анализ  воронки событий."
   ]
  },
  {
   "cell_type": "markdown",
   "id": "be9a9743",
   "metadata": {},
   "source": [
    "Изучим изменение количества уникальных пользователей по каждому событию, выстроим полученные результаты в последовательную цепочку. Выясним, что из себя представляют действия пользователей: самостоятельные события пользователя или они составляют воронку."
   ]
  },
  {
   "cell_type": "code",
   "execution_count": 55,
   "id": "ca28ccf5",
   "metadata": {},
   "outputs": [
    {
     "data": {
      "text/html": [
       "<div>\n",
       "<style scoped>\n",
       "    .dataframe tbody tr th:only-of-type {\n",
       "        vertical-align: middle;\n",
       "    }\n",
       "\n",
       "    .dataframe tbody tr th {\n",
       "        vertical-align: top;\n",
       "    }\n",
       "\n",
       "    .dataframe thead th {\n",
       "        text-align: right;\n",
       "    }\n",
       "</style>\n",
       "<table border=\"1\" class=\"dataframe\">\n",
       "  <thead>\n",
       "    <tr style=\"text-align: right;\">\n",
       "      <th></th>\n",
       "      <th>event_name</th>\n",
       "      <th>all_users</th>\n",
       "      <th>uniq_users</th>\n",
       "      <th>event_per_user</th>\n",
       "      <th>fraction</th>\n",
       "    </tr>\n",
       "  </thead>\n",
       "  <tbody>\n",
       "    <tr>\n",
       "      <th>8</th>\n",
       "      <td>tips_show</td>\n",
       "      <td>40055</td>\n",
       "      <td>2801</td>\n",
       "      <td>14.3</td>\n",
       "      <td>0.65</td>\n",
       "    </tr>\n",
       "    <tr>\n",
       "      <th>6</th>\n",
       "      <td>search</td>\n",
       "      <td>6784</td>\n",
       "      <td>1666</td>\n",
       "      <td>4.1</td>\n",
       "      <td>0.39</td>\n",
       "    </tr>\n",
       "    <tr>\n",
       "      <th>4</th>\n",
       "      <td>map</td>\n",
       "      <td>3881</td>\n",
       "      <td>1456</td>\n",
       "      <td>2.7</td>\n",
       "      <td>0.34</td>\n",
       "    </tr>\n",
       "    <tr>\n",
       "      <th>5</th>\n",
       "      <td>photos_show</td>\n",
       "      <td>10012</td>\n",
       "      <td>1095</td>\n",
       "      <td>9.1</td>\n",
       "      <td>0.26</td>\n",
       "    </tr>\n",
       "    <tr>\n",
       "      <th>2</th>\n",
       "      <td>contacts_show</td>\n",
       "      <td>4529</td>\n",
       "      <td>981</td>\n",
       "      <td>4.6</td>\n",
       "      <td>0.23</td>\n",
       "    </tr>\n",
       "    <tr>\n",
       "      <th>0</th>\n",
       "      <td>advert_open</td>\n",
       "      <td>6164</td>\n",
       "      <td>751</td>\n",
       "      <td>8.2</td>\n",
       "      <td>0.17</td>\n",
       "    </tr>\n",
       "    <tr>\n",
       "      <th>3</th>\n",
       "      <td>favorites_add</td>\n",
       "      <td>1417</td>\n",
       "      <td>351</td>\n",
       "      <td>4.0</td>\n",
       "      <td>0.08</td>\n",
       "    </tr>\n",
       "    <tr>\n",
       "      <th>7</th>\n",
       "      <td>tips_click</td>\n",
       "      <td>814</td>\n",
       "      <td>322</td>\n",
       "      <td>2.5</td>\n",
       "      <td>0.08</td>\n",
       "    </tr>\n",
       "    <tr>\n",
       "      <th>1</th>\n",
       "      <td>contacts_call</td>\n",
       "      <td>541</td>\n",
       "      <td>213</td>\n",
       "      <td>2.5</td>\n",
       "      <td>0.05</td>\n",
       "    </tr>\n",
       "  </tbody>\n",
       "</table>\n",
       "</div>"
      ],
      "text/plain": [
       "      event_name  all_users  uniq_users  event_per_user  fraction\n",
       "8      tips_show      40055        2801            14.3      0.65\n",
       "6         search       6784        1666             4.1      0.39\n",
       "4            map       3881        1456             2.7      0.34\n",
       "5    photos_show      10012        1095             9.1      0.26\n",
       "2  contacts_show       4529         981             4.6      0.23\n",
       "0    advert_open       6164         751             8.2      0.17\n",
       "3  favorites_add       1417         351             4.0      0.08\n",
       "7     tips_click        814         322             2.5      0.08\n",
       "1  contacts_call        541         213             2.5      0.05"
      ]
     },
     "execution_count": 55,
     "metadata": {},
     "output_type": "execute_result"
    }
   ],
   "source": [
    "event_funnel = df.groupby('event_name').agg({'user_id': ['count', 'nunique']}).reset_index()\n",
    "event_funnel.columns = ['event_name', 'all_users', 'uniq_users']\n",
    "event_funnel['event_per_user'] = (event_funnel['all_users'] / event_funnel['uniq_users']).round(1)\n",
    "event_funnel['fraction'] = (event_funnel['uniq_users'] / df['user_id'].unique().shape[0]).round(2)\n",
    "event_funnel = event_funnel.sort_values(by='uniq_users', ascending=False)\n",
    "event_funnel"
   ]
  },
  {
   "cell_type": "markdown",
   "id": "a5315f90",
   "metadata": {},
   "source": [
    "Из полученной таблицы видно как вырисовывается воронка событий, и до целевого события - просмотр контакта, пользователи, обычно, совершают 4 шага: просмотр рекомендованного объявления, поисковый запрос, просмотр карты объявлений и просмотр фото в объявлении. За имеющийся период, пользователь в среднем совершил около 5 целевых событий.   \n",
    "По полученным данным построим наглядную воронку событий, но, зная, что рекомендованные объявления показываются автоматически, выведем воронку без учета этого события."
   ]
  },
  {
   "cell_type": "code",
   "execution_count": 56,
   "id": "fe6f9c63",
   "metadata": {},
   "outputs": [
    {
     "data": {
      "application/vnd.plotly.v1+json": {
       "config": {
        "plotlyServerURL": "https://plot.ly"
       },
       "data": [
        {
         "textinfo": "value+percent initial+percent previous",
         "textposition": "auto",
         "type": "funnel",
         "x": [
          1666,
          1456,
          1095,
          981
         ],
         "y": [
          "search",
          "map",
          "photos_show",
          "contacts_show"
         ]
        }
       ],
       "layout": {
        "template": {
         "data": {
          "bar": [
           {
            "error_x": {
             "color": "#2a3f5f"
            },
            "error_y": {
             "color": "#2a3f5f"
            },
            "marker": {
             "line": {
              "color": "#E5ECF6",
              "width": 0.5
             },
             "pattern": {
              "fillmode": "overlay",
              "size": 10,
              "solidity": 0.2
             }
            },
            "type": "bar"
           }
          ],
          "barpolar": [
           {
            "marker": {
             "line": {
              "color": "#E5ECF6",
              "width": 0.5
             },
             "pattern": {
              "fillmode": "overlay",
              "size": 10,
              "solidity": 0.2
             }
            },
            "type": "barpolar"
           }
          ],
          "carpet": [
           {
            "aaxis": {
             "endlinecolor": "#2a3f5f",
             "gridcolor": "white",
             "linecolor": "white",
             "minorgridcolor": "white",
             "startlinecolor": "#2a3f5f"
            },
            "baxis": {
             "endlinecolor": "#2a3f5f",
             "gridcolor": "white",
             "linecolor": "white",
             "minorgridcolor": "white",
             "startlinecolor": "#2a3f5f"
            },
            "type": "carpet"
           }
          ],
          "choropleth": [
           {
            "colorbar": {
             "outlinewidth": 0,
             "ticks": ""
            },
            "type": "choropleth"
           }
          ],
          "contour": [
           {
            "colorbar": {
             "outlinewidth": 0,
             "ticks": ""
            },
            "colorscale": [
             [
              0,
              "#0d0887"
             ],
             [
              0.1111111111111111,
              "#46039f"
             ],
             [
              0.2222222222222222,
              "#7201a8"
             ],
             [
              0.3333333333333333,
              "#9c179e"
             ],
             [
              0.4444444444444444,
              "#bd3786"
             ],
             [
              0.5555555555555556,
              "#d8576b"
             ],
             [
              0.6666666666666666,
              "#ed7953"
             ],
             [
              0.7777777777777778,
              "#fb9f3a"
             ],
             [
              0.8888888888888888,
              "#fdca26"
             ],
             [
              1,
              "#f0f921"
             ]
            ],
            "type": "contour"
           }
          ],
          "contourcarpet": [
           {
            "colorbar": {
             "outlinewidth": 0,
             "ticks": ""
            },
            "type": "contourcarpet"
           }
          ],
          "heatmap": [
           {
            "colorbar": {
             "outlinewidth": 0,
             "ticks": ""
            },
            "colorscale": [
             [
              0,
              "#0d0887"
             ],
             [
              0.1111111111111111,
              "#46039f"
             ],
             [
              0.2222222222222222,
              "#7201a8"
             ],
             [
              0.3333333333333333,
              "#9c179e"
             ],
             [
              0.4444444444444444,
              "#bd3786"
             ],
             [
              0.5555555555555556,
              "#d8576b"
             ],
             [
              0.6666666666666666,
              "#ed7953"
             ],
             [
              0.7777777777777778,
              "#fb9f3a"
             ],
             [
              0.8888888888888888,
              "#fdca26"
             ],
             [
              1,
              "#f0f921"
             ]
            ],
            "type": "heatmap"
           }
          ],
          "heatmapgl": [
           {
            "colorbar": {
             "outlinewidth": 0,
             "ticks": ""
            },
            "colorscale": [
             [
              0,
              "#0d0887"
             ],
             [
              0.1111111111111111,
              "#46039f"
             ],
             [
              0.2222222222222222,
              "#7201a8"
             ],
             [
              0.3333333333333333,
              "#9c179e"
             ],
             [
              0.4444444444444444,
              "#bd3786"
             ],
             [
              0.5555555555555556,
              "#d8576b"
             ],
             [
              0.6666666666666666,
              "#ed7953"
             ],
             [
              0.7777777777777778,
              "#fb9f3a"
             ],
             [
              0.8888888888888888,
              "#fdca26"
             ],
             [
              1,
              "#f0f921"
             ]
            ],
            "type": "heatmapgl"
           }
          ],
          "histogram": [
           {
            "marker": {
             "pattern": {
              "fillmode": "overlay",
              "size": 10,
              "solidity": 0.2
             }
            },
            "type": "histogram"
           }
          ],
          "histogram2d": [
           {
            "colorbar": {
             "outlinewidth": 0,
             "ticks": ""
            },
            "colorscale": [
             [
              0,
              "#0d0887"
             ],
             [
              0.1111111111111111,
              "#46039f"
             ],
             [
              0.2222222222222222,
              "#7201a8"
             ],
             [
              0.3333333333333333,
              "#9c179e"
             ],
             [
              0.4444444444444444,
              "#bd3786"
             ],
             [
              0.5555555555555556,
              "#d8576b"
             ],
             [
              0.6666666666666666,
              "#ed7953"
             ],
             [
              0.7777777777777778,
              "#fb9f3a"
             ],
             [
              0.8888888888888888,
              "#fdca26"
             ],
             [
              1,
              "#f0f921"
             ]
            ],
            "type": "histogram2d"
           }
          ],
          "histogram2dcontour": [
           {
            "colorbar": {
             "outlinewidth": 0,
             "ticks": ""
            },
            "colorscale": [
             [
              0,
              "#0d0887"
             ],
             [
              0.1111111111111111,
              "#46039f"
             ],
             [
              0.2222222222222222,
              "#7201a8"
             ],
             [
              0.3333333333333333,
              "#9c179e"
             ],
             [
              0.4444444444444444,
              "#bd3786"
             ],
             [
              0.5555555555555556,
              "#d8576b"
             ],
             [
              0.6666666666666666,
              "#ed7953"
             ],
             [
              0.7777777777777778,
              "#fb9f3a"
             ],
             [
              0.8888888888888888,
              "#fdca26"
             ],
             [
              1,
              "#f0f921"
             ]
            ],
            "type": "histogram2dcontour"
           }
          ],
          "mesh3d": [
           {
            "colorbar": {
             "outlinewidth": 0,
             "ticks": ""
            },
            "type": "mesh3d"
           }
          ],
          "parcoords": [
           {
            "line": {
             "colorbar": {
              "outlinewidth": 0,
              "ticks": ""
             }
            },
            "type": "parcoords"
           }
          ],
          "pie": [
           {
            "automargin": true,
            "type": "pie"
           }
          ],
          "scatter": [
           {
            "marker": {
             "colorbar": {
              "outlinewidth": 0,
              "ticks": ""
             }
            },
            "type": "scatter"
           }
          ],
          "scatter3d": [
           {
            "line": {
             "colorbar": {
              "outlinewidth": 0,
              "ticks": ""
             }
            },
            "marker": {
             "colorbar": {
              "outlinewidth": 0,
              "ticks": ""
             }
            },
            "type": "scatter3d"
           }
          ],
          "scattercarpet": [
           {
            "marker": {
             "colorbar": {
              "outlinewidth": 0,
              "ticks": ""
             }
            },
            "type": "scattercarpet"
           }
          ],
          "scattergeo": [
           {
            "marker": {
             "colorbar": {
              "outlinewidth": 0,
              "ticks": ""
             }
            },
            "type": "scattergeo"
           }
          ],
          "scattergl": [
           {
            "marker": {
             "colorbar": {
              "outlinewidth": 0,
              "ticks": ""
             }
            },
            "type": "scattergl"
           }
          ],
          "scattermapbox": [
           {
            "marker": {
             "colorbar": {
              "outlinewidth": 0,
              "ticks": ""
             }
            },
            "type": "scattermapbox"
           }
          ],
          "scatterpolar": [
           {
            "marker": {
             "colorbar": {
              "outlinewidth": 0,
              "ticks": ""
             }
            },
            "type": "scatterpolar"
           }
          ],
          "scatterpolargl": [
           {
            "marker": {
             "colorbar": {
              "outlinewidth": 0,
              "ticks": ""
             }
            },
            "type": "scatterpolargl"
           }
          ],
          "scatterternary": [
           {
            "marker": {
             "colorbar": {
              "outlinewidth": 0,
              "ticks": ""
             }
            },
            "type": "scatterternary"
           }
          ],
          "surface": [
           {
            "colorbar": {
             "outlinewidth": 0,
             "ticks": ""
            },
            "colorscale": [
             [
              0,
              "#0d0887"
             ],
             [
              0.1111111111111111,
              "#46039f"
             ],
             [
              0.2222222222222222,
              "#7201a8"
             ],
             [
              0.3333333333333333,
              "#9c179e"
             ],
             [
              0.4444444444444444,
              "#bd3786"
             ],
             [
              0.5555555555555556,
              "#d8576b"
             ],
             [
              0.6666666666666666,
              "#ed7953"
             ],
             [
              0.7777777777777778,
              "#fb9f3a"
             ],
             [
              0.8888888888888888,
              "#fdca26"
             ],
             [
              1,
              "#f0f921"
             ]
            ],
            "type": "surface"
           }
          ],
          "table": [
           {
            "cells": {
             "fill": {
              "color": "#EBF0F8"
             },
             "line": {
              "color": "white"
             }
            },
            "header": {
             "fill": {
              "color": "#C8D4E3"
             },
             "line": {
              "color": "white"
             }
            },
            "type": "table"
           }
          ]
         },
         "layout": {
          "annotationdefaults": {
           "arrowcolor": "#2a3f5f",
           "arrowhead": 0,
           "arrowwidth": 1
          },
          "autotypenumbers": "strict",
          "coloraxis": {
           "colorbar": {
            "outlinewidth": 0,
            "ticks": ""
           }
          },
          "colorscale": {
           "diverging": [
            [
             0,
             "#8e0152"
            ],
            [
             0.1,
             "#c51b7d"
            ],
            [
             0.2,
             "#de77ae"
            ],
            [
             0.3,
             "#f1b6da"
            ],
            [
             0.4,
             "#fde0ef"
            ],
            [
             0.5,
             "#f7f7f7"
            ],
            [
             0.6,
             "#e6f5d0"
            ],
            [
             0.7,
             "#b8e186"
            ],
            [
             0.8,
             "#7fbc41"
            ],
            [
             0.9,
             "#4d9221"
            ],
            [
             1,
             "#276419"
            ]
           ],
           "sequential": [
            [
             0,
             "#0d0887"
            ],
            [
             0.1111111111111111,
             "#46039f"
            ],
            [
             0.2222222222222222,
             "#7201a8"
            ],
            [
             0.3333333333333333,
             "#9c179e"
            ],
            [
             0.4444444444444444,
             "#bd3786"
            ],
            [
             0.5555555555555556,
             "#d8576b"
            ],
            [
             0.6666666666666666,
             "#ed7953"
            ],
            [
             0.7777777777777778,
             "#fb9f3a"
            ],
            [
             0.8888888888888888,
             "#fdca26"
            ],
            [
             1,
             "#f0f921"
            ]
           ],
           "sequentialminus": [
            [
             0,
             "#0d0887"
            ],
            [
             0.1111111111111111,
             "#46039f"
            ],
            [
             0.2222222222222222,
             "#7201a8"
            ],
            [
             0.3333333333333333,
             "#9c179e"
            ],
            [
             0.4444444444444444,
             "#bd3786"
            ],
            [
             0.5555555555555556,
             "#d8576b"
            ],
            [
             0.6666666666666666,
             "#ed7953"
            ],
            [
             0.7777777777777778,
             "#fb9f3a"
            ],
            [
             0.8888888888888888,
             "#fdca26"
            ],
            [
             1,
             "#f0f921"
            ]
           ]
          },
          "colorway": [
           "#636efa",
           "#EF553B",
           "#00cc96",
           "#ab63fa",
           "#FFA15A",
           "#19d3f3",
           "#FF6692",
           "#B6E880",
           "#FF97FF",
           "#FECB52"
          ],
          "font": {
           "color": "#2a3f5f"
          },
          "geo": {
           "bgcolor": "white",
           "lakecolor": "white",
           "landcolor": "#E5ECF6",
           "showlakes": true,
           "showland": true,
           "subunitcolor": "white"
          },
          "hoverlabel": {
           "align": "left"
          },
          "hovermode": "closest",
          "mapbox": {
           "style": "light"
          },
          "paper_bgcolor": "white",
          "plot_bgcolor": "#E5ECF6",
          "polar": {
           "angularaxis": {
            "gridcolor": "white",
            "linecolor": "white",
            "ticks": ""
           },
           "bgcolor": "#E5ECF6",
           "radialaxis": {
            "gridcolor": "white",
            "linecolor": "white",
            "ticks": ""
           }
          },
          "scene": {
           "xaxis": {
            "backgroundcolor": "#E5ECF6",
            "gridcolor": "white",
            "gridwidth": 2,
            "linecolor": "white",
            "showbackground": true,
            "ticks": "",
            "zerolinecolor": "white"
           },
           "yaxis": {
            "backgroundcolor": "#E5ECF6",
            "gridcolor": "white",
            "gridwidth": 2,
            "linecolor": "white",
            "showbackground": true,
            "ticks": "",
            "zerolinecolor": "white"
           },
           "zaxis": {
            "backgroundcolor": "#E5ECF6",
            "gridcolor": "white",
            "gridwidth": 2,
            "linecolor": "white",
            "showbackground": true,
            "ticks": "",
            "zerolinecolor": "white"
           }
          },
          "shapedefaults": {
           "line": {
            "color": "#2a3f5f"
           }
          },
          "ternary": {
           "aaxis": {
            "gridcolor": "white",
            "linecolor": "white",
            "ticks": ""
           },
           "baxis": {
            "gridcolor": "white",
            "linecolor": "white",
            "ticks": ""
           },
           "bgcolor": "#E5ECF6",
           "caxis": {
            "gridcolor": "white",
            "linecolor": "white",
            "ticks": ""
           }
          },
          "title": {
           "x": 0.05
          },
          "xaxis": {
           "automargin": true,
           "gridcolor": "white",
           "linecolor": "white",
           "ticks": "",
           "title": {
            "standoff": 15
           },
           "zerolinecolor": "white",
           "zerolinewidth": 2
          },
          "yaxis": {
           "automargin": true,
           "gridcolor": "white",
           "linecolor": "white",
           "ticks": "",
           "title": {
            "standoff": 15
           },
           "zerolinecolor": "white",
           "zerolinewidth": 2
          }
         }
        },
        "title": {
         "text": "Воронка событий мобильного приложения"
        }
       }
      },
      "text/html": [
       "<div>                            <div id=\"d0d97cd1-7862-49ba-a1d8-86b975c3f7cf\" class=\"plotly-graph-div\" style=\"height:525px; width:100%;\"></div>            <script type=\"text/javascript\">                require([\"plotly\"], function(Plotly) {                    window.PLOTLYENV=window.PLOTLYENV || {};                                    if (document.getElementById(\"d0d97cd1-7862-49ba-a1d8-86b975c3f7cf\")) {                    Plotly.newPlot(                        \"d0d97cd1-7862-49ba-a1d8-86b975c3f7cf\",                        [{\"textinfo\":\"value+percent initial+percent previous\",\"textposition\":\"auto\",\"x\":[1666,1456,1095,981],\"y\":[\"search\",\"map\",\"photos_show\",\"contacts_show\"],\"type\":\"funnel\"}],                        {\"template\":{\"data\":{\"bar\":[{\"error_x\":{\"color\":\"#2a3f5f\"},\"error_y\":{\"color\":\"#2a3f5f\"},\"marker\":{\"line\":{\"color\":\"#E5ECF6\",\"width\":0.5},\"pattern\":{\"fillmode\":\"overlay\",\"size\":10,\"solidity\":0.2}},\"type\":\"bar\"}],\"barpolar\":[{\"marker\":{\"line\":{\"color\":\"#E5ECF6\",\"width\":0.5},\"pattern\":{\"fillmode\":\"overlay\",\"size\":10,\"solidity\":0.2}},\"type\":\"barpolar\"}],\"carpet\":[{\"aaxis\":{\"endlinecolor\":\"#2a3f5f\",\"gridcolor\":\"white\",\"linecolor\":\"white\",\"minorgridcolor\":\"white\",\"startlinecolor\":\"#2a3f5f\"},\"baxis\":{\"endlinecolor\":\"#2a3f5f\",\"gridcolor\":\"white\",\"linecolor\":\"white\",\"minorgridcolor\":\"white\",\"startlinecolor\":\"#2a3f5f\"},\"type\":\"carpet\"}],\"choropleth\":[{\"colorbar\":{\"outlinewidth\":0,\"ticks\":\"\"},\"type\":\"choropleth\"}],\"contour\":[{\"colorbar\":{\"outlinewidth\":0,\"ticks\":\"\"},\"colorscale\":[[0.0,\"#0d0887\"],[0.1111111111111111,\"#46039f\"],[0.2222222222222222,\"#7201a8\"],[0.3333333333333333,\"#9c179e\"],[0.4444444444444444,\"#bd3786\"],[0.5555555555555556,\"#d8576b\"],[0.6666666666666666,\"#ed7953\"],[0.7777777777777778,\"#fb9f3a\"],[0.8888888888888888,\"#fdca26\"],[1.0,\"#f0f921\"]],\"type\":\"contour\"}],\"contourcarpet\":[{\"colorbar\":{\"outlinewidth\":0,\"ticks\":\"\"},\"type\":\"contourcarpet\"}],\"heatmap\":[{\"colorbar\":{\"outlinewidth\":0,\"ticks\":\"\"},\"colorscale\":[[0.0,\"#0d0887\"],[0.1111111111111111,\"#46039f\"],[0.2222222222222222,\"#7201a8\"],[0.3333333333333333,\"#9c179e\"],[0.4444444444444444,\"#bd3786\"],[0.5555555555555556,\"#d8576b\"],[0.6666666666666666,\"#ed7953\"],[0.7777777777777778,\"#fb9f3a\"],[0.8888888888888888,\"#fdca26\"],[1.0,\"#f0f921\"]],\"type\":\"heatmap\"}],\"heatmapgl\":[{\"colorbar\":{\"outlinewidth\":0,\"ticks\":\"\"},\"colorscale\":[[0.0,\"#0d0887\"],[0.1111111111111111,\"#46039f\"],[0.2222222222222222,\"#7201a8\"],[0.3333333333333333,\"#9c179e\"],[0.4444444444444444,\"#bd3786\"],[0.5555555555555556,\"#d8576b\"],[0.6666666666666666,\"#ed7953\"],[0.7777777777777778,\"#fb9f3a\"],[0.8888888888888888,\"#fdca26\"],[1.0,\"#f0f921\"]],\"type\":\"heatmapgl\"}],\"histogram\":[{\"marker\":{\"pattern\":{\"fillmode\":\"overlay\",\"size\":10,\"solidity\":0.2}},\"type\":\"histogram\"}],\"histogram2d\":[{\"colorbar\":{\"outlinewidth\":0,\"ticks\":\"\"},\"colorscale\":[[0.0,\"#0d0887\"],[0.1111111111111111,\"#46039f\"],[0.2222222222222222,\"#7201a8\"],[0.3333333333333333,\"#9c179e\"],[0.4444444444444444,\"#bd3786\"],[0.5555555555555556,\"#d8576b\"],[0.6666666666666666,\"#ed7953\"],[0.7777777777777778,\"#fb9f3a\"],[0.8888888888888888,\"#fdca26\"],[1.0,\"#f0f921\"]],\"type\":\"histogram2d\"}],\"histogram2dcontour\":[{\"colorbar\":{\"outlinewidth\":0,\"ticks\":\"\"},\"colorscale\":[[0.0,\"#0d0887\"],[0.1111111111111111,\"#46039f\"],[0.2222222222222222,\"#7201a8\"],[0.3333333333333333,\"#9c179e\"],[0.4444444444444444,\"#bd3786\"],[0.5555555555555556,\"#d8576b\"],[0.6666666666666666,\"#ed7953\"],[0.7777777777777778,\"#fb9f3a\"],[0.8888888888888888,\"#fdca26\"],[1.0,\"#f0f921\"]],\"type\":\"histogram2dcontour\"}],\"mesh3d\":[{\"colorbar\":{\"outlinewidth\":0,\"ticks\":\"\"},\"type\":\"mesh3d\"}],\"parcoords\":[{\"line\":{\"colorbar\":{\"outlinewidth\":0,\"ticks\":\"\"}},\"type\":\"parcoords\"}],\"pie\":[{\"automargin\":true,\"type\":\"pie\"}],\"scatter\":[{\"marker\":{\"colorbar\":{\"outlinewidth\":0,\"ticks\":\"\"}},\"type\":\"scatter\"}],\"scatter3d\":[{\"line\":{\"colorbar\":{\"outlinewidth\":0,\"ticks\":\"\"}},\"marker\":{\"colorbar\":{\"outlinewidth\":0,\"ticks\":\"\"}},\"type\":\"scatter3d\"}],\"scattercarpet\":[{\"marker\":{\"colorbar\":{\"outlinewidth\":0,\"ticks\":\"\"}},\"type\":\"scattercarpet\"}],\"scattergeo\":[{\"marker\":{\"colorbar\":{\"outlinewidth\":0,\"ticks\":\"\"}},\"type\":\"scattergeo\"}],\"scattergl\":[{\"marker\":{\"colorbar\":{\"outlinewidth\":0,\"ticks\":\"\"}},\"type\":\"scattergl\"}],\"scattermapbox\":[{\"marker\":{\"colorbar\":{\"outlinewidth\":0,\"ticks\":\"\"}},\"type\":\"scattermapbox\"}],\"scatterpolar\":[{\"marker\":{\"colorbar\":{\"outlinewidth\":0,\"ticks\":\"\"}},\"type\":\"scatterpolar\"}],\"scatterpolargl\":[{\"marker\":{\"colorbar\":{\"outlinewidth\":0,\"ticks\":\"\"}},\"type\":\"scatterpolargl\"}],\"scatterternary\":[{\"marker\":{\"colorbar\":{\"outlinewidth\":0,\"ticks\":\"\"}},\"type\":\"scatterternary\"}],\"surface\":[{\"colorbar\":{\"outlinewidth\":0,\"ticks\":\"\"},\"colorscale\":[[0.0,\"#0d0887\"],[0.1111111111111111,\"#46039f\"],[0.2222222222222222,\"#7201a8\"],[0.3333333333333333,\"#9c179e\"],[0.4444444444444444,\"#bd3786\"],[0.5555555555555556,\"#d8576b\"],[0.6666666666666666,\"#ed7953\"],[0.7777777777777778,\"#fb9f3a\"],[0.8888888888888888,\"#fdca26\"],[1.0,\"#f0f921\"]],\"type\":\"surface\"}],\"table\":[{\"cells\":{\"fill\":{\"color\":\"#EBF0F8\"},\"line\":{\"color\":\"white\"}},\"header\":{\"fill\":{\"color\":\"#C8D4E3\"},\"line\":{\"color\":\"white\"}},\"type\":\"table\"}]},\"layout\":{\"annotationdefaults\":{\"arrowcolor\":\"#2a3f5f\",\"arrowhead\":0,\"arrowwidth\":1},\"autotypenumbers\":\"strict\",\"coloraxis\":{\"colorbar\":{\"outlinewidth\":0,\"ticks\":\"\"}},\"colorscale\":{\"diverging\":[[0,\"#8e0152\"],[0.1,\"#c51b7d\"],[0.2,\"#de77ae\"],[0.3,\"#f1b6da\"],[0.4,\"#fde0ef\"],[0.5,\"#f7f7f7\"],[0.6,\"#e6f5d0\"],[0.7,\"#b8e186\"],[0.8,\"#7fbc41\"],[0.9,\"#4d9221\"],[1,\"#276419\"]],\"sequential\":[[0.0,\"#0d0887\"],[0.1111111111111111,\"#46039f\"],[0.2222222222222222,\"#7201a8\"],[0.3333333333333333,\"#9c179e\"],[0.4444444444444444,\"#bd3786\"],[0.5555555555555556,\"#d8576b\"],[0.6666666666666666,\"#ed7953\"],[0.7777777777777778,\"#fb9f3a\"],[0.8888888888888888,\"#fdca26\"],[1.0,\"#f0f921\"]],\"sequentialminus\":[[0.0,\"#0d0887\"],[0.1111111111111111,\"#46039f\"],[0.2222222222222222,\"#7201a8\"],[0.3333333333333333,\"#9c179e\"],[0.4444444444444444,\"#bd3786\"],[0.5555555555555556,\"#d8576b\"],[0.6666666666666666,\"#ed7953\"],[0.7777777777777778,\"#fb9f3a\"],[0.8888888888888888,\"#fdca26\"],[1.0,\"#f0f921\"]]},\"colorway\":[\"#636efa\",\"#EF553B\",\"#00cc96\",\"#ab63fa\",\"#FFA15A\",\"#19d3f3\",\"#FF6692\",\"#B6E880\",\"#FF97FF\",\"#FECB52\"],\"font\":{\"color\":\"#2a3f5f\"},\"geo\":{\"bgcolor\":\"white\",\"lakecolor\":\"white\",\"landcolor\":\"#E5ECF6\",\"showlakes\":true,\"showland\":true,\"subunitcolor\":\"white\"},\"hoverlabel\":{\"align\":\"left\"},\"hovermode\":\"closest\",\"mapbox\":{\"style\":\"light\"},\"paper_bgcolor\":\"white\",\"plot_bgcolor\":\"#E5ECF6\",\"polar\":{\"angularaxis\":{\"gridcolor\":\"white\",\"linecolor\":\"white\",\"ticks\":\"\"},\"bgcolor\":\"#E5ECF6\",\"radialaxis\":{\"gridcolor\":\"white\",\"linecolor\":\"white\",\"ticks\":\"\"}},\"scene\":{\"xaxis\":{\"backgroundcolor\":\"#E5ECF6\",\"gridcolor\":\"white\",\"gridwidth\":2,\"linecolor\":\"white\",\"showbackground\":true,\"ticks\":\"\",\"zerolinecolor\":\"white\"},\"yaxis\":{\"backgroundcolor\":\"#E5ECF6\",\"gridcolor\":\"white\",\"gridwidth\":2,\"linecolor\":\"white\",\"showbackground\":true,\"ticks\":\"\",\"zerolinecolor\":\"white\"},\"zaxis\":{\"backgroundcolor\":\"#E5ECF6\",\"gridcolor\":\"white\",\"gridwidth\":2,\"linecolor\":\"white\",\"showbackground\":true,\"ticks\":\"\",\"zerolinecolor\":\"white\"}},\"shapedefaults\":{\"line\":{\"color\":\"#2a3f5f\"}},\"ternary\":{\"aaxis\":{\"gridcolor\":\"white\",\"linecolor\":\"white\",\"ticks\":\"\"},\"baxis\":{\"gridcolor\":\"white\",\"linecolor\":\"white\",\"ticks\":\"\"},\"bgcolor\":\"#E5ECF6\",\"caxis\":{\"gridcolor\":\"white\",\"linecolor\":\"white\",\"ticks\":\"\"}},\"title\":{\"x\":0.05},\"xaxis\":{\"automargin\":true,\"gridcolor\":\"white\",\"linecolor\":\"white\",\"ticks\":\"\",\"title\":{\"standoff\":15},\"zerolinecolor\":\"white\",\"zerolinewidth\":2},\"yaxis\":{\"automargin\":true,\"gridcolor\":\"white\",\"linecolor\":\"white\",\"ticks\":\"\",\"title\":{\"standoff\":15},\"zerolinecolor\":\"white\",\"zerolinewidth\":2}}},\"title\":{\"text\":\"\\u0412\\u043e\\u0440\\u043e\\u043d\\u043a\\u0430 \\u0441\\u043e\\u0431\\u044b\\u0442\\u0438\\u0439 \\u043c\\u043e\\u0431\\u0438\\u043b\\u044c\\u043d\\u043e\\u0433\\u043e \\u043f\\u0440\\u0438\\u043b\\u043e\\u0436\\u0435\\u043d\\u0438\\u044f\"}},                        {\"responsive\": true}                    ).then(function(){\n",
       "                            \n",
       "var gd = document.getElementById('d0d97cd1-7862-49ba-a1d8-86b975c3f7cf');\n",
       "var x = new MutationObserver(function (mutations, observer) {{\n",
       "        var display = window.getComputedStyle(gd).display;\n",
       "        if (!display || display === 'none') {{\n",
       "            console.log([gd, 'removed!']);\n",
       "            Plotly.purge(gd);\n",
       "            observer.disconnect();\n",
       "        }}\n",
       "}});\n",
       "\n",
       "// Listen for the removal of the full notebook cells\n",
       "var notebookContainer = gd.closest('#notebook-container');\n",
       "if (notebookContainer) {{\n",
       "    x.observe(notebookContainer, {childList: true});\n",
       "}}\n",
       "\n",
       "// Listen for the clearing of the current output cell\n",
       "var outputEl = gd.closest('.output');\n",
       "if (outputEl) {{\n",
       "    x.observe(outputEl, {childList: true});\n",
       "}}\n",
       "\n",
       "                        })                };                });            </script>        </div>"
      ]
     },
     "metadata": {},
     "output_type": "display_data"
    }
   ],
   "source": [
    "funnel = event_funnel.query('index not in [0, 1, 3, 7, 8]')\n",
    "\n",
    "fig = go.Figure()\n",
    "fig.add_trace(go.Funnel(\n",
    "    y = funnel['event_name'],\n",
    "    x = funnel['uniq_users'],\n",
    "    textposition = \"auto\",\n",
    "    textinfo = \"value+percent initial+percent previous\"\n",
    "))\n",
    "fig.update_layout(title='Воронка событий мобильного приложения')\n",
    "fig.show()"
   ]
  },
  {
   "cell_type": "markdown",
   "id": "ae08f659",
   "metadata": {},
   "source": [
    "Воронка нам показывает, что из тех пользователей, которые активно ищут вещи с помощью поисковых запросов, до просмотра контактов доходит 59%."
   ]
  },
  {
   "cell_type": "markdown",
   "id": "a60146dd",
   "metadata": {},
   "source": [
    "### Расчёт пройденного времени от  предыдущего до целевого события."
   ]
  },
  {
   "cell_type": "markdown",
   "id": "71a6b41d",
   "metadata": {},
   "source": [
    "Посчитаем сколько в среднем времени тратит пользователь на переход от вспомогательного действия к целевому событию."
   ]
  },
  {
   "cell_type": "code",
   "execution_count": 57,
   "id": "a9492eca",
   "metadata": {
    "scrolled": true
   },
   "outputs": [
    {
     "data": {
      "text/plain": [
       "count    74196.000000\n",
       "mean        32.604077\n",
       "std        193.256361\n",
       "min          0.000001\n",
       "25%          4.720981\n",
       "50%         13.006696\n",
       "75%         30.894998\n",
       "max      13101.375306\n",
       "Name: delta_time, dtype: float64"
      ]
     },
     "execution_count": 57,
     "metadata": {},
     "output_type": "execute_result"
    }
   ],
   "source": [
    "until_time = df.copy()\n",
    "until_time['prev_event'] = until_time['event_name'].shift()\n",
    "until_time['prev_time'] = until_time['event_time'].shift()\n",
    "until_time['delta_time'] = (until_time['event_time'] - until_time['prev_time']).dt.total_seconds()\n",
    "until_time['delta_time'].describe()"
   ]
  },
  {
   "cell_type": "markdown",
   "id": "4ec21aea",
   "metadata": {},
   "source": [
    "Так как в данных имеются выбросы - максимальная разница времени около 3,5 часов, что никак не укладывается в продолжительность сессии, то для расчета возьмем медианную величину."
   ]
  },
  {
   "cell_type": "code",
   "execution_count": 58,
   "id": "20876370",
   "metadata": {},
   "outputs": [
    {
     "data": {
      "text/html": [
       "<div>\n",
       "<style scoped>\n",
       "    .dataframe tbody tr th:only-of-type {\n",
       "        vertical-align: middle;\n",
       "    }\n",
       "\n",
       "    .dataframe tbody tr th {\n",
       "        vertical-align: top;\n",
       "    }\n",
       "\n",
       "    .dataframe thead th {\n",
       "        text-align: right;\n",
       "    }\n",
       "</style>\n",
       "<table border=\"1\" class=\"dataframe\">\n",
       "  <thead>\n",
       "    <tr style=\"text-align: right;\">\n",
       "      <th></th>\n",
       "      <th>prev_event</th>\n",
       "      <th>delta_time</th>\n",
       "    </tr>\n",
       "  </thead>\n",
       "  <tbody>\n",
       "    <tr>\n",
       "      <th>0</th>\n",
       "      <td>advert_open</td>\n",
       "      <td>7.0</td>\n",
       "    </tr>\n",
       "    <tr>\n",
       "      <th>1</th>\n",
       "      <td>contacts_call</td>\n",
       "      <td>23.0</td>\n",
       "    </tr>\n",
       "    <tr>\n",
       "      <th>2</th>\n",
       "      <td>contacts_show</td>\n",
       "      <td>6.0</td>\n",
       "    </tr>\n",
       "    <tr>\n",
       "      <th>3</th>\n",
       "      <td>favorites_add</td>\n",
       "      <td>12.0</td>\n",
       "    </tr>\n",
       "    <tr>\n",
       "      <th>4</th>\n",
       "      <td>map</td>\n",
       "      <td>15.0</td>\n",
       "    </tr>\n",
       "    <tr>\n",
       "      <th>5</th>\n",
       "      <td>photos_show</td>\n",
       "      <td>17.0</td>\n",
       "    </tr>\n",
       "    <tr>\n",
       "      <th>6</th>\n",
       "      <td>search</td>\n",
       "      <td>12.0</td>\n",
       "    </tr>\n",
       "    <tr>\n",
       "      <th>7</th>\n",
       "      <td>tips_click</td>\n",
       "      <td>4.0</td>\n",
       "    </tr>\n",
       "    <tr>\n",
       "      <th>8</th>\n",
       "      <td>tips_show</td>\n",
       "      <td>14.0</td>\n",
       "    </tr>\n",
       "  </tbody>\n",
       "</table>\n",
       "</div>"
      ],
      "text/plain": [
       "      prev_event  delta_time\n",
       "0    advert_open         7.0\n",
       "1  contacts_call        23.0\n",
       "2  contacts_show         6.0\n",
       "3  favorites_add        12.0\n",
       "4            map        15.0\n",
       "5    photos_show        17.0\n",
       "6         search        12.0\n",
       "7     tips_click         4.0\n",
       "8      tips_show        14.0"
      ]
     },
     "execution_count": 58,
     "metadata": {},
     "output_type": "execute_result"
    }
   ],
   "source": [
    "until_time = until_time.query('event_name == \"contacts_show\"')\n",
    "until_time = (until_time.groupby('prev_event')\n",
    "                        .agg({'delta_time': 'median'})\n",
    "                        .round()\n",
    "                        .reset_index())\n",
    "until_time"
   ]
  },
  {
   "cell_type": "markdown",
   "id": "887d40bd",
   "metadata": {},
   "source": [
    "Визуализируем полученные данные. Опять же, не будем учитывать совершение звонка - так как это, вероятно, по предыдущему просмотру контакта, и само целевое событие - просмотр контакта."
   ]
  },
  {
   "cell_type": "code",
   "execution_count": 59,
   "id": "708c972a",
   "metadata": {},
   "outputs": [
    {
     "data": {
      "image/png": "[encoded data removed]",
      "text/plain": [
       "<Figure size 1440x720 with 1 Axes>"
      ]
     },
     "metadata": {},
     "output_type": "display_data"
    }
   ],
   "source": [
    "until_time = until_time.query('index not in [1, 2]').sort_values(by='delta_time', ascending=False)\n",
    "u = sns.barplot(y=('delta_time'), x='prev_event', data=until_time, palette='rainbow')\n",
    "sns.set(font_scale=1.5)\n",
    "u.bar_label(u.containers[0])\n",
    "plt.xlabel('Событие')\n",
    "plt.grid()\n",
    "plt.ylabel('Время, с')\n",
    "plt.title('Среднее время между вспомогательным и целевым событием')\n",
    "plt.show()"
   ]
  },
  {
   "cell_type": "markdown",
   "id": "55da4efe",
   "metadata": {},
   "source": [
    "Судя по графику, меньше всего времени проходит до целевого события, если пользователь кликнул по рекомендованному объявлению или открыл карточку объявления. Это вполне логично, ведь если пользователя так заинтересовало объявление, то он, скорее всего, просмотрит контакт продавца. Больше всего времени проходит до целевого события от просмотра фотографии и поиска по карте. "
   ]
  },
  {
   "cell_type": "markdown",
   "id": "4f30e1ff",
   "metadata": {},
   "source": [
    "## Проверка статистических гипотез."
   ]
  },
  {
   "cell_type": "markdown",
   "id": "209375cf",
   "metadata": {},
   "source": [
    "### Первая гипотеза."
   ]
  },
  {
   "cell_type": "markdown",
   "id": "725de998",
   "metadata": {},
   "source": [
    "Одни пользователи совершают действия tips_show и tips_click, другие — только tips_show. Проверим гипотезу: конверсия в просмотры контактов различается у этих двух групп.  \n",
    "\n",
    "Сформулируем нулевую гипотезу $H_0$ и альтернативную гипотезу $H_1$:\n",
    "- Так как нулевая гипотеза всегда формулируется так, чтобы использовать знак равенства, в этом случае она будет звучать так - конверсия в просмотры контактов между теми пользователями, которые совершили событие tips_show и событие tips_click и теми пользователями, которые совершили только событие tips_show **равна**;\n",
    "- Альтернативная гипотеза звучит так - конверсия в просмотры контактов между теми пользователями, которые совершили событие tips_show и событие tips_click и теми пользователями, которые совершили только событие tips_show, **различается**.\n",
    "\n",
    "Перед тем как приступить к проверке гипотезы, необходимо подготовить данные. Выделим всех пользователей, кто совершил \"tips_show\", и разделим их на 2 группы - кто совершал \"tips_click\" и кто нет. Затем выведем количество совершенных ими событий."
   ]
  },
  {
   "cell_type": "code",
   "execution_count": 60,
   "id": "b168ec53",
   "metadata": {},
   "outputs": [
    {
     "name": "stdout",
     "output_type": "stream",
     "text": [
      "Количество всех пользователей с событием \"tips_show\" = 2801\n",
      "Количество пользователей совершивших события \"tips_show\" и \"tips_click\" = 297\n",
      "Количество пользователей совершивших только \"tips_show\" = 2504\n"
     ]
    }
   ],
   "source": [
    "tips_show_users = df.query('event_name ==\"tips_show\"')['user_id'].unique().tolist()\n",
    "print('Количество всех пользователей с событием \"tips_show\" =', len(tips_show_users))\n",
    "\n",
    "tips_show_click_users = df.query('event_name ==\"tips_click\" and user_id==@tips_show_users')['user_id'].unique().tolist()\n",
    "print('Количество пользователей совершивших события \"tips_show\" и \"tips_click\" =', len(tips_show_click_users))\n",
    "\n",
    "only_tips_show_users = list(set(tips_show_users) - set(tips_show_click_users))\n",
    "print('Количество пользователей совершивших только \"tips_show\" =', len(only_tips_show_users))"
   ]
  },
  {
   "cell_type": "code",
   "execution_count": 61,
   "id": "523f4ac3",
   "metadata": {},
   "outputs": [
    {
     "data": {
      "text/plain": [
       "91"
      ]
     },
     "execution_count": 61,
     "metadata": {},
     "output_type": "execute_result"
    }
   ],
   "source": [
    "tips_show_click_events = df.query('user_id==@tips_show_click_users')\n",
    "tips_show_click_events[tips_show_click_events['event_name'] == 'contacts_show']['user_id'].nunique()"
   ]
  },
  {
   "cell_type": "code",
   "execution_count": 62,
   "id": "f232b7ad",
   "metadata": {},
   "outputs": [
    {
     "data": {
      "text/plain": [
       "425"
      ]
     },
     "execution_count": 62,
     "metadata": {},
     "output_type": "execute_result"
    }
   ],
   "source": [
    "only_tips_show_events = df.query('user_id==@only_tips_show_users')\n",
    "only_tips_show_events[only_tips_show_events['event_name'] == 'contacts_show']['user_id'].nunique()"
   ]
  },
  {
   "cell_type": "markdown",
   "id": "df8a4ca4",
   "metadata": {},
   "source": [
    "В группе №1 из 297 пользователей, совершивших события \"tips_show\" и \"tips_tips_click\", контакты просмотрел 91 пользователь. В группе №2 из 2504 пользователей, совершивших событие \"tips_show\",  контакты просмотрели 425 пользователей. \n",
    "\n",
    "Проверим, есть ли статистически значимая разница в конверсии, для этого применим метод - проверка гипотезы о равенстве долей. Данные для статистического теста у нас выведены, уровень статистической значимости возьмем стандартный равный 5%.  \n",
    "\n",
    "Напишем функцию stat_test(successes, trials, alpha), которая проводит тестирование на равенство долей, гле\n",
    "- successes - количество успешных попыток [группа №1, группа №2];  \n",
    "- trials - всего попыток [группа №1, группа №2];  \n",
    "- alpha - критический уровень статистической значимости.  "
   ]
  },
  {
   "cell_type": "code",
   "execution_count": 63,
   "id": "be6ac79f",
   "metadata": {},
   "outputs": [],
   "source": [
    "def stat_test(successes, trials, alpha):  \n",
    "\n",
    "    alpha = alpha\n",
    "    successes = successes\n",
    "    trials = trials\n",
    "\n",
    "    # пропорция успехов в первой группе:\n",
    "    p1 = successes[0]/trials[0]\n",
    "    print('Пропорция успехов в 1 группе', p1)\n",
    "\n",
    "    # пропорция успехов во второй группе:\n",
    "    p2 = successes[1]/trials[1]\n",
    "    print('Пропорция успехов во 2 группе', p2)\n",
    "\n",
    "    # пропорция успехов в комбинированном датасете:\n",
    "    p_combined = (successes[0] + successes[1]) / (trials[0] + trials[1])\n",
    "\n",
    "    # разница пропорций в датасетах\n",
    "    difference = p1 - p2\n",
    "    print('Разница пропорций', difference)\n",
    "\n",
    "    # считаем статистику в ст.отклонениях стандартного нормального распределения\n",
    "    z_value = difference / math.sqrt(p_combined * (1 - p_combined) * (1/trials[0] + 1/trials[1]))\n",
    "\n",
    "    # задаем стандартное нормальное распределение (среднее 0, ст.отклонение 1)\n",
    "    distr = st.norm(0, 1) \n",
    "\n",
    "    # считаем статистику в ст.отклонениях стандартного нормального распределения\n",
    "    z_value = difference / math.sqrt(\n",
    "        p_combined * (1 - p_combined) * (1 / trials[0] + 1 / trials[1])\n",
    "    )\n",
    "\n",
    "    # задаем стандартное нормальное распределение (среднее 0, ст.отклонение 1)\n",
    "    distr = st.norm(0, 1)\n",
    "\n",
    "    p_value = (1 - distr.cdf(abs(z_value))) * 2\n",
    "\n",
    "    print('p-значение: ', p_value)\n",
    "\n",
    "    if p_value < alpha:\n",
    "        print('Отвергаем нулевую гипотезу: между долями есть значимая разница')\n",
    "    else:\n",
    "        print(\n",
    "            'Не получилось отвергнуть нулевую гипотезу, нет оснований считать доли разными'\n",
    "        )"
   ]
  },
  {
   "cell_type": "code",
   "execution_count": 64,
   "id": "4fde7be4",
   "metadata": {},
   "outputs": [
    {
     "name": "stdout",
     "output_type": "stream",
     "text": [
      "Пропорция успехов в 1 группе 0.3063973063973064\n",
      "Пропорция успехов во 2 группе 0.16972843450479233\n",
      "Разница пропорций 0.13666887189251406\n",
      "p-значение:  9.218316554537864e-09\n",
      "Отвергаем нулевую гипотезу: между долями есть значимая разница\n"
     ]
    }
   ],
   "source": [
    "alpha = .05\n",
    "successes = [91, 425]\n",
    "trials = [297, 2504]\n",
    "\n",
    "stat_test(successes, trials, alpha)"
   ]
  },
  {
   "cell_type": "markdown",
   "id": "2a419e65",
   "metadata": {},
   "source": [
    "Результат теста показывает, что такая разница в пропорциях при указанных размерах выборок достаточна, чтобы говорить о статистически значимом различии. Это означает, что конверсии в просмотры контактов между теми пользователями, которые совершили событие tips_show и событие tips_click и теми пользователями, которые совершили только событие tips_show, не равны между собой."
   ]
  },
  {
   "cell_type": "code",
   "execution_count": 65,
   "id": "ab56f0a2",
   "metadata": {},
   "outputs": [
    {
     "name": "stdout",
     "output_type": "stream",
     "text": [
      "конверсия первой группы = 30.64%, конверсия 2 группы = 16.97%\n"
     ]
    }
   ],
   "source": [
    "conversion_group_1 = round(91 / 297 * 100, 2)\n",
    "conversion_group_2 = round(425 / 2504 * 100, 2)\n",
    "print(f'конверсия первой группы = {conversion_group_1}%, конверсия 2 группы = {conversion_group_2}%')"
   ]
  },
  {
   "cell_type": "markdown",
   "id": "1378fcc1",
   "metadata": {},
   "source": [
    "И действительно, при прямом подсчёте конверсии, разница составляет около 14%, это является значительным. Данный результат указывает на то, что при кликании по рекомендованному объявлению, пользователь с большей вероятностью просмотрит контакт продавца."
   ]
  },
  {
   "cell_type": "markdown",
   "id": "ff86defe",
   "metadata": {},
   "source": [
    "### Вторая гипотеза."
   ]
  },
  {
   "cell_type": "markdown",
   "id": "bd68f90f",
   "metadata": {},
   "source": [
    "Пользователи совершают действия \"advert_open\" — открытие карточки объявления и \"favorites_add\" - добавление объявления в избранное. Посмотрим оказывает ли значимое влияние на пользователя добавление объявления в избранное, чтобы он просмотрел контакт. Проверим гипотезу: конверсия в просмотры контактов различается у этих двух событий.  \n",
    "\n",
    "Сформулируем нулевую гипотезу $H_0$ и альтернативную гипотезу $H_1$:\n",
    "- Нулевая гипотеза - конверсия в просмотры контактов между теми пользователями, которые совершили событие \"advert_open\" и теми пользователями, которые совершили событие \"favorites_add\" **равна**;\n",
    "- Альтернативная гипотеза звучит так - конверсия в просмотры контактов между теми пользователями, которые совершили событие \"advert_open\" и теми пользователями, которые совершили только событие \"favorites_add\", **различается**.\n",
    "\n",
    "Перед проверкой гипотезы, необходимо подготовить данные. Выделим всех пользователей, кто совершил \"advert_open\" без добавления в избранное в группу №1, и тех, кто совершил \"favorites_add\" во группу №2. Затем выведем количество совершенных ими событий."
   ]
  },
  {
   "cell_type": "code",
   "execution_count": 66,
   "id": "53f2dfd7",
   "metadata": {
    "scrolled": true
   },
   "outputs": [
    {
     "name": "stdout",
     "output_type": "stream",
     "text": [
      "Количество пользователей открывших объявление, но не добавивших его в избранное =  751\n",
      "Количество пользователей добавивших объявление в избранное =  351\n"
     ]
    }
   ],
   "source": [
    "advert_open_users = df.query('event_name == \"advert_open\" and event_name != \"favorites_add\"')['user_id'].unique().tolist()\n",
    "favorites_add_users = df.query('event_name == \"favorites_add\"')['user_id'].unique().tolist()\n",
    "\n",
    "advert_open = df[df['user_id'].isin(advert_open_users)]\n",
    "favorites_add = df[df['user_id'].isin(favorites_add_users)]\n",
    "\n",
    "print('Количество пользователей открывших объявление, но не добавивших его в избранное = ', advert_open['user_id'].nunique())\n",
    "print('Количество пользователей добавивших объявление в избранное = ',favorites_add['user_id'].nunique())"
   ]
  },
  {
   "cell_type": "code",
   "execution_count": 67,
   "id": "114c2d8f",
   "metadata": {},
   "outputs": [
    {
     "data": {
      "text/plain": [
       "138"
      ]
     },
     "execution_count": 67,
     "metadata": {},
     "output_type": "execute_result"
    }
   ],
   "source": [
    "advert_open[advert_open['event_name'] == 'contacts_show']['user_id'].nunique()"
   ]
  },
  {
   "cell_type": "code",
   "execution_count": 68,
   "id": "c8aa010c",
   "metadata": {},
   "outputs": [
    {
     "data": {
      "text/plain": [
       "136"
      ]
     },
     "execution_count": 68,
     "metadata": {},
     "output_type": "execute_result"
    }
   ],
   "source": [
    "favorites_add[favorites_add['event_name'] == 'contacts_show']['user_id'].nunique()"
   ]
  },
  {
   "cell_type": "markdown",
   "id": "20bac306",
   "metadata": {},
   "source": [
    "Итак, в группе №1 из 751 пользователя, совершивших событие \"advert_open\", 138 просмотрели контакты. В группе №2 из 351 пользователя, совершивших событие \"favorites_add\" 136 просмотрели контакты.  \n",
    "Проверим, есть ли статистически значимая разница в конверсии, для этого применим метод - проверка гипотезы о равенстве долей, уровень статистической значимости возьмем стандартный равный 5%."
   ]
  },
  {
   "cell_type": "code",
   "execution_count": 69,
   "id": "ada0d7eb",
   "metadata": {
    "scrolled": true
   },
   "outputs": [
    {
     "name": "stdout",
     "output_type": "stream",
     "text": [
      "Пропорция успехов в 1 группе 0.18375499334221038\n",
      "Пропорция успехов во 2 группе 0.38746438746438744\n",
      "Разница пропорций -0.20370939412217706\n",
      "p-значение:  3.115285807098189e-13\n",
      "Отвергаем нулевую гипотезу: между долями есть значимая разница\n"
     ]
    }
   ],
   "source": [
    "alpha = .05\n",
    "successes = [138, 136]\n",
    "trials = [751, 351]\n",
    "\n",
    "stat_test(successes, trials, alpha)"
   ]
  },
  {
   "cell_type": "markdown",
   "id": "1d688c67",
   "metadata": {},
   "source": [
    "Результат теста показал, что разница в пропорциях при указанных размерах выборок достаточна, чтобы говорить о статистически значимом различии. Это означает, что конверсии в просмотры контактов между теми пользователями, которые совершили событие \"advert_open\" и не добавили в объявление в избранное, и теми пользователями, которые совершили событие \"favorites_add\", не равны между собой."
   ]
  },
  {
   "cell_type": "code",
   "execution_count": 70,
   "id": "2daf862c",
   "metadata": {},
   "outputs": [
    {
     "name": "stdout",
     "output_type": "stream",
     "text": [
      "конверсия первой группы = 18.38%, конверсия 2 группы = 38.75%\n"
     ]
    }
   ],
   "source": [
    "conversion_group_1 = round(138 / 751 * 100, 2)\n",
    "conversion_group_2 = round(136 / 351 * 100, 2)\n",
    "print(f'конверсия первой группы = {conversion_group_1}%, конверсия 2 группы = {conversion_group_2}%')"
   ]
  },
  {
   "cell_type": "markdown",
   "id": "ebaaa91d",
   "metadata": {},
   "source": [
    "При прямом подсчёте конверсии эта разница заметна и она очень велика - 20%. Это означает, что, с гораздо большей долей вероятности пользователь просмотрит контакт, если добавил объявление в избранное, что вполне соотносится с реальной жизнью."
   ]
  },
  {
   "cell_type": "markdown",
   "id": "ffedfd72",
   "metadata": {},
   "source": [
    "## Общий вывод."
   ]
  },
  {
   "cell_type": "markdown",
   "id": "e07a0259",
   "metadata": {},
   "source": [
    "Для выполнения проекта были загружены два датасета, впоследствии объединенные в один. Обобщенная таблица состоит из 74197 строк и 4 столбцов. Пропусков и дубликатов в таблице обнаружено не было. В ходе обработки данных были откорректированы названия столбцов, изменен тип данных в столбце со временем. При изучении информации в таблице установили, что данные предоставлены за период с 7 октября 2019 г. по 3 ноября 2019 г. включительно. уникальных пользователей - 4293 человека. Имеется три источника из которых установлено приложение: Yandex, Google, Other. \n",
    "\n",
    "По результатам исследования можно сделать выводы:\n",
    "\n",
    "- Наибольшее количество пользователей мобильного приложения \"Ненужные вещи\" установили его через Yandex (45% от общего числа);\n",
    "- В среднем в день приложением пользуются 279 пользователей, каждый из которых в среднем совершает по 4 активных события. В неделю приложением в среднем пользуются 1382 пользователя. В неделю каждый пользователь в среднем совершает 6 событий.;\n",
    "- В среднем на одного пользователя приходится 3 сессии, продолжительностью 15-20 минут. Основная доля пользователей за 4 недели совершила от 1 до 4 сессий.\n",
    "- Событие, которое наступает чаще всего - tips_show - пользователь увидел рекомендованные объявления. Доля этого события составляет 54% от ощего числа, т.е. каждое второе событие, которое совершают пользователи — это tips_show, но данное событие происходит в автоматическом режиме. Далее популярны такие события как просмотр фотографий (13,5%), поисковые запросы (9,1%) и открытие карточки объявления (8,3%), что говорит о том, что пользователи заходят в приложение с конкретным запросом и ищут нужный товар;\n",
    "- Перед целевым событием - просмотр контакта - основное действие пользователей это то, что они увидели рекомендованное объявление, но важно понимать, что это действие автоматическое. Так же перед просмотром контакта пользователи часто просматривают фотографии объявления и выполняют поиск по сайту. Заметно, что событие \"tips click\" - клик по рекомендованному объявлению, очень редкое, а это значит, что пользователи могут просмотреть контакт не совершая данное действие.;\n",
    "- Из действий пользователей вырисовывается воронка событий, и до целевого события - просмотр контакта, пользователи, обычно, совершают 4 шага: просмотр рекомендованного объявления, поисковый запрос, просмотр карты объявлений и просмотр фото в объявлении;\n",
    "- За имеющийся период, пользователь в среднем совершил около 5 целевых событий;\n",
    "- Учитывая, что рекомендованные объявления показываются автоматически, вывели воронку без его учета и выяснили, что из тех пользователей, которые активно ищут вещи с помощью поисковых запросов, до просмотра контактов доходит 59%. \n",
    "\n",
    "По результатам проверки гипотез установили:\n",
    "- Имеются статистически значимые различия в конверсии в просмотры контактов между теми пользователями, которые совершили событие tips_show и событие tips_click и теми пользователями, которые совершили только событие tips_show. В группе где совершили события tips_show и событие tips_click конверсия выше на 14%;\n",
    "- Имеются статистически значимые различия в конверсии в просмотры контактов между теми пользователями, которые совершили событие \"advert_open\" и не добавили объявление в избранное, и теми пользователями, которые совершили событие \"favorites_add\" В группе где пользователи добавляют объявление в избранное конверсия выше на 20%.  \n",
    "\n",
    "**Рекомендации.**\n",
    "- Рассмотреть установление партнерской программы с Яндексом для расширения аудитории приложения;\n",
    "- Добавить push-уведомления для пользователей о появлении новых рекомендаций по результатам их поисковых запросов;\n",
    "- Улучшить продвижение в топ-рекомендаций объявлений, имеющих фотографии, или сделать обязательным наличие фотографии при создании объявления;\n",
    "- Сделать более заметным и привлекательным дизайн кнопки \"Добавить в избранное\"."
   ]
  },
  {
   "cell_type": "markdown",
   "id": "d022e62b",
   "metadata": {},
   "source": [
    "## Подготовка презентации."
   ]
  },
  {
   "cell_type": "markdown",
   "id": "6094719d",
   "metadata": {},
   "source": [
    "Открыть [ссылку на презентацию](https://disk.yandex.ru/i/4L-ZwabpZddlBA)"
   ]
  },
  {
   "cell_type": "markdown",
   "id": "3bb2f3ed",
   "metadata": {},
   "source": [
    "## Построение дашборда."
   ]
  },
  {
   "cell_type": "markdown",
   "id": "660402e2",
   "metadata": {},
   "source": [
    "Открыть [ссылку на дашборд](https://public.tableau.com/app/profile/kirill.goshkiev/viz/mobile_app_dashboard/Dashboard?publish=yes)"
   ]
  }
 ],
 "metadata": {
  "ExecuteTimeLog": [
   {
    "duration": 1249,
    "start_time": "2022-06-16T07:13:03.429Z"
   },
   {
    "duration": 305,
    "start_time": "2022-06-16T07:13:04.680Z"
   },
   {
    "duration": 38,
    "start_time": "2022-06-16T07:13:04.987Z"
   },
   {
    "duration": 3,
    "start_time": "2022-06-16T07:13:05.027Z"
   },
   {
    "duration": 40,
    "start_time": "2022-06-16T07:13:05.031Z"
   },
   {
    "duration": 29,
    "start_time": "2022-06-16T07:13:05.072Z"
   },
   {
    "duration": 26,
    "start_time": "2022-06-16T07:13:05.103Z"
   },
   {
    "duration": 40,
    "start_time": "2022-06-16T07:13:05.131Z"
   },
   {
    "duration": 158,
    "start_time": "2022-06-16T07:13:05.173Z"
   },
   {
    "duration": 9,
    "start_time": "2022-06-16T07:13:05.333Z"
   },
   {
    "duration": 22,
    "start_time": "2022-06-16T07:13:05.343Z"
   },
   {
    "duration": 20,
    "start_time": "2022-06-16T07:13:05.367Z"
   },
   {
    "duration": 114,
    "start_time": "2022-06-16T07:13:05.389Z"
   },
   {
    "duration": 24,
    "start_time": "2022-06-16T07:13:05.504Z"
   },
   {
    "duration": 37,
    "start_time": "2022-06-16T07:13:05.529Z"
   },
   {
    "duration": 38,
    "start_time": "2022-06-16T07:13:05.568Z"
   },
   {
    "duration": 333,
    "start_time": "2022-06-16T07:13:05.608Z"
   },
   {
    "duration": 0,
    "start_time": "2022-06-16T07:13:05.943Z"
   },
   {
    "duration": 0,
    "start_time": "2022-06-16T07:13:05.945Z"
   },
   {
    "duration": 0,
    "start_time": "2022-06-16T07:13:05.946Z"
   },
   {
    "duration": 0,
    "start_time": "2022-06-16T07:13:05.958Z"
   },
   {
    "duration": 0,
    "start_time": "2022-06-16T07:13:05.959Z"
   },
   {
    "duration": 0,
    "start_time": "2022-06-16T07:13:05.960Z"
   },
   {
    "duration": 0,
    "start_time": "2022-06-16T07:13:05.961Z"
   },
   {
    "duration": 0,
    "start_time": "2022-06-16T07:13:05.962Z"
   },
   {
    "duration": 0,
    "start_time": "2022-06-16T07:13:05.963Z"
   },
   {
    "duration": 0,
    "start_time": "2022-06-16T07:13:05.964Z"
   },
   {
    "duration": 0,
    "start_time": "2022-06-16T07:13:05.965Z"
   },
   {
    "duration": 0,
    "start_time": "2022-06-16T07:13:05.967Z"
   },
   {
    "duration": 0,
    "start_time": "2022-06-16T07:13:05.967Z"
   },
   {
    "duration": 0,
    "start_time": "2022-06-16T07:13:05.968Z"
   },
   {
    "duration": 0,
    "start_time": "2022-06-16T07:13:05.969Z"
   },
   {
    "duration": 0,
    "start_time": "2022-06-16T07:13:05.970Z"
   },
   {
    "duration": 0,
    "start_time": "2022-06-16T07:13:05.971Z"
   },
   {
    "duration": 0,
    "start_time": "2022-06-16T07:13:05.972Z"
   },
   {
    "duration": 0,
    "start_time": "2022-06-16T07:13:05.973Z"
   },
   {
    "duration": 0,
    "start_time": "2022-06-16T07:13:05.974Z"
   },
   {
    "duration": 0,
    "start_time": "2022-06-16T07:13:05.975Z"
   },
   {
    "duration": 0,
    "start_time": "2022-06-16T07:13:05.976Z"
   },
   {
    "duration": 0,
    "start_time": "2022-06-16T07:13:05.977Z"
   },
   {
    "duration": 0,
    "start_time": "2022-06-16T07:13:05.978Z"
   },
   {
    "duration": 0,
    "start_time": "2022-06-16T07:13:05.979Z"
   },
   {
    "duration": 0,
    "start_time": "2022-06-16T07:13:05.980Z"
   },
   {
    "duration": 0,
    "start_time": "2022-06-16T07:13:05.981Z"
   },
   {
    "duration": 0,
    "start_time": "2022-06-16T07:13:05.982Z"
   },
   {
    "duration": 0,
    "start_time": "2022-06-16T07:13:05.984Z"
   },
   {
    "duration": 0,
    "start_time": "2022-06-16T07:13:05.985Z"
   },
   {
    "duration": 0,
    "start_time": "2022-06-16T07:13:05.985Z"
   },
   {
    "duration": 0,
    "start_time": "2022-06-16T07:13:05.986Z"
   },
   {
    "duration": 0,
    "start_time": "2022-06-16T07:13:05.988Z"
   },
   {
    "duration": 46,
    "start_time": "2022-06-16T07:22:48.020Z"
   },
   {
    "duration": 29,
    "start_time": "2022-06-16T07:22:48.068Z"
   },
   {
    "duration": 4,
    "start_time": "2022-06-16T07:22:48.099Z"
   },
   {
    "duration": 29,
    "start_time": "2022-06-16T07:22:48.105Z"
   },
   {
    "duration": 455,
    "start_time": "2022-06-16T07:22:48.136Z"
   },
   {
    "duration": 374,
    "start_time": "2022-06-16T07:22:48.593Z"
   },
   {
    "duration": 760,
    "start_time": "2022-06-16T07:22:48.969Z"
   },
   {
    "duration": 14300,
    "start_time": "2022-06-16T07:22:49.731Z"
   },
   {
    "duration": 26,
    "start_time": "2022-06-16T07:23:04.033Z"
   },
   {
    "duration": 12,
    "start_time": "2022-06-16T07:23:04.061Z"
   },
   {
    "duration": 1470,
    "start_time": "2022-06-16T07:23:04.075Z"
   },
   {
    "duration": 11,
    "start_time": "2022-06-16T07:23:05.548Z"
   },
   {
    "duration": 37,
    "start_time": "2022-06-16T07:23:05.561Z"
   },
   {
    "duration": 26,
    "start_time": "2022-06-16T07:23:05.600Z"
   },
   {
    "duration": 5,
    "start_time": "2022-06-16T07:23:05.627Z"
   },
   {
    "duration": 26,
    "start_time": "2022-06-16T07:23:05.634Z"
   },
   {
    "duration": 18,
    "start_time": "2022-06-16T07:23:05.662Z"
   },
   {
    "duration": 213,
    "start_time": "2022-06-16T07:23:05.681Z"
   },
   {
    "duration": 0,
    "start_time": "2022-06-16T07:23:05.895Z"
   },
   {
    "duration": 0,
    "start_time": "2022-06-16T07:23:05.897Z"
   },
   {
    "duration": 0,
    "start_time": "2022-06-16T07:23:05.898Z"
   },
   {
    "duration": 0,
    "start_time": "2022-06-16T07:23:05.899Z"
   },
   {
    "duration": 0,
    "start_time": "2022-06-16T07:23:05.900Z"
   },
   {
    "duration": 0,
    "start_time": "2022-06-16T07:23:05.901Z"
   },
   {
    "duration": 0,
    "start_time": "2022-06-16T07:23:05.902Z"
   },
   {
    "duration": 0,
    "start_time": "2022-06-16T07:23:05.903Z"
   },
   {
    "duration": 0,
    "start_time": "2022-06-16T07:23:05.904Z"
   },
   {
    "duration": 0,
    "start_time": "2022-06-16T07:23:05.905Z"
   },
   {
    "duration": 0,
    "start_time": "2022-06-16T07:23:05.906Z"
   },
   {
    "duration": 0,
    "start_time": "2022-06-16T07:23:05.908Z"
   },
   {
    "duration": 0,
    "start_time": "2022-06-16T07:23:05.909Z"
   },
   {
    "duration": 0,
    "start_time": "2022-06-16T07:23:05.910Z"
   },
   {
    "duration": 0,
    "start_time": "2022-06-16T07:23:05.911Z"
   },
   {
    "duration": 39,
    "start_time": "2022-06-16T07:23:26.693Z"
   },
   {
    "duration": 12,
    "start_time": "2022-06-16T07:23:26.774Z"
   },
   {
    "duration": 30,
    "start_time": "2022-06-16T07:23:26.788Z"
   },
   {
    "duration": 209,
    "start_time": "2022-06-16T07:23:26.819Z"
   },
   {
    "duration": 0,
    "start_time": "2022-06-16T07:23:27.030Z"
   },
   {
    "duration": 0,
    "start_time": "2022-06-16T07:23:27.032Z"
   },
   {
    "duration": 0,
    "start_time": "2022-06-16T07:23:27.033Z"
   },
   {
    "duration": 0,
    "start_time": "2022-06-16T07:23:27.035Z"
   },
   {
    "duration": 0,
    "start_time": "2022-06-16T07:23:27.036Z"
   },
   {
    "duration": 0,
    "start_time": "2022-06-16T07:23:27.037Z"
   },
   {
    "duration": 0,
    "start_time": "2022-06-16T07:23:27.038Z"
   },
   {
    "duration": 0,
    "start_time": "2022-06-16T07:23:27.039Z"
   },
   {
    "duration": 0,
    "start_time": "2022-06-16T07:23:27.040Z"
   },
   {
    "duration": 0,
    "start_time": "2022-06-16T07:23:27.041Z"
   },
   {
    "duration": 0,
    "start_time": "2022-06-16T07:23:27.042Z"
   },
   {
    "duration": 22,
    "start_time": "2022-06-16T07:23:46.826Z"
   },
   {
    "duration": 12,
    "start_time": "2022-06-16T07:23:46.850Z"
   },
   {
    "duration": 14,
    "start_time": "2022-06-16T07:23:46.864Z"
   },
   {
    "duration": 6,
    "start_time": "2022-06-16T07:23:46.880Z"
   },
   {
    "duration": 10,
    "start_time": "2022-06-16T07:23:46.888Z"
   },
   {
    "duration": 4,
    "start_time": "2022-06-16T07:23:46.900Z"
   },
   {
    "duration": 42,
    "start_time": "2022-06-16T07:23:46.926Z"
   },
   {
    "duration": 7,
    "start_time": "2022-06-16T07:23:46.970Z"
   },
   {
    "duration": 8,
    "start_time": "2022-06-16T07:23:46.979Z"
   },
   {
    "duration": 7,
    "start_time": "2022-06-16T07:23:46.989Z"
   },
   {
    "duration": 6,
    "start_time": "2022-06-16T07:23:46.998Z"
   },
   {
    "duration": 6,
    "start_time": "2022-06-16T07:37:12.926Z"
   },
   {
    "duration": 367,
    "start_time": "2022-06-16T07:37:12.934Z"
   },
   {
    "duration": 34,
    "start_time": "2022-06-16T07:37:13.303Z"
   },
   {
    "duration": 3,
    "start_time": "2022-06-16T07:37:13.338Z"
   },
   {
    "duration": 19,
    "start_time": "2022-06-16T07:37:13.358Z"
   },
   {
    "duration": 24,
    "start_time": "2022-06-16T07:37:13.379Z"
   },
   {
    "duration": 21,
    "start_time": "2022-06-16T07:37:13.404Z"
   },
   {
    "duration": 33,
    "start_time": "2022-06-16T07:37:13.427Z"
   },
   {
    "duration": 20,
    "start_time": "2022-06-16T07:37:13.462Z"
   },
   {
    "duration": 31,
    "start_time": "2022-06-16T07:37:13.484Z"
   },
   {
    "duration": 37,
    "start_time": "2022-06-16T07:37:13.517Z"
   },
   {
    "duration": 17,
    "start_time": "2022-06-16T07:37:13.556Z"
   },
   {
    "duration": 101,
    "start_time": "2022-06-16T07:37:13.575Z"
   },
   {
    "duration": 22,
    "start_time": "2022-06-16T07:37:13.679Z"
   },
   {
    "duration": 42,
    "start_time": "2022-06-16T07:37:13.704Z"
   },
   {
    "duration": 41,
    "start_time": "2022-06-16T07:37:13.747Z"
   },
   {
    "duration": 246,
    "start_time": "2022-06-16T07:37:13.789Z"
   },
   {
    "duration": 49,
    "start_time": "2022-06-16T07:37:14.036Z"
   },
   {
    "duration": 32,
    "start_time": "2022-06-16T07:37:14.086Z"
   },
   {
    "duration": 4,
    "start_time": "2022-06-16T07:37:14.120Z"
   },
   {
    "duration": 34,
    "start_time": "2022-06-16T07:37:14.125Z"
   },
   {
    "duration": 403,
    "start_time": "2022-06-16T07:37:14.161Z"
   },
   {
    "duration": 382,
    "start_time": "2022-06-16T07:37:14.566Z"
   },
   {
    "duration": 757,
    "start_time": "2022-06-16T07:37:14.950Z"
   },
   {
    "duration": 14858,
    "start_time": "2022-06-16T07:37:15.709Z"
   },
   {
    "duration": 18,
    "start_time": "2022-06-16T07:37:30.569Z"
   },
   {
    "duration": 40,
    "start_time": "2022-06-16T07:37:30.589Z"
   },
   {
    "duration": 317,
    "start_time": "2022-06-16T07:37:30.631Z"
   },
   {
    "duration": 10,
    "start_time": "2022-06-16T07:37:30.950Z"
   },
   {
    "duration": 27,
    "start_time": "2022-06-16T07:37:30.961Z"
   },
   {
    "duration": 22,
    "start_time": "2022-06-16T07:37:30.990Z"
   },
   {
    "duration": 4,
    "start_time": "2022-06-16T07:37:31.014Z"
   },
   {
    "duration": 16,
    "start_time": "2022-06-16T07:37:31.020Z"
   },
   {
    "duration": 27,
    "start_time": "2022-06-16T07:37:31.037Z"
   },
   {
    "duration": 216,
    "start_time": "2022-06-16T07:37:31.066Z"
   },
   {
    "duration": 44,
    "start_time": "2022-06-16T07:37:31.284Z"
   },
   {
    "duration": 31,
    "start_time": "2022-06-16T07:37:31.330Z"
   },
   {
    "duration": 45,
    "start_time": "2022-06-16T07:37:31.363Z"
   },
   {
    "duration": 203,
    "start_time": "2022-06-16T07:37:31.410Z"
   },
   {
    "duration": 21,
    "start_time": "2022-06-16T07:37:31.615Z"
   },
   {
    "duration": 29,
    "start_time": "2022-06-16T07:37:31.640Z"
   },
   {
    "duration": 18,
    "start_time": "2022-06-16T07:37:31.670Z"
   },
   {
    "duration": 11,
    "start_time": "2022-06-16T07:37:31.690Z"
   },
   {
    "duration": 19,
    "start_time": "2022-06-16T07:37:31.703Z"
   },
   {
    "duration": 23,
    "start_time": "2022-06-16T07:37:31.723Z"
   },
   {
    "duration": 39,
    "start_time": "2022-06-16T07:37:31.748Z"
   },
   {
    "duration": 10,
    "start_time": "2022-06-16T07:37:31.789Z"
   },
   {
    "duration": 17,
    "start_time": "2022-06-16T07:37:31.800Z"
   },
   {
    "duration": 17,
    "start_time": "2022-06-16T07:37:31.819Z"
   },
   {
    "duration": 9,
    "start_time": "2022-06-16T07:37:31.838Z"
   },
   {
    "duration": 1222,
    "start_time": "2022-06-17T04:58:18.534Z"
   },
   {
    "duration": 371,
    "start_time": "2022-06-17T04:58:19.758Z"
   },
   {
    "duration": 49,
    "start_time": "2022-06-17T04:58:20.131Z"
   },
   {
    "duration": 4,
    "start_time": "2022-06-17T04:58:20.182Z"
   },
   {
    "duration": 21,
    "start_time": "2022-06-17T04:58:20.188Z"
   },
   {
    "duration": 29,
    "start_time": "2022-06-17T04:58:20.211Z"
   },
   {
    "duration": 42,
    "start_time": "2022-06-17T04:58:20.242Z"
   },
   {
    "duration": 14,
    "start_time": "2022-06-17T04:58:20.286Z"
   },
   {
    "duration": 182,
    "start_time": "2022-06-17T04:58:20.302Z"
   },
   {
    "duration": 15,
    "start_time": "2022-06-17T04:58:20.488Z"
   },
   {
    "duration": 67,
    "start_time": "2022-06-17T04:58:20.505Z"
   },
   {
    "duration": 14,
    "start_time": "2022-06-17T04:58:20.574Z"
   },
   {
    "duration": 176,
    "start_time": "2022-06-17T04:58:20.590Z"
   },
   {
    "duration": 35,
    "start_time": "2022-06-17T04:58:20.768Z"
   },
   {
    "duration": 31,
    "start_time": "2022-06-17T04:58:20.805Z"
   },
   {
    "duration": 53,
    "start_time": "2022-06-17T04:58:20.837Z"
   },
   {
    "duration": 281,
    "start_time": "2022-06-17T04:58:20.892Z"
   },
   {
    "duration": 50,
    "start_time": "2022-06-17T04:58:21.175Z"
   },
   {
    "duration": 46,
    "start_time": "2022-06-17T04:58:21.226Z"
   },
   {
    "duration": 5,
    "start_time": "2022-06-17T04:58:21.274Z"
   },
   {
    "duration": 17,
    "start_time": "2022-06-17T04:58:21.281Z"
   },
   {
    "duration": 478,
    "start_time": "2022-06-17T04:58:21.300Z"
   },
   {
    "duration": 384,
    "start_time": "2022-06-17T04:58:21.780Z"
   },
   {
    "duration": 755,
    "start_time": "2022-06-17T04:58:22.166Z"
   },
   {
    "duration": 16132,
    "start_time": "2022-06-17T04:58:22.923Z"
   },
   {
    "duration": 30,
    "start_time": "2022-06-17T04:58:39.057Z"
   },
   {
    "duration": 20,
    "start_time": "2022-06-17T04:58:39.089Z"
   },
   {
    "duration": 1708,
    "start_time": "2022-06-17T04:58:39.116Z"
   },
   {
    "duration": 6,
    "start_time": "2022-06-17T04:58:40.826Z"
   },
   {
    "duration": 48,
    "start_time": "2022-06-17T04:58:40.834Z"
   },
   {
    "duration": 24,
    "start_time": "2022-06-17T04:58:40.884Z"
   },
   {
    "duration": 4,
    "start_time": "2022-06-17T04:58:40.910Z"
   },
   {
    "duration": 66,
    "start_time": "2022-06-17T04:58:40.916Z"
   },
   {
    "duration": 12,
    "start_time": "2022-06-17T04:58:40.984Z"
   },
   {
    "duration": 230,
    "start_time": "2022-06-17T04:58:40.999Z"
   },
   {
    "duration": 74,
    "start_time": "2022-06-17T04:58:41.231Z"
   },
   {
    "duration": 21,
    "start_time": "2022-06-17T04:58:41.307Z"
   },
   {
    "duration": 47,
    "start_time": "2022-06-17T04:58:41.330Z"
   },
   {
    "duration": 248,
    "start_time": "2022-06-17T04:58:41.379Z"
   },
   {
    "duration": 45,
    "start_time": "2022-06-17T04:58:41.630Z"
   },
   {
    "duration": 13,
    "start_time": "2022-06-17T04:58:41.676Z"
   },
   {
    "duration": 24,
    "start_time": "2022-06-17T04:58:41.691Z"
   },
   {
    "duration": 9,
    "start_time": "2022-06-17T04:58:41.718Z"
   },
   {
    "duration": 41,
    "start_time": "2022-06-17T04:58:41.729Z"
   },
   {
    "duration": 7,
    "start_time": "2022-06-17T04:58:41.772Z"
   },
   {
    "duration": 37,
    "start_time": "2022-06-17T04:58:41.780Z"
   },
   {
    "duration": 11,
    "start_time": "2022-06-17T04:58:41.819Z"
   },
   {
    "duration": 34,
    "start_time": "2022-06-17T04:58:41.832Z"
   },
   {
    "duration": 9,
    "start_time": "2022-06-17T04:58:41.868Z"
   },
   {
    "duration": 8,
    "start_time": "2022-06-17T04:58:41.879Z"
   },
   {
    "duration": 1121,
    "start_time": "2022-06-17T06:54:29.373Z"
   },
   {
    "duration": 482,
    "start_time": "2022-06-17T06:54:30.496Z"
   },
   {
    "duration": 46,
    "start_time": "2022-06-17T06:54:30.980Z"
   },
   {
    "duration": 3,
    "start_time": "2022-06-17T06:54:31.027Z"
   },
   {
    "duration": 19,
    "start_time": "2022-06-17T06:54:31.032Z"
   },
   {
    "duration": 22,
    "start_time": "2022-06-17T06:54:31.053Z"
   },
   {
    "duration": 19,
    "start_time": "2022-06-17T06:54:31.076Z"
   },
   {
    "duration": 34,
    "start_time": "2022-06-17T06:54:31.097Z"
   },
   {
    "duration": 157,
    "start_time": "2022-06-17T06:54:31.132Z"
   },
   {
    "duration": 8,
    "start_time": "2022-06-17T06:54:31.291Z"
   },
   {
    "duration": 26,
    "start_time": "2022-06-17T06:54:31.300Z"
   },
   {
    "duration": 9,
    "start_time": "2022-06-17T06:54:31.327Z"
   },
   {
    "duration": 109,
    "start_time": "2022-06-17T06:54:31.337Z"
   },
   {
    "duration": 19,
    "start_time": "2022-06-17T06:54:31.449Z"
   },
   {
    "duration": 22,
    "start_time": "2022-06-17T06:54:31.469Z"
   },
   {
    "duration": 45,
    "start_time": "2022-06-17T06:54:31.492Z"
   },
   {
    "duration": 223,
    "start_time": "2022-06-17T06:54:31.538Z"
   },
   {
    "duration": 42,
    "start_time": "2022-06-17T06:54:31.763Z"
   },
   {
    "duration": 40,
    "start_time": "2022-06-17T06:54:31.806Z"
   },
   {
    "duration": 4,
    "start_time": "2022-06-17T06:54:31.848Z"
   },
   {
    "duration": 20,
    "start_time": "2022-06-17T06:54:31.853Z"
   },
   {
    "duration": 420,
    "start_time": "2022-06-17T06:54:31.875Z"
   },
   {
    "duration": 323,
    "start_time": "2022-06-17T06:54:32.297Z"
   },
   {
    "duration": 722,
    "start_time": "2022-06-17T06:54:32.621Z"
   },
   {
    "duration": 13137,
    "start_time": "2022-06-17T06:54:33.345Z"
   },
   {
    "duration": 15,
    "start_time": "2022-06-17T06:54:46.484Z"
   },
   {
    "duration": 11,
    "start_time": "2022-06-17T06:54:46.500Z"
   },
   {
    "duration": 1219,
    "start_time": "2022-06-17T06:54:46.512Z"
   },
   {
    "duration": 3,
    "start_time": "2022-06-17T06:54:47.733Z"
   },
   {
    "duration": 22,
    "start_time": "2022-06-17T06:54:47.738Z"
   },
   {
    "duration": 17,
    "start_time": "2022-06-17T06:54:47.762Z"
   },
   {
    "duration": 4,
    "start_time": "2022-06-17T06:54:47.780Z"
   },
   {
    "duration": 39,
    "start_time": "2022-06-17T06:54:47.786Z"
   },
   {
    "duration": 8,
    "start_time": "2022-06-17T06:54:47.827Z"
   },
   {
    "duration": 200,
    "start_time": "2022-06-17T06:54:47.837Z"
   },
   {
    "duration": 38,
    "start_time": "2022-06-17T06:54:48.039Z"
   },
   {
    "duration": 13,
    "start_time": "2022-06-17T06:54:48.079Z"
   },
   {
    "duration": 49,
    "start_time": "2022-06-17T06:54:48.094Z"
   },
   {
    "duration": 204,
    "start_time": "2022-06-17T06:54:48.144Z"
   },
   {
    "duration": 19,
    "start_time": "2022-06-17T06:54:48.350Z"
   },
   {
    "duration": 10,
    "start_time": "2022-06-17T06:54:48.372Z"
   },
   {
    "duration": 13,
    "start_time": "2022-06-17T06:54:48.383Z"
   },
   {
    "duration": 27,
    "start_time": "2022-06-17T06:54:48.398Z"
   },
   {
    "duration": 6,
    "start_time": "2022-06-17T06:54:48.427Z"
   },
   {
    "duration": 5,
    "start_time": "2022-06-17T06:54:48.435Z"
   },
   {
    "duration": 29,
    "start_time": "2022-06-17T06:54:48.442Z"
   },
   {
    "duration": 6,
    "start_time": "2022-06-17T06:54:48.473Z"
   },
   {
    "duration": 11,
    "start_time": "2022-06-17T06:54:48.481Z"
   },
   {
    "duration": 31,
    "start_time": "2022-06-17T06:54:48.494Z"
   },
   {
    "duration": 3,
    "start_time": "2022-06-17T06:54:48.527Z"
   },
   {
    "duration": 22,
    "start_time": "2022-06-17T07:10:48.525Z"
   },
   {
    "duration": 14,
    "start_time": "2022-06-17T07:11:45.478Z"
   },
   {
    "duration": 32,
    "start_time": "2022-06-17T07:12:30.957Z"
   },
   {
    "duration": 14,
    "start_time": "2022-06-17T07:12:46.627Z"
   },
   {
    "duration": 5,
    "start_time": "2022-06-17T07:25:17.698Z"
   },
   {
    "duration": 3,
    "start_time": "2022-06-17T07:26:45.527Z"
   },
   {
    "duration": 8,
    "start_time": "2022-06-17T08:02:33.936Z"
   },
   {
    "duration": 8,
    "start_time": "2022-06-17T08:03:32.291Z"
   },
   {
    "duration": 5,
    "start_time": "2022-06-17T08:05:49.097Z"
   },
   {
    "duration": 3,
    "start_time": "2022-06-17T08:06:35.364Z"
   },
   {
    "duration": 1160,
    "start_time": "2022-06-17T13:45:45.592Z"
   },
   {
    "duration": 351,
    "start_time": "2022-06-17T13:45:46.754Z"
   },
   {
    "duration": 39,
    "start_time": "2022-06-17T13:45:47.107Z"
   },
   {
    "duration": 3,
    "start_time": "2022-06-17T13:45:47.148Z"
   },
   {
    "duration": 41,
    "start_time": "2022-06-17T13:45:47.153Z"
   },
   {
    "duration": 23,
    "start_time": "2022-06-17T13:45:47.196Z"
   },
   {
    "duration": 24,
    "start_time": "2022-06-17T13:45:47.221Z"
   },
   {
    "duration": 16,
    "start_time": "2022-06-17T13:45:47.247Z"
   },
   {
    "duration": 159,
    "start_time": "2022-06-17T13:45:47.265Z"
   },
   {
    "duration": 7,
    "start_time": "2022-06-17T13:45:47.427Z"
   },
   {
    "duration": 17,
    "start_time": "2022-06-17T13:45:47.435Z"
   },
   {
    "duration": 8,
    "start_time": "2022-06-17T13:45:47.453Z"
   },
   {
    "duration": 103,
    "start_time": "2022-06-17T13:45:47.490Z"
   },
   {
    "duration": 19,
    "start_time": "2022-06-17T13:45:47.594Z"
   },
   {
    "duration": 20,
    "start_time": "2022-06-17T13:45:47.614Z"
   },
   {
    "duration": 29,
    "start_time": "2022-06-17T13:45:47.636Z"
   },
   {
    "duration": 256,
    "start_time": "2022-06-17T13:45:47.666Z"
   },
   {
    "duration": 42,
    "start_time": "2022-06-17T13:45:47.924Z"
   },
   {
    "duration": 38,
    "start_time": "2022-06-17T13:45:47.967Z"
   },
   {
    "duration": 3,
    "start_time": "2022-06-17T13:45:48.006Z"
   },
   {
    "duration": 26,
    "start_time": "2022-06-17T13:45:48.010Z"
   },
   {
    "duration": 397,
    "start_time": "2022-06-17T13:45:48.038Z"
   },
   {
    "duration": 316,
    "start_time": "2022-06-17T13:45:48.436Z"
   },
   {
    "duration": 701,
    "start_time": "2022-06-17T13:45:48.753Z"
   },
   {
    "duration": 12866,
    "start_time": "2022-06-17T13:45:49.456Z"
   },
   {
    "duration": 15,
    "start_time": "2022-06-17T13:46:02.324Z"
   },
   {
    "duration": 10,
    "start_time": "2022-06-17T13:46:02.341Z"
   },
   {
    "duration": 1229,
    "start_time": "2022-06-17T13:46:02.354Z"
   },
   {
    "duration": 8,
    "start_time": "2022-06-17T13:46:03.584Z"
   },
   {
    "duration": 24,
    "start_time": "2022-06-17T13:46:03.593Z"
   },
   {
    "duration": 17,
    "start_time": "2022-06-17T13:46:03.618Z"
   },
   {
    "duration": 4,
    "start_time": "2022-06-17T13:46:03.636Z"
   },
   {
    "duration": 43,
    "start_time": "2022-06-17T13:46:03.641Z"
   },
   {
    "duration": 8,
    "start_time": "2022-06-17T13:46:03.686Z"
   },
   {
    "duration": 201,
    "start_time": "2022-06-17T13:46:03.695Z"
   },
   {
    "duration": 35,
    "start_time": "2022-06-17T13:46:03.898Z"
   },
   {
    "duration": 12,
    "start_time": "2022-06-17T13:46:03.934Z"
   },
   {
    "duration": 14,
    "start_time": "2022-06-17T13:46:03.947Z"
   },
   {
    "duration": 36,
    "start_time": "2022-06-17T13:46:03.962Z"
   },
   {
    "duration": 210,
    "start_time": "2022-06-17T13:46:03.999Z"
   },
   {
    "duration": 22,
    "start_time": "2022-06-17T13:46:04.211Z"
   },
   {
    "duration": 15,
    "start_time": "2022-06-17T13:46:04.235Z"
   },
   {
    "duration": 13,
    "start_time": "2022-06-17T13:46:04.251Z"
   },
   {
    "duration": 26,
    "start_time": "2022-06-17T13:46:04.266Z"
   },
   {
    "duration": 10,
    "start_time": "2022-06-17T13:46:04.293Z"
   },
   {
    "duration": 4,
    "start_time": "2022-06-17T13:46:04.304Z"
   },
   {
    "duration": 27,
    "start_time": "2022-06-17T13:46:04.310Z"
   },
   {
    "duration": 6,
    "start_time": "2022-06-17T13:46:04.338Z"
   },
   {
    "duration": 5,
    "start_time": "2022-06-17T13:46:04.345Z"
   },
   {
    "duration": 6,
    "start_time": "2022-06-17T13:46:04.351Z"
   },
   {
    "duration": 4,
    "start_time": "2022-06-17T13:46:04.359Z"
   },
   {
    "duration": 1266,
    "start_time": "2022-06-18T08:31:23.996Z"
   },
   {
    "duration": 538,
    "start_time": "2022-06-18T08:31:25.264Z"
   },
   {
    "duration": 47,
    "start_time": "2022-06-18T08:31:25.804Z"
   },
   {
    "duration": 3,
    "start_time": "2022-06-18T08:31:25.854Z"
   },
   {
    "duration": 19,
    "start_time": "2022-06-18T08:31:25.859Z"
   },
   {
    "duration": 24,
    "start_time": "2022-06-18T08:31:25.879Z"
   },
   {
    "duration": 45,
    "start_time": "2022-06-18T08:31:25.905Z"
   },
   {
    "duration": 21,
    "start_time": "2022-06-18T08:31:25.952Z"
   },
   {
    "duration": 178,
    "start_time": "2022-06-18T08:31:25.975Z"
   },
   {
    "duration": 8,
    "start_time": "2022-06-18T08:31:26.156Z"
   },
   {
    "duration": 18,
    "start_time": "2022-06-18T08:31:26.165Z"
   },
   {
    "duration": 14,
    "start_time": "2022-06-18T08:31:26.229Z"
   },
   {
    "duration": 130,
    "start_time": "2022-06-18T08:31:26.245Z"
   },
   {
    "duration": 22,
    "start_time": "2022-06-18T08:31:26.377Z"
   },
   {
    "duration": 55,
    "start_time": "2022-06-18T08:31:26.400Z"
   },
   {
    "duration": 44,
    "start_time": "2022-06-18T08:31:26.456Z"
   },
   {
    "duration": 348,
    "start_time": "2022-06-18T08:31:26.502Z"
   },
   {
    "duration": 55,
    "start_time": "2022-06-18T08:31:26.855Z"
   },
   {
    "duration": 41,
    "start_time": "2022-06-18T08:31:26.912Z"
   },
   {
    "duration": 17,
    "start_time": "2022-06-18T08:31:26.955Z"
   },
   {
    "duration": 33,
    "start_time": "2022-06-18T08:31:26.973Z"
   },
   {
    "duration": 513,
    "start_time": "2022-06-18T08:31:27.007Z"
   },
   {
    "duration": 399,
    "start_time": "2022-06-18T08:31:27.521Z"
   },
   {
    "duration": 837,
    "start_time": "2022-06-18T08:31:27.921Z"
   },
   {
    "duration": 16354,
    "start_time": "2022-06-18T08:31:28.759Z"
   },
   {
    "duration": 37,
    "start_time": "2022-06-18T08:31:45.115Z"
   },
   {
    "duration": 40,
    "start_time": "2022-06-18T08:31:45.153Z"
   },
   {
    "duration": 1539,
    "start_time": "2022-06-18T08:31:45.196Z"
   },
   {
    "duration": 8,
    "start_time": "2022-06-18T08:31:46.746Z"
   },
   {
    "duration": 70,
    "start_time": "2022-06-18T08:31:46.759Z"
   },
   {
    "duration": 76,
    "start_time": "2022-06-18T08:31:46.831Z"
   },
   {
    "duration": 10,
    "start_time": "2022-06-18T08:31:46.909Z"
   },
   {
    "duration": 153,
    "start_time": "2022-06-18T08:31:46.921Z"
   },
   {
    "duration": 11,
    "start_time": "2022-06-18T08:31:47.076Z"
   },
   {
    "duration": 315,
    "start_time": "2022-06-18T08:31:47.089Z"
   },
   {
    "duration": 48,
    "start_time": "2022-06-18T08:31:47.405Z"
   },
   {
    "duration": 34,
    "start_time": "2022-06-18T08:31:47.456Z"
   },
   {
    "duration": 31,
    "start_time": "2022-06-18T08:31:47.492Z"
   },
   {
    "duration": 54,
    "start_time": "2022-06-18T08:31:47.525Z"
   },
   {
    "duration": 237,
    "start_time": "2022-06-18T08:31:47.581Z"
   },
   {
    "duration": 31,
    "start_time": "2022-06-18T08:31:47.820Z"
   },
   {
    "duration": 32,
    "start_time": "2022-06-18T08:31:47.853Z"
   },
   {
    "duration": 36,
    "start_time": "2022-06-18T08:31:47.887Z"
   },
   {
    "duration": 10,
    "start_time": "2022-06-18T08:31:47.925Z"
   },
   {
    "duration": 66,
    "start_time": "2022-06-18T08:31:47.941Z"
   },
   {
    "duration": 41,
    "start_time": "2022-06-18T08:31:48.010Z"
   },
   {
    "duration": 69,
    "start_time": "2022-06-18T08:31:48.053Z"
   },
   {
    "duration": 25,
    "start_time": "2022-06-18T08:31:48.123Z"
   },
   {
    "duration": 24,
    "start_time": "2022-06-18T08:31:48.150Z"
   },
   {
    "duration": 25,
    "start_time": "2022-06-18T08:31:48.176Z"
   },
   {
    "duration": 20,
    "start_time": "2022-06-18T08:31:48.203Z"
   },
   {
    "duration": 1327,
    "start_time": "2022-06-18T19:09:45.735Z"
   },
   {
    "duration": 561,
    "start_time": "2022-06-18T19:09:47.064Z"
   },
   {
    "duration": 44,
    "start_time": "2022-06-18T19:09:47.627Z"
   },
   {
    "duration": 4,
    "start_time": "2022-06-18T19:09:47.673Z"
   },
   {
    "duration": 35,
    "start_time": "2022-06-18T19:09:47.678Z"
   },
   {
    "duration": 45,
    "start_time": "2022-06-18T19:09:47.715Z"
   },
   {
    "duration": 21,
    "start_time": "2022-06-18T19:09:47.762Z"
   },
   {
    "duration": 15,
    "start_time": "2022-06-18T19:09:47.785Z"
   },
   {
    "duration": 186,
    "start_time": "2022-06-18T19:09:47.802Z"
   },
   {
    "duration": 14,
    "start_time": "2022-06-18T19:09:47.991Z"
   },
   {
    "duration": 20,
    "start_time": "2022-06-18T19:09:48.007Z"
   },
   {
    "duration": 38,
    "start_time": "2022-06-18T19:09:48.029Z"
   },
   {
    "duration": 119,
    "start_time": "2022-06-18T19:09:48.069Z"
   },
   {
    "duration": 22,
    "start_time": "2022-06-18T19:09:48.190Z"
   },
   {
    "duration": 21,
    "start_time": "2022-06-18T19:09:48.214Z"
   },
   {
    "duration": 51,
    "start_time": "2022-06-18T19:09:48.237Z"
   },
   {
    "duration": 260,
    "start_time": "2022-06-18T19:09:48.290Z"
   },
   {
    "duration": 52,
    "start_time": "2022-06-18T19:09:48.552Z"
   },
   {
    "duration": 29,
    "start_time": "2022-06-18T19:09:48.605Z"
   },
   {
    "duration": 23,
    "start_time": "2022-06-18T19:09:48.636Z"
   },
   {
    "duration": 28,
    "start_time": "2022-06-18T19:09:48.660Z"
   },
   {
    "duration": 486,
    "start_time": "2022-06-18T19:09:48.689Z"
   },
   {
    "duration": 378,
    "start_time": "2022-06-18T19:09:49.177Z"
   },
   {
    "duration": 743,
    "start_time": "2022-06-18T19:09:49.557Z"
   },
   {
    "duration": 14536,
    "start_time": "2022-06-18T19:09:50.302Z"
   },
   {
    "duration": 24,
    "start_time": "2022-06-18T19:10:04.840Z"
   },
   {
    "duration": 12,
    "start_time": "2022-06-18T19:10:04.866Z"
   },
   {
    "duration": 1373,
    "start_time": "2022-06-18T19:10:04.880Z"
   },
   {
    "duration": 5,
    "start_time": "2022-06-18T19:10:06.255Z"
   },
   {
    "duration": 28,
    "start_time": "2022-06-18T19:10:06.262Z"
   },
   {
    "duration": 24,
    "start_time": "2022-06-18T19:10:06.291Z"
   },
   {
    "duration": 5,
    "start_time": "2022-06-18T19:10:06.317Z"
   },
   {
    "duration": 59,
    "start_time": "2022-06-18T19:10:06.324Z"
   },
   {
    "duration": 8,
    "start_time": "2022-06-18T19:10:06.385Z"
   },
   {
    "duration": 202,
    "start_time": "2022-06-18T19:10:06.395Z"
   },
   {
    "duration": 38,
    "start_time": "2022-06-18T19:10:06.599Z"
   },
   {
    "duration": 28,
    "start_time": "2022-06-18T19:10:06.638Z"
   },
   {
    "duration": 16,
    "start_time": "2022-06-18T19:10:06.668Z"
   },
   {
    "duration": 18,
    "start_time": "2022-06-18T19:10:06.686Z"
   },
   {
    "duration": 238,
    "start_time": "2022-06-18T19:10:06.706Z"
   },
   {
    "duration": 23,
    "start_time": "2022-06-18T19:10:06.946Z"
   },
   {
    "duration": 10,
    "start_time": "2022-06-18T19:10:06.971Z"
   },
   {
    "duration": 13,
    "start_time": "2022-06-18T19:10:06.982Z"
   },
   {
    "duration": 6,
    "start_time": "2022-06-18T19:10:06.997Z"
   },
   {
    "duration": 10,
    "start_time": "2022-06-18T19:10:07.005Z"
   },
   {
    "duration": 4,
    "start_time": "2022-06-18T19:10:07.017Z"
   },
   {
    "duration": 64,
    "start_time": "2022-06-18T19:10:07.022Z"
   },
   {
    "duration": 7,
    "start_time": "2022-06-18T19:10:07.088Z"
   },
   {
    "duration": 7,
    "start_time": "2022-06-18T19:10:07.096Z"
   },
   {
    "duration": 6,
    "start_time": "2022-06-18T19:10:07.105Z"
   },
   {
    "duration": 5,
    "start_time": "2022-06-18T19:10:07.112Z"
   },
   {
    "duration": 1450,
    "start_time": "2022-06-19T09:15:29.849Z"
   },
   {
    "duration": 293,
    "start_time": "2022-06-19T09:15:31.304Z"
   },
   {
    "duration": 47,
    "start_time": "2022-06-19T09:15:31.599Z"
   },
   {
    "duration": 8,
    "start_time": "2022-06-19T09:15:31.660Z"
   },
   {
    "duration": 35,
    "start_time": "2022-06-19T09:15:31.672Z"
   },
   {
    "duration": 48,
    "start_time": "2022-06-19T09:15:31.709Z"
   },
   {
    "duration": 32,
    "start_time": "2022-06-19T09:15:31.759Z"
   },
   {
    "duration": 28,
    "start_time": "2022-06-19T09:15:31.793Z"
   },
   {
    "duration": 229,
    "start_time": "2022-06-19T09:15:31.824Z"
   },
   {
    "duration": 11,
    "start_time": "2022-06-19T09:15:32.055Z"
   },
   {
    "duration": 19,
    "start_time": "2022-06-19T09:15:32.068Z"
   },
   {
    "duration": 16,
    "start_time": "2022-06-19T09:15:32.089Z"
   },
   {
    "duration": 141,
    "start_time": "2022-06-19T09:15:32.159Z"
   },
   {
    "duration": 25,
    "start_time": "2022-06-19T09:15:32.302Z"
   },
   {
    "duration": 48,
    "start_time": "2022-06-19T09:15:32.329Z"
   },
   {
    "duration": 34,
    "start_time": "2022-06-19T09:15:32.379Z"
   },
   {
    "duration": 306,
    "start_time": "2022-06-19T09:15:32.415Z"
   },
   {
    "duration": 65,
    "start_time": "2022-06-19T09:15:32.724Z"
   },
   {
    "duration": 42,
    "start_time": "2022-06-19T09:15:32.791Z"
   },
   {
    "duration": 24,
    "start_time": "2022-06-19T09:15:32.835Z"
   },
   {
    "duration": 32,
    "start_time": "2022-06-19T09:15:32.860Z"
   },
   {
    "duration": 549,
    "start_time": "2022-06-19T09:15:32.894Z"
   },
   {
    "duration": 476,
    "start_time": "2022-06-19T09:15:33.445Z"
   },
   {
    "duration": 941,
    "start_time": "2022-06-19T09:15:33.923Z"
   },
   {
    "duration": 19103,
    "start_time": "2022-06-19T09:15:34.866Z"
   },
   {
    "duration": 24,
    "start_time": "2022-06-19T09:15:53.972Z"
   },
   {
    "duration": 18,
    "start_time": "2022-06-19T09:15:53.999Z"
   },
   {
    "duration": 1622,
    "start_time": "2022-06-19T09:15:54.022Z"
   },
   {
    "duration": 12,
    "start_time": "2022-06-19T09:15:55.647Z"
   },
   {
    "duration": 37,
    "start_time": "2022-06-19T09:15:55.661Z"
   },
   {
    "duration": 22,
    "start_time": "2022-06-19T09:15:55.701Z"
   },
   {
    "duration": 5,
    "start_time": "2022-06-19T09:15:55.725Z"
   },
   {
    "duration": 90,
    "start_time": "2022-06-19T09:15:55.732Z"
   },
   {
    "duration": 10,
    "start_time": "2022-06-19T09:15:55.824Z"
   },
   {
    "duration": 323,
    "start_time": "2022-06-19T09:15:55.836Z"
   },
   {
    "duration": 63,
    "start_time": "2022-06-19T09:15:56.161Z"
   },
   {
    "duration": 35,
    "start_time": "2022-06-19T09:15:56.227Z"
   },
   {
    "duration": 20,
    "start_time": "2022-06-19T09:15:56.264Z"
   },
   {
    "duration": 26,
    "start_time": "2022-06-19T09:15:56.287Z"
   },
   {
    "duration": 332,
    "start_time": "2022-06-19T09:15:56.315Z"
   },
   {
    "duration": 38,
    "start_time": "2022-06-19T09:15:56.649Z"
   },
   {
    "duration": 17,
    "start_time": "2022-06-19T09:15:56.689Z"
   },
   {
    "duration": 19,
    "start_time": "2022-06-19T09:15:56.708Z"
   },
   {
    "duration": 35,
    "start_time": "2022-06-19T09:15:56.729Z"
   },
   {
    "duration": 21,
    "start_time": "2022-06-19T09:15:56.766Z"
   },
   {
    "duration": 20,
    "start_time": "2022-06-19T09:15:56.789Z"
   },
   {
    "duration": 37,
    "start_time": "2022-06-19T09:15:56.811Z"
   },
   {
    "duration": 10,
    "start_time": "2022-06-19T09:15:56.851Z"
   },
   {
    "duration": 9,
    "start_time": "2022-06-19T09:15:56.863Z"
   },
   {
    "duration": 20,
    "start_time": "2022-06-19T09:15:56.873Z"
   },
   {
    "duration": 21,
    "start_time": "2022-06-19T09:15:56.895Z"
   },
   {
    "duration": 6,
    "start_time": "2022-06-19T09:16:53.415Z"
   }
  ],
  "kernelspec": {
   "display_name": "Python 3 (ipykernel)",
   "language": "python",
   "name": "python3"
  },
  "language_info": {
   "codemirror_mode": {
    "name": "ipython",
    "version": 3
   },
   "file_extension": ".py",
   "mimetype": "text/x-python",
   "name": "python",
   "nbconvert_exporter": "python",
   "pygments_lexer": "ipython3",
   "version": "3.9.7"
  },
  "toc": {
   "base_numbering": 1,
   "nav_menu": {},
   "number_sections": true,
   "sideBar": true,
   "skip_h1_title": true,
   "title_cell": "Содержание",
   "title_sidebar": "Содержание",
   "toc_cell": true,
   "toc_position": {},
   "toc_section_display": true,
   "toc_window_display": true
  }
 },
 "nbformat": 4,
 "nbformat_minor": 5
}
