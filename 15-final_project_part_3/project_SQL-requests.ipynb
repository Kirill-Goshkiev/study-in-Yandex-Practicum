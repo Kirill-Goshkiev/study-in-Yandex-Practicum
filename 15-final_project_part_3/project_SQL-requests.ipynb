{
 "cells": [
  {
   "cell_type": "markdown",
   "id": "14b8005e",
   "metadata": {
    "toc": true
   },
   "source": [
    "<h1>Содержание<span class=\"tocSkip\"></span></h1>\n",
    "<div class=\"toc\"><ul class=\"toc-item\"><li><span><a href=\"#Подключение-к-БД-и-изучение-таблиц.\" data-toc-modified-id=\"Подключение-к-БД-и-изучение-таблиц.-1\"><span class=\"toc-item-num\">1&nbsp;&nbsp;</span>Подключение к БД и изучение таблиц.</a></span></li><li><span><a href=\"#Решение-задач.\" data-toc-modified-id=\"Решение-задач.-2\"><span class=\"toc-item-num\">2&nbsp;&nbsp;</span>Решение задач.</a></span></li><li><span><a href=\"#Вывод.\" data-toc-modified-id=\"Вывод.-3\"><span class=\"toc-item-num\">3&nbsp;&nbsp;</span>Вывод.</a></span></li></ul></div>"
   ]
  },
  {
   "cell_type": "markdown",
   "id": "0352c603",
   "metadata": {},
   "source": [
    "# Проект по SQL."
   ]
  },
  {
   "cell_type": "markdown",
   "id": "78b75967",
   "metadata": {},
   "source": [
    "**Опиcание проекта.**  \n",
    " \n",
    "Ваша компания купила крупный сервис для чтения книг по подписке. Ваша первая задача как аналитика — проанализировать базу данных.  \n",
    "В ней — информация о книгах, издательствах, авторах, а также пользовательские обзоры книг. Эти данные помогут сформулировать ценностное предложение для нового продукта.  \n",
    "\n",
    "**Задачи проекта.**  \n",
    "- Посчитайте, сколько книг вышло после 1 января 2000 года;\n",
    "- Для каждой книги посчитайте количество обзоров и среднюю оценку;\n",
    "- Определите издательство, которое выпустило наибольшее число книг толще 50 страниц — так вы исключите из анализа брошюры;\n",
    "- Определите автора с самой высокой средней оценкой книг — учитывайте только книги с 50 и более оценками;\n",
    "- Посчитайте среднее количество обзоров от пользователей, которые поставили больше 50 оценок.  \n",
    "\n",
    "**Описание данных.**  \n",
    "\n",
    "**Таблица `books`**\n",
    "\n",
    "Содержит данные о книгах:\n",
    "\n",
    "- book_id — идентификатор книги;\n",
    "- author_id — идентификатор автора;\n",
    "- title — название книги;\n",
    "- num_pages — количество страниц;\n",
    "- publication_date — дата публикации книги;\n",
    "- publisher_id — идентификатор издателя.  \n",
    "\n",
    "**Таблица `authors`**\n",
    "\n",
    "Содержит данные об авторах:\n",
    "\n",
    "- author_id — идентификатор автора;\n",
    "- author — имя автора.   \n",
    "\n",
    "**Таблица `publishers`**\n",
    "\n",
    "Содержит данные об издательствах:\n",
    "\n",
    "- publisher_id — идентификатор издательства;\n",
    "- publisher — название издательства;   \n",
    "\n",
    "**Таблица `ratings`**\n",
    "\n",
    "Содержит данные о пользовательских оценках книг:\n",
    "\n",
    "- rating_id — идентификатор оценки;\n",
    "- book_id — идентификатор книги;\n",
    "- username — имя пользователя, оставившего оценку;\n",
    "- rating — оценка книги.   \n",
    "\n",
    "**Таблица `reviews`**\n",
    "\n",
    "Содержит данные о пользовательских обзорах на книги:\n",
    "\n",
    "- review_id — идентификатор обзора;\n",
    "- book_id — идентификатор книги;\n",
    "- username — имя пользователя, написавшего обзор;\n",
    "- text — текст обзора."
   ]
  },
  {
   "cell_type": "markdown",
   "id": "c105add5",
   "metadata": {},
   "source": [
    "## Подключение к БД и изучение таблиц."
   ]
  },
  {
   "cell_type": "markdown",
   "id": "c81f39ef",
   "metadata": {},
   "source": [
    "Импортируем необходимые библиотеки."
   ]
  },
  {
   "cell_type": "code",
   "execution_count": 1,
   "id": "211fc0cd",
   "metadata": {},
   "outputs": [],
   "source": [
    "import pandas as pd\n",
    "from sqlalchemy import create_engine"
   ]
  },
  {
   "cell_type": "markdown",
   "id": "b484f6ad",
   "metadata": {},
   "source": [
    "Создадим подключение к базе данных."
   ]
  },
  {
   "cell_type": "code",
   "execution_count": 2,
   "id": "fa747c0e",
   "metadata": {},
   "outputs": [],
   "source": [
    "# устанавливаем параметры\n",
    "db_config = {'user': 'praktikum_student', # имя пользователя\n",
    "'pwd': 'Sdf4$2;d-d30pp', # пароль\n",
    "'host': 'rc1b-wcoijxj3yxfsf3fs.mdb.yandexcloud.net',\n",
    "'port': 6432, # порт подключения\n",
    "'db': 'data-analyst-final-project-db'} # название базы данных\n",
    "\n",
    "connection_string = 'postgresql://{}:{}@{}:{}/{}'.format(db_config['user'],\n",
    "db_config['pwd'],\n",
    "db_config['host'],\n",
    "db_config['port'],\n",
    "db_config['db'])\n",
    "\n",
    "# сохраняем коннектор\n",
    "engine = create_engine(connection_string, connect_args={'sslmode':'require'})"
   ]
  },
  {
   "cell_type": "markdown",
   "id": "9b15766a",
   "metadata": {},
   "source": [
    "Исследуем информацию о таблицах, хранящихся в базе данных."
   ]
  },
  {
   "cell_type": "code",
   "execution_count": 3,
   "id": "72c7b90b",
   "metadata": {},
   "outputs": [],
   "source": [
    "def get_table(name):\n",
    "    ''' Функция get_table на вход принимает название таблицы, хранящейся в базе данных.\n",
    "    С помощью запроса к БД формирует и выдает датафрейм\n",
    "    '''\n",
    "    \n",
    "    query = ''' SELECT * FROM {}; \n",
    "    '''.format(name)\n",
    "    request = pd.io.sql.read_sql(query, con = engine)\n",
    "    return request"
   ]
  },
  {
   "cell_type": "code",
   "execution_count": 4,
   "id": "0d24e98b",
   "metadata": {},
   "outputs": [],
   "source": [
    "books = get_table('books')\n",
    "authors = get_table('authors')\n",
    "publishers = get_table('publishers')\n",
    "ratings = get_table('ratings')\n",
    "reviews = get_table('reviews')"
   ]
  },
  {
   "cell_type": "markdown",
   "id": "67346382",
   "metadata": {},
   "source": [
    "Изучим информацию о таблицах."
   ]
  },
  {
   "cell_type": "code",
   "execution_count": 5,
   "id": "66979507",
   "metadata": {
    "scrolled": false
   },
   "outputs": [],
   "source": [
    "def df_info(df):\n",
    "    '''Функция возвращает краткую информацию о датафрейме.\n",
    "    '''\n",
    "    \n",
    "    display(df.head(5))\n",
    "    print()\n",
    "    print(df.info())"
   ]
  },
  {
   "cell_type": "code",
   "execution_count": 6,
   "id": "aed531a2",
   "metadata": {},
   "outputs": [
    {
     "data": {
      "text/html": [
       "<div>\n",
       "<style scoped>\n",
       "    .dataframe tbody tr th:only-of-type {\n",
       "        vertical-align: middle;\n",
       "    }\n",
       "\n",
       "    .dataframe tbody tr th {\n",
       "        vertical-align: top;\n",
       "    }\n",
       "\n",
       "    .dataframe thead th {\n",
       "        text-align: right;\n",
       "    }\n",
       "</style>\n",
       "<table border=\"1\" class=\"dataframe\">\n",
       "  <thead>\n",
       "    <tr style=\"text-align: right;\">\n",
       "      <th></th>\n",
       "      <th>book_id</th>\n",
       "      <th>author_id</th>\n",
       "      <th>title</th>\n",
       "      <th>num_pages</th>\n",
       "      <th>publication_date</th>\n",
       "      <th>publisher_id</th>\n",
       "    </tr>\n",
       "  </thead>\n",
       "  <tbody>\n",
       "    <tr>\n",
       "      <th>0</th>\n",
       "      <td>1</td>\n",
       "      <td>546</td>\n",
       "      <td>'Salem's Lot</td>\n",
       "      <td>594</td>\n",
       "      <td>2005-11-01</td>\n",
       "      <td>93</td>\n",
       "    </tr>\n",
       "    <tr>\n",
       "      <th>1</th>\n",
       "      <td>2</td>\n",
       "      <td>465</td>\n",
       "      <td>1 000 Places to See Before You Die</td>\n",
       "      <td>992</td>\n",
       "      <td>2003-05-22</td>\n",
       "      <td>336</td>\n",
       "    </tr>\n",
       "    <tr>\n",
       "      <th>2</th>\n",
       "      <td>3</td>\n",
       "      <td>407</td>\n",
       "      <td>13 Little Blue Envelopes (Little Blue Envelope...</td>\n",
       "      <td>322</td>\n",
       "      <td>2010-12-21</td>\n",
       "      <td>135</td>\n",
       "    </tr>\n",
       "    <tr>\n",
       "      <th>3</th>\n",
       "      <td>4</td>\n",
       "      <td>82</td>\n",
       "      <td>1491: New Revelations of the Americas Before C...</td>\n",
       "      <td>541</td>\n",
       "      <td>2006-10-10</td>\n",
       "      <td>309</td>\n",
       "    </tr>\n",
       "    <tr>\n",
       "      <th>4</th>\n",
       "      <td>5</td>\n",
       "      <td>125</td>\n",
       "      <td>1776</td>\n",
       "      <td>386</td>\n",
       "      <td>2006-07-04</td>\n",
       "      <td>268</td>\n",
       "    </tr>\n",
       "  </tbody>\n",
       "</table>\n",
       "</div>"
      ],
      "text/plain": [
       "   book_id  author_id                                              title  \\\n",
       "0        1        546                                       'Salem's Lot   \n",
       "1        2        465                 1 000 Places to See Before You Die   \n",
       "2        3        407  13 Little Blue Envelopes (Little Blue Envelope...   \n",
       "3        4         82  1491: New Revelations of the Americas Before C...   \n",
       "4        5        125                                               1776   \n",
       "\n",
       "   num_pages publication_date  publisher_id  \n",
       "0        594       2005-11-01            93  \n",
       "1        992       2003-05-22           336  \n",
       "2        322       2010-12-21           135  \n",
       "3        541       2006-10-10           309  \n",
       "4        386       2006-07-04           268  "
      ]
     },
     "metadata": {},
     "output_type": "display_data"
    },
    {
     "name": "stdout",
     "output_type": "stream",
     "text": [
      "\n",
      "<class 'pandas.core.frame.DataFrame'>\n",
      "RangeIndex: 1000 entries, 0 to 999\n",
      "Data columns (total 6 columns):\n",
      " #   Column            Non-Null Count  Dtype \n",
      "---  ------            --------------  ----- \n",
      " 0   book_id           1000 non-null   int64 \n",
      " 1   author_id         1000 non-null   int64 \n",
      " 2   title             1000 non-null   object\n",
      " 3   num_pages         1000 non-null   int64 \n",
      " 4   publication_date  1000 non-null   object\n",
      " 5   publisher_id      1000 non-null   int64 \n",
      "dtypes: int64(4), object(2)\n",
      "memory usage: 47.0+ KB\n",
      "None\n"
     ]
    }
   ],
   "source": [
    "df_info(books)"
   ]
  },
  {
   "cell_type": "code",
   "execution_count": 7,
   "id": "eb7f3fd4",
   "metadata": {},
   "outputs": [
    {
     "data": {
      "text/plain": [
       "1000"
      ]
     },
     "execution_count": 7,
     "metadata": {},
     "output_type": "execute_result"
    }
   ],
   "source": [
    "books.book_id.nunique()"
   ]
  },
  {
   "cell_type": "markdown",
   "id": "2e18c17f",
   "metadata": {},
   "source": [
    "В таблице с данными о книгах пропусков нет. Содержится информация о 1000 уникальных книг. Тип данных в столбце с датой публикации книги - строковый."
   ]
  },
  {
   "cell_type": "code",
   "execution_count": 8,
   "id": "fa3cf182",
   "metadata": {},
   "outputs": [
    {
     "data": {
      "text/html": [
       "<div>\n",
       "<style scoped>\n",
       "    .dataframe tbody tr th:only-of-type {\n",
       "        vertical-align: middle;\n",
       "    }\n",
       "\n",
       "    .dataframe tbody tr th {\n",
       "        vertical-align: top;\n",
       "    }\n",
       "\n",
       "    .dataframe thead th {\n",
       "        text-align: right;\n",
       "    }\n",
       "</style>\n",
       "<table border=\"1\" class=\"dataframe\">\n",
       "  <thead>\n",
       "    <tr style=\"text-align: right;\">\n",
       "      <th></th>\n",
       "      <th>author_id</th>\n",
       "      <th>author</th>\n",
       "    </tr>\n",
       "  </thead>\n",
       "  <tbody>\n",
       "    <tr>\n",
       "      <th>0</th>\n",
       "      <td>1</td>\n",
       "      <td>A.S. Byatt</td>\n",
       "    </tr>\n",
       "    <tr>\n",
       "      <th>1</th>\n",
       "      <td>2</td>\n",
       "      <td>Aesop/Laura Harris/Laura Gibbs</td>\n",
       "    </tr>\n",
       "    <tr>\n",
       "      <th>2</th>\n",
       "      <td>3</td>\n",
       "      <td>Agatha Christie</td>\n",
       "    </tr>\n",
       "    <tr>\n",
       "      <th>3</th>\n",
       "      <td>4</td>\n",
       "      <td>Alan Brennert</td>\n",
       "    </tr>\n",
       "    <tr>\n",
       "      <th>4</th>\n",
       "      <td>5</td>\n",
       "      <td>Alan Moore/David   Lloyd</td>\n",
       "    </tr>\n",
       "  </tbody>\n",
       "</table>\n",
       "</div>"
      ],
      "text/plain": [
       "   author_id                          author\n",
       "0          1                      A.S. Byatt\n",
       "1          2  Aesop/Laura Harris/Laura Gibbs\n",
       "2          3                 Agatha Christie\n",
       "3          4                   Alan Brennert\n",
       "4          5        Alan Moore/David   Lloyd"
      ]
     },
     "metadata": {},
     "output_type": "display_data"
    },
    {
     "name": "stdout",
     "output_type": "stream",
     "text": [
      "\n",
      "<class 'pandas.core.frame.DataFrame'>\n",
      "RangeIndex: 636 entries, 0 to 635\n",
      "Data columns (total 2 columns):\n",
      " #   Column     Non-Null Count  Dtype \n",
      "---  ------     --------------  ----- \n",
      " 0   author_id  636 non-null    int64 \n",
      " 1   author     636 non-null    object\n",
      "dtypes: int64(1), object(1)\n",
      "memory usage: 10.1+ KB\n",
      "None\n"
     ]
    }
   ],
   "source": [
    "df_info(authors)"
   ]
  },
  {
   "cell_type": "code",
   "execution_count": 9,
   "id": "ebd1b3fd",
   "metadata": {},
   "outputs": [
    {
     "data": {
      "text/plain": [
       "636"
      ]
     },
     "execution_count": 9,
     "metadata": {},
     "output_type": "execute_result"
    }
   ],
   "source": [
    "authors.author_id.nunique()"
   ]
  },
  {
   "cell_type": "markdown",
   "id": "708dc650",
   "metadata": {},
   "source": [
    "В таблице с данными об авторах пропусков нет. Содержится информация о 636 уникальных авторах."
   ]
  },
  {
   "cell_type": "code",
   "execution_count": 10,
   "id": "5a4a0915",
   "metadata": {},
   "outputs": [
    {
     "data": {
      "text/html": [
       "<div>\n",
       "<style scoped>\n",
       "    .dataframe tbody tr th:only-of-type {\n",
       "        vertical-align: middle;\n",
       "    }\n",
       "\n",
       "    .dataframe tbody tr th {\n",
       "        vertical-align: top;\n",
       "    }\n",
       "\n",
       "    .dataframe thead th {\n",
       "        text-align: right;\n",
       "    }\n",
       "</style>\n",
       "<table border=\"1\" class=\"dataframe\">\n",
       "  <thead>\n",
       "    <tr style=\"text-align: right;\">\n",
       "      <th></th>\n",
       "      <th>publisher_id</th>\n",
       "      <th>publisher</th>\n",
       "    </tr>\n",
       "  </thead>\n",
       "  <tbody>\n",
       "    <tr>\n",
       "      <th>0</th>\n",
       "      <td>1</td>\n",
       "      <td>Ace</td>\n",
       "    </tr>\n",
       "    <tr>\n",
       "      <th>1</th>\n",
       "      <td>2</td>\n",
       "      <td>Ace Book</td>\n",
       "    </tr>\n",
       "    <tr>\n",
       "      <th>2</th>\n",
       "      <td>3</td>\n",
       "      <td>Ace Books</td>\n",
       "    </tr>\n",
       "    <tr>\n",
       "      <th>3</th>\n",
       "      <td>4</td>\n",
       "      <td>Ace Hardcover</td>\n",
       "    </tr>\n",
       "    <tr>\n",
       "      <th>4</th>\n",
       "      <td>5</td>\n",
       "      <td>Addison Wesley Publishing Company</td>\n",
       "    </tr>\n",
       "  </tbody>\n",
       "</table>\n",
       "</div>"
      ],
      "text/plain": [
       "   publisher_id                          publisher\n",
       "0             1                                Ace\n",
       "1             2                           Ace Book\n",
       "2             3                          Ace Books\n",
       "3             4                      Ace Hardcover\n",
       "4             5  Addison Wesley Publishing Company"
      ]
     },
     "metadata": {},
     "output_type": "display_data"
    },
    {
     "name": "stdout",
     "output_type": "stream",
     "text": [
      "\n",
      "<class 'pandas.core.frame.DataFrame'>\n",
      "RangeIndex: 340 entries, 0 to 339\n",
      "Data columns (total 2 columns):\n",
      " #   Column        Non-Null Count  Dtype \n",
      "---  ------        --------------  ----- \n",
      " 0   publisher_id  340 non-null    int64 \n",
      " 1   publisher     340 non-null    object\n",
      "dtypes: int64(1), object(1)\n",
      "memory usage: 5.4+ KB\n",
      "None\n"
     ]
    }
   ],
   "source": [
    "df_info(publishers)"
   ]
  },
  {
   "cell_type": "code",
   "execution_count": 11,
   "id": "dd7692da",
   "metadata": {},
   "outputs": [
    {
     "data": {
      "text/plain": [
       "340"
      ]
     },
     "execution_count": 11,
     "metadata": {},
     "output_type": "execute_result"
    }
   ],
   "source": [
    "publishers.publisher_id.nunique()"
   ]
  },
  {
   "cell_type": "markdown",
   "id": "f9a3584f",
   "metadata": {},
   "source": [
    "В таблице с данными об издательствах пропусков нет. Все 340 строк датафрейма это уникальные издательства."
   ]
  },
  {
   "cell_type": "code",
   "execution_count": 12,
   "id": "7024c34c",
   "metadata": {},
   "outputs": [
    {
     "data": {
      "text/html": [
       "<div>\n",
       "<style scoped>\n",
       "    .dataframe tbody tr th:only-of-type {\n",
       "        vertical-align: middle;\n",
       "    }\n",
       "\n",
       "    .dataframe tbody tr th {\n",
       "        vertical-align: top;\n",
       "    }\n",
       "\n",
       "    .dataframe thead th {\n",
       "        text-align: right;\n",
       "    }\n",
       "</style>\n",
       "<table border=\"1\" class=\"dataframe\">\n",
       "  <thead>\n",
       "    <tr style=\"text-align: right;\">\n",
       "      <th></th>\n",
       "      <th>rating_id</th>\n",
       "      <th>book_id</th>\n",
       "      <th>username</th>\n",
       "      <th>rating</th>\n",
       "    </tr>\n",
       "  </thead>\n",
       "  <tbody>\n",
       "    <tr>\n",
       "      <th>0</th>\n",
       "      <td>1</td>\n",
       "      <td>1</td>\n",
       "      <td>ryanfranco</td>\n",
       "      <td>4</td>\n",
       "    </tr>\n",
       "    <tr>\n",
       "      <th>1</th>\n",
       "      <td>2</td>\n",
       "      <td>1</td>\n",
       "      <td>grantpatricia</td>\n",
       "      <td>2</td>\n",
       "    </tr>\n",
       "    <tr>\n",
       "      <th>2</th>\n",
       "      <td>3</td>\n",
       "      <td>1</td>\n",
       "      <td>brandtandrea</td>\n",
       "      <td>5</td>\n",
       "    </tr>\n",
       "    <tr>\n",
       "      <th>3</th>\n",
       "      <td>4</td>\n",
       "      <td>2</td>\n",
       "      <td>lorichen</td>\n",
       "      <td>3</td>\n",
       "    </tr>\n",
       "    <tr>\n",
       "      <th>4</th>\n",
       "      <td>5</td>\n",
       "      <td>2</td>\n",
       "      <td>mariokeller</td>\n",
       "      <td>2</td>\n",
       "    </tr>\n",
       "  </tbody>\n",
       "</table>\n",
       "</div>"
      ],
      "text/plain": [
       "   rating_id  book_id       username  rating\n",
       "0          1        1     ryanfranco       4\n",
       "1          2        1  grantpatricia       2\n",
       "2          3        1   brandtandrea       5\n",
       "3          4        2       lorichen       3\n",
       "4          5        2    mariokeller       2"
      ]
     },
     "metadata": {},
     "output_type": "display_data"
    },
    {
     "name": "stdout",
     "output_type": "stream",
     "text": [
      "\n",
      "<class 'pandas.core.frame.DataFrame'>\n",
      "RangeIndex: 6456 entries, 0 to 6455\n",
      "Data columns (total 4 columns):\n",
      " #   Column     Non-Null Count  Dtype \n",
      "---  ------     --------------  ----- \n",
      " 0   rating_id  6456 non-null   int64 \n",
      " 1   book_id    6456 non-null   int64 \n",
      " 2   username   6456 non-null   object\n",
      " 3   rating     6456 non-null   int64 \n",
      "dtypes: int64(3), object(1)\n",
      "memory usage: 201.9+ KB\n",
      "None\n"
     ]
    }
   ],
   "source": [
    "df_info(ratings)"
   ]
  },
  {
   "cell_type": "code",
   "execution_count": 13,
   "id": "93a512aa",
   "metadata": {},
   "outputs": [
    {
     "data": {
      "text/plain": [
       "6456"
      ]
     },
     "execution_count": 13,
     "metadata": {},
     "output_type": "execute_result"
    }
   ],
   "source": [
    "ratings.rating_id.nunique()"
   ]
  },
  {
   "cell_type": "code",
   "execution_count": 14,
   "id": "1ee36c6a",
   "metadata": {},
   "outputs": [
    {
     "data": {
      "text/plain": [
       "count    6456.000000\n",
       "mean        3.928284\n",
       "std         0.943303\n",
       "min         1.000000\n",
       "25%         3.000000\n",
       "50%         4.000000\n",
       "75%         5.000000\n",
       "max         5.000000\n",
       "Name: rating, dtype: float64"
      ]
     },
     "execution_count": 14,
     "metadata": {},
     "output_type": "execute_result"
    }
   ],
   "source": [
    "ratings.rating.describe()"
   ]
  },
  {
   "cell_type": "markdown",
   "id": "c027feb2",
   "metadata": {},
   "source": [
    "В таблице с данными о пользовательских оценках книг пропусков нет. Читателями оставлено 6456 уникальных оценок. Оценивание происходит по 5-ти бальной шкале. Средняя оценка по имеющимся книгам составляет 3,93 балла."
   ]
  },
  {
   "cell_type": "code",
   "execution_count": 15,
   "id": "a3c0cc0b",
   "metadata": {},
   "outputs": [
    {
     "data": {
      "text/html": [
       "<div>\n",
       "<style scoped>\n",
       "    .dataframe tbody tr th:only-of-type {\n",
       "        vertical-align: middle;\n",
       "    }\n",
       "\n",
       "    .dataframe tbody tr th {\n",
       "        vertical-align: top;\n",
       "    }\n",
       "\n",
       "    .dataframe thead th {\n",
       "        text-align: right;\n",
       "    }\n",
       "</style>\n",
       "<table border=\"1\" class=\"dataframe\">\n",
       "  <thead>\n",
       "    <tr style=\"text-align: right;\">\n",
       "      <th></th>\n",
       "      <th>review_id</th>\n",
       "      <th>book_id</th>\n",
       "      <th>username</th>\n",
       "      <th>text</th>\n",
       "    </tr>\n",
       "  </thead>\n",
       "  <tbody>\n",
       "    <tr>\n",
       "      <th>0</th>\n",
       "      <td>1</td>\n",
       "      <td>1</td>\n",
       "      <td>brandtandrea</td>\n",
       "      <td>Mention society tell send professor analysis. ...</td>\n",
       "    </tr>\n",
       "    <tr>\n",
       "      <th>1</th>\n",
       "      <td>2</td>\n",
       "      <td>1</td>\n",
       "      <td>ryanfranco</td>\n",
       "      <td>Foot glass pretty audience hit themselves. Amo...</td>\n",
       "    </tr>\n",
       "    <tr>\n",
       "      <th>2</th>\n",
       "      <td>3</td>\n",
       "      <td>2</td>\n",
       "      <td>lorichen</td>\n",
       "      <td>Listen treat keep worry. Miss husband tax but ...</td>\n",
       "    </tr>\n",
       "    <tr>\n",
       "      <th>3</th>\n",
       "      <td>4</td>\n",
       "      <td>3</td>\n",
       "      <td>johnsonamanda</td>\n",
       "      <td>Finally month interesting blue could nature cu...</td>\n",
       "    </tr>\n",
       "    <tr>\n",
       "      <th>4</th>\n",
       "      <td>5</td>\n",
       "      <td>3</td>\n",
       "      <td>scotttamara</td>\n",
       "      <td>Nation purpose heavy give wait song will. List...</td>\n",
       "    </tr>\n",
       "  </tbody>\n",
       "</table>\n",
       "</div>"
      ],
      "text/plain": [
       "   review_id  book_id       username  \\\n",
       "0          1        1   brandtandrea   \n",
       "1          2        1     ryanfranco   \n",
       "2          3        2       lorichen   \n",
       "3          4        3  johnsonamanda   \n",
       "4          5        3    scotttamara   \n",
       "\n",
       "                                                text  \n",
       "0  Mention society tell send professor analysis. ...  \n",
       "1  Foot glass pretty audience hit themselves. Amo...  \n",
       "2  Listen treat keep worry. Miss husband tax but ...  \n",
       "3  Finally month interesting blue could nature cu...  \n",
       "4  Nation purpose heavy give wait song will. List...  "
      ]
     },
     "metadata": {},
     "output_type": "display_data"
    },
    {
     "name": "stdout",
     "output_type": "stream",
     "text": [
      "\n",
      "<class 'pandas.core.frame.DataFrame'>\n",
      "RangeIndex: 2793 entries, 0 to 2792\n",
      "Data columns (total 4 columns):\n",
      " #   Column     Non-Null Count  Dtype \n",
      "---  ------     --------------  ----- \n",
      " 0   review_id  2793 non-null   int64 \n",
      " 1   book_id    2793 non-null   int64 \n",
      " 2   username   2793 non-null   object\n",
      " 3   text       2793 non-null   object\n",
      "dtypes: int64(2), object(2)\n",
      "memory usage: 87.4+ KB\n",
      "None\n"
     ]
    }
   ],
   "source": [
    "df_info(reviews)"
   ]
  },
  {
   "cell_type": "code",
   "execution_count": 16,
   "id": "ea2fa050",
   "metadata": {},
   "outputs": [
    {
     "data": {
      "text/plain": [
       "2793"
      ]
     },
     "execution_count": 16,
     "metadata": {},
     "output_type": "execute_result"
    }
   ],
   "source": [
    "reviews.review_id.nunique()"
   ]
  },
  {
   "cell_type": "markdown",
   "id": "455ebb45",
   "metadata": {},
   "source": [
    "В таблице с данными о пользовательских обзорах на книги пропусков нет. Читателями оставлено 2793 уникальных обзора на книги."
   ]
  },
  {
   "cell_type": "markdown",
   "id": "4e366bf5",
   "metadata": {},
   "source": [
    "## Решение задач."
   ]
  },
  {
   "cell_type": "markdown",
   "id": "bcfba17a",
   "metadata": {},
   "source": [
    "**Задача №1**  \n",
    "\n",
    "Посчитаем, сколько книг вышло после 1 января 2000 года."
   ]
  },
  {
   "cell_type": "code",
   "execution_count": 17,
   "id": "f3daa8a0",
   "metadata": {},
   "outputs": [
    {
     "data": {
      "text/html": [
       "<div>\n",
       "<style scoped>\n",
       "    .dataframe tbody tr th:only-of-type {\n",
       "        vertical-align: middle;\n",
       "    }\n",
       "\n",
       "    .dataframe tbody tr th {\n",
       "        vertical-align: top;\n",
       "    }\n",
       "\n",
       "    .dataframe thead th {\n",
       "        text-align: right;\n",
       "    }\n",
       "</style>\n",
       "<table border=\"1\" class=\"dataframe\">\n",
       "  <thead>\n",
       "    <tr style=\"text-align: right;\">\n",
       "      <th></th>\n",
       "      <th>books_count</th>\n",
       "    </tr>\n",
       "  </thead>\n",
       "  <tbody>\n",
       "    <tr>\n",
       "      <th>0</th>\n",
       "      <td>819</td>\n",
       "    </tr>\n",
       "  </tbody>\n",
       "</table>\n",
       "</div>"
      ],
      "text/plain": [
       "   books_count\n",
       "0          819"
      ]
     },
     "execution_count": 17,
     "metadata": {},
     "output_type": "execute_result"
    }
   ],
   "source": [
    "query_1 = ''' \n",
    "SELECT COUNT(*) AS books_count\n",
    "FROM books\n",
    "WHERE publication_date > '2000-1-1'; \n",
    "''' \n",
    "\n",
    "request_1 = pd.io.sql.read_sql(query_1, con = engine)\n",
    "request_1"
   ]
  },
  {
   "cell_type": "markdown",
   "id": "cf440080",
   "metadata": {},
   "source": [
    "**Задача №2**   \n",
    "\n",
    "Посчитаем для каждой книги количество обзоров и среднюю оценку."
   ]
  },
  {
   "cell_type": "code",
   "execution_count": 18,
   "id": "c55a9c00",
   "metadata": {},
   "outputs": [
    {
     "data": {
      "text/html": [
       "<div>\n",
       "<style scoped>\n",
       "    .dataframe tbody tr th:only-of-type {\n",
       "        vertical-align: middle;\n",
       "    }\n",
       "\n",
       "    .dataframe tbody tr th {\n",
       "        vertical-align: top;\n",
       "    }\n",
       "\n",
       "    .dataframe thead th {\n",
       "        text-align: right;\n",
       "    }\n",
       "</style>\n",
       "<table border=\"1\" class=\"dataframe\">\n",
       "  <thead>\n",
       "    <tr style=\"text-align: right;\">\n",
       "      <th></th>\n",
       "      <th>book_name</th>\n",
       "      <th>book_id</th>\n",
       "      <th>reviews_count</th>\n",
       "      <th>avg_rating</th>\n",
       "    </tr>\n",
       "  </thead>\n",
       "  <tbody>\n",
       "    <tr>\n",
       "      <th>0</th>\n",
       "      <td>The Body in the Library (Miss Marple  #3)</td>\n",
       "      <td>652</td>\n",
       "      <td>2.0</td>\n",
       "      <td>4.500000</td>\n",
       "    </tr>\n",
       "    <tr>\n",
       "      <th>1</th>\n",
       "      <td>Galápagos</td>\n",
       "      <td>273</td>\n",
       "      <td>2.0</td>\n",
       "      <td>4.500000</td>\n",
       "    </tr>\n",
       "    <tr>\n",
       "      <th>2</th>\n",
       "      <td>A Tree Grows in Brooklyn</td>\n",
       "      <td>51</td>\n",
       "      <td>5.0</td>\n",
       "      <td>4.250000</td>\n",
       "    </tr>\n",
       "    <tr>\n",
       "      <th>3</th>\n",
       "      <td>Undaunted Courage: The Pioneering First Missio...</td>\n",
       "      <td>951</td>\n",
       "      <td>2.0</td>\n",
       "      <td>4.000000</td>\n",
       "    </tr>\n",
       "    <tr>\n",
       "      <th>4</th>\n",
       "      <td>The Prophet</td>\n",
       "      <td>839</td>\n",
       "      <td>4.0</td>\n",
       "      <td>4.285714</td>\n",
       "    </tr>\n",
       "    <tr>\n",
       "      <th>...</th>\n",
       "      <td>...</td>\n",
       "      <td>...</td>\n",
       "      <td>...</td>\n",
       "      <td>...</td>\n",
       "    </tr>\n",
       "    <tr>\n",
       "      <th>995</th>\n",
       "      <td>Alice in Wonderland</td>\n",
       "      <td>64</td>\n",
       "      <td>4.0</td>\n",
       "      <td>4.230769</td>\n",
       "    </tr>\n",
       "    <tr>\n",
       "      <th>996</th>\n",
       "      <td>A Woman of Substance (Emma Harte Saga #1)</td>\n",
       "      <td>55</td>\n",
       "      <td>2.0</td>\n",
       "      <td>5.000000</td>\n",
       "    </tr>\n",
       "    <tr>\n",
       "      <th>997</th>\n",
       "      <td>Christine</td>\n",
       "      <td>148</td>\n",
       "      <td>3.0</td>\n",
       "      <td>3.428571</td>\n",
       "    </tr>\n",
       "    <tr>\n",
       "      <th>998</th>\n",
       "      <td>The Magicians' Guild (Black Magician Trilogy  #1)</td>\n",
       "      <td>790</td>\n",
       "      <td>2.0</td>\n",
       "      <td>3.500000</td>\n",
       "    </tr>\n",
       "    <tr>\n",
       "      <th>999</th>\n",
       "      <td>The Plot Against America</td>\n",
       "      <td>828</td>\n",
       "      <td>2.0</td>\n",
       "      <td>3.000000</td>\n",
       "    </tr>\n",
       "  </tbody>\n",
       "</table>\n",
       "<p>1000 rows × 4 columns</p>\n",
       "</div>"
      ],
      "text/plain": [
       "                                             book_name  book_id  \\\n",
       "0            The Body in the Library (Miss Marple  #3)      652   \n",
       "1                                            Galápagos      273   \n",
       "2                             A Tree Grows in Brooklyn       51   \n",
       "3    Undaunted Courage: The Pioneering First Missio...      951   \n",
       "4                                          The Prophet      839   \n",
       "..                                                 ...      ...   \n",
       "995                                Alice in Wonderland       64   \n",
       "996          A Woman of Substance (Emma Harte Saga #1)       55   \n",
       "997                                          Christine      148   \n",
       "998  The Magicians' Guild (Black Magician Trilogy  #1)      790   \n",
       "999                           The Plot Against America      828   \n",
       "\n",
       "     reviews_count  avg_rating  \n",
       "0              2.0    4.500000  \n",
       "1              2.0    4.500000  \n",
       "2              5.0    4.250000  \n",
       "3              2.0    4.000000  \n",
       "4              4.0    4.285714  \n",
       "..             ...         ...  \n",
       "995            4.0    4.230769  \n",
       "996            2.0    5.000000  \n",
       "997            3.0    3.428571  \n",
       "998            2.0    3.500000  \n",
       "999            2.0    3.000000  \n",
       "\n",
       "[1000 rows x 4 columns]"
      ]
     },
     "execution_count": 18,
     "metadata": {},
     "output_type": "execute_result"
    }
   ],
   "source": [
    "query_2 = ''' \n",
    "SELECT \n",
    "    b.title AS book_name,\n",
    "    b.book_id AS book_id,\n",
    "    rev.cnt AS reviews_count,\n",
    "    rat.avg_rat AS avg_rating\n",
    "FROM books AS b \n",
    "LEFT JOIN \n",
    "         (SELECT book_id,\n",
    "                 AVG(rating) AS avg_rat\n",
    "          FROM ratings\n",
    "          GROUP BY book_id\n",
    "         ) AS rat ON b.book_id = rat.book_id\n",
    "LEFT JOIN\n",
    "         (SELECT book_id,\n",
    "                 COUNT(review_id) AS cnt\n",
    "          FROM reviews\n",
    "          GROUP BY book_id\n",
    "          ) AS rev ON b.book_id = rev.book_id; \n",
    "''' \n",
    "\n",
    "request_2 = pd.io.sql.read_sql(query_2, con = engine)\n",
    "request_2"
   ]
  },
  {
   "cell_type": "markdown",
   "id": "ed23f4da",
   "metadata": {},
   "source": [
    "**Задача №3**   \n",
    "\n",
    "Определим издательство, которое выпустило наибольшее число книг толще 50 страниц — так мы исключим из анализа брошюры."
   ]
  },
  {
   "cell_type": "code",
   "execution_count": 19,
   "id": "6aac5d74",
   "metadata": {},
   "outputs": [
    {
     "data": {
      "text/html": [
       "<div>\n",
       "<style scoped>\n",
       "    .dataframe tbody tr th:only-of-type {\n",
       "        vertical-align: middle;\n",
       "    }\n",
       "\n",
       "    .dataframe tbody tr th {\n",
       "        vertical-align: top;\n",
       "    }\n",
       "\n",
       "    .dataframe thead th {\n",
       "        text-align: right;\n",
       "    }\n",
       "</style>\n",
       "<table border=\"1\" class=\"dataframe\">\n",
       "  <thead>\n",
       "    <tr style=\"text-align: right;\">\n",
       "      <th></th>\n",
       "      <th>publisher_id</th>\n",
       "      <th>publisher</th>\n",
       "      <th>books_count</th>\n",
       "    </tr>\n",
       "  </thead>\n",
       "  <tbody>\n",
       "    <tr>\n",
       "      <th>0</th>\n",
       "      <td>212</td>\n",
       "      <td>Penguin Books</td>\n",
       "      <td>42</td>\n",
       "    </tr>\n",
       "  </tbody>\n",
       "</table>\n",
       "</div>"
      ],
      "text/plain": [
       "   publisher_id      publisher  books_count\n",
       "0           212  Penguin Books           42"
      ]
     },
     "execution_count": 19,
     "metadata": {},
     "output_type": "execute_result"
    }
   ],
   "source": [
    "query_3 = ''' \n",
    "SELECT i.publisher_id,\n",
    "       i.publisher,\n",
    "       i.books_count\n",
    "FROM\n",
    "    (SELECT b.publisher_id AS publisher_id,\n",
    "            COUNT(b.book_id) AS books_count,\n",
    "            p.publisher AS publisher \n",
    "     FROM books AS b\n",
    "          LEFT JOIN publishers AS p ON b.publisher_id=p.publisher_id\n",
    "     WHERE num_pages > 50\n",
    "     GROUP BY b.publisher_id,\n",
    "              p.publisher\n",
    "     ORDER BY books_count DESC) AS i\n",
    "LIMIT 1;\n",
    "''' \n",
    "\n",
    "request_3 = pd.io.sql.read_sql(query_3, con = engine)\n",
    "request_3"
   ]
  },
  {
   "cell_type": "markdown",
   "id": "a819e616",
   "metadata": {},
   "source": [
    "**Задача №4**   \n",
    "\n",
    "Определим автора с самой высокой средней оценкой книг — учитывая только книги с 50 и более оценками."
   ]
  },
  {
   "cell_type": "code",
   "execution_count": 23,
   "id": "cd34e0bd",
   "metadata": {},
   "outputs": [
    {
     "data": {
      "text/html": [
       "<div>\n",
       "<style scoped>\n",
       "    .dataframe tbody tr th:only-of-type {\n",
       "        vertical-align: middle;\n",
       "    }\n",
       "\n",
       "    .dataframe tbody tr th {\n",
       "        vertical-align: top;\n",
       "    }\n",
       "\n",
       "    .dataframe thead th {\n",
       "        text-align: right;\n",
       "    }\n",
       "</style>\n",
       "<table border=\"1\" class=\"dataframe\">\n",
       "  <thead>\n",
       "    <tr style=\"text-align: right;\">\n",
       "      <th></th>\n",
       "      <th>author</th>\n",
       "      <th>avg_rating</th>\n",
       "    </tr>\n",
       "  </thead>\n",
       "  <tbody>\n",
       "    <tr>\n",
       "      <th>0</th>\n",
       "      <td>J.K. Rowling/Mary GrandPré</td>\n",
       "      <td>4.283844</td>\n",
       "    </tr>\n",
       "  </tbody>\n",
       "</table>\n",
       "</div>"
      ],
      "text/plain": [
       "                       author  avg_rating\n",
       "0  J.K. Rowling/Mary GrandPré    4.283844"
      ]
     },
     "execution_count": 23,
     "metadata": {},
     "output_type": "execute_result"
    }
   ],
   "source": [
    "query_4 = ''' \n",
    "SELECT i.author,\n",
    "       AVG(i.avg_rating) AS avg_rating\n",
    "FROM\n",
    "     (SELECT a.author_id AS author_id,\n",
    "             a.author AS author, \n",
    "             AVG(r.rating) AS avg_rating\n",
    "      FROM books AS b\n",
    "      LEFT JOIN authors AS a ON b.author_id = a.author_id\n",
    "      LEFT JOIN ratings AS r ON b.book_id = r.book_id\n",
    "      GROUP BY b.book_id,\n",
    "               a.author_id\n",
    "      HAVING COUNT(r.rating_id) >=50 \n",
    "     ) AS i \n",
    "GROUP BY i.author\n",
    "ORDER BY avg_rating DESC\n",
    "LIMIT 1;\n",
    "''' \n",
    "\n",
    "request_4 = pd.io.sql.read_sql(query_4, con = engine)\n",
    "request_4"
   ]
  },
  {
   "cell_type": "markdown",
   "id": "d681ecb3",
   "metadata": {},
   "source": [
    "**Задача №5**  \n",
    "\n",
    "Посчитаем среднее количество обзоров от пользователей, которые поставили больше 50 оценок."
   ]
  },
  {
   "cell_type": "code",
   "execution_count": 21,
   "id": "2bfd15b5",
   "metadata": {},
   "outputs": [
    {
     "data": {
      "text/html": [
       "<div>\n",
       "<style scoped>\n",
       "    .dataframe tbody tr th:only-of-type {\n",
       "        vertical-align: middle;\n",
       "    }\n",
       "\n",
       "    .dataframe tbody tr th {\n",
       "        vertical-align: top;\n",
       "    }\n",
       "\n",
       "    .dataframe thead th {\n",
       "        text-align: right;\n",
       "    }\n",
       "</style>\n",
       "<table border=\"1\" class=\"dataframe\">\n",
       "  <thead>\n",
       "    <tr style=\"text-align: right;\">\n",
       "      <th></th>\n",
       "      <th>avg_rev_count</th>\n",
       "    </tr>\n",
       "  </thead>\n",
       "  <tbody>\n",
       "    <tr>\n",
       "      <th>0</th>\n",
       "      <td>24.333333</td>\n",
       "    </tr>\n",
       "  </tbody>\n",
       "</table>\n",
       "</div>"
      ],
      "text/plain": [
       "   avg_rev_count\n",
       "0      24.333333"
      ]
     },
     "execution_count": 21,
     "metadata": {},
     "output_type": "execute_result"
    }
   ],
   "source": [
    "query_5 = ''' \n",
    "SELECT AVG(r.reviews_count) AS avg_rev_count\n",
    "FROM\n",
    "    (SELECT username,\n",
    "            COUNT(review_id) AS reviews_count\n",
    "     FROM reviews\n",
    "     WHERE username IN (SELECT username\n",
    "                        FROM ratings\n",
    "                        GROUP BY username\n",
    "                        HAVING COUNT(rating_id) > 50\n",
    "                       )\n",
    "     GROUP BY username\n",
    "    ) AS r; \n",
    "''' \n",
    "\n",
    "request_5 = pd.io.sql.read_sql(query_5, con = engine)\n",
    "request_5"
   ]
  },
  {
   "cell_type": "markdown",
   "id": "85671bb5",
   "metadata": {},
   "source": [
    "## Вывод."
   ]
  },
  {
   "cell_type": "markdown",
   "id": "407fa37e",
   "metadata": {},
   "source": [
    "Выполнили подключение к базе данных сервиса для чтения книг и изучили общую информацию о таблицах, входящих в неё.  \n",
    "Решили поставленные задачи с помощью SQL-запросов к базе данных и получили следующие ответы:\n",
    "- После 1 января 2000 г. вышло 819 книг;\n",
    "- Выгрузили таблицу, в которой для каждой книги посчитано количество обзоров и средняя оценка по ним;\n",
    "- Издательство \"Penguin Books\" выпустило 42 книги - это наибольшее число книг толще 50 страниц;\n",
    "- Самая высокая средняя оценка книг (учитывая только книги с 50 и более оценками) равна 4,28 балла и принадлежит авторам J.K. Rowling / Mary GrandPré;\n",
    "- Среднее количество обзоров от пользователей, которые поставили больше 50 оценок, равно 24."
   ]
  }
 ],
 "metadata": {
  "ExecuteTimeLog": [
   {
    "duration": 632,
    "start_time": "2022-06-21T20:10:48.584Z"
   },
   {
    "duration": 9116,
    "start_time": "2022-06-21T20:10:49.220Z"
   },
   {
    "duration": 5,
    "start_time": "2022-06-21T20:10:58.337Z"
   },
   {
    "duration": 987,
    "start_time": "2022-06-21T20:10:58.344Z"
   },
   {
    "duration": 5,
    "start_time": "2022-06-21T20:10:59.332Z"
   },
   {
    "duration": 45,
    "start_time": "2022-06-21T20:10:59.338Z"
   },
   {
    "duration": 32,
    "start_time": "2022-06-21T20:10:59.385Z"
   },
   {
    "duration": 15,
    "start_time": "2022-06-21T20:10:59.419Z"
   },
   {
    "duration": 6,
    "start_time": "2022-06-21T20:10:59.436Z"
   },
   {
    "duration": 16,
    "start_time": "2022-06-21T20:10:59.444Z"
   },
   {
    "duration": 28,
    "start_time": "2022-06-21T20:10:59.462Z"
   },
   {
    "duration": 29,
    "start_time": "2022-06-21T20:10:59.491Z"
   },
   {
    "duration": 13,
    "start_time": "2022-06-21T20:10:59.521Z"
   },
   {
    "duration": 14,
    "start_time": "2022-06-21T20:10:59.535Z"
   },
   {
    "duration": 26,
    "start_time": "2022-06-21T20:10:59.550Z"
   },
   {
    "duration": 38,
    "start_time": "2022-06-21T20:10:59.578Z"
   },
   {
    "duration": 96,
    "start_time": "2022-06-21T20:10:59.618Z"
   },
   {
    "duration": 116,
    "start_time": "2022-06-21T20:10:59.716Z"
   },
   {
    "duration": 100,
    "start_time": "2022-06-21T20:10:59.833Z"
   },
   {
    "duration": 115,
    "start_time": "2022-06-21T20:10:59.935Z"
   },
   {
    "duration": 99,
    "start_time": "2022-06-21T20:11:00.051Z"
   },
   {
    "duration": 482,
    "start_time": "2022-06-22T15:27:16.080Z"
   },
   {
    "duration": 9594,
    "start_time": "2022-06-22T15:27:16.564Z"
   },
   {
    "duration": 4,
    "start_time": "2022-06-22T15:27:26.159Z"
   },
   {
    "duration": 595,
    "start_time": "2022-06-22T15:27:26.164Z"
   },
   {
    "duration": 5,
    "start_time": "2022-06-22T15:27:26.761Z"
   },
   {
    "duration": 26,
    "start_time": "2022-06-22T15:27:26.767Z"
   },
   {
    "duration": 4,
    "start_time": "2022-06-22T15:27:26.795Z"
   },
   {
    "duration": 30,
    "start_time": "2022-06-22T15:27:26.800Z"
   },
   {
    "duration": 17,
    "start_time": "2022-06-22T15:27:26.832Z"
   },
   {
    "duration": 19,
    "start_time": "2022-06-22T15:27:26.851Z"
   },
   {
    "duration": 3,
    "start_time": "2022-06-22T15:27:26.872Z"
   },
   {
    "duration": 15,
    "start_time": "2022-06-22T15:27:26.877Z"
   },
   {
    "duration": 5,
    "start_time": "2022-06-22T15:27:26.893Z"
   },
   {
    "duration": 25,
    "start_time": "2022-06-22T15:27:26.900Z"
   },
   {
    "duration": 18,
    "start_time": "2022-06-22T15:27:26.926Z"
   },
   {
    "duration": 4,
    "start_time": "2022-06-22T15:27:26.945Z"
   },
   {
    "duration": 68,
    "start_time": "2022-06-22T15:27:26.951Z"
   },
   {
    "duration": 87,
    "start_time": "2022-06-22T15:27:27.020Z"
   },
   {
    "duration": 70,
    "start_time": "2022-06-22T15:27:27.109Z"
   },
   {
    "duration": 73,
    "start_time": "2022-06-22T15:27:27.180Z"
   },
   {
    "duration": 68,
    "start_time": "2022-06-22T15:27:27.255Z"
   },
   {
    "duration": 91,
    "start_time": "2022-06-22T15:28:51.326Z"
   },
   {
    "duration": 72,
    "start_time": "2022-06-22T15:29:15.481Z"
   },
   {
    "duration": 86,
    "start_time": "2022-06-22T15:33:18.343Z"
   }
  ],
  "kernelspec": {
   "display_name": "Python 3 (ipykernel)",
   "language": "python",
   "name": "python3"
  },
  "language_info": {
   "codemirror_mode": {
    "name": "ipython",
    "version": 3
   },
   "file_extension": ".py",
   "mimetype": "text/x-python",
   "name": "python",
   "nbconvert_exporter": "python",
   "pygments_lexer": "ipython3",
   "version": "3.9.7"
  },
  "toc": {
   "base_numbering": 1,
   "nav_menu": {},
   "number_sections": true,
   "sideBar": true,
   "skip_h1_title": true,
   "title_cell": "Содержание",
   "title_sidebar": "Содержание",
   "toc_cell": true,
   "toc_position": {},
   "toc_section_display": true,
   "toc_window_display": true
  }
 },
 "nbformat": 4,
 "nbformat_minor": 5
}
