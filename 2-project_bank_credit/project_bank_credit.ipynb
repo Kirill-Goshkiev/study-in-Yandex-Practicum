{
 "cells": [
  {
   "cell_type": "markdown",
   "metadata": {},
   "source": [
    "# Исследование надёжности заёмщиков\n",
    "\n",
    "Кредитный отдел банка заказал исследование - необходимо разобраться, влияет ли семейное положение и количество детей клиента на факт погашения кредита в срок. Входные данные от банка — статистика о платёжеспособности клиентов."
   ]
  },
  {
   "cell_type": "markdown",
   "metadata": {},
   "source": [
    "## Загрузка файла с данными и изучение общей информации."
   ]
  },
  {
   "cell_type": "code",
   "execution_count": 92,
   "metadata": {},
   "outputs": [],
   "source": [
    "# импортируем необходимые библилтеки\n",
    "import pandas as pd\n",
    "from pymystem3 import Mystem \n",
    "from collections import Counter"
   ]
  },
  {
   "cell_type": "code",
   "execution_count": 93,
   "metadata": {},
   "outputs": [
    {
     "data": {
      "text/html": [
       "<div>\n",
       "<style scoped>\n",
       "    .dataframe tbody tr th:only-of-type {\n",
       "        vertical-align: middle;\n",
       "    }\n",
       "\n",
       "    .dataframe tbody tr th {\n",
       "        vertical-align: top;\n",
       "    }\n",
       "\n",
       "    .dataframe thead th {\n",
       "        text-align: right;\n",
       "    }\n",
       "</style>\n",
       "<table border=\"1\" class=\"dataframe\">\n",
       "  <thead>\n",
       "    <tr style=\"text-align: right;\">\n",
       "      <th></th>\n",
       "      <th>children</th>\n",
       "      <th>days_employed</th>\n",
       "      <th>dob_years</th>\n",
       "      <th>education</th>\n",
       "      <th>education_id</th>\n",
       "      <th>family_status</th>\n",
       "      <th>family_status_id</th>\n",
       "      <th>gender</th>\n",
       "      <th>income_type</th>\n",
       "      <th>debt</th>\n",
       "      <th>total_income</th>\n",
       "      <th>purpose</th>\n",
       "    </tr>\n",
       "  </thead>\n",
       "  <tbody>\n",
       "    <tr>\n",
       "      <td>0</td>\n",
       "      <td>1</td>\n",
       "      <td>-8437.673028</td>\n",
       "      <td>42</td>\n",
       "      <td>высшее</td>\n",
       "      <td>0</td>\n",
       "      <td>женат / замужем</td>\n",
       "      <td>0</td>\n",
       "      <td>F</td>\n",
       "      <td>сотрудник</td>\n",
       "      <td>0</td>\n",
       "      <td>253875.639453</td>\n",
       "      <td>покупка жилья</td>\n",
       "    </tr>\n",
       "    <tr>\n",
       "      <td>1</td>\n",
       "      <td>1</td>\n",
       "      <td>-4024.803754</td>\n",
       "      <td>36</td>\n",
       "      <td>среднее</td>\n",
       "      <td>1</td>\n",
       "      <td>женат / замужем</td>\n",
       "      <td>0</td>\n",
       "      <td>F</td>\n",
       "      <td>сотрудник</td>\n",
       "      <td>0</td>\n",
       "      <td>112080.014102</td>\n",
       "      <td>приобретение автомобиля</td>\n",
       "    </tr>\n",
       "    <tr>\n",
       "      <td>2</td>\n",
       "      <td>0</td>\n",
       "      <td>-5623.422610</td>\n",
       "      <td>33</td>\n",
       "      <td>Среднее</td>\n",
       "      <td>1</td>\n",
       "      <td>женат / замужем</td>\n",
       "      <td>0</td>\n",
       "      <td>M</td>\n",
       "      <td>сотрудник</td>\n",
       "      <td>0</td>\n",
       "      <td>145885.952297</td>\n",
       "      <td>покупка жилья</td>\n",
       "    </tr>\n",
       "    <tr>\n",
       "      <td>3</td>\n",
       "      <td>3</td>\n",
       "      <td>-4124.747207</td>\n",
       "      <td>32</td>\n",
       "      <td>среднее</td>\n",
       "      <td>1</td>\n",
       "      <td>женат / замужем</td>\n",
       "      <td>0</td>\n",
       "      <td>M</td>\n",
       "      <td>сотрудник</td>\n",
       "      <td>0</td>\n",
       "      <td>267628.550329</td>\n",
       "      <td>дополнительное образование</td>\n",
       "    </tr>\n",
       "    <tr>\n",
       "      <td>4</td>\n",
       "      <td>0</td>\n",
       "      <td>340266.072047</td>\n",
       "      <td>53</td>\n",
       "      <td>среднее</td>\n",
       "      <td>1</td>\n",
       "      <td>гражданский брак</td>\n",
       "      <td>1</td>\n",
       "      <td>F</td>\n",
       "      <td>пенсионер</td>\n",
       "      <td>0</td>\n",
       "      <td>158616.077870</td>\n",
       "      <td>сыграть свадьбу</td>\n",
       "    </tr>\n",
       "    <tr>\n",
       "      <td>5</td>\n",
       "      <td>0</td>\n",
       "      <td>-926.185831</td>\n",
       "      <td>27</td>\n",
       "      <td>высшее</td>\n",
       "      <td>0</td>\n",
       "      <td>гражданский брак</td>\n",
       "      <td>1</td>\n",
       "      <td>M</td>\n",
       "      <td>компаньон</td>\n",
       "      <td>0</td>\n",
       "      <td>255763.565419</td>\n",
       "      <td>покупка жилья</td>\n",
       "    </tr>\n",
       "    <tr>\n",
       "      <td>6</td>\n",
       "      <td>0</td>\n",
       "      <td>-2879.202052</td>\n",
       "      <td>43</td>\n",
       "      <td>высшее</td>\n",
       "      <td>0</td>\n",
       "      <td>женат / замужем</td>\n",
       "      <td>0</td>\n",
       "      <td>F</td>\n",
       "      <td>компаньон</td>\n",
       "      <td>0</td>\n",
       "      <td>240525.971920</td>\n",
       "      <td>операции с жильем</td>\n",
       "    </tr>\n",
       "    <tr>\n",
       "      <td>7</td>\n",
       "      <td>0</td>\n",
       "      <td>-152.779569</td>\n",
       "      <td>50</td>\n",
       "      <td>СРЕДНЕЕ</td>\n",
       "      <td>1</td>\n",
       "      <td>женат / замужем</td>\n",
       "      <td>0</td>\n",
       "      <td>M</td>\n",
       "      <td>сотрудник</td>\n",
       "      <td>0</td>\n",
       "      <td>135823.934197</td>\n",
       "      <td>образование</td>\n",
       "    </tr>\n",
       "    <tr>\n",
       "      <td>8</td>\n",
       "      <td>2</td>\n",
       "      <td>-6929.865299</td>\n",
       "      <td>35</td>\n",
       "      <td>ВЫСШЕЕ</td>\n",
       "      <td>0</td>\n",
       "      <td>гражданский брак</td>\n",
       "      <td>1</td>\n",
       "      <td>F</td>\n",
       "      <td>сотрудник</td>\n",
       "      <td>0</td>\n",
       "      <td>95856.832424</td>\n",
       "      <td>на проведение свадьбы</td>\n",
       "    </tr>\n",
       "    <tr>\n",
       "      <td>9</td>\n",
       "      <td>0</td>\n",
       "      <td>-2188.756445</td>\n",
       "      <td>41</td>\n",
       "      <td>среднее</td>\n",
       "      <td>1</td>\n",
       "      <td>женат / замужем</td>\n",
       "      <td>0</td>\n",
       "      <td>M</td>\n",
       "      <td>сотрудник</td>\n",
       "      <td>0</td>\n",
       "      <td>144425.938277</td>\n",
       "      <td>покупка жилья для семьи</td>\n",
       "    </tr>\n",
       "    <tr>\n",
       "      <td>10</td>\n",
       "      <td>2</td>\n",
       "      <td>-4171.483647</td>\n",
       "      <td>36</td>\n",
       "      <td>высшее</td>\n",
       "      <td>0</td>\n",
       "      <td>женат / замужем</td>\n",
       "      <td>0</td>\n",
       "      <td>M</td>\n",
       "      <td>компаньон</td>\n",
       "      <td>0</td>\n",
       "      <td>113943.491460</td>\n",
       "      <td>покупка недвижимости</td>\n",
       "    </tr>\n",
       "    <tr>\n",
       "      <td>11</td>\n",
       "      <td>0</td>\n",
       "      <td>-792.701887</td>\n",
       "      <td>40</td>\n",
       "      <td>среднее</td>\n",
       "      <td>1</td>\n",
       "      <td>женат / замужем</td>\n",
       "      <td>0</td>\n",
       "      <td>F</td>\n",
       "      <td>сотрудник</td>\n",
       "      <td>0</td>\n",
       "      <td>77069.234271</td>\n",
       "      <td>покупка коммерческой недвижимости</td>\n",
       "    </tr>\n",
       "    <tr>\n",
       "      <td>12</td>\n",
       "      <td>0</td>\n",
       "      <td>NaN</td>\n",
       "      <td>65</td>\n",
       "      <td>среднее</td>\n",
       "      <td>1</td>\n",
       "      <td>гражданский брак</td>\n",
       "      <td>1</td>\n",
       "      <td>M</td>\n",
       "      <td>пенсионер</td>\n",
       "      <td>0</td>\n",
       "      <td>NaN</td>\n",
       "      <td>сыграть свадьбу</td>\n",
       "    </tr>\n",
       "    <tr>\n",
       "      <td>13</td>\n",
       "      <td>0</td>\n",
       "      <td>-1846.641941</td>\n",
       "      <td>54</td>\n",
       "      <td>неоконченное высшее</td>\n",
       "      <td>2</td>\n",
       "      <td>женат / замужем</td>\n",
       "      <td>0</td>\n",
       "      <td>F</td>\n",
       "      <td>сотрудник</td>\n",
       "      <td>0</td>\n",
       "      <td>130458.228857</td>\n",
       "      <td>приобретение автомобиля</td>\n",
       "    </tr>\n",
       "    <tr>\n",
       "      <td>14</td>\n",
       "      <td>0</td>\n",
       "      <td>-1844.956182</td>\n",
       "      <td>56</td>\n",
       "      <td>высшее</td>\n",
       "      <td>0</td>\n",
       "      <td>гражданский брак</td>\n",
       "      <td>1</td>\n",
       "      <td>F</td>\n",
       "      <td>компаньон</td>\n",
       "      <td>1</td>\n",
       "      <td>165127.911772</td>\n",
       "      <td>покупка жилой недвижимости</td>\n",
       "    </tr>\n",
       "  </tbody>\n",
       "</table>\n",
       "</div>"
      ],
      "text/plain": [
       "    children  days_employed  dob_years            education  education_id  \\\n",
       "0          1   -8437.673028         42               высшее             0   \n",
       "1          1   -4024.803754         36              среднее             1   \n",
       "2          0   -5623.422610         33              Среднее             1   \n",
       "3          3   -4124.747207         32              среднее             1   \n",
       "4          0  340266.072047         53              среднее             1   \n",
       "5          0    -926.185831         27               высшее             0   \n",
       "6          0   -2879.202052         43               высшее             0   \n",
       "7          0    -152.779569         50              СРЕДНЕЕ             1   \n",
       "8          2   -6929.865299         35               ВЫСШЕЕ             0   \n",
       "9          0   -2188.756445         41              среднее             1   \n",
       "10         2   -4171.483647         36               высшее             0   \n",
       "11         0    -792.701887         40              среднее             1   \n",
       "12         0            NaN         65              среднее             1   \n",
       "13         0   -1846.641941         54  неоконченное высшее             2   \n",
       "14         0   -1844.956182         56               высшее             0   \n",
       "\n",
       "       family_status  family_status_id gender income_type  debt  \\\n",
       "0    женат / замужем                 0      F   сотрудник     0   \n",
       "1    женат / замужем                 0      F   сотрудник     0   \n",
       "2    женат / замужем                 0      M   сотрудник     0   \n",
       "3    женат / замужем                 0      M   сотрудник     0   \n",
       "4   гражданский брак                 1      F   пенсионер     0   \n",
       "5   гражданский брак                 1      M   компаньон     0   \n",
       "6    женат / замужем                 0      F   компаньон     0   \n",
       "7    женат / замужем                 0      M   сотрудник     0   \n",
       "8   гражданский брак                 1      F   сотрудник     0   \n",
       "9    женат / замужем                 0      M   сотрудник     0   \n",
       "10   женат / замужем                 0      M   компаньон     0   \n",
       "11   женат / замужем                 0      F   сотрудник     0   \n",
       "12  гражданский брак                 1      M   пенсионер     0   \n",
       "13   женат / замужем                 0      F   сотрудник     0   \n",
       "14  гражданский брак                 1      F   компаньон     1   \n",
       "\n",
       "     total_income                            purpose  \n",
       "0   253875.639453                      покупка жилья  \n",
       "1   112080.014102            приобретение автомобиля  \n",
       "2   145885.952297                      покупка жилья  \n",
       "3   267628.550329         дополнительное образование  \n",
       "4   158616.077870                    сыграть свадьбу  \n",
       "5   255763.565419                      покупка жилья  \n",
       "6   240525.971920                  операции с жильем  \n",
       "7   135823.934197                        образование  \n",
       "8    95856.832424              на проведение свадьбы  \n",
       "9   144425.938277            покупка жилья для семьи  \n",
       "10  113943.491460               покупка недвижимости  \n",
       "11   77069.234271  покупка коммерческой недвижимости  \n",
       "12            NaN                    сыграть свадьбу  \n",
       "13  130458.228857            приобретение автомобиля  \n",
       "14  165127.911772         покупка жилой недвижимости  "
      ]
     },
     "execution_count": 93,
     "metadata": {},
     "output_type": "execute_result"
    }
   ],
   "source": [
    "data = pd.read_csv('/datasets/data.csv')\n",
    "data.head(15)"
   ]
  },
  {
   "cell_type": "markdown",
   "metadata": {},
   "source": [
    "***После первого знакомства с датасетом отмечу следующее:***\n",
    "\n",
    "- столбец с общим трудовым стажем имеет отрицательные значения;\n",
    "- в столбце с образованием используется разный регистр написания текста;\n",
    "- имеются пропуски в столбцах с общим трудовым стажем и ежемесячным доходом;\n",
    "- в столбце \"цель получения кредита\" имеются схожие цели: к примеру жильё и недвижимость.\n"
   ]
  },
  {
   "cell_type": "markdown",
   "metadata": {},
   "source": [
    "***Проверим общую информацию о таблице:***"
   ]
  },
  {
   "cell_type": "code",
   "execution_count": 94,
   "metadata": {},
   "outputs": [
    {
     "name": "stdout",
     "output_type": "stream",
     "text": [
      "<class 'pandas.core.frame.DataFrame'>\n",
      "RangeIndex: 21525 entries, 0 to 21524\n",
      "Data columns (total 12 columns):\n",
      "children            21525 non-null int64\n",
      "days_employed       19351 non-null float64\n",
      "dob_years           21525 non-null int64\n",
      "education           21525 non-null object\n",
      "education_id        21525 non-null int64\n",
      "family_status       21525 non-null object\n",
      "family_status_id    21525 non-null int64\n",
      "gender              21525 non-null object\n",
      "income_type         21525 non-null object\n",
      "debt                21525 non-null int64\n",
      "total_income        19351 non-null float64\n",
      "purpose             21525 non-null object\n",
      "dtypes: float64(2), int64(5), object(5)\n",
      "memory usage: 2.0+ MB\n"
     ]
    }
   ],
   "source": [
    "data.info()"
   ]
  },
  {
   "cell_type": "markdown",
   "metadata": {},
   "source": [
    "**Посчитаем пропуски:**"
   ]
  },
  {
   "cell_type": "code",
   "execution_count": 95,
   "metadata": {},
   "outputs": [
    {
     "name": "stdout",
     "output_type": "stream",
     "text": [
      "Количество пропусков в столбце с общим трудовым стажем - 2174\n",
      "Количество пропусков в столбце с ежемесячным доходом - 2174\n"
     ]
    }
   ],
   "source": [
    "# последовательно используем методы isna() и sum()\n",
    "print('Количество пропусков в столбце с общим трудовым стажем -', data['days_employed'].isna().sum())\n",
    "print('Количество пропусков в столбце с ежемесячным доходом -', data['total_income'].isna().sum())"
   ]
  },
  {
   "cell_type": "markdown",
   "metadata": {},
   "source": [
    "**Узнаем, одинаковые ли это строки, где отсутствуют данные по столбцам 'days_employed' и 'total_income'**"
   ]
  },
  {
   "cell_type": "code",
   "execution_count": 96,
   "metadata": {},
   "outputs": [
    {
     "name": "stdout",
     "output_type": "stream",
     "text": [
      "<class 'pandas.core.frame.DataFrame'>\n",
      "Int64Index: 2174 entries, 12 to 21510\n",
      "Data columns (total 12 columns):\n",
      "children            2174 non-null int64\n",
      "days_employed       0 non-null float64\n",
      "dob_years           2174 non-null int64\n",
      "education           2174 non-null object\n",
      "education_id        2174 non-null int64\n",
      "family_status       2174 non-null object\n",
      "family_status_id    2174 non-null int64\n",
      "gender              2174 non-null object\n",
      "income_type         2174 non-null object\n",
      "debt                2174 non-null int64\n",
      "total_income        0 non-null float64\n",
      "purpose             2174 non-null object\n",
      "dtypes: float64(2), int64(5), object(5)\n",
      "memory usage: 220.8+ KB\n"
     ]
    }
   ],
   "source": [
    "data[(data['days_employed'].isna() == True) & (data['total_income'].isna() == True)].info()"
   ]
  },
  {
   "cell_type": "markdown",
   "metadata": {},
   "source": [
    "Предположение подтвердилось, пустые строки столбца 'days_employed' совпадают с пустыми строками столбца 'total_income', а значит пропуски не случайны. Скорее всего люди скрыли эти данные, и работник банка оставил ячейки пустыми.\n",
    "\n",
    "***Необходимо проверить к одному типу занятости относятся эти пропуски или нет***"
   ]
  },
  {
   "cell_type": "code",
   "execution_count": 97,
   "metadata": {},
   "outputs": [
    {
     "data": {
      "text/plain": [
       "сотрудник          1105\n",
       "компаньон           508\n",
       "пенсионер           413\n",
       "госслужащий         147\n",
       "предприниматель       1\n",
       "Name: income_type, dtype: int64"
      ]
     },
     "execution_count": 97,
     "metadata": {},
     "output_type": "execute_result"
    }
   ],
   "source": [
    "# применим метод value_counts, который возвращает уникальные значения и количество их упоминаний\n",
    "data[(data['days_employed'].isna() == True) & (data['total_income'].isna() == True)]['income_type'].value_counts()"
   ]
  },
  {
   "cell_type": "markdown",
   "metadata": {},
   "source": [
    "Пропуски принадлежат разным типам занятости, а значит в последующей обработке данных придётся заполнять пропуски используя средние или медианные значения для конкретного типа занятости."
   ]
  },
  {
   "cell_type": "markdown",
   "metadata": {},
   "source": [
    "***Проверим числовые значения таблицы:***"
   ]
  },
  {
   "cell_type": "code",
   "execution_count": 98,
   "metadata": {},
   "outputs": [
    {
     "data": {
      "text/html": [
       "<div>\n",
       "<style scoped>\n",
       "    .dataframe tbody tr th:only-of-type {\n",
       "        vertical-align: middle;\n",
       "    }\n",
       "\n",
       "    .dataframe tbody tr th {\n",
       "        vertical-align: top;\n",
       "    }\n",
       "\n",
       "    .dataframe thead th {\n",
       "        text-align: right;\n",
       "    }\n",
       "</style>\n",
       "<table border=\"1\" class=\"dataframe\">\n",
       "  <thead>\n",
       "    <tr style=\"text-align: right;\">\n",
       "      <th></th>\n",
       "      <th>children</th>\n",
       "      <th>days_employed</th>\n",
       "      <th>dob_years</th>\n",
       "      <th>education_id</th>\n",
       "      <th>family_status_id</th>\n",
       "      <th>debt</th>\n",
       "      <th>total_income</th>\n",
       "    </tr>\n",
       "  </thead>\n",
       "  <tbody>\n",
       "    <tr>\n",
       "      <td>count</td>\n",
       "      <td>21525.000000</td>\n",
       "      <td>19351.000000</td>\n",
       "      <td>21525.000000</td>\n",
       "      <td>21525.000000</td>\n",
       "      <td>21525.000000</td>\n",
       "      <td>21525.000000</td>\n",
       "      <td>1.935100e+04</td>\n",
       "    </tr>\n",
       "    <tr>\n",
       "      <td>mean</td>\n",
       "      <td>0.538908</td>\n",
       "      <td>63046.497661</td>\n",
       "      <td>43.293380</td>\n",
       "      <td>0.817236</td>\n",
       "      <td>0.972544</td>\n",
       "      <td>0.080883</td>\n",
       "      <td>1.674223e+05</td>\n",
       "    </tr>\n",
       "    <tr>\n",
       "      <td>std</td>\n",
       "      <td>1.381587</td>\n",
       "      <td>140827.311974</td>\n",
       "      <td>12.574584</td>\n",
       "      <td>0.548138</td>\n",
       "      <td>1.420324</td>\n",
       "      <td>0.272661</td>\n",
       "      <td>1.029716e+05</td>\n",
       "    </tr>\n",
       "    <tr>\n",
       "      <td>min</td>\n",
       "      <td>-1.000000</td>\n",
       "      <td>-18388.949901</td>\n",
       "      <td>0.000000</td>\n",
       "      <td>0.000000</td>\n",
       "      <td>0.000000</td>\n",
       "      <td>0.000000</td>\n",
       "      <td>2.066726e+04</td>\n",
       "    </tr>\n",
       "    <tr>\n",
       "      <td>25%</td>\n",
       "      <td>0.000000</td>\n",
       "      <td>-2747.423625</td>\n",
       "      <td>33.000000</td>\n",
       "      <td>1.000000</td>\n",
       "      <td>0.000000</td>\n",
       "      <td>0.000000</td>\n",
       "      <td>1.030532e+05</td>\n",
       "    </tr>\n",
       "    <tr>\n",
       "      <td>50%</td>\n",
       "      <td>0.000000</td>\n",
       "      <td>-1203.369529</td>\n",
       "      <td>42.000000</td>\n",
       "      <td>1.000000</td>\n",
       "      <td>0.000000</td>\n",
       "      <td>0.000000</td>\n",
       "      <td>1.450179e+05</td>\n",
       "    </tr>\n",
       "    <tr>\n",
       "      <td>75%</td>\n",
       "      <td>1.000000</td>\n",
       "      <td>-291.095954</td>\n",
       "      <td>53.000000</td>\n",
       "      <td>1.000000</td>\n",
       "      <td>1.000000</td>\n",
       "      <td>0.000000</td>\n",
       "      <td>2.034351e+05</td>\n",
       "    </tr>\n",
       "    <tr>\n",
       "      <td>max</td>\n",
       "      <td>20.000000</td>\n",
       "      <td>401755.400475</td>\n",
       "      <td>75.000000</td>\n",
       "      <td>4.000000</td>\n",
       "      <td>4.000000</td>\n",
       "      <td>1.000000</td>\n",
       "      <td>2.265604e+06</td>\n",
       "    </tr>\n",
       "  </tbody>\n",
       "</table>\n",
       "</div>"
      ],
      "text/plain": [
       "           children  days_employed     dob_years  education_id  \\\n",
       "count  21525.000000   19351.000000  21525.000000  21525.000000   \n",
       "mean       0.538908   63046.497661     43.293380      0.817236   \n",
       "std        1.381587  140827.311974     12.574584      0.548138   \n",
       "min       -1.000000  -18388.949901      0.000000      0.000000   \n",
       "25%        0.000000   -2747.423625     33.000000      1.000000   \n",
       "50%        0.000000   -1203.369529     42.000000      1.000000   \n",
       "75%        1.000000    -291.095954     53.000000      1.000000   \n",
       "max       20.000000  401755.400475     75.000000      4.000000   \n",
       "\n",
       "       family_status_id          debt  total_income  \n",
       "count      21525.000000  21525.000000  1.935100e+04  \n",
       "mean           0.972544      0.080883  1.674223e+05  \n",
       "std            1.420324      0.272661  1.029716e+05  \n",
       "min            0.000000      0.000000  2.066726e+04  \n",
       "25%            0.000000      0.000000  1.030532e+05  \n",
       "50%            0.000000      0.000000  1.450179e+05  \n",
       "75%            1.000000      0.000000  2.034351e+05  \n",
       "max            4.000000      1.000000  2.265604e+06  "
      ]
     },
     "execution_count": 98,
     "metadata": {},
     "output_type": "execute_result"
    }
   ],
   "source": [
    "data.describe()"
   ]
  },
  {
   "cell_type": "markdown",
   "metadata": {},
   "source": [
    "**После изучения общей информации о таблице выявлены следующие замечания:**\n",
    "- Пропуски имеются только в двух столбцах и их количество совпадает;\n",
    "- В столбце \"дети\" имеются подозрительные значения min = -1 и max = 20;\n",
    "- В столбце \"общий трудовой стаж\" имеются некорректно введенные данные, т.к. среднее значение равно 63046 дней, что в реальности невозможно. Возможно стаж написан не в днях. Об этой неточности надо узнавать в банке. Но так как количество дней трудового стажа не понадобится для дальнейшего анализа, оставим значения без изменений.\n",
    "- В столбце \"возраст клиента\" минимальное значение 0, что тоже говорит о том, что данные ввели неправильно."
   ]
  },
  {
   "cell_type": "markdown",
   "metadata": {},
   "source": [
    "**Вывод**"
   ]
  },
  {
   "cell_type": "markdown",
   "metadata": {},
   "source": [
    "Статистика присланная из кредитного отдела банка представляет собой таблицу из 21525 строк и 12 столбцов. Для дальнейшей работы с таблицей и проведения анализа необходимо выполнить следующие действия:\n",
    "\n",
    "- Значения столбца с общим трудовым стажем сделать положительными;\n",
    "- Тип данных в столбце \"общий трудовой стаж\" и \"ежемесячный доход\" сделать целочисленными;\n",
    "- Заполнить пропущенные значения в столбцах \"общий трудовой стаж\" и \"ежемесячный доход\";\n",
    "- Некорректные значения в столбце \"дети\" заменить на корректные или же удалить строки с некорректными значениями, если их количество ничтожно мало;\n",
    "- Проверить остальные столбцы на наличие некорректных данных и исправить их, если они будут."
   ]
  },
  {
   "cell_type": "markdown",
   "metadata": {},
   "source": [
    "## Предобработка данных"
   ]
  },
  {
   "cell_type": "markdown",
   "metadata": {},
   "source": [
    "### Обработка пропусков"
   ]
  },
  {
   "cell_type": "markdown",
   "metadata": {},
   "source": [
    "**Для начала проверим количество отрицательных значений в столбцах 'days_employed' и 'total_income':**"
   ]
  },
  {
   "cell_type": "code",
   "execution_count": 99,
   "metadata": {},
   "outputs": [
    {
     "name": "stdout",
     "output_type": "stream",
     "text": [
      "Количество отрицательных значений в столбце \"days_employed\" -  15906\n",
      "Количество отрицательных значений в столбце \"total_income\" -  0\n"
     ]
    }
   ],
   "source": [
    "# посчитаем методом count()\n",
    "print('Количество отрицательных значений в столбце \"days_employed\" - ', \n",
    "      data[data['days_employed'] < 0]['days_employed'].count())\n",
    "print('Количество отрицательных значений в столбце \"total_income\" - ', \n",
    "      data[data['total_income'] < 0]['total_income'].count())"
   ]
  },
  {
   "cell_type": "markdown",
   "metadata": {},
   "source": [
    "В столбце 'total_income' отрицательных значений нет. Количество отрицательных значений в столбце 'days_employed' составляет почти 74%, что указывает на ошибки при вводе данных в таблицу. Скорее всего при записи значения в таблицу использовали дефис. Поэтому можно смело привести данные столбца к положительным значениям."
   ]
  },
  {
   "cell_type": "code",
   "execution_count": 100,
   "metadata": {},
   "outputs": [
    {
     "data": {
      "text/html": [
       "<div>\n",
       "<style scoped>\n",
       "    .dataframe tbody tr th:only-of-type {\n",
       "        vertical-align: middle;\n",
       "    }\n",
       "\n",
       "    .dataframe tbody tr th {\n",
       "        vertical-align: top;\n",
       "    }\n",
       "\n",
       "    .dataframe thead th {\n",
       "        text-align: right;\n",
       "    }\n",
       "</style>\n",
       "<table border=\"1\" class=\"dataframe\">\n",
       "  <thead>\n",
       "    <tr style=\"text-align: right;\">\n",
       "      <th></th>\n",
       "      <th>children</th>\n",
       "      <th>days_employed</th>\n",
       "      <th>dob_years</th>\n",
       "      <th>education</th>\n",
       "      <th>education_id</th>\n",
       "      <th>family_status</th>\n",
       "      <th>family_status_id</th>\n",
       "      <th>gender</th>\n",
       "      <th>income_type</th>\n",
       "      <th>debt</th>\n",
       "      <th>total_income</th>\n",
       "      <th>purpose</th>\n",
       "    </tr>\n",
       "  </thead>\n",
       "  <tbody>\n",
       "    <tr>\n",
       "      <td>0</td>\n",
       "      <td>1</td>\n",
       "      <td>8437.673028</td>\n",
       "      <td>42</td>\n",
       "      <td>высшее</td>\n",
       "      <td>0</td>\n",
       "      <td>женат / замужем</td>\n",
       "      <td>0</td>\n",
       "      <td>F</td>\n",
       "      <td>сотрудник</td>\n",
       "      <td>0</td>\n",
       "      <td>253875.639453</td>\n",
       "      <td>покупка жилья</td>\n",
       "    </tr>\n",
       "    <tr>\n",
       "      <td>1</td>\n",
       "      <td>1</td>\n",
       "      <td>4024.803754</td>\n",
       "      <td>36</td>\n",
       "      <td>среднее</td>\n",
       "      <td>1</td>\n",
       "      <td>женат / замужем</td>\n",
       "      <td>0</td>\n",
       "      <td>F</td>\n",
       "      <td>сотрудник</td>\n",
       "      <td>0</td>\n",
       "      <td>112080.014102</td>\n",
       "      <td>приобретение автомобиля</td>\n",
       "    </tr>\n",
       "    <tr>\n",
       "      <td>2</td>\n",
       "      <td>0</td>\n",
       "      <td>5623.422610</td>\n",
       "      <td>33</td>\n",
       "      <td>Среднее</td>\n",
       "      <td>1</td>\n",
       "      <td>женат / замужем</td>\n",
       "      <td>0</td>\n",
       "      <td>M</td>\n",
       "      <td>сотрудник</td>\n",
       "      <td>0</td>\n",
       "      <td>145885.952297</td>\n",
       "      <td>покупка жилья</td>\n",
       "    </tr>\n",
       "    <tr>\n",
       "      <td>3</td>\n",
       "      <td>3</td>\n",
       "      <td>4124.747207</td>\n",
       "      <td>32</td>\n",
       "      <td>среднее</td>\n",
       "      <td>1</td>\n",
       "      <td>женат / замужем</td>\n",
       "      <td>0</td>\n",
       "      <td>M</td>\n",
       "      <td>сотрудник</td>\n",
       "      <td>0</td>\n",
       "      <td>267628.550329</td>\n",
       "      <td>дополнительное образование</td>\n",
       "    </tr>\n",
       "    <tr>\n",
       "      <td>4</td>\n",
       "      <td>0</td>\n",
       "      <td>340266.072047</td>\n",
       "      <td>53</td>\n",
       "      <td>среднее</td>\n",
       "      <td>1</td>\n",
       "      <td>гражданский брак</td>\n",
       "      <td>1</td>\n",
       "      <td>F</td>\n",
       "      <td>пенсионер</td>\n",
       "      <td>0</td>\n",
       "      <td>158616.077870</td>\n",
       "      <td>сыграть свадьбу</td>\n",
       "    </tr>\n",
       "  </tbody>\n",
       "</table>\n",
       "</div>"
      ],
      "text/plain": [
       "   children  days_employed  dob_years education  education_id  \\\n",
       "0         1    8437.673028         42    высшее             0   \n",
       "1         1    4024.803754         36   среднее             1   \n",
       "2         0    5623.422610         33   Среднее             1   \n",
       "3         3    4124.747207         32   среднее             1   \n",
       "4         0  340266.072047         53   среднее             1   \n",
       "\n",
       "      family_status  family_status_id gender income_type  debt   total_income  \\\n",
       "0   женат / замужем                 0      F   сотрудник     0  253875.639453   \n",
       "1   женат / замужем                 0      F   сотрудник     0  112080.014102   \n",
       "2   женат / замужем                 0      M   сотрудник     0  145885.952297   \n",
       "3   женат / замужем                 0      M   сотрудник     0  267628.550329   \n",
       "4  гражданский брак                 1      F   пенсионер     0  158616.077870   \n",
       "\n",
       "                      purpose  \n",
       "0               покупка жилья  \n",
       "1     приобретение автомобиля  \n",
       "2               покупка жилья  \n",
       "3  дополнительное образование  \n",
       "4             сыграть свадьбу  "
      ]
     },
     "execution_count": 100,
     "metadata": {},
     "output_type": "execute_result"
    }
   ],
   "source": [
    "# применим функцию abs(), которая вернет все значения по модулю\n",
    "data['days_employed'] = abs(data['days_employed'])\n",
    "data.head()"
   ]
  },
  {
   "cell_type": "markdown",
   "metadata": {},
   "source": [
    "**Заполним пропуски**"
   ]
  },
  {
   "cell_type": "markdown",
   "metadata": {},
   "source": [
    "Для заполнения пропущенных значений в столбце 'days_employed' используем средние значения, а для значений в столбце 'total_income' - медианные значения, т.к. такой подход обеспечит наиболее правильные расчеты."
   ]
  },
  {
   "cell_type": "code",
   "execution_count": 101,
   "metadata": {},
   "outputs": [],
   "source": [
    "# используем метод apply,и вложим в него лямбда-функцию\n",
    "# метод fillna() заполняет пропуски с типом NaN\n",
    "# предварительно сгруппируем данные по типу занятости\n",
    "data['days_employed'] = data.groupby('income_type')['days_employed'].apply(lambda x: x.fillna(x.mean()))\n",
    "data['total_income'] = data.groupby('income_type')['total_income'].apply(lambda x: x.fillna(x.median()))"
   ]
  },
  {
   "cell_type": "markdown",
   "metadata": {},
   "source": [
    "**Проверим информацию о таблице:**"
   ]
  },
  {
   "cell_type": "code",
   "execution_count": 102,
   "metadata": {},
   "outputs": [
    {
     "name": "stdout",
     "output_type": "stream",
     "text": [
      "<class 'pandas.core.frame.DataFrame'>\n",
      "RangeIndex: 21525 entries, 0 to 21524\n",
      "Data columns (total 12 columns):\n",
      "children            21525 non-null int64\n",
      "days_employed       21525 non-null float64\n",
      "dob_years           21525 non-null int64\n",
      "education           21525 non-null object\n",
      "education_id        21525 non-null int64\n",
      "family_status       21525 non-null object\n",
      "family_status_id    21525 non-null int64\n",
      "gender              21525 non-null object\n",
      "income_type         21525 non-null object\n",
      "debt                21525 non-null int64\n",
      "total_income        21525 non-null float64\n",
      "purpose             21525 non-null object\n",
      "dtypes: float64(2), int64(5), object(5)\n",
      "memory usage: 2.0+ MB\n"
     ]
    }
   ],
   "source": [
    "data.info()"
   ]
  },
  {
   "cell_type": "markdown",
   "metadata": {},
   "source": [
    "От пропусков в данных избавились."
   ]
  },
  {
   "cell_type": "markdown",
   "metadata": {},
   "source": [
    "**Приведём значения столбца 'education' к единому регистру.**"
   ]
  },
  {
   "cell_type": "code",
   "execution_count": 103,
   "metadata": {},
   "outputs": [],
   "source": [
    "# применим метод str.lower()\n",
    "data['education'] = data['education'].str.lower()"
   ]
  },
  {
   "cell_type": "markdown",
   "metadata": {},
   "source": [
    "**Проверим уникальные значения в столбце 'gender'**"
   ]
  },
  {
   "cell_type": "code",
   "execution_count": 104,
   "metadata": {},
   "outputs": [
    {
     "data": {
      "text/plain": [
       "F      14236\n",
       "M       7288\n",
       "XNA        1\n",
       "Name: gender, dtype: int64"
      ]
     },
     "execution_count": 104,
     "metadata": {},
     "output_type": "execute_result"
    }
   ],
   "source": [
    "data['gender'].value_counts()"
   ]
  },
  {
   "cell_type": "markdown",
   "metadata": {},
   "source": [
    "Выявлена одна строка с непонятным обозначением 'XNA'. Избавимся от нее и снова проверим столбец."
   ]
  },
  {
   "cell_type": "code",
   "execution_count": 105,
   "metadata": {},
   "outputs": [],
   "source": [
    "data = data.loc[data['gender'] != 'XNA']"
   ]
  },
  {
   "cell_type": "code",
   "execution_count": 106,
   "metadata": {},
   "outputs": [
    {
     "data": {
      "text/plain": [
       "F    14236\n",
       "M     7288\n",
       "Name: gender, dtype: int64"
      ]
     },
     "execution_count": 106,
     "metadata": {},
     "output_type": "execute_result"
    }
   ],
   "source": [
    "data['gender'].value_counts()"
   ]
  },
  {
   "cell_type": "markdown",
   "metadata": {},
   "source": [
    "**Найдем уникальные значения количества детей**"
   ]
  },
  {
   "cell_type": "code",
   "execution_count": 107,
   "metadata": {},
   "outputs": [
    {
     "data": {
      "text/plain": [
       " 0     14148\n",
       " 1      4818\n",
       " 2      2055\n",
       " 3       330\n",
       " 20       76\n",
       "-1        47\n",
       " 4        41\n",
       " 5         9\n",
       "Name: children, dtype: int64"
      ]
     },
     "execution_count": 107,
     "metadata": {},
     "output_type": "execute_result"
    }
   ],
   "source": [
    "data['children'].value_counts()"
   ]
  },
  {
   "cell_type": "markdown",
   "metadata": {},
   "source": [
    "Из полученной информации видно, что значений -1 и 20 очень мало, что говорит о допущенных ошибках при вводе данных. Скорее всего работник, который вводил информацию, при записи использовал дефис, что привело к появлению -1, и случайно нажимал или задевал клавишу 0 при записи 2, что привело к появлению значения 20.\n",
    "\n",
    "**Избавимся от данных ошибок путем замены значений -1 на 1 и 20 на 2.**"
   ]
  },
  {
   "cell_type": "code",
   "execution_count": 108,
   "metadata": {},
   "outputs": [],
   "source": [
    "# для замены значений используем метод replace()\n",
    "data['children'] = data['children'].replace(-1, 1)\n",
    "data['children'] = data['children'].replace(20, 2)"
   ]
  },
  {
   "cell_type": "code",
   "execution_count": 109,
   "metadata": {},
   "outputs": [
    {
     "data": {
      "text/plain": [
       "0    14148\n",
       "1     4865\n",
       "2     2131\n",
       "3      330\n",
       "4       41\n",
       "5        9\n",
       "Name: children, dtype: int64"
      ]
     },
     "execution_count": 109,
     "metadata": {},
     "output_type": "execute_result"
    }
   ],
   "source": [
    "data['children'].value_counts()"
   ]
  },
  {
   "cell_type": "markdown",
   "metadata": {},
   "source": [
    "**Проверим столбец 'dob_years' на наличие несовершеннолетних людей.**"
   ]
  },
  {
   "cell_type": "code",
   "execution_count": 110,
   "metadata": {},
   "outputs": [
    {
     "name": "stdout",
     "output_type": "stream",
     "text": [
      "Количество несовершеннолетних -  101\n"
     ]
    }
   ],
   "source": [
    "print('Количество несовершеннолетних - ', data[data['dob_years'] < 18]['dob_years'].count())"
   ]
  },
  {
   "cell_type": "markdown",
   "metadata": {},
   "source": [
    "Количество несовершеннолетних ничтожно мало, поэтому, считаю, что от данных строк можно избавится. Их отсутствие не повлияет на результаты анализа."
   ]
  },
  {
   "cell_type": "code",
   "execution_count": 111,
   "metadata": {},
   "outputs": [],
   "source": [
    "data = data.loc[data['dob_years'] >= 18]"
   ]
  },
  {
   "cell_type": "markdown",
   "metadata": {},
   "source": [
    "Снова проверим количество несовершеннолетних."
   ]
  },
  {
   "cell_type": "code",
   "execution_count": 112,
   "metadata": {},
   "outputs": [
    {
     "name": "stdout",
     "output_type": "stream",
     "text": [
      "Количество несовершеннолетних -  0\n"
     ]
    }
   ],
   "source": [
    "print('Количество несовершеннолетних - ', data[data['dob_years'] < 18]['dob_years'].count())"
   ]
  },
  {
   "cell_type": "markdown",
   "metadata": {},
   "source": [
    "**Вывод**"
   ]
  },
  {
   "cell_type": "markdown",
   "metadata": {},
   "source": [
    "Пропуски в таблице заполнены, значения типа NaN отсутствуют. Изменены и устранены некорректные данные."
   ]
  },
  {
   "cell_type": "markdown",
   "metadata": {},
   "source": [
    "### Замена типа данных"
   ]
  },
  {
   "cell_type": "markdown",
   "metadata": {},
   "source": [
    "Значения в столбцах с общим трудовым стажем и ежемесячным доходом приведём к целочисленным значениям."
   ]
  },
  {
   "cell_type": "code",
   "execution_count": 113,
   "metadata": {},
   "outputs": [
    {
     "data": {
      "text/plain": [
       "children             int64\n",
       "days_employed        int64\n",
       "dob_years            int64\n",
       "education           object\n",
       "education_id         int64\n",
       "family_status       object\n",
       "family_status_id     int64\n",
       "gender              object\n",
       "income_type         object\n",
       "debt                 int64\n",
       "total_income         int64\n",
       "purpose             object\n",
       "dtype: object"
      ]
     },
     "execution_count": 113,
     "metadata": {},
     "output_type": "execute_result"
    }
   ],
   "source": [
    "# используем метод astype()\n",
    "data['days_employed'] = data['days_employed'].astype('int')\n",
    "data['total_income'] = data['total_income'].astype('int')\n",
    "# проверим тип данных\n",
    "data.dtypes"
   ]
  },
  {
   "cell_type": "markdown",
   "metadata": {},
   "source": [
    "**Вывод**"
   ]
  },
  {
   "cell_type": "markdown",
   "metadata": {},
   "source": [
    "Значения трудового стажа и ежемесячного дохода привели к целочисленным значениям, так как данной точности достаточно для наших расчетов. "
   ]
  },
  {
   "cell_type": "markdown",
   "metadata": {},
   "source": [
    "### Обработка дубликатов"
   ]
  },
  {
   "cell_type": "markdown",
   "metadata": {},
   "source": [
    "**Посчитаем количество дубликатов.**"
   ]
  },
  {
   "cell_type": "code",
   "execution_count": 114,
   "metadata": {},
   "outputs": [
    {
     "data": {
      "text/plain": [
       "71"
      ]
     },
     "execution_count": 114,
     "metadata": {},
     "output_type": "execute_result"
    }
   ],
   "source": [
    "# используем метод duplicated()\n",
    "data.duplicated().sum()"
   ]
  },
  {
   "cell_type": "markdown",
   "metadata": {},
   "source": [
    "Взглянем на эти дубликаты, чтобы выяснить причины их появления."
   ]
  },
  {
   "cell_type": "code",
   "execution_count": 115,
   "metadata": {},
   "outputs": [
    {
     "data": {
      "text/html": [
       "<div>\n",
       "<style scoped>\n",
       "    .dataframe tbody tr th:only-of-type {\n",
       "        vertical-align: middle;\n",
       "    }\n",
       "\n",
       "    .dataframe tbody tr th {\n",
       "        vertical-align: top;\n",
       "    }\n",
       "\n",
       "    .dataframe thead th {\n",
       "        text-align: right;\n",
       "    }\n",
       "</style>\n",
       "<table border=\"1\" class=\"dataframe\">\n",
       "  <thead>\n",
       "    <tr style=\"text-align: right;\">\n",
       "      <th></th>\n",
       "      <th>children</th>\n",
       "      <th>days_employed</th>\n",
       "      <th>dob_years</th>\n",
       "      <th>education</th>\n",
       "      <th>education_id</th>\n",
       "      <th>family_status</th>\n",
       "      <th>family_status_id</th>\n",
       "      <th>gender</th>\n",
       "      <th>income_type</th>\n",
       "      <th>debt</th>\n",
       "      <th>total_income</th>\n",
       "      <th>purpose</th>\n",
       "    </tr>\n",
       "  </thead>\n",
       "  <tbody>\n",
       "    <tr>\n",
       "      <td>2254</td>\n",
       "      <td>0</td>\n",
       "      <td>2111</td>\n",
       "      <td>54</td>\n",
       "      <td>высшее</td>\n",
       "      <td>0</td>\n",
       "      <td>женат / замужем</td>\n",
       "      <td>0</td>\n",
       "      <td>M</td>\n",
       "      <td>компаньон</td>\n",
       "      <td>0</td>\n",
       "      <td>172357</td>\n",
       "      <td>операции с коммерческой недвижимостью</td>\n",
       "    </tr>\n",
       "    <tr>\n",
       "      <td>4081</td>\n",
       "      <td>1</td>\n",
       "      <td>2111</td>\n",
       "      <td>40</td>\n",
       "      <td>среднее</td>\n",
       "      <td>1</td>\n",
       "      <td>гражданский брак</td>\n",
       "      <td>1</td>\n",
       "      <td>F</td>\n",
       "      <td>компаньон</td>\n",
       "      <td>0</td>\n",
       "      <td>172357</td>\n",
       "      <td>строительство жилой недвижимости</td>\n",
       "    </tr>\n",
       "    <tr>\n",
       "      <td>5124</td>\n",
       "      <td>0</td>\n",
       "      <td>2111</td>\n",
       "      <td>40</td>\n",
       "      <td>среднее</td>\n",
       "      <td>1</td>\n",
       "      <td>гражданский брак</td>\n",
       "      <td>1</td>\n",
       "      <td>F</td>\n",
       "      <td>компаньон</td>\n",
       "      <td>0</td>\n",
       "      <td>172357</td>\n",
       "      <td>сыграть свадьбу</td>\n",
       "    </tr>\n",
       "    <tr>\n",
       "      <td>8490</td>\n",
       "      <td>1</td>\n",
       "      <td>2111</td>\n",
       "      <td>31</td>\n",
       "      <td>среднее</td>\n",
       "      <td>1</td>\n",
       "      <td>женат / замужем</td>\n",
       "      <td>0</td>\n",
       "      <td>F</td>\n",
       "      <td>компаньон</td>\n",
       "      <td>0</td>\n",
       "      <td>172357</td>\n",
       "      <td>покупка жилья</td>\n",
       "    </tr>\n",
       "    <tr>\n",
       "      <td>9374</td>\n",
       "      <td>0</td>\n",
       "      <td>2111</td>\n",
       "      <td>38</td>\n",
       "      <td>высшее</td>\n",
       "      <td>0</td>\n",
       "      <td>гражданский брак</td>\n",
       "      <td>1</td>\n",
       "      <td>F</td>\n",
       "      <td>компаньон</td>\n",
       "      <td>0</td>\n",
       "      <td>172357</td>\n",
       "      <td>на проведение свадьбы</td>\n",
       "    </tr>\n",
       "    <tr>\n",
       "      <td>...</td>\n",
       "      <td>...</td>\n",
       "      <td>...</td>\n",
       "      <td>...</td>\n",
       "      <td>...</td>\n",
       "      <td>...</td>\n",
       "      <td>...</td>\n",
       "      <td>...</td>\n",
       "      <td>...</td>\n",
       "      <td>...</td>\n",
       "      <td>...</td>\n",
       "      <td>...</td>\n",
       "      <td>...</td>\n",
       "    </tr>\n",
       "    <tr>\n",
       "      <td>20116</td>\n",
       "      <td>0</td>\n",
       "      <td>365003</td>\n",
       "      <td>57</td>\n",
       "      <td>среднее</td>\n",
       "      <td>1</td>\n",
       "      <td>гражданский брак</td>\n",
       "      <td>1</td>\n",
       "      <td>M</td>\n",
       "      <td>пенсионер</td>\n",
       "      <td>0</td>\n",
       "      <td>118514</td>\n",
       "      <td>свадьба</td>\n",
       "    </tr>\n",
       "    <tr>\n",
       "      <td>20187</td>\n",
       "      <td>0</td>\n",
       "      <td>365003</td>\n",
       "      <td>65</td>\n",
       "      <td>среднее</td>\n",
       "      <td>1</td>\n",
       "      <td>гражданский брак</td>\n",
       "      <td>1</td>\n",
       "      <td>F</td>\n",
       "      <td>пенсионер</td>\n",
       "      <td>0</td>\n",
       "      <td>118514</td>\n",
       "      <td>сыграть свадьбу</td>\n",
       "    </tr>\n",
       "    <tr>\n",
       "      <td>20702</td>\n",
       "      <td>0</td>\n",
       "      <td>365003</td>\n",
       "      <td>64</td>\n",
       "      <td>среднее</td>\n",
       "      <td>1</td>\n",
       "      <td>женат / замужем</td>\n",
       "      <td>0</td>\n",
       "      <td>F</td>\n",
       "      <td>пенсионер</td>\n",
       "      <td>0</td>\n",
       "      <td>118514</td>\n",
       "      <td>дополнительное образование</td>\n",
       "    </tr>\n",
       "    <tr>\n",
       "      <td>21032</td>\n",
       "      <td>0</td>\n",
       "      <td>365003</td>\n",
       "      <td>60</td>\n",
       "      <td>среднее</td>\n",
       "      <td>1</td>\n",
       "      <td>женат / замужем</td>\n",
       "      <td>0</td>\n",
       "      <td>F</td>\n",
       "      <td>пенсионер</td>\n",
       "      <td>0</td>\n",
       "      <td>118514</td>\n",
       "      <td>заняться образованием</td>\n",
       "    </tr>\n",
       "    <tr>\n",
       "      <td>21415</td>\n",
       "      <td>0</td>\n",
       "      <td>365003</td>\n",
       "      <td>54</td>\n",
       "      <td>среднее</td>\n",
       "      <td>1</td>\n",
       "      <td>женат / замужем</td>\n",
       "      <td>0</td>\n",
       "      <td>F</td>\n",
       "      <td>пенсионер</td>\n",
       "      <td>0</td>\n",
       "      <td>118514</td>\n",
       "      <td>операции с жильем</td>\n",
       "    </tr>\n",
       "  </tbody>\n",
       "</table>\n",
       "<p>137 rows × 12 columns</p>\n",
       "</div>"
      ],
      "text/plain": [
       "       children  days_employed  dob_years education  education_id  \\\n",
       "2254          0           2111         54    высшее             0   \n",
       "4081          1           2111         40   среднее             1   \n",
       "5124          0           2111         40   среднее             1   \n",
       "8490          1           2111         31   среднее             1   \n",
       "9374          0           2111         38    высшее             0   \n",
       "...         ...            ...        ...       ...           ...   \n",
       "20116         0         365003         57   среднее             1   \n",
       "20187         0         365003         65   среднее             1   \n",
       "20702         0         365003         64   среднее             1   \n",
       "21032         0         365003         60   среднее             1   \n",
       "21415         0         365003         54   среднее             1   \n",
       "\n",
       "          family_status  family_status_id gender income_type  debt  \\\n",
       "2254    женат / замужем                 0      M   компаньон     0   \n",
       "4081   гражданский брак                 1      F   компаньон     0   \n",
       "5124   гражданский брак                 1      F   компаньон     0   \n",
       "8490    женат / замужем                 0      F   компаньон     0   \n",
       "9374   гражданский брак                 1      F   компаньон     0   \n",
       "...                 ...               ...    ...         ...   ...   \n",
       "20116  гражданский брак                 1      M   пенсионер     0   \n",
       "20187  гражданский брак                 1      F   пенсионер     0   \n",
       "20702   женат / замужем                 0      F   пенсионер     0   \n",
       "21032   женат / замужем                 0      F   пенсионер     0   \n",
       "21415   женат / замужем                 0      F   пенсионер     0   \n",
       "\n",
       "       total_income                                purpose  \n",
       "2254         172357  операции с коммерческой недвижимостью  \n",
       "4081         172357       строительство жилой недвижимости  \n",
       "5124         172357                        сыграть свадьбу  \n",
       "8490         172357                          покупка жилья  \n",
       "9374         172357                  на проведение свадьбы  \n",
       "...             ...                                    ...  \n",
       "20116        118514                                свадьба  \n",
       "20187        118514                        сыграть свадьбу  \n",
       "20702        118514             дополнительное образование  \n",
       "21032        118514                  заняться образованием  \n",
       "21415        118514                      операции с жильем  \n",
       "\n",
       "[137 rows x 12 columns]"
      ]
     },
     "execution_count": 115,
     "metadata": {},
     "output_type": "execute_result"
    }
   ],
   "source": [
    "# применим метод sort_values, чтобы дубликаты увидеть упорядоченными\n",
    "data[data.duplicated(keep=False)].sort_values(by=['days_employed', 'total_income'])"
   ]
  },
  {
   "cell_type": "markdown",
   "metadata": {},
   "source": [
    "Очень похоже на дублирование. Скорее всего, как и в предыдущих случаях, причина кроется в человеческом факторе - кто-то несколько раз вводил данные и не счел нужным себя проверить."
   ]
  },
  {
   "cell_type": "markdown",
   "metadata": {},
   "source": [
    "**Избавимся от данных дубликатов.**"
   ]
  },
  {
   "cell_type": "code",
   "execution_count": 116,
   "metadata": {},
   "outputs": [
    {
     "data": {
      "text/plain": [
       "0"
      ]
     },
     "execution_count": 116,
     "metadata": {},
     "output_type": "execute_result"
    }
   ],
   "source": [
    "# используем метод drop_duplicates()\n",
    "data = data.drop_duplicates()\n",
    "# сразу проверим результат\n",
    "data.duplicated().sum()"
   ]
  },
  {
   "cell_type": "markdown",
   "metadata": {},
   "source": [
    "**Вывод**"
   ]
  },
  {
   "cell_type": "markdown",
   "metadata": {},
   "source": [
    "В таблице больше нет дублирующей информации. Итоговые результаты получатся более точными."
   ]
  },
  {
   "cell_type": "markdown",
   "metadata": {},
   "source": [
    "### Лемматизация"
   ]
  },
  {
   "cell_type": "markdown",
   "metadata": {},
   "source": [
    "В последнем столбце нашей таблицы указана цели получения кредита. По факту, количества целей не так много, но из-за того, что при заполнении таблицы были использованы синонимы или просто схожие слова, то и количество целей кажется огромным."
   ]
  },
  {
   "cell_type": "markdown",
   "metadata": {},
   "source": [
    "**Для начала узнаем и посчитаем какие цели есть в нашем датасете.**"
   ]
  },
  {
   "cell_type": "code",
   "execution_count": 117,
   "metadata": {},
   "outputs": [
    {
     "name": "stdout",
     "output_type": "stream",
     "text": [
      "свадьба                                   786\n",
      "на проведение свадьбы                     764\n",
      "сыграть свадьбу                           760\n",
      "операции с недвижимостью                  672\n",
      "покупка коммерческой недвижимости         658\n",
      "покупка жилья для сдачи                   649\n",
      "операции с коммерческой недвижимостью     648\n",
      "операции с жильем                         646\n",
      "жилье                                     640\n",
      "покупка жилья                             640\n",
      "покупка жилья для семьи                   637\n",
      "строительство собственной недвижимости    633\n",
      "недвижимость                              629\n",
      "операции со своей недвижимостью           627\n",
      "строительство жилой недвижимости          621\n",
      "покупка своего жилья                      619\n",
      "строительство недвижимости                619\n",
      "покупка недвижимости                      617\n",
      "ремонт жилью                              605\n",
      "покупка жилой недвижимости                603\n",
      "на покупку своего автомобиля              502\n",
      "заняться высшим образованием              493\n",
      "автомобиль                                490\n",
      "сделка с подержанным автомобилем          484\n",
      "на покупку подержанного автомобиля        478\n",
      "автомобили                                476\n",
      "свой автомобиль                           475\n",
      "на покупку автомобиля                     466\n",
      "приобретение автомобиля                   459\n",
      "дополнительное образование                458\n",
      "сделка с автомобилем                      454\n",
      "высшее образование                        449\n",
      "образование                               444\n",
      "получение дополнительного образования     444\n",
      "получение образования                     441\n",
      "профильное образование                    435\n",
      "получение высшего образования             424\n",
      "заняться образованием                     407\n",
      "Name: purpose, dtype: int64\n",
      "всего целей -  38\n"
     ]
    }
   ],
   "source": [
    "# выведем на экран количество уникальных целей\n",
    "print(data['purpose'].value_counts())\n",
    "# посчитаем общее количество уникальных целей\n",
    "print('всего целей - ', len(data['purpose'].value_counts()))\n",
    "# для менее затратной работы системы создадим список уникальных целей методом unique()\n",
    "unique_purposes = data['purpose'].unique()"
   ]
  },
  {
   "cell_type": "markdown",
   "metadata": {},
   "source": [
    "**Лемматизируем список целей для получения уникальных лемм.**"
   ]
  },
  {
   "cell_type": "code",
   "execution_count": 118,
   "metadata": {},
   "outputs": [
    {
     "data": {
      "text/plain": [
       "[(' ', 59),\n",
       " ('\\n', 38),\n",
       " ('покупка', 10),\n",
       " ('недвижимость', 10),\n",
       " ('автомобиль', 9),\n",
       " ('образование', 9),\n",
       " ('жилье', 7),\n",
       " ('с', 5),\n",
       " ('операция', 4),\n",
       " ('на', 4),\n",
       " ('свой', 4),\n",
       " ('свадьба', 3),\n",
       " ('строительство', 3),\n",
       " ('получение', 3),\n",
       " ('высокий', 3),\n",
       " ('дополнительный', 2),\n",
       " ('для', 2),\n",
       " ('коммерческий', 2),\n",
       " ('жилой', 2),\n",
       " ('заниматься', 2),\n",
       " ('сделка', 2),\n",
       " ('приобретение', 1),\n",
       " ('сыграть', 1),\n",
       " ('проведение', 1),\n",
       " ('семья', 1),\n",
       " ('собственный', 1),\n",
       " ('подержать', 1),\n",
       " ('со', 1),\n",
       " ('подержанный', 1),\n",
       " ('профильный', 1),\n",
       " ('сдача', 1),\n",
       " ('ремонт', 1)]"
      ]
     },
     "execution_count": 118,
     "metadata": {},
     "output_type": "execute_result"
    }
   ],
   "source": [
    "# используем модуль pymystem3\n",
    "m = Mystem()\n",
    "# создадим список, в который будем добавлять леммы\n",
    "list_of_lemmas = []\n",
    "# циклом пройдемся по списку уникальных целей\n",
    "for element in unique_purposes:\n",
    "    lemma = m.lemmatize(element)\n",
    "    list_of_lemmas.extend(lemma)\n",
    "# используем контейнер для подсчета лемм\n",
    "unique_lemmas = Counter(list_of_lemmas)\n",
    "# выведем отсортированный контейнер\n",
    "sorted(unique_lemmas.items(), key = lambda pair: pair[1], reverse=True)"
   ]
  },
  {
   "cell_type": "markdown",
   "metadata": {},
   "source": [
    "Для определения основных целей кредита будем использовать имена существительные. Как видно из сопоставления списка уникальных целей и отсортированного списка лемм, основными целями кредита являются: жильё, недвижимость, автомобиль, образование и свадьба. На основании этого создадим словарь, в котором ключ - лемма, а значение - измененная цель кредита."
   ]
  },
  {
   "cell_type": "code",
   "execution_count": 119,
   "metadata": {},
   "outputs": [],
   "source": [
    "# создаем словарь\n",
    "dict_lem_purpose = dict({'свадьба':'свадьба', \n",
    "                    'жилье':'недвижимость', \n",
    "                    'недвижимость':'недвижимость',\n",
    "                    'автомобиль':'автомобиль', \n",
    "                    'образование':'образование'})"
   ]
  },
  {
   "cell_type": "markdown",
   "metadata": {},
   "source": [
    "Перед тем, как сделать столбец с измененными целями кредита, создадим функцию, с помощью которой и заполним новый столбец"
   ]
  },
  {
   "cell_type": "code",
   "execution_count": 120,
   "metadata": {},
   "outputs": [],
   "source": [
    "# создаем функцию, которая будет принимать лемматизированную строку и возвращать значение из словаря\n",
    "def purpose_category(row):\n",
    "    str_lem_list = m.lemmatize(row)\n",
    "    for lem in str_lem_list:\n",
    "        if lem in dict_lem_purpose.keys():\n",
    "            return dict_lem_purpose[lem]"
   ]
  },
  {
   "cell_type": "markdown",
   "metadata": {},
   "source": [
    "Теперь создаем новый столбец."
   ]
  },
  {
   "cell_type": "code",
   "execution_count": 121,
   "metadata": {},
   "outputs": [
    {
     "data": {
      "text/html": [
       "<div>\n",
       "<style scoped>\n",
       "    .dataframe tbody tr th:only-of-type {\n",
       "        vertical-align: middle;\n",
       "    }\n",
       "\n",
       "    .dataframe tbody tr th {\n",
       "        vertical-align: top;\n",
       "    }\n",
       "\n",
       "    .dataframe thead th {\n",
       "        text-align: right;\n",
       "    }\n",
       "</style>\n",
       "<table border=\"1\" class=\"dataframe\">\n",
       "  <thead>\n",
       "    <tr style=\"text-align: right;\">\n",
       "      <th></th>\n",
       "      <th>children</th>\n",
       "      <th>days_employed</th>\n",
       "      <th>dob_years</th>\n",
       "      <th>education</th>\n",
       "      <th>education_id</th>\n",
       "      <th>family_status</th>\n",
       "      <th>family_status_id</th>\n",
       "      <th>gender</th>\n",
       "      <th>income_type</th>\n",
       "      <th>debt</th>\n",
       "      <th>total_income</th>\n",
       "      <th>purpose</th>\n",
       "      <th>purpose_change</th>\n",
       "    </tr>\n",
       "  </thead>\n",
       "  <tbody>\n",
       "    <tr>\n",
       "      <td>0</td>\n",
       "      <td>1</td>\n",
       "      <td>8437</td>\n",
       "      <td>42</td>\n",
       "      <td>высшее</td>\n",
       "      <td>0</td>\n",
       "      <td>женат / замужем</td>\n",
       "      <td>0</td>\n",
       "      <td>F</td>\n",
       "      <td>сотрудник</td>\n",
       "      <td>0</td>\n",
       "      <td>253875</td>\n",
       "      <td>покупка жилья</td>\n",
       "      <td>недвижимость</td>\n",
       "    </tr>\n",
       "    <tr>\n",
       "      <td>1</td>\n",
       "      <td>1</td>\n",
       "      <td>4024</td>\n",
       "      <td>36</td>\n",
       "      <td>среднее</td>\n",
       "      <td>1</td>\n",
       "      <td>женат / замужем</td>\n",
       "      <td>0</td>\n",
       "      <td>F</td>\n",
       "      <td>сотрудник</td>\n",
       "      <td>0</td>\n",
       "      <td>112080</td>\n",
       "      <td>приобретение автомобиля</td>\n",
       "      <td>автомобиль</td>\n",
       "    </tr>\n",
       "    <tr>\n",
       "      <td>2</td>\n",
       "      <td>0</td>\n",
       "      <td>5623</td>\n",
       "      <td>33</td>\n",
       "      <td>среднее</td>\n",
       "      <td>1</td>\n",
       "      <td>женат / замужем</td>\n",
       "      <td>0</td>\n",
       "      <td>M</td>\n",
       "      <td>сотрудник</td>\n",
       "      <td>0</td>\n",
       "      <td>145885</td>\n",
       "      <td>покупка жилья</td>\n",
       "      <td>недвижимость</td>\n",
       "    </tr>\n",
       "    <tr>\n",
       "      <td>3</td>\n",
       "      <td>3</td>\n",
       "      <td>4124</td>\n",
       "      <td>32</td>\n",
       "      <td>среднее</td>\n",
       "      <td>1</td>\n",
       "      <td>женат / замужем</td>\n",
       "      <td>0</td>\n",
       "      <td>M</td>\n",
       "      <td>сотрудник</td>\n",
       "      <td>0</td>\n",
       "      <td>267628</td>\n",
       "      <td>дополнительное образование</td>\n",
       "      <td>образование</td>\n",
       "    </tr>\n",
       "    <tr>\n",
       "      <td>4</td>\n",
       "      <td>0</td>\n",
       "      <td>340266</td>\n",
       "      <td>53</td>\n",
       "      <td>среднее</td>\n",
       "      <td>1</td>\n",
       "      <td>гражданский брак</td>\n",
       "      <td>1</td>\n",
       "      <td>F</td>\n",
       "      <td>пенсионер</td>\n",
       "      <td>0</td>\n",
       "      <td>158616</td>\n",
       "      <td>сыграть свадьбу</td>\n",
       "      <td>свадьба</td>\n",
       "    </tr>\n",
       "  </tbody>\n",
       "</table>\n",
       "</div>"
      ],
      "text/plain": [
       "   children  days_employed  dob_years education  education_id  \\\n",
       "0         1           8437         42    высшее             0   \n",
       "1         1           4024         36   среднее             1   \n",
       "2         0           5623         33   среднее             1   \n",
       "3         3           4124         32   среднее             1   \n",
       "4         0         340266         53   среднее             1   \n",
       "\n",
       "      family_status  family_status_id gender income_type  debt  total_income  \\\n",
       "0   женат / замужем                 0      F   сотрудник     0        253875   \n",
       "1   женат / замужем                 0      F   сотрудник     0        112080   \n",
       "2   женат / замужем                 0      M   сотрудник     0        145885   \n",
       "3   женат / замужем                 0      M   сотрудник     0        267628   \n",
       "4  гражданский брак                 1      F   пенсионер     0        158616   \n",
       "\n",
       "                      purpose purpose_change  \n",
       "0               покупка жилья   недвижимость  \n",
       "1     приобретение автомобиля     автомобиль  \n",
       "2               покупка жилья   недвижимость  \n",
       "3  дополнительное образование    образование  \n",
       "4             сыграть свадьбу        свадьба  "
      ]
     },
     "execution_count": 121,
     "metadata": {},
     "output_type": "execute_result"
    }
   ],
   "source": [
    "data['purpose_change'] = data['purpose'].apply(purpose_category)\n",
    "data.head()"
   ]
  },
  {
   "cell_type": "markdown",
   "metadata": {},
   "source": [
    "Проверим правильно ли заполнен новый столбец."
   ]
  },
  {
   "cell_type": "code",
   "execution_count": 122,
   "metadata": {},
   "outputs": [
    {
     "data": {
      "text/plain": [
       "недвижимость    10763\n",
       "автомобиль       4284\n",
       "образование      3995\n",
       "свадьба          2310\n",
       "Name: purpose_change, dtype: int64"
      ]
     },
     "execution_count": 122,
     "metadata": {},
     "output_type": "execute_result"
    }
   ],
   "source": [
    "data['purpose_change'].value_counts()"
   ]
  },
  {
   "cell_type": "markdown",
   "metadata": {},
   "source": [
    "**Вывод**"
   ]
  },
  {
   "cell_type": "markdown",
   "metadata": {},
   "source": [
    "Лемматизация столбца с целями кредита выполнена. Создан столбец с обновленными целями кредита, теперь целей стало всего 4, вместо 38 из первоначальной таблицы."
   ]
  },
  {
   "cell_type": "markdown",
   "metadata": {},
   "source": [
    "### Категоризация данных"
   ]
  },
  {
   "cell_type": "markdown",
   "metadata": {},
   "source": [
    "Категоризацию проводят с численными данными. Для данной работы в таблице есть три столбца: 'days_employed', 'dob_years' и 'total_income', имеющих целочисленные значения. Но так как для ответа на поставленные вопросы потребуется только столбец 'total_income', то категоризацию его данных и будем проводить.\n",
    "\n",
    "Для начала узнаем минимальное и максимальное значение в столбце."
   ]
  },
  {
   "cell_type": "code",
   "execution_count": 123,
   "metadata": {},
   "outputs": [
    {
     "name": "stdout",
     "output_type": "stream",
     "text": [
      "минимальный доход -  20667\n",
      "максимальный доход -  2265604\n"
     ]
    }
   ],
   "source": [
    "# используем методы min() и max()\n",
    "print('минимальный доход - ', data['total_income'].min())\n",
    "print('максимальный доход - ', data['total_income'].max())"
   ]
  },
  {
   "cell_type": "markdown",
   "metadata": {},
   "source": [
    "Федеральная служба государственной статистики разделяет уровень жизни в зависимости от доходов на следующие категории:\n",
    "- крайняя нищета (доходы ниже прожиточного минимума — до 7-8 тыс.р.);\n",
    "- нищета (доходы от одного до двух прожиточных минимума — от 8 до 12 тыс.р.);\n",
    "- бедность (доходы от 12 до 20 тысяч рублей в месяц);\n",
    "- выше бедности (доходы от 20 до 30 тысяч рублей в месяц);\n",
    "- средний достаток — (доходы от 30 до 60 тысяч рублей в месяц);\n",
    "- состоятельные — (доходы от 60 до 90 тысяч рублей в месяц);\n",
    "- богатые — (доходы от 90 тысяч рублей в месяц);\n",
    "- сверхбогатые — (доходы свыше 250 тысяч рублей в месяц);\n",
    "\n",
    "Исходя из этой информации разделим доходы на 5 категорий:\n",
    "* 1 категория бедный - до 30000;\n",
    "* 2 категория средний - до 60000;\n",
    "* 3 категория состоятельный - до 90000;\n",
    "* 4 категория богатый - до 250000;\n",
    "* 5 категория сверхбогатый - более 250000."
   ]
  },
  {
   "cell_type": "markdown",
   "metadata": {},
   "source": [
    "Добавим новые столбцы в таблицу 'income_rating' и 'income_rating_id' для дальнейшего анализа."
   ]
  },
  {
   "cell_type": "code",
   "execution_count": 124,
   "metadata": {},
   "outputs": [
    {
     "name": "stdout",
     "output_type": "stream",
     "text": [
      "богатый          15221\n",
      "сверхбогатый      2800\n",
      "состоятельный     2529\n",
      "средний            780\n",
      "бедный              22\n",
      "Name: income_rating, dtype: int64\n"
     ]
    },
    {
     "data": {
      "text/html": [
       "<div>\n",
       "<style scoped>\n",
       "    .dataframe tbody tr th:only-of-type {\n",
       "        vertical-align: middle;\n",
       "    }\n",
       "\n",
       "    .dataframe tbody tr th {\n",
       "        vertical-align: top;\n",
       "    }\n",
       "\n",
       "    .dataframe thead th {\n",
       "        text-align: right;\n",
       "    }\n",
       "</style>\n",
       "<table border=\"1\" class=\"dataframe\">\n",
       "  <thead>\n",
       "    <tr style=\"text-align: right;\">\n",
       "      <th></th>\n",
       "      <th>children</th>\n",
       "      <th>days_employed</th>\n",
       "      <th>dob_years</th>\n",
       "      <th>education</th>\n",
       "      <th>education_id</th>\n",
       "      <th>family_status</th>\n",
       "      <th>family_status_id</th>\n",
       "      <th>gender</th>\n",
       "      <th>income_type</th>\n",
       "      <th>debt</th>\n",
       "      <th>total_income</th>\n",
       "      <th>purpose</th>\n",
       "      <th>purpose_change</th>\n",
       "      <th>income_rating</th>\n",
       "      <th>income_rating_id</th>\n",
       "    </tr>\n",
       "  </thead>\n",
       "  <tbody>\n",
       "    <tr>\n",
       "      <td>0</td>\n",
       "      <td>1</td>\n",
       "      <td>8437</td>\n",
       "      <td>42</td>\n",
       "      <td>высшее</td>\n",
       "      <td>0</td>\n",
       "      <td>женат / замужем</td>\n",
       "      <td>0</td>\n",
       "      <td>F</td>\n",
       "      <td>сотрудник</td>\n",
       "      <td>0</td>\n",
       "      <td>253875</td>\n",
       "      <td>покупка жилья</td>\n",
       "      <td>недвижимость</td>\n",
       "      <td>сверхбогатый</td>\n",
       "      <td>5</td>\n",
       "    </tr>\n",
       "    <tr>\n",
       "      <td>1</td>\n",
       "      <td>1</td>\n",
       "      <td>4024</td>\n",
       "      <td>36</td>\n",
       "      <td>среднее</td>\n",
       "      <td>1</td>\n",
       "      <td>женат / замужем</td>\n",
       "      <td>0</td>\n",
       "      <td>F</td>\n",
       "      <td>сотрудник</td>\n",
       "      <td>0</td>\n",
       "      <td>112080</td>\n",
       "      <td>приобретение автомобиля</td>\n",
       "      <td>автомобиль</td>\n",
       "      <td>богатый</td>\n",
       "      <td>4</td>\n",
       "    </tr>\n",
       "    <tr>\n",
       "      <td>2</td>\n",
       "      <td>0</td>\n",
       "      <td>5623</td>\n",
       "      <td>33</td>\n",
       "      <td>среднее</td>\n",
       "      <td>1</td>\n",
       "      <td>женат / замужем</td>\n",
       "      <td>0</td>\n",
       "      <td>M</td>\n",
       "      <td>сотрудник</td>\n",
       "      <td>0</td>\n",
       "      <td>145885</td>\n",
       "      <td>покупка жилья</td>\n",
       "      <td>недвижимость</td>\n",
       "      <td>богатый</td>\n",
       "      <td>4</td>\n",
       "    </tr>\n",
       "    <tr>\n",
       "      <td>3</td>\n",
       "      <td>3</td>\n",
       "      <td>4124</td>\n",
       "      <td>32</td>\n",
       "      <td>среднее</td>\n",
       "      <td>1</td>\n",
       "      <td>женат / замужем</td>\n",
       "      <td>0</td>\n",
       "      <td>M</td>\n",
       "      <td>сотрудник</td>\n",
       "      <td>0</td>\n",
       "      <td>267628</td>\n",
       "      <td>дополнительное образование</td>\n",
       "      <td>образование</td>\n",
       "      <td>сверхбогатый</td>\n",
       "      <td>5</td>\n",
       "    </tr>\n",
       "    <tr>\n",
       "      <td>4</td>\n",
       "      <td>0</td>\n",
       "      <td>340266</td>\n",
       "      <td>53</td>\n",
       "      <td>среднее</td>\n",
       "      <td>1</td>\n",
       "      <td>гражданский брак</td>\n",
       "      <td>1</td>\n",
       "      <td>F</td>\n",
       "      <td>пенсионер</td>\n",
       "      <td>0</td>\n",
       "      <td>158616</td>\n",
       "      <td>сыграть свадьбу</td>\n",
       "      <td>свадьба</td>\n",
       "      <td>богатый</td>\n",
       "      <td>4</td>\n",
       "    </tr>\n",
       "  </tbody>\n",
       "</table>\n",
       "</div>"
      ],
      "text/plain": [
       "   children  days_employed  dob_years education  education_id  \\\n",
       "0         1           8437         42    высшее             0   \n",
       "1         1           4024         36   среднее             1   \n",
       "2         0           5623         33   среднее             1   \n",
       "3         3           4124         32   среднее             1   \n",
       "4         0         340266         53   среднее             1   \n",
       "\n",
       "      family_status  family_status_id gender income_type  debt  total_income  \\\n",
       "0   женат / замужем                 0      F   сотрудник     0        253875   \n",
       "1   женат / замужем                 0      F   сотрудник     0        112080   \n",
       "2   женат / замужем                 0      M   сотрудник     0        145885   \n",
       "3   женат / замужем                 0      M   сотрудник     0        267628   \n",
       "4  гражданский брак                 1      F   пенсионер     0        158616   \n",
       "\n",
       "                      purpose purpose_change income_rating  income_rating_id  \n",
       "0               покупка жилья   недвижимость  сверхбогатый                 5  \n",
       "1     приобретение автомобиля     автомобиль       богатый                 4  \n",
       "2               покупка жилья   недвижимость       богатый                 4  \n",
       "3  дополнительное образование    образование  сверхбогатый                 5  \n",
       "4             сыграть свадьбу        свадьба       богатый                 4  "
      ]
     },
     "execution_count": 124,
     "metadata": {},
     "output_type": "execute_result"
    }
   ],
   "source": [
    "# создаем два пустых столбца\n",
    "data['income_rating'] = 'NaN'\n",
    "data['income_rating_id'] = 'NaN'\n",
    "# с помощью условной индексации заполним новые столбцы\n",
    "data.loc[data['total_income'] < 30000, ['income_rating', 'income_rating_id']] = ['бедный', 1]\n",
    "data.loc[(30000 <= data['total_income']) & ( data['total_income'] < 60000), ['income_rating', 'income_rating_id']] = ['средний', 2]\n",
    "data.loc[(60000 <= data['total_income']) & ( data['total_income'] < 90000), ['income_rating', 'income_rating_id']] = ['состоятельный', 3]\n",
    "data.loc[(90000 <= data['total_income']) & ( data['total_income'] < 250000), ['income_rating', 'income_rating_id']] = ['богатый', 4]\n",
    "data.loc[data['total_income'] >= 250000, ['income_rating', 'income_rating_id']] = ['сверхбогатый', 5]\n",
    "# проверим количество уникальных значений в новых столбцах\n",
    "print(data['income_rating'].value_counts())\n",
    "data.head()"
   ]
  },
  {
   "cell_type": "markdown",
   "metadata": {},
   "source": [
    "**Вывод**"
   ]
  },
  {
   "cell_type": "markdown",
   "metadata": {},
   "source": [
    "Разделил ежемесячные доходы на 5 категорий. В таблицу добавил два новых столбца для последующего анализа"
   ]
  },
  {
   "cell_type": "markdown",
   "metadata": {},
   "source": [
    "## Ответы на вопросы проекта."
   ]
  },
  {
   "cell_type": "markdown",
   "metadata": {},
   "source": [
    "**- Есть ли зависимость между наличием детей и возвратом кредита в срок?**"
   ]
  },
  {
   "cell_type": "markdown",
   "metadata": {},
   "source": [
    "Чтобы понять эту зависимость, создадим сперва функцию, которая будет принимать значения из рассматриваемого столбца и вовращать расчёты по задолженности."
   ]
  },
  {
   "cell_type": "code",
   "execution_count": 125,
   "metadata": {},
   "outputs": [
    {
     "data": {
      "text/html": [
       "<div>\n",
       "<style scoped>\n",
       "    .dataframe tbody tr th:only-of-type {\n",
       "        vertical-align: middle;\n",
       "    }\n",
       "\n",
       "    .dataframe tbody tr th {\n",
       "        vertical-align: top;\n",
       "    }\n",
       "\n",
       "    .dataframe thead tr th {\n",
       "        text-align: left;\n",
       "    }\n",
       "\n",
       "    .dataframe thead tr:last-of-type th {\n",
       "        text-align: right;\n",
       "    }\n",
       "</style>\n",
       "<table border=\"1\" class=\"dataframe\">\n",
       "  <thead>\n",
       "    <tr>\n",
       "      <th></th>\n",
       "      <th colspan=\"3\" halign=\"left\">debt</th>\n",
       "    </tr>\n",
       "    <tr>\n",
       "      <th></th>\n",
       "      <th>sum</th>\n",
       "      <th>count</th>\n",
       "      <th>proportion</th>\n",
       "    </tr>\n",
       "    <tr>\n",
       "      <th>children</th>\n",
       "      <th></th>\n",
       "      <th></th>\n",
       "      <th></th>\n",
       "    </tr>\n",
       "  </thead>\n",
       "  <tbody>\n",
       "    <tr>\n",
       "      <td>0</td>\n",
       "      <td>1058</td>\n",
       "      <td>14021</td>\n",
       "      <td>0.075458</td>\n",
       "    </tr>\n",
       "    <tr>\n",
       "      <td>1</td>\n",
       "      <td>442</td>\n",
       "      <td>4839</td>\n",
       "      <td>0.091341</td>\n",
       "    </tr>\n",
       "    <tr>\n",
       "      <td>2</td>\n",
       "      <td>202</td>\n",
       "      <td>2114</td>\n",
       "      <td>0.095553</td>\n",
       "    </tr>\n",
       "    <tr>\n",
       "      <td>3</td>\n",
       "      <td>27</td>\n",
       "      <td>328</td>\n",
       "      <td>0.082317</td>\n",
       "    </tr>\n",
       "    <tr>\n",
       "      <td>4</td>\n",
       "      <td>4</td>\n",
       "      <td>41</td>\n",
       "      <td>0.097561</td>\n",
       "    </tr>\n",
       "    <tr>\n",
       "      <td>5</td>\n",
       "      <td>0</td>\n",
       "      <td>9</td>\n",
       "      <td>0.000000</td>\n",
       "    </tr>\n",
       "  </tbody>\n",
       "</table>\n",
       "</div>"
      ],
      "text/plain": [
       "          debt                  \n",
       "           sum  count proportion\n",
       "children                        \n",
       "0         1058  14021   0.075458\n",
       "1          442   4839   0.091341\n",
       "2          202   2114   0.095553\n",
       "3           27    328   0.082317\n",
       "4            4     41   0.097561\n",
       "5            0      9   0.000000"
      ]
     },
     "execution_count": 125,
     "metadata": {},
     "output_type": "execute_result"
    }
   ],
   "source": [
    "# создаем функцию calculation_debt\n",
    "# результат работы функии - таблица с расчетами по задолженности\n",
    "def calculation_debt(column):\n",
    "    final_table = data.groupby(column).agg({'debt':['sum', 'count']})\n",
    "    final_table[('debt', 'proportion')] = final_table[('debt', 'sum')] / final_table[('debt', 'count')]\n",
    "    return final_table\n",
    "\n",
    "calculation_debt(['children'])"
   ]
  },
  {
   "cell_type": "markdown",
   "metadata": {},
   "source": [
    "**Вывод**"
   ]
  },
  {
   "cell_type": "markdown",
   "metadata": {},
   "source": [
    "Из полученной таблицы видно, что заемщики не имеющие детей немного более дисциплинированы. Доля невыплат среди людей, имеющих детей, примерно одинакова и колеблется в пределах 8 - 10 процентов, за исключением тех у кого 5 детей.  Можно сделать вывод, что у людей, не имющих детей меньше непредвиденных расходов, а многодетные участвуют в программе господдержки."
   ]
  },
  {
   "cell_type": "markdown",
   "metadata": {},
   "source": [
    "**- Есть ли зависимость между семейным положением и возвратом кредита в срок?**"
   ]
  },
  {
   "cell_type": "markdown",
   "metadata": {},
   "source": [
    "Попробуем ответить на вопрос с помощью сводной таблицы"
   ]
  },
  {
   "cell_type": "code",
   "execution_count": 126,
   "metadata": {},
   "outputs": [
    {
     "data": {
      "text/html": [
       "<div>\n",
       "<style scoped>\n",
       "    .dataframe tbody tr th:only-of-type {\n",
       "        vertical-align: middle;\n",
       "    }\n",
       "\n",
       "    .dataframe tbody tr th {\n",
       "        vertical-align: top;\n",
       "    }\n",
       "\n",
       "    .dataframe thead tr th {\n",
       "        text-align: left;\n",
       "    }\n",
       "\n",
       "    .dataframe thead tr:last-of-type th {\n",
       "        text-align: right;\n",
       "    }\n",
       "</style>\n",
       "<table border=\"1\" class=\"dataframe\">\n",
       "  <thead>\n",
       "    <tr>\n",
       "      <th></th>\n",
       "      <th></th>\n",
       "      <th colspan=\"3\" halign=\"left\">debt</th>\n",
       "    </tr>\n",
       "    <tr>\n",
       "      <th></th>\n",
       "      <th></th>\n",
       "      <th>sum</th>\n",
       "      <th>count</th>\n",
       "      <th>proportion</th>\n",
       "    </tr>\n",
       "    <tr>\n",
       "      <th>family_status_id</th>\n",
       "      <th>family_status</th>\n",
       "      <th></th>\n",
       "      <th></th>\n",
       "      <th></th>\n",
       "    </tr>\n",
       "  </thead>\n",
       "  <tbody>\n",
       "    <tr>\n",
       "      <td>0</td>\n",
       "      <td>женат / замужем</td>\n",
       "      <td>927</td>\n",
       "      <td>12290</td>\n",
       "      <td>0.075427</td>\n",
       "    </tr>\n",
       "    <tr>\n",
       "      <td>1</td>\n",
       "      <td>гражданский брак</td>\n",
       "      <td>386</td>\n",
       "      <td>4129</td>\n",
       "      <td>0.093485</td>\n",
       "    </tr>\n",
       "    <tr>\n",
       "      <td>2</td>\n",
       "      <td>вдовец / вдова</td>\n",
       "      <td>62</td>\n",
       "      <td>954</td>\n",
       "      <td>0.064990</td>\n",
       "    </tr>\n",
       "    <tr>\n",
       "      <td>3</td>\n",
       "      <td>в разводе</td>\n",
       "      <td>85</td>\n",
       "      <td>1185</td>\n",
       "      <td>0.071730</td>\n",
       "    </tr>\n",
       "    <tr>\n",
       "      <td>4</td>\n",
       "      <td>Не женат / не замужем</td>\n",
       "      <td>273</td>\n",
       "      <td>2794</td>\n",
       "      <td>0.097709</td>\n",
       "    </tr>\n",
       "  </tbody>\n",
       "</table>\n",
       "</div>"
      ],
      "text/plain": [
       "                                       debt                  \n",
       "                                        sum  count proportion\n",
       "family_status_id family_status                               \n",
       "0                женат / замужем        927  12290   0.075427\n",
       "1                гражданский брак       386   4129   0.093485\n",
       "2                вдовец / вдова          62    954   0.064990\n",
       "3                в разводе               85   1185   0.071730\n",
       "4                Не женат / не замужем  273   2794   0.097709"
      ]
     },
     "execution_count": 126,
     "metadata": {},
     "output_type": "execute_result"
    }
   ],
   "source": [
    "# выстраиваем сводную таблицу с помощью методов groupby() и agg()\n",
    "data_pivot_family_status = data.groupby(['family_status_id', 'family_status']).agg({'debt':['sum', 'count']})\n",
    "# добавим столбец с отношением\n",
    "data_pivot_family_status[('debt', 'proportion')] = data_pivot_family_status[('debt', 'sum')] / data_pivot_family_status[('debt', 'count')]\n",
    "data_pivot_family_status"
   ]
  },
  {
   "cell_type": "markdown",
   "metadata": {},
   "source": [
    "**Вывод**"
   ]
  },
  {
   "cell_type": "markdown",
   "metadata": {},
   "source": [
    "Наибольшее количество просрочек кредита у людей состоящих в офицальном браке, за ними следуют люди в гражданском браке. Такую особенность, вероятно, можно объяснить тем, что у состоящих в отношениях людей целей с денежными запросами больше, к примеру: ремонт, отпуск, праздничные торжества и т.п. Меньше всего просрочек у тех кто утратил своего супруга/супругу. Скорее всего за время совместной жизни они уже решили крупные финансовые вопросы, а сейчас берут кредиты на малые нужды, по которым просрочек не так много. Исходя из доли просрочек в 9,77 % делаем вывод, что все таки хуже дела обстоят с погашением кредита у не женатых/не замужних людей."
   ]
  },
  {
   "cell_type": "markdown",
   "metadata": {},
   "source": [
    "**- Есть ли зависимость между уровнем дохода и возвратом кредита в срок?**"
   ]
  },
  {
   "cell_type": "markdown",
   "metadata": {},
   "source": [
    "Для ответа на данный вопрос используем столбцы 'income_rating' и 'income_rating_id', которые были созданы при выполнении категоризации данных."
   ]
  },
  {
   "cell_type": "code",
   "execution_count": 127,
   "metadata": {},
   "outputs": [
    {
     "data": {
      "text/html": [
       "<div>\n",
       "<style scoped>\n",
       "    .dataframe tbody tr th:only-of-type {\n",
       "        vertical-align: middle;\n",
       "    }\n",
       "\n",
       "    .dataframe tbody tr th {\n",
       "        vertical-align: top;\n",
       "    }\n",
       "\n",
       "    .dataframe thead tr th {\n",
       "        text-align: left;\n",
       "    }\n",
       "\n",
       "    .dataframe thead tr:last-of-type th {\n",
       "        text-align: right;\n",
       "    }\n",
       "</style>\n",
       "<table border=\"1\" class=\"dataframe\">\n",
       "  <thead>\n",
       "    <tr>\n",
       "      <th></th>\n",
       "      <th></th>\n",
       "      <th colspan=\"3\" halign=\"left\">debt</th>\n",
       "    </tr>\n",
       "    <tr>\n",
       "      <th></th>\n",
       "      <th></th>\n",
       "      <th>sum</th>\n",
       "      <th>count</th>\n",
       "      <th>proportion</th>\n",
       "    </tr>\n",
       "    <tr>\n",
       "      <th>income_rating_id</th>\n",
       "      <th>income_rating</th>\n",
       "      <th></th>\n",
       "      <th></th>\n",
       "      <th></th>\n",
       "    </tr>\n",
       "  </thead>\n",
       "  <tbody>\n",
       "    <tr>\n",
       "      <td>1</td>\n",
       "      <td>бедный</td>\n",
       "      <td>2</td>\n",
       "      <td>22</td>\n",
       "      <td>0.090909</td>\n",
       "    </tr>\n",
       "    <tr>\n",
       "      <td>2</td>\n",
       "      <td>средний</td>\n",
       "      <td>47</td>\n",
       "      <td>780</td>\n",
       "      <td>0.060256</td>\n",
       "    </tr>\n",
       "    <tr>\n",
       "      <td>3</td>\n",
       "      <td>состоятельный</td>\n",
       "      <td>213</td>\n",
       "      <td>2529</td>\n",
       "      <td>0.084223</td>\n",
       "    </tr>\n",
       "    <tr>\n",
       "      <td>4</td>\n",
       "      <td>богатый</td>\n",
       "      <td>1278</td>\n",
       "      <td>15221</td>\n",
       "      <td>0.083963</td>\n",
       "    </tr>\n",
       "    <tr>\n",
       "      <td>5</td>\n",
       "      <td>сверхбогатый</td>\n",
       "      <td>193</td>\n",
       "      <td>2800</td>\n",
       "      <td>0.068929</td>\n",
       "    </tr>\n",
       "  </tbody>\n",
       "</table>\n",
       "</div>"
      ],
      "text/plain": [
       "                                debt                  \n",
       "                                 sum  count proportion\n",
       "income_rating_id income_rating                        \n",
       "1                бедный            2     22   0.090909\n",
       "2                средний          47    780   0.060256\n",
       "3                состоятельный   213   2529   0.084223\n",
       "4                богатый        1278  15221   0.083963\n",
       "5                сверхбогатый    193   2800   0.068929"
      ]
     },
     "execution_count": 127,
     "metadata": {},
     "output_type": "execute_result"
    }
   ],
   "source": [
    "# используем ранее созданную функцию\n",
    "calculation_debt(['income_rating_id', 'income_rating'])"
   ]
  },
  {
   "cell_type": "markdown",
   "metadata": {},
   "source": [
    "**Вывод**"
   ]
  },
  {
   "cell_type": "markdown",
   "metadata": {},
   "source": [
    "Учитывая, что категории по доходу составлены по российским реалиям, то на основе полученной таблицы, я бы объединил 1 и 2 категории в бедных, 2 и 3 - в средний класс. По этим данным уже прослеживается общемировая тенденция - кредитуется больше всего средний класс, а значит и просрочек у него больше. Бедные практически не берут кредиты, так как опасаются не отдать. А богатым кредиты либо не нужны, либо они используют другие финансовые инструменты. И исходя из этой логики, доля просрочек больше у среднего класса - 8,4 %"
   ]
  },
  {
   "cell_type": "markdown",
   "metadata": {},
   "source": [
    "**- Как разные цели кредита влияют на его возврат в срок?**"
   ]
  },
  {
   "cell_type": "markdown",
   "metadata": {},
   "source": [
    "Для ответа на вопрос нам понадобится столбец с измененными целями кредита, полученный с помощью лемматизирования.\n"
   ]
  },
  {
   "cell_type": "code",
   "execution_count": 128,
   "metadata": {},
   "outputs": [
    {
     "data": {
      "text/html": [
       "<div>\n",
       "<style scoped>\n",
       "    .dataframe tbody tr th:only-of-type {\n",
       "        vertical-align: middle;\n",
       "    }\n",
       "\n",
       "    .dataframe tbody tr th {\n",
       "        vertical-align: top;\n",
       "    }\n",
       "\n",
       "    .dataframe thead tr th {\n",
       "        text-align: left;\n",
       "    }\n",
       "\n",
       "    .dataframe thead tr:last-of-type th {\n",
       "        text-align: right;\n",
       "    }\n",
       "</style>\n",
       "<table border=\"1\" class=\"dataframe\">\n",
       "  <thead>\n",
       "    <tr>\n",
       "      <th></th>\n",
       "      <th colspan=\"3\" halign=\"left\">debt</th>\n",
       "    </tr>\n",
       "    <tr>\n",
       "      <th></th>\n",
       "      <th>sum</th>\n",
       "      <th>count</th>\n",
       "      <th>proportion</th>\n",
       "    </tr>\n",
       "    <tr>\n",
       "      <th>purpose_change</th>\n",
       "      <th></th>\n",
       "      <th></th>\n",
       "      <th></th>\n",
       "    </tr>\n",
       "  </thead>\n",
       "  <tbody>\n",
       "    <tr>\n",
       "      <td>автомобиль</td>\n",
       "      <td>400</td>\n",
       "      <td>4284</td>\n",
       "      <td>0.093371</td>\n",
       "    </tr>\n",
       "    <tr>\n",
       "      <td>недвижимость</td>\n",
       "      <td>779</td>\n",
       "      <td>10763</td>\n",
       "      <td>0.072378</td>\n",
       "    </tr>\n",
       "    <tr>\n",
       "      <td>образование</td>\n",
       "      <td>370</td>\n",
       "      <td>3995</td>\n",
       "      <td>0.092616</td>\n",
       "    </tr>\n",
       "    <tr>\n",
       "      <td>свадьба</td>\n",
       "      <td>184</td>\n",
       "      <td>2310</td>\n",
       "      <td>0.079654</td>\n",
       "    </tr>\n",
       "  </tbody>\n",
       "</table>\n",
       "</div>"
      ],
      "text/plain": [
       "               debt                  \n",
       "                sum  count proportion\n",
       "purpose_change                       \n",
       "автомобиль      400   4284   0.093371\n",
       "недвижимость    779  10763   0.072378\n",
       "образование     370   3995   0.092616\n",
       "свадьба         184   2310   0.079654"
      ]
     },
     "execution_count": 128,
     "metadata": {},
     "output_type": "execute_result"
    }
   ],
   "source": [
    "calculation_debt(['purpose_change'])"
   ]
  },
  {
   "cell_type": "markdown",
   "metadata": {},
   "source": [
    "**Вывод**"
   ]
  },
  {
   "cell_type": "markdown",
   "metadata": {},
   "source": [
    "Худшая по количеству не возврата цель кредита, которая занимает половину всех задолженностей, - это недвижимость. Скорее всего на это влияет ипотечное кредитование, особенно в иностранной валюте. Люди, потеряв работу или снизив доход, не думают о возврате кредита, а пытаются его отсрочить. Меньше всего количества просрочек по кредитам на свадьбу, я думаю из-за того, что, во-первых, объем кредита меньше, и во-вторых, добавляются новые родственники, которые помогают погасить долг. Но, судя по доле невозвратов, худшей целью является автомобиль - 9,33 % невозвратов."
   ]
  },
  {
   "cell_type": "markdown",
   "metadata": {},
   "source": [
    "## Общий вывод"
   ]
  },
  {
   "cell_type": "markdown",
   "metadata": {},
   "source": [
    "Для общего вывода выведем еще одну сводную таблицу, учитывающую семейное положение и количество детей."
   ]
  },
  {
   "cell_type": "code",
   "execution_count": 129,
   "metadata": {},
   "outputs": [
    {
     "data": {
      "text/html": [
       "<div>\n",
       "<style scoped>\n",
       "    .dataframe tbody tr th:only-of-type {\n",
       "        vertical-align: middle;\n",
       "    }\n",
       "\n",
       "    .dataframe tbody tr th {\n",
       "        vertical-align: top;\n",
       "    }\n",
       "\n",
       "    .dataframe thead tr th {\n",
       "        text-align: left;\n",
       "    }\n",
       "\n",
       "    .dataframe thead tr:last-of-type th {\n",
       "        text-align: right;\n",
       "    }\n",
       "</style>\n",
       "<table border=\"1\" class=\"dataframe\">\n",
       "  <thead>\n",
       "    <tr>\n",
       "      <th></th>\n",
       "      <th></th>\n",
       "      <th colspan=\"3\" halign=\"left\">debt</th>\n",
       "    </tr>\n",
       "    <tr>\n",
       "      <th></th>\n",
       "      <th></th>\n",
       "      <th>sum</th>\n",
       "      <th>count</th>\n",
       "      <th>proportion</th>\n",
       "    </tr>\n",
       "    <tr>\n",
       "      <th>family_status</th>\n",
       "      <th>children</th>\n",
       "      <th></th>\n",
       "      <th></th>\n",
       "      <th></th>\n",
       "    </tr>\n",
       "  </thead>\n",
       "  <tbody>\n",
       "    <tr>\n",
       "      <td rowspan=\"5\" valign=\"top\">Не женат / не замужем</td>\n",
       "      <td>0</td>\n",
       "      <td>210</td>\n",
       "      <td>2249</td>\n",
       "      <td>0.093375</td>\n",
       "    </tr>\n",
       "    <tr>\n",
       "      <td>1</td>\n",
       "      <td>51</td>\n",
       "      <td>452</td>\n",
       "      <td>0.112832</td>\n",
       "    </tr>\n",
       "    <tr>\n",
       "      <td>2</td>\n",
       "      <td>10</td>\n",
       "      <td>83</td>\n",
       "      <td>0.120482</td>\n",
       "    </tr>\n",
       "    <tr>\n",
       "      <td>3</td>\n",
       "      <td>1</td>\n",
       "      <td>8</td>\n",
       "      <td>0.125000</td>\n",
       "    </tr>\n",
       "    <tr>\n",
       "      <td>4</td>\n",
       "      <td>1</td>\n",
       "      <td>2</td>\n",
       "      <td>0.500000</td>\n",
       "    </tr>\n",
       "    <tr>\n",
       "      <td rowspan=\"5\" valign=\"top\">в разводе</td>\n",
       "      <td>0</td>\n",
       "      <td>55</td>\n",
       "      <td>777</td>\n",
       "      <td>0.070785</td>\n",
       "    </tr>\n",
       "    <tr>\n",
       "      <td>1</td>\n",
       "      <td>21</td>\n",
       "      <td>315</td>\n",
       "      <td>0.066667</td>\n",
       "    </tr>\n",
       "    <tr>\n",
       "      <td>2</td>\n",
       "      <td>8</td>\n",
       "      <td>81</td>\n",
       "      <td>0.098765</td>\n",
       "    </tr>\n",
       "    <tr>\n",
       "      <td>3</td>\n",
       "      <td>1</td>\n",
       "      <td>11</td>\n",
       "      <td>0.090909</td>\n",
       "    </tr>\n",
       "    <tr>\n",
       "      <td>4</td>\n",
       "      <td>0</td>\n",
       "      <td>1</td>\n",
       "      <td>0.000000</td>\n",
       "    </tr>\n",
       "    <tr>\n",
       "      <td rowspan=\"5\" valign=\"top\">вдовец / вдова</td>\n",
       "      <td>0</td>\n",
       "      <td>52</td>\n",
       "      <td>842</td>\n",
       "      <td>0.061758</td>\n",
       "    </tr>\n",
       "    <tr>\n",
       "      <td>1</td>\n",
       "      <td>7</td>\n",
       "      <td>81</td>\n",
       "      <td>0.086420</td>\n",
       "    </tr>\n",
       "    <tr>\n",
       "      <td>2</td>\n",
       "      <td>3</td>\n",
       "      <td>24</td>\n",
       "      <td>0.125000</td>\n",
       "    </tr>\n",
       "    <tr>\n",
       "      <td>3</td>\n",
       "      <td>0</td>\n",
       "      <td>6</td>\n",
       "      <td>0.000000</td>\n",
       "    </tr>\n",
       "    <tr>\n",
       "      <td>4</td>\n",
       "      <td>0</td>\n",
       "      <td>1</td>\n",
       "      <td>0.000000</td>\n",
       "    </tr>\n",
       "    <tr>\n",
       "      <td rowspan=\"6\" valign=\"top\">гражданский брак</td>\n",
       "      <td>0</td>\n",
       "      <td>227</td>\n",
       "      <td>2716</td>\n",
       "      <td>0.083579</td>\n",
       "    </tr>\n",
       "    <tr>\n",
       "      <td>1</td>\n",
       "      <td>118</td>\n",
       "      <td>994</td>\n",
       "      <td>0.118712</td>\n",
       "    </tr>\n",
       "    <tr>\n",
       "      <td>2</td>\n",
       "      <td>33</td>\n",
       "      <td>353</td>\n",
       "      <td>0.093484</td>\n",
       "    </tr>\n",
       "    <tr>\n",
       "      <td>3</td>\n",
       "      <td>8</td>\n",
       "      <td>56</td>\n",
       "      <td>0.142857</td>\n",
       "    </tr>\n",
       "    <tr>\n",
       "      <td>4</td>\n",
       "      <td>0</td>\n",
       "      <td>8</td>\n",
       "      <td>0.000000</td>\n",
       "    </tr>\n",
       "    <tr>\n",
       "      <td>5</td>\n",
       "      <td>0</td>\n",
       "      <td>2</td>\n",
       "      <td>0.000000</td>\n",
       "    </tr>\n",
       "    <tr>\n",
       "      <td rowspan=\"6\" valign=\"top\">женат / замужем</td>\n",
       "      <td>0</td>\n",
       "      <td>514</td>\n",
       "      <td>7437</td>\n",
       "      <td>0.069114</td>\n",
       "    </tr>\n",
       "    <tr>\n",
       "      <td>1</td>\n",
       "      <td>245</td>\n",
       "      <td>2997</td>\n",
       "      <td>0.081748</td>\n",
       "    </tr>\n",
       "    <tr>\n",
       "      <td>2</td>\n",
       "      <td>148</td>\n",
       "      <td>1573</td>\n",
       "      <td>0.094088</td>\n",
       "    </tr>\n",
       "    <tr>\n",
       "      <td>3</td>\n",
       "      <td>17</td>\n",
       "      <td>247</td>\n",
       "      <td>0.068826</td>\n",
       "    </tr>\n",
       "    <tr>\n",
       "      <td>4</td>\n",
       "      <td>3</td>\n",
       "      <td>29</td>\n",
       "      <td>0.103448</td>\n",
       "    </tr>\n",
       "    <tr>\n",
       "      <td>5</td>\n",
       "      <td>0</td>\n",
       "      <td>7</td>\n",
       "      <td>0.000000</td>\n",
       "    </tr>\n",
       "  </tbody>\n",
       "</table>\n",
       "</div>"
      ],
      "text/plain": [
       "                               debt                 \n",
       "                                sum count proportion\n",
       "family_status         children                      \n",
       "Не женат / не замужем 0         210  2249   0.093375\n",
       "                      1          51   452   0.112832\n",
       "                      2          10    83   0.120482\n",
       "                      3           1     8   0.125000\n",
       "                      4           1     2   0.500000\n",
       "в разводе             0          55   777   0.070785\n",
       "                      1          21   315   0.066667\n",
       "                      2           8    81   0.098765\n",
       "                      3           1    11   0.090909\n",
       "                      4           0     1   0.000000\n",
       "вдовец / вдова        0          52   842   0.061758\n",
       "                      1           7    81   0.086420\n",
       "                      2           3    24   0.125000\n",
       "                      3           0     6   0.000000\n",
       "                      4           0     1   0.000000\n",
       "гражданский брак      0         227  2716   0.083579\n",
       "                      1         118   994   0.118712\n",
       "                      2          33   353   0.093484\n",
       "                      3           8    56   0.142857\n",
       "                      4           0     8   0.000000\n",
       "                      5           0     2   0.000000\n",
       "женат / замужем       0         514  7437   0.069114\n",
       "                      1         245  2997   0.081748\n",
       "                      2         148  1573   0.094088\n",
       "                      3          17   247   0.068826\n",
       "                      4           3    29   0.103448\n",
       "                      5           0     7   0.000000"
      ]
     },
     "execution_count": 129,
     "metadata": {},
     "output_type": "execute_result"
    }
   ],
   "source": [
    "data_pivot_itog = data.groupby(['family_status', 'children']).agg({'debt':['sum', 'count']})\n",
    "data_pivot_itog[('debt', 'proportion')] = data_pivot_itog[('debt', 'sum')] / data_pivot_itog[('debt', 'count')]\n",
    "data_pivot_itog"
   ]
  },
  {
   "cell_type": "markdown",
   "metadata": {},
   "source": [
    "Для выполнения заявленной цели проекта: определить влияет ли семейное положение и количество детей клиента на факт погашения кредита в срок, мной был выполнен ряд действий. В первую очередь были изучены данные, представленные кредитным отделом банка для работы. В ходе предобработки данных мной были заполнены пропущенные значения, исправлены некорректные данные и конкретезированы цели получения кредита. Удалено менее 0,5% строк датасета, что, как я считаю, не повлияло на итоговый результат. Применяя функции и группировку в сводные таблицы, нашел ответы на поставленные вопросы. \n",
    "**В итоге, отвечая на задание проекта, можно сказать следующее: люди состоящие в официальных отношениях и не имеющие детей, ответственнее других возвращают долг по кредиту. Заемщики, не состоящие в официальных отношениях или проживающие в гражданском браке и имеющие 2-3 детей, являются худшей группой по погашению кредита.**"
   ]
  }
 ],
 "metadata": {
  "ExecuteTimeLog": [
   {
    "duration": 3534,
    "start_time": "2022-01-07T07:34:38.375Z"
   },
   {
    "duration": 10944,
    "start_time": "2022-01-07T07:35:04.592Z"
   },
   {
    "duration": 3128,
    "start_time": "2022-01-07T07:36:05.854Z"
   },
   {
    "duration": 92,
    "start_time": "2022-01-07T07:36:21.335Z"
   },
   {
    "duration": 87,
    "start_time": "2022-01-07T07:37:14.917Z"
   },
   {
    "duration": 11,
    "start_time": "2022-01-07T08:02:46.633Z"
   },
   {
    "duration": 8,
    "start_time": "2022-01-07T08:04:03.388Z"
   },
   {
    "duration": 9,
    "start_time": "2022-01-07T08:04:34.050Z"
   },
   {
    "duration": 87,
    "start_time": "2022-01-07T08:07:16.714Z"
   },
   {
    "duration": 90,
    "start_time": "2022-01-07T08:07:44.873Z"
   },
   {
    "duration": 89,
    "start_time": "2022-01-07T08:07:56.400Z"
   },
   {
    "duration": 93,
    "start_time": "2022-01-07T08:08:16.025Z"
   },
   {
    "duration": 95,
    "start_time": "2022-01-07T08:08:49.701Z"
   },
   {
    "duration": 12,
    "start_time": "2022-01-07T08:21:50.832Z"
   },
   {
    "duration": 7,
    "start_time": "2022-01-07T08:22:53.780Z"
   },
   {
    "duration": 6,
    "start_time": "2022-01-07T08:23:12.681Z"
   },
   {
    "duration": 6,
    "start_time": "2022-01-07T08:25:21.917Z"
   },
   {
    "duration": 80,
    "start_time": "2022-01-07T08:36:05.431Z"
   },
   {
    "duration": 196,
    "start_time": "2022-01-07T08:39:01.903Z"
   },
   {
    "duration": 70,
    "start_time": "2022-01-07T08:39:33.300Z"
   },
   {
    "duration": 49,
    "start_time": "2022-01-07T08:40:49.521Z"
   },
   {
    "duration": 51,
    "start_time": "2022-01-07T08:40:58.352Z"
   },
   {
    "duration": 64,
    "start_time": "2022-01-07T08:44:41.375Z"
   },
   {
    "duration": 21,
    "start_time": "2022-01-07T08:45:26.728Z"
   },
   {
    "duration": 13,
    "start_time": "2022-01-07T08:45:47.803Z"
   },
   {
    "duration": 25,
    "start_time": "2022-01-07T08:46:07.821Z"
   },
   {
    "duration": 17,
    "start_time": "2022-01-07T09:13:45.631Z"
   },
   {
    "duration": 16,
    "start_time": "2022-01-07T09:14:32.276Z"
   },
   {
    "duration": 64,
    "start_time": "2022-01-07T09:15:10.355Z"
   },
   {
    "duration": 7,
    "start_time": "2022-01-07T09:22:54.763Z"
   },
   {
    "duration": 715,
    "start_time": "2022-01-07T13:25:34.638Z"
   },
   {
    "duration": 11,
    "start_time": "2022-01-07T13:25:37.931Z"
   },
   {
    "duration": 5,
    "start_time": "2022-01-07T13:25:40.059Z"
   },
   {
    "duration": 32,
    "start_time": "2022-01-07T13:25:41.003Z"
   },
   {
    "duration": 12,
    "start_time": "2022-01-07T13:26:56.551Z"
   },
   {
    "duration": 12,
    "start_time": "2022-01-07T13:27:30.492Z"
   },
   {
    "duration": 23,
    "start_time": "2022-01-07T13:30:45.378Z"
   },
   {
    "duration": 8,
    "start_time": "2022-01-07T13:31:21.822Z"
   },
   {
    "duration": 11,
    "start_time": "2022-01-07T13:33:29.848Z"
   },
   {
    "duration": 8,
    "start_time": "2022-01-07T13:33:50.932Z"
   },
   {
    "duration": 6,
    "start_time": "2022-01-07T13:34:31.565Z"
   },
   {
    "duration": 119,
    "start_time": "2022-01-07T13:36:02.158Z"
   },
   {
    "duration": 5,
    "start_time": "2022-01-07T13:36:10.237Z"
   },
   {
    "duration": 8,
    "start_time": "2022-01-07T13:37:39.879Z"
   },
   {
    "duration": 8,
    "start_time": "2022-01-07T13:40:21.642Z"
   },
   {
    "duration": 5,
    "start_time": "2022-01-07T13:55:35.928Z"
   },
   {
    "duration": 7,
    "start_time": "2022-01-07T13:56:01.051Z"
   },
   {
    "duration": 4,
    "start_time": "2022-01-07T13:56:31.004Z"
   },
   {
    "duration": 5,
    "start_time": "2022-01-07T13:56:31.857Z"
   },
   {
    "duration": 5,
    "start_time": "2022-01-07T13:57:01.765Z"
   },
   {
    "duration": 6,
    "start_time": "2022-01-07T13:57:03.586Z"
   },
   {
    "duration": 6,
    "start_time": "2022-01-07T13:57:43.440Z"
   },
   {
    "duration": 8,
    "start_time": "2022-01-07T13:58:20.893Z"
   },
   {
    "duration": 5,
    "start_time": "2022-01-07T14:00:37.261Z"
   },
   {
    "duration": 6,
    "start_time": "2022-01-07T14:00:37.743Z"
   },
   {
    "duration": 5,
    "start_time": "2022-01-07T14:01:09.868Z"
   },
   {
    "duration": 5,
    "start_time": "2022-01-07T14:01:09.890Z"
   },
   {
    "duration": 6,
    "start_time": "2022-01-07T14:01:26.307Z"
   },
   {
    "duration": 6,
    "start_time": "2022-01-07T14:01:27.470Z"
   },
   {
    "duration": 6,
    "start_time": "2022-01-07T14:02:20.795Z"
   },
   {
    "duration": 59,
    "start_time": "2022-01-07T14:02:52.319Z"
   },
   {
    "duration": 11,
    "start_time": "2022-01-07T14:02:56.383Z"
   },
   {
    "duration": 5,
    "start_time": "2022-01-07T14:02:59.644Z"
   },
   {
    "duration": 31,
    "start_time": "2022-01-07T14:03:01.251Z"
   },
   {
    "duration": 12,
    "start_time": "2022-01-07T14:03:14.664Z"
   },
   {
    "duration": 5,
    "start_time": "2022-01-07T14:03:17.160Z"
   },
   {
    "duration": 4,
    "start_time": "2022-01-07T14:07:24.356Z"
   },
   {
    "duration": 6,
    "start_time": "2022-01-07T14:07:50.823Z"
   },
   {
    "duration": 12,
    "start_time": "2022-01-07T14:10:40.889Z"
   },
   {
    "duration": 11,
    "start_time": "2022-01-07T14:50:15.694Z"
   },
   {
    "duration": 10,
    "start_time": "2022-01-07T15:01:38.691Z"
   },
   {
    "duration": 834,
    "start_time": "2022-01-07T15:09:29.638Z"
   },
   {
    "duration": 63,
    "start_time": "2022-01-07T15:09:30.582Z"
   },
   {
    "duration": 11,
    "start_time": "2022-01-07T15:09:36.387Z"
   },
   {
    "duration": 5,
    "start_time": "2022-01-07T15:09:38.189Z"
   },
   {
    "duration": 6,
    "start_time": "2022-01-07T15:09:54.437Z"
   },
   {
    "duration": 10,
    "start_time": "2022-01-07T15:09:56.542Z"
   },
   {
    "duration": 12,
    "start_time": "2022-01-07T15:11:30.882Z"
   },
   {
    "duration": 12,
    "start_time": "2022-01-07T15:19:57.533Z"
   },
   {
    "duration": 214,
    "start_time": "2022-01-08T08:19:31.855Z"
   },
   {
    "duration": 1975,
    "start_time": "2022-01-08T08:19:40.197Z"
   },
   {
    "duration": 1550,
    "start_time": "2022-01-08T08:19:42.174Z"
   },
   {
    "duration": 11,
    "start_time": "2022-01-08T08:19:47.931Z"
   },
   {
    "duration": 5,
    "start_time": "2022-01-08T08:19:51.997Z"
   },
   {
    "duration": 11,
    "start_time": "2022-01-08T08:19:54.951Z"
   },
   {
    "duration": 10,
    "start_time": "2022-01-08T08:19:57.409Z"
   },
   {
    "duration": 32,
    "start_time": "2022-01-08T08:20:01.723Z"
   },
   {
    "duration": 12,
    "start_time": "2022-01-08T08:20:07.831Z"
   },
   {
    "duration": 7,
    "start_time": "2022-01-08T08:20:31.181Z"
   },
   {
    "duration": 13,
    "start_time": "2022-01-08T08:27:51.213Z"
   },
   {
    "duration": 421,
    "start_time": "2022-01-08T08:41:40.380Z"
   },
   {
    "duration": 7,
    "start_time": "2022-01-08T08:41:53.711Z"
   },
   {
    "duration": 7,
    "start_time": "2022-01-08T08:42:34.306Z"
   },
   {
    "duration": 4655,
    "start_time": "2022-01-08T08:55:47.588Z"
   },
   {
    "duration": 8,
    "start_time": "2022-01-08T08:57:43.357Z"
   },
   {
    "duration": 189,
    "start_time": "2022-01-08T08:58:19.839Z"
   },
   {
    "duration": 7,
    "start_time": "2022-01-08T08:58:41.801Z"
   },
   {
    "duration": 9,
    "start_time": "2022-01-08T09:02:52.751Z"
   },
   {
    "duration": 24,
    "start_time": "2022-01-08T09:03:04.911Z"
   },
   {
    "duration": 23,
    "start_time": "2022-01-08T09:05:42.367Z"
   },
   {
    "duration": 59,
    "start_time": "2022-01-08T09:10:47.442Z"
   },
   {
    "duration": 9,
    "start_time": "2022-01-08T09:10:59.447Z"
   },
   {
    "duration": 64,
    "start_time": "2022-01-08T09:11:21.387Z"
   },
   {
    "duration": 11,
    "start_time": "2022-01-08T09:11:23.676Z"
   },
   {
    "duration": 5,
    "start_time": "2022-01-08T09:11:26.082Z"
   },
   {
    "duration": 10,
    "start_time": "2022-01-08T09:11:27.724Z"
   },
   {
    "duration": 11,
    "start_time": "2022-01-08T09:11:30.399Z"
   },
   {
    "duration": 34,
    "start_time": "2022-01-08T09:11:35.965Z"
   },
   {
    "duration": 7,
    "start_time": "2022-01-08T09:11:42.838Z"
   },
   {
    "duration": 12,
    "start_time": "2022-01-08T09:13:46.540Z"
   },
   {
    "duration": 247,
    "start_time": "2022-01-08T09:27:31.981Z"
   },
   {
    "duration": 36,
    "start_time": "2022-01-08T09:28:12.447Z"
   },
   {
    "duration": 35,
    "start_time": "2022-01-08T09:29:03.876Z"
   },
   {
    "duration": 41,
    "start_time": "2022-01-08T09:31:19.549Z"
   },
   {
    "duration": 41,
    "start_time": "2022-01-08T09:33:18.624Z"
   },
   {
    "duration": 58,
    "start_time": "2022-01-08T09:34:07.566Z"
   },
   {
    "duration": 33,
    "start_time": "2022-01-08T09:36:48.912Z"
   },
   {
    "duration": 32,
    "start_time": "2022-01-08T09:46:00.054Z"
   },
   {
    "duration": 67,
    "start_time": "2022-01-08T09:46:53.164Z"
   },
   {
    "duration": 13,
    "start_time": "2022-01-08T09:47:01.462Z"
   },
   {
    "duration": 5,
    "start_time": "2022-01-08T09:47:03.865Z"
   },
   {
    "duration": 10,
    "start_time": "2022-01-08T09:47:05.745Z"
   },
   {
    "duration": 9,
    "start_time": "2022-01-08T09:47:07.638Z"
   },
   {
    "duration": 33,
    "start_time": "2022-01-08T09:47:10.359Z"
   },
   {
    "duration": 9,
    "start_time": "2022-01-08T09:47:18.935Z"
   },
   {
    "duration": 13,
    "start_time": "2022-01-08T09:47:24.978Z"
   },
   {
    "duration": 30,
    "start_time": "2022-01-08T09:47:36.438Z"
   },
   {
    "duration": 29,
    "start_time": "2022-01-08T09:49:15.768Z"
   },
   {
    "duration": 24,
    "start_time": "2022-01-08T09:50:23.955Z"
   },
   {
    "duration": 18,
    "start_time": "2022-01-08T09:52:57.838Z"
   },
   {
    "duration": 12,
    "start_time": "2022-01-08T09:56:22.078Z"
   },
   {
    "duration": 7,
    "start_time": "2022-01-08T09:57:53.049Z"
   },
   {
    "duration": 12,
    "start_time": "2022-01-08T10:03:43.168Z"
   },
   {
    "duration": 18,
    "start_time": "2022-01-08T10:03:46.868Z"
   },
   {
    "duration": 11,
    "start_time": "2022-01-08T10:03:51.013Z"
   },
   {
    "duration": 12,
    "start_time": "2022-01-08T10:10:33.620Z"
   },
   {
    "duration": 24,
    "start_time": "2022-01-08T10:10:50.705Z"
   },
   {
    "duration": 13,
    "start_time": "2022-01-08T10:11:02.780Z"
   },
   {
    "duration": 12,
    "start_time": "2022-01-08T10:11:43.545Z"
   },
   {
    "duration": 8,
    "start_time": "2022-01-08T10:12:35.984Z"
   },
   {
    "duration": 6,
    "start_time": "2022-01-08T10:13:13.673Z"
   },
   {
    "duration": 9,
    "start_time": "2022-01-08T10:14:05.447Z"
   },
   {
    "duration": 3,
    "start_time": "2022-01-08T10:14:12.327Z"
   },
   {
    "duration": 51,
    "start_time": "2022-01-08T10:14:13.120Z"
   },
   {
    "duration": 14,
    "start_time": "2022-01-08T10:14:16.679Z"
   },
   {
    "duration": 6,
    "start_time": "2022-01-08T10:14:18.582Z"
   },
   {
    "duration": 11,
    "start_time": "2022-01-08T10:14:21.617Z"
   },
   {
    "duration": 9,
    "start_time": "2022-01-08T10:14:24.476Z"
   },
   {
    "duration": 32,
    "start_time": "2022-01-08T10:14:32.097Z"
   },
   {
    "duration": 9,
    "start_time": "2022-01-08T10:14:38.094Z"
   },
   {
    "duration": 14,
    "start_time": "2022-01-08T10:14:41.962Z"
   },
   {
    "duration": 18,
    "start_time": "2022-01-08T10:14:46.183Z"
   },
   {
    "duration": 11,
    "start_time": "2022-01-08T10:14:46.796Z"
   },
   {
    "duration": 13,
    "start_time": "2022-01-08T10:14:50.487Z"
   },
   {
    "duration": 6,
    "start_time": "2022-01-08T10:14:51.949Z"
   },
   {
    "duration": 5,
    "start_time": "2022-01-08T10:14:57.728Z"
   },
   {
    "duration": 6,
    "start_time": "2022-01-08T10:14:58.148Z"
   },
   {
    "duration": 5,
    "start_time": "2022-01-08T10:25:41.554Z"
   },
   {
    "duration": 187,
    "start_time": "2022-01-08T10:30:15.557Z"
   },
   {
    "duration": 182,
    "start_time": "2022-01-08T10:30:47.564Z"
   },
   {
    "duration": 6,
    "start_time": "2022-01-08T10:31:06.607Z"
   },
   {
    "duration": 5472,
    "start_time": "2022-01-08T10:31:25.763Z"
   },
   {
    "duration": 1140,
    "start_time": "2022-01-08T12:19:51.461Z"
   },
   {
    "duration": 71,
    "start_time": "2022-01-08T12:19:52.603Z"
   },
   {
    "duration": 10,
    "start_time": "2022-01-08T12:19:56.752Z"
   },
   {
    "duration": 6,
    "start_time": "2022-01-08T12:20:00.011Z"
   },
   {
    "duration": 10,
    "start_time": "2022-01-08T12:20:03.960Z"
   },
   {
    "duration": 8,
    "start_time": "2022-01-08T12:20:07.525Z"
   },
   {
    "duration": 29,
    "start_time": "2022-01-08T12:20:13.103Z"
   },
   {
    "duration": 8,
    "start_time": "2022-01-08T12:20:22.216Z"
   },
   {
    "duration": 12,
    "start_time": "2022-01-08T12:21:40.934Z"
   },
   {
    "duration": 18,
    "start_time": "2022-01-08T12:23:07.785Z"
   },
   {
    "duration": 10,
    "start_time": "2022-01-08T12:23:12.900Z"
   },
   {
    "duration": 11,
    "start_time": "2022-01-08T12:23:28.201Z"
   },
   {
    "duration": 5,
    "start_time": "2022-01-08T12:23:28.650Z"
   },
   {
    "duration": 4,
    "start_time": "2022-01-08T12:23:35.522Z"
   },
   {
    "duration": 6,
    "start_time": "2022-01-08T12:23:36.189Z"
   },
   {
    "duration": 5,
    "start_time": "2022-01-08T12:25:28.540Z"
   },
   {
    "duration": 10,
    "start_time": "2022-01-08T12:25:52.447Z"
   },
   {
    "duration": 5,
    "start_time": "2022-01-08T12:30:22.266Z"
   },
   {
    "duration": 29,
    "start_time": "2022-01-08T12:33:42.035Z"
   },
   {
    "duration": 376,
    "start_time": "2022-01-08T12:38:10.538Z"
   },
   {
    "duration": 232,
    "start_time": "2022-01-08T12:39:48.368Z"
   },
   {
    "duration": 4,
    "start_time": "2022-01-08T12:40:14.221Z"
   },
   {
    "duration": 4,
    "start_time": "2022-01-08T12:40:30.040Z"
   },
   {
    "duration": 9,
    "start_time": "2022-01-08T12:44:13.741Z"
   },
   {
    "duration": 278,
    "start_time": "2022-01-08T12:50:03.190Z"
   },
   {
    "duration": 12,
    "start_time": "2022-01-08T12:51:44.253Z"
   },
   {
    "duration": 7,
    "start_time": "2022-01-08T12:53:28.672Z"
   },
   {
    "duration": 11,
    "start_time": "2022-01-08T12:54:23.739Z"
   },
   {
    "duration": 8,
    "start_time": "2022-01-08T12:56:23.748Z"
   },
   {
    "duration": 8,
    "start_time": "2022-01-08T12:56:32.286Z"
   },
   {
    "duration": 175,
    "start_time": "2022-01-08T12:58:04.886Z"
   },
   {
    "duration": 11,
    "start_time": "2022-01-08T12:58:14.983Z"
   },
   {
    "duration": 6537,
    "start_time": "2022-01-08T13:05:24.128Z"
   },
   {
    "duration": 6,
    "start_time": "2022-01-08T13:06:41.168Z"
   },
   {
    "duration": 12,
    "start_time": "2022-01-08T13:06:58.474Z"
   },
   {
    "duration": 12,
    "start_time": "2022-01-08T13:08:22.785Z"
   },
   {
    "duration": 81,
    "start_time": "2022-01-08T13:09:06.448Z"
   },
   {
    "duration": 13,
    "start_time": "2022-01-08T13:09:20.738Z"
   },
   {
    "duration": 6,
    "start_time": "2022-01-08T13:10:27.979Z"
   },
   {
    "duration": 20,
    "start_time": "2022-01-08T13:28:32.433Z"
   },
   {
    "duration": 34,
    "start_time": "2022-01-08T13:31:01.966Z"
   },
   {
    "duration": 31,
    "start_time": "2022-01-08T13:41:30.558Z"
   },
   {
    "duration": 20,
    "start_time": "2022-01-08T13:43:34.841Z"
   },
   {
    "duration": 59,
    "start_time": "2022-01-08T13:44:16.062Z"
   },
   {
    "duration": 30,
    "start_time": "2022-01-08T13:44:26.192Z"
   },
   {
    "duration": 3,
    "start_time": "2022-01-08T13:44:53.602Z"
   },
   {
    "duration": 60,
    "start_time": "2022-01-08T13:44:53.610Z"
   },
   {
    "duration": 10,
    "start_time": "2022-01-08T13:44:55.982Z"
   },
   {
    "duration": 4,
    "start_time": "2022-01-08T13:44:58.484Z"
   },
   {
    "duration": 9,
    "start_time": "2022-01-08T13:45:00.352Z"
   },
   {
    "duration": 9,
    "start_time": "2022-01-08T13:45:04.287Z"
   },
   {
    "duration": 28,
    "start_time": "2022-01-08T13:45:08.755Z"
   },
   {
    "duration": 7,
    "start_time": "2022-01-08T13:45:14.409Z"
   },
   {
    "duration": 12,
    "start_time": "2022-01-08T13:45:19.239Z"
   },
   {
    "duration": 20,
    "start_time": "2022-01-08T13:45:38.607Z"
   },
   {
    "duration": 11,
    "start_time": "2022-01-08T13:45:40.044Z"
   },
   {
    "duration": 12,
    "start_time": "2022-01-08T13:45:47.011Z"
   },
   {
    "duration": 7,
    "start_time": "2022-01-08T13:45:48.587Z"
   },
   {
    "duration": 5,
    "start_time": "2022-01-08T13:46:40.972Z"
   },
   {
    "duration": 6,
    "start_time": "2022-01-08T13:46:42.668Z"
   },
   {
    "duration": 6,
    "start_time": "2022-01-08T13:46:49.196Z"
   },
   {
    "duration": 6,
    "start_time": "2022-01-08T13:47:01.456Z"
   },
   {
    "duration": 6,
    "start_time": "2022-01-08T13:47:02.317Z"
   },
   {
    "duration": 7,
    "start_time": "2022-01-08T13:47:12.397Z"
   },
   {
    "duration": 17,
    "start_time": "2022-01-08T13:47:27.395Z"
   },
   {
    "duration": 32,
    "start_time": "2022-01-08T13:47:31.285Z"
   },
   {
    "duration": 28,
    "start_time": "2022-01-08T13:47:46.768Z"
   },
   {
    "duration": 8,
    "start_time": "2022-01-08T14:14:36.471Z"
   },
   {
    "duration": 8841,
    "start_time": "2022-01-08T14:26:25.425Z"
   },
   {
    "duration": 9589,
    "start_time": "2022-01-08T14:28:56.810Z"
   },
   {
    "duration": 3517,
    "start_time": "2022-01-08T14:29:18.161Z"
   },
   {
    "duration": 283,
    "start_time": "2022-01-08T14:33:34.956Z"
   },
   {
    "duration": 243,
    "start_time": "2022-01-08T14:34:23.829Z"
   },
   {
    "duration": 4823,
    "start_time": "2022-01-08T14:34:57.039Z"
   },
   {
    "duration": 250,
    "start_time": "2022-01-08T14:35:11.250Z"
   },
   {
    "duration": 3766,
    "start_time": "2022-01-08T14:38:42.404Z"
   },
   {
    "duration": 3330,
    "start_time": "2022-01-08T14:44:24.694Z"
   },
   {
    "duration": 3490,
    "start_time": "2022-01-08T14:45:01.693Z"
   },
   {
    "duration": 3532,
    "start_time": "2022-01-08T14:45:30.227Z"
   },
   {
    "duration": 3295,
    "start_time": "2022-01-08T14:56:51.946Z"
   },
   {
    "duration": 3292,
    "start_time": "2022-01-08T14:57:26.193Z"
   },
   {
    "duration": 3981,
    "start_time": "2022-01-08T15:01:58.806Z"
   },
   {
    "duration": 1233,
    "start_time": "2022-01-08T15:04:26.605Z"
   },
   {
    "duration": 3632,
    "start_time": "2022-01-08T15:07:40.588Z"
   },
   {
    "duration": 262,
    "start_time": "2022-01-08T15:13:13.960Z"
   },
   {
    "duration": 4175,
    "start_time": "2022-01-08T15:16:45.995Z"
   },
   {
    "duration": 4026,
    "start_time": "2022-01-08T15:18:11.270Z"
   },
   {
    "duration": 3800,
    "start_time": "2022-01-08T15:19:52.958Z"
   },
   {
    "duration": 11,
    "start_time": "2022-01-08T15:27:59.416Z"
   },
   {
    "duration": 4203,
    "start_time": "2022-01-08T15:28:16.018Z"
   },
   {
    "duration": 15,
    "start_time": "2022-01-08T15:28:44.611Z"
   },
   {
    "duration": 3888,
    "start_time": "2022-01-08T15:28:51.822Z"
   },
   {
    "duration": 3653,
    "start_time": "2022-01-08T15:29:20.255Z"
   },
   {
    "duration": 4077,
    "start_time": "2022-01-08T15:29:38.126Z"
   },
   {
    "duration": 606,
    "start_time": "2022-01-08T17:04:01.912Z"
   },
   {
    "duration": 60,
    "start_time": "2022-01-08T17:04:02.840Z"
   },
   {
    "duration": 10,
    "start_time": "2022-01-08T17:04:05.455Z"
   },
   {
    "duration": 5,
    "start_time": "2022-01-08T17:04:06.959Z"
   },
   {
    "duration": 9,
    "start_time": "2022-01-08T17:04:08.393Z"
   },
   {
    "duration": 9,
    "start_time": "2022-01-08T17:04:12.585Z"
   },
   {
    "duration": 27,
    "start_time": "2022-01-08T17:04:16.343Z"
   },
   {
    "duration": 8,
    "start_time": "2022-01-08T17:04:22.388Z"
   },
   {
    "duration": 11,
    "start_time": "2022-01-08T17:04:24.013Z"
   },
   {
    "duration": 16,
    "start_time": "2022-01-08T17:04:26.795Z"
   },
   {
    "duration": 10,
    "start_time": "2022-01-08T17:04:29.348Z"
   },
   {
    "duration": 10,
    "start_time": "2022-01-08T17:04:33.225Z"
   },
   {
    "duration": 5,
    "start_time": "2022-01-08T17:04:34.921Z"
   },
   {
    "duration": 4,
    "start_time": "2022-01-08T17:04:36.685Z"
   },
   {
    "duration": 6,
    "start_time": "2022-01-08T17:04:37.485Z"
   },
   {
    "duration": 5,
    "start_time": "2022-01-08T17:04:39.191Z"
   },
   {
    "duration": 5,
    "start_time": "2022-01-08T17:04:41.051Z"
   },
   {
    "duration": 4,
    "start_time": "2022-01-08T17:04:42.553Z"
   },
   {
    "duration": 7,
    "start_time": "2022-01-08T17:04:46.527Z"
   },
   {
    "duration": 17,
    "start_time": "2022-01-08T17:04:51.107Z"
   },
   {
    "duration": 26,
    "start_time": "2022-01-08T17:04:52.963Z"
   },
   {
    "duration": 26,
    "start_time": "2022-01-08T17:05:00.494Z"
   },
   {
    "duration": 9,
    "start_time": "2022-01-08T17:05:05.799Z"
   },
   {
    "duration": 3773,
    "start_time": "2022-01-08T17:05:56.007Z"
   },
   {
    "duration": 9,
    "start_time": "2022-01-08T17:13:15.267Z"
   },
   {
    "duration": 3393,
    "start_time": "2022-01-08T17:13:21.674Z"
   },
   {
    "duration": 10,
    "start_time": "2022-01-08T17:13:51.816Z"
   },
   {
    "duration": 3512,
    "start_time": "2022-01-08T17:13:58.037Z"
   },
   {
    "duration": 3924,
    "start_time": "2022-01-08T17:14:38.885Z"
   },
   {
    "duration": 3214,
    "start_time": "2022-01-08T17:15:13.859Z"
   },
   {
    "duration": 3331,
    "start_time": "2022-01-08T17:19:56.037Z"
   },
   {
    "duration": 1111,
    "start_time": "2022-01-08T17:20:46.366Z"
   },
   {
    "duration": 3211,
    "start_time": "2022-01-08T17:22:40.302Z"
   },
   {
    "duration": 3390,
    "start_time": "2022-01-08T17:35:30.220Z"
   },
   {
    "duration": 3267,
    "start_time": "2022-01-08T17:36:13.848Z"
   },
   {
    "duration": 3580,
    "start_time": "2022-01-08T17:36:41.424Z"
   },
   {
    "duration": 3634,
    "start_time": "2022-01-08T17:44:21.101Z"
   },
   {
    "duration": 795,
    "start_time": "2022-01-09T07:45:21.516Z"
   },
   {
    "duration": 92,
    "start_time": "2022-01-09T07:45:22.314Z"
   },
   {
    "duration": 15,
    "start_time": "2022-01-09T07:45:25.086Z"
   },
   {
    "duration": 7,
    "start_time": "2022-01-09T07:45:26.834Z"
   },
   {
    "duration": 14,
    "start_time": "2022-01-09T07:45:28.658Z"
   },
   {
    "duration": 53,
    "start_time": "2022-01-09T07:45:33.497Z"
   },
   {
    "duration": 67,
    "start_time": "2022-01-09T07:45:36.886Z"
   },
   {
    "duration": 15,
    "start_time": "2022-01-09T07:45:41.949Z"
   },
   {
    "duration": 27,
    "start_time": "2022-01-09T07:45:47.102Z"
   },
   {
    "duration": 28,
    "start_time": "2022-01-09T07:46:33.914Z"
   },
   {
    "duration": 15,
    "start_time": "2022-01-09T07:46:34.912Z"
   },
   {
    "duration": 17,
    "start_time": "2022-01-09T07:46:40.730Z"
   },
   {
    "duration": 9,
    "start_time": "2022-01-09T07:46:40.751Z"
   },
   {
    "duration": 8,
    "start_time": "2022-01-09T07:46:42.610Z"
   },
   {
    "duration": 9,
    "start_time": "2022-01-09T07:46:48.494Z"
   },
   {
    "duration": 7,
    "start_time": "2022-01-09T07:46:50.182Z"
   },
   {
    "duration": 9,
    "start_time": "2022-01-09T07:47:03.704Z"
   },
   {
    "duration": 7,
    "start_time": "2022-01-09T07:47:04.302Z"
   },
   {
    "duration": 9,
    "start_time": "2022-01-09T07:47:09.574Z"
   },
   {
    "duration": 28,
    "start_time": "2022-01-09T07:47:18.865Z"
   },
   {
    "duration": 47,
    "start_time": "2022-01-09T07:47:20.224Z"
   },
   {
    "duration": 43,
    "start_time": "2022-01-09T07:47:23.115Z"
   },
   {
    "duration": 7,
    "start_time": "2022-01-09T07:48:09.966Z"
   },
   {
    "duration": 10,
    "start_time": "2022-01-09T07:48:26.559Z"
   },
   {
    "duration": 10,
    "start_time": "2022-01-09T07:48:50.981Z"
   },
   {
    "duration": 1028,
    "start_time": "2022-01-09T07:49:23.889Z"
   },
   {
    "duration": 15,
    "start_time": "2022-01-09T07:50:33.972Z"
   },
   {
    "duration": 10,
    "start_time": "2022-01-09T07:55:25.522Z"
   },
   {
    "duration": 13,
    "start_time": "2022-01-09T07:56:00.632Z"
   },
   {
    "duration": 940,
    "start_time": "2022-01-09T08:00:19.573Z"
   },
   {
    "duration": 18,
    "start_time": "2022-01-09T08:08:17.780Z"
   },
   {
    "duration": 993,
    "start_time": "2022-01-09T08:08:39.951Z"
   },
   {
    "duration": 13,
    "start_time": "2022-01-09T08:10:21.444Z"
   },
   {
    "duration": 1098,
    "start_time": "2022-01-09T08:10:24.373Z"
   },
   {
    "duration": 5,
    "start_time": "2022-01-09T08:18:06.805Z"
   },
   {
    "duration": 1596,
    "start_time": "2022-01-09T08:19:52.539Z"
   },
   {
    "duration": 6,
    "start_time": "2022-01-09T08:24:24.275Z"
   },
   {
    "duration": 1420,
    "start_time": "2022-01-09T08:24:26.547Z"
   },
   {
    "duration": 1632,
    "start_time": "2022-01-09T08:25:28.235Z"
   },
   {
    "duration": 5,
    "start_time": "2022-01-09T08:26:55.745Z"
   },
   {
    "duration": 390,
    "start_time": "2022-01-09T08:26:59.691Z"
   },
   {
    "duration": 4,
    "start_time": "2022-01-09T08:58:56.723Z"
   },
   {
    "duration": 4,
    "start_time": "2022-01-09T08:58:57.709Z"
   },
   {
    "duration": 3954,
    "start_time": "2022-01-09T08:59:00.641Z"
   },
   {
    "duration": 13,
    "start_time": "2022-01-09T08:59:28.337Z"
   },
   {
    "duration": 938,
    "start_time": "2022-01-09T08:59:32.214Z"
   },
   {
    "duration": 5,
    "start_time": "2022-01-09T08:59:34.180Z"
   },
   {
    "duration": 5,
    "start_time": "2022-01-09T08:59:34.881Z"
   },
   {
    "duration": 4280,
    "start_time": "2022-01-09T08:59:35.721Z"
   },
   {
    "duration": 3,
    "start_time": "2022-01-09T08:59:58.986Z"
   },
   {
    "duration": 82,
    "start_time": "2022-01-09T08:59:59.011Z"
   },
   {
    "duration": 15,
    "start_time": "2022-01-09T09:00:01.373Z"
   },
   {
    "duration": 7,
    "start_time": "2022-01-09T09:00:02.840Z"
   },
   {
    "duration": 15,
    "start_time": "2022-01-09T09:00:04.327Z"
   },
   {
    "duration": 14,
    "start_time": "2022-01-09T09:00:05.692Z"
   },
   {
    "duration": 49,
    "start_time": "2022-01-09T09:00:07.786Z"
   },
   {
    "duration": 11,
    "start_time": "2022-01-09T09:00:13.053Z"
   },
   {
    "duration": 19,
    "start_time": "2022-01-09T09:00:15.509Z"
   },
   {
    "duration": 29,
    "start_time": "2022-01-09T09:00:17.943Z"
   },
   {
    "duration": 15,
    "start_time": "2022-01-09T09:00:21.728Z"
   },
   {
    "duration": 17,
    "start_time": "2022-01-09T09:00:21.746Z"
   },
   {
    "duration": 9,
    "start_time": "2022-01-09T09:00:23.927Z"
   },
   {
    "duration": 6,
    "start_time": "2022-01-09T09:00:25.647Z"
   },
   {
    "duration": 10,
    "start_time": "2022-01-09T09:00:29.478Z"
   },
   {
    "duration": 8,
    "start_time": "2022-01-09T09:00:29.492Z"
   },
   {
    "duration": 8,
    "start_time": "2022-01-09T09:00:31.561Z"
   },
   {
    "duration": 6,
    "start_time": "2022-01-09T09:00:38.858Z"
   },
   {
    "duration": 10,
    "start_time": "2022-01-09T09:00:42.700Z"
   },
   {
    "duration": 37,
    "start_time": "2022-01-09T09:00:45.824Z"
   },
   {
    "duration": 52,
    "start_time": "2022-01-09T09:00:48.456Z"
   },
   {
    "duration": 41,
    "start_time": "2022-01-09T09:00:54.357Z"
   },
   {
    "duration": 11,
    "start_time": "2022-01-09T09:01:00.379Z"
   },
   {
    "duration": 955,
    "start_time": "2022-01-09T09:01:01.695Z"
   },
   {
    "duration": 4,
    "start_time": "2022-01-09T09:01:04.570Z"
   },
   {
    "duration": 5,
    "start_time": "2022-01-09T09:01:05.441Z"
   },
   {
    "duration": 4950,
    "start_time": "2022-01-09T09:01:06.348Z"
   },
   {
    "duration": 4,
    "start_time": "2022-01-09T09:04:55.424Z"
   },
   {
    "duration": 4291,
    "start_time": "2022-01-09T09:04:56.865Z"
   },
   {
    "duration": 4,
    "start_time": "2022-01-09T09:09:21.931Z"
   },
   {
    "duration": 3655,
    "start_time": "2022-01-09T09:15:33.710Z"
   },
   {
    "duration": 10,
    "start_time": "2022-01-09T09:17:53.645Z"
   },
   {
    "duration": 11,
    "start_time": "2022-01-09T09:19:32.251Z"
   },
   {
    "duration": 15,
    "start_time": "2022-01-09T09:20:31.878Z"
   },
   {
    "duration": 25,
    "start_time": "2022-01-09T09:46:23.184Z"
   },
   {
    "duration": 51,
    "start_time": "2022-01-09T09:46:33.905Z"
   },
   {
    "duration": 6,
    "start_time": "2022-01-09T09:50:28.709Z"
   },
   {
    "duration": 7,
    "start_time": "2022-01-09T09:50:59.053Z"
   },
   {
    "duration": 6,
    "start_time": "2022-01-09T09:55:21.866Z"
   },
   {
    "duration": 6,
    "start_time": "2022-01-09T09:56:22.820Z"
   },
   {
    "duration": 5,
    "start_time": "2022-01-09T09:57:25.190Z"
   },
   {
    "duration": 99,
    "start_time": "2022-01-09T10:09:06.752Z"
   },
   {
    "duration": 8240,
    "start_time": "2022-01-09T10:09:51.260Z"
   },
   {
    "duration": 81,
    "start_time": "2022-01-09T10:11:23.914Z"
   },
   {
    "duration": 804,
    "start_time": "2022-01-09T12:11:11.822Z"
   },
   {
    "duration": 94,
    "start_time": "2022-01-09T12:11:12.630Z"
   },
   {
    "duration": 16,
    "start_time": "2022-01-09T12:11:15.184Z"
   },
   {
    "duration": 8,
    "start_time": "2022-01-09T12:11:16.791Z"
   },
   {
    "duration": 15,
    "start_time": "2022-01-09T12:11:19.230Z"
   },
   {
    "duration": 13,
    "start_time": "2022-01-09T12:11:22.038Z"
   },
   {
    "duration": 47,
    "start_time": "2022-01-09T12:11:25.406Z"
   },
   {
    "duration": 12,
    "start_time": "2022-01-09T12:11:33.192Z"
   },
   {
    "duration": 19,
    "start_time": "2022-01-09T12:11:48.310Z"
   },
   {
    "duration": 36,
    "start_time": "2022-01-09T12:12:11.296Z"
   },
   {
    "duration": 17,
    "start_time": "2022-01-09T12:12:13.418Z"
   },
   {
    "duration": 21,
    "start_time": "2022-01-09T12:12:19.810Z"
   },
   {
    "duration": 10,
    "start_time": "2022-01-09T12:12:21.453Z"
   },
   {
    "duration": 8,
    "start_time": "2022-01-09T12:12:23.084Z"
   },
   {
    "duration": 9,
    "start_time": "2022-01-09T12:12:23.864Z"
   },
   {
    "duration": 7,
    "start_time": "2022-01-09T12:12:27.108Z"
   },
   {
    "duration": 10,
    "start_time": "2022-01-09T12:12:30.121Z"
   },
   {
    "duration": 9,
    "start_time": "2022-01-09T12:12:32.662Z"
   },
   {
    "duration": 11,
    "start_time": "2022-01-09T12:12:37.631Z"
   },
   {
    "duration": 26,
    "start_time": "2022-01-09T12:12:41.525Z"
   },
   {
    "duration": 48,
    "start_time": "2022-01-09T12:12:44.461Z"
   },
   {
    "duration": 43,
    "start_time": "2022-01-09T12:12:49.988Z"
   },
   {
    "duration": 15,
    "start_time": "2022-01-09T12:13:03.165Z"
   },
   {
    "duration": 135,
    "start_time": "2022-01-09T12:13:57.670Z"
   },
   {
    "duration": 22,
    "start_time": "2022-01-09T12:14:11.331Z"
   },
   {
    "duration": 21,
    "start_time": "2022-01-09T12:15:19.249Z"
   },
   {
    "duration": 933,
    "start_time": "2022-01-09T12:16:29.481Z"
   },
   {
    "duration": 4,
    "start_time": "2022-01-09T12:17:50.968Z"
   },
   {
    "duration": 5,
    "start_time": "2022-01-09T12:17:54.305Z"
   },
   {
    "duration": 3645,
    "start_time": "2022-01-09T12:18:21.098Z"
   },
   {
    "duration": 3618,
    "start_time": "2022-01-09T12:19:58.975Z"
   },
   {
    "duration": 10,
    "start_time": "2022-01-09T12:21:13.630Z"
   },
   {
    "duration": 7,
    "start_time": "2022-01-09T12:21:58.946Z"
   },
   {
    "duration": 73,
    "start_time": "2022-01-09T12:29:24.758Z"
   },
   {
    "duration": 100,
    "start_time": "2022-01-09T12:38:05.467Z"
   },
   {
    "duration": 378,
    "start_time": "2022-01-09T12:38:13.391Z"
   },
   {
    "duration": 77,
    "start_time": "2022-01-09T12:41:49.782Z"
   },
   {
    "duration": 74,
    "start_time": "2022-01-09T12:42:28.403Z"
   },
   {
    "duration": 16,
    "start_time": "2022-01-09T12:46:32.011Z"
   },
   {
    "duration": 13,
    "start_time": "2022-01-09T12:47:11.247Z"
   },
   {
    "duration": 13,
    "start_time": "2022-01-09T12:47:24.277Z"
   },
   {
    "duration": 28,
    "start_time": "2022-01-09T13:05:53.216Z"
   },
   {
    "duration": 564,
    "start_time": "2022-01-09T13:10:44.182Z"
   },
   {
    "duration": 520,
    "start_time": "2022-01-09T13:11:04.916Z"
   },
   {
    "duration": 21,
    "start_time": "2022-01-09T13:11:20.142Z"
   },
   {
    "duration": 23,
    "start_time": "2022-01-09T13:12:44.617Z"
   },
   {
    "duration": 22,
    "start_time": "2022-01-09T13:22:29.214Z"
   },
   {
    "duration": 21,
    "start_time": "2022-01-09T13:29:05.951Z"
   },
   {
    "duration": 291,
    "start_time": "2022-01-09T13:52:44.451Z"
   },
   {
    "duration": 15,
    "start_time": "2022-01-09T13:53:08.876Z"
   },
   {
    "duration": 12,
    "start_time": "2022-01-09T13:53:44.311Z"
   },
   {
    "duration": 303,
    "start_time": "2022-01-09T13:59:58.566Z"
   },
   {
    "duration": 25,
    "start_time": "2022-01-09T14:04:57.186Z"
   },
   {
    "duration": 26,
    "start_time": "2022-01-09T14:05:39.865Z"
   },
   {
    "duration": 168,
    "start_time": "2022-01-09T14:13:23.560Z"
   },
   {
    "duration": 118,
    "start_time": "2022-01-09T14:13:38.774Z"
   },
   {
    "duration": 144,
    "start_time": "2022-01-09T14:14:33.933Z"
   },
   {
    "duration": 96,
    "start_time": "2022-01-09T14:14:53.880Z"
   },
   {
    "duration": 92,
    "start_time": "2022-01-09T14:15:20.650Z"
   },
   {
    "duration": 1176,
    "start_time": "2022-01-09T14:15:34.452Z"
   },
   {
    "duration": 135,
    "start_time": "2022-01-09T14:16:38.433Z"
   },
   {
    "duration": 899,
    "start_time": "2022-01-09T14:17:06.241Z"
   },
   {
    "duration": 1001,
    "start_time": "2022-01-09T14:17:24.221Z"
   },
   {
    "duration": 29,
    "start_time": "2022-01-09T14:18:04.845Z"
   },
   {
    "duration": 42,
    "start_time": "2022-01-09T14:18:22.321Z"
   },
   {
    "duration": 38,
    "start_time": "2022-01-09T14:19:46.796Z"
   },
   {
    "duration": 68,
    "start_time": "2022-01-09T14:21:40.455Z"
   },
   {
    "duration": 14,
    "start_time": "2022-01-09T14:23:32.121Z"
   },
   {
    "duration": 43,
    "start_time": "2022-01-09T14:28:38.484Z"
   },
   {
    "duration": 26,
    "start_time": "2022-01-09T14:55:58.018Z"
   },
   {
    "duration": 22,
    "start_time": "2022-01-09T15:06:25.280Z"
   },
   {
    "duration": 698,
    "start_time": "2022-01-09T17:24:35.956Z"
   },
   {
    "duration": 92,
    "start_time": "2022-01-09T17:24:36.656Z"
   },
   {
    "duration": 15,
    "start_time": "2022-01-09T17:24:36.751Z"
   },
   {
    "duration": 6,
    "start_time": "2022-01-09T17:24:36.768Z"
   },
   {
    "duration": 46,
    "start_time": "2022-01-09T17:24:36.776Z"
   },
   {
    "duration": 11,
    "start_time": "2022-01-09T17:24:36.824Z"
   },
   {
    "duration": 49,
    "start_time": "2022-01-09T17:24:36.837Z"
   },
   {
    "duration": 36,
    "start_time": "2022-01-09T17:24:36.889Z"
   },
   {
    "duration": 18,
    "start_time": "2022-01-09T17:24:36.929Z"
   },
   {
    "duration": 30,
    "start_time": "2022-01-09T17:24:36.950Z"
   },
   {
    "duration": 51,
    "start_time": "2022-01-09T17:24:36.983Z"
   },
   {
    "duration": 33,
    "start_time": "2022-01-09T17:24:37.036Z"
   },
   {
    "duration": 9,
    "start_time": "2022-01-09T17:24:37.071Z"
   },
   {
    "duration": 5,
    "start_time": "2022-01-09T17:24:37.083Z"
   },
   {
    "duration": 27,
    "start_time": "2022-01-09T17:24:37.090Z"
   },
   {
    "duration": 7,
    "start_time": "2022-01-09T17:24:37.119Z"
   },
   {
    "duration": 9,
    "start_time": "2022-01-09T17:24:37.128Z"
   },
   {
    "duration": 6,
    "start_time": "2022-01-09T17:24:37.140Z"
   },
   {
    "duration": 11,
    "start_time": "2022-01-09T17:24:37.148Z"
   },
   {
    "duration": 68,
    "start_time": "2022-01-09T17:24:37.162Z"
   },
   {
    "duration": 44,
    "start_time": "2022-01-09T17:24:37.233Z"
   },
   {
    "duration": 62,
    "start_time": "2022-01-09T17:24:37.279Z"
   },
   {
    "duration": 14,
    "start_time": "2022-01-09T17:24:37.345Z"
   },
   {
    "duration": 937,
    "start_time": "2022-01-09T17:24:37.362Z"
   },
   {
    "duration": 15,
    "start_time": "2022-01-09T17:24:38.302Z"
   },
   {
    "duration": 4,
    "start_time": "2022-01-09T17:24:38.319Z"
   },
   {
    "duration": 3900,
    "start_time": "2022-01-09T17:24:38.325Z"
   },
   {
    "duration": 12,
    "start_time": "2022-01-09T17:24:42.227Z"
   },
   {
    "duration": 10,
    "start_time": "2022-01-09T17:24:42.241Z"
   },
   {
    "duration": 97,
    "start_time": "2022-01-09T17:24:42.253Z"
   },
   {
    "duration": 28,
    "start_time": "2022-01-09T17:24:42.352Z"
   },
   {
    "duration": 46,
    "start_time": "2022-01-09T17:24:42.382Z"
   },
   {
    "duration": 23,
    "start_time": "2022-01-09T17:24:42.430Z"
   },
   {
    "duration": 19,
    "start_time": "2022-01-09T17:24:42.455Z"
   },
   {
    "duration": 12,
    "start_time": "2022-01-09T17:26:11.514Z"
   },
   {
    "duration": 25,
    "start_time": "2022-01-09T17:27:43.861Z"
   },
   {
    "duration": 17,
    "start_time": "2022-01-09T17:28:45.816Z"
   },
   {
    "duration": 37,
    "start_time": "2022-01-09T17:28:56.832Z"
   },
   {
    "duration": 50,
    "start_time": "2022-01-09T17:32:46.282Z"
   },
   {
    "duration": 27,
    "start_time": "2022-01-09T17:33:18.213Z"
   },
   {
    "duration": 10,
    "start_time": "2022-01-09T17:51:33.375Z"
   },
   {
    "duration": 78,
    "start_time": "2022-01-09T17:53:23.242Z"
   },
   {
    "duration": 90,
    "start_time": "2022-01-09T17:54:38.412Z"
   },
   {
    "duration": 331,
    "start_time": "2022-01-09T17:54:46.246Z"
   },
   {
    "duration": 582,
    "start_time": "2022-01-09T17:54:59.754Z"
   },
   {
    "duration": 10,
    "start_time": "2022-01-09T17:56:19.695Z"
   },
   {
    "duration": 9,
    "start_time": "2022-01-09T17:56:35.319Z"
   },
   {
    "duration": 80,
    "start_time": "2022-01-09T18:01:04.674Z"
   },
   {
    "duration": 7,
    "start_time": "2022-01-09T18:02:47.379Z"
   },
   {
    "duration": 11,
    "start_time": "2022-01-09T18:13:59.535Z"
   },
   {
    "duration": 27,
    "start_time": "2022-01-09T18:17:16.939Z"
   },
   {
    "duration": 6,
    "start_time": "2022-01-09T18:24:11.685Z"
   },
   {
    "duration": 65,
    "start_time": "2022-01-09T18:25:31.194Z"
   },
   {
    "duration": 3,
    "start_time": "2022-01-09T18:39:06.542Z"
   },
   {
    "duration": 81,
    "start_time": "2022-01-09T18:39:06.548Z"
   },
   {
    "duration": 13,
    "start_time": "2022-01-09T18:39:06.632Z"
   },
   {
    "duration": 6,
    "start_time": "2022-01-09T18:39:06.648Z"
   },
   {
    "duration": 14,
    "start_time": "2022-01-09T18:39:06.656Z"
   },
   {
    "duration": 46,
    "start_time": "2022-01-09T18:39:06.672Z"
   },
   {
    "duration": 45,
    "start_time": "2022-01-09T18:39:06.720Z"
   },
   {
    "duration": 10,
    "start_time": "2022-01-09T18:39:06.769Z"
   },
   {
    "duration": 51,
    "start_time": "2022-01-09T18:39:06.781Z"
   },
   {
    "duration": 28,
    "start_time": "2022-01-09T18:39:06.834Z"
   },
   {
    "duration": 13,
    "start_time": "2022-01-09T18:39:06.865Z"
   },
   {
    "duration": 49,
    "start_time": "2022-01-09T18:39:06.880Z"
   },
   {
    "duration": 11,
    "start_time": "2022-01-09T18:39:06.931Z"
   },
   {
    "duration": 9,
    "start_time": "2022-01-09T18:39:06.944Z"
   },
   {
    "duration": 8,
    "start_time": "2022-01-09T18:39:06.956Z"
   },
   {
    "duration": 50,
    "start_time": "2022-01-09T18:39:06.967Z"
   },
   {
    "duration": 7,
    "start_time": "2022-01-09T18:39:07.020Z"
   },
   {
    "duration": 9,
    "start_time": "2022-01-09T18:39:07.030Z"
   },
   {
    "duration": 9,
    "start_time": "2022-01-09T18:39:07.042Z"
   },
   {
    "duration": 8,
    "start_time": "2022-01-09T18:39:07.053Z"
   },
   {
    "duration": 57,
    "start_time": "2022-01-09T18:39:07.063Z"
   },
   {
    "duration": 12,
    "start_time": "2022-01-09T18:39:07.124Z"
   },
   {
    "duration": 24,
    "start_time": "2022-01-09T18:39:07.139Z"
   },
   {
    "duration": 83,
    "start_time": "2022-01-09T18:39:07.166Z"
   },
   {
    "duration": 42,
    "start_time": "2022-01-09T18:39:07.251Z"
   },
   {
    "duration": 27,
    "start_time": "2022-01-09T18:39:07.295Z"
   },
   {
    "duration": 971,
    "start_time": "2022-01-09T18:39:07.324Z"
   },
   {
    "duration": 4,
    "start_time": "2022-01-09T18:39:08.298Z"
   },
   {
    "duration": 17,
    "start_time": "2022-01-09T18:39:08.304Z"
   },
   {
    "duration": 3523,
    "start_time": "2022-01-09T18:39:08.323Z"
   },
   {
    "duration": 11,
    "start_time": "2022-01-09T18:39:11.849Z"
   },
   {
    "duration": 16,
    "start_time": "2022-01-09T18:39:11.862Z"
   },
   {
    "duration": 95,
    "start_time": "2022-01-09T18:39:11.880Z"
   },
   {
    "duration": 49,
    "start_time": "2022-01-09T18:39:11.978Z"
   },
   {
    "duration": 27,
    "start_time": "2022-01-09T18:39:12.032Z"
   },
   {
    "duration": 27,
    "start_time": "2022-01-09T18:39:12.062Z"
   },
   {
    "duration": 20,
    "start_time": "2022-01-09T18:39:12.118Z"
   },
   {
    "duration": 33,
    "start_time": "2022-01-09T18:39:12.140Z"
   },
   {
    "duration": 4,
    "start_time": "2022-01-09T18:39:21.151Z"
   },
   {
    "duration": 79,
    "start_time": "2022-01-09T18:39:21.873Z"
   },
   {
    "duration": 16,
    "start_time": "2022-01-09T18:39:24.307Z"
   },
   {
    "duration": 7,
    "start_time": "2022-01-09T18:39:30.073Z"
   },
   {
    "duration": 16,
    "start_time": "2022-01-09T18:39:33.955Z"
   },
   {
    "duration": 12,
    "start_time": "2022-01-09T18:39:35.318Z"
   },
   {
    "duration": 47,
    "start_time": "2022-01-09T18:39:38.078Z"
   },
   {
    "duration": 11,
    "start_time": "2022-01-09T18:39:44.961Z"
   },
   {
    "duration": 19,
    "start_time": "2022-01-09T18:39:45.931Z"
   },
   {
    "duration": 28,
    "start_time": "2022-01-09T18:39:49.618Z"
   },
   {
    "duration": 14,
    "start_time": "2022-01-09T18:39:50.327Z"
   },
   {
    "duration": 16,
    "start_time": "2022-01-09T18:39:52.759Z"
   },
   {
    "duration": 11,
    "start_time": "2022-01-09T18:39:54.376Z"
   },
   {
    "duration": 9,
    "start_time": "2022-01-09T18:39:55.845Z"
   },
   {
    "duration": 10,
    "start_time": "2022-01-09T18:39:56.664Z"
   },
   {
    "duration": 8,
    "start_time": "2022-01-09T18:39:58.418Z"
   },
   {
    "duration": 7,
    "start_time": "2022-01-09T18:40:00.512Z"
   },
   {
    "duration": 8,
    "start_time": "2022-01-09T18:40:01.876Z"
   },
   {
    "duration": 6,
    "start_time": "2022-01-09T18:40:03.639Z"
   },
   {
    "duration": 8,
    "start_time": "2022-01-09T18:40:05.195Z"
   },
   {
    "duration": 6,
    "start_time": "2022-01-09T18:40:06.467Z"
   },
   {
    "duration": 10,
    "start_time": "2022-01-09T18:40:13.053Z"
   },
   {
    "duration": 24,
    "start_time": "2022-01-09T18:40:16.720Z"
   },
   {
    "duration": 49,
    "start_time": "2022-01-09T18:40:18.035Z"
   },
   {
    "duration": 41,
    "start_time": "2022-01-09T18:40:20.116Z"
   },
   {
    "duration": 15,
    "start_time": "2022-01-09T18:40:24.026Z"
   },
   {
    "duration": 932,
    "start_time": "2022-01-09T18:40:25.548Z"
   },
   {
    "duration": 4,
    "start_time": "2022-01-09T18:40:27.341Z"
   },
   {
    "duration": 4,
    "start_time": "2022-01-09T18:40:29.057Z"
   },
   {
    "duration": 3559,
    "start_time": "2022-01-09T18:40:30.531Z"
   },
   {
    "duration": 26,
    "start_time": "2022-01-09T18:40:34.093Z"
   },
   {
    "duration": 5,
    "start_time": "2022-01-09T18:40:45.801Z"
   },
   {
    "duration": 68,
    "start_time": "2022-01-09T18:40:46.820Z"
   },
   {
    "duration": 26,
    "start_time": "2022-01-09T18:40:54.255Z"
   },
   {
    "duration": 26,
    "start_time": "2022-01-09T18:40:59.427Z"
   },
   {
    "duration": 33,
    "start_time": "2022-01-09T18:41:04.056Z"
   },
   {
    "duration": 21,
    "start_time": "2022-01-09T18:41:08.823Z"
   },
   {
    "duration": 29,
    "start_time": "2022-01-09T18:41:22.675Z"
   },
   {
    "duration": 102,
    "start_time": "2022-01-11T06:49:46.981Z"
   }
  ],
  "kernelspec": {
   "display_name": "Python 3 (ipykernel)",
   "language": "python",
   "name": "python3"
  },
  "language_info": {
   "codemirror_mode": {
    "name": "ipython",
    "version": 3
   },
   "file_extension": ".py",
   "mimetype": "text/x-python",
   "name": "python",
   "nbconvert_exporter": "python",
   "pygments_lexer": "ipython3",
   "version": "3.9.7"
  },
  "toc": {
   "base_numbering": 1,
   "nav_menu": {},
   "number_sections": true,
   "sideBar": true,
   "skip_h1_title": true,
   "title_cell": "Table of Contents",
   "title_sidebar": "Contents",
   "toc_cell": false,
   "toc_position": {},
   "toc_section_display": true,
   "toc_window_display": false
  }
 },
 "nbformat": 4,
 "nbformat_minor": 2
}
