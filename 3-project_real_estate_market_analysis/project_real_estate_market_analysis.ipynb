{
 "cells": [
  {
   "cell_type": "markdown",
   "metadata": {
    "toc": true
   },
   "source": [
    "<h1>Содержание<span class=\"tocSkip\"></span></h1>\n",
    "<div class=\"toc\"><ul class=\"toc-item\"><li><span><a href=\"#Изучение-данных-из-файла\" data-toc-modified-id=\"Изучение-данных-из-файла-1\"><span class=\"toc-item-num\">1&nbsp;&nbsp;</span>Изучение данных из файла</a></span><ul class=\"toc-item\"><li><span><a href=\"#Вывод\" data-toc-modified-id=\"Вывод-1.1\"><span class=\"toc-item-num\">1.1&nbsp;&nbsp;</span>Вывод</a></span></li></ul></li><li><span><a href=\"#Предобработка-данных\" data-toc-modified-id=\"Предобработка-данных-2\"><span class=\"toc-item-num\">2&nbsp;&nbsp;</span>Предобработка данных</a></span><ul class=\"toc-item\"><li><span><a href=\"#Вывод\" data-toc-modified-id=\"Вывод-2.1\"><span class=\"toc-item-num\">2.1&nbsp;&nbsp;</span>Вывод</a></span></li></ul></li><li><span><a href=\"#Расчёты-и-добавление-результатов-в-таблицу\" data-toc-modified-id=\"Расчёты-и-добавление-результатов-в-таблицу-3\"><span class=\"toc-item-num\">3&nbsp;&nbsp;</span>Расчёты и добавление результатов в таблицу</a></span></li><li><span><a href=\"#Исследовательский-анализ-данных\" data-toc-modified-id=\"Исследовательский-анализ-данных-4\"><span class=\"toc-item-num\">4&nbsp;&nbsp;</span>Исследовательский анализ данных</a></span><ul class=\"toc-item\"><li><span><a href=\"#Изучение-параметров-квартиры\" data-toc-modified-id=\"Изучение-параметров-квартиры-4.1\"><span class=\"toc-item-num\">4.1&nbsp;&nbsp;</span>Изучение параметров квартиры</a></span></li><li><span><a href=\"#Изучение-времени-продажи-квартиры\" data-toc-modified-id=\"Изучение-времени-продажи-квартиры-4.2\"><span class=\"toc-item-num\">4.2&nbsp;&nbsp;</span>Изучение времени продажи квартиры</a></span></li><li><span><a href=\"#Обработка-редких-и-выбивающихся-значений\" data-toc-modified-id=\"Обработка-редких-и-выбивающихся-значений-4.3\"><span class=\"toc-item-num\">4.3&nbsp;&nbsp;</span>Обработка редких и выбивающихся значений</a></span></li><li><span><a href=\"#Факторы,-влияющие-на-стоимость-квартиры\" data-toc-modified-id=\"Факторы,-влияющие-на-стоимость-квартиры-4.4\"><span class=\"toc-item-num\">4.4&nbsp;&nbsp;</span>Факторы, влияющие на стоимость квартиры</a></span></li><li><span><a href=\"#Определение-10-населённых-пунктов-с-наибольшим-числом-объявлений\" data-toc-modified-id=\"Определение-10-населённых-пунктов-с-наибольшим-числом-объявлений-4.5\"><span class=\"toc-item-num\">4.5&nbsp;&nbsp;</span>Определение 10 населённых пунктов с наибольшим числом объявлений</a></span></li><li><span><a href=\"#Изучение-предложения-квартир-в-Санкт-Петербурге\" data-toc-modified-id=\"Изучение-предложения-квартир-в-Санкт-Петербурге-4.6\"><span class=\"toc-item-num\">4.6&nbsp;&nbsp;</span>Изучение предложения квартир в Санкт-Петербурге</a></span></li><li><span><a href=\"#Изучение-сегмента-квартир-в-центре-Санкт-Петербурга\" data-toc-modified-id=\"Изучение-сегмента-квартир-в-центре-Санкт-Петербурга-4.7\"><span class=\"toc-item-num\">4.7&nbsp;&nbsp;</span>Изучение сегмента квартир в центре Санкт-Петербурга</a></span></li></ul></li><li><span><a href=\"#Общий-вывод\" data-toc-modified-id=\"Общий-вывод-5\"><span class=\"toc-item-num\">5&nbsp;&nbsp;</span>Общий вывод</a></span></li><li><span><a href=\"#Чек-лист-готовности-проекта\" data-toc-modified-id=\"Чек-лист-готовности-проекта-6\"><span class=\"toc-item-num\">6&nbsp;&nbsp;</span>Чек-лист готовности проекта</a></span></li></ul></div>"
   ]
  },
  {
   "cell_type": "markdown",
   "metadata": {},
   "source": [
    "# Исследование объявлений о продаже квартир\n",
    "\n",
    "Нам предоставлены данные сервиса Яндекс.Недвижимость — архив объявлений о продаже квартир в Санкт-Петербурге и соседних населённых пунктах за несколько лет. Нужно научиться определять рыночную стоимость объектов недвижимости. Наша задача — установить параметры, что в будущем позволит построить автоматизированную систему: она отследит аномалии и мошенническую деятельность. \n",
    "\n",
    "По каждой квартире на продажу доступны два вида данных. Первые вписаны пользователем, вторые получены автоматически на основе картографических данных. Например, расстояние до центра, аэропорта, ближайшего парка и водоёма. "
   ]
  },
  {
   "cell_type": "markdown",
   "metadata": {},
   "source": [
    "## Изучение данных из файла"
   ]
  },
  {
   "cell_type": "code",
   "execution_count": 124,
   "metadata": {},
   "outputs": [],
   "source": [
    "import pandas as pd\n",
    "import numpy as np\n",
    "import matplotlib.pyplot as plt\n",
    "import seaborn as sns"
   ]
  },
  {
   "cell_type": "code",
   "execution_count": 125,
   "metadata": {
    "scrolled": false
   },
   "outputs": [
    {
     "data": {
      "text/html": [
       "<div>\n",
       "<style scoped>\n",
       "    .dataframe tbody tr th:only-of-type {\n",
       "        vertical-align: middle;\n",
       "    }\n",
       "\n",
       "    .dataframe tbody tr th {\n",
       "        vertical-align: top;\n",
       "    }\n",
       "\n",
       "    .dataframe thead th {\n",
       "        text-align: right;\n",
       "    }\n",
       "</style>\n",
       "<table border=\"1\" class=\"dataframe\">\n",
       "  <thead>\n",
       "    <tr style=\"text-align: right;\">\n",
       "      <th></th>\n",
       "      <th>total_images</th>\n",
       "      <th>last_price</th>\n",
       "      <th>total_area</th>\n",
       "      <th>first_day_exposition</th>\n",
       "      <th>rooms</th>\n",
       "      <th>ceiling_height</th>\n",
       "      <th>floors_total</th>\n",
       "      <th>living_area</th>\n",
       "      <th>floor</th>\n",
       "      <th>is_apartment</th>\n",
       "      <th>...</th>\n",
       "      <th>kitchen_area</th>\n",
       "      <th>balcony</th>\n",
       "      <th>locality_name</th>\n",
       "      <th>airports_nearest</th>\n",
       "      <th>cityCenters_nearest</th>\n",
       "      <th>parks_around3000</th>\n",
       "      <th>parks_nearest</th>\n",
       "      <th>ponds_around3000</th>\n",
       "      <th>ponds_nearest</th>\n",
       "      <th>days_exposition</th>\n",
       "    </tr>\n",
       "  </thead>\n",
       "  <tbody>\n",
       "    <tr>\n",
       "      <td>0</td>\n",
       "      <td>20</td>\n",
       "      <td>13000000.0</td>\n",
       "      <td>108.00</td>\n",
       "      <td>2019-03-07T00:00:00</td>\n",
       "      <td>3</td>\n",
       "      <td>2.70</td>\n",
       "      <td>16.0</td>\n",
       "      <td>51.00</td>\n",
       "      <td>8</td>\n",
       "      <td>NaN</td>\n",
       "      <td>...</td>\n",
       "      <td>25.00</td>\n",
       "      <td>NaN</td>\n",
       "      <td>Санкт-Петербург</td>\n",
       "      <td>18863.0</td>\n",
       "      <td>16028.0</td>\n",
       "      <td>1.0</td>\n",
       "      <td>482.0</td>\n",
       "      <td>2.0</td>\n",
       "      <td>755.0</td>\n",
       "      <td>NaN</td>\n",
       "    </tr>\n",
       "    <tr>\n",
       "      <td>1</td>\n",
       "      <td>7</td>\n",
       "      <td>3350000.0</td>\n",
       "      <td>40.40</td>\n",
       "      <td>2018-12-04T00:00:00</td>\n",
       "      <td>1</td>\n",
       "      <td>NaN</td>\n",
       "      <td>11.0</td>\n",
       "      <td>18.60</td>\n",
       "      <td>1</td>\n",
       "      <td>NaN</td>\n",
       "      <td>...</td>\n",
       "      <td>11.00</td>\n",
       "      <td>2.0</td>\n",
       "      <td>посёлок Шушары</td>\n",
       "      <td>12817.0</td>\n",
       "      <td>18603.0</td>\n",
       "      <td>0.0</td>\n",
       "      <td>NaN</td>\n",
       "      <td>0.0</td>\n",
       "      <td>NaN</td>\n",
       "      <td>81.0</td>\n",
       "    </tr>\n",
       "    <tr>\n",
       "      <td>2</td>\n",
       "      <td>10</td>\n",
       "      <td>5196000.0</td>\n",
       "      <td>56.00</td>\n",
       "      <td>2015-08-20T00:00:00</td>\n",
       "      <td>2</td>\n",
       "      <td>NaN</td>\n",
       "      <td>5.0</td>\n",
       "      <td>34.30</td>\n",
       "      <td>4</td>\n",
       "      <td>NaN</td>\n",
       "      <td>...</td>\n",
       "      <td>8.30</td>\n",
       "      <td>0.0</td>\n",
       "      <td>Санкт-Петербург</td>\n",
       "      <td>21741.0</td>\n",
       "      <td>13933.0</td>\n",
       "      <td>1.0</td>\n",
       "      <td>90.0</td>\n",
       "      <td>2.0</td>\n",
       "      <td>574.0</td>\n",
       "      <td>558.0</td>\n",
       "    </tr>\n",
       "    <tr>\n",
       "      <td>3</td>\n",
       "      <td>0</td>\n",
       "      <td>64900000.0</td>\n",
       "      <td>159.00</td>\n",
       "      <td>2015-07-24T00:00:00</td>\n",
       "      <td>3</td>\n",
       "      <td>NaN</td>\n",
       "      <td>14.0</td>\n",
       "      <td>NaN</td>\n",
       "      <td>9</td>\n",
       "      <td>NaN</td>\n",
       "      <td>...</td>\n",
       "      <td>NaN</td>\n",
       "      <td>0.0</td>\n",
       "      <td>Санкт-Петербург</td>\n",
       "      <td>28098.0</td>\n",
       "      <td>6800.0</td>\n",
       "      <td>2.0</td>\n",
       "      <td>84.0</td>\n",
       "      <td>3.0</td>\n",
       "      <td>234.0</td>\n",
       "      <td>424.0</td>\n",
       "    </tr>\n",
       "    <tr>\n",
       "      <td>4</td>\n",
       "      <td>2</td>\n",
       "      <td>10000000.0</td>\n",
       "      <td>100.00</td>\n",
       "      <td>2018-06-19T00:00:00</td>\n",
       "      <td>2</td>\n",
       "      <td>3.03</td>\n",
       "      <td>14.0</td>\n",
       "      <td>32.00</td>\n",
       "      <td>13</td>\n",
       "      <td>NaN</td>\n",
       "      <td>...</td>\n",
       "      <td>41.00</td>\n",
       "      <td>NaN</td>\n",
       "      <td>Санкт-Петербург</td>\n",
       "      <td>31856.0</td>\n",
       "      <td>8098.0</td>\n",
       "      <td>2.0</td>\n",
       "      <td>112.0</td>\n",
       "      <td>1.0</td>\n",
       "      <td>48.0</td>\n",
       "      <td>121.0</td>\n",
       "    </tr>\n",
       "    <tr>\n",
       "      <td>5</td>\n",
       "      <td>10</td>\n",
       "      <td>2890000.0</td>\n",
       "      <td>30.40</td>\n",
       "      <td>2018-09-10T00:00:00</td>\n",
       "      <td>1</td>\n",
       "      <td>NaN</td>\n",
       "      <td>12.0</td>\n",
       "      <td>14.40</td>\n",
       "      <td>5</td>\n",
       "      <td>NaN</td>\n",
       "      <td>...</td>\n",
       "      <td>9.10</td>\n",
       "      <td>NaN</td>\n",
       "      <td>городской посёлок Янино-1</td>\n",
       "      <td>NaN</td>\n",
       "      <td>NaN</td>\n",
       "      <td>NaN</td>\n",
       "      <td>NaN</td>\n",
       "      <td>NaN</td>\n",
       "      <td>NaN</td>\n",
       "      <td>55.0</td>\n",
       "    </tr>\n",
       "    <tr>\n",
       "      <td>6</td>\n",
       "      <td>6</td>\n",
       "      <td>3700000.0</td>\n",
       "      <td>37.30</td>\n",
       "      <td>2017-11-02T00:00:00</td>\n",
       "      <td>1</td>\n",
       "      <td>NaN</td>\n",
       "      <td>26.0</td>\n",
       "      <td>10.60</td>\n",
       "      <td>6</td>\n",
       "      <td>NaN</td>\n",
       "      <td>...</td>\n",
       "      <td>14.40</td>\n",
       "      <td>1.0</td>\n",
       "      <td>посёлок Парголово</td>\n",
       "      <td>52996.0</td>\n",
       "      <td>19143.0</td>\n",
       "      <td>0.0</td>\n",
       "      <td>NaN</td>\n",
       "      <td>0.0</td>\n",
       "      <td>NaN</td>\n",
       "      <td>155.0</td>\n",
       "    </tr>\n",
       "    <tr>\n",
       "      <td>7</td>\n",
       "      <td>5</td>\n",
       "      <td>7915000.0</td>\n",
       "      <td>71.60</td>\n",
       "      <td>2019-04-18T00:00:00</td>\n",
       "      <td>2</td>\n",
       "      <td>NaN</td>\n",
       "      <td>24.0</td>\n",
       "      <td>NaN</td>\n",
       "      <td>22</td>\n",
       "      <td>NaN</td>\n",
       "      <td>...</td>\n",
       "      <td>18.90</td>\n",
       "      <td>2.0</td>\n",
       "      <td>Санкт-Петербург</td>\n",
       "      <td>23982.0</td>\n",
       "      <td>11634.0</td>\n",
       "      <td>0.0</td>\n",
       "      <td>NaN</td>\n",
       "      <td>0.0</td>\n",
       "      <td>NaN</td>\n",
       "      <td>NaN</td>\n",
       "    </tr>\n",
       "    <tr>\n",
       "      <td>8</td>\n",
       "      <td>20</td>\n",
       "      <td>2900000.0</td>\n",
       "      <td>33.16</td>\n",
       "      <td>2018-05-23T00:00:00</td>\n",
       "      <td>1</td>\n",
       "      <td>NaN</td>\n",
       "      <td>27.0</td>\n",
       "      <td>15.43</td>\n",
       "      <td>26</td>\n",
       "      <td>NaN</td>\n",
       "      <td>...</td>\n",
       "      <td>8.81</td>\n",
       "      <td>NaN</td>\n",
       "      <td>посёлок Мурино</td>\n",
       "      <td>NaN</td>\n",
       "      <td>NaN</td>\n",
       "      <td>NaN</td>\n",
       "      <td>NaN</td>\n",
       "      <td>NaN</td>\n",
       "      <td>NaN</td>\n",
       "      <td>189.0</td>\n",
       "    </tr>\n",
       "    <tr>\n",
       "      <td>9</td>\n",
       "      <td>18</td>\n",
       "      <td>5400000.0</td>\n",
       "      <td>61.00</td>\n",
       "      <td>2017-02-26T00:00:00</td>\n",
       "      <td>3</td>\n",
       "      <td>2.50</td>\n",
       "      <td>9.0</td>\n",
       "      <td>43.60</td>\n",
       "      <td>7</td>\n",
       "      <td>NaN</td>\n",
       "      <td>...</td>\n",
       "      <td>6.50</td>\n",
       "      <td>2.0</td>\n",
       "      <td>Санкт-Петербург</td>\n",
       "      <td>50898.0</td>\n",
       "      <td>15008.0</td>\n",
       "      <td>0.0</td>\n",
       "      <td>NaN</td>\n",
       "      <td>0.0</td>\n",
       "      <td>NaN</td>\n",
       "      <td>289.0</td>\n",
       "    </tr>\n",
       "  </tbody>\n",
       "</table>\n",
       "<p>10 rows × 22 columns</p>\n",
       "</div>"
      ],
      "text/plain": [
       "   total_images  last_price  total_area first_day_exposition  rooms  \\\n",
       "0            20  13000000.0      108.00  2019-03-07T00:00:00      3   \n",
       "1             7   3350000.0       40.40  2018-12-04T00:00:00      1   \n",
       "2            10   5196000.0       56.00  2015-08-20T00:00:00      2   \n",
       "3             0  64900000.0      159.00  2015-07-24T00:00:00      3   \n",
       "4             2  10000000.0      100.00  2018-06-19T00:00:00      2   \n",
       "5            10   2890000.0       30.40  2018-09-10T00:00:00      1   \n",
       "6             6   3700000.0       37.30  2017-11-02T00:00:00      1   \n",
       "7             5   7915000.0       71.60  2019-04-18T00:00:00      2   \n",
       "8            20   2900000.0       33.16  2018-05-23T00:00:00      1   \n",
       "9            18   5400000.0       61.00  2017-02-26T00:00:00      3   \n",
       "\n",
       "   ceiling_height  floors_total  living_area  floor is_apartment  ...  \\\n",
       "0            2.70          16.0        51.00      8          NaN  ...   \n",
       "1             NaN          11.0        18.60      1          NaN  ...   \n",
       "2             NaN           5.0        34.30      4          NaN  ...   \n",
       "3             NaN          14.0          NaN      9          NaN  ...   \n",
       "4            3.03          14.0        32.00     13          NaN  ...   \n",
       "5             NaN          12.0        14.40      5          NaN  ...   \n",
       "6             NaN          26.0        10.60      6          NaN  ...   \n",
       "7             NaN          24.0          NaN     22          NaN  ...   \n",
       "8             NaN          27.0        15.43     26          NaN  ...   \n",
       "9            2.50           9.0        43.60      7          NaN  ...   \n",
       "\n",
       "   kitchen_area  balcony              locality_name  airports_nearest  \\\n",
       "0         25.00      NaN            Санкт-Петербург           18863.0   \n",
       "1         11.00      2.0             посёлок Шушары           12817.0   \n",
       "2          8.30      0.0            Санкт-Петербург           21741.0   \n",
       "3           NaN      0.0            Санкт-Петербург           28098.0   \n",
       "4         41.00      NaN            Санкт-Петербург           31856.0   \n",
       "5          9.10      NaN  городской посёлок Янино-1               NaN   \n",
       "6         14.40      1.0          посёлок Парголово           52996.0   \n",
       "7         18.90      2.0            Санкт-Петербург           23982.0   \n",
       "8          8.81      NaN             посёлок Мурино               NaN   \n",
       "9          6.50      2.0            Санкт-Петербург           50898.0   \n",
       "\n",
       "  cityCenters_nearest  parks_around3000  parks_nearest  ponds_around3000  \\\n",
       "0             16028.0               1.0          482.0               2.0   \n",
       "1             18603.0               0.0            NaN               0.0   \n",
       "2             13933.0               1.0           90.0               2.0   \n",
       "3              6800.0               2.0           84.0               3.0   \n",
       "4              8098.0               2.0          112.0               1.0   \n",
       "5                 NaN               NaN            NaN               NaN   \n",
       "6             19143.0               0.0            NaN               0.0   \n",
       "7             11634.0               0.0            NaN               0.0   \n",
       "8                 NaN               NaN            NaN               NaN   \n",
       "9             15008.0               0.0            NaN               0.0   \n",
       "\n",
       "   ponds_nearest  days_exposition  \n",
       "0          755.0              NaN  \n",
       "1            NaN             81.0  \n",
       "2          574.0            558.0  \n",
       "3          234.0            424.0  \n",
       "4           48.0            121.0  \n",
       "5            NaN             55.0  \n",
       "6            NaN            155.0  \n",
       "7            NaN              NaN  \n",
       "8            NaN            189.0  \n",
       "9            NaN            289.0  \n",
       "\n",
       "[10 rows x 22 columns]"
      ]
     },
     "execution_count": 125,
     "metadata": {},
     "output_type": "execute_result"
    }
   ],
   "source": [
    "df = pd.read_csv('/datasets/real_estate_data.csv', sep='\\t')\n",
    "df.head(10)"
   ]
  },
  {
   "cell_type": "code",
   "execution_count": 126,
   "metadata": {},
   "outputs": [
    {
     "name": "stdout",
     "output_type": "stream",
     "text": [
      "<class 'pandas.core.frame.DataFrame'>\n",
      "RangeIndex: 23699 entries, 0 to 23698\n",
      "Data columns (total 22 columns):\n",
      "total_images            23699 non-null int64\n",
      "last_price              23699 non-null float64\n",
      "total_area              23699 non-null float64\n",
      "first_day_exposition    23699 non-null object\n",
      "rooms                   23699 non-null int64\n",
      "ceiling_height          14504 non-null float64\n",
      "floors_total            23613 non-null float64\n",
      "living_area             21796 non-null float64\n",
      "floor                   23699 non-null int64\n",
      "is_apartment            2775 non-null object\n",
      "studio                  23699 non-null bool\n",
      "open_plan               23699 non-null bool\n",
      "kitchen_area            21421 non-null float64\n",
      "balcony                 12180 non-null float64\n",
      "locality_name           23650 non-null object\n",
      "airports_nearest        18157 non-null float64\n",
      "cityCenters_nearest     18180 non-null float64\n",
      "parks_around3000        18181 non-null float64\n",
      "parks_nearest           8079 non-null float64\n",
      "ponds_around3000        18181 non-null float64\n",
      "ponds_nearest           9110 non-null float64\n",
      "days_exposition         20518 non-null float64\n",
      "dtypes: bool(2), float64(14), int64(3), object(3)\n",
      "memory usage: 3.7+ MB\n"
     ]
    }
   ],
   "source": [
    "df.info()"
   ]
  },
  {
   "cell_type": "code",
   "execution_count": 127,
   "metadata": {},
   "outputs": [
    {
     "data": {
      "text/html": [
       "<div>\n",
       "<style scoped>\n",
       "    .dataframe tbody tr th:only-of-type {\n",
       "        vertical-align: middle;\n",
       "    }\n",
       "\n",
       "    .dataframe tbody tr th {\n",
       "        vertical-align: top;\n",
       "    }\n",
       "\n",
       "    .dataframe thead th {\n",
       "        text-align: right;\n",
       "    }\n",
       "</style>\n",
       "<table border=\"1\" class=\"dataframe\">\n",
       "  <thead>\n",
       "    <tr style=\"text-align: right;\">\n",
       "      <th></th>\n",
       "      <th>count</th>\n",
       "      <th>mean</th>\n",
       "      <th>std</th>\n",
       "      <th>min</th>\n",
       "      <th>25%</th>\n",
       "      <th>50%</th>\n",
       "      <th>75%</th>\n",
       "      <th>max</th>\n",
       "    </tr>\n",
       "  </thead>\n",
       "  <tbody>\n",
       "    <tr>\n",
       "      <td>total_images</td>\n",
       "      <td>23699.0</td>\n",
       "      <td>9.858475e+00</td>\n",
       "      <td>5.682529e+00</td>\n",
       "      <td>0.0</td>\n",
       "      <td>6.00</td>\n",
       "      <td>9.00</td>\n",
       "      <td>14.0</td>\n",
       "      <td>50.0</td>\n",
       "    </tr>\n",
       "    <tr>\n",
       "      <td>last_price</td>\n",
       "      <td>23699.0</td>\n",
       "      <td>6.541549e+06</td>\n",
       "      <td>1.088701e+07</td>\n",
       "      <td>12190.0</td>\n",
       "      <td>3400000.00</td>\n",
       "      <td>4650000.00</td>\n",
       "      <td>6800000.0</td>\n",
       "      <td>763000000.0</td>\n",
       "    </tr>\n",
       "    <tr>\n",
       "      <td>total_area</td>\n",
       "      <td>23699.0</td>\n",
       "      <td>6.034865e+01</td>\n",
       "      <td>3.565408e+01</td>\n",
       "      <td>12.0</td>\n",
       "      <td>40.00</td>\n",
       "      <td>52.00</td>\n",
       "      <td>69.9</td>\n",
       "      <td>900.0</td>\n",
       "    </tr>\n",
       "    <tr>\n",
       "      <td>rooms</td>\n",
       "      <td>23699.0</td>\n",
       "      <td>2.070636e+00</td>\n",
       "      <td>1.078405e+00</td>\n",
       "      <td>0.0</td>\n",
       "      <td>1.00</td>\n",
       "      <td>2.00</td>\n",
       "      <td>3.0</td>\n",
       "      <td>19.0</td>\n",
       "    </tr>\n",
       "    <tr>\n",
       "      <td>ceiling_height</td>\n",
       "      <td>14504.0</td>\n",
       "      <td>2.771499e+00</td>\n",
       "      <td>1.261056e+00</td>\n",
       "      <td>1.0</td>\n",
       "      <td>2.52</td>\n",
       "      <td>2.65</td>\n",
       "      <td>2.8</td>\n",
       "      <td>100.0</td>\n",
       "    </tr>\n",
       "    <tr>\n",
       "      <td>floors_total</td>\n",
       "      <td>23613.0</td>\n",
       "      <td>1.067382e+01</td>\n",
       "      <td>6.597173e+00</td>\n",
       "      <td>1.0</td>\n",
       "      <td>5.00</td>\n",
       "      <td>9.00</td>\n",
       "      <td>16.0</td>\n",
       "      <td>60.0</td>\n",
       "    </tr>\n",
       "    <tr>\n",
       "      <td>living_area</td>\n",
       "      <td>21796.0</td>\n",
       "      <td>3.445785e+01</td>\n",
       "      <td>2.203045e+01</td>\n",
       "      <td>2.0</td>\n",
       "      <td>18.60</td>\n",
       "      <td>30.00</td>\n",
       "      <td>42.3</td>\n",
       "      <td>409.7</td>\n",
       "    </tr>\n",
       "    <tr>\n",
       "      <td>floor</td>\n",
       "      <td>23699.0</td>\n",
       "      <td>5.892358e+00</td>\n",
       "      <td>4.885249e+00</td>\n",
       "      <td>1.0</td>\n",
       "      <td>2.00</td>\n",
       "      <td>4.00</td>\n",
       "      <td>8.0</td>\n",
       "      <td>33.0</td>\n",
       "    </tr>\n",
       "    <tr>\n",
       "      <td>kitchen_area</td>\n",
       "      <td>21421.0</td>\n",
       "      <td>1.056981e+01</td>\n",
       "      <td>5.905438e+00</td>\n",
       "      <td>1.3</td>\n",
       "      <td>7.00</td>\n",
       "      <td>9.10</td>\n",
       "      <td>12.0</td>\n",
       "      <td>112.0</td>\n",
       "    </tr>\n",
       "    <tr>\n",
       "      <td>balcony</td>\n",
       "      <td>12180.0</td>\n",
       "      <td>1.150082e+00</td>\n",
       "      <td>1.071300e+00</td>\n",
       "      <td>0.0</td>\n",
       "      <td>0.00</td>\n",
       "      <td>1.00</td>\n",
       "      <td>2.0</td>\n",
       "      <td>5.0</td>\n",
       "    </tr>\n",
       "    <tr>\n",
       "      <td>airports_nearest</td>\n",
       "      <td>18157.0</td>\n",
       "      <td>2.879367e+04</td>\n",
       "      <td>1.263088e+04</td>\n",
       "      <td>0.0</td>\n",
       "      <td>18585.00</td>\n",
       "      <td>26726.00</td>\n",
       "      <td>37273.0</td>\n",
       "      <td>84869.0</td>\n",
       "    </tr>\n",
       "    <tr>\n",
       "      <td>cityCenters_nearest</td>\n",
       "      <td>18180.0</td>\n",
       "      <td>1.419128e+04</td>\n",
       "      <td>8.608386e+03</td>\n",
       "      <td>181.0</td>\n",
       "      <td>9238.00</td>\n",
       "      <td>13098.50</td>\n",
       "      <td>16293.0</td>\n",
       "      <td>65968.0</td>\n",
       "    </tr>\n",
       "    <tr>\n",
       "      <td>parks_around3000</td>\n",
       "      <td>18181.0</td>\n",
       "      <td>6.114075e-01</td>\n",
       "      <td>8.020736e-01</td>\n",
       "      <td>0.0</td>\n",
       "      <td>0.00</td>\n",
       "      <td>0.00</td>\n",
       "      <td>1.0</td>\n",
       "      <td>3.0</td>\n",
       "    </tr>\n",
       "    <tr>\n",
       "      <td>parks_nearest</td>\n",
       "      <td>8079.0</td>\n",
       "      <td>4.908046e+02</td>\n",
       "      <td>3.423180e+02</td>\n",
       "      <td>1.0</td>\n",
       "      <td>288.00</td>\n",
       "      <td>455.00</td>\n",
       "      <td>612.0</td>\n",
       "      <td>3190.0</td>\n",
       "    </tr>\n",
       "    <tr>\n",
       "      <td>ponds_around3000</td>\n",
       "      <td>18181.0</td>\n",
       "      <td>7.702547e-01</td>\n",
       "      <td>9.383456e-01</td>\n",
       "      <td>0.0</td>\n",
       "      <td>0.00</td>\n",
       "      <td>1.00</td>\n",
       "      <td>1.0</td>\n",
       "      <td>3.0</td>\n",
       "    </tr>\n",
       "    <tr>\n",
       "      <td>ponds_nearest</td>\n",
       "      <td>9110.0</td>\n",
       "      <td>5.179809e+02</td>\n",
       "      <td>2.777206e+02</td>\n",
       "      <td>13.0</td>\n",
       "      <td>294.00</td>\n",
       "      <td>502.00</td>\n",
       "      <td>729.0</td>\n",
       "      <td>1344.0</td>\n",
       "    </tr>\n",
       "    <tr>\n",
       "      <td>days_exposition</td>\n",
       "      <td>20518.0</td>\n",
       "      <td>1.808886e+02</td>\n",
       "      <td>2.197280e+02</td>\n",
       "      <td>1.0</td>\n",
       "      <td>45.00</td>\n",
       "      <td>95.00</td>\n",
       "      <td>232.0</td>\n",
       "      <td>1580.0</td>\n",
       "    </tr>\n",
       "  </tbody>\n",
       "</table>\n",
       "</div>"
      ],
      "text/plain": [
       "                       count          mean           std      min         25%  \\\n",
       "total_images         23699.0  9.858475e+00  5.682529e+00      0.0        6.00   \n",
       "last_price           23699.0  6.541549e+06  1.088701e+07  12190.0  3400000.00   \n",
       "total_area           23699.0  6.034865e+01  3.565408e+01     12.0       40.00   \n",
       "rooms                23699.0  2.070636e+00  1.078405e+00      0.0        1.00   \n",
       "ceiling_height       14504.0  2.771499e+00  1.261056e+00      1.0        2.52   \n",
       "floors_total         23613.0  1.067382e+01  6.597173e+00      1.0        5.00   \n",
       "living_area          21796.0  3.445785e+01  2.203045e+01      2.0       18.60   \n",
       "floor                23699.0  5.892358e+00  4.885249e+00      1.0        2.00   \n",
       "kitchen_area         21421.0  1.056981e+01  5.905438e+00      1.3        7.00   \n",
       "balcony              12180.0  1.150082e+00  1.071300e+00      0.0        0.00   \n",
       "airports_nearest     18157.0  2.879367e+04  1.263088e+04      0.0    18585.00   \n",
       "cityCenters_nearest  18180.0  1.419128e+04  8.608386e+03    181.0     9238.00   \n",
       "parks_around3000     18181.0  6.114075e-01  8.020736e-01      0.0        0.00   \n",
       "parks_nearest         8079.0  4.908046e+02  3.423180e+02      1.0      288.00   \n",
       "ponds_around3000     18181.0  7.702547e-01  9.383456e-01      0.0        0.00   \n",
       "ponds_nearest         9110.0  5.179809e+02  2.777206e+02     13.0      294.00   \n",
       "days_exposition      20518.0  1.808886e+02  2.197280e+02      1.0       45.00   \n",
       "\n",
       "                            50%        75%          max  \n",
       "total_images               9.00       14.0         50.0  \n",
       "last_price           4650000.00  6800000.0  763000000.0  \n",
       "total_area                52.00       69.9        900.0  \n",
       "rooms                      2.00        3.0         19.0  \n",
       "ceiling_height             2.65        2.8        100.0  \n",
       "floors_total               9.00       16.0         60.0  \n",
       "living_area               30.00       42.3        409.7  \n",
       "floor                      4.00        8.0         33.0  \n",
       "kitchen_area               9.10       12.0        112.0  \n",
       "balcony                    1.00        2.0          5.0  \n",
       "airports_nearest       26726.00    37273.0      84869.0  \n",
       "cityCenters_nearest    13098.50    16293.0      65968.0  \n",
       "parks_around3000           0.00        1.0          3.0  \n",
       "parks_nearest            455.00      612.0       3190.0  \n",
       "ponds_around3000           1.00        1.0          3.0  \n",
       "ponds_nearest            502.00      729.0       1344.0  \n",
       "days_exposition           95.00      232.0       1580.0  "
      ]
     },
     "execution_count": 127,
     "metadata": {},
     "output_type": "execute_result"
    }
   ],
   "source": [
    "df.describe().T"
   ]
  },
  {
   "cell_type": "markdown",
   "metadata": {},
   "source": [
    "### Вывод"
   ]
  },
  {
   "cell_type": "markdown",
   "metadata": {},
   "source": [
    "После изучения таблицы, можно сделать следующие выводы:\n",
    "- Таблица состоит из 22 столбцов и 23699 строк;\n",
    "- Во многих столбцах имеются пропущенные значения. Необходимо установить возможные причины появления пропусков и устранить их;\n",
    "- Исходя из числовых характеристик таблицы, видно, что требуют обработки некорректные данные, к примеру: высота потолков минимум равняется 1, а максимум - 100;\n",
    "- В ряде столбцов необходимо изменить тип на целочисленный, к примеру: столбец 'last_price', т.к. точность до копеек не нужна;\n",
    "- Столбец с датой необходимо перевести в формат datetime;\n",
    "- Столбцы с информацией о расстояние до центра, аэропорта, ближайшего парка и водоёма были рассчитаны системой автоматически. Так как система использовала определенный радиус поиска, поэтому, если объекты не попадали в эту зону, возникали пропуски в ячейках. \n"
   ]
  },
  {
   "cell_type": "markdown",
   "metadata": {},
   "source": [
    "## Предобработка данных"
   ]
  },
  {
   "cell_type": "markdown",
   "metadata": {},
   "source": [
    "Первым делом, необходимо избавиться от тех столбцов, которые не понадобятся в дальнейшей работе над проектом. К тому же это позволит немного сократить объём занимаемой памяти."
   ]
  },
  {
   "cell_type": "code",
   "execution_count": 129,
   "metadata": {},
   "outputs": [],
   "source": [
    "df.drop(['total_images'], axis='columns', inplace=True)\n",
    "df.drop(['is_apartment'], axis='columns', inplace=True)\n",
    "df.drop(['studio'], axis='columns', inplace=True)\n",
    "df.drop(['open_plan'], axis='columns', inplace=True)"
   ]
  },
  {
   "cell_type": "markdown",
   "metadata": {},
   "source": [
    "***По порядку обработаем значения оставшихся столбцов.***"
   ]
  },
  {
   "cell_type": "markdown",
   "metadata": {},
   "source": [
    "Заменим пропущенные значения в столбцах, где можно применить логичную замену, т.е. записать 0 вместо пропуска. Для квартир где нет балкона или в радиусе 3 км нет парков и прудов, вместо пропуска назначим 0."
   ]
  },
  {
   "cell_type": "code",
   "execution_count": 130,
   "metadata": {},
   "outputs": [],
   "source": [
    "df['balcony'] = df['balcony'].fillna(0)\n",
    "df['parks_around3000'] = df['parks_around3000'].fillna(0)\n",
    "df['ponds_around3000'] = df['ponds_around3000'].fillna(0)"
   ]
  },
  {
   "cell_type": "markdown",
   "metadata": {},
   "source": [
    "***Отредактируем столбец 'last_price'.*** "
   ]
  },
  {
   "cell_type": "markdown",
   "metadata": {},
   "source": [
    "Проверим распределение цены"
   ]
  },
  {
   "cell_type": "code",
   "execution_count": 131,
   "metadata": {},
   "outputs": [
    {
     "data": {
      "image/png": "[encoded data removed]",
      "text/plain": [
       "<Figure size 1080x216 with 1 Axes>"
      ]
     },
     "metadata": {
      "needs_background": "light"
     },
     "output_type": "display_data"
    }
   ],
   "source": [
    "df.hist('last_price', bins=100, figsize=(15, 3));"
   ]
  },
  {
   "cell_type": "markdown",
   "metadata": {},
   "source": [
    "График не выглядит как нормальное распределение. Исходя из числовых характеристик столбца (min = 12190 и max = 763 000 000), проверим, что представляют из себя \"выбросы\". Рассмотрим сколько объявлений находится в диапазоне цены от 0 до 1 млн. и от 50 млн. до 800 млн."
   ]
  },
  {
   "cell_type": "code",
   "execution_count": 132,
   "metadata": {},
   "outputs": [
    {
     "data": {
      "image/png": "[encoded data removed]",
      "text/plain": [
       "<Figure size 1080x216 with 1 Axes>"
      ]
     },
     "metadata": {
      "needs_background": "light"
     },
     "output_type": "display_data"
    },
    {
     "data": {
      "image/png": "[encoded data removed]",
      "text/plain": [
       "<Figure size 1080x216 with 1 Axes>"
      ]
     },
     "metadata": {
      "needs_background": "light"
     },
     "output_type": "display_data"
    }
   ],
   "source": [
    "df.hist('last_price', bins=100, range=(0, 1000000), figsize=(15, 3))\n",
    "plt.show()\n",
    "df.hist('last_price', bins=100, range=(50000000, 800000000), figsize=(15, 3))\n",
    "plt.show()"
   ]
  },
  {
   "cell_type": "markdown",
   "metadata": {},
   "source": [
    "Видно, что есть очень дешевая и очень дорогая цена. По результатам построенных графиков сохраним в таблице срез данных по цене от 500 тыс. до 100 млн. Данный срез позволит получить более правдоподобные результаты в исследовании."
   ]
  },
  {
   "cell_type": "code",
   "execution_count": 133,
   "metadata": {},
   "outputs": [],
   "source": [
    "df = df.query('500000 <= last_price <= 100000000')"
   ]
  },
  {
   "cell_type": "markdown",
   "metadata": {},
   "source": [
    "***Проверим столбец с общей площадью.***"
   ]
  },
  {
   "cell_type": "code",
   "execution_count": 134,
   "metadata": {},
   "outputs": [
    {
     "name": "stdout",
     "output_type": "stream",
     "text": [
      "count    23648.000000\n",
      "mean        59.937419\n",
      "std         33.476014\n",
      "min         12.000000\n",
      "25%         40.000000\n",
      "50%         52.000000\n",
      "75%         69.600000\n",
      "max        590.000000\n",
      "Name: total_area, dtype: float64\n"
     ]
    },
    {
     "data": {
      "image/png": "[encoded data removed]",
      "text/plain": [
       "<Figure size 360x504 with 1 Axes>"
      ]
     },
     "metadata": {
      "needs_background": "light"
     },
     "output_type": "display_data"
    }
   ],
   "source": [
    "print(df.total_area.describe())\n",
    "df.boxplot('total_area', figsize=(5, 7));"
   ]
  },
  {
   "cell_type": "markdown",
   "metadata": {},
   "source": [
    "Данные в столбце с общей площадью выглядят корректными. Среднее и медианное значения разнятся не сильно. Помещений с большой площадью не так много, вероятно это коммуналки или общежития."
   ]
  },
  {
   "cell_type": "markdown",
   "metadata": {},
   "source": [
    "***Проверим столбец с количеством комнат.***"
   ]
  },
  {
   "cell_type": "code",
   "execution_count": 135,
   "metadata": {},
   "outputs": [
    {
     "data": {
      "text/plain": [
       "1     8039\n",
       "2     7933\n",
       "3     5810\n",
       "4     1171\n",
       "5      316\n",
       "0      197\n",
       "6      100\n",
       "7       54\n",
       "8       10\n",
       "9        8\n",
       "10       3\n",
       "14       2\n",
       "11       2\n",
       "15       1\n",
       "19       1\n",
       "16       1\n",
       "Name: rooms, dtype: int64"
      ]
     },
     "execution_count": 135,
     "metadata": {},
     "output_type": "execute_result"
    }
   ],
   "source": [
    "df.rooms.value_counts()"
   ]
  },
  {
   "cell_type": "markdown",
   "metadata": {},
   "source": [
    "Столбец выглядит корректным. Ячейки со значением ноль, это вероятнее всего студии и перепланированные квартиры. Квартиры с двухзначным количеством комнат скорее всего коммунальные квартиры или целый этаж был выкуплен под одну квартиру."
   ]
  },
  {
   "cell_type": "markdown",
   "metadata": {},
   "source": [
    "***Откорректируем данные в столбце с высотой потолков.***"
   ]
  },
  {
   "cell_type": "markdown",
   "metadata": {},
   "source": [
    "Сохраним в столбце значения высоты потолка в диапазоне от 2.3 м до 4.5 м. Так как наименьшая высота с учетом наличия натяжных потолков не может быть ниже 2.3 метров. А в зданиях старой посторйки в центре Петербурга встречаются потолки до 4.5 метров."
   ]
  },
  {
   "cell_type": "code",
   "execution_count": 136,
   "metadata": {},
   "outputs": [
    {
     "data": {
      "text/plain": [
       "54"
      ]
     },
     "execution_count": 136,
     "metadata": {},
     "output_type": "execute_result"
    }
   ],
   "source": [
    "df.query('ceiling_height < 2.3 or ceiling_height > 4.5')['ceiling_height'].count()"
   ]
  },
  {
   "cell_type": "markdown",
   "metadata": {},
   "source": [
    "Количество значений не попадающих в этот диапазон равно 54. Удалим эти значения."
   ]
  },
  {
   "cell_type": "code",
   "execution_count": 137,
   "metadata": {},
   "outputs": [],
   "source": [
    "index_list = df.query('ceiling_height < 2.3 or ceiling_height > 4.5').index"
   ]
  },
  {
   "cell_type": "code",
   "execution_count": 138,
   "metadata": {},
   "outputs": [],
   "source": [
    "df.drop(index_list, axis=0, inplace=True)"
   ]
  },
  {
   "cell_type": "code",
   "execution_count": 139,
   "metadata": {},
   "outputs": [
    {
     "data": {
      "text/plain": [
       "count    14422.000000\n",
       "mean         2.724190\n",
       "std          0.266457\n",
       "min          2.300000\n",
       "25%          2.520000\n",
       "50%          2.650000\n",
       "75%          2.800000\n",
       "max          4.500000\n",
       "Name: ceiling_height, dtype: float64"
      ]
     },
     "execution_count": 139,
     "metadata": {},
     "output_type": "execute_result"
    }
   ],
   "source": [
    "df['ceiling_height'].describe()"
   ]
  },
  {
   "cell_type": "markdown",
   "metadata": {},
   "source": [
    "Пропущенные значения в столбце заполним медианным значением, т.к. 3/4 значений находится в диапазоне до 2.80 м. Высокие потолки редки, но они всё-таки сдвигают среднее значение."
   ]
  },
  {
   "cell_type": "code",
   "execution_count": 140,
   "metadata": {},
   "outputs": [],
   "source": [
    "df['ceiling_height'] = df['ceiling_height'].fillna(2.65)"
   ]
  },
  {
   "cell_type": "code",
   "execution_count": 141,
   "metadata": {},
   "outputs": [
    {
     "name": "stdout",
     "output_type": "stream",
     "text": [
      "Количество пропусков -  0\n"
     ]
    }
   ],
   "source": [
    "print('Количество пропусков - ', df['ceiling_height'].isna().sum())"
   ]
  },
  {
   "cell_type": "markdown",
   "metadata": {},
   "source": [
    "***Посчитаем пропуски в столбцах с количеством этажей и названием населенного пункта.***"
   ]
  },
  {
   "cell_type": "code",
   "execution_count": 142,
   "metadata": {},
   "outputs": [
    {
     "name": "stdout",
     "output_type": "stream",
     "text": [
      "Количество пропусков в столбце \"floors_total\" -  86\n",
      "Количество пропусков в столбце \"locality_name\" -  49\n"
     ]
    }
   ],
   "source": [
    "print('Количество пропусков в столбце \"floors_total\" - ', df['floors_total'].isna().sum())\n",
    "print('Количество пропусков в столбце \"locality_name\" - ', df['locality_name'].isna().sum())"
   ]
  },
  {
   "cell_type": "markdown",
   "metadata": {},
   "source": [
    "Учитывая, что пропусков менее одного процента, и в дальнейших расчётах их отсутствие не навредит результату исследования, то избавимся от этих строк. Название населенного пункта можно заполнить если бы был столбец с координатами местности, а этажность - если бы был номер проекта дома или хотя бы его высота. Без этих данных, я считаю, некорректно заполнять пропуски средним или медианным значением. "
   ]
  },
  {
   "cell_type": "code",
   "execution_count": 143,
   "metadata": {},
   "outputs": [],
   "source": [
    "df.dropna(subset = ['floors_total', 'locality_name'], inplace = True)"
   ]
  },
  {
   "cell_type": "markdown",
   "metadata": {},
   "source": [
    "***Корректировка столбцов 'living_area' и 'kitchen_area'.***\n",
    "\n",
    "Для заполнения пропусков в столбце с жилой площадью нужно использовать значения общей площади. Для начала проверим корреляцию этих величин."
   ]
  },
  {
   "cell_type": "code",
   "execution_count": 144,
   "metadata": {},
   "outputs": [
    {
     "name": "stdout",
     "output_type": "stream",
     "text": [
      "Коэффициент корреляции =  0.9379301207802745\n",
      "Коэффициент корреляции =  0.5944379683196049\n"
     ]
    }
   ],
   "source": [
    "print('Коэффициент корреляции = ', df['total_area'].corr(df['living_area']))\n",
    "print('Коэффициент корреляции = ', df['total_area'].corr(df['kitchen_area']))"
   ]
  },
  {
   "cell_type": "markdown",
   "metadata": {},
   "source": [
    "Корреляция общей и жилой площади высокая и положительная. Что говорит о том, что обе велечины сильно взаимосвязаны, и при росте одной, увеличивается и другая. Корреляция общей и кухонной площади средняя и положительная. В данном случае, я считаю, значения коэффициента достаточным, т.к. на него влияют дополнительные факторы: к примеру, с ростом общей площади, нет необходимости бесконечно увеличивать кухню.\n",
    "\n",
    "Сперва округлим значения до одной десятой."
   ]
  },
  {
   "cell_type": "code",
   "execution_count": 145,
   "metadata": {
    "scrolled": true
   },
   "outputs": [],
   "source": [
    "df['total_area'] = df['total_area'].round(1)\n",
    "df['living_area'] = df['living_area'].round(1)\n",
    "df['kitchen_area'] = df['kitchen_area'].round(1)"
   ]
  },
  {
   "cell_type": "markdown",
   "metadata": {},
   "source": [
    "Так как в числовых характеристиках присутствуют значения площадей не укладывающиеся в установленные нормы, проверим их распределение в диапазоне до $10 м^2$."
   ]
  },
  {
   "cell_type": "code",
   "execution_count": 146,
   "metadata": {
    "scrolled": false
   },
   "outputs": [
    {
     "data": {
      "image/png": "[encoded data removed]",
      "text/plain": [
       "<Figure size 1080x216 with 1 Axes>"
      ]
     },
     "metadata": {
      "needs_background": "light"
     },
     "output_type": "display_data"
    },
    {
     "data": {
      "image/png": "[encoded data removed]",
      "text/plain": [
       "<Figure size 1080x216 with 1 Axes>"
      ]
     },
     "metadata": {
      "needs_background": "light"
     },
     "output_type": "display_data"
    }
   ],
   "source": [
    "df['living_area'].hist(bins=30, range=(0, 10), figsize=(15, 3))\n",
    "plt.show()\n",
    "df['kitchen_area'].hist(bins=30, range=(0, 10), figsize=(15, 3))\n",
    "plt.show()"
   ]
  },
  {
   "cell_type": "markdown",
   "metadata": {},
   "source": [
    "С учетом графиков, жилищных норм и наличия квартир-студий, сохраним в таблице следующие значения площадей: для жилой - более $6м^2$, для площади кухни - более $3м^2$."
   ]
  },
  {
   "cell_type": "code",
   "execution_count": 147,
   "metadata": {},
   "outputs": [
    {
     "name": "stdout",
     "output_type": "stream",
     "text": [
      "Количество некорректных значений жилой площади -  6\n",
      "Количество некорректных значений площади кухни -  11\n"
     ]
    }
   ],
   "source": [
    "print('Количество некорректных значений жилой площади - ', df.query('living_area < 6')['living_area'].count())\n",
    "print('Количество некорректных значений площади кухни - ',df.query('kitchen_area < 3')['kitchen_area'].count())"
   ]
  },
  {
   "cell_type": "code",
   "execution_count": 148,
   "metadata": {},
   "outputs": [],
   "source": [
    "index_list_liv = df.query('living_area < 6').index\n",
    "index_list_kit = df.query('kitchen_area < 3').index"
   ]
  },
  {
   "cell_type": "code",
   "execution_count": 149,
   "metadata": {},
   "outputs": [],
   "source": [
    "df.drop(index_list_liv, axis=0, inplace=True)\n",
    "df.drop(index_list_kit, axis=0, inplace=True)"
   ]
  },
  {
   "cell_type": "code",
   "execution_count": 150,
   "metadata": {},
   "outputs": [
    {
     "data": {
      "text/html": [
       "<div>\n",
       "<style scoped>\n",
       "    .dataframe tbody tr th:only-of-type {\n",
       "        vertical-align: middle;\n",
       "    }\n",
       "\n",
       "    .dataframe tbody tr th {\n",
       "        vertical-align: top;\n",
       "    }\n",
       "\n",
       "    .dataframe thead th {\n",
       "        text-align: right;\n",
       "    }\n",
       "</style>\n",
       "<table border=\"1\" class=\"dataframe\">\n",
       "  <thead>\n",
       "    <tr style=\"text-align: right;\">\n",
       "      <th></th>\n",
       "      <th>living_area</th>\n",
       "      <th>kitchen_area</th>\n",
       "    </tr>\n",
       "  </thead>\n",
       "  <tbody>\n",
       "    <tr>\n",
       "      <td>count</td>\n",
       "      <td>21593.000000</td>\n",
       "      <td>21247.000000</td>\n",
       "    </tr>\n",
       "    <tr>\n",
       "      <td>mean</td>\n",
       "      <td>34.251012</td>\n",
       "      <td>10.522973</td>\n",
       "    </tr>\n",
       "    <tr>\n",
       "      <td>std</td>\n",
       "      <td>21.073052</td>\n",
       "      <td>5.737930</td>\n",
       "    </tr>\n",
       "    <tr>\n",
       "      <td>min</td>\n",
       "      <td>6.000000</td>\n",
       "      <td>3.000000</td>\n",
       "    </tr>\n",
       "    <tr>\n",
       "      <td>25%</td>\n",
       "      <td>18.600000</td>\n",
       "      <td>7.000000</td>\n",
       "    </tr>\n",
       "    <tr>\n",
       "      <td>50%</td>\n",
       "      <td>30.000000</td>\n",
       "      <td>9.100000</td>\n",
       "    </tr>\n",
       "    <tr>\n",
       "      <td>75%</td>\n",
       "      <td>42.200000</td>\n",
       "      <td>12.000000</td>\n",
       "    </tr>\n",
       "    <tr>\n",
       "      <td>max</td>\n",
       "      <td>409.000000</td>\n",
       "      <td>107.000000</td>\n",
       "    </tr>\n",
       "  </tbody>\n",
       "</table>\n",
       "</div>"
      ],
      "text/plain": [
       "        living_area  kitchen_area\n",
       "count  21593.000000  21247.000000\n",
       "mean      34.251012     10.522973\n",
       "std       21.073052      5.737930\n",
       "min        6.000000      3.000000\n",
       "25%       18.600000      7.000000\n",
       "50%       30.000000      9.100000\n",
       "75%       42.200000     12.000000\n",
       "max      409.000000    107.000000"
      ]
     },
     "execution_count": 150,
     "metadata": {},
     "output_type": "execute_result"
    }
   ],
   "source": [
    "df[['living_area', 'kitchen_area']].describe()"
   ]
  },
  {
   "cell_type": "markdown",
   "metadata": {},
   "source": [
    "Теперь заполним пропуски в столбцах с жилой площадью. В данном случае, считаю целесообразным, заполнять медианным значением, предварительно сгруппировав по столбцу с общей площадью."
   ]
  },
  {
   "cell_type": "code",
   "execution_count": 151,
   "metadata": {},
   "outputs": [],
   "source": [
    "df['living_area'] = df.groupby('total_area')['living_area'].apply(lambda x: x.fillna(x.median()))\n",
    "import warnings\n",
    "warnings.filterwarnings(\"ignore\")"
   ]
  },
  {
   "cell_type": "code",
   "execution_count": 152,
   "metadata": {},
   "outputs": [
    {
     "data": {
      "text/plain": [
       "39"
      ]
     },
     "execution_count": 152,
     "metadata": {},
     "output_type": "execute_result"
    }
   ],
   "source": [
    "df['living_area'].isna().sum()"
   ]
  },
  {
   "cell_type": "markdown",
   "metadata": {},
   "source": [
    "Осталось 39 незаполненных значенний, скорее всего это квартиры с индивидуальными характеристиками и по ним не подобралось медианы. Избавимся от этих значений, их количество невелико."
   ]
  },
  {
   "cell_type": "code",
   "execution_count": 153,
   "metadata": {},
   "outputs": [],
   "source": [
    "df.dropna(subset = ['living_area'], inplace = True)"
   ]
  },
  {
   "cell_type": "markdown",
   "metadata": {},
   "source": [
    "Учитывая предыдущий опыт, пропуски в столбце с площадью кухни лучше заполним c помощью коэффициента, который показывает, какую долю в среднем от общей площади составляет кухня. "
   ]
  },
  {
   "cell_type": "code",
   "execution_count": 154,
   "metadata": {},
   "outputs": [
    {
     "data": {
      "text/plain": [
       "0.18749896723867154"
      ]
     },
     "execution_count": 154,
     "metadata": {},
     "output_type": "execute_result"
    }
   ],
   "source": [
    "kitchen_mean_frac = (df['kitchen_area'] / df['total_area']).mean()\n",
    "kitchen_mean_frac"
   ]
  },
  {
   "cell_type": "code",
   "execution_count": 155,
   "metadata": {},
   "outputs": [],
   "source": [
    "df['kitchen_area'] = df['kitchen_area'].fillna((df['total_area'] * kitchen_mean_frac)).round(1)"
   ]
  },
  {
   "cell_type": "code",
   "execution_count": 156,
   "metadata": {
    "scrolled": true
   },
   "outputs": [
    {
     "data": {
      "text/plain": [
       "0"
      ]
     },
     "execution_count": 156,
     "metadata": {},
     "output_type": "execute_result"
    }
   ],
   "source": [
    "df['kitchen_area'].isna().sum()"
   ]
  },
  {
   "cell_type": "markdown",
   "metadata": {},
   "source": [
    "***Заполним пропуски в столбце 'days_exposition'.***  \n",
    "\n",
    "Для заполнения пропусков используем медианные значения. Предварительно сгруппируем по населенному пункту, потому что в городе и деревне квартиры продаются с разной скоростью."
   ]
  },
  {
   "cell_type": "code",
   "execution_count": 157,
   "metadata": {},
   "outputs": [],
   "source": [
    "df['days_exposition'] = df.groupby('locality_name')['days_exposition'].apply(lambda x: x.fillna(x.median()))"
   ]
  },
  {
   "cell_type": "code",
   "execution_count": 158,
   "metadata": {},
   "outputs": [
    {
     "data": {
      "text/plain": [
       "81"
      ]
     },
     "execution_count": 158,
     "metadata": {},
     "output_type": "execute_result"
    }
   ],
   "source": [
    "df['days_exposition'].isna().sum()"
   ]
  },
  {
   "cell_type": "markdown",
   "metadata": {},
   "source": [
    "Не все пропуски заполнились. Значит есть населенные пункты, где есть единичные продажи, по которым не взять медиану.  \n",
    "Оставшиеся пропуски удалим, их не так много."
   ]
  },
  {
   "cell_type": "code",
   "execution_count": 159,
   "metadata": {},
   "outputs": [
    {
     "data": {
      "text/plain": [
       "0"
      ]
     },
     "execution_count": 159,
     "metadata": {},
     "output_type": "execute_result"
    }
   ],
   "source": [
    "df.dropna(subset = ['days_exposition'], inplace = True)\n",
    "df['days_exposition'].isna().sum()"
   ]
  },
  {
   "cell_type": "markdown",
   "metadata": {},
   "source": [
    "***Столбцы 'cityCenters_nearest', 'airports_nearest', 'parks_nearest', 'ponds_nearest'.***  \n",
    "\n",
    "В случае с этими столбцами правильнее будет оставить эти значения пустыми. Так как информация по ним заполнялась системой автоматически на основе картографических данных, то нам неизвестно какими координатами определены местоположения центра, аэропорта и т.д. В связи с этим не сработает обработка пропусков медианой или средним арифметическим. В данном случае отсутствие значения — тоже важный сигнал."
   ]
  },
  {
   "cell_type": "markdown",
   "metadata": {},
   "source": [
    "***Проверка на дубликаты***  \n",
    "\n",
    "Перед тем, как проверить на дубликаты, вызовем список уникальных названий населенных пунктов."
   ]
  },
  {
   "cell_type": "code",
   "execution_count": 160,
   "metadata": {},
   "outputs": [],
   "source": [
    "df['locality_name'] = df['locality_name'].astype(str)"
   ]
  },
  {
   "cell_type": "code",
   "execution_count": 161,
   "metadata": {},
   "outputs": [
    {
     "data": {
      "text/plain": [
       "array(['Бокситогорск', 'Волосово', 'Волхов', 'Всеволожск', 'Выборг',\n",
       "       'Высоцк', 'Гатчина', 'Зеленогорск', 'Ивангород', 'Каменногорск',\n",
       "       'Кингисепп', 'Кириши', 'Кировск', 'Колпино', 'Коммунар',\n",
       "       'Красное Село', 'Кронштадт', 'Кудрово', 'Лодейное Поле',\n",
       "       'Ломоносов', 'Луга', 'Любань', 'Никольское', 'Новая Ладога',\n",
       "       'Отрадное', 'Павловск', 'Петергоф', 'Пикалёво', 'Подпорожье',\n",
       "       'Приморск', 'Приозерск', 'Пушкин', 'Санкт-Петербург', 'Светогорск',\n",
       "       'Сертолово', 'Сестрорецк', 'Сланцы', 'Сосновый Бор', 'Сясьстрой',\n",
       "       'Тихвин', 'Тосно', 'Шлиссельбург',\n",
       "       'городской поселок Большая Ижора', 'городской поселок Янино-1',\n",
       "       'городской посёлок Будогощь', 'городской посёлок Виллози',\n",
       "       'городской посёлок Мга', 'городской посёлок Назия',\n",
       "       'городской посёлок Новоселье', 'городской посёлок Павлово',\n",
       "       'городской посёлок Рощино', 'городской посёлок Свирьстрой',\n",
       "       'городской посёлок Фёдоровское', 'городской посёлок Янино-1',\n",
       "       'деревня Агалатово', 'деревня Аро', 'деревня Батово',\n",
       "       'деревня Бегуницы', 'деревня Белогорка', 'деревня Большая Вруда',\n",
       "       'деревня Большая Пустомержа', 'деревня Большие Колпаны',\n",
       "       'деревня Большое Рейзино', 'деревня Бор', 'деревня Борисова Грива',\n",
       "       'деревня Ваганово', 'деревня Вартемяги', 'деревня Выскатка',\n",
       "       'деревня Гарболово', 'деревня Глинка', 'деревня Горбунки',\n",
       "       'деревня Гостилицы', 'деревня Заклинье', 'деревня Заневка',\n",
       "       'деревня Зимитицы', 'деревня Извара', 'деревня Иссад',\n",
       "       'деревня Калитино', 'деревня Кальтино', 'деревня Камышовка',\n",
       "       'деревня Каськово', 'деревня Келози', 'деревня Кипень',\n",
       "       'деревня Кисельня', 'деревня Колтуши', 'деревня Кудрово',\n",
       "       'деревня Кузьмолово', 'деревня Куровицы', 'деревня Куттузи',\n",
       "       'деревня Лаврики', 'деревня Лаголово', 'деревня Лампово',\n",
       "       'деревня Лесколово', 'деревня Лопухинка', 'деревня Лупполово',\n",
       "       'деревня Малая Романовка', 'деревня Малое Верево',\n",
       "       'деревня Малое Карлино', 'деревня Малые Колпаны',\n",
       "       'деревня Мануйлово', 'деревня Мистолово', 'деревня Ненимяки',\n",
       "       'деревня Нижние Осельки', 'деревня Низино',\n",
       "       'деревня Новое Девяткино', 'деревня Нурма', 'деревня Оржицы',\n",
       "       'деревня Парицы', 'деревня Пельгора', 'деревня Пеники',\n",
       "       'деревня Пикколово', 'деревня Пудомяги', 'деревня Пустынка',\n",
       "       'деревня Рабитицы', 'деревня Разбегаево', 'деревня Разметелево',\n",
       "       'деревня Рапполово', 'деревня Реброво', 'деревня Русско',\n",
       "       'деревня Старая', 'деревня Старая Пустошь',\n",
       "       'деревня Старое Хинколово', 'деревня Старосиверская',\n",
       "       'деревня Старые Бегуницы', 'деревня Суоранда',\n",
       "       'деревня Сяськелево', 'деревня Тарасово', 'деревня Терпилицы',\n",
       "       'деревня Тихковицы', 'деревня Торосово', 'деревня Трубников Бор',\n",
       "       'деревня Фалилеево', 'деревня Фёдоровское', 'деревня Хапо-Ое',\n",
       "       'деревня Хязельки', 'деревня Шпаньково', 'деревня Щеглово',\n",
       "       'деревня Юкки', 'деревня Ялгино', 'деревня Яльгелево',\n",
       "       'деревня Ям-Тесово', 'коттеджный поселок Кивеннапа Север',\n",
       "       'коттеджный поселок Счастье', 'коттеджный посёлок Лесное',\n",
       "       'поселок Аннино', 'поселок Барышево', 'поселок Бугры',\n",
       "       'поселок Возрождение', 'поселок Войсковицы', 'поселок Володарское',\n",
       "       'поселок Гаврилово', 'поселок Гарболово', 'поселок Гладкое',\n",
       "       'поселок Глажево', 'поселок Глебычево', 'поселок Гончарово',\n",
       "       'поселок Громово', 'поселок Дружноселье', 'поселок Елизаветино',\n",
       "       'поселок Жилгородок', 'поселок Жилпосёлок', 'поселок Житково',\n",
       "       'поселок Заводской', 'поселок Запорожское', 'поселок Зимитицы',\n",
       "       'поселок Ильичёво', 'поселок Калитино', 'поселок Каложицы',\n",
       "       'поселок Кингисеппский', 'поселок Кобралово', 'поселок Кобринское',\n",
       "       'поселок Коммунары', 'поселок Коробицыно', 'поселок Котельский',\n",
       "       'поселок Красная Долина', 'поселок Красносельское',\n",
       "       'поселок Лисий Нос', 'поселок Любань', 'поселок Мельниково',\n",
       "       'поселок Мичуринское', 'поселок Молодцово', 'поселок Мурино',\n",
       "       'поселок Новый Свет', 'поселок Новый Учхоз', 'поселок Оредеж',\n",
       "       'поселок Пансионат Зелёный Бор', 'поселок Первомайское',\n",
       "       'поселок Перово', 'поселок Петровское', 'поселок Победа',\n",
       "       'поселок Поляны', 'поселок Починок', 'поселок Пушное',\n",
       "       'поселок Пчевжа', 'поселок Романовка', 'поселок Ромашки',\n",
       "       'поселок Рябово', 'поселок Севастьяново', 'поселок Селезнёво',\n",
       "       'поселок Сельцо', 'поселок Семиозерье', 'поселок Семрино',\n",
       "       'поселок Серебрянский', 'поселок Совхозный',\n",
       "       'поселок Старая Малукса', 'поселок Стеклянный', 'поселок Сумино',\n",
       "       'поселок Суходолье', 'поселок Тельмана', 'поселок Терволово',\n",
       "       'поселок Торковичи', 'поселок Тёсово-4', 'поселок Углово',\n",
       "       'поселок Усть-Луга', 'поселок Ушаки', 'поселок Цвылёво',\n",
       "       'поселок городского типа Большая Ижора',\n",
       "       'поселок городского типа Вырица',\n",
       "       'поселок городского типа Дружная Горка',\n",
       "       'поселок городского типа Дубровка',\n",
       "       'поселок городского типа Ефимовский',\n",
       "       'поселок городского типа Кондратьево',\n",
       "       'поселок городского типа Красный Бор',\n",
       "       'поселок городского типа Кузьмоловский',\n",
       "       'поселок городского типа Лебяжье',\n",
       "       'поселок городского типа Лесогорский',\n",
       "       'поселок городского типа Назия',\n",
       "       'поселок городского типа Никольский',\n",
       "       'поселок городского типа Приладожский',\n",
       "       'поселок городского типа Рахья', 'поселок городского типа Рощино',\n",
       "       'поселок городского типа Рябово',\n",
       "       'поселок городского типа Синявино',\n",
       "       'поселок городского типа Советский',\n",
       "       'поселок городского типа Токсово',\n",
       "       'поселок городского типа Форносово',\n",
       "       'поселок городского типа имени Свердлова',\n",
       "       'поселок станции Вещево', 'поселок станции Корнево',\n",
       "       'поселок станции Лужайка', 'поселок станции Приветнинское',\n",
       "       'посёлок Александровская', 'посёлок Алексеевка', 'посёлок Аннино',\n",
       "       'посёлок Белоостров', 'посёлок Бугры', 'посёлок Возрождение',\n",
       "       'посёлок Войскорово', 'посёлок Высокоключевой',\n",
       "       'посёлок Гаврилово', 'посёлок Жилгородок', 'посёлок Ильичёво',\n",
       "       'посёлок Кикерино', 'посёлок Кобралово', 'посёлок Левашово',\n",
       "       'посёлок Ленинское', 'посёлок Лисий Нос', 'посёлок Мельниково',\n",
       "       'посёлок Металлострой', 'посёлок Мичуринское',\n",
       "       'посёлок Молодёжное', 'посёлок Мурино', 'посёлок Новогорелово',\n",
       "       'посёлок Новый Свет', 'посёлок Пансионат Зелёный Бор',\n",
       "       'посёлок Парголово', 'посёлок Перово', 'посёлок Песочный',\n",
       "       'посёлок Петро-Славянка', 'посёлок Петровское',\n",
       "       'посёлок Платформа 69-й километр', 'посёлок Плодовое',\n",
       "       'посёлок Плоское', 'посёлок Поляны', 'посёлок Понтонный',\n",
       "       'посёлок Пригородный', 'посёлок Пудость', 'посёлок Репино',\n",
       "       'посёлок Ропша', 'посёлок Сапёрное', 'посёлок Сапёрный',\n",
       "       'посёлок Сосново', 'посёлок Старая Малукса', 'посёлок Стеклянный',\n",
       "       'посёлок Стрельна', 'посёлок Суйда', 'посёлок Тельмана',\n",
       "       'посёлок Терволово', 'посёлок Торфяное', 'посёлок Усть-Ижора',\n",
       "       'посёлок Усть-Луга', 'посёлок Шушары', 'посёлок Щеглово',\n",
       "       'посёлок городского типа Важины',\n",
       "       'посёлок городского типа Вознесенье',\n",
       "       'посёлок городского типа Вырица',\n",
       "       'посёлок городского типа Красный Бор',\n",
       "       'посёлок городского типа Кузнечное',\n",
       "       'посёлок городского типа Кузьмоловский',\n",
       "       'посёлок городского типа Лебяжье', 'посёлок городского типа Мга',\n",
       "       'посёлок городского типа Павлово',\n",
       "       'посёлок городского типа Рощино', 'посёлок городского типа Рябово',\n",
       "       'посёлок городского типа Сиверский',\n",
       "       'посёлок городского типа Тайцы', 'посёлок городского типа Токсово',\n",
       "       'посёлок городского типа Ульяновка',\n",
       "       'посёлок городского типа Форносово',\n",
       "       'посёлок городского типа имени Морозова',\n",
       "       'посёлок городского типа имени Свердлова',\n",
       "       'посёлок при железнодорожной станции Вещево',\n",
       "       'посёлок станции Громово', 'посёлок станции Свирь',\n",
       "       'садоводческое некоммерческое товарищество Лесная Поляна',\n",
       "       'садовое товарищество Приладожский', 'садовое товарищество Рахья',\n",
       "       'садовое товарищество Садко', 'село Копорье', 'село Павлово',\n",
       "       'село Паша', 'село Путилово', 'село Рождествено',\n",
       "       'село Русско-Высоцкое', 'село Старая Ладога', 'село Шум'],\n",
       "      dtype=object)"
      ]
     },
     "execution_count": 161,
     "metadata": {},
     "output_type": "execute_result"
    }
   ],
   "source": [
    "df['locality_name'].sort_values().unique()"
   ]
  },
  {
   "cell_type": "markdown",
   "metadata": {},
   "source": [
    "Как видно из списка, при заполнении информации в одном случае используют букву \"е\", а в другом случае букву \"ё\" и получается поселок/посёлок. Избавимся от такого недочёта."
   ]
  },
  {
   "cell_type": "code",
   "execution_count": 162,
   "metadata": {},
   "outputs": [],
   "source": [
    "# заменим все \"ё\" на \"е\" в столбце 'locality_name'\n",
    "import re\n",
    "\n",
    "for ind_str in df.loc[(df['locality_name'].isna()==False),'locality_name'].index:    \n",
    "    loc_str = df.loc[ind_str, 'locality_name']\n",
    "    if ('ё' or 'Ё') in loc_str:\n",
    "        loc_str = re.sub('ё', 'е', loc_str)\n",
    "        loc_str = re.sub('Ё', 'Е', loc_str)\n",
    "    df.loc[ind_str, 'locality_name'] = loc_str"
   ]
  },
  {
   "cell_type": "code",
   "execution_count": 163,
   "metadata": {},
   "outputs": [
    {
     "data": {
      "text/plain": [
       "array(['Бокситогорск', 'Волосово', 'Волхов', 'Всеволожск', 'Выборг',\n",
       "       'Высоцк', 'Гатчина', 'Зеленогорск', 'Ивангород', 'Каменногорск',\n",
       "       'Кингисепп', 'Кириши', 'Кировск', 'Колпино', 'Коммунар',\n",
       "       'Красное Село', 'Кронштадт', 'Кудрово', 'Лодейное Поле',\n",
       "       'Ломоносов', 'Луга', 'Любань', 'Никольское', 'Новая Ладога',\n",
       "       'Отрадное', 'Павловск', 'Петергоф', 'Пикалево', 'Подпорожье',\n",
       "       'Приморск', 'Приозерск', 'Пушкин', 'Санкт-Петербург', 'Светогорск',\n",
       "       'Сертолово', 'Сестрорецк', 'Сланцы', 'Сосновый Бор', 'Сясьстрой',\n",
       "       'Тихвин', 'Тосно', 'Шлиссельбург',\n",
       "       'городской поселок Большая Ижора', 'городской поселок Будогощь',\n",
       "       'городской поселок Виллози', 'городской поселок Мга',\n",
       "       'городской поселок Назия', 'городской поселок Новоселье',\n",
       "       'городской поселок Павлово', 'городской поселок Рощино',\n",
       "       'городской поселок Свирьстрой', 'городской поселок Федоровское',\n",
       "       'городской поселок Янино-1', 'деревня Агалатово', 'деревня Аро',\n",
       "       'деревня Батово', 'деревня Бегуницы', 'деревня Белогорка',\n",
       "       'деревня Большая Вруда', 'деревня Большая Пустомержа',\n",
       "       'деревня Большие Колпаны', 'деревня Большое Рейзино',\n",
       "       'деревня Бор', 'деревня Борисова Грива', 'деревня Ваганово',\n",
       "       'деревня Вартемяги', 'деревня Выскатка', 'деревня Гарболово',\n",
       "       'деревня Глинка', 'деревня Горбунки', 'деревня Гостилицы',\n",
       "       'деревня Заклинье', 'деревня Заневка', 'деревня Зимитицы',\n",
       "       'деревня Извара', 'деревня Иссад', 'деревня Калитино',\n",
       "       'деревня Кальтино', 'деревня Камышовка', 'деревня Каськово',\n",
       "       'деревня Келози', 'деревня Кипень', 'деревня Кисельня',\n",
       "       'деревня Колтуши', 'деревня Кудрово', 'деревня Кузьмолово',\n",
       "       'деревня Куровицы', 'деревня Куттузи', 'деревня Лаврики',\n",
       "       'деревня Лаголово', 'деревня Лампово', 'деревня Лесколово',\n",
       "       'деревня Лопухинка', 'деревня Лупполово',\n",
       "       'деревня Малая Романовка', 'деревня Малое Верево',\n",
       "       'деревня Малое Карлино', 'деревня Малые Колпаны',\n",
       "       'деревня Мануйлово', 'деревня Мистолово', 'деревня Ненимяки',\n",
       "       'деревня Нижние Осельки', 'деревня Низино',\n",
       "       'деревня Новое Девяткино', 'деревня Нурма', 'деревня Оржицы',\n",
       "       'деревня Парицы', 'деревня Пельгора', 'деревня Пеники',\n",
       "       'деревня Пикколово', 'деревня Пудомяги', 'деревня Пустынка',\n",
       "       'деревня Рабитицы', 'деревня Разбегаево', 'деревня Разметелево',\n",
       "       'деревня Рапполово', 'деревня Реброво', 'деревня Русско',\n",
       "       'деревня Старая', 'деревня Старая Пустошь',\n",
       "       'деревня Старое Хинколово', 'деревня Старосиверская',\n",
       "       'деревня Старые Бегуницы', 'деревня Суоранда',\n",
       "       'деревня Сяськелево', 'деревня Тарасово', 'деревня Терпилицы',\n",
       "       'деревня Тихковицы', 'деревня Торосово', 'деревня Трубников Бор',\n",
       "       'деревня Фалилеево', 'деревня Федоровское', 'деревня Хапо-Ое',\n",
       "       'деревня Хязельки', 'деревня Шпаньково', 'деревня Щеглово',\n",
       "       'деревня Юкки', 'деревня Ялгино', 'деревня Яльгелево',\n",
       "       'деревня Ям-Тесово', 'коттеджный поселок Кивеннапа Север',\n",
       "       'коттеджный поселок Лесное', 'коттеджный поселок Счастье',\n",
       "       'поселок Александровская', 'поселок Алексеевка', 'поселок Аннино',\n",
       "       'поселок Барышево', 'поселок Белоостров', 'поселок Бугры',\n",
       "       'поселок Возрождение', 'поселок Войсковицы', 'поселок Войскорово',\n",
       "       'поселок Володарское', 'поселок Высокоключевой',\n",
       "       'поселок Гаврилово', 'поселок Гарболово', 'поселок Гладкое',\n",
       "       'поселок Глажево', 'поселок Глебычево', 'поселок Гончарово',\n",
       "       'поселок Громово', 'поселок Дружноселье', 'поселок Елизаветино',\n",
       "       'поселок Жилгородок', 'поселок Жилпоселок', 'поселок Житково',\n",
       "       'поселок Заводской', 'поселок Запорожское', 'поселок Зимитицы',\n",
       "       'поселок Ильичево', 'поселок Калитино', 'поселок Каложицы',\n",
       "       'поселок Кикерино', 'поселок Кингисеппский', 'поселок Кобралово',\n",
       "       'поселок Кобринское', 'поселок Коммунары', 'поселок Коробицыно',\n",
       "       'поселок Котельский', 'поселок Красная Долина',\n",
       "       'поселок Красносельское', 'поселок Левашово', 'поселок Ленинское',\n",
       "       'поселок Лисий Нос', 'поселок Любань', 'поселок Мельниково',\n",
       "       'поселок Металлострой', 'поселок Мичуринское',\n",
       "       'поселок Молодежное', 'поселок Молодцово', 'поселок Мурино',\n",
       "       'поселок Новогорелово', 'поселок Новый Свет',\n",
       "       'поселок Новый Учхоз', 'поселок Оредеж',\n",
       "       'поселок Пансионат Зеленый Бор', 'поселок Парголово',\n",
       "       'поселок Первомайское', 'поселок Перово', 'поселок Песочный',\n",
       "       'поселок Петро-Славянка', 'поселок Петровское',\n",
       "       'поселок Платформа 69-й километр', 'поселок Плодовое',\n",
       "       'поселок Плоское', 'поселок Победа', 'поселок Поляны',\n",
       "       'поселок Понтонный', 'поселок Починок', 'поселок Пригородный',\n",
       "       'поселок Пудость', 'поселок Пушное', 'поселок Пчевжа',\n",
       "       'поселок Репино', 'поселок Романовка', 'поселок Ромашки',\n",
       "       'поселок Ропша', 'поселок Рябово', 'поселок Саперное',\n",
       "       'поселок Саперный', 'поселок Севастьяново', 'поселок Селезнево',\n",
       "       'поселок Сельцо', 'поселок Семиозерье', 'поселок Семрино',\n",
       "       'поселок Серебрянский', 'поселок Совхозный', 'поселок Сосново',\n",
       "       'поселок Старая Малукса', 'поселок Стеклянный', 'поселок Стрельна',\n",
       "       'поселок Суйда', 'поселок Сумино', 'поселок Суходолье',\n",
       "       'поселок Тельмана', 'поселок Терволово', 'поселок Тесово-4',\n",
       "       'поселок Торковичи', 'поселок Торфяное', 'поселок Углово',\n",
       "       'поселок Усть-Ижора', 'поселок Усть-Луга', 'поселок Ушаки',\n",
       "       'поселок Цвылево', 'поселок Шушары', 'поселок Щеглово',\n",
       "       'поселок городского типа Большая Ижора',\n",
       "       'поселок городского типа Важины',\n",
       "       'поселок городского типа Вознесенье',\n",
       "       'поселок городского типа Вырица',\n",
       "       'поселок городского типа Дружная Горка',\n",
       "       'поселок городского типа Дубровка',\n",
       "       'поселок городского типа Ефимовский',\n",
       "       'поселок городского типа Кондратьево',\n",
       "       'поселок городского типа Красный Бор',\n",
       "       'поселок городского типа Кузнечное',\n",
       "       'поселок городского типа Кузьмоловский',\n",
       "       'поселок городского типа Лебяжье',\n",
       "       'поселок городского типа Лесогорский',\n",
       "       'поселок городского типа Мга', 'поселок городского типа Назия',\n",
       "       'поселок городского типа Никольский',\n",
       "       'поселок городского типа Павлово',\n",
       "       'поселок городского типа Приладожский',\n",
       "       'поселок городского типа Рахья', 'поселок городского типа Рощино',\n",
       "       'поселок городского типа Рябово',\n",
       "       'поселок городского типа Сиверский',\n",
       "       'поселок городского типа Синявино',\n",
       "       'поселок городского типа Советский',\n",
       "       'поселок городского типа Тайцы', 'поселок городского типа Токсово',\n",
       "       'поселок городского типа Ульяновка',\n",
       "       'поселок городского типа Форносово',\n",
       "       'поселок городского типа имени Морозова',\n",
       "       'поселок городского типа имени Свердлова',\n",
       "       'поселок при железнодорожной станции Вещево',\n",
       "       'поселок станции Вещево', 'поселок станции Громово',\n",
       "       'поселок станции Корнево', 'поселок станции Лужайка',\n",
       "       'поселок станции Приветнинское', 'поселок станции Свирь',\n",
       "       'садоводческое некоммерческое товарищество Лесная Поляна',\n",
       "       'садовое товарищество Приладожский', 'садовое товарищество Рахья',\n",
       "       'садовое товарищество Садко', 'село Копорье', 'село Павлово',\n",
       "       'село Паша', 'село Путилово', 'село Рождествено',\n",
       "       'село Русско-Высоцкое', 'село Старая Ладога', 'село Шум'],\n",
       "      dtype=object)"
      ]
     },
     "execution_count": 163,
     "metadata": {},
     "output_type": "execute_result"
    }
   ],
   "source": [
    "df['locality_name'].sort_values().unique()"
   ]
  },
  {
   "cell_type": "markdown",
   "metadata": {},
   "source": [
    "Теперь проверим таблицу на дубликаты."
   ]
  },
  {
   "cell_type": "code",
   "execution_count": 164,
   "metadata": {},
   "outputs": [
    {
     "name": "stdout",
     "output_type": "stream",
     "text": [
      "Всего дубликатов -  0\n"
     ]
    }
   ],
   "source": [
    "print('Всего дубликатов - ', df.duplicated().sum())"
   ]
  },
  {
   "cell_type": "markdown",
   "metadata": {},
   "source": [
    "Дубликатов нет. После проведенных изменений нужно перезаписать индексацию."
   ]
  },
  {
   "cell_type": "code",
   "execution_count": 165,
   "metadata": {},
   "outputs": [],
   "source": [
    "df = df.reset_index(drop=True)"
   ]
  },
  {
   "cell_type": "markdown",
   "metadata": {},
   "source": [
    "***Изменение типов данных.***"
   ]
  },
  {
   "cell_type": "markdown",
   "metadata": {},
   "source": [
    "В столбце с датой публикации объявления изменим тип данных на datetime."
   ]
  },
  {
   "cell_type": "code",
   "execution_count": 166,
   "metadata": {},
   "outputs": [],
   "source": [
    "df['first_day_exposition'] = pd.to_datetime(df['first_day_exposition'], format = '%Y-%m-%dT%H:%M:%S')"
   ]
  },
  {
   "cell_type": "markdown",
   "metadata": {},
   "source": [
    "Изменим тип данных на целочисленный в тех столбцах, где это необходимо. К примеру нам не нужна точность цены до копейки, а полтора балкона или парка не может быть."
   ]
  },
  {
   "cell_type": "code",
   "execution_count": 167,
   "metadata": {},
   "outputs": [
    {
     "name": "stdout",
     "output_type": "stream",
     "text": [
      "<class 'pandas.core.frame.DataFrame'>\n",
      "RangeIndex: 23323 entries, 0 to 23322\n",
      "Data columns (total 18 columns):\n",
      "last_price              23323 non-null Int64\n",
      "total_area              23323 non-null float64\n",
      "first_day_exposition    23323 non-null datetime64[ns]\n",
      "rooms                   23323 non-null Int64\n",
      "ceiling_height          23323 non-null float64\n",
      "floors_total            23323 non-null Int64\n",
      "living_area             23323 non-null float64\n",
      "floor                   23323 non-null Int64\n",
      "kitchen_area            23323 non-null float64\n",
      "balcony                 23323 non-null Int64\n",
      "locality_name           23323 non-null object\n",
      "airports_nearest        17923 non-null Int64\n",
      "cityCenters_nearest     17945 non-null Int64\n",
      "parks_around3000        23323 non-null Int64\n",
      "parks_nearest           7962 non-null Int64\n",
      "ponds_around3000        23323 non-null Int64\n",
      "ponds_nearest           8957 non-null Int64\n",
      "days_exposition         23323 non-null Int64\n",
      "dtypes: Int64(12), datetime64[ns](1), float64(4), object(1)\n",
      "memory usage: 3.5+ MB\n"
     ]
    }
   ],
   "source": [
    "df = df.round({'days_exposition': 0})\n",
    "df = df.astype({'last_price': 'Int64',\n",
    "               'rooms': 'Int64',\n",
    "                'floors_total': 'Int64',\n",
    "                'floor': 'Int64',\n",
    "                'balcony': 'Int64',\n",
    "                'airports_nearest': 'Int64',\n",
    "                'cityCenters_nearest': 'Int64',\n",
    "                'parks_around3000': 'Int64',\n",
    "                'parks_nearest': 'Int64',\n",
    "                'ponds_around3000': 'Int64',\n",
    "                'ponds_nearest': 'Int64',\n",
    "                'days_exposition': 'Int64'             \n",
    "})\n",
    "df.info()"
   ]
  },
  {
   "cell_type": "code",
   "execution_count": 168,
   "metadata": {},
   "outputs": [
    {
     "name": "stdout",
     "output_type": "stream",
     "text": [
      "Процент сохраненных строк -  98.41343516604077\n"
     ]
    }
   ],
   "source": [
    "print('Процент сохраненных строк - ', (len(df) / 23699) * 100)"
   ]
  },
  {
   "cell_type": "markdown",
   "metadata": {},
   "source": [
    "### Вывод"
   ]
  },
  {
   "cell_type": "markdown",
   "metadata": {},
   "source": [
    "В результате предобработки данных в таблице осталось 23323 строки. Удалено 1,6 % строк, что допустимо и не повлияет на исследовательский анализ. Пропуски в данных заменены везде, кроме столбцов, где значения получены автоматически (расстояния до центра, аэропорта, парка и пруда)."
   ]
  },
  {
   "cell_type": "markdown",
   "metadata": {},
   "source": [
    "## Расчёты и добавление результатов в таблицу"
   ]
  },
  {
   "cell_type": "markdown",
   "metadata": {},
   "source": [
    "***Добавим в таблицу цену квадратного метра***  \n",
    "\n",
    "Для этого разделим цену квартиры на ее общую площадь"
   ]
  },
  {
   "cell_type": "code",
   "execution_count": 169,
   "metadata": {},
   "outputs": [],
   "source": [
    "df['sq_m_price'] = (df['last_price'] / df['total_area']).round().astype(int)"
   ]
  },
  {
   "cell_type": "markdown",
   "metadata": {},
   "source": [
    "***Добавим в таблицу день недели, месяц и год публикации объявления***"
   ]
  },
  {
   "cell_type": "code",
   "execution_count": 170,
   "metadata": {},
   "outputs": [],
   "source": [
    "df['weekday_exposition'] = df['first_day_exposition'].dt.weekday\n",
    "df['month_exposition'] = df['first_day_exposition'].dt.month\n",
    "df['year_exposition'] = df['first_day_exposition'].dt.year"
   ]
  },
  {
   "cell_type": "markdown",
   "metadata": {},
   "source": [
    "***Добавим в таблицу столбец этаж квартиры с вариантами — первый, последний, другой.***"
   ]
  },
  {
   "cell_type": "code",
   "execution_count": 171,
   "metadata": {},
   "outputs": [
    {
     "data": {
      "text/plain": [
       "другой       17185\n",
       "последний     3271\n",
       "первый        2867\n",
       "Name: floor_type, dtype: int64"
      ]
     },
     "execution_count": 171,
     "metadata": {},
     "output_type": "execute_result"
    }
   ],
   "source": [
    "def name_floor(row):\n",
    "    ''' Функция name_floor на входе будет принимать\n",
    "    номер этажа из таблицы, и возвращать, в соответствии\n",
    "    с условием, его тип: первый, последний или другой.'''\n",
    "    floor = row['floor']\n",
    "    if floor == 1:\n",
    "        return('первый')\n",
    "    elif floor == row['floors_total']:\n",
    "        return('последний')\n",
    "    return('другой')\n",
    "\n",
    "df['floor_type'] = df.apply(name_floor, axis=1)\n",
    "df['floor_type'].value_counts()"
   ]
  },
  {
   "cell_type": "markdown",
   "metadata": {},
   "source": [
    "***Добавим в таблицу столбцы: соотношение жилой и общей площади, а также отношение площади кухни к общей.***"
   ]
  },
  {
   "cell_type": "code",
   "execution_count": 172,
   "metadata": {},
   "outputs": [],
   "source": [
    "df['liv_tot_frac'] = round(df['living_area'] / df['total_area'],2)\n",
    "df['kit_tot_frac'] = round(df['kitchen_area'] / df['total_area'],2)"
   ]
  },
  {
   "cell_type": "markdown",
   "metadata": {},
   "source": [
    "Посмотрим на обновленную таблицу."
   ]
  },
  {
   "cell_type": "code",
   "execution_count": 173,
   "metadata": {},
   "outputs": [
    {
     "data": {
      "text/html": [
       "<div>\n",
       "<style scoped>\n",
       "    .dataframe tbody tr th:only-of-type {\n",
       "        vertical-align: middle;\n",
       "    }\n",
       "\n",
       "    .dataframe tbody tr th {\n",
       "        vertical-align: top;\n",
       "    }\n",
       "\n",
       "    .dataframe thead th {\n",
       "        text-align: right;\n",
       "    }\n",
       "</style>\n",
       "<table border=\"1\" class=\"dataframe\">\n",
       "  <thead>\n",
       "    <tr style=\"text-align: right;\">\n",
       "      <th></th>\n",
       "      <th>last_price</th>\n",
       "      <th>total_area</th>\n",
       "      <th>first_day_exposition</th>\n",
       "      <th>rooms</th>\n",
       "      <th>ceiling_height</th>\n",
       "      <th>floors_total</th>\n",
       "      <th>living_area</th>\n",
       "      <th>floor</th>\n",
       "      <th>kitchen_area</th>\n",
       "      <th>balcony</th>\n",
       "      <th>...</th>\n",
       "      <th>ponds_around3000</th>\n",
       "      <th>ponds_nearest</th>\n",
       "      <th>days_exposition</th>\n",
       "      <th>sq_m_price</th>\n",
       "      <th>weekday_exposition</th>\n",
       "      <th>month_exposition</th>\n",
       "      <th>year_exposition</th>\n",
       "      <th>floor_type</th>\n",
       "      <th>liv_tot_frac</th>\n",
       "      <th>kit_tot_frac</th>\n",
       "    </tr>\n",
       "  </thead>\n",
       "  <tbody>\n",
       "    <tr>\n",
       "      <td>0</td>\n",
       "      <td>13000000</td>\n",
       "      <td>108.0</td>\n",
       "      <td>2019-03-07</td>\n",
       "      <td>3</td>\n",
       "      <td>2.70</td>\n",
       "      <td>16</td>\n",
       "      <td>51.0</td>\n",
       "      <td>8</td>\n",
       "      <td>25.0</td>\n",
       "      <td>0</td>\n",
       "      <td>...</td>\n",
       "      <td>2</td>\n",
       "      <td>755</td>\n",
       "      <td>95</td>\n",
       "      <td>120370</td>\n",
       "      <td>3</td>\n",
       "      <td>3</td>\n",
       "      <td>2019</td>\n",
       "      <td>другой</td>\n",
       "      <td>0.47</td>\n",
       "      <td>0.23</td>\n",
       "    </tr>\n",
       "    <tr>\n",
       "      <td>1</td>\n",
       "      <td>3350000</td>\n",
       "      <td>40.4</td>\n",
       "      <td>2018-12-04</td>\n",
       "      <td>1</td>\n",
       "      <td>2.65</td>\n",
       "      <td>11</td>\n",
       "      <td>18.6</td>\n",
       "      <td>1</td>\n",
       "      <td>11.0</td>\n",
       "      <td>2</td>\n",
       "      <td>...</td>\n",
       "      <td>0</td>\n",
       "      <td>NaN</td>\n",
       "      <td>81</td>\n",
       "      <td>82921</td>\n",
       "      <td>1</td>\n",
       "      <td>12</td>\n",
       "      <td>2018</td>\n",
       "      <td>первый</td>\n",
       "      <td>0.46</td>\n",
       "      <td>0.27</td>\n",
       "    </tr>\n",
       "    <tr>\n",
       "      <td>2</td>\n",
       "      <td>5196000</td>\n",
       "      <td>56.0</td>\n",
       "      <td>2015-08-20</td>\n",
       "      <td>2</td>\n",
       "      <td>2.65</td>\n",
       "      <td>5</td>\n",
       "      <td>34.3</td>\n",
       "      <td>4</td>\n",
       "      <td>8.3</td>\n",
       "      <td>0</td>\n",
       "      <td>...</td>\n",
       "      <td>2</td>\n",
       "      <td>574</td>\n",
       "      <td>558</td>\n",
       "      <td>92786</td>\n",
       "      <td>3</td>\n",
       "      <td>8</td>\n",
       "      <td>2015</td>\n",
       "      <td>другой</td>\n",
       "      <td>0.61</td>\n",
       "      <td>0.15</td>\n",
       "    </tr>\n",
       "    <tr>\n",
       "      <td>3</td>\n",
       "      <td>64900000</td>\n",
       "      <td>159.0</td>\n",
       "      <td>2015-07-24</td>\n",
       "      <td>3</td>\n",
       "      <td>2.65</td>\n",
       "      <td>14</td>\n",
       "      <td>95.0</td>\n",
       "      <td>9</td>\n",
       "      <td>29.8</td>\n",
       "      <td>0</td>\n",
       "      <td>...</td>\n",
       "      <td>3</td>\n",
       "      <td>234</td>\n",
       "      <td>424</td>\n",
       "      <td>408176</td>\n",
       "      <td>4</td>\n",
       "      <td>7</td>\n",
       "      <td>2015</td>\n",
       "      <td>другой</td>\n",
       "      <td>0.60</td>\n",
       "      <td>0.19</td>\n",
       "    </tr>\n",
       "    <tr>\n",
       "      <td>4</td>\n",
       "      <td>10000000</td>\n",
       "      <td>100.0</td>\n",
       "      <td>2018-06-19</td>\n",
       "      <td>2</td>\n",
       "      <td>3.03</td>\n",
       "      <td>14</td>\n",
       "      <td>32.0</td>\n",
       "      <td>13</td>\n",
       "      <td>41.0</td>\n",
       "      <td>0</td>\n",
       "      <td>...</td>\n",
       "      <td>1</td>\n",
       "      <td>48</td>\n",
       "      <td>121</td>\n",
       "      <td>100000</td>\n",
       "      <td>1</td>\n",
       "      <td>6</td>\n",
       "      <td>2018</td>\n",
       "      <td>другой</td>\n",
       "      <td>0.32</td>\n",
       "      <td>0.41</td>\n",
       "    </tr>\n",
       "    <tr>\n",
       "      <td>5</td>\n",
       "      <td>2890000</td>\n",
       "      <td>30.4</td>\n",
       "      <td>2018-09-10</td>\n",
       "      <td>1</td>\n",
       "      <td>2.65</td>\n",
       "      <td>12</td>\n",
       "      <td>14.4</td>\n",
       "      <td>5</td>\n",
       "      <td>9.1</td>\n",
       "      <td>0</td>\n",
       "      <td>...</td>\n",
       "      <td>0</td>\n",
       "      <td>NaN</td>\n",
       "      <td>55</td>\n",
       "      <td>95066</td>\n",
       "      <td>0</td>\n",
       "      <td>9</td>\n",
       "      <td>2018</td>\n",
       "      <td>другой</td>\n",
       "      <td>0.47</td>\n",
       "      <td>0.30</td>\n",
       "    </tr>\n",
       "    <tr>\n",
       "      <td>6</td>\n",
       "      <td>3700000</td>\n",
       "      <td>37.3</td>\n",
       "      <td>2017-11-02</td>\n",
       "      <td>1</td>\n",
       "      <td>2.65</td>\n",
       "      <td>26</td>\n",
       "      <td>10.6</td>\n",
       "      <td>6</td>\n",
       "      <td>14.4</td>\n",
       "      <td>1</td>\n",
       "      <td>...</td>\n",
       "      <td>0</td>\n",
       "      <td>NaN</td>\n",
       "      <td>155</td>\n",
       "      <td>99196</td>\n",
       "      <td>3</td>\n",
       "      <td>11</td>\n",
       "      <td>2017</td>\n",
       "      <td>другой</td>\n",
       "      <td>0.28</td>\n",
       "      <td>0.39</td>\n",
       "    </tr>\n",
       "    <tr>\n",
       "      <td>7</td>\n",
       "      <td>7915000</td>\n",
       "      <td>71.6</td>\n",
       "      <td>2019-04-18</td>\n",
       "      <td>2</td>\n",
       "      <td>2.65</td>\n",
       "      <td>24</td>\n",
       "      <td>44.3</td>\n",
       "      <td>22</td>\n",
       "      <td>18.9</td>\n",
       "      <td>2</td>\n",
       "      <td>...</td>\n",
       "      <td>0</td>\n",
       "      <td>NaN</td>\n",
       "      <td>95</td>\n",
       "      <td>110545</td>\n",
       "      <td>3</td>\n",
       "      <td>4</td>\n",
       "      <td>2019</td>\n",
       "      <td>другой</td>\n",
       "      <td>0.62</td>\n",
       "      <td>0.26</td>\n",
       "    </tr>\n",
       "    <tr>\n",
       "      <td>8</td>\n",
       "      <td>2900000</td>\n",
       "      <td>33.2</td>\n",
       "      <td>2018-05-23</td>\n",
       "      <td>1</td>\n",
       "      <td>2.65</td>\n",
       "      <td>27</td>\n",
       "      <td>15.4</td>\n",
       "      <td>26</td>\n",
       "      <td>8.8</td>\n",
       "      <td>0</td>\n",
       "      <td>...</td>\n",
       "      <td>0</td>\n",
       "      <td>NaN</td>\n",
       "      <td>189</td>\n",
       "      <td>87349</td>\n",
       "      <td>2</td>\n",
       "      <td>5</td>\n",
       "      <td>2018</td>\n",
       "      <td>другой</td>\n",
       "      <td>0.46</td>\n",
       "      <td>0.27</td>\n",
       "    </tr>\n",
       "    <tr>\n",
       "      <td>9</td>\n",
       "      <td>5400000</td>\n",
       "      <td>61.0</td>\n",
       "      <td>2017-02-26</td>\n",
       "      <td>3</td>\n",
       "      <td>2.50</td>\n",
       "      <td>9</td>\n",
       "      <td>43.6</td>\n",
       "      <td>7</td>\n",
       "      <td>6.5</td>\n",
       "      <td>2</td>\n",
       "      <td>...</td>\n",
       "      <td>0</td>\n",
       "      <td>NaN</td>\n",
       "      <td>289</td>\n",
       "      <td>88525</td>\n",
       "      <td>6</td>\n",
       "      <td>2</td>\n",
       "      <td>2017</td>\n",
       "      <td>другой</td>\n",
       "      <td>0.71</td>\n",
       "      <td>0.11</td>\n",
       "    </tr>\n",
       "  </tbody>\n",
       "</table>\n",
       "<p>10 rows × 25 columns</p>\n",
       "</div>"
      ],
      "text/plain": [
       "   last_price  total_area first_day_exposition  rooms  ceiling_height  \\\n",
       "0    13000000       108.0           2019-03-07      3            2.70   \n",
       "1     3350000        40.4           2018-12-04      1            2.65   \n",
       "2     5196000        56.0           2015-08-20      2            2.65   \n",
       "3    64900000       159.0           2015-07-24      3            2.65   \n",
       "4    10000000       100.0           2018-06-19      2            3.03   \n",
       "5     2890000        30.4           2018-09-10      1            2.65   \n",
       "6     3700000        37.3           2017-11-02      1            2.65   \n",
       "7     7915000        71.6           2019-04-18      2            2.65   \n",
       "8     2900000        33.2           2018-05-23      1            2.65   \n",
       "9     5400000        61.0           2017-02-26      3            2.50   \n",
       "\n",
       "   floors_total  living_area  floor  kitchen_area  balcony  ...  \\\n",
       "0            16         51.0      8          25.0        0  ...   \n",
       "1            11         18.6      1          11.0        2  ...   \n",
       "2             5         34.3      4           8.3        0  ...   \n",
       "3            14         95.0      9          29.8        0  ...   \n",
       "4            14         32.0     13          41.0        0  ...   \n",
       "5            12         14.4      5           9.1        0  ...   \n",
       "6            26         10.6      6          14.4        1  ...   \n",
       "7            24         44.3     22          18.9        2  ...   \n",
       "8            27         15.4     26           8.8        0  ...   \n",
       "9             9         43.6      7           6.5        2  ...   \n",
       "\n",
       "  ponds_around3000  ponds_nearest  days_exposition  sq_m_price  \\\n",
       "0                2            755               95      120370   \n",
       "1                0            NaN               81       82921   \n",
       "2                2            574              558       92786   \n",
       "3                3            234              424      408176   \n",
       "4                1             48              121      100000   \n",
       "5                0            NaN               55       95066   \n",
       "6                0            NaN              155       99196   \n",
       "7                0            NaN               95      110545   \n",
       "8                0            NaN              189       87349   \n",
       "9                0            NaN              289       88525   \n",
       "\n",
       "   weekday_exposition  month_exposition  year_exposition  floor_type  \\\n",
       "0                   3                 3             2019      другой   \n",
       "1                   1                12             2018      первый   \n",
       "2                   3                 8             2015      другой   \n",
       "3                   4                 7             2015      другой   \n",
       "4                   1                 6             2018      другой   \n",
       "5                   0                 9             2018      другой   \n",
       "6                   3                11             2017      другой   \n",
       "7                   3                 4             2019      другой   \n",
       "8                   2                 5             2018      другой   \n",
       "9                   6                 2             2017      другой   \n",
       "\n",
       "   liv_tot_frac  kit_tot_frac  \n",
       "0          0.47          0.23  \n",
       "1          0.46          0.27  \n",
       "2          0.61          0.15  \n",
       "3          0.60          0.19  \n",
       "4          0.32          0.41  \n",
       "5          0.47          0.30  \n",
       "6          0.28          0.39  \n",
       "7          0.62          0.26  \n",
       "8          0.46          0.27  \n",
       "9          0.71          0.11  \n",
       "\n",
       "[10 rows x 25 columns]"
      ]
     },
     "metadata": {},
     "output_type": "display_data"
    },
    {
     "name": "stdout",
     "output_type": "stream",
     "text": [
      "<class 'pandas.core.frame.DataFrame'>\n",
      "RangeIndex: 23323 entries, 0 to 23322\n",
      "Data columns (total 25 columns):\n",
      "last_price              23323 non-null Int64\n",
      "total_area              23323 non-null float64\n",
      "first_day_exposition    23323 non-null datetime64[ns]\n",
      "rooms                   23323 non-null Int64\n",
      "ceiling_height          23323 non-null float64\n",
      "floors_total            23323 non-null Int64\n",
      "living_area             23323 non-null float64\n",
      "floor                   23323 non-null Int64\n",
      "kitchen_area            23323 non-null float64\n",
      "balcony                 23323 non-null Int64\n",
      "locality_name           23323 non-null object\n",
      "airports_nearest        17923 non-null Int64\n",
      "cityCenters_nearest     17945 non-null Int64\n",
      "parks_around3000        23323 non-null Int64\n",
      "parks_nearest           7962 non-null Int64\n",
      "ponds_around3000        23323 non-null Int64\n",
      "ponds_nearest           8957 non-null Int64\n",
      "days_exposition         23323 non-null Int64\n",
      "sq_m_price              23323 non-null int64\n",
      "weekday_exposition      23323 non-null int64\n",
      "month_exposition        23323 non-null int64\n",
      "year_exposition         23323 non-null int64\n",
      "floor_type              23323 non-null object\n",
      "liv_tot_frac            23323 non-null float64\n",
      "kit_tot_frac            23323 non-null float64\n",
      "dtypes: Int64(12), datetime64[ns](1), float64(6), int64(4), object(2)\n",
      "memory usage: 4.7+ MB\n"
     ]
    }
   ],
   "source": [
    "display(df.head(10))\n",
    "df.info()"
   ]
  },
  {
   "cell_type": "markdown",
   "metadata": {},
   "source": [
    "## Исследовательский анализ данных"
   ]
  },
  {
   "cell_type": "markdown",
   "metadata": {},
   "source": [
    "### Изучение параметров квартиры"
   ]
  },
  {
   "cell_type": "markdown",
   "metadata": {},
   "source": [
    "Изучим параметры - площадь, цена, число комнат, высота потолков. Построим гистограммы для каждого параметра."
   ]
  },
  {
   "cell_type": "code",
   "execution_count": 174,
   "metadata": {
    "scrolled": true
   },
   "outputs": [
    {
     "data": {
      "text/html": [
       "<div>\n",
       "<style scoped>\n",
       "    .dataframe tbody tr th:only-of-type {\n",
       "        vertical-align: middle;\n",
       "    }\n",
       "\n",
       "    .dataframe tbody tr th {\n",
       "        vertical-align: top;\n",
       "    }\n",
       "\n",
       "    .dataframe thead th {\n",
       "        text-align: right;\n",
       "    }\n",
       "</style>\n",
       "<table border=\"1\" class=\"dataframe\">\n",
       "  <thead>\n",
       "    <tr style=\"text-align: right;\">\n",
       "      <th></th>\n",
       "      <th>total_area</th>\n",
       "      <th>last_price</th>\n",
       "      <th>rooms</th>\n",
       "      <th>ceiling_height</th>\n",
       "    </tr>\n",
       "  </thead>\n",
       "  <tbody>\n",
       "    <tr>\n",
       "      <td>count</td>\n",
       "      <td>23323.000000</td>\n",
       "      <td>2.332300e+04</td>\n",
       "      <td>23323.000000</td>\n",
       "      <td>23323.000000</td>\n",
       "    </tr>\n",
       "    <tr>\n",
       "      <td>mean</td>\n",
       "      <td>59.728899</td>\n",
       "      <td>6.227228e+06</td>\n",
       "      <td>2.065215</td>\n",
       "      <td>2.695393</td>\n",
       "    </tr>\n",
       "    <tr>\n",
       "      <td>std</td>\n",
       "      <td>32.571035</td>\n",
       "      <td>6.292249e+06</td>\n",
       "      <td>1.067160</td>\n",
       "      <td>0.211801</td>\n",
       "    </tr>\n",
       "    <tr>\n",
       "      <td>min</td>\n",
       "      <td>12.000000</td>\n",
       "      <td>5.000000e+05</td>\n",
       "      <td>0.000000</td>\n",
       "      <td>2.300000</td>\n",
       "    </tr>\n",
       "    <tr>\n",
       "      <td>25%</td>\n",
       "      <td>40.000000</td>\n",
       "      <td>3.450000e+06</td>\n",
       "      <td>1.000000</td>\n",
       "      <td>2.600000</td>\n",
       "    </tr>\n",
       "    <tr>\n",
       "      <td>50%</td>\n",
       "      <td>52.000000</td>\n",
       "      <td>4.650000e+06</td>\n",
       "      <td>2.000000</td>\n",
       "      <td>2.650000</td>\n",
       "    </tr>\n",
       "    <tr>\n",
       "      <td>75%</td>\n",
       "      <td>69.400000</td>\n",
       "      <td>6.750000e+06</td>\n",
       "      <td>3.000000</td>\n",
       "      <td>2.700000</td>\n",
       "    </tr>\n",
       "    <tr>\n",
       "      <td>max</td>\n",
       "      <td>590.000000</td>\n",
       "      <td>9.900000e+07</td>\n",
       "      <td>19.000000</td>\n",
       "      <td>4.500000</td>\n",
       "    </tr>\n",
       "  </tbody>\n",
       "</table>\n",
       "</div>"
      ],
      "text/plain": [
       "         total_area    last_price         rooms  ceiling_height\n",
       "count  23323.000000  2.332300e+04  23323.000000    23323.000000\n",
       "mean      59.728899  6.227228e+06      2.065215        2.695393\n",
       "std       32.571035  6.292249e+06      1.067160        0.211801\n",
       "min       12.000000  5.000000e+05      0.000000        2.300000\n",
       "25%       40.000000  3.450000e+06      1.000000        2.600000\n",
       "50%       52.000000  4.650000e+06      2.000000        2.650000\n",
       "75%       69.400000  6.750000e+06      3.000000        2.700000\n",
       "max      590.000000  9.900000e+07     19.000000        4.500000"
      ]
     },
     "execution_count": 174,
     "metadata": {},
     "output_type": "execute_result"
    }
   ],
   "source": [
    "df[['total_area', 'last_price', 'rooms', 'ceiling_height']].describe()"
   ]
  },
  {
   "cell_type": "markdown",
   "metadata": {},
   "source": [
    "Для упрощения процесса построения графиков создадим функции."
   ]
  },
  {
   "cell_type": "code",
   "execution_count": 175,
   "metadata": {},
   "outputs": [],
   "source": [
    "def draw_hist(col, xmin, xmax):\n",
    "    df[col].hist(bins=50, range=(xmin, xmax))"
   ]
  },
  {
   "cell_type": "code",
   "execution_count": 176,
   "metadata": {},
   "outputs": [],
   "source": [
    "def draw_boxplot(col, ymin, ymax):\n",
    "    plt.ylim(ymin, ymax)\n",
    "    df.boxplot(col)"
   ]
  },
  {
   "cell_type": "markdown",
   "metadata": {},
   "source": [
    "***Построим графики для общей площади.***"
   ]
  },
  {
   "cell_type": "code",
   "execution_count": 177,
   "metadata": {},
   "outputs": [
    {
     "data": {
      "image/png": "[encoded data removed]",
      "text/plain": [
       "<Figure size 432x288 with 1 Axes>"
      ]
     },
     "metadata": {
      "needs_background": "light"
     },
     "output_type": "display_data"
    }
   ],
   "source": [
    "draw_hist('total_area', 0, 400)"
   ]
  },
  {
   "cell_type": "code",
   "execution_count": 178,
   "metadata": {},
   "outputs": [
    {
     "data": {
      "image/png": "[encoded data removed]",
      "text/plain": [
       "<Figure size 432x288 with 1 Axes>"
      ]
     },
     "metadata": {
      "needs_background": "light"
     },
     "output_type": "display_data"
    }
   ],
   "source": [
    "draw_boxplot('total_area', 0, 400)"
   ]
  },
  {
   "cell_type": "markdown",
   "metadata": {},
   "source": [
    "По графикам можно сделать вывод, что наибольшее количество квартир с площадью 30 - 70 $м^2$. Пик приходится примерно на 45 $м^2$. Это выглядит правдоподобно, так как в реальной жизни основная доля квартир это 1-2 комнатные квартиры."
   ]
  },
  {
   "cell_type": "markdown",
   "metadata": {},
   "source": [
    "***Построим графики для цены квартиры.***"
   ]
  },
  {
   "cell_type": "code",
   "execution_count": 179,
   "metadata": {},
   "outputs": [
    {
     "data": {
      "image/png": "[encoded data removed]",
      "text/plain": [
       "<Figure size 432x288 with 1 Axes>"
      ]
     },
     "metadata": {
      "needs_background": "light"
     },
     "output_type": "display_data"
    }
   ],
   "source": [
    "draw_hist('last_price', 0, 30000000)"
   ]
  },
  {
   "cell_type": "code",
   "execution_count": 180,
   "metadata": {},
   "outputs": [
    {
     "data": {
      "image/png": "[encoded data removed]",
      "text/plain": [
       "<Figure size 432x288 with 1 Axes>"
      ]
     },
     "metadata": {
      "needs_background": "light"
     },
     "output_type": "display_data"
    }
   ],
   "source": [
    "draw_boxplot('last_price', 0, 30000000)"
   ]
  },
  {
   "cell_type": "markdown",
   "metadata": {},
   "source": [
    "По графикам делаем вывод, что основной диапазон цен, по которым продаются квартиры это от 3,5 до 7 млн."
   ]
  },
  {
   "cell_type": "markdown",
   "metadata": {},
   "source": [
    "***Построим графики для числа комнат.***"
   ]
  },
  {
   "cell_type": "code",
   "execution_count": 181,
   "metadata": {},
   "outputs": [
    {
     "data": {
      "image/png": "[encoded data removed]",
      "text/plain": [
       "<Figure size 432x288 with 1 Axes>"
      ]
     },
     "metadata": {
      "needs_background": "light"
     },
     "output_type": "display_data"
    }
   ],
   "source": [
    "draw_hist('rooms', 0, 10)"
   ]
  },
  {
   "cell_type": "code",
   "execution_count": 182,
   "metadata": {},
   "outputs": [
    {
     "data": {
      "image/png": "[encoded data removed]",
      "text/plain": [
       "<Figure size 432x288 with 1 Axes>"
      ]
     },
     "metadata": {
      "needs_background": "light"
     },
     "output_type": "display_data"
    }
   ],
   "source": [
    "draw_boxplot('rooms', 0, 10)"
   ]
  },
  {
   "cell_type": "markdown",
   "metadata": {},
   "source": [
    "Делая вывод из графиков, видно, что основные квартиры 1-2 комнатные, что подтверждает вывод по общей площади. Немногим меньше количество трехкомнатных квартир. Нормальное распределение находится в пределах 0 - 6 комнат."
   ]
  },
  {
   "cell_type": "markdown",
   "metadata": {},
   "source": [
    "***Построим графики по высоте потолков.***"
   ]
  },
  {
   "cell_type": "code",
   "execution_count": 183,
   "metadata": {},
   "outputs": [
    {
     "data": {
      "image/png": "[encoded data removed]",
      "text/plain": [
       "<Figure size 432x288 with 1 Axes>"
      ]
     },
     "metadata": {
      "needs_background": "light"
     },
     "output_type": "display_data"
    }
   ],
   "source": [
    "draw_hist('ceiling_height', 0, 5)"
   ]
  },
  {
   "cell_type": "code",
   "execution_count": 184,
   "metadata": {},
   "outputs": [
    {
     "data": {
      "image/png": "[encoded data removed]",
      "text/plain": [
       "<Figure size 432x288 with 1 Axes>"
      ]
     },
     "metadata": {
      "needs_background": "light"
     },
     "output_type": "display_data"
    }
   ],
   "source": [
    "draw_boxplot('ceiling_height', 2, 5)"
   ]
  },
  {
   "cell_type": "markdown",
   "metadata": {},
   "source": [
    "Наибольшее количество квартир с высотой потолков 2,60 - 2,70 м. Квартиры с высотой потолков более 3 метров встречаются заметно реже, скорее всего это здания старой постройки, находящиеся в центре Петербурга."
   ]
  },
  {
   "cell_type": "markdown",
   "metadata": {},
   "source": [
    "### Изучение времени продажи квартиры"
   ]
  },
  {
   "cell_type": "markdown",
   "metadata": {},
   "source": [
    "Построим графики для столбца с временем продажи квартиры"
   ]
  },
  {
   "cell_type": "code",
   "execution_count": 185,
   "metadata": {},
   "outputs": [
    {
     "data": {
      "image/png": "[encoded data removed]",
      "text/plain": [
       "<Figure size 432x288 with 1 Axes>"
      ]
     },
     "metadata": {
      "needs_background": "light"
     },
     "output_type": "display_data"
    }
   ],
   "source": [
    "draw_hist('days_exposition', 0, 1600)"
   ]
  },
  {
   "cell_type": "code",
   "execution_count": 186,
   "metadata": {},
   "outputs": [
    {
     "data": {
      "image/png": "[encoded data removed]",
      "text/plain": [
       "<Figure size 432x288 with 1 Axes>"
      ]
     },
     "metadata": {
      "needs_background": "light"
     },
     "output_type": "display_data"
    }
   ],
   "source": [
    "draw_boxplot('days_exposition', -50, 800)"
   ]
  },
  {
   "cell_type": "markdown",
   "metadata": {},
   "source": [
    "Ожидаемо было увидеть гистограмму с длинным хвостом. Основная масса квартир продавалась за период до 200 дней, но и есть случаи времени продажи до 5 лет, видимо квартира находится в плохом состоянии или неблагополучном районе, а может просто объявление то закрывали, то открывали."
   ]
  },
  {
   "cell_type": "code",
   "execution_count": 187,
   "metadata": {},
   "outputs": [
    {
     "data": {
      "text/plain": [
       "count    23323.000000\n",
       "mean       170.204562\n",
       "std        207.284699\n",
       "min          1.000000\n",
       "25%         45.000000\n",
       "50%         95.000000\n",
       "75%        200.000000\n",
       "max       1580.000000\n",
       "Name: days_exposition, dtype: float64"
      ]
     },
     "execution_count": 187,
     "metadata": {},
     "output_type": "execute_result"
    }
   ],
   "source": [
    "df['days_exposition'].describe()"
   ]
  },
  {
   "cell_type": "markdown",
   "metadata": {},
   "source": [
    "Изучив среднее и медиану, можно сделать вывод что в среднем квартиры продаются от 3 до 6 месяцев. Очень быстрой продажу можно считать, если сделка совершена за 45 дней. Необычно долгой продажей является срок примерно более 450 дней (15 месяцев)."
   ]
  },
  {
   "cell_type": "markdown",
   "metadata": {},
   "source": [
    "### Обработка редких и выбивающихся значений"
   ]
  },
  {
   "cell_type": "markdown",
   "metadata": {},
   "source": [
    "Данная работа была проведена на этапе предобработки данных.\n",
    "\n",
    "В столбце 'last_price' были как сильно больщие (более 100 млн (max = 763млн)), так и очень маленькие значения (min = 12190). С помощью запроса query избавились от них .\n",
    "\n",
    "В столбце 'rooms' - присутствовали значения 0 комнат, определились, что это квартиры-студии и перепланировка.\n",
    "\n",
    "В столбце 'ceiling_height' - были обнаружены слишком маленькие значения ниже 180см, а также слишком высоки выше 10 м. С помощью запроса query сохранил срез данных с высотой потолков 2,30 - 4,50 м. \n",
    "\n",
    "В стобце 'locality_name' - были обнаружены значения где \"поселок\" написан с буквой \"ё\" - исправлено. \n",
    "\n",
    "В столбцах с расстояниями airports_nearest, cityCenters_nearest, parks_nearest, ponds_nearest было обнаружено большое количество пропусков. Чтобы не искажать данные для анализа значения оставлены пустыми."
   ]
  },
  {
   "cell_type": "markdown",
   "metadata": {},
   "source": [
    "### Факторы, влияющие на стоимость квартиры"
   ]
  },
  {
   "cell_type": "markdown",
   "metadata": {},
   "source": [
    "Проверим зависимость цены от площади, количества комнат и расстояния до центра.  \n",
    "\n",
    "Построим матрицу корреляции к этим величинам."
   ]
  },
  {
   "cell_type": "code",
   "execution_count": 188,
   "metadata": {},
   "outputs": [
    {
     "data": {
      "text/html": [
       "<div>\n",
       "<style scoped>\n",
       "    .dataframe tbody tr th:only-of-type {\n",
       "        vertical-align: middle;\n",
       "    }\n",
       "\n",
       "    .dataframe tbody tr th {\n",
       "        vertical-align: top;\n",
       "    }\n",
       "\n",
       "    .dataframe thead th {\n",
       "        text-align: right;\n",
       "    }\n",
       "</style>\n",
       "<table border=\"1\" class=\"dataframe\">\n",
       "  <thead>\n",
       "    <tr style=\"text-align: right;\">\n",
       "      <th></th>\n",
       "      <th>cityCenters_nearest</th>\n",
       "      <th>last_price</th>\n",
       "      <th>rooms</th>\n",
       "      <th>total_area</th>\n",
       "    </tr>\n",
       "  </thead>\n",
       "  <tbody>\n",
       "    <tr>\n",
       "      <td>cityCenters_nearest</td>\n",
       "      <td>1.000000</td>\n",
       "      <td>-0.302758</td>\n",
       "      <td>-0.180690</td>\n",
       "      <td>-0.234467</td>\n",
       "    </tr>\n",
       "    <tr>\n",
       "      <td>last_price</td>\n",
       "      <td>-0.302758</td>\n",
       "      <td>1.000000</td>\n",
       "      <td>0.474906</td>\n",
       "      <td>0.766526</td>\n",
       "    </tr>\n",
       "    <tr>\n",
       "      <td>rooms</td>\n",
       "      <td>-0.180690</td>\n",
       "      <td>0.474906</td>\n",
       "      <td>1.000000</td>\n",
       "      <td>0.781004</td>\n",
       "    </tr>\n",
       "    <tr>\n",
       "      <td>total_area</td>\n",
       "      <td>-0.234467</td>\n",
       "      <td>0.766526</td>\n",
       "      <td>0.781004</td>\n",
       "      <td>1.000000</td>\n",
       "    </tr>\n",
       "  </tbody>\n",
       "</table>\n",
       "</div>"
      ],
      "text/plain": [
       "                     cityCenters_nearest  last_price     rooms  total_area\n",
       "cityCenters_nearest             1.000000   -0.302758 -0.180690   -0.234467\n",
       "last_price                     -0.302758    1.000000  0.474906    0.766526\n",
       "rooms                          -0.180690    0.474906  1.000000    0.781004\n",
       "total_area                     -0.234467    0.766526  0.781004    1.000000"
      ]
     },
     "execution_count": 188,
     "metadata": {},
     "output_type": "execute_result"
    }
   ],
   "source": [
    "index = df.index\n",
    "price_rooms_area_corr = df.pivot_table(\n",
    "    index=index, values=['last_price','total_area','rooms', 'cityCenters_nearest'], aggfunc='mean')\n",
    "price_rooms_area_corr.corr()"
   ]
  },
  {
   "cell_type": "markdown",
   "metadata": {},
   "source": [
    "Автоматизируем построение диаграмм рассеяния с помощью функции."
   ]
  },
  {
   "cell_type": "code",
   "execution_count": 189,
   "metadata": {},
   "outputs": [],
   "source": [
    "def draw_plot(data, y, x):\n",
    "    data.plot(y=y, x=x, kind='scatter', alpha=0.1, grid=True, figsize=(8, 5))"
   ]
  },
  {
   "cell_type": "code",
   "execution_count": 190,
   "metadata": {},
   "outputs": [
    {
     "data": {
      "image/png": "[encoded data removed]",
      "text/plain": [
       "<Figure size 576x360 with 1 Axes>"
      ]
     },
     "metadata": {
      "needs_background": "light"
     },
     "output_type": "display_data"
    }
   ],
   "source": [
    "draw_plot(price_rooms_area_corr, 'last_price', 'rooms')"
   ]
  },
  {
   "cell_type": "markdown",
   "metadata": {},
   "source": [
    "Исследуя матрицу корреляции и диаграммы, заметно что связь между ценой и количеством комнат слабая. До 3 комнат включительно она присутствует, и, что естественно от однокомнатной к трехкомнатной цена растет. На четырехкомнатных квартирах взаимосвязь слабнет, а после уже практически исчезает."
   ]
  },
  {
   "cell_type": "code",
   "execution_count": 191,
   "metadata": {},
   "outputs": [
    {
     "data": {
      "image/png": "[encoded data removed]",
      "text/plain": [
       "<Figure size 576x360 with 1 Axes>"
      ]
     },
     "metadata": {
      "needs_background": "light"
     },
     "output_type": "display_data"
    }
   ],
   "source": [
    "draw_plot(price_rooms_area_corr, 'last_price', 'total_area')"
   ]
  },
  {
   "cell_type": "code",
   "execution_count": 192,
   "metadata": {},
   "outputs": [
    {
     "data": {
      "image/png": "[encoded data removed]",
      "text/plain": [
       "<Figure size 720x360 with 2 Axes>"
      ]
     },
     "metadata": {
      "needs_background": "light"
     },
     "output_type": "display_data"
    }
   ],
   "source": [
    "df.plot(x='total_area', y='last_price', kind='hexbin', \n",
    "        gridsize=60, figsize=(10, 5), sharex=False, grid=True, xlim=(0, 150), ylim=(0, 10000000));"
   ]
  },
  {
   "cell_type": "markdown",
   "metadata": {},
   "source": [
    "Между ценой квартиры и общей площадью присутствует средняя взаимосвязь. Основное ее проявление находится в диапазоне площади квартиры от 30 до 60 $м^2$, далее связь слабнет значительно."
   ]
  },
  {
   "cell_type": "code",
   "execution_count": 193,
   "metadata": {},
   "outputs": [
    {
     "data": {
      "image/png": "[encoded data removed]",
      "text/plain": [
       "<Figure size 576x360 with 1 Axes>"
      ]
     },
     "metadata": {
      "needs_background": "light"
     },
     "output_type": "display_data"
    }
   ],
   "source": [
    "draw_plot(price_rooms_area_corr, 'last_price', 'cityCenters_nearest')"
   ]
  },
  {
   "cell_type": "markdown",
   "metadata": {},
   "source": [
    "Коэффициент корреляции между ценой и расстоянием до центра слабый и отрицательный. В целом, конечно, наблюдается снижение цены квартиры с увеличением расстояния от центра. Количество более дорогих квартир возрастает на расстоянии 5-7 км от центра. Наблюдается просадка в цене на расстоянии 17-18 км - это граница скорее всего КАД. Видны отдельные всплески цены на расстоянии 22, 30-35, 40 и 50 км от центра - это скорее всего города-спутники Санкт-Петербурга, такие как Пушкин, Всеволожск, Колпино и др."
   ]
  },
  {
   "cell_type": "markdown",
   "metadata": {},
   "source": [
    "***Проверим зависимость цены квартиры от того, на каком этаже она расположена.***"
   ]
  },
  {
   "cell_type": "code",
   "execution_count": 194,
   "metadata": {},
   "outputs": [
    {
     "data": {
      "image/png": "[encoded data removed]",
      "text/plain": [
       "<Figure size 432x360 with 1 Axes>"
      ]
     },
     "metadata": {
      "needs_background": "light"
     },
     "output_type": "display_data"
    }
   ],
   "source": [
    "floor_type_median = df.groupby('floor_type')['last_price'].median()\n",
    "floor_type_median.plot(x=floor_type_median.index, y=floor_type_median.values, kind='bar', grid=True, figsize=(6,5), rot=45);"
   ]
  },
  {
   "cell_type": "markdown",
   "metadata": {},
   "source": [
    "Столбчатый график отчетливо показывает, что цена на квартиру на первом этаже ниже чем на других этажах, и это очевидно, так как спрос на квартиру на первом этаже всегда ниже. Последний этаж тоже не в фаворе у людей, предпочтительнее другие этажи."
   ]
  },
  {
   "cell_type": "markdown",
   "metadata": {},
   "source": [
    "***Изучение зависимости цены от даты размещения объявления.***"
   ]
  },
  {
   "cell_type": "code",
   "execution_count": 195,
   "metadata": {},
   "outputs": [
    {
     "data": {
      "text/html": [
       "<div>\n",
       "<style scoped>\n",
       "    .dataframe tbody tr th:only-of-type {\n",
       "        vertical-align: middle;\n",
       "    }\n",
       "\n",
       "    .dataframe tbody tr th {\n",
       "        vertical-align: top;\n",
       "    }\n",
       "\n",
       "    .dataframe thead th {\n",
       "        text-align: right;\n",
       "    }\n",
       "</style>\n",
       "<table border=\"1\" class=\"dataframe\">\n",
       "  <thead>\n",
       "    <tr style=\"text-align: right;\">\n",
       "      <th></th>\n",
       "      <th>last_price</th>\n",
       "      <th>month_exposition</th>\n",
       "      <th>weekday_exposition</th>\n",
       "      <th>year_exposition</th>\n",
       "    </tr>\n",
       "  </thead>\n",
       "  <tbody>\n",
       "    <tr>\n",
       "      <td>last_price</td>\n",
       "      <td>1.000000</td>\n",
       "      <td>0.005342</td>\n",
       "      <td>-0.004853</td>\n",
       "      <td>-0.050491</td>\n",
       "    </tr>\n",
       "    <tr>\n",
       "      <td>month_exposition</td>\n",
       "      <td>0.005342</td>\n",
       "      <td>1.000000</td>\n",
       "      <td>0.012396</td>\n",
       "      <td>-0.270182</td>\n",
       "    </tr>\n",
       "    <tr>\n",
       "      <td>weekday_exposition</td>\n",
       "      <td>-0.004853</td>\n",
       "      <td>0.012396</td>\n",
       "      <td>1.000000</td>\n",
       "      <td>-0.001922</td>\n",
       "    </tr>\n",
       "    <tr>\n",
       "      <td>year_exposition</td>\n",
       "      <td>-0.050491</td>\n",
       "      <td>-0.270182</td>\n",
       "      <td>-0.001922</td>\n",
       "      <td>1.000000</td>\n",
       "    </tr>\n",
       "  </tbody>\n",
       "</table>\n",
       "</div>"
      ],
      "text/plain": [
       "                    last_price  month_exposition  weekday_exposition  \\\n",
       "last_price            1.000000          0.005342           -0.004853   \n",
       "month_exposition      0.005342          1.000000            0.012396   \n",
       "weekday_exposition   -0.004853          0.012396            1.000000   \n",
       "year_exposition      -0.050491         -0.270182           -0.001922   \n",
       "\n",
       "                    year_exposition  \n",
       "last_price                -0.050491  \n",
       "month_exposition          -0.270182  \n",
       "weekday_exposition        -0.001922  \n",
       "year_exposition            1.000000  "
      ]
     },
     "execution_count": 195,
     "metadata": {},
     "output_type": "execute_result"
    }
   ],
   "source": [
    "exposition_date = df.pivot_table(\n",
    "    index=index, values=['weekday_exposition', 'month_exposition', 'year_exposition', 'last_price'], aggfunc='mean')\n",
    "exposition_date.corr()"
   ]
  },
  {
   "cell_type": "markdown",
   "metadata": {},
   "source": [
    "Скорее всего зависимость между этими параметрами нелинейная, и матрица корреляции в данном случае не очень информативна.  \n",
    "Попробуем взглянуть на матрицу диаграмм рассеяния."
   ]
  },
  {
   "cell_type": "code",
   "execution_count": 196,
   "metadata": {},
   "outputs": [
    {
     "data": {
      "image/png": "[encoded data removed]",
      "text/plain": [
       "<Figure size 864x864 with 20 Axes>"
      ]
     },
     "metadata": {
      "needs_background": "light"
     },
     "output_type": "display_data"
    }
   ],
   "source": [
    "sns.pairplot(exposition_date, kind='scatter', height=3);"
   ]
  },
  {
   "cell_type": "markdown",
   "metadata": {},
   "source": [
    "По матрице можно сделать следующие выводы:\n",
    "- Заметна тендеция в росте цены квартиры от года к году;\n",
    "- В четверг и пятницу публикуются наиболее дорогие объявления, в выходные - наиболее дешевые;\n",
    "- Цена квартир, в период с февраля по май снижается, а в период с июня по декабрь, пусть нелинейно, но растет. В январе наблюдается относительное затишье по ценам. "
   ]
  },
  {
   "cell_type": "markdown",
   "metadata": {},
   "source": [
    "### Определение 10 населённых пунктов с наибольшим числом объявлений"
   ]
  },
  {
   "cell_type": "markdown",
   "metadata": {},
   "source": [
    "Выберем 10 населённых пунктов с наибольшим числом объявлений. Посчитаем среднюю цену квадратного метра в этих населённых пунктах. Выделим населённые пункты с самой высокой и низкой стоимостью жилья."
   ]
  },
  {
   "cell_type": "code",
   "execution_count": 197,
   "metadata": {},
   "outputs": [
    {
     "name": "stdout",
     "output_type": "stream",
     "text": [
      "                   count  mean_sq_m_price\n",
      "locality_name                            \n",
      "Санкт-Петербург    15538    113475.278028\n",
      "поселок Мурино       548     85576.658759\n",
      "поселок Шушары       439     78551.990888\n",
      "Всеволожск           397     68720.214106\n",
      "Пушкин               366    102942.808743\n",
      "Колпино              338     75424.322485\n",
      "поселок Парголово    326     90333.561350\n",
      "Гатчина              306     68757.594771\n",
      "деревня Кудрово      299     92472.013378\n",
      "Выборг               235     58238.012766\n"
     ]
    },
    {
     "data": {
      "image/png": "[encoded data removed]",
      "text/plain": [
       "<Figure size 648x648 with 1 Axes>"
      ]
     },
     "metadata": {},
     "output_type": "display_data"
    }
   ],
   "source": [
    "locality_and_price = df.loc[:, ['locality_name', 'sq_m_price']]\n",
    "locality_and_price = locality_and_price.pivot_table(index='locality_name', values='sq_m_price', aggfunc=['count', 'mean'])\n",
    "locality_and_price.columns = ['count', 'mean_sq_m_price']\n",
    "top10_locality = locality_and_price.sort_values(by='count', ascending=False).head(10)\n",
    "print(top10_locality)\n",
    "top10_locality.plot(y='count', kind='pie', title='Доля объявлений по населенным пунктам от общего количества',figsize=(9, 9));"
   ]
  },
  {
   "cell_type": "markdown",
   "metadata": {},
   "source": [
    "Отметим следующее: самая дорогая цена за квадратный метр жилья в Санкт_петербурге и Пушкине, что вполне соответствует действительности. Из представленных населенных пунктов дешевле всего жилье в Выборге."
   ]
  },
  {
   "cell_type": "markdown",
   "metadata": {},
   "source": [
    "### Изучение предложения квартир в Санкт-Петербурге"
   ]
  },
  {
   "cell_type": "markdown",
   "metadata": {},
   "source": [
    "Выделим квартиры в Санкт-Петербурге и  выясним, какая область входит в центр. Создадим столбец с расстоянием до центра в километрах, округленный до целых значений. После этого посчитаем среднюю цену для каждого километра и построим график, показывающий, как цена зависит от удалённости от центра."
   ]
  },
  {
   "cell_type": "code",
   "execution_count": 198,
   "metadata": {},
   "outputs": [
    {
     "data": {
      "image/png": "[encoded data removed]",
      "text/plain": [
       "<Figure size 1080x360 with 1 Axes>"
      ]
     },
     "metadata": {
      "needs_background": "light"
     },
     "output_type": "display_data"
    }
   ],
   "source": [
    "# выделим квартиры из Санкт-Петербурга\n",
    "spb_flats = df.query('locality_name == \"Санкт-Петербург\"')\n",
    "spb_flats.dropna(subset = ['cityCenters_nearest'], inplace = True)\n",
    "spb_flats.reset_index(drop=True)\n",
    "# округлим значения до километра\n",
    "spb_flats['cityCenters_nearest'] = (spb_flats['cityCenters_nearest']/1000).round().astype(int)\n",
    "# определим среднюю цену для километра и построим график\n",
    "spb_flats_pivot = spb_flats.pivot_table(index='cityCenters_nearest', values='last_price', aggfunc=('mean'))\n",
    "spb_flats_pivot.plot(y='last_price', kind='bar', grid=True, figsize=(15, 5));"
   ]
  },
  {
   "cell_type": "markdown",
   "metadata": {},
   "source": [
    "Делая вывод по графику, можно сказать, что есть два центральных сегмента. В радиусе до 1 км - это исторический центр, со средней ценой квартиры около 27 млн. И более обширная центральная зона в радиусе 7 км, со средней ценой квартиры около 13 млн. На расстоянии более 7 км от центра наблюдается заметное падение цены - это значение и будем считать границей центральной зоны города."
   ]
  },
  {
   "cell_type": "markdown",
   "metadata": {},
   "source": [
    "### Изучение сегмента квартир в центре Санкт-Петербурга"
   ]
  },
  {
   "cell_type": "markdown",
   "metadata": {},
   "source": [
    "Проанализируем центральную территорию и изучим следующие параметры: площадь, цена, число комнат, высота потолков. Выделим факторы, которые влияют на стоимость квартиры (число комнат, этаж, удалённость от центра, дата размещения объявления). Сделаем выводы и сравним отличаются ли они от общих выводов по всему городу."
   ]
  },
  {
   "cell_type": "code",
   "execution_count": 199,
   "metadata": {},
   "outputs": [],
   "source": [
    "spb_center = spb_flats.query('cityCenters_nearest <= 7')"
   ]
  },
  {
   "cell_type": "markdown",
   "metadata": {},
   "source": [
    "Изучение параметров квартир для центра Санкт-Петербурга и для всего города в целом."
   ]
  },
  {
   "cell_type": "code",
   "execution_count": 200,
   "metadata": {},
   "outputs": [
    {
     "data": {
      "image/png": "[encoded data removed]",
      "text/plain": [
       "<Figure size 1008x216 with 1 Axes>"
      ]
     },
     "metadata": {
      "needs_background": "light"
     },
     "output_type": "display_data"
    },
    {
     "data": {
      "image/png": "[encoded data removed]",
      "text/plain": [
       "<Figure size 1008x216 with 1 Axes>"
      ]
     },
     "metadata": {
      "needs_background": "light"
     },
     "output_type": "display_data"
    },
    {
     "data": {
      "image/png": "[encoded data removed]",
      "text/plain": [
       "<Figure size 1008x216 with 1 Axes>"
      ]
     },
     "metadata": {
      "needs_background": "light"
     },
     "output_type": "display_data"
    },
    {
     "data": {
      "image/png": "[encoded data removed]",
      "text/plain": [
       "<Figure size 1008x216 with 1 Axes>"
      ]
     },
     "metadata": {
      "needs_background": "light"
     },
     "output_type": "display_data"
    },
    {
     "data": {
      "image/png": "[encoded data removed]",
      "text/plain": [
       "<Figure size 1008x216 with 1 Axes>"
      ]
     },
     "metadata": {
      "needs_background": "light"
     },
     "output_type": "display_data"
    },
    {
     "data": {
      "image/png": "[encoded data removed]",
      "text/plain": [
       "<Figure size 1008x216 with 1 Axes>"
      ]
     },
     "metadata": {
      "needs_background": "light"
     },
     "output_type": "display_data"
    },
    {
     "data": {
      "image/png": "[encoded data removed]",
      "text/plain": [
       "<Figure size 1008x216 with 1 Axes>"
      ]
     },
     "metadata": {
      "needs_background": "light"
     },
     "output_type": "display_data"
    },
    {
     "data": {
      "image/png": "[encoded data removed]",
      "text/plain": [
       "<Figure size 1008x216 with 1 Axes>"
      ]
     },
     "metadata": {
      "needs_background": "light"
     },
     "output_type": "display_data"
    }
   ],
   "source": [
    "for col in ['total_area', 'last_price', 'rooms', 'ceiling_height']:\n",
    "    spb_center.plot(y=col, kind='hist', grid=True, figsize=(14,3), bins=50, \n",
    "                    alpha=1, legend=True, label='параметр - '+col+' для центра города')\n",
    "    spb_flats.plot(y=col, kind='hist', grid=True, figsize=(14,3), bins=50, \n",
    "                   alpha=1, legend=True, label='параметр - '+col+' для всего города', color='r')\n",
    "    plt.show()"
   ]
  },
  {
   "cell_type": "markdown",
   "metadata": {},
   "source": [
    "Исследуя гистограммы обнаружены следущие особенности:\n",
    "- Диапазон площади большинства продаваемых квартир в центре города больше, чем по всему городу: 40-130 $м^2$ против 30-70 $м^2$;\n",
    "- Естественным выглядит и то, что цена на квартиры в центре выше, чем по городу в целом;\n",
    "- Основная доля продаж в центре приходится на 2-х и 3-х комнатные квартиры, а по городу на 1-2 комнатные квартиры;\n",
    "- В центре города выделяется сегмент квартир с высокими потолками 3-3,5 м, а в целом по городу этот сегмент представлен слабо. Отметим, что медиана по высоте потолков (2,65 м) выделяется на обоих графиках. "
   ]
  },
  {
   "cell_type": "markdown",
   "metadata": {},
   "source": [
    "***Сравнение факторов, влияющих на цену квартиры.***\n",
    "\n",
    "Построим матрицы корреляции, сравниваемых параметров."
   ]
  },
  {
   "cell_type": "code",
   "execution_count": 201,
   "metadata": {},
   "outputs": [
    {
     "name": "stdout",
     "output_type": "stream",
     "text": [
      "Матрица корреляции для всего города\n"
     ]
    },
    {
     "data": {
      "text/html": [
       "<div>\n",
       "<style scoped>\n",
       "    .dataframe tbody tr th:only-of-type {\n",
       "        vertical-align: middle;\n",
       "    }\n",
       "\n",
       "    .dataframe tbody tr th {\n",
       "        vertical-align: top;\n",
       "    }\n",
       "\n",
       "    .dataframe thead th {\n",
       "        text-align: right;\n",
       "    }\n",
       "</style>\n",
       "<table border=\"1\" class=\"dataframe\">\n",
       "  <thead>\n",
       "    <tr style=\"text-align: right;\">\n",
       "      <th></th>\n",
       "      <th>cityCenters_nearest</th>\n",
       "      <th>days_exposition</th>\n",
       "      <th>last_price</th>\n",
       "      <th>rooms</th>\n",
       "    </tr>\n",
       "  </thead>\n",
       "  <tbody>\n",
       "    <tr>\n",
       "      <td>cityCenters_nearest</td>\n",
       "      <td>1.000000</td>\n",
       "      <td>-0.118208</td>\n",
       "      <td>-0.375319</td>\n",
       "      <td>-0.288669</td>\n",
       "    </tr>\n",
       "    <tr>\n",
       "      <td>days_exposition</td>\n",
       "      <td>-0.118208</td>\n",
       "      <td>1.000000</td>\n",
       "      <td>0.107890</td>\n",
       "      <td>0.112268</td>\n",
       "    </tr>\n",
       "    <tr>\n",
       "      <td>last_price</td>\n",
       "      <td>-0.375319</td>\n",
       "      <td>0.107890</td>\n",
       "      <td>1.000000</td>\n",
       "      <td>0.493060</td>\n",
       "    </tr>\n",
       "    <tr>\n",
       "      <td>rooms</td>\n",
       "      <td>-0.288669</td>\n",
       "      <td>0.112268</td>\n",
       "      <td>0.493060</td>\n",
       "      <td>1.000000</td>\n",
       "    </tr>\n",
       "  </tbody>\n",
       "</table>\n",
       "</div>"
      ],
      "text/plain": [
       "                     cityCenters_nearest  days_exposition  last_price  \\\n",
       "cityCenters_nearest             1.000000        -0.118208   -0.375319   \n",
       "days_exposition                -0.118208         1.000000    0.107890   \n",
       "last_price                     -0.375319         0.107890    1.000000   \n",
       "rooms                          -0.288669         0.112268    0.493060   \n",
       "\n",
       "                        rooms  \n",
       "cityCenters_nearest -0.288669  \n",
       "days_exposition      0.112268  \n",
       "last_price           0.493060  \n",
       "rooms                1.000000  "
      ]
     },
     "metadata": {},
     "output_type": "display_data"
    },
    {
     "name": "stdout",
     "output_type": "stream",
     "text": [
      "Матрица корреляции для центра города\n"
     ]
    },
    {
     "data": {
      "text/html": [
       "<div>\n",
       "<style scoped>\n",
       "    .dataframe tbody tr th:only-of-type {\n",
       "        vertical-align: middle;\n",
       "    }\n",
       "\n",
       "    .dataframe tbody tr th {\n",
       "        vertical-align: top;\n",
       "    }\n",
       "\n",
       "    .dataframe thead th {\n",
       "        text-align: right;\n",
       "    }\n",
       "</style>\n",
       "<table border=\"1\" class=\"dataframe\">\n",
       "  <thead>\n",
       "    <tr style=\"text-align: right;\">\n",
       "      <th></th>\n",
       "      <th>cityCenters_nearest</th>\n",
       "      <th>days_exposition</th>\n",
       "      <th>last_price</th>\n",
       "      <th>rooms</th>\n",
       "    </tr>\n",
       "  </thead>\n",
       "  <tbody>\n",
       "    <tr>\n",
       "      <td>cityCenters_nearest</td>\n",
       "      <td>1.000000</td>\n",
       "      <td>-0.047632</td>\n",
       "      <td>-0.042440</td>\n",
       "      <td>-0.163717</td>\n",
       "    </tr>\n",
       "    <tr>\n",
       "      <td>days_exposition</td>\n",
       "      <td>-0.047632</td>\n",
       "      <td>1.000000</td>\n",
       "      <td>0.069482</td>\n",
       "      <td>0.097922</td>\n",
       "    </tr>\n",
       "    <tr>\n",
       "      <td>last_price</td>\n",
       "      <td>-0.042440</td>\n",
       "      <td>0.069482</td>\n",
       "      <td>1.000000</td>\n",
       "      <td>0.406953</td>\n",
       "    </tr>\n",
       "    <tr>\n",
       "      <td>rooms</td>\n",
       "      <td>-0.163717</td>\n",
       "      <td>0.097922</td>\n",
       "      <td>0.406953</td>\n",
       "      <td>1.000000</td>\n",
       "    </tr>\n",
       "  </tbody>\n",
       "</table>\n",
       "</div>"
      ],
      "text/plain": [
       "                     cityCenters_nearest  days_exposition  last_price  \\\n",
       "cityCenters_nearest             1.000000        -0.047632   -0.042440   \n",
       "days_exposition                -0.047632         1.000000    0.069482   \n",
       "last_price                     -0.042440         0.069482    1.000000   \n",
       "rooms                          -0.163717         0.097922    0.406953   \n",
       "\n",
       "                        rooms  \n",
       "cityCenters_nearest -0.163717  \n",
       "days_exposition      0.097922  \n",
       "last_price           0.406953  \n",
       "rooms                1.000000  "
      ]
     },
     "metadata": {},
     "output_type": "display_data"
    }
   ],
   "source": [
    "# матрица корреляции для всего города\n",
    "index_spb = spb_flats.index\n",
    "analys_spb = spb_flats.pivot_table(\n",
    "    index=index_spb, values=['days_exposition', 'rooms', 'cityCenters_nearest', 'last_price'], aggfunc='mean')\n",
    "print('Матрица корреляции для всего города')\n",
    "display(analys_spb.corr())\n",
    "# матрица корреляции для центра города\n",
    "index_spb_center = spb_center.index\n",
    "analys_spb_center = spb_center.pivot_table(\n",
    "    index=index_spb_center, values=['days_exposition', 'rooms', 'cityCenters_nearest', 'last_price'], aggfunc='mean')\n",
    "print('Матрица корреляции для центра города')\n",
    "display(analys_spb_center.corr())"
   ]
  },
  {
   "cell_type": "markdown",
   "metadata": {},
   "source": [
    "Проверим зависимость от вида этажа."
   ]
  },
  {
   "cell_type": "code",
   "execution_count": 202,
   "metadata": {},
   "outputs": [
    {
     "name": "stdout",
     "output_type": "stream",
     "text": [
      "Квартиры в центре\n"
     ]
    },
    {
     "data": {
      "image/png": "[encoded data removed]",
      "text/plain": [
       "<Figure size 360x288 with 1 Axes>"
      ]
     },
     "metadata": {
      "needs_background": "light"
     },
     "output_type": "display_data"
    },
    {
     "name": "stdout",
     "output_type": "stream",
     "text": [
      "Квартиры во всем городе\n"
     ]
    },
    {
     "data": {
      "image/png": "[encoded data removed]",
      "text/plain": [
       "<Figure size 360x288 with 1 Axes>"
      ]
     },
     "metadata": {
      "needs_background": "light"
     },
     "output_type": "display_data"
    }
   ],
   "source": [
    "floor_type_median_spb_center = spb_center.groupby('floor_type')['last_price'].median();\n",
    "floor_type_median_spb = spb_flats.groupby('floor_type')['last_price'].median();\n",
    "print('Квартиры в центре')\n",
    "plt.show()\n",
    "floor_type_median_spb_center.plot(x=floor_type_median_spb_center.index, y=floor_type_median_spb_center.values, \n",
    "                                  kind='bar', grid=True, figsize=(5,4), rot=45)\n",
    "plt.show()\n",
    "print('Квартиры во всем городе')\n",
    "floor_type_median_spb.plot(x=floor_type_median_spb.index, y=floor_type_median_spb.values, kind='bar', \n",
    "                           grid=True, figsize=(5,4), rot=45, color='r');"
   ]
  },
  {
   "cell_type": "markdown",
   "metadata": {},
   "source": [
    "Подводя итоги по факторам, влияющим на цену квартиры, отметим следующее:\n",
    "- Для всего города корреляция между ценой и расстоянием до центра слабая и отрицательная, что все-таки говорит о том, что цена падает с удалением от центра. Для центра города, понятное дело, данная взаимосвязь отсутствует;\n",
    "- Связь между датой публикации и ценой не прослеживается;\n",
    "- Количество комнат немного слабее влияет на цену в центре города, но взаимосвязь прослеживается: чем больше комнат, тем дороже;\n",
    "- Квартиры на первом этаже стоят дешевле одинаково по всему городу. А вот последний этаж в центре города не уступает другим этажам, это, скорее всего связано с тем, что в центре города малоэтажная и среднеэтажная застройка."
   ]
  },
  {
   "cell_type": "markdown",
   "metadata": {},
   "source": [
    "## Общий вывод"
   ]
  },
  {
   "cell_type": "markdown",
   "metadata": {},
   "source": [
    "Получен и изучен архив объявлений о продаже квартир в Санкт-Петербурге и соседних населённых пунктах за несколько лет. Исходный файл представлял из себя таблицу размером 23699 строк и 22 столбца.  \n",
    "В ходе предообработки данных были заполнены пропущенные данные в исследуемых столбцах и изменен тип данных, где это необходимо.  \n",
    "В ходе исследовательского анализа были отобраны основные параметры (общая площадь, цена, число комнат, высота потолков, расстояние до центра)и установлена связь (корреляция) между разными параметрами. Для наглядности проведенного анализа построены графики и матрицы.  \n",
    "\n",
    "В ходе работы над проектом пришел к выводам:\n",
    "- Больше всего квартир продаются в ценовом диапазоне 3,5 - 7 млн;\n",
    "- Наибольшее количество квартир с площадью 30 - 70  $м^2$ . Пик приходится примерно на 45  $м^2$ . Итог - основная доля квартир это 1-2 комнатные квартиры;\n",
    "- Наибольшее количество квартир с высотой потолков 2,60 - 2,70 м.;\n",
    "- На стоимость квартиры больше влияет её площадь(высокая и прямопропорцианальная зависимость). Затем следует фактор - количество комнат (средняя и прямопропорцианальная зависимость). Среднее влияние оказывает удаленность от центра  (обратная зависимость - с ростом расстояния от центра, цена на квартиры снижается). Стоит отметить, что есть зависимость от этажа - первый этаж самый дешевый и цена его существенно отличается от остальных. Жители предпочитают не первый и не последний этаж - его цена выше;\n",
    "- Дороже всего квартиры стоят в Санкт-Петербурге и в Пушкине, дешевле всего квартиру можно купить в Выборге;\n",
    "- От дня размещения объявления до продажи квартиры в среднем проходит 3-6 месяцев;\n",
    "- Квартиры, выставленные на продажу в выходные, дешевле, чем в другие дни недели;\n",
    "- Цена квартир, в период с февраля по май снижается, а в период с июня по декабрь, нелинейно, но растет. В январе наблюдается относительное затишье по ценам."
   ]
  }
 ],
 "metadata": {
  "ExecuteTimeLog": [
   {
    "duration": 705,
    "start_time": "2022-01-24T07:11:58.082Z"
   },
   {
    "duration": 94,
    "start_time": "2022-01-24T07:12:57.147Z"
   },
   {
    "duration": 69,
    "start_time": "2022-01-24T07:26:58.735Z"
   },
   {
    "duration": 10,
    "start_time": "2022-01-24T07:29:23.105Z"
   },
   {
    "duration": 88,
    "start_time": "2022-01-24T07:47:45.462Z"
   },
   {
    "duration": 88,
    "start_time": "2022-01-24T07:54:47.379Z"
   },
   {
    "duration": 68,
    "start_time": "2022-01-24T07:55:50.538Z"
   },
   {
    "duration": 7,
    "start_time": "2022-01-24T09:11:32.101Z"
   },
   {
    "duration": 397,
    "start_time": "2022-01-24T09:13:14.557Z"
   },
   {
    "duration": 5,
    "start_time": "2022-01-24T09:15:23.326Z"
   },
   {
    "duration": 7,
    "start_time": "2022-01-24T09:15:50.713Z"
   },
   {
    "duration": 7,
    "start_time": "2022-01-24T09:18:41.338Z"
   },
   {
    "duration": 339,
    "start_time": "2022-01-24T10:38:40.606Z"
   },
   {
    "duration": 6,
    "start_time": "2022-01-24T10:40:31.072Z"
   },
   {
    "duration": 7,
    "start_time": "2022-01-24T10:44:31.419Z"
   },
   {
    "duration": 10,
    "start_time": "2022-01-24T10:50:29.234Z"
   },
   {
    "duration": 6777,
    "start_time": "2022-01-24T11:10:24.262Z"
   },
   {
    "duration": 256,
    "start_time": "2022-01-24T11:11:13.011Z"
   },
   {
    "duration": 2115,
    "start_time": "2022-01-24T11:12:37.729Z"
   },
   {
    "duration": 16,
    "start_time": "2022-01-24T11:16:35.808Z"
   },
   {
    "duration": 249,
    "start_time": "2022-01-24T11:18:38.785Z"
   },
   {
    "duration": 250,
    "start_time": "2022-01-24T11:18:51.652Z"
   },
   {
    "duration": 6,
    "start_time": "2022-01-24T11:19:05.022Z"
   },
   {
    "duration": 6,
    "start_time": "2022-01-24T11:19:51.929Z"
   },
   {
    "duration": 14,
    "start_time": "2022-01-24T11:20:11.469Z"
   },
   {
    "duration": 5,
    "start_time": "2022-01-24T11:20:26.633Z"
   },
   {
    "duration": 38,
    "start_time": "2022-01-24T11:21:28.455Z"
   },
   {
    "duration": 8,
    "start_time": "2022-01-24T11:22:06.156Z"
   },
   {
    "duration": 7,
    "start_time": "2022-01-24T11:22:49.779Z"
   },
   {
    "duration": 284,
    "start_time": "2022-01-24T11:23:32.081Z"
   },
   {
    "duration": 6,
    "start_time": "2022-01-24T11:25:17.251Z"
   },
   {
    "duration": 2,
    "start_time": "2022-01-24T11:57:12.640Z"
   },
   {
    "duration": 94,
    "start_time": "2022-01-24T11:57:15.441Z"
   },
   {
    "duration": 11,
    "start_time": "2022-01-24T11:57:16.486Z"
   },
   {
    "duration": 71,
    "start_time": "2022-01-24T11:57:17.568Z"
   },
   {
    "duration": 13,
    "start_time": "2022-01-24T11:57:22.820Z"
   },
   {
    "duration": 10,
    "start_time": "2022-01-24T11:57:46.547Z"
   },
   {
    "duration": 8,
    "start_time": "2022-01-24T12:00:54.338Z"
   },
   {
    "duration": 6,
    "start_time": "2022-01-24T12:00:56.058Z"
   },
   {
    "duration": 11,
    "start_time": "2022-01-24T12:01:01.373Z"
   },
   {
    "duration": 8,
    "start_time": "2022-01-24T12:01:03.389Z"
   },
   {
    "duration": 262,
    "start_time": "2022-01-24T12:28:03.549Z"
   },
   {
    "duration": 294,
    "start_time": "2022-01-24T12:28:15.342Z"
   },
   {
    "duration": 5,
    "start_time": "2022-01-24T12:28:53.554Z"
   },
   {
    "duration": 6,
    "start_time": "2022-01-24T12:29:32.038Z"
   },
   {
    "duration": 4,
    "start_time": "2022-01-24T12:29:52.302Z"
   },
   {
    "duration": 380,
    "start_time": "2022-01-24T12:31:27.019Z"
   },
   {
    "duration": 437,
    "start_time": "2022-01-24T12:34:04.479Z"
   },
   {
    "duration": 473,
    "start_time": "2022-01-24T12:35:53.653Z"
   },
   {
    "duration": 290,
    "start_time": "2022-01-24T12:36:12.438Z"
   },
   {
    "duration": 4,
    "start_time": "2022-01-24T12:38:42.037Z"
   },
   {
    "duration": 5,
    "start_time": "2022-01-24T12:39:20.345Z"
   },
   {
    "duration": 147,
    "start_time": "2022-01-24T12:40:32.936Z"
   },
   {
    "duration": 226,
    "start_time": "2022-01-24T12:42:06.226Z"
   },
   {
    "duration": 272,
    "start_time": "2022-01-24T12:42:26.531Z"
   },
   {
    "duration": 1849,
    "start_time": "2022-01-24T12:42:40.467Z"
   },
   {
    "duration": 2184,
    "start_time": "2022-01-24T12:42:59.587Z"
   },
   {
    "duration": 384,
    "start_time": "2022-01-24T12:43:10.270Z"
   },
   {
    "duration": 359,
    "start_time": "2022-01-24T12:43:39.366Z"
   },
   {
    "duration": 504,
    "start_time": "2022-01-24T12:44:42.660Z"
   },
   {
    "duration": 9,
    "start_time": "2022-01-24T12:51:23.928Z"
   },
   {
    "duration": 10,
    "start_time": "2022-01-24T12:51:51.795Z"
   },
   {
    "duration": 8,
    "start_time": "2022-01-24T12:52:05.378Z"
   },
   {
    "duration": 8,
    "start_time": "2022-01-24T12:52:33.054Z"
   },
   {
    "duration": 9,
    "start_time": "2022-01-24T12:52:45.286Z"
   },
   {
    "duration": 8,
    "start_time": "2022-01-24T12:53:11.378Z"
   },
   {
    "duration": 8,
    "start_time": "2022-01-24T12:53:19.412Z"
   },
   {
    "duration": 8,
    "start_time": "2022-01-24T12:53:27.965Z"
   },
   {
    "duration": 521,
    "start_time": "2022-01-24T13:35:20.755Z"
   },
   {
    "duration": 85,
    "start_time": "2022-01-24T13:39:09.855Z"
   },
   {
    "duration": 679,
    "start_time": "2022-01-24T13:39:25.320Z"
   },
   {
    "duration": 747,
    "start_time": "2022-01-24T13:45:56.626Z"
   },
   {
    "duration": 938,
    "start_time": "2022-01-24T13:46:19.433Z"
   },
   {
    "duration": 711,
    "start_time": "2022-01-24T13:47:15.727Z"
   },
   {
    "duration": 705,
    "start_time": "2022-01-24T13:47:57.211Z"
   },
   {
    "duration": 22,
    "start_time": "2022-01-24T13:53:31.358Z"
   },
   {
    "duration": 10,
    "start_time": "2022-01-24T13:53:53.380Z"
   },
   {
    "duration": 350,
    "start_time": "2022-01-24T13:56:32.451Z"
   },
   {
    "duration": 9,
    "start_time": "2022-01-24T13:59:12.371Z"
   },
   {
    "duration": 3,
    "start_time": "2022-01-24T14:00:24.182Z"
   },
   {
    "duration": 93,
    "start_time": "2022-01-24T14:00:25.248Z"
   },
   {
    "duration": 13,
    "start_time": "2022-01-24T14:00:26.371Z"
   },
   {
    "duration": 72,
    "start_time": "2022-01-24T14:00:27.786Z"
   },
   {
    "duration": 22,
    "start_time": "2022-01-24T14:00:32.086Z"
   },
   {
    "duration": 5,
    "start_time": "2022-01-24T14:00:35.386Z"
   },
   {
    "duration": 408,
    "start_time": "2022-01-24T14:00:40.073Z"
   },
   {
    "duration": 997,
    "start_time": "2022-01-24T14:00:43.021Z"
   },
   {
    "duration": 11,
    "start_time": "2022-01-24T14:00:50.049Z"
   },
   {
    "duration": 8,
    "start_time": "2022-01-24T14:00:52.160Z"
   },
   {
    "duration": 6,
    "start_time": "2022-01-24T14:02:18.536Z"
   },
   {
    "duration": 197,
    "start_time": "2022-01-24T14:02:35.166Z"
   },
   {
    "duration": 406,
    "start_time": "2022-01-24T14:02:51.756Z"
   },
   {
    "duration": 4,
    "start_time": "2022-01-24T14:03:27.927Z"
   },
   {
    "duration": 7,
    "start_time": "2022-01-24T14:03:53.548Z"
   },
   {
    "duration": 12,
    "start_time": "2022-01-24T14:06:02.367Z"
   },
   {
    "duration": 259,
    "start_time": "2022-01-24T14:06:18.364Z"
   },
   {
    "duration": 263,
    "start_time": "2022-01-24T14:06:45.825Z"
   },
   {
    "duration": 251,
    "start_time": "2022-01-24T14:07:46.206Z"
   },
   {
    "duration": 188,
    "start_time": "2022-01-24T14:08:10.692Z"
   },
   {
    "duration": 143,
    "start_time": "2022-01-24T14:09:11.837Z"
   },
   {
    "duration": 145,
    "start_time": "2022-01-24T14:10:13.221Z"
   },
   {
    "duration": 152,
    "start_time": "2022-01-24T14:10:24.040Z"
   },
   {
    "duration": 175,
    "start_time": "2022-01-24T14:15:38.022Z"
   },
   {
    "duration": 6,
    "start_time": "2022-01-24T14:17:17.986Z"
   },
   {
    "duration": 10,
    "start_time": "2022-01-24T14:18:49.025Z"
   },
   {
    "duration": 4,
    "start_time": "2022-01-24T14:19:09.390Z"
   },
   {
    "duration": 3,
    "start_time": "2022-01-24T14:19:35.309Z"
   },
   {
    "duration": 91,
    "start_time": "2022-01-24T14:19:37.673Z"
   },
   {
    "duration": 11,
    "start_time": "2022-01-24T14:19:38.924Z"
   },
   {
    "duration": 68,
    "start_time": "2022-01-24T14:19:39.821Z"
   },
   {
    "duration": 13,
    "start_time": "2022-01-24T14:19:45.585Z"
   },
   {
    "duration": 8,
    "start_time": "2022-01-24T14:19:49.409Z"
   },
   {
    "duration": 389,
    "start_time": "2022-01-24T14:19:51.965Z"
   },
   {
    "duration": 794,
    "start_time": "2022-01-24T14:19:56.172Z"
   },
   {
    "duration": 10,
    "start_time": "2022-01-24T14:20:00.635Z"
   },
   {
    "duration": 152,
    "start_time": "2022-01-24T14:20:02.825Z"
   },
   {
    "duration": 11,
    "start_time": "2022-01-24T14:20:22.960Z"
   },
   {
    "duration": 5,
    "start_time": "2022-01-24T14:20:33.466Z"
   },
   {
    "duration": 6,
    "start_time": "2022-01-24T14:21:56.788Z"
   },
   {
    "duration": 293,
    "start_time": "2022-01-24T14:25:31.578Z"
   },
   {
    "duration": 90,
    "start_time": "2022-01-24T14:25:51.128Z"
   },
   {
    "duration": 9,
    "start_time": "2022-01-24T14:25:53.895Z"
   },
   {
    "duration": 34,
    "start_time": "2022-01-24T14:26:31.253Z"
   },
   {
    "duration": 10,
    "start_time": "2022-01-24T14:27:52.973Z"
   },
   {
    "duration": 11,
    "start_time": "2022-01-24T14:28:30.407Z"
   },
   {
    "duration": 8,
    "start_time": "2022-01-24T14:28:48.973Z"
   },
   {
    "duration": 88,
    "start_time": "2022-01-24T14:39:12.958Z"
   },
   {
    "duration": 11,
    "start_time": "2022-01-24T14:39:14.620Z"
   },
   {
    "duration": 65,
    "start_time": "2022-01-24T14:39:22.658Z"
   },
   {
    "duration": 15,
    "start_time": "2022-01-24T14:39:29.245Z"
   },
   {
    "duration": 6,
    "start_time": "2022-01-24T14:39:30.527Z"
   },
   {
    "duration": 349,
    "start_time": "2022-01-24T14:39:31.977Z"
   },
   {
    "duration": 911,
    "start_time": "2022-01-24T14:39:39.449Z"
   },
   {
    "duration": 10,
    "start_time": "2022-01-24T14:39:43.830Z"
   },
   {
    "duration": 144,
    "start_time": "2022-01-24T14:39:47.289Z"
   },
   {
    "duration": 8,
    "start_time": "2022-01-24T14:39:53.458Z"
   },
   {
    "duration": 6315,
    "start_time": "2022-01-24T14:55:16.463Z"
   },
   {
    "duration": 8,
    "start_time": "2022-01-24T14:56:28.454Z"
   },
   {
    "duration": 7,
    "start_time": "2022-01-24T14:56:48.641Z"
   },
   {
    "duration": 7,
    "start_time": "2022-01-24T15:00:10.940Z"
   },
   {
    "duration": 9,
    "start_time": "2022-01-24T15:00:21.891Z"
   },
   {
    "duration": 8,
    "start_time": "2022-01-24T15:00:28.499Z"
   },
   {
    "duration": 8,
    "start_time": "2022-01-24T15:00:41.403Z"
   },
   {
    "duration": 8,
    "start_time": "2022-01-24T15:00:49.806Z"
   },
   {
    "duration": 7,
    "start_time": "2022-01-24T15:05:21.986Z"
   },
   {
    "duration": 8,
    "start_time": "2022-01-24T15:05:34.145Z"
   },
   {
    "duration": 8,
    "start_time": "2022-01-24T15:05:45.247Z"
   },
   {
    "duration": 8,
    "start_time": "2022-01-24T15:06:13.101Z"
   },
   {
    "duration": 9,
    "start_time": "2022-01-24T15:07:07.456Z"
   },
   {
    "duration": 9,
    "start_time": "2022-01-24T15:16:43.003Z"
   },
   {
    "duration": 11,
    "start_time": "2022-01-24T15:17:05.212Z"
   },
   {
    "duration": 8,
    "start_time": "2022-01-24T15:17:42.193Z"
   },
   {
    "duration": 5241,
    "start_time": "2022-01-24T15:23:50.791Z"
   },
   {
    "duration": 12,
    "start_time": "2022-01-24T15:24:34.774Z"
   },
   {
    "duration": 12,
    "start_time": "2022-01-24T15:25:10.542Z"
   },
   {
    "duration": 7,
    "start_time": "2022-01-24T15:25:31.236Z"
   },
   {
    "duration": 8,
    "start_time": "2022-01-24T15:25:39.582Z"
   },
   {
    "duration": 9,
    "start_time": "2022-01-24T15:26:12.915Z"
   },
   {
    "duration": 10,
    "start_time": "2022-01-24T15:26:27.106Z"
   },
   {
    "duration": 9,
    "start_time": "2022-01-24T15:28:23.151Z"
   },
   {
    "duration": 9,
    "start_time": "2022-01-24T15:28:29.986Z"
   },
   {
    "duration": 7,
    "start_time": "2022-01-24T15:29:13.828Z"
   },
   {
    "duration": 9,
    "start_time": "2022-01-24T15:32:19.599Z"
   },
   {
    "duration": 14,
    "start_time": "2022-01-24T15:33:10.257Z"
   },
   {
    "duration": 14,
    "start_time": "2022-01-24T15:33:57.203Z"
   },
   {
    "duration": 10,
    "start_time": "2022-01-24T15:34:23.028Z"
   },
   {
    "duration": 83,
    "start_time": "2022-01-24T15:34:46.445Z"
   },
   {
    "duration": 20,
    "start_time": "2022-01-24T15:34:56.075Z"
   },
   {
    "duration": 88,
    "start_time": "2022-01-24T15:35:54.150Z"
   },
   {
    "duration": 16,
    "start_time": "2022-01-24T15:36:06.125Z"
   },
   {
    "duration": 2,
    "start_time": "2022-01-24T15:43:18.047Z"
   },
   {
    "duration": 102,
    "start_time": "2022-01-24T15:43:19.008Z"
   },
   {
    "duration": 12,
    "start_time": "2022-01-24T15:43:25.068Z"
   },
   {
    "duration": 80,
    "start_time": "2022-01-24T15:43:28.884Z"
   },
   {
    "duration": 13,
    "start_time": "2022-01-24T15:43:33.504Z"
   },
   {
    "duration": 7,
    "start_time": "2022-01-24T15:43:36.004Z"
   },
   {
    "duration": 383,
    "start_time": "2022-01-24T15:43:36.864Z"
   },
   {
    "duration": 688,
    "start_time": "2022-01-24T15:43:38.484Z"
   },
   {
    "duration": 9,
    "start_time": "2022-01-24T15:43:39.971Z"
   },
   {
    "duration": 142,
    "start_time": "2022-01-24T15:43:42.075Z"
   },
   {
    "duration": 10,
    "start_time": "2022-01-24T15:43:45.220Z"
   },
   {
    "duration": 6,
    "start_time": "2022-01-24T15:43:48.828Z"
   },
   {
    "duration": 9,
    "start_time": "2022-01-24T15:44:17.477Z"
   },
   {
    "duration": 8,
    "start_time": "2022-01-24T15:44:31.339Z"
   },
   {
    "duration": 248,
    "start_time": "2022-01-24T15:50:23.115Z"
   },
   {
    "duration": 20,
    "start_time": "2022-01-24T15:51:08.766Z"
   },
   {
    "duration": 356,
    "start_time": "2022-01-24T15:51:33.416Z"
   },
   {
    "duration": 13,
    "start_time": "2022-01-24T15:51:42.047Z"
   },
   {
    "duration": 8,
    "start_time": "2022-01-24T15:52:47.790Z"
   },
   {
    "duration": 12,
    "start_time": "2022-01-24T15:54:43.454Z"
   },
   {
    "duration": 240,
    "start_time": "2022-01-24T15:55:43.443Z"
   },
   {
    "duration": 241,
    "start_time": "2022-01-24T15:56:06.229Z"
   },
   {
    "duration": 89,
    "start_time": "2022-01-24T15:56:17.803Z"
   },
   {
    "duration": 15,
    "start_time": "2022-01-24T15:56:26.781Z"
   },
   {
    "duration": 3,
    "start_time": "2022-01-24T15:56:53.482Z"
   },
   {
    "duration": 85,
    "start_time": "2022-01-24T15:56:54.262Z"
   },
   {
    "duration": 11,
    "start_time": "2022-01-24T15:56:55.002Z"
   },
   {
    "duration": 73,
    "start_time": "2022-01-24T15:56:57.242Z"
   },
   {
    "duration": 13,
    "start_time": "2022-01-24T15:57:02.956Z"
   },
   {
    "duration": 7,
    "start_time": "2022-01-24T15:57:07.145Z"
   },
   {
    "duration": 365,
    "start_time": "2022-01-24T15:57:08.633Z"
   },
   {
    "duration": 685,
    "start_time": "2022-01-24T15:57:10.572Z"
   },
   {
    "duration": 11,
    "start_time": "2022-01-24T15:57:12.212Z"
   },
   {
    "duration": 158,
    "start_time": "2022-01-24T15:57:13.753Z"
   },
   {
    "duration": 9,
    "start_time": "2022-01-24T15:57:15.773Z"
   },
   {
    "duration": 7,
    "start_time": "2022-01-24T15:57:16.973Z"
   },
   {
    "duration": 9,
    "start_time": "2022-01-24T15:57:37.932Z"
   },
   {
    "duration": 7,
    "start_time": "2022-01-24T15:57:40.276Z"
   },
   {
    "duration": 13,
    "start_time": "2022-01-24T15:57:44.438Z"
   },
   {
    "duration": 234,
    "start_time": "2022-01-24T15:58:58.919Z"
   },
   {
    "duration": 95,
    "start_time": "2022-01-24T15:59:33.798Z"
   },
   {
    "duration": 8,
    "start_time": "2022-01-24T15:59:46.363Z"
   },
   {
    "duration": 84,
    "start_time": "2022-01-24T16:00:44.951Z"
   },
   {
    "duration": 10,
    "start_time": "2022-01-24T16:00:59.533Z"
   },
   {
    "duration": 42,
    "start_time": "2022-01-24T16:32:01.666Z"
   },
   {
    "duration": 22,
    "start_time": "2022-01-24T16:32:24.138Z"
   },
   {
    "duration": 9,
    "start_time": "2022-01-24T16:32:50.235Z"
   },
   {
    "duration": 7,
    "start_time": "2022-01-24T16:33:01.195Z"
   },
   {
    "duration": 6,
    "start_time": "2022-01-24T16:33:06.238Z"
   },
   {
    "duration": 15,
    "start_time": "2022-01-24T16:33:06.982Z"
   },
   {
    "duration": 3,
    "start_time": "2022-01-24T16:33:23.021Z"
   },
   {
    "duration": 87,
    "start_time": "2022-01-24T16:33:24.302Z"
   },
   {
    "duration": 11,
    "start_time": "2022-01-24T16:33:25.641Z"
   },
   {
    "duration": 69,
    "start_time": "2022-01-24T16:33:26.881Z"
   },
   {
    "duration": 12,
    "start_time": "2022-01-24T16:33:31.354Z"
   },
   {
    "duration": 7,
    "start_time": "2022-01-24T16:33:33.574Z"
   },
   {
    "duration": 636,
    "start_time": "2022-01-24T16:33:35.756Z"
   },
   {
    "duration": 665,
    "start_time": "2022-01-24T16:33:38.006Z"
   },
   {
    "duration": 9,
    "start_time": "2022-01-24T16:33:41.547Z"
   },
   {
    "duration": 147,
    "start_time": "2022-01-24T16:33:46.524Z"
   },
   {
    "duration": 9,
    "start_time": "2022-01-24T16:33:53.615Z"
   },
   {
    "duration": 6,
    "start_time": "2022-01-24T16:33:55.478Z"
   },
   {
    "duration": 10,
    "start_time": "2022-01-24T16:34:01.394Z"
   },
   {
    "duration": 7,
    "start_time": "2022-01-24T16:34:06.802Z"
   },
   {
    "duration": 5,
    "start_time": "2022-01-24T16:34:07.454Z"
   },
   {
    "duration": 10,
    "start_time": "2022-01-24T16:34:08.811Z"
   },
   {
    "duration": 9,
    "start_time": "2022-01-24T16:35:05.940Z"
   },
   {
    "duration": 10,
    "start_time": "2022-01-24T17:03:24.670Z"
   },
   {
    "duration": 292,
    "start_time": "2022-01-24T17:03:29.621Z"
   },
   {
    "duration": 16,
    "start_time": "2022-01-24T17:03:40.375Z"
   },
   {
    "duration": 14,
    "start_time": "2022-01-24T17:04:08.327Z"
   },
   {
    "duration": 7,
    "start_time": "2022-01-24T17:04:22.686Z"
   },
   {
    "duration": 5,
    "start_time": "2022-01-24T17:04:54.563Z"
   },
   {
    "duration": 6,
    "start_time": "2022-01-24T17:05:11.538Z"
   },
   {
    "duration": 16,
    "start_time": "2022-01-24T17:05:56.236Z"
   },
   {
    "duration": 2,
    "start_time": "2022-01-24T17:06:22.121Z"
   },
   {
    "duration": 86,
    "start_time": "2022-01-24T17:06:22.900Z"
   },
   {
    "duration": 11,
    "start_time": "2022-01-24T17:06:24.070Z"
   },
   {
    "duration": 120,
    "start_time": "2022-01-24T17:06:24.970Z"
   },
   {
    "duration": 13,
    "start_time": "2022-01-24T17:06:29.137Z"
   },
   {
    "duration": 6,
    "start_time": "2022-01-24T17:06:32.712Z"
   },
   {
    "duration": 367,
    "start_time": "2022-01-24T17:06:33.928Z"
   },
   {
    "duration": 710,
    "start_time": "2022-01-24T17:06:36.468Z"
   },
   {
    "duration": 8,
    "start_time": "2022-01-24T17:06:40.468Z"
   },
   {
    "duration": 149,
    "start_time": "2022-01-24T17:06:45.782Z"
   },
   {
    "duration": 9,
    "start_time": "2022-01-24T17:06:50.237Z"
   },
   {
    "duration": 6,
    "start_time": "2022-01-24T17:06:53.090Z"
   },
   {
    "duration": 9,
    "start_time": "2022-01-24T17:06:58.905Z"
   },
   {
    "duration": 6,
    "start_time": "2022-01-24T17:07:02.984Z"
   },
   {
    "duration": 6,
    "start_time": "2022-01-24T17:07:03.063Z"
   },
   {
    "duration": 9,
    "start_time": "2022-01-24T17:07:03.184Z"
   },
   {
    "duration": 16,
    "start_time": "2022-01-24T17:07:07.312Z"
   },
   {
    "duration": 22,
    "start_time": "2022-01-24T17:07:12.759Z"
   },
   {
    "duration": 12,
    "start_time": "2022-01-24T17:08:09.541Z"
   },
   {
    "duration": 15,
    "start_time": "2022-01-24T17:08:15.741Z"
   },
   {
    "duration": 4,
    "start_time": "2022-01-24T17:13:07.475Z"
   },
   {
    "duration": 11,
    "start_time": "2022-01-24T17:13:11.921Z"
   },
   {
    "duration": 5,
    "start_time": "2022-01-24T17:14:51.308Z"
   },
   {
    "duration": 10,
    "start_time": "2022-01-24T17:19:09.086Z"
   },
   {
    "duration": 3,
    "start_time": "2022-01-24T17:19:29.141Z"
   },
   {
    "duration": 92,
    "start_time": "2022-01-24T17:19:29.371Z"
   },
   {
    "duration": 11,
    "start_time": "2022-01-24T17:19:30.291Z"
   },
   {
    "duration": 74,
    "start_time": "2022-01-24T17:19:32.429Z"
   },
   {
    "duration": 17,
    "start_time": "2022-01-24T17:19:38.092Z"
   },
   {
    "duration": 9,
    "start_time": "2022-01-24T17:19:47.803Z"
   },
   {
    "duration": 6,
    "start_time": "2022-01-24T17:21:37.492Z"
   },
   {
    "duration": 361,
    "start_time": "2022-01-24T17:21:38.586Z"
   },
   {
    "duration": 685,
    "start_time": "2022-01-24T17:21:42.468Z"
   },
   {
    "duration": 8,
    "start_time": "2022-01-24T17:21:44.904Z"
   },
   {
    "duration": 226,
    "start_time": "2022-01-24T17:21:47.019Z"
   },
   {
    "duration": 9,
    "start_time": "2022-01-24T17:21:50.054Z"
   },
   {
    "duration": 7,
    "start_time": "2022-01-24T17:21:53.456Z"
   },
   {
    "duration": 9,
    "start_time": "2022-01-24T17:22:29.095Z"
   },
   {
    "duration": 7,
    "start_time": "2022-01-24T17:22:31.284Z"
   },
   {
    "duration": 6,
    "start_time": "2022-01-24T17:22:31.945Z"
   },
   {
    "duration": 9,
    "start_time": "2022-01-24T17:22:34.206Z"
   },
   {
    "duration": 4,
    "start_time": "2022-01-24T17:22:40.907Z"
   },
   {
    "duration": 4,
    "start_time": "2022-01-24T17:22:42.087Z"
   },
   {
    "duration": 6,
    "start_time": "2022-01-24T17:23:05.538Z"
   },
   {
    "duration": 9,
    "start_time": "2022-01-24T17:23:09.074Z"
   },
   {
    "duration": 377,
    "start_time": "2022-01-25T07:29:10.160Z"
   },
   {
    "duration": 876,
    "start_time": "2022-01-25T07:29:39.165Z"
   },
   {
    "duration": 194,
    "start_time": "2022-01-25T07:29:40.044Z"
   },
   {
    "duration": 25,
    "start_time": "2022-01-25T07:29:40.243Z"
   },
   {
    "duration": 182,
    "start_time": "2022-01-25T07:29:40.272Z"
   },
   {
    "duration": 17,
    "start_time": "2022-01-25T07:29:40.456Z"
   },
   {
    "duration": 12,
    "start_time": "2022-01-25T07:29:40.475Z"
   },
   {
    "duration": 5,
    "start_time": "2022-01-25T07:29:40.490Z"
   },
   {
    "duration": 688,
    "start_time": "2022-01-25T07:29:40.499Z"
   },
   {
    "duration": 1301,
    "start_time": "2022-01-25T07:29:41.191Z"
   },
   {
    "duration": 18,
    "start_time": "2022-01-25T07:29:42.494Z"
   },
   {
    "duration": 283,
    "start_time": "2022-01-25T07:29:42.514Z"
   },
   {
    "duration": 33,
    "start_time": "2022-01-25T07:29:42.800Z"
   },
   {
    "duration": 13,
    "start_time": "2022-01-25T07:29:42.836Z"
   },
   {
    "duration": 18,
    "start_time": "2022-01-25T07:29:42.852Z"
   },
   {
    "duration": 13,
    "start_time": "2022-01-25T07:29:42.873Z"
   },
   {
    "duration": 13,
    "start_time": "2022-01-25T07:29:42.891Z"
   },
   {
    "duration": 23,
    "start_time": "2022-01-25T07:29:42.933Z"
   },
   {
    "duration": 15,
    "start_time": "2022-01-25T07:29:42.959Z"
   },
   {
    "duration": 17,
    "start_time": "2022-01-25T07:29:42.976Z"
   },
   {
    "duration": 21,
    "start_time": "2022-01-25T07:29:42.995Z"
   },
   {
    "duration": 33,
    "start_time": "2022-01-25T07:29:43.019Z"
   },
   {
    "duration": 8,
    "start_time": "2022-01-25T07:29:49.569Z"
   },
   {
    "duration": 15,
    "start_time": "2022-01-25T07:31:50.940Z"
   },
   {
    "duration": 23,
    "start_time": "2022-01-25T07:56:58.094Z"
   },
   {
    "duration": 28,
    "start_time": "2022-01-25T07:57:06.342Z"
   },
   {
    "duration": 9,
    "start_time": "2022-01-25T08:02:24.976Z"
   },
   {
    "duration": 21,
    "start_time": "2022-01-25T08:02:53.962Z"
   },
   {
    "duration": 25,
    "start_time": "2022-01-25T08:02:55.142Z"
   },
   {
    "duration": 22,
    "start_time": "2022-01-25T08:03:21.256Z"
   },
   {
    "duration": 42,
    "start_time": "2022-01-25T08:03:23.577Z"
   },
   {
    "duration": 25,
    "start_time": "2022-01-25T08:03:47.912Z"
   },
   {
    "duration": 25,
    "start_time": "2022-01-25T08:03:51.051Z"
   },
   {
    "duration": 6234,
    "start_time": "2022-01-25T08:16:00.921Z"
   },
   {
    "duration": 249,
    "start_time": "2022-01-25T08:16:29.244Z"
   },
   {
    "duration": 18,
    "start_time": "2022-01-25T08:16:42.452Z"
   },
   {
    "duration": 249,
    "start_time": "2022-01-25T08:17:33.962Z"
   },
   {
    "duration": 28,
    "start_time": "2022-01-25T08:17:49.830Z"
   },
   {
    "duration": 1619,
    "start_time": "2022-01-25T08:22:06.271Z"
   },
   {
    "duration": 1635,
    "start_time": "2022-01-25T08:22:14.090Z"
   },
   {
    "duration": 7,
    "start_time": "2022-01-25T08:22:45.767Z"
   },
   {
    "duration": 9,
    "start_time": "2022-01-25T08:23:14.063Z"
   },
   {
    "duration": 46,
    "start_time": "2022-01-25T08:23:39.744Z"
   },
   {
    "duration": 8,
    "start_time": "2022-01-25T08:27:44.286Z"
   },
   {
    "duration": 11,
    "start_time": "2022-01-25T08:27:59.643Z"
   },
   {
    "duration": 11,
    "start_time": "2022-01-25T08:28:56.568Z"
   },
   {
    "duration": 8,
    "start_time": "2022-01-25T08:29:14.762Z"
   },
   {
    "duration": 21,
    "start_time": "2022-01-25T08:32:23.346Z"
   },
   {
    "duration": 30,
    "start_time": "2022-01-25T08:32:25.025Z"
   },
   {
    "duration": 1703,
    "start_time": "2022-01-25T08:32:26.165Z"
   },
   {
    "duration": 63,
    "start_time": "2022-01-25T08:32:28.005Z"
   },
   {
    "duration": 295,
    "start_time": "2022-01-25T08:33:15.283Z"
   },
   {
    "duration": 10,
    "start_time": "2022-01-25T08:34:00.040Z"
   },
   {
    "duration": 15,
    "start_time": "2022-01-25T08:34:05.385Z"
   },
   {
    "duration": 1582,
    "start_time": "2022-01-25T08:34:07.275Z"
   },
   {
    "duration": 25,
    "start_time": "2022-01-25T08:34:08.861Z"
   },
   {
    "duration": 17,
    "start_time": "2022-01-25T08:37:02.030Z"
   },
   {
    "duration": 11,
    "start_time": "2022-01-25T08:37:32.518Z"
   },
   {
    "duration": 3106,
    "start_time": "2022-01-25T08:38:42.705Z"
   },
   {
    "duration": 27,
    "start_time": "2022-01-25T08:38:49.784Z"
   },
   {
    "duration": 285,
    "start_time": "2022-01-25T08:41:00.545Z"
   },
   {
    "duration": 277,
    "start_time": "2022-01-25T08:41:45.671Z"
   },
   {
    "duration": 270,
    "start_time": "2022-01-25T08:42:00.497Z"
   },
   {
    "duration": 14,
    "start_time": "2022-01-25T08:43:42.339Z"
   },
   {
    "duration": 8,
    "start_time": "2022-01-25T08:44:20.567Z"
   },
   {
    "duration": 7,
    "start_time": "2022-01-25T08:44:37.767Z"
   },
   {
    "duration": 14,
    "start_time": "2022-01-25T08:44:48.735Z"
   },
   {
    "duration": 3,
    "start_time": "2022-01-25T08:45:14.760Z"
   },
   {
    "duration": 187,
    "start_time": "2022-01-25T08:45:14.770Z"
   },
   {
    "duration": 24,
    "start_time": "2022-01-25T08:45:14.961Z"
   },
   {
    "duration": 150,
    "start_time": "2022-01-25T08:45:14.989Z"
   },
   {
    "duration": 19,
    "start_time": "2022-01-25T08:45:15.143Z"
   },
   {
    "duration": 13,
    "start_time": "2022-01-25T08:45:15.164Z"
   },
   {
    "duration": 7,
    "start_time": "2022-01-25T08:45:15.179Z"
   },
   {
    "duration": 985,
    "start_time": "2022-01-25T08:45:15.188Z"
   },
   {
    "duration": 1562,
    "start_time": "2022-01-25T08:45:16.179Z"
   },
   {
    "duration": 14,
    "start_time": "2022-01-25T08:45:17.746Z"
   },
   {
    "duration": 318,
    "start_time": "2022-01-25T08:45:17.763Z"
   },
   {
    "duration": 12,
    "start_time": "2022-01-25T08:45:18.083Z"
   },
   {
    "duration": 14,
    "start_time": "2022-01-25T08:45:18.098Z"
   },
   {
    "duration": 34,
    "start_time": "2022-01-25T08:45:18.115Z"
   },
   {
    "duration": 13,
    "start_time": "2022-01-25T08:45:18.152Z"
   },
   {
    "duration": 9,
    "start_time": "2022-01-25T08:45:18.168Z"
   },
   {
    "duration": 12,
    "start_time": "2022-01-25T08:45:18.179Z"
   },
   {
    "duration": 43,
    "start_time": "2022-01-25T08:45:18.194Z"
   },
   {
    "duration": 16,
    "start_time": "2022-01-25T08:45:18.241Z"
   },
   {
    "duration": 8,
    "start_time": "2022-01-25T08:45:18.260Z"
   },
   {
    "duration": 16,
    "start_time": "2022-01-25T08:45:18.270Z"
   },
   {
    "duration": 12,
    "start_time": "2022-01-25T08:45:23.326Z"
   },
   {
    "duration": 6,
    "start_time": "2022-01-25T08:45:24.536Z"
   },
   {
    "duration": 21,
    "start_time": "2022-01-25T08:45:41.201Z"
   },
   {
    "duration": 24,
    "start_time": "2022-01-25T08:45:51.960Z"
   },
   {
    "duration": 3458,
    "start_time": "2022-01-25T08:45:53.094Z"
   },
   {
    "duration": 3247,
    "start_time": "2022-01-25T08:46:02.756Z"
   },
   {
    "duration": 14,
    "start_time": "2022-01-25T08:46:09.914Z"
   },
   {
    "duration": 18,
    "start_time": "2022-01-25T08:46:11.234Z"
   },
   {
    "duration": 14,
    "start_time": "2022-01-25T08:56:00.833Z"
   },
   {
    "duration": 675,
    "start_time": "2022-01-25T09:01:42.557Z"
   },
   {
    "duration": 373,
    "start_time": "2022-01-25T09:02:05.164Z"
   },
   {
    "duration": 364,
    "start_time": "2022-01-25T09:02:41.333Z"
   },
   {
    "duration": 644,
    "start_time": "2022-01-25T09:02:56.291Z"
   },
   {
    "duration": 401,
    "start_time": "2022-01-25T09:03:49.086Z"
   },
   {
    "duration": 415,
    "start_time": "2022-01-25T09:04:33.345Z"
   },
   {
    "duration": 526,
    "start_time": "2022-01-25T09:04:48.094Z"
   },
   {
    "duration": 850,
    "start_time": "2022-01-25T09:15:01.276Z"
   },
   {
    "duration": 817,
    "start_time": "2022-01-25T09:15:55.786Z"
   },
   {
    "duration": 9,
    "start_time": "2022-01-25T09:18:42.129Z"
   },
   {
    "duration": 836,
    "start_time": "2022-01-25T09:19:56.221Z"
   },
   {
    "duration": 786,
    "start_time": "2022-01-25T09:20:23.924Z"
   },
   {
    "duration": 412,
    "start_time": "2022-01-25T09:21:42.197Z"
   },
   {
    "duration": 422,
    "start_time": "2022-01-25T09:22:17.717Z"
   },
   {
    "duration": 510,
    "start_time": "2022-01-25T09:22:48.475Z"
   },
   {
    "duration": 500,
    "start_time": "2022-01-25T09:23:03.614Z"
   },
   {
    "duration": 12,
    "start_time": "2022-01-25T09:29:53.821Z"
   },
   {
    "duration": 20,
    "start_time": "2022-01-25T09:30:42.663Z"
   },
   {
    "duration": 18,
    "start_time": "2022-01-25T09:30:58.729Z"
   },
   {
    "duration": 12,
    "start_time": "2022-01-25T09:32:32.445Z"
   },
   {
    "duration": 14,
    "start_time": "2022-01-25T09:35:12.846Z"
   },
   {
    "duration": 12,
    "start_time": "2022-01-25T09:37:53.297Z"
   },
   {
    "duration": 18,
    "start_time": "2022-01-25T09:38:22.454Z"
   },
   {
    "duration": 14,
    "start_time": "2022-01-25T09:39:19.621Z"
   },
   {
    "duration": 10,
    "start_time": "2022-01-25T09:41:02.252Z"
   },
   {
    "duration": 13,
    "start_time": "2022-01-25T09:42:06.874Z"
   },
   {
    "duration": 6929,
    "start_time": "2022-01-25T09:43:05.710Z"
   },
   {
    "duration": 35,
    "start_time": "2022-01-25T09:43:28.004Z"
   },
   {
    "duration": 654,
    "start_time": "2022-01-25T13:19:40.316Z"
   },
   {
    "duration": 90,
    "start_time": "2022-01-25T13:19:40.972Z"
   },
   {
    "duration": 11,
    "start_time": "2022-01-25T13:19:41.064Z"
   },
   {
    "duration": 81,
    "start_time": "2022-01-25T13:19:41.077Z"
   },
   {
    "duration": 14,
    "start_time": "2022-01-25T13:19:41.159Z"
   },
   {
    "duration": 28,
    "start_time": "2022-01-25T13:19:41.175Z"
   },
   {
    "duration": 5,
    "start_time": "2022-01-25T13:19:41.204Z"
   },
   {
    "duration": 416,
    "start_time": "2022-01-25T13:19:41.211Z"
   },
   {
    "duration": 829,
    "start_time": "2022-01-25T13:19:41.629Z"
   },
   {
    "duration": 10,
    "start_time": "2022-01-25T13:19:42.459Z"
   },
   {
    "duration": 177,
    "start_time": "2022-01-25T13:19:42.471Z"
   },
   {
    "duration": 8,
    "start_time": "2022-01-25T13:19:42.650Z"
   },
   {
    "duration": 10,
    "start_time": "2022-01-25T13:19:42.659Z"
   },
   {
    "duration": 10,
    "start_time": "2022-01-25T13:19:42.671Z"
   },
   {
    "duration": 19,
    "start_time": "2022-01-25T13:19:42.683Z"
   },
   {
    "duration": 7,
    "start_time": "2022-01-25T13:19:42.704Z"
   },
   {
    "duration": 9,
    "start_time": "2022-01-25T13:19:42.713Z"
   },
   {
    "duration": 3,
    "start_time": "2022-01-25T13:19:42.724Z"
   },
   {
    "duration": 6,
    "start_time": "2022-01-25T13:19:42.728Z"
   },
   {
    "duration": 7,
    "start_time": "2022-01-25T13:19:42.735Z"
   },
   {
    "duration": 9,
    "start_time": "2022-01-25T13:19:42.744Z"
   },
   {
    "duration": 4,
    "start_time": "2022-01-25T13:19:42.755Z"
   },
   {
    "duration": 5,
    "start_time": "2022-01-25T13:19:42.798Z"
   },
   {
    "duration": 485,
    "start_time": "2022-01-25T13:19:42.804Z"
   },
   {
    "duration": 14,
    "start_time": "2022-01-25T13:19:43.291Z"
   },
   {
    "duration": 10,
    "start_time": "2022-01-25T13:19:43.306Z"
   },
   {
    "duration": 8,
    "start_time": "2022-01-25T13:19:43.318Z"
   },
   {
    "duration": 337,
    "start_time": "2022-01-25T13:19:56.658Z"
   },
   {
    "duration": 8,
    "start_time": "2022-01-25T13:20:06.608Z"
   },
   {
    "duration": 11,
    "start_time": "2022-01-25T13:20:19.702Z"
   },
   {
    "duration": 17,
    "start_time": "2022-01-25T13:20:29.274Z"
   },
   {
    "duration": 1145,
    "start_time": "2022-01-25T13:27:42.903Z"
   },
   {
    "duration": 1144,
    "start_time": "2022-01-25T13:28:03.392Z"
   },
   {
    "duration": 6,
    "start_time": "2022-01-25T13:29:24.353Z"
   },
   {
    "duration": 8,
    "start_time": "2022-01-25T13:32:56.743Z"
   },
   {
    "duration": 278,
    "start_time": "2022-01-25T13:48:52.038Z"
   },
   {
    "duration": 551,
    "start_time": "2022-01-25T13:49:06.205Z"
   },
   {
    "duration": 484,
    "start_time": "2022-01-25T13:49:35.226Z"
   },
   {
    "duration": 5,
    "start_time": "2022-01-25T13:50:18.842Z"
   },
   {
    "duration": 576,
    "start_time": "2022-01-25T13:53:15.531Z"
   },
   {
    "duration": 4,
    "start_time": "2022-01-25T13:53:40.822Z"
   },
   {
    "duration": 18,
    "start_time": "2022-01-25T13:56:43.254Z"
   },
   {
    "duration": 4,
    "start_time": "2022-01-25T13:57:41.696Z"
   },
   {
    "duration": 5,
    "start_time": "2022-01-25T13:59:05.002Z"
   },
   {
    "duration": 281,
    "start_time": "2022-01-25T13:59:21.029Z"
   },
   {
    "duration": 4,
    "start_time": "2022-01-25T13:59:43.731Z"
   },
   {
    "duration": 9,
    "start_time": "2022-01-25T14:03:36.967Z"
   },
   {
    "duration": 4,
    "start_time": "2022-01-25T14:03:51.950Z"
   },
   {
    "duration": 251,
    "start_time": "2022-01-25T14:14:15.741Z"
   },
   {
    "duration": 4,
    "start_time": "2022-01-25T14:14:31.462Z"
   },
   {
    "duration": 7,
    "start_time": "2022-01-25T14:14:43.428Z"
   },
   {
    "duration": 3,
    "start_time": "2022-01-25T14:15:04.077Z"
   },
   {
    "duration": 92,
    "start_time": "2022-01-25T14:15:04.095Z"
   },
   {
    "duration": 16,
    "start_time": "2022-01-25T14:15:04.188Z"
   },
   {
    "duration": 71,
    "start_time": "2022-01-25T14:15:04.206Z"
   },
   {
    "duration": 28,
    "start_time": "2022-01-25T14:15:04.279Z"
   },
   {
    "duration": 15,
    "start_time": "2022-01-25T14:15:04.309Z"
   },
   {
    "duration": 5,
    "start_time": "2022-01-25T14:15:04.326Z"
   },
   {
    "duration": 429,
    "start_time": "2022-01-25T14:15:04.333Z"
   },
   {
    "duration": 841,
    "start_time": "2022-01-25T14:15:04.765Z"
   },
   {
    "duration": 8,
    "start_time": "2022-01-25T14:15:05.608Z"
   },
   {
    "duration": 186,
    "start_time": "2022-01-25T14:15:05.618Z"
   },
   {
    "duration": 9,
    "start_time": "2022-01-25T14:15:05.805Z"
   },
   {
    "duration": 9,
    "start_time": "2022-01-25T14:15:05.816Z"
   },
   {
    "duration": 10,
    "start_time": "2022-01-25T14:15:05.827Z"
   },
   {
    "duration": 9,
    "start_time": "2022-01-25T14:15:05.839Z"
   },
   {
    "duration": 12,
    "start_time": "2022-01-25T14:15:05.850Z"
   },
   {
    "duration": 10,
    "start_time": "2022-01-25T14:15:05.863Z"
   },
   {
    "duration": 26,
    "start_time": "2022-01-25T14:15:05.875Z"
   },
   {
    "duration": 5,
    "start_time": "2022-01-25T14:15:05.903Z"
   },
   {
    "duration": 9,
    "start_time": "2022-01-25T14:15:05.910Z"
   },
   {
    "duration": 11,
    "start_time": "2022-01-25T14:15:05.920Z"
   },
   {
    "duration": 5,
    "start_time": "2022-01-25T14:15:05.933Z"
   },
   {
    "duration": 5,
    "start_time": "2022-01-25T14:15:05.940Z"
   },
   {
    "duration": 545,
    "start_time": "2022-01-25T14:15:05.947Z"
   },
   {
    "duration": 9,
    "start_time": "2022-01-25T14:15:06.498Z"
   },
   {
    "duration": 8,
    "start_time": "2022-01-25T14:15:06.509Z"
   },
   {
    "duration": 10,
    "start_time": "2022-01-25T14:15:06.518Z"
   },
   {
    "duration": 17,
    "start_time": "2022-01-25T14:15:06.529Z"
   },
   {
    "duration": 605,
    "start_time": "2022-01-25T14:15:06.548Z"
   },
   {
    "duration": 5,
    "start_time": "2022-01-25T14:15:07.154Z"
   },
   {
    "duration": 9,
    "start_time": "2022-01-25T14:15:07.160Z"
   },
   {
    "duration": 4,
    "start_time": "2022-01-25T14:15:11.841Z"
   },
   {
    "duration": 9,
    "start_time": "2022-01-25T14:15:14.953Z"
   },
   {
    "duration": 9,
    "start_time": "2022-01-25T14:17:50.567Z"
   },
   {
    "duration": 5,
    "start_time": "2022-01-25T14:18:03.793Z"
   },
   {
    "duration": 3,
    "start_time": "2022-01-25T14:18:27.453Z"
   },
   {
    "duration": 6,
    "start_time": "2022-01-25T14:20:48.222Z"
   },
   {
    "duration": 10,
    "start_time": "2022-01-25T14:21:04.884Z"
   },
   {
    "duration": 5,
    "start_time": "2022-01-25T14:21:26.116Z"
   },
   {
    "duration": 2,
    "start_time": "2022-01-25T14:21:52.713Z"
   },
   {
    "duration": 90,
    "start_time": "2022-01-25T14:21:52.733Z"
   },
   {
    "duration": 10,
    "start_time": "2022-01-25T14:21:52.825Z"
   },
   {
    "duration": 83,
    "start_time": "2022-01-25T14:21:52.837Z"
   },
   {
    "duration": 15,
    "start_time": "2022-01-25T14:21:52.923Z"
   },
   {
    "duration": 9,
    "start_time": "2022-01-25T14:21:52.940Z"
   },
   {
    "duration": 7,
    "start_time": "2022-01-25T14:21:52.951Z"
   },
   {
    "duration": 416,
    "start_time": "2022-01-25T14:21:52.966Z"
   },
   {
    "duration": 849,
    "start_time": "2022-01-25T14:21:54.161Z"
   },
   {
    "duration": 9,
    "start_time": "2022-01-25T14:21:55.012Z"
   },
   {
    "duration": 186,
    "start_time": "2022-01-25T14:21:55.023Z"
   },
   {
    "duration": 8,
    "start_time": "2022-01-25T14:21:55.211Z"
   },
   {
    "duration": 15,
    "start_time": "2022-01-25T14:21:55.221Z"
   },
   {
    "duration": 11,
    "start_time": "2022-01-25T14:21:55.238Z"
   },
   {
    "duration": 6,
    "start_time": "2022-01-25T14:21:55.250Z"
   },
   {
    "duration": 4,
    "start_time": "2022-01-25T14:21:55.258Z"
   },
   {
    "duration": 11,
    "start_time": "2022-01-25T14:21:55.265Z"
   },
   {
    "duration": 4,
    "start_time": "2022-01-25T14:21:55.299Z"
   },
   {
    "duration": 5,
    "start_time": "2022-01-25T14:21:55.305Z"
   },
   {
    "duration": 7,
    "start_time": "2022-01-25T14:21:55.312Z"
   },
   {
    "duration": 9,
    "start_time": "2022-01-25T14:21:55.321Z"
   },
   {
    "duration": 7,
    "start_time": "2022-01-25T14:21:55.332Z"
   },
   {
    "duration": 6,
    "start_time": "2022-01-25T14:21:55.340Z"
   },
   {
    "duration": 551,
    "start_time": "2022-01-25T14:21:55.348Z"
   },
   {
    "duration": 10,
    "start_time": "2022-01-25T14:21:55.901Z"
   },
   {
    "duration": 9,
    "start_time": "2022-01-25T14:21:55.913Z"
   },
   {
    "duration": 9,
    "start_time": "2022-01-25T14:21:55.923Z"
   },
   {
    "duration": 16,
    "start_time": "2022-01-25T14:21:55.934Z"
   },
   {
    "duration": 614,
    "start_time": "2022-01-25T14:21:55.952Z"
   },
   {
    "duration": 4,
    "start_time": "2022-01-25T14:21:56.568Z"
   },
   {
    "duration": 9,
    "start_time": "2022-01-25T14:21:56.574Z"
   },
   {
    "duration": 13,
    "start_time": "2022-01-25T14:21:56.585Z"
   },
   {
    "duration": 5,
    "start_time": "2022-01-25T14:21:56.600Z"
   },
   {
    "duration": 5,
    "start_time": "2022-01-25T14:22:04.377Z"
   },
   {
    "duration": 4,
    "start_time": "2022-01-25T14:22:06.290Z"
   },
   {
    "duration": 6,
    "start_time": "2022-01-25T14:23:03.542Z"
   },
   {
    "duration": 5,
    "start_time": "2022-01-25T14:23:05.183Z"
   },
   {
    "duration": 569,
    "start_time": "2022-01-25T14:25:51.100Z"
   },
   {
    "duration": 4,
    "start_time": "2022-01-25T14:25:52.866Z"
   },
   {
    "duration": 3,
    "start_time": "2022-01-25T14:26:07.745Z"
   },
   {
    "duration": 91,
    "start_time": "2022-01-25T14:26:07.811Z"
   },
   {
    "duration": 14,
    "start_time": "2022-01-25T14:26:07.904Z"
   },
   {
    "duration": 93,
    "start_time": "2022-01-25T14:26:07.920Z"
   },
   {
    "duration": 11,
    "start_time": "2022-01-25T14:26:08.014Z"
   },
   {
    "duration": 7,
    "start_time": "2022-01-25T14:26:08.027Z"
   },
   {
    "duration": 6,
    "start_time": "2022-01-25T14:26:08.035Z"
   },
   {
    "duration": 524,
    "start_time": "2022-01-25T14:26:08.042Z"
   },
   {
    "duration": 803,
    "start_time": "2022-01-25T14:26:08.569Z"
   },
   {
    "duration": 8,
    "start_time": "2022-01-25T14:26:09.374Z"
   },
   {
    "duration": 197,
    "start_time": "2022-01-25T14:26:09.384Z"
   },
   {
    "duration": 16,
    "start_time": "2022-01-25T14:26:09.582Z"
   },
   {
    "duration": 5,
    "start_time": "2022-01-25T14:26:09.600Z"
   },
   {
    "duration": 9,
    "start_time": "2022-01-25T14:26:09.607Z"
   },
   {
    "duration": 6,
    "start_time": "2022-01-25T14:26:09.618Z"
   },
   {
    "duration": 5,
    "start_time": "2022-01-25T14:26:09.626Z"
   },
   {
    "duration": 9,
    "start_time": "2022-01-25T14:26:09.633Z"
   },
   {
    "duration": 4,
    "start_time": "2022-01-25T14:26:09.644Z"
   },
   {
    "duration": 9,
    "start_time": "2022-01-25T14:26:09.650Z"
   },
   {
    "duration": 6,
    "start_time": "2022-01-25T14:26:09.699Z"
   },
   {
    "duration": 10,
    "start_time": "2022-01-25T14:26:09.707Z"
   },
   {
    "duration": 8,
    "start_time": "2022-01-25T14:26:09.719Z"
   },
   {
    "duration": 6,
    "start_time": "2022-01-25T14:26:09.728Z"
   },
   {
    "duration": 530,
    "start_time": "2022-01-25T14:26:09.736Z"
   },
   {
    "duration": 11,
    "start_time": "2022-01-25T14:26:10.268Z"
   },
   {
    "duration": 19,
    "start_time": "2022-01-25T14:26:10.281Z"
   },
   {
    "duration": 21,
    "start_time": "2022-01-25T14:26:10.301Z"
   },
   {
    "duration": 21,
    "start_time": "2022-01-25T14:26:10.324Z"
   },
   {
    "duration": 608,
    "start_time": "2022-01-25T14:26:18.144Z"
   },
   {
    "duration": 696,
    "start_time": "2022-01-25T14:26:23.877Z"
   },
   {
    "duration": 4,
    "start_time": "2022-01-25T14:26:26.916Z"
   },
   {
    "duration": 8,
    "start_time": "2022-01-25T14:26:28.995Z"
   },
   {
    "duration": 4,
    "start_time": "2022-01-25T14:29:12.895Z"
   },
   {
    "duration": 4,
    "start_time": "2022-01-25T14:29:14.824Z"
   },
   {
    "duration": 4,
    "start_time": "2022-01-25T14:29:39.924Z"
   },
   {
    "duration": 5,
    "start_time": "2022-01-25T14:29:49.270Z"
   },
   {
    "duration": 5,
    "start_time": "2022-01-25T14:30:08.702Z"
   },
   {
    "duration": 19,
    "start_time": "2022-01-25T14:31:30.323Z"
   },
   {
    "duration": 4,
    "start_time": "2022-01-25T14:32:42.676Z"
   },
   {
    "duration": 4,
    "start_time": "2022-01-25T14:33:07.163Z"
   },
   {
    "duration": 5,
    "start_time": "2022-01-25T14:33:08.073Z"
   },
   {
    "duration": 5,
    "start_time": "2022-01-25T14:34:23.416Z"
   },
   {
    "duration": 5,
    "start_time": "2022-01-25T14:34:25.263Z"
   },
   {
    "duration": 5,
    "start_time": "2022-01-25T14:34:52.296Z"
   },
   {
    "duration": 9,
    "start_time": "2022-01-25T14:35:17.723Z"
   },
   {
    "duration": 8,
    "start_time": "2022-01-25T14:35:53.147Z"
   },
   {
    "duration": 7922,
    "start_time": "2022-01-25T14:36:46.152Z"
   },
   {
    "duration": 2,
    "start_time": "2022-01-25T14:37:30.881Z"
   },
   {
    "duration": 92,
    "start_time": "2022-01-25T14:37:30.920Z"
   },
   {
    "duration": 11,
    "start_time": "2022-01-25T14:37:31.014Z"
   },
   {
    "duration": 88,
    "start_time": "2022-01-25T14:37:31.026Z"
   },
   {
    "duration": 12,
    "start_time": "2022-01-25T14:37:31.116Z"
   },
   {
    "duration": 10,
    "start_time": "2022-01-25T14:37:31.129Z"
   },
   {
    "duration": 14,
    "start_time": "2022-01-25T14:37:31.140Z"
   },
   {
    "duration": 443,
    "start_time": "2022-01-25T14:37:31.155Z"
   },
   {
    "duration": 786,
    "start_time": "2022-01-25T14:37:31.600Z"
   },
   {
    "duration": 16,
    "start_time": "2022-01-25T14:37:32.389Z"
   },
   {
    "duration": 179,
    "start_time": "2022-01-25T14:37:32.407Z"
   },
   {
    "duration": 13,
    "start_time": "2022-01-25T14:37:32.589Z"
   },
   {
    "duration": 16,
    "start_time": "2022-01-25T14:37:32.604Z"
   },
   {
    "duration": 31,
    "start_time": "2022-01-25T14:37:32.622Z"
   },
   {
    "duration": 27,
    "start_time": "2022-01-25T14:37:32.655Z"
   },
   {
    "duration": 17,
    "start_time": "2022-01-25T14:37:32.684Z"
   },
   {
    "duration": 29,
    "start_time": "2022-01-25T14:37:32.702Z"
   },
   {
    "duration": 11,
    "start_time": "2022-01-25T14:37:32.732Z"
   },
   {
    "duration": 28,
    "start_time": "2022-01-25T14:37:32.745Z"
   },
   {
    "duration": 21,
    "start_time": "2022-01-25T14:37:32.775Z"
   },
   {
    "duration": 13,
    "start_time": "2022-01-25T14:37:32.799Z"
   },
   {
    "duration": 7,
    "start_time": "2022-01-25T14:37:32.814Z"
   },
   {
    "duration": 6,
    "start_time": "2022-01-25T14:37:32.823Z"
   },
   {
    "duration": 520,
    "start_time": "2022-01-25T14:37:32.830Z"
   },
   {
    "duration": 11,
    "start_time": "2022-01-25T14:37:33.353Z"
   },
   {
    "duration": 8,
    "start_time": "2022-01-25T14:37:33.365Z"
   },
   {
    "duration": 31,
    "start_time": "2022-01-25T14:37:33.376Z"
   },
   {
    "duration": 19,
    "start_time": "2022-01-25T14:37:33.409Z"
   },
   {
    "duration": 687,
    "start_time": "2022-01-25T14:37:33.430Z"
   },
   {
    "duration": 4,
    "start_time": "2022-01-25T14:37:34.119Z"
   },
   {
    "duration": 19,
    "start_time": "2022-01-25T14:37:34.125Z"
   },
   {
    "duration": 4,
    "start_time": "2022-01-25T14:37:38.060Z"
   },
   {
    "duration": 5,
    "start_time": "2022-01-25T14:37:41.601Z"
   },
   {
    "duration": 4,
    "start_time": "2022-01-25T14:37:47.567Z"
   },
   {
    "duration": 9,
    "start_time": "2022-01-25T14:37:50.630Z"
   },
   {
    "duration": 9,
    "start_time": "2022-01-25T14:38:29.502Z"
   },
   {
    "duration": 22,
    "start_time": "2022-01-25T14:39:23.650Z"
   },
   {
    "duration": 94,
    "start_time": "2022-01-25T14:41:05.402Z"
   },
   {
    "duration": 8,
    "start_time": "2022-01-25T14:41:41.541Z"
   },
   {
    "duration": 5,
    "start_time": "2022-01-25T14:42:32.431Z"
   },
   {
    "duration": 17,
    "start_time": "2022-01-25T14:42:44.409Z"
   },
   {
    "duration": 5,
    "start_time": "2022-01-25T14:43:50.673Z"
   },
   {
    "duration": 17,
    "start_time": "2022-01-25T14:43:52.423Z"
   },
   {
    "duration": 18,
    "start_time": "2022-01-25T14:43:53.502Z"
   },
   {
    "duration": 4,
    "start_time": "2022-01-25T14:45:12.914Z"
   },
   {
    "duration": 5,
    "start_time": "2022-01-25T14:45:14.388Z"
   },
   {
    "duration": 5,
    "start_time": "2022-01-25T14:45:20.887Z"
   },
   {
    "duration": 17,
    "start_time": "2022-01-25T14:45:22.302Z"
   },
   {
    "duration": 18,
    "start_time": "2022-01-25T14:45:23.276Z"
   },
   {
    "duration": 2,
    "start_time": "2022-01-25T14:45:43.342Z"
   },
   {
    "duration": 91,
    "start_time": "2022-01-25T14:45:43.351Z"
   },
   {
    "duration": 10,
    "start_time": "2022-01-25T14:45:43.443Z"
   },
   {
    "duration": 87,
    "start_time": "2022-01-25T14:45:43.455Z"
   },
   {
    "duration": 13,
    "start_time": "2022-01-25T14:45:43.544Z"
   },
   {
    "duration": 7,
    "start_time": "2022-01-25T14:45:43.558Z"
   },
   {
    "duration": 5,
    "start_time": "2022-01-25T14:45:43.566Z"
   },
   {
    "duration": 423,
    "start_time": "2022-01-25T14:45:43.572Z"
   },
   {
    "duration": 760,
    "start_time": "2022-01-25T14:45:43.998Z"
   },
   {
    "duration": 9,
    "start_time": "2022-01-25T14:45:44.760Z"
   },
   {
    "duration": 287,
    "start_time": "2022-01-25T14:45:44.770Z"
   },
   {
    "duration": 8,
    "start_time": "2022-01-25T14:45:45.059Z"
   },
   {
    "duration": 8,
    "start_time": "2022-01-25T14:45:45.069Z"
   },
   {
    "duration": 21,
    "start_time": "2022-01-25T14:45:45.078Z"
   },
   {
    "duration": 5,
    "start_time": "2022-01-25T14:45:45.101Z"
   },
   {
    "duration": 6,
    "start_time": "2022-01-25T14:45:45.108Z"
   },
   {
    "duration": 9,
    "start_time": "2022-01-25T14:45:45.115Z"
   },
   {
    "duration": 3,
    "start_time": "2022-01-25T14:45:45.126Z"
   },
   {
    "duration": 6,
    "start_time": "2022-01-25T14:45:45.131Z"
   },
   {
    "duration": 7,
    "start_time": "2022-01-25T14:45:45.138Z"
   },
   {
    "duration": 9,
    "start_time": "2022-01-25T14:45:45.147Z"
   },
   {
    "duration": 44,
    "start_time": "2022-01-25T14:45:45.158Z"
   },
   {
    "duration": 5,
    "start_time": "2022-01-25T14:45:45.204Z"
   },
   {
    "duration": 498,
    "start_time": "2022-01-25T14:45:45.212Z"
   },
   {
    "duration": 9,
    "start_time": "2022-01-25T14:45:45.712Z"
   },
   {
    "duration": 8,
    "start_time": "2022-01-25T14:45:45.723Z"
   },
   {
    "duration": 11,
    "start_time": "2022-01-25T14:45:45.733Z"
   },
   {
    "duration": 17,
    "start_time": "2022-01-25T14:45:45.746Z"
   },
   {
    "duration": 620,
    "start_time": "2022-01-25T14:45:45.764Z"
   },
   {
    "duration": 4,
    "start_time": "2022-01-25T14:45:46.386Z"
   },
   {
    "duration": 10,
    "start_time": "2022-01-25T14:45:46.398Z"
   },
   {
    "duration": 3,
    "start_time": "2022-01-25T14:45:46.410Z"
   },
   {
    "duration": 9,
    "start_time": "2022-01-25T14:45:46.415Z"
   },
   {
    "duration": 6,
    "start_time": "2022-01-25T14:45:46.425Z"
   },
   {
    "duration": 116,
    "start_time": "2022-01-25T14:45:46.433Z"
   },
   {
    "duration": 17,
    "start_time": "2022-01-25T14:45:49.957Z"
   },
   {
    "duration": 15,
    "start_time": "2022-01-25T14:45:50.568Z"
   },
   {
    "duration": 5,
    "start_time": "2022-01-25T14:46:35.020Z"
   },
   {
    "duration": 3,
    "start_time": "2022-01-25T14:46:49.316Z"
   },
   {
    "duration": 89,
    "start_time": "2022-01-25T14:46:49.355Z"
   },
   {
    "duration": 10,
    "start_time": "2022-01-25T14:46:49.446Z"
   },
   {
    "duration": 86,
    "start_time": "2022-01-25T14:46:49.458Z"
   },
   {
    "duration": 14,
    "start_time": "2022-01-25T14:46:49.562Z"
   },
   {
    "duration": 8,
    "start_time": "2022-01-25T14:46:49.677Z"
   },
   {
    "duration": 5,
    "start_time": "2022-01-25T14:46:52.640Z"
   },
   {
    "duration": 377,
    "start_time": "2022-01-25T14:46:52.719Z"
   },
   {
    "duration": 865,
    "start_time": "2022-01-25T14:46:53.121Z"
   },
   {
    "duration": 15,
    "start_time": "2022-01-25T14:46:53.987Z"
   },
   {
    "duration": 169,
    "start_time": "2022-01-25T14:46:54.004Z"
   },
   {
    "duration": 8,
    "start_time": "2022-01-25T14:46:54.175Z"
   },
   {
    "duration": 15,
    "start_time": "2022-01-25T14:46:54.184Z"
   },
   {
    "duration": 8,
    "start_time": "2022-01-25T14:46:54.201Z"
   },
   {
    "duration": 6,
    "start_time": "2022-01-25T14:46:54.210Z"
   },
   {
    "duration": 6,
    "start_time": "2022-01-25T14:46:54.217Z"
   },
   {
    "duration": 9,
    "start_time": "2022-01-25T14:46:54.225Z"
   },
   {
    "duration": 3,
    "start_time": "2022-01-25T14:46:54.236Z"
   },
   {
    "duration": 6,
    "start_time": "2022-01-25T14:46:54.240Z"
   },
   {
    "duration": 10,
    "start_time": "2022-01-25T14:46:54.247Z"
   },
   {
    "duration": 46,
    "start_time": "2022-01-25T14:46:54.258Z"
   },
   {
    "duration": 5,
    "start_time": "2022-01-25T14:46:54.306Z"
   },
   {
    "duration": 4,
    "start_time": "2022-01-25T14:46:54.313Z"
   },
   {
    "duration": 512,
    "start_time": "2022-01-25T14:46:54.318Z"
   },
   {
    "duration": 8,
    "start_time": "2022-01-25T14:46:54.832Z"
   },
   {
    "duration": 6,
    "start_time": "2022-01-25T14:46:54.842Z"
   },
   {
    "duration": 13,
    "start_time": "2022-01-25T14:46:54.849Z"
   },
   {
    "duration": 38,
    "start_time": "2022-01-25T14:46:54.863Z"
   },
   {
    "duration": 578,
    "start_time": "2022-01-25T14:46:54.902Z"
   },
   {
    "duration": 5,
    "start_time": "2022-01-25T14:46:55.481Z"
   },
   {
    "duration": 15,
    "start_time": "2022-01-25T14:46:55.488Z"
   },
   {
    "duration": 3,
    "start_time": "2022-01-25T14:46:55.504Z"
   },
   {
    "duration": 7,
    "start_time": "2022-01-25T14:46:55.509Z"
   },
   {
    "duration": 4,
    "start_time": "2022-01-25T14:46:55.518Z"
   },
   {
    "duration": 102,
    "start_time": "2022-01-25T14:46:55.523Z"
   },
   {
    "duration": 19,
    "start_time": "2022-01-25T14:46:58.098Z"
   },
   {
    "duration": 5,
    "start_time": "2022-01-25T14:46:59.352Z"
   },
   {
    "duration": 4,
    "start_time": "2022-01-25T14:48:09.027Z"
   },
   {
    "duration": 5,
    "start_time": "2022-01-25T14:48:09.846Z"
   },
   {
    "duration": 5,
    "start_time": "2022-01-25T14:48:11.706Z"
   },
   {
    "duration": 18,
    "start_time": "2022-01-25T14:48:13.999Z"
   },
   {
    "duration": 6,
    "start_time": "2022-01-25T14:48:15.683Z"
   },
   {
    "duration": 4,
    "start_time": "2022-01-25T14:56:20.407Z"
   },
   {
    "duration": 2,
    "start_time": "2022-01-25T14:57:35.886Z"
   },
   {
    "duration": 90,
    "start_time": "2022-01-25T14:57:35.946Z"
   },
   {
    "duration": 10,
    "start_time": "2022-01-25T14:57:36.038Z"
   },
   {
    "duration": 90,
    "start_time": "2022-01-25T14:57:36.050Z"
   },
   {
    "duration": 12,
    "start_time": "2022-01-25T14:57:36.142Z"
   },
   {
    "duration": 12,
    "start_time": "2022-01-25T14:57:36.156Z"
   },
   {
    "duration": 29,
    "start_time": "2022-01-25T14:57:36.170Z"
   },
   {
    "duration": 416,
    "start_time": "2022-01-25T14:57:36.201Z"
   },
   {
    "duration": 950,
    "start_time": "2022-01-25T14:57:36.619Z"
   },
   {
    "duration": 11,
    "start_time": "2022-01-25T14:57:37.571Z"
   },
   {
    "duration": 184,
    "start_time": "2022-01-25T14:57:37.584Z"
   },
   {
    "duration": 9,
    "start_time": "2022-01-25T14:57:37.771Z"
   },
   {
    "duration": 18,
    "start_time": "2022-01-25T14:57:37.782Z"
   },
   {
    "duration": 9,
    "start_time": "2022-01-25T14:57:37.802Z"
   },
   {
    "duration": 7,
    "start_time": "2022-01-25T14:57:37.813Z"
   },
   {
    "duration": 6,
    "start_time": "2022-01-25T14:57:37.822Z"
   },
   {
    "duration": 9,
    "start_time": "2022-01-25T14:57:37.830Z"
   },
   {
    "duration": 4,
    "start_time": "2022-01-25T14:57:37.841Z"
   },
   {
    "duration": 7,
    "start_time": "2022-01-25T14:57:37.846Z"
   },
   {
    "duration": 48,
    "start_time": "2022-01-25T14:57:37.854Z"
   },
   {
    "duration": 10,
    "start_time": "2022-01-25T14:57:37.904Z"
   },
   {
    "duration": 3,
    "start_time": "2022-01-25T14:57:37.916Z"
   },
   {
    "duration": 7,
    "start_time": "2022-01-25T14:57:37.921Z"
   },
   {
    "duration": 6,
    "start_time": "2022-01-25T14:57:37.980Z"
   },
   {
    "duration": 493,
    "start_time": "2022-01-25T14:57:38.023Z"
   },
   {
    "duration": 12,
    "start_time": "2022-01-25T14:57:38.519Z"
   },
   {
    "duration": 6,
    "start_time": "2022-01-25T14:57:38.533Z"
   },
   {
    "duration": 14,
    "start_time": "2022-01-25T14:57:38.540Z"
   },
   {
    "duration": 25,
    "start_time": "2022-01-25T14:57:38.555Z"
   },
   {
    "duration": 582,
    "start_time": "2022-01-25T14:57:44.546Z"
   },
   {
    "duration": 557,
    "start_time": "2022-01-25T14:57:49.650Z"
   },
   {
    "duration": 5,
    "start_time": "2022-01-25T14:57:56.026Z"
   },
   {
    "duration": 9,
    "start_time": "2022-01-25T14:58:02.697Z"
   },
   {
    "duration": 8,
    "start_time": "2022-01-25T14:58:02.707Z"
   },
   {
    "duration": 13,
    "start_time": "2022-01-25T14:58:02.717Z"
   },
   {
    "duration": 5,
    "start_time": "2022-01-25T14:58:06.306Z"
   },
   {
    "duration": 88,
    "start_time": "2022-01-25T14:58:06.816Z"
   },
   {
    "duration": 5,
    "start_time": "2022-01-25T14:58:08.956Z"
   },
   {
    "duration": 8,
    "start_time": "2022-01-25T15:14:36.216Z"
   },
   {
    "duration": 4,
    "start_time": "2022-01-25T15:15:54.013Z"
   },
   {
    "duration": 8,
    "start_time": "2022-01-25T15:16:09.293Z"
   },
   {
    "duration": 154,
    "start_time": "2022-01-25T15:39:13.779Z"
   },
   {
    "duration": 5,
    "start_time": "2022-01-25T15:39:40.843Z"
   },
   {
    "duration": 17,
    "start_time": "2022-01-25T15:41:55.568Z"
   },
   {
    "duration": 19,
    "start_time": "2022-01-25T15:42:01.220Z"
   },
   {
    "duration": 5,
    "start_time": "2022-01-25T15:42:14.046Z"
   },
   {
    "duration": 3,
    "start_time": "2022-01-25T15:42:43.056Z"
   },
   {
    "duration": 88,
    "start_time": "2022-01-25T15:42:43.066Z"
   },
   {
    "duration": 11,
    "start_time": "2022-01-25T15:42:43.156Z"
   },
   {
    "duration": 83,
    "start_time": "2022-01-25T15:42:43.170Z"
   },
   {
    "duration": 13,
    "start_time": "2022-01-25T15:42:44.265Z"
   },
   {
    "duration": 10,
    "start_time": "2022-01-25T15:42:44.280Z"
   },
   {
    "duration": 5,
    "start_time": "2022-01-25T15:42:44.354Z"
   },
   {
    "duration": 421,
    "start_time": "2022-01-25T15:42:44.361Z"
   },
   {
    "duration": 951,
    "start_time": "2022-01-25T15:42:44.784Z"
   },
   {
    "duration": 9,
    "start_time": "2022-01-25T15:42:45.737Z"
   },
   {
    "duration": 178,
    "start_time": "2022-01-25T15:42:45.748Z"
   },
   {
    "duration": 9,
    "start_time": "2022-01-25T15:42:45.928Z"
   },
   {
    "duration": 12,
    "start_time": "2022-01-25T15:42:45.939Z"
   },
   {
    "duration": 9,
    "start_time": "2022-01-25T15:42:45.952Z"
   },
   {
    "duration": 9,
    "start_time": "2022-01-25T15:42:45.964Z"
   },
   {
    "duration": 28,
    "start_time": "2022-01-25T15:42:45.975Z"
   },
   {
    "duration": 11,
    "start_time": "2022-01-25T15:42:46.005Z"
   },
   {
    "duration": 3,
    "start_time": "2022-01-25T15:42:46.018Z"
   },
   {
    "duration": 6,
    "start_time": "2022-01-25T15:42:46.022Z"
   },
   {
    "duration": 9,
    "start_time": "2022-01-25T15:42:46.029Z"
   },
   {
    "duration": 9,
    "start_time": "2022-01-25T15:42:46.040Z"
   },
   {
    "duration": 4,
    "start_time": "2022-01-25T15:42:46.051Z"
   },
   {
    "duration": 44,
    "start_time": "2022-01-25T15:42:46.057Z"
   },
   {
    "duration": 5,
    "start_time": "2022-01-25T15:42:46.103Z"
   },
   {
    "duration": 544,
    "start_time": "2022-01-25T15:42:46.110Z"
   },
   {
    "duration": 12,
    "start_time": "2022-01-25T15:42:46.656Z"
   },
   {
    "duration": 7,
    "start_time": "2022-01-25T15:42:46.670Z"
   },
   {
    "duration": 23,
    "start_time": "2022-01-25T15:42:46.678Z"
   },
   {
    "duration": 19,
    "start_time": "2022-01-25T15:42:46.702Z"
   },
   {
    "duration": 601,
    "start_time": "2022-01-25T15:42:46.723Z"
   },
   {
    "duration": 4,
    "start_time": "2022-01-25T15:42:47.325Z"
   },
   {
    "duration": 10,
    "start_time": "2022-01-25T15:42:47.331Z"
   },
   {
    "duration": 4,
    "start_time": "2022-01-25T15:42:47.344Z"
   },
   {
    "duration": 7,
    "start_time": "2022-01-25T15:42:47.350Z"
   },
   {
    "duration": 10,
    "start_time": "2022-01-25T15:42:47.358Z"
   },
   {
    "duration": 99,
    "start_time": "2022-01-25T15:42:47.370Z"
   },
   {
    "duration": 5,
    "start_time": "2022-01-25T15:42:47.471Z"
   },
   {
    "duration": 159,
    "start_time": "2022-01-25T15:42:53.070Z"
   },
   {
    "duration": 5,
    "start_time": "2022-01-25T15:42:54.760Z"
   },
   {
    "duration": 18,
    "start_time": "2022-01-25T15:42:55.790Z"
   },
   {
    "duration": 4,
    "start_time": "2022-01-25T15:42:57.051Z"
   },
   {
    "duration": 17,
    "start_time": "2022-01-25T15:43:09.512Z"
   },
   {
    "duration": 5,
    "start_time": "2022-01-25T15:43:10.642Z"
   },
   {
    "duration": 12,
    "start_time": "2022-01-25T15:43:30.338Z"
   },
   {
    "duration": 6,
    "start_time": "2022-01-25T15:43:32.065Z"
   },
   {
    "duration": 278,
    "start_time": "2022-01-25T15:45:03.482Z"
   },
   {
    "duration": 13,
    "start_time": "2022-01-25T15:45:17.096Z"
   },
   {
    "duration": 26,
    "start_time": "2022-01-25T15:46:58.457Z"
   },
   {
    "duration": 271,
    "start_time": "2022-01-25T15:51:57.830Z"
   },
   {
    "duration": 341,
    "start_time": "2022-01-25T15:52:30.686Z"
   },
   {
    "duration": 29,
    "start_time": "2022-01-25T15:53:01.102Z"
   },
   {
    "duration": 6,
    "start_time": "2022-01-25T15:54:39.987Z"
   },
   {
    "duration": 281,
    "start_time": "2022-01-25T15:55:29.154Z"
   },
   {
    "duration": 267,
    "start_time": "2022-01-25T15:55:52.225Z"
   },
   {
    "duration": 267,
    "start_time": "2022-01-25T15:56:23.575Z"
   },
   {
    "duration": 6,
    "start_time": "2022-01-25T15:56:30.712Z"
   },
   {
    "duration": 252,
    "start_time": "2022-01-25T15:56:57.935Z"
   },
   {
    "duration": 246,
    "start_time": "2022-01-25T15:57:09.584Z"
   },
   {
    "duration": 267,
    "start_time": "2022-01-25T15:57:18.356Z"
   },
   {
    "duration": 287,
    "start_time": "2022-01-25T15:57:30.006Z"
   },
   {
    "duration": 5,
    "start_time": "2022-01-25T16:01:02.610Z"
   },
   {
    "duration": 9,
    "start_time": "2022-01-25T16:01:27.054Z"
   },
   {
    "duration": 9,
    "start_time": "2022-01-25T16:03:22.054Z"
   },
   {
    "duration": 3,
    "start_time": "2022-01-25T16:05:43.265Z"
   },
   {
    "duration": 7,
    "start_time": "2022-01-25T16:05:53.798Z"
   },
   {
    "duration": 264,
    "start_time": "2022-01-25T16:07:12.434Z"
   },
   {
    "duration": 266,
    "start_time": "2022-01-25T16:08:58.558Z"
   },
   {
    "duration": 311,
    "start_time": "2022-01-25T16:09:08.146Z"
   },
   {
    "duration": 258,
    "start_time": "2022-01-25T16:10:56.846Z"
   },
   {
    "duration": 505,
    "start_time": "2022-01-25T16:11:16.417Z"
   },
   {
    "duration": 6,
    "start_time": "2022-01-25T16:12:24.681Z"
   },
   {
    "duration": 275,
    "start_time": "2022-01-25T16:12:58.636Z"
   },
   {
    "duration": 262,
    "start_time": "2022-01-25T16:13:10.099Z"
   },
   {
    "duration": 7,
    "start_time": "2022-01-25T16:15:29.450Z"
   },
   {
    "duration": 7,
    "start_time": "2022-01-25T16:18:20.401Z"
   },
   {
    "duration": 12,
    "start_time": "2022-01-25T16:22:31.129Z"
   },
   {
    "duration": 264,
    "start_time": "2022-01-25T16:23:47.445Z"
   },
   {
    "duration": 309,
    "start_time": "2022-01-25T16:24:05.789Z"
   },
   {
    "duration": 264,
    "start_time": "2022-01-25T16:24:57.470Z"
   },
   {
    "duration": 261,
    "start_time": "2022-01-25T16:46:56.435Z"
   },
   {
    "duration": 8,
    "start_time": "2022-01-25T16:47:28.813Z"
   },
   {
    "duration": 89,
    "start_time": "2022-01-25T16:51:16.005Z"
   },
   {
    "duration": 297,
    "start_time": "2022-01-25T16:51:23.188Z"
   },
   {
    "duration": 266,
    "start_time": "2022-01-25T16:51:42.444Z"
   },
   {
    "duration": 286,
    "start_time": "2022-01-25T16:52:26.839Z"
   },
   {
    "duration": 3,
    "start_time": "2022-01-25T16:52:43.810Z"
   },
   {
    "duration": 108,
    "start_time": "2022-01-25T16:52:43.837Z"
   },
   {
    "duration": 10,
    "start_time": "2022-01-25T16:52:43.947Z"
   },
   {
    "duration": 92,
    "start_time": "2022-01-25T16:52:43.959Z"
   },
   {
    "duration": 12,
    "start_time": "2022-01-25T16:52:44.052Z"
   },
   {
    "duration": 9,
    "start_time": "2022-01-25T16:52:44.195Z"
   },
   {
    "duration": 18,
    "start_time": "2022-01-25T16:52:44.206Z"
   },
   {
    "duration": 410,
    "start_time": "2022-01-25T16:52:44.272Z"
   },
   {
    "duration": 997,
    "start_time": "2022-01-25T16:52:44.684Z"
   },
   {
    "duration": 19,
    "start_time": "2022-01-25T16:52:45.683Z"
   },
   {
    "duration": 189,
    "start_time": "2022-01-25T16:52:45.704Z"
   },
   {
    "duration": 9,
    "start_time": "2022-01-25T16:52:45.899Z"
   },
   {
    "duration": 20,
    "start_time": "2022-01-25T16:52:45.909Z"
   },
   {
    "duration": 16,
    "start_time": "2022-01-25T16:52:45.932Z"
   },
   {
    "duration": 30,
    "start_time": "2022-01-25T16:52:45.951Z"
   },
   {
    "duration": 18,
    "start_time": "2022-01-25T16:52:45.985Z"
   },
   {
    "duration": 28,
    "start_time": "2022-01-25T16:52:46.006Z"
   },
   {
    "duration": 8,
    "start_time": "2022-01-25T16:52:46.036Z"
   },
   {
    "duration": 18,
    "start_time": "2022-01-25T16:52:46.046Z"
   },
   {
    "duration": 15,
    "start_time": "2022-01-25T16:52:46.066Z"
   },
   {
    "duration": 24,
    "start_time": "2022-01-25T16:52:46.083Z"
   },
   {
    "duration": 17,
    "start_time": "2022-01-25T16:52:46.109Z"
   },
   {
    "duration": 28,
    "start_time": "2022-01-25T16:52:46.127Z"
   },
   {
    "duration": 9,
    "start_time": "2022-01-25T16:52:46.157Z"
   },
   {
    "duration": 626,
    "start_time": "2022-01-25T16:52:46.168Z"
   },
   {
    "duration": 13,
    "start_time": "2022-01-25T16:52:46.795Z"
   },
   {
    "duration": 14,
    "start_time": "2022-01-25T16:52:46.810Z"
   },
   {
    "duration": 12,
    "start_time": "2022-01-25T16:52:46.825Z"
   },
   {
    "duration": 23,
    "start_time": "2022-01-25T16:52:46.839Z"
   },
   {
    "duration": 655,
    "start_time": "2022-01-25T16:52:46.864Z"
   },
   {
    "duration": 5,
    "start_time": "2022-01-25T16:52:47.521Z"
   },
   {
    "duration": 15,
    "start_time": "2022-01-25T16:52:47.529Z"
   },
   {
    "duration": 16,
    "start_time": "2022-01-25T16:52:47.545Z"
   },
   {
    "duration": 19,
    "start_time": "2022-01-25T16:52:47.562Z"
   },
   {
    "duration": 14,
    "start_time": "2022-01-25T16:52:47.583Z"
   },
   {
    "duration": 105,
    "start_time": "2022-01-25T16:52:47.599Z"
   },
   {
    "duration": 5,
    "start_time": "2022-01-25T16:52:47.705Z"
   },
   {
    "duration": 269,
    "start_time": "2022-01-25T16:52:54.180Z"
   },
   {
    "duration": 275,
    "start_time": "2022-01-25T16:57:01.566Z"
   },
   {
    "duration": 5,
    "start_time": "2022-01-25T16:57:15.874Z"
   },
   {
    "duration": 265,
    "start_time": "2022-01-25T16:57:46.525Z"
   },
   {
    "duration": 277,
    "start_time": "2022-01-25T16:58:03.433Z"
   },
   {
    "duration": 2,
    "start_time": "2022-01-25T16:58:47.472Z"
   },
   {
    "duration": 96,
    "start_time": "2022-01-25T16:58:47.476Z"
   },
   {
    "duration": 10,
    "start_time": "2022-01-25T16:58:47.574Z"
   },
   {
    "duration": 72,
    "start_time": "2022-01-25T16:58:47.597Z"
   },
   {
    "duration": 32,
    "start_time": "2022-01-25T16:58:47.670Z"
   },
   {
    "duration": 9,
    "start_time": "2022-01-25T16:58:47.704Z"
   },
   {
    "duration": 8,
    "start_time": "2022-01-25T16:58:47.715Z"
   },
   {
    "duration": 412,
    "start_time": "2022-01-25T16:58:47.725Z"
   },
   {
    "duration": 756,
    "start_time": "2022-01-25T16:58:48.140Z"
   },
   {
    "duration": 9,
    "start_time": "2022-01-25T16:58:48.897Z"
   },
   {
    "duration": 183,
    "start_time": "2022-01-25T16:58:48.908Z"
   },
   {
    "duration": 8,
    "start_time": "2022-01-25T16:58:49.097Z"
   },
   {
    "duration": 7,
    "start_time": "2022-01-25T16:58:49.107Z"
   },
   {
    "duration": 7,
    "start_time": "2022-01-25T16:58:49.116Z"
   },
   {
    "duration": 6,
    "start_time": "2022-01-25T16:58:49.124Z"
   },
   {
    "duration": 7,
    "start_time": "2022-01-25T16:58:49.131Z"
   },
   {
    "duration": 9,
    "start_time": "2022-01-25T16:58:49.139Z"
   },
   {
    "duration": 3,
    "start_time": "2022-01-25T16:58:49.149Z"
   },
   {
    "duration": 45,
    "start_time": "2022-01-25T16:58:49.154Z"
   },
   {
    "duration": 7,
    "start_time": "2022-01-25T16:58:49.201Z"
   },
   {
    "duration": 8,
    "start_time": "2022-01-25T16:58:49.210Z"
   },
   {
    "duration": 4,
    "start_time": "2022-01-25T16:58:49.220Z"
   },
   {
    "duration": 9,
    "start_time": "2022-01-25T16:58:49.227Z"
   },
   {
    "duration": 4,
    "start_time": "2022-01-25T16:58:49.238Z"
   },
   {
    "duration": 504,
    "start_time": "2022-01-25T16:58:49.244Z"
   },
   {
    "duration": 12,
    "start_time": "2022-01-25T16:58:49.750Z"
   },
   {
    "duration": 6,
    "start_time": "2022-01-25T16:58:49.763Z"
   },
   {
    "duration": 28,
    "start_time": "2022-01-25T16:58:49.771Z"
   },
   {
    "duration": 16,
    "start_time": "2022-01-25T16:58:49.801Z"
   },
   {
    "duration": 584,
    "start_time": "2022-01-25T16:58:49.819Z"
   },
   {
    "duration": 5,
    "start_time": "2022-01-25T16:58:50.405Z"
   },
   {
    "duration": 9,
    "start_time": "2022-01-25T16:58:50.411Z"
   },
   {
    "duration": 5,
    "start_time": "2022-01-25T16:58:50.421Z"
   },
   {
    "duration": 8,
    "start_time": "2022-01-25T16:58:50.427Z"
   },
   {
    "duration": 5,
    "start_time": "2022-01-25T16:58:50.437Z"
   },
   {
    "duration": 276,
    "start_time": "2022-01-25T16:58:50.444Z"
   },
   {
    "duration": 4,
    "start_time": "2022-01-25T16:58:50.722Z"
   },
   {
    "duration": 273,
    "start_time": "2022-01-25T16:59:34.364Z"
   },
   {
    "duration": 7,
    "start_time": "2022-01-25T17:00:29.301Z"
   },
   {
    "duration": 151,
    "start_time": "2022-01-25T17:05:30.827Z"
   },
   {
    "duration": 4,
    "start_time": "2022-01-25T17:05:55.037Z"
   },
   {
    "duration": 17,
    "start_time": "2022-01-25T17:07:44.862Z"
   },
   {
    "duration": 15,
    "start_time": "2022-01-25T17:07:49.303Z"
   },
   {
    "duration": 5,
    "start_time": "2022-01-25T17:07:58.584Z"
   },
   {
    "duration": 418,
    "start_time": "2022-01-25T17:09:50.319Z"
   },
   {
    "duration": 5,
    "start_time": "2022-01-25T17:09:54.484Z"
   },
   {
    "duration": 15,
    "start_time": "2022-01-25T17:09:59.793Z"
   },
   {
    "duration": 5,
    "start_time": "2022-01-25T17:10:01.825Z"
   },
   {
    "duration": 150,
    "start_time": "2022-01-25T17:11:52.473Z"
   },
   {
    "duration": 5,
    "start_time": "2022-01-25T17:11:55.025Z"
   },
   {
    "duration": 3,
    "start_time": "2022-01-25T17:12:55.106Z"
   },
   {
    "duration": 13,
    "start_time": "2022-01-25T17:12:56.557Z"
   },
   {
    "duration": 5,
    "start_time": "2022-01-25T17:12:58.476Z"
   },
   {
    "duration": 4,
    "start_time": "2022-01-25T17:21:38.916Z"
   },
   {
    "duration": 19,
    "start_time": "2022-01-25T17:21:38.922Z"
   },
   {
    "duration": 8,
    "start_time": "2022-01-25T17:23:18.651Z"
   },
   {
    "duration": 9,
    "start_time": "2022-01-25T17:24:57.388Z"
   },
   {
    "duration": 10,
    "start_time": "2022-01-25T17:26:50.068Z"
   },
   {
    "duration": 6348,
    "start_time": "2022-01-25T17:30:44.862Z"
   },
   {
    "duration": 226,
    "start_time": "2022-01-25T17:31:13.167Z"
   },
   {
    "duration": 240,
    "start_time": "2022-01-25T17:31:31.626Z"
   },
   {
    "duration": 481,
    "start_time": "2022-01-25T17:31:43.217Z"
   },
   {
    "duration": 83,
    "start_time": "2022-01-25T17:33:20.653Z"
   },
   {
    "duration": 13,
    "start_time": "2022-01-25T17:33:34.899Z"
   },
   {
    "duration": 11,
    "start_time": "2022-01-25T17:35:09.221Z"
   },
   {
    "duration": 8,
    "start_time": "2022-01-25T17:35:32.290Z"
   },
   {
    "duration": 12,
    "start_time": "2022-01-25T17:53:17.771Z"
   },
   {
    "duration": 664,
    "start_time": "2022-01-26T07:18:49.185Z"
   },
   {
    "duration": 92,
    "start_time": "2022-01-26T07:18:49.851Z"
   },
   {
    "duration": 9,
    "start_time": "2022-01-26T07:18:49.945Z"
   },
   {
    "duration": 78,
    "start_time": "2022-01-26T07:18:49.956Z"
   },
   {
    "duration": 13,
    "start_time": "2022-01-26T07:18:50.036Z"
   },
   {
    "duration": 22,
    "start_time": "2022-01-26T07:18:50.050Z"
   },
   {
    "duration": 7,
    "start_time": "2022-01-26T07:18:50.074Z"
   },
   {
    "duration": 363,
    "start_time": "2022-01-26T07:18:50.084Z"
   },
   {
    "duration": 717,
    "start_time": "2022-01-26T07:18:50.449Z"
   },
   {
    "duration": 16,
    "start_time": "2022-01-26T07:18:51.167Z"
   },
   {
    "duration": 136,
    "start_time": "2022-01-26T07:18:51.188Z"
   },
   {
    "duration": 7,
    "start_time": "2022-01-26T07:18:51.325Z"
   },
   {
    "duration": 7,
    "start_time": "2022-01-26T07:18:51.334Z"
   },
   {
    "duration": 6,
    "start_time": "2022-01-26T07:18:51.343Z"
   },
   {
    "duration": 30,
    "start_time": "2022-01-26T07:18:51.350Z"
   },
   {
    "duration": 6,
    "start_time": "2022-01-26T07:18:51.382Z"
   },
   {
    "duration": 8,
    "start_time": "2022-01-26T07:18:51.390Z"
   },
   {
    "duration": 4,
    "start_time": "2022-01-26T07:18:51.399Z"
   },
   {
    "duration": 4,
    "start_time": "2022-01-26T07:18:51.405Z"
   },
   {
    "duration": 6,
    "start_time": "2022-01-26T07:18:51.411Z"
   },
   {
    "duration": 8,
    "start_time": "2022-01-26T07:18:51.418Z"
   },
   {
    "duration": 4,
    "start_time": "2022-01-26T07:18:51.427Z"
   },
   {
    "duration": 7,
    "start_time": "2022-01-26T07:18:51.434Z"
   },
   {
    "duration": 5,
    "start_time": "2022-01-26T07:18:51.472Z"
   },
   {
    "duration": 439,
    "start_time": "2022-01-26T07:18:51.478Z"
   },
   {
    "duration": 9,
    "start_time": "2022-01-26T07:18:51.919Z"
   },
   {
    "duration": 6,
    "start_time": "2022-01-26T07:18:51.930Z"
   },
   {
    "duration": 7,
    "start_time": "2022-01-26T07:18:51.937Z"
   },
   {
    "duration": 43,
    "start_time": "2022-01-26T07:18:51.945Z"
   },
   {
    "duration": 547,
    "start_time": "2022-01-26T07:18:51.990Z"
   },
   {
    "duration": 5,
    "start_time": "2022-01-26T07:18:52.539Z"
   },
   {
    "duration": 8,
    "start_time": "2022-01-26T07:18:52.545Z"
   },
   {
    "duration": 5,
    "start_time": "2022-01-26T07:19:49.629Z"
   },
   {
    "duration": 5,
    "start_time": "2022-01-26T07:20:07.843Z"
   },
   {
    "duration": 83,
    "start_time": "2022-01-26T07:20:09.516Z"
   },
   {
    "duration": 5,
    "start_time": "2022-01-26T07:20:10.314Z"
   },
   {
    "duration": 5,
    "start_time": "2022-01-26T07:21:47.895Z"
   },
   {
    "duration": 22,
    "start_time": "2022-01-26T07:22:11.975Z"
   },
   {
    "duration": 291,
    "start_time": "2022-01-26T07:29:53.680Z"
   },
   {
    "duration": 21,
    "start_time": "2022-01-26T07:30:22.601Z"
   },
   {
    "duration": 23885,
    "start_time": "2022-01-26T07:35:36.883Z"
   },
   {
    "duration": 19,
    "start_time": "2022-01-26T07:36:21.108Z"
   },
   {
    "duration": 3,
    "start_time": "2022-01-26T07:36:47.551Z"
   },
   {
    "duration": 124,
    "start_time": "2022-01-26T07:36:47.571Z"
   },
   {
    "duration": 14,
    "start_time": "2022-01-26T07:36:47.697Z"
   },
   {
    "duration": 112,
    "start_time": "2022-01-26T07:36:47.714Z"
   },
   {
    "duration": 15,
    "start_time": "2022-01-26T07:36:47.829Z"
   },
   {
    "duration": 29,
    "start_time": "2022-01-26T07:36:47.846Z"
   },
   {
    "duration": 6,
    "start_time": "2022-01-26T07:36:47.877Z"
   },
   {
    "duration": 424,
    "start_time": "2022-01-26T07:36:47.885Z"
   },
   {
    "duration": 684,
    "start_time": "2022-01-26T07:36:48.311Z"
   },
   {
    "duration": 8,
    "start_time": "2022-01-26T07:36:48.998Z"
   },
   {
    "duration": 174,
    "start_time": "2022-01-26T07:36:49.007Z"
   },
   {
    "duration": 11,
    "start_time": "2022-01-26T07:36:49.182Z"
   },
   {
    "duration": 8,
    "start_time": "2022-01-26T07:36:49.195Z"
   },
   {
    "duration": 7,
    "start_time": "2022-01-26T07:36:49.205Z"
   },
   {
    "duration": 20,
    "start_time": "2022-01-26T07:36:49.214Z"
   },
   {
    "duration": 7,
    "start_time": "2022-01-26T07:36:49.236Z"
   },
   {
    "duration": 30,
    "start_time": "2022-01-26T07:36:49.245Z"
   },
   {
    "duration": 9,
    "start_time": "2022-01-26T07:36:49.280Z"
   },
   {
    "duration": 9,
    "start_time": "2022-01-26T07:36:49.291Z"
   },
   {
    "duration": 14,
    "start_time": "2022-01-26T07:36:49.302Z"
   },
   {
    "duration": 24,
    "start_time": "2022-01-26T07:36:49.318Z"
   },
   {
    "duration": 10,
    "start_time": "2022-01-26T07:36:49.344Z"
   },
   {
    "duration": 9,
    "start_time": "2022-01-26T07:36:49.357Z"
   },
   {
    "duration": 8,
    "start_time": "2022-01-26T07:36:49.367Z"
   },
   {
    "duration": 427,
    "start_time": "2022-01-26T07:36:49.376Z"
   },
   {
    "duration": 11,
    "start_time": "2022-01-26T07:36:49.805Z"
   },
   {
    "duration": 7,
    "start_time": "2022-01-26T07:36:49.817Z"
   },
   {
    "duration": 7,
    "start_time": "2022-01-26T07:36:49.825Z"
   },
   {
    "duration": 41,
    "start_time": "2022-01-26T07:36:49.834Z"
   },
   {
    "duration": 944,
    "start_time": "2022-01-26T07:36:49.877Z"
   },
   {
    "duration": 5,
    "start_time": "2022-01-26T07:36:50.822Z"
   },
   {
    "duration": 12,
    "start_time": "2022-01-26T07:36:50.829Z"
   },
   {
    "duration": 7,
    "start_time": "2022-01-26T07:36:50.843Z"
   },
   {
    "duration": 18,
    "start_time": "2022-01-26T07:36:50.852Z"
   },
   {
    "duration": 160,
    "start_time": "2022-01-26T07:36:50.871Z"
   },
   {
    "duration": 4,
    "start_time": "2022-01-26T07:36:51.033Z"
   },
   {
    "duration": 173,
    "start_time": "2022-01-26T07:36:51.039Z"
   },
   {
    "duration": 4,
    "start_time": "2022-01-26T07:36:51.214Z"
   },
   {
    "duration": 43,
    "start_time": "2022-01-26T07:36:51.219Z"
   },
   {
    "duration": 51,
    "start_time": "2022-01-26T07:36:51.264Z"
   },
   {
    "duration": 6,
    "start_time": "2022-01-26T07:37:00.108Z"
   },
   {
    "duration": 18,
    "start_time": "2022-01-26T07:37:00.219Z"
   },
   {
    "duration": 5,
    "start_time": "2022-01-26T07:37:08.840Z"
   },
   {
    "duration": 18,
    "start_time": "2022-01-26T07:37:10.521Z"
   },
   {
    "duration": 21131,
    "start_time": "2022-01-26T07:37:12.197Z"
   },
   {
    "duration": 19,
    "start_time": "2022-01-26T07:37:33.329Z"
   },
   {
    "duration": 31,
    "start_time": "2022-01-26T07:45:25.815Z"
   },
   {
    "duration": 28,
    "start_time": "2022-01-26T07:46:12.998Z"
   },
   {
    "duration": 50,
    "start_time": "2022-01-26T07:46:41.465Z"
   },
   {
    "duration": 16,
    "start_time": "2022-01-26T07:47:32.421Z"
   },
   {
    "duration": 8052,
    "start_time": "2022-01-26T07:48:13.800Z"
   },
   {
    "duration": 5,
    "start_time": "2022-01-26T07:48:33.318Z"
   },
   {
    "duration": 43,
    "start_time": "2022-01-26T07:49:15.083Z"
   },
   {
    "duration": 43,
    "start_time": "2022-01-26T07:49:23.103Z"
   },
   {
    "duration": 69,
    "start_time": "2022-01-26T07:50:21.882Z"
   },
   {
    "duration": 35,
    "start_time": "2022-01-26T07:54:28.155Z"
   },
   {
    "duration": 9,
    "start_time": "2022-01-26T07:54:46.712Z"
   },
   {
    "duration": 3,
    "start_time": "2022-01-26T07:55:18.043Z"
   },
   {
    "duration": 90,
    "start_time": "2022-01-26T07:55:19.324Z"
   },
   {
    "duration": 10,
    "start_time": "2022-01-26T07:55:19.415Z"
   },
   {
    "duration": 75,
    "start_time": "2022-01-26T07:55:19.427Z"
   },
   {
    "duration": 12,
    "start_time": "2022-01-26T07:55:19.503Z"
   },
   {
    "duration": 10,
    "start_time": "2022-01-26T07:55:19.516Z"
   },
   {
    "duration": 5,
    "start_time": "2022-01-26T07:55:19.543Z"
   },
   {
    "duration": 379,
    "start_time": "2022-01-26T07:55:19.550Z"
   },
   {
    "duration": 689,
    "start_time": "2022-01-26T07:55:19.932Z"
   },
   {
    "duration": 9,
    "start_time": "2022-01-26T07:55:20.623Z"
   },
   {
    "duration": 159,
    "start_time": "2022-01-26T07:55:20.633Z"
   },
   {
    "duration": 8,
    "start_time": "2022-01-26T07:55:20.794Z"
   },
   {
    "duration": 8,
    "start_time": "2022-01-26T07:55:20.803Z"
   },
   {
    "duration": 10,
    "start_time": "2022-01-26T07:55:20.812Z"
   },
   {
    "duration": 5,
    "start_time": "2022-01-26T07:55:20.825Z"
   },
   {
    "duration": 5,
    "start_time": "2022-01-26T07:55:20.832Z"
   },
   {
    "duration": 38,
    "start_time": "2022-01-26T07:55:20.838Z"
   },
   {
    "duration": 5,
    "start_time": "2022-01-26T07:55:20.878Z"
   },
   {
    "duration": 7,
    "start_time": "2022-01-26T07:55:20.885Z"
   },
   {
    "duration": 8,
    "start_time": "2022-01-26T07:55:20.893Z"
   },
   {
    "duration": 10,
    "start_time": "2022-01-26T07:55:20.902Z"
   },
   {
    "duration": 4,
    "start_time": "2022-01-26T07:55:20.914Z"
   },
   {
    "duration": 9,
    "start_time": "2022-01-26T07:55:20.920Z"
   },
   {
    "duration": 6,
    "start_time": "2022-01-26T07:55:20.931Z"
   },
   {
    "duration": 551,
    "start_time": "2022-01-26T07:55:20.938Z"
   },
   {
    "duration": 9,
    "start_time": "2022-01-26T07:55:21.491Z"
   },
   {
    "duration": 6,
    "start_time": "2022-01-26T07:55:21.502Z"
   },
   {
    "duration": 10,
    "start_time": "2022-01-26T07:55:21.509Z"
   },
   {
    "duration": 14,
    "start_time": "2022-01-26T07:55:21.520Z"
   },
   {
    "duration": 701,
    "start_time": "2022-01-26T07:55:21.536Z"
   },
   {
    "duration": 4,
    "start_time": "2022-01-26T07:55:22.239Z"
   },
   {
    "duration": 9,
    "start_time": "2022-01-26T07:55:22.245Z"
   },
   {
    "duration": 19,
    "start_time": "2022-01-26T07:55:22.257Z"
   },
   {
    "duration": 6,
    "start_time": "2022-01-26T07:55:22.278Z"
   },
   {
    "duration": 98,
    "start_time": "2022-01-26T07:55:22.286Z"
   },
   {
    "duration": 5,
    "start_time": "2022-01-26T07:55:22.386Z"
   },
   {
    "duration": 168,
    "start_time": "2022-01-26T07:55:22.393Z"
   },
   {
    "duration": 9,
    "start_time": "2022-01-26T07:55:22.563Z"
   },
   {
    "duration": 16,
    "start_time": "2022-01-26T07:55:22.574Z"
   },
   {
    "duration": 19,
    "start_time": "2022-01-26T07:55:22.592Z"
   },
   {
    "duration": 6,
    "start_time": "2022-01-26T07:55:22.612Z"
   },
   {
    "duration": 21,
    "start_time": "2022-01-26T07:55:22.619Z"
   },
   {
    "duration": 21563,
    "start_time": "2022-01-26T07:55:22.641Z"
   },
   {
    "duration": 18,
    "start_time": "2022-01-26T07:55:44.206Z"
   },
   {
    "duration": 81,
    "start_time": "2022-01-26T07:55:44.226Z"
   },
   {
    "duration": 30,
    "start_time": "2022-01-26T07:55:44.309Z"
   },
   {
    "duration": 63,
    "start_time": "2022-01-26T08:06:49.449Z"
   },
   {
    "duration": 11,
    "start_time": "2022-01-26T08:10:20.291Z"
   },
   {
    "duration": 372,
    "start_time": "2022-01-26T08:17:43.250Z"
   },
   {
    "duration": 22,
    "start_time": "2022-01-26T08:19:24.237Z"
   },
   {
    "duration": 3235,
    "start_time": "2022-01-26T08:21:46.343Z"
   },
   {
    "duration": 2,
    "start_time": "2022-01-26T08:24:00.815Z"
   },
   {
    "duration": 99,
    "start_time": "2022-01-26T08:24:00.897Z"
   },
   {
    "duration": 12,
    "start_time": "2022-01-26T08:24:00.998Z"
   },
   {
    "duration": 88,
    "start_time": "2022-01-26T08:24:01.012Z"
   },
   {
    "duration": 12,
    "start_time": "2022-01-26T08:24:01.102Z"
   },
   {
    "duration": 7,
    "start_time": "2022-01-26T08:24:01.186Z"
   },
   {
    "duration": 5,
    "start_time": "2022-01-26T08:24:01.257Z"
   },
   {
    "duration": 334,
    "start_time": "2022-01-26T08:24:01.323Z"
   },
   {
    "duration": 661,
    "start_time": "2022-01-26T08:24:01.658Z"
   },
   {
    "duration": 7,
    "start_time": "2022-01-26T08:24:02.321Z"
   },
   {
    "duration": 268,
    "start_time": "2022-01-26T08:24:12.265Z"
   },
   {
    "duration": 5,
    "start_time": "2022-01-26T08:24:12.535Z"
   },
   {
    "duration": 6,
    "start_time": "2022-01-26T08:24:12.542Z"
   },
   {
    "duration": 33,
    "start_time": "2022-01-26T08:24:12.550Z"
   },
   {
    "duration": 7,
    "start_time": "2022-01-26T08:24:12.584Z"
   },
   {
    "duration": 9,
    "start_time": "2022-01-26T08:24:12.593Z"
   },
   {
    "duration": 3,
    "start_time": "2022-01-26T08:24:12.604Z"
   },
   {
    "duration": 4,
    "start_time": "2022-01-26T08:24:12.610Z"
   },
   {
    "duration": 7,
    "start_time": "2022-01-26T08:24:12.616Z"
   },
   {
    "duration": 14,
    "start_time": "2022-01-26T08:24:16.267Z"
   },
   {
    "duration": 4,
    "start_time": "2022-01-26T08:24:16.283Z"
   },
   {
    "duration": 6,
    "start_time": "2022-01-26T08:24:16.289Z"
   },
   {
    "duration": 4,
    "start_time": "2022-01-26T08:24:16.297Z"
   },
   {
    "duration": 432,
    "start_time": "2022-01-26T08:24:16.302Z"
   },
   {
    "duration": 10,
    "start_time": "2022-01-26T08:24:16.735Z"
   },
   {
    "duration": 7,
    "start_time": "2022-01-26T08:24:16.746Z"
   },
   {
    "duration": 26,
    "start_time": "2022-01-26T08:24:16.754Z"
   },
   {
    "duration": 18,
    "start_time": "2022-01-26T08:24:16.783Z"
   },
   {
    "duration": 564,
    "start_time": "2022-01-26T08:24:16.803Z"
   },
   {
    "duration": 5,
    "start_time": "2022-01-26T08:24:17.372Z"
   },
   {
    "duration": 10,
    "start_time": "2022-01-26T08:24:17.378Z"
   },
   {
    "duration": 4,
    "start_time": "2022-01-26T08:24:17.390Z"
   },
   {
    "duration": 6,
    "start_time": "2022-01-26T08:24:17.396Z"
   },
   {
    "duration": 14,
    "start_time": "2022-01-26T08:24:17.403Z"
   },
   {
    "duration": 4,
    "start_time": "2022-01-26T08:24:17.418Z"
   },
   {
    "duration": 182,
    "start_time": "2022-01-26T08:24:17.423Z"
   },
   {
    "duration": 4,
    "start_time": "2022-01-26T08:24:17.607Z"
   },
   {
    "duration": 4,
    "start_time": "2022-01-26T08:24:17.612Z"
   },
   {
    "duration": 16,
    "start_time": "2022-01-26T08:24:17.618Z"
   },
   {
    "duration": 5,
    "start_time": "2022-01-26T08:24:17.635Z"
   },
   {
    "duration": 42,
    "start_time": "2022-01-26T08:24:17.642Z"
   },
   {
    "duration": 22813,
    "start_time": "2022-01-26T08:24:17.686Z"
   },
   {
    "duration": 20,
    "start_time": "2022-01-26T08:24:40.501Z"
   },
   {
    "duration": 76,
    "start_time": "2022-01-26T08:24:40.523Z"
   },
   {
    "duration": 22,
    "start_time": "2022-01-26T08:24:40.601Z"
   },
   {
    "duration": 7,
    "start_time": "2022-01-26T08:24:48.365Z"
   },
   {
    "duration": 21,
    "start_time": "2022-01-26T08:24:54.943Z"
   },
   {
    "duration": 4,
    "start_time": "2022-01-26T08:27:12.695Z"
   },
   {
    "duration": 306,
    "start_time": "2022-01-26T08:28:42.488Z"
   },
   {
    "duration": 3,
    "start_time": "2022-01-26T08:29:36.205Z"
   },
   {
    "duration": 5,
    "start_time": "2022-01-26T08:40:23.848Z"
   },
   {
    "duration": 4,
    "start_time": "2022-01-26T08:41:34.880Z"
   },
   {
    "duration": 13,
    "start_time": "2022-01-26T08:46:41.179Z"
   },
   {
    "duration": 414,
    "start_time": "2022-01-26T08:57:49.665Z"
   },
   {
    "duration": 654,
    "start_time": "2022-01-26T08:58:29.421Z"
   },
   {
    "duration": 344,
    "start_time": "2022-01-26T09:02:41.429Z"
   },
   {
    "duration": 5,
    "start_time": "2022-01-26T09:03:08.258Z"
   },
   {
    "duration": 38,
    "start_time": "2022-01-26T09:04:33.738Z"
   },
   {
    "duration": 423,
    "start_time": "2022-01-26T12:01:51.438Z"
   },
   {
    "duration": 844,
    "start_time": "2022-01-26T12:02:11.392Z"
   },
   {
    "duration": 128,
    "start_time": "2022-01-26T12:02:12.238Z"
   },
   {
    "duration": 15,
    "start_time": "2022-01-26T12:02:12.369Z"
   },
   {
    "duration": 124,
    "start_time": "2022-01-26T12:02:12.388Z"
   },
   {
    "duration": 19,
    "start_time": "2022-01-26T12:02:12.514Z"
   },
   {
    "duration": 31,
    "start_time": "2022-01-26T12:02:12.535Z"
   },
   {
    "duration": 7,
    "start_time": "2022-01-26T12:02:12.568Z"
   },
   {
    "duration": 665,
    "start_time": "2022-01-26T12:02:12.577Z"
   },
   {
    "duration": 1280,
    "start_time": "2022-01-26T12:02:13.246Z"
   },
   {
    "duration": 29,
    "start_time": "2022-01-26T12:02:14.530Z"
   },
   {
    "duration": 310,
    "start_time": "2022-01-26T12:02:14.562Z"
   },
   {
    "duration": 9,
    "start_time": "2022-01-26T12:02:14.874Z"
   },
   {
    "duration": 13,
    "start_time": "2022-01-26T12:02:14.886Z"
   },
   {
    "duration": 7,
    "start_time": "2022-01-26T12:02:14.901Z"
   },
   {
    "duration": 8,
    "start_time": "2022-01-26T12:02:14.911Z"
   },
   {
    "duration": 13,
    "start_time": "2022-01-26T12:02:14.960Z"
   },
   {
    "duration": 6,
    "start_time": "2022-01-26T12:02:14.976Z"
   },
   {
    "duration": 9,
    "start_time": "2022-01-26T12:02:14.984Z"
   },
   {
    "duration": 9,
    "start_time": "2022-01-26T12:02:14.995Z"
   },
   {
    "duration": 53,
    "start_time": "2022-01-26T12:02:15.006Z"
   },
   {
    "duration": 6,
    "start_time": "2022-01-26T12:02:15.062Z"
   },
   {
    "duration": 13,
    "start_time": "2022-01-26T12:02:15.070Z"
   },
   {
    "duration": 6,
    "start_time": "2022-01-26T12:02:15.086Z"
   },
   {
    "duration": 781,
    "start_time": "2022-01-26T12:02:15.095Z"
   },
   {
    "duration": 16,
    "start_time": "2022-01-26T12:02:15.878Z"
   },
   {
    "duration": 9,
    "start_time": "2022-01-26T12:02:15.897Z"
   },
   {
    "duration": 13,
    "start_time": "2022-01-26T12:02:15.912Z"
   },
   {
    "duration": 28,
    "start_time": "2022-01-26T12:02:15.961Z"
   },
   {
    "duration": 1311,
    "start_time": "2022-01-26T12:02:15.992Z"
   },
   {
    "duration": 6,
    "start_time": "2022-01-26T12:02:17.305Z"
   },
   {
    "duration": 9,
    "start_time": "2022-01-26T12:02:17.313Z"
   },
   {
    "duration": 6,
    "start_time": "2022-01-26T12:02:17.325Z"
   },
   {
    "duration": 7,
    "start_time": "2022-01-26T12:02:17.360Z"
   },
   {
    "duration": 21,
    "start_time": "2022-01-26T12:02:17.370Z"
   },
   {
    "duration": 7,
    "start_time": "2022-01-26T12:02:17.393Z"
   },
   {
    "duration": 318,
    "start_time": "2022-01-26T12:02:17.402Z"
   },
   {
    "duration": 6,
    "start_time": "2022-01-26T12:02:17.723Z"
   },
   {
    "duration": 6,
    "start_time": "2022-01-26T12:02:17.732Z"
   },
   {
    "duration": 33,
    "start_time": "2022-01-26T12:02:17.760Z"
   },
   {
    "duration": 8,
    "start_time": "2022-01-26T12:02:17.795Z"
   },
   {
    "duration": 56,
    "start_time": "2022-01-26T12:02:17.806Z"
   },
   {
    "duration": 35306,
    "start_time": "2022-01-26T12:02:17.864Z"
   },
   {
    "duration": 29,
    "start_time": "2022-01-26T12:02:53.173Z"
   },
   {
    "duration": 113,
    "start_time": "2022-01-26T12:02:53.205Z"
   },
   {
    "duration": 53,
    "start_time": "2022-01-26T12:02:53.321Z"
   },
   {
    "duration": 12,
    "start_time": "2022-01-26T12:02:53.377Z"
   },
   {
    "duration": 33,
    "start_time": "2022-01-26T12:02:53.392Z"
   },
   {
    "duration": 4,
    "start_time": "2022-01-26T12:02:53.428Z"
   },
   {
    "duration": 5,
    "start_time": "2022-01-26T12:02:53.461Z"
   },
   {
    "duration": 18,
    "start_time": "2022-01-26T12:02:53.468Z"
   },
   {
    "duration": 755,
    "start_time": "2022-01-26T12:02:53.488Z"
   },
   {
    "duration": 14,
    "start_time": "2022-01-26T12:02:54.245Z"
   },
   {
    "duration": 53,
    "start_time": "2022-01-26T12:02:54.262Z"
   },
   {
    "duration": 109,
    "start_time": "2022-01-26T12:03:14.859Z"
   },
   {
    "duration": 12,
    "start_time": "2022-01-26T12:05:35.078Z"
   },
   {
    "duration": 434,
    "start_time": "2022-01-26T12:08:21.017Z"
   },
   {
    "duration": 4,
    "start_time": "2022-01-26T12:08:42.849Z"
   },
   {
    "duration": 123,
    "start_time": "2022-01-26T12:08:45.156Z"
   },
   {
    "duration": 14,
    "start_time": "2022-01-26T12:08:45.282Z"
   },
   {
    "duration": 112,
    "start_time": "2022-01-26T12:08:45.941Z"
   },
   {
    "duration": 17,
    "start_time": "2022-01-26T12:08:46.289Z"
   },
   {
    "duration": 11,
    "start_time": "2022-01-26T12:08:46.921Z"
   },
   {
    "duration": 7,
    "start_time": "2022-01-26T12:08:46.935Z"
   },
   {
    "duration": 677,
    "start_time": "2022-01-26T12:08:48.650Z"
   },
   {
    "duration": 1200,
    "start_time": "2022-01-26T12:08:49.331Z"
   },
   {
    "duration": 13,
    "start_time": "2022-01-26T12:08:50.534Z"
   },
   {
    "duration": 261,
    "start_time": "2022-01-26T12:08:50.560Z"
   },
   {
    "duration": 10,
    "start_time": "2022-01-26T12:08:50.825Z"
   },
   {
    "duration": 31,
    "start_time": "2022-01-26T12:08:50.838Z"
   },
   {
    "duration": 12,
    "start_time": "2022-01-26T12:08:50.872Z"
   },
   {
    "duration": 18,
    "start_time": "2022-01-26T12:08:50.886Z"
   },
   {
    "duration": 14,
    "start_time": "2022-01-26T12:08:50.909Z"
   },
   {
    "duration": 35,
    "start_time": "2022-01-26T12:08:50.926Z"
   },
   {
    "duration": 6,
    "start_time": "2022-01-26T12:08:50.965Z"
   },
   {
    "duration": 7,
    "start_time": "2022-01-26T12:08:50.974Z"
   },
   {
    "duration": 14,
    "start_time": "2022-01-26T12:08:50.984Z"
   },
   {
    "duration": 7,
    "start_time": "2022-01-26T12:08:51.000Z"
   },
   {
    "duration": 10,
    "start_time": "2022-01-26T12:08:51.060Z"
   },
   {
    "duration": 7,
    "start_time": "2022-01-26T12:08:54.048Z"
   },
   {
    "duration": 731,
    "start_time": "2022-01-26T12:08:54.058Z"
   },
   {
    "duration": 14,
    "start_time": "2022-01-26T12:08:54.792Z"
   },
   {
    "duration": 10,
    "start_time": "2022-01-26T12:08:54.810Z"
   },
   {
    "duration": 42,
    "start_time": "2022-01-26T12:08:54.823Z"
   },
   {
    "duration": 25,
    "start_time": "2022-01-26T12:08:54.867Z"
   },
   {
    "duration": 1036,
    "start_time": "2022-01-26T12:08:54.894Z"
   },
   {
    "duration": 6,
    "start_time": "2022-01-26T12:08:55.932Z"
   },
   {
    "duration": 24,
    "start_time": "2022-01-26T12:08:55.943Z"
   },
   {
    "duration": 8,
    "start_time": "2022-01-26T12:08:55.969Z"
   },
   {
    "duration": 7,
    "start_time": "2022-01-26T12:08:55.980Z"
   },
   {
    "duration": 26,
    "start_time": "2022-01-26T12:08:55.989Z"
   },
   {
    "duration": 7,
    "start_time": "2022-01-26T12:08:56.059Z"
   },
   {
    "duration": 290,
    "start_time": "2022-01-26T12:08:56.069Z"
   },
   {
    "duration": 6,
    "start_time": "2022-01-26T12:08:56.361Z"
   },
   {
    "duration": 4,
    "start_time": "2022-01-26T12:08:56.369Z"
   },
   {
    "duration": 25,
    "start_time": "2022-01-26T12:08:56.376Z"
   },
   {
    "duration": 8,
    "start_time": "2022-01-26T12:08:56.403Z"
   },
   {
    "duration": 68,
    "start_time": "2022-01-26T12:08:56.413Z"
   },
   {
    "duration": 34964,
    "start_time": "2022-01-26T12:08:56.483Z"
   },
   {
    "duration": 33,
    "start_time": "2022-01-26T12:09:31.450Z"
   },
   {
    "duration": 103,
    "start_time": "2022-01-26T12:09:31.485Z"
   },
   {
    "duration": 36,
    "start_time": "2022-01-26T12:09:31.591Z"
   },
   {
    "duration": 12,
    "start_time": "2022-01-26T12:09:42.166Z"
   },
   {
    "duration": 467,
    "start_time": "2022-01-26T12:09:44.348Z"
   },
   {
    "duration": 32,
    "start_time": "2022-01-26T12:10:44.974Z"
   },
   {
    "duration": 233,
    "start_time": "2022-01-26T12:11:37.396Z"
   },
   {
    "duration": 4,
    "start_time": "2022-01-26T12:18:18.914Z"
   },
   {
    "duration": 119,
    "start_time": "2022-01-26T12:18:20.020Z"
   },
   {
    "duration": 18,
    "start_time": "2022-01-26T12:18:29.487Z"
   },
   {
    "duration": 106,
    "start_time": "2022-01-26T12:18:44.295Z"
   },
   {
    "duration": 19,
    "start_time": "2022-01-26T12:18:51.062Z"
   },
   {
    "duration": 9,
    "start_time": "2022-01-26T12:18:57.073Z"
   },
   {
    "duration": 94,
    "start_time": "2022-01-26T12:19:14.822Z"
   },
   {
    "duration": 8,
    "start_time": "2022-01-26T12:19:37.887Z"
   },
   {
    "duration": 7,
    "start_time": "2022-01-26T12:20:51.192Z"
   },
   {
    "duration": 3,
    "start_time": "2022-01-26T12:21:22.106Z"
   },
   {
    "duration": 120,
    "start_time": "2022-01-26T12:21:23.276Z"
   },
   {
    "duration": 17,
    "start_time": "2022-01-26T12:21:25.586Z"
   },
   {
    "duration": 104,
    "start_time": "2022-01-26T12:21:27.626Z"
   },
   {
    "duration": 25,
    "start_time": "2022-01-26T12:21:39.467Z"
   },
   {
    "duration": 8,
    "start_time": "2022-01-26T12:21:42.799Z"
   },
   {
    "duration": 623,
    "start_time": "2022-01-26T12:21:45.795Z"
   },
   {
    "duration": 1168,
    "start_time": "2022-01-26T12:21:49.512Z"
   },
   {
    "duration": 12,
    "start_time": "2022-01-26T12:21:54.412Z"
   },
   {
    "duration": 248,
    "start_time": "2022-01-26T12:22:05.283Z"
   },
   {
    "duration": 9,
    "start_time": "2022-01-26T12:22:13.443Z"
   },
   {
    "duration": 103,
    "start_time": "2022-01-26T12:22:29.270Z"
   },
   {
    "duration": 12,
    "start_time": "2022-01-26T12:23:13.627Z"
   },
   {
    "duration": 9,
    "start_time": "2022-01-26T12:23:19.218Z"
   },
   {
    "duration": 15,
    "start_time": "2022-01-26T12:23:20.535Z"
   },
   {
    "duration": 12,
    "start_time": "2022-01-26T12:23:21.298Z"
   },
   {
    "duration": 6,
    "start_time": "2022-01-26T12:23:31.698Z"
   },
   {
    "duration": 6,
    "start_time": "2022-01-26T12:23:33.211Z"
   },
   {
    "duration": 9,
    "start_time": "2022-01-26T12:23:35.411Z"
   },
   {
    "duration": 12,
    "start_time": "2022-01-26T12:23:41.867Z"
   },
   {
    "duration": 9,
    "start_time": "2022-01-26T12:24:04.902Z"
   },
   {
    "duration": 6,
    "start_time": "2022-01-26T12:24:15.938Z"
   },
   {
    "duration": 724,
    "start_time": "2022-01-26T12:24:34.251Z"
   },
   {
    "duration": 14,
    "start_time": "2022-01-26T12:24:42.154Z"
   },
   {
    "duration": 11,
    "start_time": "2022-01-26T12:24:48.440Z"
   },
   {
    "duration": 13,
    "start_time": "2022-01-26T12:24:48.970Z"
   },
   {
    "duration": 26,
    "start_time": "2022-01-26T12:24:53.918Z"
   },
   {
    "duration": 1031,
    "start_time": "2022-01-26T12:25:08.805Z"
   },
   {
    "duration": 1112,
    "start_time": "2022-01-26T12:25:19.047Z"
   },
   {
    "duration": 6,
    "start_time": "2022-01-26T12:25:21.852Z"
   },
   {
    "duration": 10,
    "start_time": "2022-01-26T12:25:29.859Z"
   },
   {
    "duration": 7,
    "start_time": "2022-01-26T12:26:10.088Z"
   },
   {
    "duration": 6,
    "start_time": "2022-01-26T12:26:11.157Z"
   },
   {
    "duration": 7,
    "start_time": "2022-01-26T12:26:12.314Z"
   },
   {
    "duration": 95,
    "start_time": "2022-01-26T12:26:23.567Z"
   },
   {
    "duration": 271,
    "start_time": "2022-01-26T12:26:57.639Z"
   },
   {
    "duration": 6,
    "start_time": "2022-01-26T12:27:00.121Z"
   },
   {
    "duration": 5,
    "start_time": "2022-01-26T12:27:06.826Z"
   },
   {
    "duration": 23,
    "start_time": "2022-01-26T12:27:07.421Z"
   },
   {
    "duration": 8,
    "start_time": "2022-01-26T12:27:16.081Z"
   },
   {
    "duration": 34,
    "start_time": "2022-01-26T12:27:17.511Z"
   },
   {
    "duration": 34225,
    "start_time": "2022-01-26T12:28:02.251Z"
   },
   {
    "duration": 28,
    "start_time": "2022-01-26T12:28:36.479Z"
   },
   {
    "duration": 99,
    "start_time": "2022-01-26T12:28:51.892Z"
   },
   {
    "duration": 101,
    "start_time": "2022-01-26T12:29:04.732Z"
   },
   {
    "duration": 4,
    "start_time": "2022-01-26T12:30:09.200Z"
   },
   {
    "duration": 129,
    "start_time": "2022-01-26T12:30:09.206Z"
   },
   {
    "duration": 25,
    "start_time": "2022-01-26T12:30:09.338Z"
   },
   {
    "duration": 124,
    "start_time": "2022-01-26T12:30:09.366Z"
   },
   {
    "duration": 19,
    "start_time": "2022-01-26T12:30:09.493Z"
   },
   {
    "duration": 22,
    "start_time": "2022-01-26T12:30:09.514Z"
   },
   {
    "duration": 732,
    "start_time": "2022-01-26T12:30:09.538Z"
   },
   {
    "duration": 1282,
    "start_time": "2022-01-26T12:30:10.273Z"
   },
   {
    "duration": 13,
    "start_time": "2022-01-26T12:30:14.540Z"
   },
   {
    "duration": 247,
    "start_time": "2022-01-26T12:30:14.556Z"
   },
   {
    "duration": 9,
    "start_time": "2022-01-26T12:30:14.807Z"
   },
   {
    "duration": 23,
    "start_time": "2022-01-26T12:30:14.818Z"
   },
   {
    "duration": 22,
    "start_time": "2022-01-26T12:30:14.844Z"
   },
   {
    "duration": 25,
    "start_time": "2022-01-26T12:30:14.868Z"
   },
   {
    "duration": 12,
    "start_time": "2022-01-26T12:30:14.895Z"
   },
   {
    "duration": 5,
    "start_time": "2022-01-26T12:30:14.910Z"
   },
   {
    "duration": 17,
    "start_time": "2022-01-26T12:30:14.919Z"
   },
   {
    "duration": 25,
    "start_time": "2022-01-26T12:30:14.938Z"
   },
   {
    "duration": 11,
    "start_time": "2022-01-26T12:30:14.966Z"
   },
   {
    "duration": 8,
    "start_time": "2022-01-26T12:30:14.980Z"
   },
   {
    "duration": 7,
    "start_time": "2022-01-26T12:30:14.990Z"
   },
   {
    "duration": 911,
    "start_time": "2022-01-26T12:30:14.999Z"
   },
   {
    "duration": 16,
    "start_time": "2022-01-26T12:30:15.913Z"
   },
   {
    "duration": 36,
    "start_time": "2022-01-26T12:30:15.933Z"
   },
   {
    "duration": 11,
    "start_time": "2022-01-26T12:30:15.972Z"
   },
   {
    "duration": 24,
    "start_time": "2022-01-26T12:30:15.986Z"
   },
   {
    "duration": 5,
    "start_time": "2022-01-26T12:31:26.854Z"
   },
   {
    "duration": 127,
    "start_time": "2022-01-26T12:31:26.861Z"
   },
   {
    "duration": 15,
    "start_time": "2022-01-26T12:31:26.991Z"
   },
   {
    "duration": 122,
    "start_time": "2022-01-26T12:31:27.009Z"
   },
   {
    "duration": 32,
    "start_time": "2022-01-26T12:31:27.133Z"
   },
   {
    "duration": 7,
    "start_time": "2022-01-26T12:31:27.167Z"
   },
   {
    "duration": 644,
    "start_time": "2022-01-26T12:31:27.177Z"
   },
   {
    "duration": 1235,
    "start_time": "2022-01-26T12:31:27.824Z"
   },
   {
    "duration": 13,
    "start_time": "2022-01-26T12:31:29.063Z"
   },
   {
    "duration": 296,
    "start_time": "2022-01-26T12:31:29.080Z"
   },
   {
    "duration": 8,
    "start_time": "2022-01-26T12:31:29.378Z"
   },
   {
    "duration": 12,
    "start_time": "2022-01-26T12:31:29.388Z"
   },
   {
    "duration": 8,
    "start_time": "2022-01-26T12:31:29.403Z"
   },
   {
    "duration": 49,
    "start_time": "2022-01-26T12:31:29.413Z"
   },
   {
    "duration": 14,
    "start_time": "2022-01-26T12:31:29.464Z"
   },
   {
    "duration": 7,
    "start_time": "2022-01-26T12:31:29.480Z"
   },
   {
    "duration": 22,
    "start_time": "2022-01-26T12:31:29.489Z"
   },
   {
    "duration": 13,
    "start_time": "2022-01-26T12:31:29.513Z"
   },
   {
    "duration": 30,
    "start_time": "2022-01-26T12:31:29.529Z"
   },
   {
    "duration": 8,
    "start_time": "2022-01-26T12:31:29.562Z"
   },
   {
    "duration": 15,
    "start_time": "2022-01-26T12:31:29.573Z"
   },
   {
    "duration": 796,
    "start_time": "2022-01-26T12:31:29.591Z"
   },
   {
    "duration": 14,
    "start_time": "2022-01-26T12:31:30.390Z"
   },
   {
    "duration": 34,
    "start_time": "2022-01-26T12:31:30.407Z"
   },
   {
    "duration": 23,
    "start_time": "2022-01-26T12:31:30.444Z"
   },
   {
    "duration": 27,
    "start_time": "2022-01-26T12:31:30.470Z"
   },
   {
    "duration": 1163,
    "start_time": "2022-01-26T12:31:30.502Z"
   },
   {
    "duration": 6,
    "start_time": "2022-01-26T12:31:31.668Z"
   },
   {
    "duration": 10,
    "start_time": "2022-01-26T12:31:31.677Z"
   },
   {
    "duration": 6,
    "start_time": "2022-01-26T12:31:31.689Z"
   },
   {
    "duration": 5,
    "start_time": "2022-01-26T12:31:31.698Z"
   },
   {
    "duration": 6,
    "start_time": "2022-01-26T12:31:31.706Z"
   },
   {
    "duration": 312,
    "start_time": "2022-01-26T12:31:31.714Z"
   },
   {
    "duration": 6,
    "start_time": "2022-01-26T12:31:32.029Z"
   },
   {
    "duration": 21,
    "start_time": "2022-01-26T12:31:32.038Z"
   },
   {
    "duration": 22,
    "start_time": "2022-01-26T12:31:32.061Z"
   },
   {
    "duration": 101,
    "start_time": "2022-01-26T12:32:06.078Z"
   },
   {
    "duration": 5,
    "start_time": "2022-01-26T12:33:06.961Z"
   },
   {
    "duration": 145,
    "start_time": "2022-01-26T12:33:06.969Z"
   },
   {
    "duration": 15,
    "start_time": "2022-01-26T12:33:07.117Z"
   },
   {
    "duration": 141,
    "start_time": "2022-01-26T12:33:07.135Z"
   },
   {
    "duration": 19,
    "start_time": "2022-01-26T12:33:07.280Z"
   },
   {
    "duration": 8,
    "start_time": "2022-01-26T12:33:07.302Z"
   },
   {
    "duration": 673,
    "start_time": "2022-01-26T12:33:07.313Z"
   },
   {
    "duration": 1227,
    "start_time": "2022-01-26T12:33:07.990Z"
   },
   {
    "duration": 11,
    "start_time": "2022-01-26T12:33:09.220Z"
   },
   {
    "duration": 287,
    "start_time": "2022-01-26T12:33:09.234Z"
   },
   {
    "duration": 8,
    "start_time": "2022-01-26T12:33:09.524Z"
   },
   {
    "duration": 27,
    "start_time": "2022-01-26T12:33:09.534Z"
   },
   {
    "duration": 9,
    "start_time": "2022-01-26T12:33:09.563Z"
   },
   {
    "duration": 11,
    "start_time": "2022-01-26T12:33:09.574Z"
   },
   {
    "duration": 12,
    "start_time": "2022-01-26T12:33:09.588Z"
   },
   {
    "duration": 4,
    "start_time": "2022-01-26T12:33:09.603Z"
   },
   {
    "duration": 54,
    "start_time": "2022-01-26T12:33:09.610Z"
   },
   {
    "duration": 9,
    "start_time": "2022-01-26T12:33:09.667Z"
   },
   {
    "duration": 11,
    "start_time": "2022-01-26T12:33:09.679Z"
   },
   {
    "duration": 9,
    "start_time": "2022-01-26T12:33:09.693Z"
   },
   {
    "duration": 56,
    "start_time": "2022-01-26T12:33:09.705Z"
   },
   {
    "duration": 1205,
    "start_time": "2022-01-26T12:33:09.764Z"
   },
   {
    "duration": 16,
    "start_time": "2022-01-26T12:33:10.976Z"
   },
   {
    "duration": 10,
    "start_time": "2022-01-26T12:33:10.996Z"
   },
   {
    "duration": 50,
    "start_time": "2022-01-26T12:33:11.009Z"
   },
   {
    "duration": 33,
    "start_time": "2022-01-26T12:33:11.062Z"
   },
   {
    "duration": 1061,
    "start_time": "2022-01-26T12:33:11.098Z"
   },
   {
    "duration": 11,
    "start_time": "2022-01-26T12:33:12.162Z"
   },
   {
    "duration": 16,
    "start_time": "2022-01-26T12:33:12.177Z"
   },
   {
    "duration": 6,
    "start_time": "2022-01-26T12:33:12.195Z"
   },
   {
    "duration": 6,
    "start_time": "2022-01-26T12:33:12.203Z"
   },
   {
    "duration": 5,
    "start_time": "2022-01-26T12:33:12.211Z"
   },
   {
    "duration": 94,
    "start_time": "2022-01-26T12:33:24.139Z"
   },
   {
    "duration": 324,
    "start_time": "2022-01-26T12:34:25.250Z"
   },
   {
    "duration": 7,
    "start_time": "2022-01-26T12:34:27.952Z"
   },
   {
    "duration": 94,
    "start_time": "2022-01-26T12:34:37.592Z"
   },
   {
    "duration": 6,
    "start_time": "2022-01-26T12:34:55.671Z"
   },
   {
    "duration": 29,
    "start_time": "2022-01-26T12:34:56.673Z"
   },
   {
    "duration": 102,
    "start_time": "2022-01-26T12:35:10.943Z"
   },
   {
    "duration": 21,
    "start_time": "2022-01-26T12:35:58.423Z"
   },
   {
    "duration": 107,
    "start_time": "2022-01-26T12:36:02.557Z"
   },
   {
    "duration": 3,
    "start_time": "2022-01-26T12:36:34.470Z"
   },
   {
    "duration": 121,
    "start_time": "2022-01-26T12:36:34.476Z"
   },
   {
    "duration": 15,
    "start_time": "2022-01-26T12:36:34.601Z"
   },
   {
    "duration": 141,
    "start_time": "2022-01-26T12:36:34.618Z"
   },
   {
    "duration": 16,
    "start_time": "2022-01-26T12:36:34.761Z"
   },
   {
    "duration": 9,
    "start_time": "2022-01-26T12:36:34.779Z"
   },
   {
    "duration": 640,
    "start_time": "2022-01-26T12:36:34.791Z"
   },
   {
    "duration": 1368,
    "start_time": "2022-01-26T12:36:35.434Z"
   },
   {
    "duration": 11,
    "start_time": "2022-01-26T12:36:36.804Z"
   },
   {
    "duration": 263,
    "start_time": "2022-01-26T12:36:36.818Z"
   },
   {
    "duration": 8,
    "start_time": "2022-01-26T12:36:37.083Z"
   },
   {
    "duration": 11,
    "start_time": "2022-01-26T12:36:37.094Z"
   },
   {
    "duration": 7,
    "start_time": "2022-01-26T12:36:37.107Z"
   },
   {
    "duration": 42,
    "start_time": "2022-01-26T12:36:37.117Z"
   },
   {
    "duration": 12,
    "start_time": "2022-01-26T12:36:37.161Z"
   },
   {
    "duration": 4,
    "start_time": "2022-01-26T12:36:37.175Z"
   },
   {
    "duration": 6,
    "start_time": "2022-01-26T12:36:37.182Z"
   },
   {
    "duration": 10,
    "start_time": "2022-01-26T12:36:37.190Z"
   },
   {
    "duration": 56,
    "start_time": "2022-01-26T12:36:37.205Z"
   },
   {
    "duration": 7,
    "start_time": "2022-01-26T12:36:37.264Z"
   },
   {
    "duration": 9,
    "start_time": "2022-01-26T12:36:37.273Z"
   },
   {
    "duration": 754,
    "start_time": "2022-01-26T12:36:37.284Z"
   },
   {
    "duration": 22,
    "start_time": "2022-01-26T12:36:38.040Z"
   },
   {
    "duration": 16,
    "start_time": "2022-01-26T12:36:38.064Z"
   },
   {
    "duration": 12,
    "start_time": "2022-01-26T12:36:38.083Z"
   },
   {
    "duration": 29,
    "start_time": "2022-01-26T12:36:38.097Z"
   },
   {
    "duration": 1020,
    "start_time": "2022-01-26T12:36:38.128Z"
   },
   {
    "duration": 9,
    "start_time": "2022-01-26T12:36:39.151Z"
   },
   {
    "duration": 9,
    "start_time": "2022-01-26T12:36:39.163Z"
   },
   {
    "duration": 7,
    "start_time": "2022-01-26T12:36:39.174Z"
   },
   {
    "duration": 9,
    "start_time": "2022-01-26T12:36:39.183Z"
   },
   {
    "duration": 9,
    "start_time": "2022-01-26T12:36:39.194Z"
   },
   {
    "duration": 301,
    "start_time": "2022-01-26T12:36:39.205Z"
   },
   {
    "duration": 6,
    "start_time": "2022-01-26T12:36:39.508Z"
   },
   {
    "duration": 94,
    "start_time": "2022-01-26T12:36:49.415Z"
   },
   {
    "duration": 6,
    "start_time": "2022-01-26T12:37:03.812Z"
   },
   {
    "duration": 109,
    "start_time": "2022-01-26T12:37:12.769Z"
   },
   {
    "duration": 6,
    "start_time": "2022-01-26T12:37:29.388Z"
   },
   {
    "duration": 20,
    "start_time": "2022-01-26T12:37:31.959Z"
   },
   {
    "duration": 100,
    "start_time": "2022-01-26T12:37:59.235Z"
   },
   {
    "duration": 4,
    "start_time": "2022-01-26T12:42:05.129Z"
   },
   {
    "duration": 117,
    "start_time": "2022-01-26T12:42:05.228Z"
   },
   {
    "duration": 15,
    "start_time": "2022-01-26T12:42:05.908Z"
   },
   {
    "duration": 104,
    "start_time": "2022-01-26T12:42:05.925Z"
   },
   {
    "duration": 28,
    "start_time": "2022-01-26T12:42:06.033Z"
   },
   {
    "duration": 12,
    "start_time": "2022-01-26T12:42:06.064Z"
   },
   {
    "duration": 648,
    "start_time": "2022-01-26T12:42:06.079Z"
   },
   {
    "duration": 1371,
    "start_time": "2022-01-26T12:42:06.729Z"
   },
   {
    "duration": 14,
    "start_time": "2022-01-26T12:42:08.105Z"
   },
   {
    "duration": 278,
    "start_time": "2022-01-26T12:42:08.123Z"
   },
   {
    "duration": 11,
    "start_time": "2022-01-26T12:42:08.404Z"
   },
   {
    "duration": 12,
    "start_time": "2022-01-26T12:42:08.418Z"
   },
   {
    "duration": 11,
    "start_time": "2022-01-26T12:42:08.461Z"
   },
   {
    "duration": 11,
    "start_time": "2022-01-26T12:42:08.475Z"
   },
   {
    "duration": 14,
    "start_time": "2022-01-26T12:42:08.488Z"
   },
   {
    "duration": 5,
    "start_time": "2022-01-26T12:42:08.505Z"
   },
   {
    "duration": 6,
    "start_time": "2022-01-26T12:42:08.559Z"
   },
   {
    "duration": 14,
    "start_time": "2022-01-26T12:42:08.567Z"
   },
   {
    "duration": 12,
    "start_time": "2022-01-26T12:42:08.584Z"
   },
   {
    "duration": 8,
    "start_time": "2022-01-26T12:42:08.600Z"
   },
   {
    "duration": 6,
    "start_time": "2022-01-26T12:42:08.612Z"
   },
   {
    "duration": 769,
    "start_time": "2022-01-26T12:42:08.660Z"
   },
   {
    "duration": 13,
    "start_time": "2022-01-26T12:42:09.431Z"
   },
   {
    "duration": 9,
    "start_time": "2022-01-26T12:42:09.460Z"
   },
   {
    "duration": 14,
    "start_time": "2022-01-26T12:42:09.472Z"
   },
   {
    "duration": 24,
    "start_time": "2022-01-26T12:42:09.488Z"
   },
   {
    "duration": 1054,
    "start_time": "2022-01-26T12:42:09.514Z"
   },
   {
    "duration": 6,
    "start_time": "2022-01-26T12:42:10.570Z"
   },
   {
    "duration": 9,
    "start_time": "2022-01-26T12:42:10.578Z"
   },
   {
    "duration": 6,
    "start_time": "2022-01-26T12:42:10.590Z"
   },
   {
    "duration": 8,
    "start_time": "2022-01-26T12:42:10.598Z"
   },
   {
    "duration": 5,
    "start_time": "2022-01-26T12:42:10.609Z"
   },
   {
    "duration": 284,
    "start_time": "2022-01-26T12:42:10.661Z"
   },
   {
    "duration": 13,
    "start_time": "2022-01-26T12:42:10.947Z"
   },
   {
    "duration": 14,
    "start_time": "2022-01-26T12:42:51.134Z"
   },
   {
    "duration": 152,
    "start_time": "2022-01-26T12:43:05.399Z"
   },
   {
    "duration": 4,
    "start_time": "2022-01-26T12:44:01.694Z"
   },
   {
    "duration": 127,
    "start_time": "2022-01-26T12:44:01.733Z"
   },
   {
    "duration": 15,
    "start_time": "2022-01-26T12:44:01.862Z"
   },
   {
    "duration": 127,
    "start_time": "2022-01-26T12:44:01.880Z"
   },
   {
    "duration": 17,
    "start_time": "2022-01-26T12:44:02.010Z"
   },
   {
    "duration": 27,
    "start_time": "2022-01-26T12:44:02.032Z"
   },
   {
    "duration": 618,
    "start_time": "2022-01-26T12:44:02.062Z"
   },
   {
    "duration": 1205,
    "start_time": "2022-01-26T12:44:02.683Z"
   },
   {
    "duration": 11,
    "start_time": "2022-01-26T12:44:03.890Z"
   },
   {
    "duration": 280,
    "start_time": "2022-01-26T12:44:03.904Z"
   },
   {
    "duration": 8,
    "start_time": "2022-01-26T12:44:04.187Z"
   },
   {
    "duration": 11,
    "start_time": "2022-01-26T12:44:04.198Z"
   },
   {
    "duration": 8,
    "start_time": "2022-01-26T12:44:04.211Z"
   },
   {
    "duration": 39,
    "start_time": "2022-01-26T12:44:04.221Z"
   },
   {
    "duration": 12,
    "start_time": "2022-01-26T12:44:04.262Z"
   },
   {
    "duration": 4,
    "start_time": "2022-01-26T12:44:04.277Z"
   },
   {
    "duration": 8,
    "start_time": "2022-01-26T12:44:04.284Z"
   },
   {
    "duration": 10,
    "start_time": "2022-01-26T12:44:04.295Z"
   },
   {
    "duration": 57,
    "start_time": "2022-01-26T12:44:04.310Z"
   },
   {
    "duration": 8,
    "start_time": "2022-01-26T12:44:04.370Z"
   },
   {
    "duration": 6,
    "start_time": "2022-01-26T12:44:04.381Z"
   },
   {
    "duration": 950,
    "start_time": "2022-01-26T12:44:04.389Z"
   },
   {
    "duration": 21,
    "start_time": "2022-01-26T12:44:05.341Z"
   },
   {
    "duration": 10,
    "start_time": "2022-01-26T12:44:05.365Z"
   },
   {
    "duration": 11,
    "start_time": "2022-01-26T12:44:05.377Z"
   },
   {
    "duration": 23,
    "start_time": "2022-01-26T12:44:05.390Z"
   },
   {
    "duration": 1051,
    "start_time": "2022-01-26T12:44:05.416Z"
   },
   {
    "duration": 6,
    "start_time": "2022-01-26T12:44:06.469Z"
   },
   {
    "duration": 10,
    "start_time": "2022-01-26T12:44:06.477Z"
   },
   {
    "duration": 7,
    "start_time": "2022-01-26T12:44:06.490Z"
   },
   {
    "duration": 5,
    "start_time": "2022-01-26T12:44:06.499Z"
   },
   {
    "duration": 52,
    "start_time": "2022-01-26T12:44:06.507Z"
   },
   {
    "duration": 266,
    "start_time": "2022-01-26T12:44:06.561Z"
   },
   {
    "duration": 6,
    "start_time": "2022-01-26T12:44:06.829Z"
   },
   {
    "duration": 24,
    "start_time": "2022-01-26T12:44:06.838Z"
   },
   {
    "duration": 7,
    "start_time": "2022-01-26T12:44:06.865Z"
   },
   {
    "duration": 28,
    "start_time": "2022-01-26T12:44:06.874Z"
   },
   {
    "duration": 35073,
    "start_time": "2022-01-26T12:44:06.905Z"
   },
   {
    "duration": 28,
    "start_time": "2022-01-26T12:44:41.981Z"
   },
   {
    "duration": 1739,
    "start_time": "2022-01-26T12:44:42.011Z"
   },
   {
    "duration": 171,
    "start_time": "2022-01-26T12:44:43.582Z"
   },
   {
    "duration": 30,
    "start_time": "2022-01-26T12:45:41.794Z"
   },
   {
    "duration": 6,
    "start_time": "2022-01-26T12:47:37.827Z"
   },
   {
    "duration": 97,
    "start_time": "2022-01-26T12:48:02.929Z"
   },
   {
    "duration": 47,
    "start_time": "2022-01-26T12:48:33.839Z"
   },
   {
    "duration": 12,
    "start_time": "2022-01-26T12:48:56.356Z"
   },
   {
    "duration": 33,
    "start_time": "2022-01-26T12:50:14.376Z"
   },
   {
    "duration": 5,
    "start_time": "2022-01-26T12:51:06.797Z"
   },
   {
    "duration": 9,
    "start_time": "2022-01-26T12:51:27.069Z"
   },
   {
    "duration": 18,
    "start_time": "2022-01-26T12:51:30.692Z"
   },
   {
    "duration": 763,
    "start_time": "2022-01-26T12:51:33.055Z"
   },
   {
    "duration": 12,
    "start_time": "2022-01-26T12:51:42.993Z"
   },
   {
    "duration": 55,
    "start_time": "2022-01-26T12:51:50.607Z"
   },
   {
    "duration": 274,
    "start_time": "2022-01-26T12:52:24.825Z"
   },
   {
    "duration": 340,
    "start_time": "2022-01-26T12:53:33.676Z"
   },
   {
    "duration": 62,
    "start_time": "2022-01-26T12:54:05.099Z"
   },
   {
    "duration": 6,
    "start_time": "2022-01-26T13:51:26.207Z"
   },
   {
    "duration": 702,
    "start_time": "2022-01-26T13:52:19.859Z"
   },
   {
    "duration": 4,
    "start_time": "2022-01-26T13:52:55.247Z"
   },
   {
    "duration": 925,
    "start_time": "2022-01-26T13:52:56.180Z"
   },
   {
    "duration": 5,
    "start_time": "2022-01-26T13:54:07.312Z"
   },
   {
    "duration": 658,
    "start_time": "2022-01-26T13:54:07.786Z"
   },
   {
    "duration": 5,
    "start_time": "2022-01-26T14:00:38.113Z"
   },
   {
    "duration": 360,
    "start_time": "2022-01-26T14:03:24.980Z"
   },
   {
    "duration": 630,
    "start_time": "2022-01-26T14:03:44.276Z"
   },
   {
    "duration": 5,
    "start_time": "2022-01-26T14:06:23.298Z"
   },
   {
    "duration": 4,
    "start_time": "2022-01-26T14:09:28.847Z"
   },
   {
    "duration": 4,
    "start_time": "2022-01-26T14:09:39.569Z"
   },
   {
    "duration": 553,
    "start_time": "2022-01-26T14:09:50.042Z"
   },
   {
    "duration": 4,
    "start_time": "2022-01-26T14:10:05.536Z"
   },
   {
    "duration": 4,
    "start_time": "2022-01-26T14:10:06.285Z"
   },
   {
    "duration": 329,
    "start_time": "2022-01-26T14:10:07.996Z"
   },
   {
    "duration": 5,
    "start_time": "2022-01-26T14:10:19.741Z"
   },
   {
    "duration": 4,
    "start_time": "2022-01-26T14:10:20.786Z"
   },
   {
    "duration": 623,
    "start_time": "2022-01-26T14:10:22.002Z"
   },
   {
    "duration": 225,
    "start_time": "2022-01-26T14:11:01.415Z"
   },
   {
    "duration": 542,
    "start_time": "2022-01-26T14:12:30.834Z"
   },
   {
    "duration": 409,
    "start_time": "2022-01-26T14:13:06.061Z"
   },
   {
    "duration": 388,
    "start_time": "2022-01-26T14:13:21.327Z"
   },
   {
    "duration": 402,
    "start_time": "2022-01-26T14:13:30.431Z"
   },
   {
    "duration": 493,
    "start_time": "2022-01-26T14:13:49.434Z"
   },
   {
    "duration": 427,
    "start_time": "2022-01-26T14:13:59.776Z"
   },
   {
    "duration": 582,
    "start_time": "2022-01-26T14:14:10.711Z"
   },
   {
    "duration": 225,
    "start_time": "2022-01-26T14:15:33.759Z"
   },
   {
    "duration": 411,
    "start_time": "2022-01-26T14:25:45.377Z"
   },
   {
    "duration": 423,
    "start_time": "2022-01-26T14:26:27.036Z"
   },
   {
    "duration": 402,
    "start_time": "2022-01-26T14:26:52.948Z"
   },
   {
    "duration": 486,
    "start_time": "2022-01-26T14:27:24.707Z"
   },
   {
    "duration": 243,
    "start_time": "2022-01-26T14:30:01.831Z"
   },
   {
    "duration": 428,
    "start_time": "2022-01-26T14:35:42.097Z"
   },
   {
    "duration": 430,
    "start_time": "2022-01-26T14:35:58.244Z"
   },
   {
    "duration": 468,
    "start_time": "2022-01-26T14:36:40.680Z"
   },
   {
    "duration": 380,
    "start_time": "2022-01-26T14:43:48.121Z"
   },
   {
    "duration": 205,
    "start_time": "2022-01-26T14:45:18.768Z"
   },
   {
    "duration": 217,
    "start_time": "2022-01-26T14:45:35.611Z"
   },
   {
    "duration": 469,
    "start_time": "2022-01-26T15:00:22.003Z"
   },
   {
    "duration": 474,
    "start_time": "2022-01-26T15:00:40.737Z"
   },
   {
    "duration": 267,
    "start_time": "2022-01-26T15:02:13.814Z"
   },
   {
    "duration": 24,
    "start_time": "2022-01-26T15:12:05.325Z"
   },
   {
    "duration": 4,
    "start_time": "2022-01-26T15:59:27.718Z"
   },
   {
    "duration": 1567,
    "start_time": "2022-01-26T15:59:57.780Z"
   },
   {
    "duration": 582,
    "start_time": "2022-01-26T16:02:23.481Z"
   },
   {
    "duration": 1335,
    "start_time": "2022-01-26T16:02:48.481Z"
   },
   {
    "duration": 1081,
    "start_time": "2022-01-26T16:04:57.332Z"
   },
   {
    "duration": 5,
    "start_time": "2022-01-26T16:30:46.877Z"
   },
   {
    "duration": 1119,
    "start_time": "2022-01-26T16:30:53.643Z"
   },
   {
    "duration": 1504,
    "start_time": "2022-01-26T16:31:19.418Z"
   },
   {
    "duration": 487,
    "start_time": "2022-01-26T16:35:55.805Z"
   },
   {
    "duration": 42,
    "start_time": "2022-01-26T16:36:30.445Z"
   },
   {
    "duration": 907,
    "start_time": "2022-01-27T08:41:04.449Z"
   },
   {
    "duration": 156,
    "start_time": "2022-01-27T08:41:05.360Z"
   },
   {
    "duration": 16,
    "start_time": "2022-01-27T08:41:05.520Z"
   },
   {
    "duration": 122,
    "start_time": "2022-01-27T08:41:05.550Z"
   },
   {
    "duration": 23,
    "start_time": "2022-01-27T08:41:05.675Z"
   },
   {
    "duration": 20,
    "start_time": "2022-01-27T08:41:05.701Z"
   },
   {
    "duration": 605,
    "start_time": "2022-01-27T08:41:05.724Z"
   },
   {
    "duration": 1202,
    "start_time": "2022-01-27T08:41:06.333Z"
   },
   {
    "duration": 22,
    "start_time": "2022-01-27T08:41:07.538Z"
   },
   {
    "duration": 317,
    "start_time": "2022-01-27T08:41:07.562Z"
   },
   {
    "duration": 11,
    "start_time": "2022-01-27T08:41:07.882Z"
   },
   {
    "duration": 14,
    "start_time": "2022-01-27T08:41:07.896Z"
   },
   {
    "duration": 40,
    "start_time": "2022-01-27T08:41:07.913Z"
   },
   {
    "duration": 11,
    "start_time": "2022-01-27T08:41:07.956Z"
   },
   {
    "duration": 15,
    "start_time": "2022-01-27T08:41:07.970Z"
   },
   {
    "duration": 5,
    "start_time": "2022-01-27T08:41:07.988Z"
   },
   {
    "duration": 6,
    "start_time": "2022-01-27T08:41:07.996Z"
   },
   {
    "duration": 51,
    "start_time": "2022-01-27T08:41:08.004Z"
   },
   {
    "duration": 13,
    "start_time": "2022-01-27T08:41:08.058Z"
   },
   {
    "duration": 8,
    "start_time": "2022-01-27T08:41:08.073Z"
   },
   {
    "duration": 10,
    "start_time": "2022-01-27T08:41:08.083Z"
   },
   {
    "duration": 756,
    "start_time": "2022-01-27T08:41:08.095Z"
   },
   {
    "duration": 12,
    "start_time": "2022-01-27T08:41:08.860Z"
   },
   {
    "duration": 13,
    "start_time": "2022-01-27T08:41:08.876Z"
   },
   {
    "duration": 12,
    "start_time": "2022-01-27T08:41:08.892Z"
   },
   {
    "duration": 58,
    "start_time": "2022-01-27T08:41:08.907Z"
   },
   {
    "duration": 1104,
    "start_time": "2022-01-27T08:41:08.967Z"
   },
   {
    "duration": 6,
    "start_time": "2022-01-27T08:41:10.073Z"
   },
   {
    "duration": 16,
    "start_time": "2022-01-27T08:41:10.081Z"
   },
   {
    "duration": 8,
    "start_time": "2022-01-27T08:41:10.099Z"
   },
   {
    "duration": 5,
    "start_time": "2022-01-27T08:41:10.109Z"
   },
   {
    "duration": 7,
    "start_time": "2022-01-27T08:41:10.148Z"
   },
   {
    "duration": 274,
    "start_time": "2022-01-27T08:41:10.157Z"
   },
   {
    "duration": 14,
    "start_time": "2022-01-27T08:41:10.434Z"
   },
   {
    "duration": 11,
    "start_time": "2022-01-27T08:41:10.451Z"
   },
   {
    "duration": 7,
    "start_time": "2022-01-27T08:41:10.465Z"
   },
   {
    "duration": 32,
    "start_time": "2022-01-27T08:41:10.474Z"
   },
   {
    "duration": 33396,
    "start_time": "2022-01-27T08:41:10.508Z"
   },
   {
    "duration": 42,
    "start_time": "2022-01-27T08:41:43.907Z"
   },
   {
    "duration": 33,
    "start_time": "2022-01-27T08:41:43.953Z"
   },
   {
    "duration": 8,
    "start_time": "2022-01-27T08:41:43.990Z"
   },
   {
    "duration": 51,
    "start_time": "2022-01-27T08:41:44.000Z"
   },
   {
    "duration": 52,
    "start_time": "2022-01-27T08:41:44.054Z"
   },
   {
    "duration": 6,
    "start_time": "2022-01-27T08:41:44.109Z"
   },
   {
    "duration": 17,
    "start_time": "2022-01-27T08:41:44.118Z"
   },
   {
    "duration": 43,
    "start_time": "2022-01-27T08:41:44.138Z"
   },
   {
    "duration": 699,
    "start_time": "2022-01-27T08:41:44.184Z"
   },
   {
    "duration": 10,
    "start_time": "2022-01-27T08:41:44.886Z"
   },
   {
    "duration": 82,
    "start_time": "2022-01-27T08:41:44.898Z"
   },
   {
    "duration": 84,
    "start_time": "2022-01-27T08:41:44.984Z"
   },
   {
    "duration": 5,
    "start_time": "2022-01-27T08:41:45.071Z"
   },
   {
    "duration": 23,
    "start_time": "2022-01-27T08:41:45.079Z"
   },
   {
    "duration": 446,
    "start_time": "2022-01-27T08:41:45.104Z"
   },
   {
    "duration": 238,
    "start_time": "2022-01-27T08:41:45.553Z"
   },
   {
    "duration": 415,
    "start_time": "2022-01-27T08:41:45.793Z"
   },
   {
    "duration": 239,
    "start_time": "2022-01-27T08:41:46.210Z"
   },
   {
    "duration": 414,
    "start_time": "2022-01-27T08:41:46.452Z"
   },
   {
    "duration": 231,
    "start_time": "2022-01-27T08:41:46.868Z"
   },
   {
    "duration": 411,
    "start_time": "2022-01-27T08:41:47.102Z"
   },
   {
    "duration": 232,
    "start_time": "2022-01-27T08:41:47.516Z"
   },
   {
    "duration": 420,
    "start_time": "2022-01-27T08:41:47.751Z"
   },
   {
    "duration": 249,
    "start_time": "2022-01-27T08:41:48.173Z"
   },
   {
    "duration": 36,
    "start_time": "2022-01-27T08:41:48.425Z"
   },
   {
    "duration": 408,
    "start_time": "2022-01-27T08:42:17.966Z"
   },
   {
    "duration": 12,
    "start_time": "2022-01-27T08:42:37.391Z"
   },
   {
    "duration": 10,
    "start_time": "2022-01-27T08:43:07.922Z"
   },
   {
    "duration": 867,
    "start_time": "2022-01-27T08:44:15.900Z"
   },
   {
    "duration": 912,
    "start_time": "2022-01-27T08:45:03.622Z"
   },
   {
    "duration": 870,
    "start_time": "2022-01-27T08:45:23.897Z"
   },
   {
    "duration": 898,
    "start_time": "2022-01-27T08:45:51.495Z"
   },
   {
    "duration": 879,
    "start_time": "2022-01-27T08:47:04.520Z"
   },
   {
    "duration": 43,
    "start_time": "2022-01-27T08:50:18.426Z"
   },
   {
    "duration": 4,
    "start_time": "2022-01-27T08:54:57.572Z"
   },
   {
    "duration": 666,
    "start_time": "2022-01-27T08:55:41.934Z"
   },
   {
    "duration": 4,
    "start_time": "2022-01-27T08:56:08.153Z"
   },
   {
    "duration": 797,
    "start_time": "2022-01-27T08:56:08.775Z"
   },
   {
    "duration": 4,
    "start_time": "2022-01-27T08:56:39.993Z"
   },
   {
    "duration": 781,
    "start_time": "2022-01-27T08:56:40.014Z"
   },
   {
    "duration": 711,
    "start_time": "2022-01-27T08:57:58.412Z"
   },
   {
    "duration": 4,
    "start_time": "2022-01-27T08:59:33.656Z"
   },
   {
    "duration": 731,
    "start_time": "2022-01-27T08:59:33.662Z"
   },
   {
    "duration": 5,
    "start_time": "2022-01-27T08:59:43.562Z"
   },
   {
    "duration": 713,
    "start_time": "2022-01-27T08:59:44.286Z"
   },
   {
    "duration": 5,
    "start_time": "2022-01-27T09:00:01.485Z"
   },
   {
    "duration": 721,
    "start_time": "2022-01-27T09:00:02.133Z"
   },
   {
    "duration": 753,
    "start_time": "2022-01-27T09:03:32.755Z"
   },
   {
    "duration": 615,
    "start_time": "2022-01-27T09:03:51.605Z"
   },
   {
    "duration": 487,
    "start_time": "2022-01-27T09:04:40.667Z"
   },
   {
    "duration": 529,
    "start_time": "2022-01-27T09:04:47.483Z"
   },
   {
    "duration": 472,
    "start_time": "2022-01-27T09:05:07.421Z"
   },
   {
    "duration": 577,
    "start_time": "2022-01-27T09:05:16.541Z"
   },
   {
    "duration": 734,
    "start_time": "2022-01-27T09:06:01.687Z"
   },
   {
    "duration": 659,
    "start_time": "2022-01-27T09:06:51.956Z"
   },
   {
    "duration": 135,
    "start_time": "2022-01-27T09:07:49.473Z"
   },
   {
    "duration": 560,
    "start_time": "2022-01-27T09:08:05.968Z"
   },
   {
    "duration": 542,
    "start_time": "2022-01-27T09:08:29.194Z"
   },
   {
    "duration": 543,
    "start_time": "2022-01-27T09:09:45.525Z"
   },
   {
    "duration": 538,
    "start_time": "2022-01-27T09:10:02.332Z"
   },
   {
    "duration": 785,
    "start_time": "2022-01-27T09:10:44.218Z"
   },
   {
    "duration": 712,
    "start_time": "2022-01-27T09:10:54.732Z"
   },
   {
    "duration": 513,
    "start_time": "2022-01-27T09:11:18.895Z"
   },
   {
    "duration": 764,
    "start_time": "2022-01-27T09:11:26.947Z"
   },
   {
    "duration": 666,
    "start_time": "2022-01-27T09:11:44.217Z"
   },
   {
    "duration": 516,
    "start_time": "2022-01-27T09:12:34.453Z"
   },
   {
    "duration": 518,
    "start_time": "2022-01-27T09:12:43.717Z"
   },
   {
    "duration": 5,
    "start_time": "2022-01-27T09:13:18.143Z"
   },
   {
    "duration": 715,
    "start_time": "2022-01-27T09:13:18.702Z"
   },
   {
    "duration": 745,
    "start_time": "2022-01-27T09:13:20.829Z"
   },
   {
    "duration": 5,
    "start_time": "2022-01-27T09:13:47.581Z"
   },
   {
    "duration": 687,
    "start_time": "2022-01-27T09:13:48.039Z"
   },
   {
    "duration": 721,
    "start_time": "2022-01-27T09:13:50.152Z"
   },
   {
    "duration": 519,
    "start_time": "2022-01-27T09:13:55.358Z"
   },
   {
    "duration": 546,
    "start_time": "2022-01-27T09:16:22.513Z"
   },
   {
    "duration": 45,
    "start_time": "2022-01-27T10:10:53.689Z"
   },
   {
    "duration": 722,
    "start_time": "2022-01-27T10:12:12.668Z"
   },
   {
    "duration": 523,
    "start_time": "2022-01-27T10:22:47.314Z"
   },
   {
    "duration": 525,
    "start_time": "2022-01-27T10:23:27.787Z"
   },
   {
    "duration": 523,
    "start_time": "2022-01-27T10:23:42.096Z"
   },
   {
    "duration": 609,
    "start_time": "2022-01-27T10:24:22.717Z"
   },
   {
    "duration": 634,
    "start_time": "2022-01-27T10:24:35.876Z"
   },
   {
    "duration": 4,
    "start_time": "2022-01-27T10:26:35.428Z"
   },
   {
    "duration": 711,
    "start_time": "2022-01-27T10:26:36.894Z"
   },
   {
    "duration": 737,
    "start_time": "2022-01-27T10:26:45.049Z"
   },
   {
    "duration": 561,
    "start_time": "2022-01-27T10:26:50.130Z"
   },
   {
    "duration": 748,
    "start_time": "2022-01-27T10:27:01.460Z"
   },
   {
    "duration": 301,
    "start_time": "2022-01-27T10:59:02.833Z"
   },
   {
    "duration": 246,
    "start_time": "2022-01-27T10:59:15.103Z"
   },
   {
    "duration": 250,
    "start_time": "2022-01-27T10:59:39.549Z"
   },
   {
    "duration": 245,
    "start_time": "2022-01-27T10:59:59.514Z"
   },
   {
    "duration": 248,
    "start_time": "2022-01-27T11:00:51.127Z"
   },
   {
    "duration": 257,
    "start_time": "2022-01-27T11:01:30.832Z"
   },
   {
    "duration": 285,
    "start_time": "2022-01-27T11:05:33.263Z"
   },
   {
    "duration": 248,
    "start_time": "2022-01-27T11:05:57.693Z"
   },
   {
    "duration": 237,
    "start_time": "2022-01-27T11:11:14.330Z"
   },
   {
    "duration": 255,
    "start_time": "2022-01-27T11:11:29.535Z"
   },
   {
    "duration": 301,
    "start_time": "2022-01-27T11:12:16.926Z"
   },
   {
    "duration": 40,
    "start_time": "2022-01-27T11:13:26.245Z"
   },
   {
    "duration": 3297,
    "start_time": "2022-01-27T11:18:56.847Z"
   },
   {
    "duration": 68004,
    "start_time": "2022-01-27T11:25:35.780Z"
   },
   {
    "duration": 576,
    "start_time": "2022-01-27T11:33:44.185Z"
   },
   {
    "duration": 11276,
    "start_time": "2022-01-27T11:36:22.496Z"
   },
   {
    "duration": 11749,
    "start_time": "2022-01-27T11:39:45.197Z"
   },
   {
    "duration": 14211,
    "start_time": "2022-01-27T11:40:06.764Z"
   },
   {
    "duration": 5817,
    "start_time": "2022-01-27T11:41:18.623Z"
   },
   {
    "duration": 12698,
    "start_time": "2022-01-27T11:41:42.890Z"
   },
   {
    "duration": 322,
    "start_time": "2022-01-27T11:42:24.606Z"
   },
   {
    "duration": 302,
    "start_time": "2022-01-27T11:42:40.806Z"
   },
   {
    "duration": 10913,
    "start_time": "2022-01-27T11:43:46.099Z"
   },
   {
    "duration": 12361,
    "start_time": "2022-01-27T11:44:09.451Z"
   },
   {
    "duration": 12223,
    "start_time": "2022-01-27T11:44:36.213Z"
   },
   {
    "duration": 11974,
    "start_time": "2022-01-27T11:44:56.914Z"
   },
   {
    "duration": 311,
    "start_time": "2022-01-27T12:23:04.335Z"
   },
   {
    "duration": 367,
    "start_time": "2022-01-27T12:23:20.458Z"
   },
   {
    "duration": 372,
    "start_time": "2022-01-27T12:24:32.853Z"
   },
   {
    "duration": 388,
    "start_time": "2022-01-27T12:31:06.370Z"
   },
   {
    "duration": 537,
    "start_time": "2022-01-27T12:44:03.771Z"
   },
   {
    "duration": 49,
    "start_time": "2022-01-27T12:48:23.192Z"
   },
   {
    "duration": 353,
    "start_time": "2022-01-27T12:49:20.499Z"
   },
   {
    "duration": 45,
    "start_time": "2022-01-27T12:51:06.450Z"
   },
   {
    "duration": 19,
    "start_time": "2022-01-27T12:51:47.239Z"
   },
   {
    "duration": 400,
    "start_time": "2022-01-27T12:54:32.716Z"
   },
   {
    "duration": 31,
    "start_time": "2022-01-27T12:54:42.150Z"
   },
   {
    "duration": 342,
    "start_time": "2022-01-27T12:55:56.585Z"
   },
   {
    "duration": 432,
    "start_time": "2022-01-27T12:56:18.035Z"
   },
   {
    "duration": 55,
    "start_time": "2022-01-27T12:56:47.244Z"
   },
   {
    "duration": 85,
    "start_time": "2022-01-27T12:57:16.161Z"
   },
   {
    "duration": 31,
    "start_time": "2022-01-27T12:57:59.233Z"
   },
   {
    "duration": 53,
    "start_time": "2022-01-27T12:59:43.475Z"
   },
   {
    "duration": 618,
    "start_time": "2022-01-27T13:00:28.748Z"
   },
   {
    "duration": 624,
    "start_time": "2022-01-27T13:02:23.956Z"
   },
   {
    "duration": 23,
    "start_time": "2022-01-27T14:10:09.960Z"
   },
   {
    "duration": 358,
    "start_time": "2022-01-27T14:14:13.027Z"
   },
   {
    "duration": 871,
    "start_time": "2022-01-27T14:14:28.962Z"
   },
   {
    "duration": 5587,
    "start_time": "2022-01-27T14:14:41.738Z"
   },
   {
    "duration": 114,
    "start_time": "2022-01-27T14:20:02.574Z"
   },
   {
    "duration": 884,
    "start_time": "2022-01-27T14:20:11.812Z"
   },
   {
    "duration": 494,
    "start_time": "2022-01-27T14:20:37.523Z"
   },
   {
    "duration": 855,
    "start_time": "2022-01-27T14:21:08.693Z"
   },
   {
    "duration": 305,
    "start_time": "2022-01-27T14:21:37.468Z"
   },
   {
    "duration": 639,
    "start_time": "2022-01-27T14:23:12.992Z"
   },
   {
    "duration": 649,
    "start_time": "2022-01-27T14:26:29.684Z"
   },
   {
    "duration": 638,
    "start_time": "2022-01-27T14:30:38.474Z"
   },
   {
    "duration": 1576,
    "start_time": "2022-01-27T14:44:54.727Z"
   },
   {
    "duration": 138,
    "start_time": "2022-01-27T14:55:25.912Z"
   },
   {
    "duration": 260,
    "start_time": "2022-01-27T14:55:33.520Z"
   },
   {
    "duration": 39,
    "start_time": "2022-01-27T14:57:33.064Z"
   },
   {
    "duration": 211,
    "start_time": "2022-01-27T14:57:38.918Z"
   },
   {
    "duration": 21,
    "start_time": "2022-01-27T14:58:04.156Z"
   },
   {
    "duration": 933,
    "start_time": "2022-01-27T15:03:15.619Z"
   },
   {
    "duration": 1450,
    "start_time": "2022-01-27T15:03:29.134Z"
   },
   {
    "duration": 839,
    "start_time": "2022-01-27T15:04:09.188Z"
   },
   {
    "duration": 4053,
    "start_time": "2022-01-27T15:05:52.541Z"
   },
   {
    "duration": 1402,
    "start_time": "2022-01-27T15:07:28.558Z"
   },
   {
    "duration": 1367,
    "start_time": "2022-01-27T15:08:13.420Z"
   },
   {
    "duration": 1477,
    "start_time": "2022-01-27T15:10:44.442Z"
   },
   {
    "duration": 622,
    "start_time": "2022-01-27T15:16:40.044Z"
   },
   {
    "duration": 73,
    "start_time": "2022-01-27T15:17:47.785Z"
   },
   {
    "duration": 64,
    "start_time": "2022-01-27T15:18:18.032Z"
   },
   {
    "duration": 16,
    "start_time": "2022-01-27T15:18:59.826Z"
   },
   {
    "duration": 16,
    "start_time": "2022-01-27T15:19:21.440Z"
   },
   {
    "duration": 15,
    "start_time": "2022-01-27T15:19:39.574Z"
   },
   {
    "duration": 12,
    "start_time": "2022-01-27T15:19:57.084Z"
   },
   {
    "duration": 4,
    "start_time": "2022-01-27T15:23:15.197Z"
   },
   {
    "duration": 407,
    "start_time": "2022-01-27T15:24:08.246Z"
   },
   {
    "duration": 382,
    "start_time": "2022-01-27T15:24:16.869Z"
   },
   {
    "duration": 5,
    "start_time": "2022-01-27T15:24:33.259Z"
   },
   {
    "duration": 338,
    "start_time": "2022-01-27T15:24:33.300Z"
   },
   {
    "duration": 5,
    "start_time": "2022-01-27T15:24:44.816Z"
   },
   {
    "duration": 749,
    "start_time": "2022-01-27T15:24:44.837Z"
   },
   {
    "duration": 4,
    "start_time": "2022-01-27T15:24:58.650Z"
   },
   {
    "duration": 399,
    "start_time": "2022-01-27T15:24:59.243Z"
   },
   {
    "duration": 482,
    "start_time": "2022-01-27T15:26:31.747Z"
   },
   {
    "duration": 389,
    "start_time": "2022-01-27T15:26:50.889Z"
   },
   {
    "duration": 381,
    "start_time": "2022-01-27T15:27:19.305Z"
   },
   {
    "duration": 411,
    "start_time": "2022-01-27T15:27:23.837Z"
   },
   {
    "duration": 391,
    "start_time": "2022-01-27T15:27:58.768Z"
   },
   {
    "duration": 379,
    "start_time": "2022-01-27T15:29:36.784Z"
   },
   {
    "duration": 5100,
    "start_time": "2022-01-27T15:36:35.755Z"
   },
   {
    "duration": 4668,
    "start_time": "2022-01-27T15:38:58.320Z"
   },
   {
    "duration": 4324,
    "start_time": "2022-01-27T15:39:29.165Z"
   },
   {
    "duration": 324,
    "start_time": "2022-01-27T16:35:55.330Z"
   },
   {
    "duration": 285,
    "start_time": "2022-01-27T16:36:13.127Z"
   },
   {
    "duration": 301,
    "start_time": "2022-01-27T16:36:56.606Z"
   },
   {
    "duration": 39,
    "start_time": "2022-01-27T16:37:42.573Z"
   },
   {
    "duration": 4002,
    "start_time": "2022-01-27T16:47:05.835Z"
   },
   {
    "duration": 57,
    "start_time": "2022-01-27T16:51:03.542Z"
   },
   {
    "duration": 66,
    "start_time": "2022-01-27T16:51:34.211Z"
   },
   {
    "duration": 72,
    "start_time": "2022-01-27T16:52:45.161Z"
   },
   {
    "duration": 569,
    "start_time": "2022-01-27T17:00:47.070Z"
   },
   {
    "duration": 455,
    "start_time": "2022-01-27T17:09:07.703Z"
   },
   {
    "duration": 442,
    "start_time": "2022-01-27T17:11:31.357Z"
   },
   {
    "duration": 452,
    "start_time": "2022-01-27T17:11:44.707Z"
   },
   {
    "duration": 437,
    "start_time": "2022-01-27T17:12:05.430Z"
   },
   {
    "duration": 1486,
    "start_time": "2022-01-28T09:01:40.751Z"
   },
   {
    "duration": 134,
    "start_time": "2022-01-28T09:01:42.240Z"
   },
   {
    "duration": 16,
    "start_time": "2022-01-28T09:01:42.378Z"
   },
   {
    "duration": 130,
    "start_time": "2022-01-28T09:01:42.397Z"
   },
   {
    "duration": 29,
    "start_time": "2022-01-28T09:01:42.529Z"
   },
   {
    "duration": 13,
    "start_time": "2022-01-28T09:01:42.561Z"
   },
   {
    "duration": 641,
    "start_time": "2022-01-28T09:01:42.576Z"
   },
   {
    "duration": 1161,
    "start_time": "2022-01-28T09:01:43.222Z"
   },
   {
    "duration": 18,
    "start_time": "2022-01-28T09:01:44.386Z"
   },
   {
    "duration": 269,
    "start_time": "2022-01-28T09:01:44.406Z"
   },
   {
    "duration": 8,
    "start_time": "2022-01-28T09:01:44.678Z"
   },
   {
    "duration": 13,
    "start_time": "2022-01-28T09:01:44.689Z"
   },
   {
    "duration": 8,
    "start_time": "2022-01-28T09:01:44.704Z"
   },
   {
    "duration": 34,
    "start_time": "2022-01-28T09:01:44.714Z"
   },
   {
    "duration": 13,
    "start_time": "2022-01-28T09:01:44.750Z"
   },
   {
    "duration": 4,
    "start_time": "2022-01-28T09:01:44.765Z"
   },
   {
    "duration": 9,
    "start_time": "2022-01-28T09:01:44.772Z"
   },
   {
    "duration": 111,
    "start_time": "2022-01-28T09:01:44.783Z"
   },
   {
    "duration": 11,
    "start_time": "2022-01-28T09:01:44.899Z"
   },
   {
    "duration": 7,
    "start_time": "2022-01-28T09:01:44.913Z"
   },
   {
    "duration": 6,
    "start_time": "2022-01-28T09:01:44.948Z"
   },
   {
    "duration": 708,
    "start_time": "2022-01-28T09:01:44.956Z"
   },
   {
    "duration": 13,
    "start_time": "2022-01-28T09:01:45.666Z"
   },
   {
    "duration": 9,
    "start_time": "2022-01-28T09:01:45.682Z"
   },
   {
    "duration": 12,
    "start_time": "2022-01-28T09:01:45.694Z"
   },
   {
    "duration": 58,
    "start_time": "2022-01-28T09:01:45.708Z"
   },
   {
    "duration": 1034,
    "start_time": "2022-01-28T09:01:47.210Z"
   },
   {
    "duration": 7,
    "start_time": "2022-01-28T09:01:48.250Z"
   },
   {
    "duration": 13,
    "start_time": "2022-01-28T09:01:48.260Z"
   },
   {
    "duration": 7,
    "start_time": "2022-01-28T09:01:48.276Z"
   },
   {
    "duration": 8,
    "start_time": "2022-01-28T09:01:48.285Z"
   },
   {
    "duration": 14,
    "start_time": "2022-01-28T09:01:48.296Z"
   },
   {
    "duration": 311,
    "start_time": "2022-01-28T09:01:48.313Z"
   },
   {
    "duration": 7,
    "start_time": "2022-01-28T09:01:48.627Z"
   },
   {
    "duration": 12,
    "start_time": "2022-01-28T09:01:48.650Z"
   },
   {
    "duration": 4,
    "start_time": "2022-01-28T09:02:56.028Z"
   },
   {
    "duration": 127,
    "start_time": "2022-01-28T09:02:56.208Z"
   },
   {
    "duration": 15,
    "start_time": "2022-01-28T09:02:56.347Z"
   },
   {
    "duration": 151,
    "start_time": "2022-01-28T09:02:56.408Z"
   },
   {
    "duration": 20,
    "start_time": "2022-01-28T09:02:57.068Z"
   },
   {
    "duration": 22,
    "start_time": "2022-01-28T09:02:57.108Z"
   },
   {
    "duration": 650,
    "start_time": "2022-01-28T09:02:57.568Z"
   },
   {
    "duration": 1183,
    "start_time": "2022-01-28T09:02:58.221Z"
   },
   {
    "duration": 13,
    "start_time": "2022-01-28T09:02:59.407Z"
   },
   {
    "duration": 257,
    "start_time": "2022-01-28T09:02:59.422Z"
   },
   {
    "duration": 10,
    "start_time": "2022-01-28T09:02:59.682Z"
   },
   {
    "duration": 14,
    "start_time": "2022-01-28T09:02:59.695Z"
   },
   {
    "duration": 43,
    "start_time": "2022-01-28T09:02:59.712Z"
   },
   {
    "duration": 11,
    "start_time": "2022-01-28T09:02:59.761Z"
   },
   {
    "duration": 12,
    "start_time": "2022-01-28T09:02:59.776Z"
   },
   {
    "duration": 5,
    "start_time": "2022-01-28T09:02:59.790Z"
   },
   {
    "duration": 10,
    "start_time": "2022-01-28T09:02:59.797Z"
   },
   {
    "duration": 8,
    "start_time": "2022-01-28T09:02:59.850Z"
   },
   {
    "duration": 12,
    "start_time": "2022-01-28T09:02:59.862Z"
   },
   {
    "duration": 9,
    "start_time": "2022-01-28T09:02:59.877Z"
   },
   {
    "duration": 137,
    "start_time": "2022-01-28T09:02:59.888Z"
   },
   {
    "duration": 741,
    "start_time": "2022-01-28T09:03:00.027Z"
   },
   {
    "duration": 14,
    "start_time": "2022-01-28T09:03:00.771Z"
   },
   {
    "duration": 20,
    "start_time": "2022-01-28T09:03:00.788Z"
   },
   {
    "duration": 39,
    "start_time": "2022-01-28T09:03:00.810Z"
   },
   {
    "duration": 28,
    "start_time": "2022-01-28T09:03:00.851Z"
   },
   {
    "duration": 1035,
    "start_time": "2022-01-28T09:03:00.882Z"
   },
   {
    "duration": 8,
    "start_time": "2022-01-28T09:03:01.920Z"
   },
   {
    "duration": 23,
    "start_time": "2022-01-28T09:03:01.933Z"
   },
   {
    "duration": 9,
    "start_time": "2022-01-28T09:03:01.958Z"
   },
   {
    "duration": 9,
    "start_time": "2022-01-28T09:03:01.970Z"
   },
   {
    "duration": 12,
    "start_time": "2022-01-28T09:03:01.981Z"
   },
   {
    "duration": 291,
    "start_time": "2022-01-28T09:03:01.995Z"
   },
   {
    "duration": 6,
    "start_time": "2022-01-28T09:03:02.288Z"
   },
   {
    "duration": 33040,
    "start_time": "2022-01-28T09:03:02.378Z"
   },
   {
    "duration": 35,
    "start_time": "2022-01-28T09:03:35.420Z"
   },
   {
    "duration": 31,
    "start_time": "2022-01-28T09:03:35.458Z"
   },
   {
    "duration": 5,
    "start_time": "2022-01-28T09:03:35.491Z"
   },
   {
    "duration": 5,
    "start_time": "2022-01-28T09:04:50.676Z"
   },
   {
    "duration": 4,
    "start_time": "2022-01-28T09:05:08.383Z"
   },
   {
    "duration": 118,
    "start_time": "2022-01-28T09:05:11.144Z"
   },
   {
    "duration": 15,
    "start_time": "2022-01-28T09:05:14.201Z"
   },
   {
    "duration": 101,
    "start_time": "2022-01-28T09:05:15.310Z"
   },
   {
    "duration": 19,
    "start_time": "2022-01-28T09:05:24.505Z"
   },
   {
    "duration": 7,
    "start_time": "2022-01-28T09:05:29.127Z"
   },
   {
    "duration": 639,
    "start_time": "2022-01-28T09:05:32.688Z"
   },
   {
    "duration": 1128,
    "start_time": "2022-01-28T09:05:35.057Z"
   },
   {
    "duration": 13,
    "start_time": "2022-01-28T09:05:37.260Z"
   },
   {
    "duration": 357,
    "start_time": "2022-01-28T09:05:39.080Z"
   },
   {
    "duration": 8,
    "start_time": "2022-01-28T09:05:44.407Z"
   },
   {
    "duration": 11,
    "start_time": "2022-01-28T09:05:47.648Z"
   },
   {
    "duration": 9,
    "start_time": "2022-01-28T09:05:49.177Z"
   },
   {
    "duration": 8,
    "start_time": "2022-01-28T09:05:49.907Z"
   },
   {
    "duration": 12,
    "start_time": "2022-01-28T09:05:50.847Z"
   },
   {
    "duration": 5,
    "start_time": "2022-01-28T09:05:52.717Z"
   },
   {
    "duration": 6,
    "start_time": "2022-01-28T09:05:53.458Z"
   },
   {
    "duration": 8,
    "start_time": "2022-01-28T09:05:55.027Z"
   },
   {
    "duration": 13,
    "start_time": "2022-01-28T09:05:56.447Z"
   },
   {
    "duration": 9,
    "start_time": "2022-01-28T09:05:57.937Z"
   },
   {
    "duration": 6,
    "start_time": "2022-01-28T09:05:59.601Z"
   },
   {
    "duration": 716,
    "start_time": "2022-01-28T09:06:01.120Z"
   },
   {
    "duration": 13,
    "start_time": "2022-01-28T09:06:03.720Z"
   },
   {
    "duration": 10,
    "start_time": "2022-01-28T09:06:04.620Z"
   },
   {
    "duration": 14,
    "start_time": "2022-01-28T09:06:05.379Z"
   },
   {
    "duration": 26,
    "start_time": "2022-01-28T09:06:06.380Z"
   },
   {
    "duration": 989,
    "start_time": "2022-01-28T09:06:08.159Z"
   },
   {
    "duration": 6,
    "start_time": "2022-01-28T09:06:11.761Z"
   },
   {
    "duration": 11,
    "start_time": "2022-01-28T09:06:13.298Z"
   },
   {
    "duration": 8,
    "start_time": "2022-01-28T09:06:14.698Z"
   },
   {
    "duration": 7,
    "start_time": "2022-01-28T09:06:15.487Z"
   },
   {
    "duration": 7,
    "start_time": "2022-01-28T09:06:16.256Z"
   },
   {
    "duration": 270,
    "start_time": "2022-01-28T09:06:17.726Z"
   },
   {
    "duration": 8,
    "start_time": "2022-01-28T09:06:18.948Z"
   },
   {
    "duration": 14,
    "start_time": "2022-01-28T09:06:20.715Z"
   },
   {
    "duration": 8,
    "start_time": "2022-01-28T09:06:25.718Z"
   },
   {
    "duration": 28,
    "start_time": "2022-01-28T09:06:31.584Z"
   },
   {
    "duration": 39961,
    "start_time": "2022-01-28T09:06:36.781Z"
   },
   {
    "duration": 38,
    "start_time": "2022-01-28T09:07:16.746Z"
   },
   {
    "duration": 32,
    "start_time": "2022-01-28T09:07:31.378Z"
   },
   {
    "duration": 6,
    "start_time": "2022-01-28T09:07:50.646Z"
   },
   {
    "duration": 14,
    "start_time": "2022-01-28T09:07:54.965Z"
   },
   {
    "duration": 38,
    "start_time": "2022-01-28T09:07:58.663Z"
   },
   {
    "duration": 6,
    "start_time": "2022-01-28T09:08:00.664Z"
   },
   {
    "duration": 7,
    "start_time": "2022-01-28T09:08:08.341Z"
   },
   {
    "duration": 18,
    "start_time": "2022-01-28T09:08:18.432Z"
   },
   {
    "duration": 705,
    "start_time": "2022-01-28T09:08:20.357Z"
   },
   {
    "duration": 7,
    "start_time": "2022-01-28T09:08:26.461Z"
   },
   {
    "duration": 53,
    "start_time": "2022-01-28T09:08:28.834Z"
   },
   {
    "duration": 60,
    "start_time": "2022-01-28T09:08:48.492Z"
   },
   {
    "duration": 4,
    "start_time": "2022-01-28T09:08:56.384Z"
   },
   {
    "duration": 4,
    "start_time": "2022-01-28T09:08:57.444Z"
   },
   {
    "duration": 387,
    "start_time": "2022-01-28T09:08:59.193Z"
   },
   {
    "duration": 226,
    "start_time": "2022-01-28T09:09:00.549Z"
   },
   {
    "duration": 502,
    "start_time": "2022-01-28T09:09:04.236Z"
   },
   {
    "duration": 225,
    "start_time": "2022-01-28T09:09:04.882Z"
   },
   {
    "duration": 393,
    "start_time": "2022-01-28T09:09:07.966Z"
   },
   {
    "duration": 215,
    "start_time": "2022-01-28T09:09:09.603Z"
   },
   {
    "duration": 370,
    "start_time": "2022-01-28T09:09:10.989Z"
   },
   {
    "duration": 209,
    "start_time": "2022-01-28T09:09:11.676Z"
   },
   {
    "duration": 385,
    "start_time": "2022-01-28T09:09:14.868Z"
   },
   {
    "duration": 235,
    "start_time": "2022-01-28T09:09:15.608Z"
   },
   {
    "duration": 26,
    "start_time": "2022-01-28T09:09:17.209Z"
   },
   {
    "duration": 54,
    "start_time": "2022-01-28T09:09:22.188Z"
   },
   {
    "duration": 4,
    "start_time": "2022-01-28T09:09:23.768Z"
   },
   {
    "duration": 706,
    "start_time": "2022-01-28T09:09:24.667Z"
   },
   {
    "duration": 761,
    "start_time": "2022-01-28T09:09:31.970Z"
   },
   {
    "duration": 603,
    "start_time": "2022-01-28T09:09:32.734Z"
   },
   {
    "duration": 682,
    "start_time": "2022-01-28T09:09:34.536Z"
   },
   {
    "duration": 239,
    "start_time": "2022-01-28T09:09:37.111Z"
   },
   {
    "duration": 41,
    "start_time": "2022-01-28T09:09:40.697Z"
   },
   {
    "duration": 11489,
    "start_time": "2022-01-28T09:09:41.691Z"
   },
   {
    "duration": 379,
    "start_time": "2022-01-28T09:10:00.493Z"
   },
   {
    "duration": 601,
    "start_time": "2022-01-28T09:10:05.726Z"
   },
   {
    "duration": 12,
    "start_time": "2022-01-28T09:10:11.297Z"
   },
   {
    "duration": 4026,
    "start_time": "2022-01-28T09:10:12.127Z"
   },
   {
    "duration": 70,
    "start_time": "2022-01-28T09:10:16.156Z"
   },
   {
    "duration": 440,
    "start_time": "2022-01-28T09:10:18.360Z"
   },
   {
    "duration": 814,
    "start_time": "2022-01-28T09:12:51.475Z"
   },
   {
    "duration": 424,
    "start_time": "2022-01-28T09:23:24.486Z"
   },
   {
    "duration": 585,
    "start_time": "2022-01-28T09:23:43.728Z"
   },
   {
    "duration": 137,
    "start_time": "2022-01-28T09:24:31.069Z"
   },
   {
    "duration": 475,
    "start_time": "2022-01-28T09:27:30.776Z"
   },
   {
    "duration": 758,
    "start_time": "2022-01-28T09:27:42.454Z"
   },
   {
    "duration": 396,
    "start_time": "2022-01-28T09:27:49.339Z"
   },
   {
    "duration": 855,
    "start_time": "2022-01-28T09:27:58.552Z"
   },
   {
    "duration": 592,
    "start_time": "2022-01-28T09:28:30.360Z"
   },
   {
    "duration": 1068,
    "start_time": "2022-02-07T07:19:17.084Z"
   },
   {
    "duration": 84,
    "start_time": "2022-02-07T07:20:15.077Z"
   },
   {
    "duration": 11,
    "start_time": "2022-02-07T07:20:17.644Z"
   },
   {
    "duration": 63,
    "start_time": "2022-02-07T07:20:20.912Z"
   },
   {
    "duration": 59,
    "start_time": "2022-02-07T07:21:43.330Z"
   },
   {
    "duration": 384,
    "start_time": "2022-02-07T07:22:52.444Z"
   },
   {
    "duration": 12,
    "start_time": "2022-02-07T07:25:50.101Z"
   },
   {
    "duration": 109,
    "start_time": "2022-02-07T07:27:44.810Z"
   },
   {
    "duration": 106,
    "start_time": "2022-02-07T07:32:17.906Z"
   },
   {
    "duration": 125,
    "start_time": "2022-02-07T07:33:55.370Z"
   },
   {
    "duration": 103,
    "start_time": "2022-02-07T07:34:12.975Z"
   },
   {
    "duration": 122,
    "start_time": "2022-02-07T07:34:26.890Z"
   },
   {
    "duration": 431,
    "start_time": "2022-02-07T07:35:16.217Z"
   },
   {
    "duration": 111,
    "start_time": "2022-02-07T07:36:23.337Z"
   },
   {
    "duration": 310,
    "start_time": "2022-02-07T07:40:23.517Z"
   },
   {
    "duration": 12,
    "start_time": "2022-02-07T07:40:55.099Z"
   },
   {
    "duration": 5,
    "start_time": "2022-02-07T07:40:59.424Z"
   },
   {
    "duration": 303,
    "start_time": "2022-02-07T07:41:02.174Z"
   },
   {
    "duration": 652,
    "start_time": "2022-02-07T07:41:26.252Z"
   },
   {
    "duration": 8,
    "start_time": "2022-02-07T07:41:52.609Z"
   },
   {
    "duration": 296,
    "start_time": "2022-02-07T07:44:59.430Z"
   },
   {
    "duration": 290,
    "start_time": "2022-02-07T07:46:02.883Z"
   },
   {
    "duration": 588,
    "start_time": "2022-02-07T07:46:05.897Z"
   },
   {
    "duration": 9,
    "start_time": "2022-02-07T07:46:08.412Z"
   },
   {
    "duration": 134,
    "start_time": "2022-02-07T07:46:19.882Z"
   },
   {
    "duration": 5,
    "start_time": "2022-02-07T07:46:35.449Z"
   },
   {
    "duration": 7,
    "start_time": "2022-02-07T07:47:02.240Z"
   },
   {
    "duration": 6,
    "start_time": "2022-02-07T07:47:12.746Z"
   },
   {
    "duration": 6,
    "start_time": "2022-02-07T07:47:13.937Z"
   },
   {
    "duration": 8,
    "start_time": "2022-02-07T07:47:16.718Z"
   },
   {
    "duration": 3,
    "start_time": "2022-02-07T07:47:57.778Z"
   },
   {
    "duration": 4,
    "start_time": "2022-02-07T07:47:58.556Z"
   },
   {
    "duration": 5,
    "start_time": "2022-02-07T07:48:09.035Z"
   },
   {
    "duration": 9,
    "start_time": "2022-02-07T07:48:35.798Z"
   },
   {
    "duration": 6,
    "start_time": "2022-02-07T07:48:46.270Z"
   },
   {
    "duration": 456,
    "start_time": "2022-02-07T07:49:21.327Z"
   },
   {
    "duration": 9,
    "start_time": "2022-02-07T07:49:58.236Z"
   },
   {
    "duration": 7,
    "start_time": "2022-02-07T07:49:59.150Z"
   },
   {
    "duration": 7,
    "start_time": "2022-02-07T07:50:00.156Z"
   },
   {
    "duration": 16,
    "start_time": "2022-02-07T07:50:02.416Z"
   },
   {
    "duration": 755,
    "start_time": "2022-02-07T07:50:30.196Z"
   },
   {
    "duration": 106,
    "start_time": "2022-02-07T07:51:27.595Z"
   },
   {
    "duration": 801,
    "start_time": "2022-02-07T07:51:36.673Z"
   },
   {
    "duration": 3,
    "start_time": "2022-02-07T07:52:10.531Z"
   },
   {
    "duration": 5,
    "start_time": "2022-02-07T07:53:55.630Z"
   },
   {
    "duration": 3,
    "start_time": "2022-02-07T07:54:18.893Z"
   },
   {
    "duration": 81,
    "start_time": "2022-02-07T07:54:18.902Z"
   },
   {
    "duration": 9,
    "start_time": "2022-02-07T07:54:18.985Z"
   },
   {
    "duration": 63,
    "start_time": "2022-02-07T07:54:18.996Z"
   },
   {
    "duration": 7,
    "start_time": "2022-02-07T07:54:19.061Z"
   },
   {
    "duration": 12,
    "start_time": "2022-02-07T07:54:22.216Z"
   },
   {
    "duration": 4,
    "start_time": "2022-02-07T07:54:22.230Z"
   },
   {
    "duration": 318,
    "start_time": "2022-02-07T07:54:22.245Z"
   },
   {
    "duration": 665,
    "start_time": "2022-02-07T07:54:22.564Z"
   },
   {
    "duration": 7,
    "start_time": "2022-02-07T07:54:23.231Z"
   },
   {
    "duration": 133,
    "start_time": "2022-02-07T07:54:23.239Z"
   },
   {
    "duration": 4,
    "start_time": "2022-02-07T07:54:23.374Z"
   },
   {
    "duration": 9,
    "start_time": "2022-02-07T07:54:23.380Z"
   },
   {
    "duration": 8,
    "start_time": "2022-02-07T07:54:23.390Z"
   },
   {
    "duration": 8,
    "start_time": "2022-02-07T07:54:23.399Z"
   },
   {
    "duration": 19,
    "start_time": "2022-02-07T07:54:23.409Z"
   },
   {
    "duration": 3,
    "start_time": "2022-02-07T07:54:23.430Z"
   },
   {
    "duration": 6,
    "start_time": "2022-02-07T07:54:23.434Z"
   },
   {
    "duration": 7,
    "start_time": "2022-02-07T07:54:23.441Z"
   },
   {
    "duration": 8,
    "start_time": "2022-02-07T07:54:23.450Z"
   },
   {
    "duration": 5,
    "start_time": "2022-02-07T07:54:23.460Z"
   },
   {
    "duration": 5,
    "start_time": "2022-02-07T07:54:23.467Z"
   },
   {
    "duration": 416,
    "start_time": "2022-02-07T07:54:23.474Z"
   },
   {
    "duration": 8,
    "start_time": "2022-02-07T07:54:23.891Z"
   },
   {
    "duration": 6,
    "start_time": "2022-02-07T07:54:23.900Z"
   },
   {
    "duration": 23,
    "start_time": "2022-02-07T07:54:23.907Z"
   },
   {
    "duration": 15,
    "start_time": "2022-02-07T07:54:23.932Z"
   },
   {
    "duration": 515,
    "start_time": "2022-02-07T07:54:23.949Z"
   },
   {
    "duration": 5,
    "start_time": "2022-02-07T07:54:28.942Z"
   },
   {
    "duration": 7,
    "start_time": "2022-02-07T07:54:48.356Z"
   },
   {
    "duration": 5,
    "start_time": "2022-02-07T07:54:55.884Z"
   },
   {
    "duration": 4,
    "start_time": "2022-02-07T07:54:57.080Z"
   },
   {
    "duration": 4,
    "start_time": "2022-02-07T07:55:35.213Z"
   },
   {
    "duration": 130,
    "start_time": "2022-02-07T07:55:49.489Z"
   },
   {
    "duration": 4,
    "start_time": "2022-02-07T07:55:51.598Z"
   },
   {
    "duration": 8,
    "start_time": "2022-02-07T07:56:28.350Z"
   },
   {
    "duration": 6,
    "start_time": "2022-02-07T07:56:48.040Z"
   },
   {
    "duration": 16,
    "start_time": "2022-02-07T07:56:48.871Z"
   },
   {
    "duration": 19547,
    "start_time": "2022-02-07T07:57:55.509Z"
   },
   {
    "duration": 18,
    "start_time": "2022-02-07T07:59:20.787Z"
   },
   {
    "duration": 20,
    "start_time": "2022-02-07T07:59:41.504Z"
   },
   {
    "duration": 4,
    "start_time": "2022-02-07T07:59:52.076Z"
   },
   {
    "duration": 8,
    "start_time": "2022-02-07T08:00:11.730Z"
   },
   {
    "duration": 20,
    "start_time": "2022-02-07T08:00:20.684Z"
   },
   {
    "duration": 3,
    "start_time": "2022-02-07T08:00:22.780Z"
   },
   {
    "duration": 5,
    "start_time": "2022-02-07T08:01:19.107Z"
   },
   {
    "duration": 12,
    "start_time": "2022-02-07T08:01:29.145Z"
   },
   {
    "duration": 399,
    "start_time": "2022-02-07T08:02:14.083Z"
   },
   {
    "duration": 6,
    "start_time": "2022-02-07T08:02:38.265Z"
   },
   {
    "duration": 31,
    "start_time": "2022-02-07T08:02:42.382Z"
   },
   {
    "duration": 39,
    "start_time": "2022-02-07T08:03:12.406Z"
   },
   {
    "duration": 2,
    "start_time": "2022-02-07T08:03:45.435Z"
   },
   {
    "duration": 2,
    "start_time": "2022-02-07T08:03:45.771Z"
   },
   {
    "duration": 267,
    "start_time": "2022-02-07T08:03:48.675Z"
   },
   {
    "duration": 115,
    "start_time": "2022-02-07T08:03:52.409Z"
   },
   {
    "duration": 223,
    "start_time": "2022-02-07T08:04:25.664Z"
   },
   {
    "duration": 133,
    "start_time": "2022-02-07T08:04:28.743Z"
   },
   {
    "duration": 221,
    "start_time": "2022-02-07T08:04:53.457Z"
   },
   {
    "duration": 118,
    "start_time": "2022-02-07T08:04:55.209Z"
   },
   {
    "duration": 204,
    "start_time": "2022-02-07T08:05:12.964Z"
   },
   {
    "duration": 117,
    "start_time": "2022-02-07T08:05:15.012Z"
   },
   {
    "duration": 212,
    "start_time": "2022-02-07T08:20:10.589Z"
   },
   {
    "duration": 132,
    "start_time": "2022-02-07T08:20:14.830Z"
   },
   {
    "duration": 17,
    "start_time": "2022-02-07T08:21:01.326Z"
   },
   {
    "duration": 31,
    "start_time": "2022-02-07T08:21:58.163Z"
   },
   {
    "duration": 3,
    "start_time": "2022-02-07T08:22:16.536Z"
   },
   {
    "duration": 462,
    "start_time": "2022-02-07T08:22:19.890Z"
   },
   {
    "duration": 391,
    "start_time": "2022-02-07T08:22:57.618Z"
   },
   {
    "duration": 417,
    "start_time": "2022-02-07T08:23:16.844Z"
   },
   {
    "duration": 137,
    "start_time": "2022-02-07T08:23:49.651Z"
   },
   {
    "duration": 26,
    "start_time": "2022-02-07T08:24:30.003Z"
   },
   {
    "duration": 7327,
    "start_time": "2022-02-07T08:24:52.391Z"
   },
   {
    "duration": 214,
    "start_time": "2022-02-07T08:26:48.462Z"
   },
   {
    "duration": 321,
    "start_time": "2022-02-07T08:28:44.517Z"
   },
   {
    "duration": 8,
    "start_time": "2022-02-07T08:30:54.543Z"
   },
   {
    "duration": 2159,
    "start_time": "2022-02-07T08:31:53.768Z"
   },
   {
    "duration": 41,
    "start_time": "2022-02-07T08:33:23.869Z"
   },
   {
    "duration": 232,
    "start_time": "2022-02-07T08:34:35.280Z"
   },
   {
    "duration": 3,
    "start_time": "2022-02-07T08:40:30.423Z"
   },
   {
    "duration": 85,
    "start_time": "2022-02-07T08:40:30.427Z"
   },
   {
    "duration": 18,
    "start_time": "2022-02-07T08:40:30.514Z"
   },
   {
    "duration": 59,
    "start_time": "2022-02-07T08:40:30.534Z"
   },
   {
    "duration": 9,
    "start_time": "2022-02-07T08:40:30.594Z"
   },
   {
    "duration": 29,
    "start_time": "2022-02-07T08:40:30.605Z"
   },
   {
    "duration": 5,
    "start_time": "2022-02-07T08:40:30.636Z"
   },
   {
    "duration": 346,
    "start_time": "2022-02-07T08:40:30.643Z"
   },
   {
    "duration": 602,
    "start_time": "2022-02-07T08:40:30.992Z"
   },
   {
    "duration": 9,
    "start_time": "2022-02-07T08:40:31.597Z"
   },
   {
    "duration": 236,
    "start_time": "2022-02-07T08:40:31.608Z"
   },
   {
    "duration": 6,
    "start_time": "2022-02-07T08:40:31.846Z"
   },
   {
    "duration": 8,
    "start_time": "2022-02-07T08:40:31.853Z"
   },
   {
    "duration": 7,
    "start_time": "2022-02-07T08:40:31.862Z"
   },
   {
    "duration": 5,
    "start_time": "2022-02-07T08:40:31.870Z"
   },
   {
    "duration": 8,
    "start_time": "2022-02-07T08:40:31.876Z"
   },
   {
    "duration": 3,
    "start_time": "2022-02-07T08:40:31.885Z"
   },
   {
    "duration": 6,
    "start_time": "2022-02-07T08:40:31.889Z"
   },
   {
    "duration": 32,
    "start_time": "2022-02-07T08:40:31.896Z"
   },
   {
    "duration": 7,
    "start_time": "2022-02-07T08:40:31.929Z"
   },
   {
    "duration": 5,
    "start_time": "2022-02-07T08:40:31.938Z"
   },
   {
    "duration": 4,
    "start_time": "2022-02-07T08:40:31.944Z"
   },
   {
    "duration": 410,
    "start_time": "2022-02-07T08:40:31.949Z"
   },
   {
    "duration": 8,
    "start_time": "2022-02-07T08:40:32.360Z"
   },
   {
    "duration": 6,
    "start_time": "2022-02-07T08:40:32.370Z"
   },
   {
    "duration": 10,
    "start_time": "2022-02-07T08:40:32.378Z"
   },
   {
    "duration": 36,
    "start_time": "2022-02-07T08:40:32.392Z"
   },
   {
    "duration": 544,
    "start_time": "2022-02-07T08:40:32.431Z"
   },
   {
    "duration": 5,
    "start_time": "2022-02-07T08:40:32.976Z"
   },
   {
    "duration": 7,
    "start_time": "2022-02-07T08:40:32.983Z"
   },
   {
    "duration": 5,
    "start_time": "2022-02-07T08:40:32.991Z"
   },
   {
    "duration": 5,
    "start_time": "2022-02-07T08:40:32.998Z"
   },
   {
    "duration": 26,
    "start_time": "2022-02-07T08:40:33.004Z"
   },
   {
    "duration": 156,
    "start_time": "2022-02-07T08:40:33.032Z"
   },
   {
    "duration": 4,
    "start_time": "2022-02-07T08:40:33.190Z"
   },
   {
    "duration": 9,
    "start_time": "2022-02-07T08:40:33.196Z"
   },
   {
    "duration": 22,
    "start_time": "2022-02-07T08:40:33.206Z"
   },
   {
    "duration": 24,
    "start_time": "2022-02-07T08:40:33.230Z"
   },
   {
    "duration": 20007,
    "start_time": "2022-02-07T08:40:33.255Z"
   },
   {
    "duration": 19,
    "start_time": "2022-02-07T08:40:53.264Z"
   },
   {
    "duration": 20,
    "start_time": "2022-02-07T08:40:53.284Z"
   },
   {
    "duration": 22,
    "start_time": "2022-02-07T08:40:53.305Z"
   },
   {
    "duration": 9,
    "start_time": "2022-02-07T08:40:53.328Z"
   },
   {
    "duration": 17,
    "start_time": "2022-02-07T08:40:53.338Z"
   },
   {
    "duration": 10,
    "start_time": "2022-02-07T08:40:53.357Z"
   },
   {
    "duration": 13,
    "start_time": "2022-02-07T08:40:53.368Z"
   },
   {
    "duration": 23,
    "start_time": "2022-02-07T08:40:53.382Z"
   },
   {
    "duration": 407,
    "start_time": "2022-02-07T08:40:53.407Z"
   },
   {
    "duration": 4,
    "start_time": "2022-02-07T08:40:53.816Z"
   },
   {
    "duration": 35,
    "start_time": "2022-02-07T08:40:53.821Z"
   },
   {
    "duration": 37,
    "start_time": "2022-02-07T08:40:53.857Z"
   },
   {
    "duration": 3,
    "start_time": "2022-02-07T08:40:53.895Z"
   },
   {
    "duration": 28,
    "start_time": "2022-02-07T08:40:53.899Z"
   },
   {
    "duration": 213,
    "start_time": "2022-02-07T08:40:53.928Z"
   },
   {
    "duration": 137,
    "start_time": "2022-02-07T08:40:54.143Z"
   },
   {
    "duration": 297,
    "start_time": "2022-02-07T08:40:54.282Z"
   },
   {
    "duration": 135,
    "start_time": "2022-02-07T08:40:54.580Z"
   },
   {
    "duration": 216,
    "start_time": "2022-02-07T08:40:54.716Z"
   },
   {
    "duration": 124,
    "start_time": "2022-02-07T08:40:54.934Z"
   },
   {
    "duration": 216,
    "start_time": "2022-02-07T08:40:55.059Z"
   },
   {
    "duration": 128,
    "start_time": "2022-02-07T08:40:55.276Z"
   },
   {
    "duration": 214,
    "start_time": "2022-02-07T08:40:55.406Z"
   },
   {
    "duration": 139,
    "start_time": "2022-02-07T08:40:55.622Z"
   },
   {
    "duration": 16,
    "start_time": "2022-02-07T08:40:55.763Z"
   },
   {
    "duration": 48,
    "start_time": "2022-02-07T08:40:55.781Z"
   },
   {
    "duration": 3,
    "start_time": "2022-02-07T08:40:55.831Z"
   },
   {
    "duration": 436,
    "start_time": "2022-02-07T08:40:55.836Z"
   },
   {
    "duration": 540,
    "start_time": "2022-02-07T08:40:56.274Z"
   },
   {
    "duration": 334,
    "start_time": "2022-02-07T08:40:56.816Z"
   },
   {
    "duration": 534,
    "start_time": "2022-02-07T08:40:57.152Z"
   },
   {
    "duration": 134,
    "start_time": "2022-02-07T08:40:57.687Z"
   },
   {
    "duration": 24,
    "start_time": "2022-02-07T08:40:57.826Z"
   },
   {
    "duration": 7466,
    "start_time": "2022-02-07T08:40:57.852Z"
   },
   {
    "duration": 223,
    "start_time": "2022-02-07T08:41:05.320Z"
   },
   {
    "duration": 329,
    "start_time": "2022-02-07T08:41:05.544Z"
   },
   {
    "duration": 8,
    "start_time": "2022-02-07T08:41:05.874Z"
   },
   {
    "duration": 2160,
    "start_time": "2022-02-07T08:41:05.883Z"
   },
   {
    "duration": 41,
    "start_time": "2022-02-07T08:41:08.045Z"
   },
   {
    "duration": 262,
    "start_time": "2022-02-07T08:41:08.087Z"
   }
  ],
  "kernelspec": {
   "display_name": "Python 3 (ipykernel)",
   "language": "python",
   "name": "python3"
  },
  "language_info": {
   "codemirror_mode": {
    "name": "ipython",
    "version": 3
   },
   "file_extension": ".py",
   "mimetype": "text/x-python",
   "name": "python",
   "nbconvert_exporter": "python",
   "pygments_lexer": "ipython3",
   "version": "3.9.7"
  },
  "toc": {
   "base_numbering": 1,
   "nav_menu": {},
   "number_sections": true,
   "sideBar": true,
   "skip_h1_title": true,
   "title_cell": "Содержание",
   "title_sidebar": "Contents",
   "toc_cell": true,
   "toc_position": {
    "height": "calc(100% - 180px)",
    "left": "10px",
    "top": "150px",
    "width": "223.4px"
   },
   "toc_section_display": true,
   "toc_window_display": true
  }
 },
 "nbformat": 4,
 "nbformat_minor": 2
}
