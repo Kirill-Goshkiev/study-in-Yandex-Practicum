{
 "cells": [
  {
   "cell_type": "markdown",
   "id": "d6a48634",
   "metadata": {
    "toc": true
   },
   "source": [
    "<h1>Содержание<span class=\"tocSkip\"></span></h1>\n",
    "<div class=\"toc\"><ul class=\"toc-item\"><li><span><a href=\"#Открытие-файлов-с-данными-и-изучение-общей-информации\" data-toc-modified-id=\"Открытие-файлов-с-данными-и-изучение-общей-информации-1\"><span class=\"toc-item-num\">1&nbsp;&nbsp;</span>Открытие файлов с данными и изучение общей информации</a></span></li><li><span><a href=\"#Подготовка-данных\" data-toc-modified-id=\"Подготовка-данных-2\"><span class=\"toc-item-num\">2&nbsp;&nbsp;</span>Подготовка данных</a></span><ul class=\"toc-item\"><li><span><a href=\"#Исправление-ошибок-в-данных\" data-toc-modified-id=\"Исправление-ошибок-в-данных-2.1\"><span class=\"toc-item-num\">2.1&nbsp;&nbsp;</span>Исправление ошибок в данных</a></span></li><li><span><a href=\"#Расчёт-необходимых-показателей\" data-toc-modified-id=\"Расчёт-необходимых-показателей-2.2\"><span class=\"toc-item-num\">2.2&nbsp;&nbsp;</span>Расчёт необходимых показателей</a></span></li><li><span><a href=\"#Вывод\" data-toc-modified-id=\"Вывод-2.3\"><span class=\"toc-item-num\">2.3&nbsp;&nbsp;</span>Вывод</a></span></li></ul></li><li><span><a href=\"#Анализ-данных\" data-toc-modified-id=\"Анализ-данных-3\"><span class=\"toc-item-num\">3&nbsp;&nbsp;</span>Анализ данных</a></span><ul class=\"toc-item\"><li><span><a href=\"#Рассмотрение-показателей-по-тарифам-и-их-распределение\" data-toc-modified-id=\"Рассмотрение-показателей-по-тарифам-и-их-распределение-3.1\"><span class=\"toc-item-num\">3.1&nbsp;&nbsp;</span>Рассмотрение показателей по тарифам и их распределение</a></span></li><li><span><a href=\"#Расчет-среднего,-дисперсии-и-стандартного-отклонения\" data-toc-modified-id=\"Расчет-среднего,-дисперсии-и-стандартного-отклонения-3.2\"><span class=\"toc-item-num\">3.2&nbsp;&nbsp;</span>Расчет среднего, дисперсии и стандартного отклонения</a></span></li></ul></li><li><span><a href=\"#Проверка-гипотез\" data-toc-modified-id=\"Проверка-гипотез-4\"><span class=\"toc-item-num\">4&nbsp;&nbsp;</span>Проверка гипотез</a></span></li><li><span><a href=\"#Общий-вывод\" data-toc-modified-id=\"Общий-вывод-5\"><span class=\"toc-item-num\">5&nbsp;&nbsp;</span>Общий вывод</a></span></li></ul></div>"
   ]
  },
  {
   "cell_type": "markdown",
   "id": "8212ae2e",
   "metadata": {},
   "source": [
    "# Определение перспективного тарифа для телеком-компании"
   ]
  },
  {
   "cell_type": "markdown",
   "id": "955a1bc0",
   "metadata": {},
   "source": [
    "**Описание проекта**  \n",
    "\n",
    "Компания «Мегалайн» — федеральный оператор сотовой связи. Клиентам компании предлагают два тарифных плана: «Смарт» и «Ультра». Чтобы скорректировать рекламный бюджет, коммерческий департамент хочет понять, какой тариф приносит больше денег.\n",
    "Нам предстоит провести предварительный анализ тарифов на небольшой выборке клиентов. В нашем распоряжении данные 500 пользователей «Мегалайна»: кто они, откуда, каким тарифом пользуются, сколько звонков и сообщений каждый отправил за 2018 год. Нужно проанализировать поведение клиентов и сделать вывод — какой тариф лучше.\n",
    "\n",
    "**Описание тарифов**  \n",
    "\n",
    "*Тариф «Смарт»*  \n",
    "Ежемесячная плата: 550 рублей  \n",
    "Включено 500 минут разговора, 50 сообщений и 15 Гб интернет-трафика  \n",
    "Стоимость услуг сверх тарифного пакета:  \n",
    "минута разговора: 3 рубля  \n",
    "сообщение: 3 рубля  \n",
    "1 Гб интернет-трафика: 200 рублей  \n",
    "\n",
    "*Тариф «Ультра»*  \n",
    "Ежемесячная плата: 1950 рублей  \n",
    "Включено 3000 минут разговора, 1000 сообщений и 30 Гб интернет-трафика  \n",
    "Стоимость услуг сверх тарифного пакета:  \n",
    "минута разговора: 1 рубль  \n",
    "сообщение: 1 рубль  \n",
    "1 Гб интернет-трафика: 150 рублей    \n",
    "\n",
    "**Примечание:**\n",
    "\n",
    "«Мегалайн» всегда округляет секунды до минут, а мегабайты — до гигабайт. Каждый звонок округляется отдельно: даже если он длился всего 1 секунду, будет засчитан как 1 минута.\n",
    "Для веб-трафика отдельные сессии не считаются. Вместо этого общая сумма за месяц округляется в бо́льшую сторону. Если абонент использует 1025 мегабайт в этом месяце, с него возьмут плату за 2 гигабайта."
   ]
  },
  {
   "cell_type": "markdown",
   "id": "74c33ad6",
   "metadata": {},
   "source": [
    "##  Открытие файлов с данными и изучение общей информации"
   ]
  },
  {
   "cell_type": "code",
   "execution_count": 1,
   "id": "26d1e93a",
   "metadata": {},
   "outputs": [],
   "source": [
    "import pandas as pd\n",
    "import matplotlib.pyplot as plt\n",
    "import numpy as np\n",
    "import math\n",
    "from scipy import stats as st\n",
    "import warnings"
   ]
  },
  {
   "cell_type": "code",
   "execution_count": 2,
   "id": "94869106",
   "metadata": {},
   "outputs": [],
   "source": [
    "calls = pd.read_csv('calls.csv')\n",
    "internet = pd.read_csv('internet.csv')\n",
    "messages = pd.read_csv('messages.csv')\n",
    "tariffs = pd.read_csv('tariffs.csv')\n",
    "users = pd.read_csv('users.csv')"
   ]
  },
  {
   "cell_type": "code",
   "execution_count": 3,
   "id": "03425b8c",
   "metadata": {
    "scrolled": false
   },
   "outputs": [
    {
     "data": {
      "text/html": [
       "<div>\n",
       "<style scoped>\n",
       "    .dataframe tbody tr th:only-of-type {\n",
       "        vertical-align: middle;\n",
       "    }\n",
       "\n",
       "    .dataframe tbody tr th {\n",
       "        vertical-align: top;\n",
       "    }\n",
       "\n",
       "    .dataframe thead th {\n",
       "        text-align: right;\n",
       "    }\n",
       "</style>\n",
       "<table border=\"1\" class=\"dataframe\">\n",
       "  <thead>\n",
       "    <tr style=\"text-align: right;\">\n",
       "      <th></th>\n",
       "      <th>id</th>\n",
       "      <th>call_date</th>\n",
       "      <th>duration</th>\n",
       "      <th>user_id</th>\n",
       "    </tr>\n",
       "  </thead>\n",
       "  <tbody>\n",
       "    <tr>\n",
       "      <th>0</th>\n",
       "      <td>1000_0</td>\n",
       "      <td>2018-07-25</td>\n",
       "      <td>0.00</td>\n",
       "      <td>1000</td>\n",
       "    </tr>\n",
       "    <tr>\n",
       "      <th>1</th>\n",
       "      <td>1000_1</td>\n",
       "      <td>2018-08-17</td>\n",
       "      <td>0.00</td>\n",
       "      <td>1000</td>\n",
       "    </tr>\n",
       "    <tr>\n",
       "      <th>2</th>\n",
       "      <td>1000_2</td>\n",
       "      <td>2018-06-11</td>\n",
       "      <td>2.85</td>\n",
       "      <td>1000</td>\n",
       "    </tr>\n",
       "    <tr>\n",
       "      <th>3</th>\n",
       "      <td>1000_3</td>\n",
       "      <td>2018-09-21</td>\n",
       "      <td>13.80</td>\n",
       "      <td>1000</td>\n",
       "    </tr>\n",
       "    <tr>\n",
       "      <th>4</th>\n",
       "      <td>1000_4</td>\n",
       "      <td>2018-12-15</td>\n",
       "      <td>5.18</td>\n",
       "      <td>1000</td>\n",
       "    </tr>\n",
       "  </tbody>\n",
       "</table>\n",
       "</div>"
      ],
      "text/plain": [
       "       id   call_date  duration  user_id\n",
       "0  1000_0  2018-07-25      0.00     1000\n",
       "1  1000_1  2018-08-17      0.00     1000\n",
       "2  1000_2  2018-06-11      2.85     1000\n",
       "3  1000_3  2018-09-21     13.80     1000\n",
       "4  1000_4  2018-12-15      5.18     1000"
      ]
     },
     "metadata": {},
     "output_type": "display_data"
    },
    {
     "name": "stdout",
     "output_type": "stream",
     "text": [
      "\n",
      "<class 'pandas.core.frame.DataFrame'>\n",
      "RangeIndex: 202607 entries, 0 to 202606\n",
      "Data columns (total 4 columns):\n",
      " #   Column     Non-Null Count   Dtype  \n",
      "---  ------     --------------   -----  \n",
      " 0   id         202607 non-null  object \n",
      " 1   call_date  202607 non-null  object \n",
      " 2   duration   202607 non-null  float64\n",
      " 3   user_id    202607 non-null  int64  \n",
      "dtypes: float64(1), int64(1), object(2)\n",
      "memory usage: 6.2+ MB\n",
      "None\n",
      "====================================================================================================\n"
     ]
    },
    {
     "data": {
      "text/html": [
       "<div>\n",
       "<style scoped>\n",
       "    .dataframe tbody tr th:only-of-type {\n",
       "        vertical-align: middle;\n",
       "    }\n",
       "\n",
       "    .dataframe tbody tr th {\n",
       "        vertical-align: top;\n",
       "    }\n",
       "\n",
       "    .dataframe thead th {\n",
       "        text-align: right;\n",
       "    }\n",
       "</style>\n",
       "<table border=\"1\" class=\"dataframe\">\n",
       "  <thead>\n",
       "    <tr style=\"text-align: right;\">\n",
       "      <th></th>\n",
       "      <th>Unnamed: 0</th>\n",
       "      <th>id</th>\n",
       "      <th>mb_used</th>\n",
       "      <th>session_date</th>\n",
       "      <th>user_id</th>\n",
       "    </tr>\n",
       "  </thead>\n",
       "  <tbody>\n",
       "    <tr>\n",
       "      <th>0</th>\n",
       "      <td>0</td>\n",
       "      <td>1000_0</td>\n",
       "      <td>112.95</td>\n",
       "      <td>2018-11-25</td>\n",
       "      <td>1000</td>\n",
       "    </tr>\n",
       "    <tr>\n",
       "      <th>1</th>\n",
       "      <td>1</td>\n",
       "      <td>1000_1</td>\n",
       "      <td>1052.81</td>\n",
       "      <td>2018-09-07</td>\n",
       "      <td>1000</td>\n",
       "    </tr>\n",
       "    <tr>\n",
       "      <th>2</th>\n",
       "      <td>2</td>\n",
       "      <td>1000_2</td>\n",
       "      <td>1197.26</td>\n",
       "      <td>2018-06-25</td>\n",
       "      <td>1000</td>\n",
       "    </tr>\n",
       "    <tr>\n",
       "      <th>3</th>\n",
       "      <td>3</td>\n",
       "      <td>1000_3</td>\n",
       "      <td>550.27</td>\n",
       "      <td>2018-08-22</td>\n",
       "      <td>1000</td>\n",
       "    </tr>\n",
       "    <tr>\n",
       "      <th>4</th>\n",
       "      <td>4</td>\n",
       "      <td>1000_4</td>\n",
       "      <td>302.56</td>\n",
       "      <td>2018-09-24</td>\n",
       "      <td>1000</td>\n",
       "    </tr>\n",
       "  </tbody>\n",
       "</table>\n",
       "</div>"
      ],
      "text/plain": [
       "   Unnamed: 0      id  mb_used session_date  user_id\n",
       "0           0  1000_0   112.95   2018-11-25     1000\n",
       "1           1  1000_1  1052.81   2018-09-07     1000\n",
       "2           2  1000_2  1197.26   2018-06-25     1000\n",
       "3           3  1000_3   550.27   2018-08-22     1000\n",
       "4           4  1000_4   302.56   2018-09-24     1000"
      ]
     },
     "metadata": {},
     "output_type": "display_data"
    },
    {
     "name": "stdout",
     "output_type": "stream",
     "text": [
      "\n",
      "<class 'pandas.core.frame.DataFrame'>\n",
      "RangeIndex: 149396 entries, 0 to 149395\n",
      "Data columns (total 5 columns):\n",
      " #   Column        Non-Null Count   Dtype  \n",
      "---  ------        --------------   -----  \n",
      " 0   Unnamed: 0    149396 non-null  int64  \n",
      " 1   id            149396 non-null  object \n",
      " 2   mb_used       149396 non-null  float64\n",
      " 3   session_date  149396 non-null  object \n",
      " 4   user_id       149396 non-null  int64  \n",
      "dtypes: float64(1), int64(2), object(2)\n",
      "memory usage: 5.7+ MB\n",
      "None\n",
      "====================================================================================================\n"
     ]
    },
    {
     "data": {
      "text/html": [
       "<div>\n",
       "<style scoped>\n",
       "    .dataframe tbody tr th:only-of-type {\n",
       "        vertical-align: middle;\n",
       "    }\n",
       "\n",
       "    .dataframe tbody tr th {\n",
       "        vertical-align: top;\n",
       "    }\n",
       "\n",
       "    .dataframe thead th {\n",
       "        text-align: right;\n",
       "    }\n",
       "</style>\n",
       "<table border=\"1\" class=\"dataframe\">\n",
       "  <thead>\n",
       "    <tr style=\"text-align: right;\">\n",
       "      <th></th>\n",
       "      <th>id</th>\n",
       "      <th>message_date</th>\n",
       "      <th>user_id</th>\n",
       "    </tr>\n",
       "  </thead>\n",
       "  <tbody>\n",
       "    <tr>\n",
       "      <th>0</th>\n",
       "      <td>1000_0</td>\n",
       "      <td>2018-06-27</td>\n",
       "      <td>1000</td>\n",
       "    </tr>\n",
       "    <tr>\n",
       "      <th>1</th>\n",
       "      <td>1000_1</td>\n",
       "      <td>2018-10-08</td>\n",
       "      <td>1000</td>\n",
       "    </tr>\n",
       "    <tr>\n",
       "      <th>2</th>\n",
       "      <td>1000_2</td>\n",
       "      <td>2018-08-04</td>\n",
       "      <td>1000</td>\n",
       "    </tr>\n",
       "    <tr>\n",
       "      <th>3</th>\n",
       "      <td>1000_3</td>\n",
       "      <td>2018-06-16</td>\n",
       "      <td>1000</td>\n",
       "    </tr>\n",
       "    <tr>\n",
       "      <th>4</th>\n",
       "      <td>1000_4</td>\n",
       "      <td>2018-12-05</td>\n",
       "      <td>1000</td>\n",
       "    </tr>\n",
       "  </tbody>\n",
       "</table>\n",
       "</div>"
      ],
      "text/plain": [
       "       id message_date  user_id\n",
       "0  1000_0   2018-06-27     1000\n",
       "1  1000_1   2018-10-08     1000\n",
       "2  1000_2   2018-08-04     1000\n",
       "3  1000_3   2018-06-16     1000\n",
       "4  1000_4   2018-12-05     1000"
      ]
     },
     "metadata": {},
     "output_type": "display_data"
    },
    {
     "name": "stdout",
     "output_type": "stream",
     "text": [
      "\n",
      "<class 'pandas.core.frame.DataFrame'>\n",
      "RangeIndex: 123036 entries, 0 to 123035\n",
      "Data columns (total 3 columns):\n",
      " #   Column        Non-Null Count   Dtype \n",
      "---  ------        --------------   ----- \n",
      " 0   id            123036 non-null  object\n",
      " 1   message_date  123036 non-null  object\n",
      " 2   user_id       123036 non-null  int64 \n",
      "dtypes: int64(1), object(2)\n",
      "memory usage: 2.8+ MB\n",
      "None\n",
      "====================================================================================================\n"
     ]
    },
    {
     "data": {
      "text/html": [
       "<div>\n",
       "<style scoped>\n",
       "    .dataframe tbody tr th:only-of-type {\n",
       "        vertical-align: middle;\n",
       "    }\n",
       "\n",
       "    .dataframe tbody tr th {\n",
       "        vertical-align: top;\n",
       "    }\n",
       "\n",
       "    .dataframe thead th {\n",
       "        text-align: right;\n",
       "    }\n",
       "</style>\n",
       "<table border=\"1\" class=\"dataframe\">\n",
       "  <thead>\n",
       "    <tr style=\"text-align: right;\">\n",
       "      <th></th>\n",
       "      <th>messages_included</th>\n",
       "      <th>mb_per_month_included</th>\n",
       "      <th>minutes_included</th>\n",
       "      <th>rub_monthly_fee</th>\n",
       "      <th>rub_per_gb</th>\n",
       "      <th>rub_per_message</th>\n",
       "      <th>rub_per_minute</th>\n",
       "      <th>tariff_name</th>\n",
       "    </tr>\n",
       "  </thead>\n",
       "  <tbody>\n",
       "    <tr>\n",
       "      <th>0</th>\n",
       "      <td>50</td>\n",
       "      <td>15360</td>\n",
       "      <td>500</td>\n",
       "      <td>550</td>\n",
       "      <td>200</td>\n",
       "      <td>3</td>\n",
       "      <td>3</td>\n",
       "      <td>smart</td>\n",
       "    </tr>\n",
       "    <tr>\n",
       "      <th>1</th>\n",
       "      <td>1000</td>\n",
       "      <td>30720</td>\n",
       "      <td>3000</td>\n",
       "      <td>1950</td>\n",
       "      <td>150</td>\n",
       "      <td>1</td>\n",
       "      <td>1</td>\n",
       "      <td>ultra</td>\n",
       "    </tr>\n",
       "  </tbody>\n",
       "</table>\n",
       "</div>"
      ],
      "text/plain": [
       "   messages_included  mb_per_month_included  minutes_included  \\\n",
       "0                 50                  15360               500   \n",
       "1               1000                  30720              3000   \n",
       "\n",
       "   rub_monthly_fee  rub_per_gb  rub_per_message  rub_per_minute tariff_name  \n",
       "0              550         200                3               3       smart  \n",
       "1             1950         150                1               1       ultra  "
      ]
     },
     "metadata": {},
     "output_type": "display_data"
    },
    {
     "name": "stdout",
     "output_type": "stream",
     "text": [
      "\n",
      "<class 'pandas.core.frame.DataFrame'>\n",
      "RangeIndex: 2 entries, 0 to 1\n",
      "Data columns (total 8 columns):\n",
      " #   Column                 Non-Null Count  Dtype \n",
      "---  ------                 --------------  ----- \n",
      " 0   messages_included      2 non-null      int64 \n",
      " 1   mb_per_month_included  2 non-null      int64 \n",
      " 2   minutes_included       2 non-null      int64 \n",
      " 3   rub_monthly_fee        2 non-null      int64 \n",
      " 4   rub_per_gb             2 non-null      int64 \n",
      " 5   rub_per_message        2 non-null      int64 \n",
      " 6   rub_per_minute         2 non-null      int64 \n",
      " 7   tariff_name            2 non-null      object\n",
      "dtypes: int64(7), object(1)\n",
      "memory usage: 256.0+ bytes\n",
      "None\n",
      "====================================================================================================\n"
     ]
    },
    {
     "data": {
      "text/html": [
       "<div>\n",
       "<style scoped>\n",
       "    .dataframe tbody tr th:only-of-type {\n",
       "        vertical-align: middle;\n",
       "    }\n",
       "\n",
       "    .dataframe tbody tr th {\n",
       "        vertical-align: top;\n",
       "    }\n",
       "\n",
       "    .dataframe thead th {\n",
       "        text-align: right;\n",
       "    }\n",
       "</style>\n",
       "<table border=\"1\" class=\"dataframe\">\n",
       "  <thead>\n",
       "    <tr style=\"text-align: right;\">\n",
       "      <th></th>\n",
       "      <th>user_id</th>\n",
       "      <th>age</th>\n",
       "      <th>churn_date</th>\n",
       "      <th>city</th>\n",
       "      <th>first_name</th>\n",
       "      <th>last_name</th>\n",
       "      <th>reg_date</th>\n",
       "      <th>tariff</th>\n",
       "    </tr>\n",
       "  </thead>\n",
       "  <tbody>\n",
       "    <tr>\n",
       "      <th>0</th>\n",
       "      <td>1000</td>\n",
       "      <td>52</td>\n",
       "      <td>NaN</td>\n",
       "      <td>Краснодар</td>\n",
       "      <td>Рафаил</td>\n",
       "      <td>Верещагин</td>\n",
       "      <td>2018-05-25</td>\n",
       "      <td>ultra</td>\n",
       "    </tr>\n",
       "    <tr>\n",
       "      <th>1</th>\n",
       "      <td>1001</td>\n",
       "      <td>41</td>\n",
       "      <td>NaN</td>\n",
       "      <td>Москва</td>\n",
       "      <td>Иван</td>\n",
       "      <td>Ежов</td>\n",
       "      <td>2018-11-01</td>\n",
       "      <td>smart</td>\n",
       "    </tr>\n",
       "    <tr>\n",
       "      <th>2</th>\n",
       "      <td>1002</td>\n",
       "      <td>59</td>\n",
       "      <td>NaN</td>\n",
       "      <td>Стерлитамак</td>\n",
       "      <td>Евгений</td>\n",
       "      <td>Абрамович</td>\n",
       "      <td>2018-06-17</td>\n",
       "      <td>smart</td>\n",
       "    </tr>\n",
       "    <tr>\n",
       "      <th>3</th>\n",
       "      <td>1003</td>\n",
       "      <td>23</td>\n",
       "      <td>NaN</td>\n",
       "      <td>Москва</td>\n",
       "      <td>Белла</td>\n",
       "      <td>Белякова</td>\n",
       "      <td>2018-08-17</td>\n",
       "      <td>ultra</td>\n",
       "    </tr>\n",
       "    <tr>\n",
       "      <th>4</th>\n",
       "      <td>1004</td>\n",
       "      <td>68</td>\n",
       "      <td>NaN</td>\n",
       "      <td>Новокузнецк</td>\n",
       "      <td>Татьяна</td>\n",
       "      <td>Авдеенко</td>\n",
       "      <td>2018-05-14</td>\n",
       "      <td>ultra</td>\n",
       "    </tr>\n",
       "  </tbody>\n",
       "</table>\n",
       "</div>"
      ],
      "text/plain": [
       "   user_id  age churn_date         city first_name  last_name    reg_date  \\\n",
       "0     1000   52        NaN    Краснодар     Рафаил  Верещагин  2018-05-25   \n",
       "1     1001   41        NaN       Москва       Иван       Ежов  2018-11-01   \n",
       "2     1002   59        NaN  Стерлитамак    Евгений  Абрамович  2018-06-17   \n",
       "3     1003   23        NaN       Москва      Белла   Белякова  2018-08-17   \n",
       "4     1004   68        NaN  Новокузнецк    Татьяна   Авдеенко  2018-05-14   \n",
       "\n",
       "  tariff  \n",
       "0  ultra  \n",
       "1  smart  \n",
       "2  smart  \n",
       "3  ultra  \n",
       "4  ultra  "
      ]
     },
     "metadata": {},
     "output_type": "display_data"
    },
    {
     "name": "stdout",
     "output_type": "stream",
     "text": [
      "\n",
      "<class 'pandas.core.frame.DataFrame'>\n",
      "RangeIndex: 500 entries, 0 to 499\n",
      "Data columns (total 8 columns):\n",
      " #   Column      Non-Null Count  Dtype \n",
      "---  ------      --------------  ----- \n",
      " 0   user_id     500 non-null    int64 \n",
      " 1   age         500 non-null    int64 \n",
      " 2   churn_date  38 non-null     object\n",
      " 3   city        500 non-null    object\n",
      " 4   first_name  500 non-null    object\n",
      " 5   last_name   500 non-null    object\n",
      " 6   reg_date    500 non-null    object\n",
      " 7   tariff      500 non-null    object\n",
      "dtypes: int64(2), object(6)\n",
      "memory usage: 31.4+ KB\n",
      "None\n",
      "====================================================================================================\n"
     ]
    }
   ],
   "source": [
    "for df in [calls, internet, messages, tariffs, users]:\n",
    "    display(df.head())\n",
    "    print()\n",
    "    print(df.info())\n",
    "    print('=' * 100)"
   ]
  },
  {
   "cell_type": "markdown",
   "id": "52cd13b1",
   "metadata": {},
   "source": [
    "Во всех таблицах практически все столбцы заполнены. Только в таблице с пользователями столбец - churn_date имеет мало значений, но в задании к проекту сказано: churn_date - дата прекращения пользования тарифом (если значение пропущено, то тариф ещё действовал на момент выгрузки данных), - так, что здесь тоже скорее всего всё в порядке. Необходимо поменять тип данных на DataTime, где присутствуют даты, и некоторые числовые данные поменять на int. Проанализируем таблицы на корректность имеющихся в них  данных и дубликаты."
   ]
  },
  {
   "cell_type": "markdown",
   "id": "d4c49901",
   "metadata": {},
   "source": [
    "##  Подготовка данных"
   ]
  },
  {
   "cell_type": "markdown",
   "id": "a921493f",
   "metadata": {},
   "source": [
    "###  Исправление ошибок в данных"
   ]
  },
  {
   "cell_type": "markdown",
   "id": "0b35d1f5",
   "metadata": {},
   "source": [
    "**Таблица users**"
   ]
  },
  {
   "cell_type": "markdown",
   "id": "150486d9",
   "metadata": {},
   "source": [
    "Посчитаем уникальных пользователей в таблице users."
   ]
  },
  {
   "cell_type": "code",
   "execution_count": 4,
   "id": "bffab4b0",
   "metadata": {
    "scrolled": true
   },
   "outputs": [
    {
     "name": "stdout",
     "output_type": "stream",
     "text": [
      "Номер первого пользователя 1000\n",
      "Номер последнего пользователя 1499\n",
      "Количество уникальных пользователей =  500\n"
     ]
    }
   ],
   "source": [
    "print('Номер первого пользователя', users.user_id.min())\n",
    "print('Номер последнего пользователя', users.user_id.max())\n",
    "print('Количество уникальных пользователей = ', users.user_id.nunique())"
   ]
  },
  {
   "cell_type": "markdown",
   "id": "d36d3be7",
   "metadata": {},
   "source": [
    "Столбец корректный. Имеется 500 уникальных пользователей, упорядоченных от 1000 до 1499.  \n",
    "\n",
    "Проверим возраст пользователей."
   ]
  },
  {
   "cell_type": "code",
   "execution_count": 5,
   "id": "11531409",
   "metadata": {},
   "outputs": [
    {
     "data": {
      "text/plain": [
       "count    500.00000\n",
       "mean      46.58800\n",
       "std       16.66763\n",
       "min       18.00000\n",
       "25%       32.00000\n",
       "50%       46.00000\n",
       "75%       62.00000\n",
       "max       75.00000\n",
       "Name: age, dtype: float64"
      ]
     },
     "execution_count": 5,
     "metadata": {},
     "output_type": "execute_result"
    }
   ],
   "source": [
    "users.age.describe()"
   ]
  },
  {
   "cell_type": "markdown",
   "id": "d9c9a962",
   "metadata": {},
   "source": [
    "Столбец с возрастом заполнен корректно. Самому молодому пользователю 18 лет, самому старшему - 75 лет.  \n",
    "\n",
    "В столбце 'churn_date' поменяем тип данных на datetime64."
   ]
  },
  {
   "cell_type": "code",
   "execution_count": 6,
   "id": "31be97d1",
   "metadata": {},
   "outputs": [],
   "source": [
    "users.churn_date = pd.to_datetime(users.churn_date, format='%Y-%m-%d')"
   ]
  },
  {
   "cell_type": "markdown",
   "id": "d0992c90",
   "metadata": {},
   "source": [
    "В столбце 'reg_date' поменяем тип данных на datetime64."
   ]
  },
  {
   "cell_type": "code",
   "execution_count": 7,
   "id": "e214df5c",
   "metadata": {},
   "outputs": [
    {
     "data": {
      "text/plain": [
       "count                     500\n",
       "unique                    270\n",
       "top       2018-05-28 00:00:00\n",
       "freq                        8\n",
       "first     2018-01-01 00:00:00\n",
       "last      2018-12-31 00:00:00\n",
       "Name: reg_date, dtype: object"
      ]
     },
     "execution_count": 7,
     "metadata": {},
     "output_type": "execute_result"
    }
   ],
   "source": [
    "users.reg_date = pd.to_datetime(users.reg_date, format='%Y-%m-%d')\n",
    "warnings.filterwarnings(\"ignore\")\n",
    "users.reg_date.describe() "
   ]
  },
  {
   "cell_type": "markdown",
   "id": "5b0b89dc",
   "metadata": {},
   "source": [
    "Все даты регистрации укладываются в 2018 год с 1 января по 31 декабря.  \n",
    "\n",
    "Проверим какие значения есть в столбце с тарифами."
   ]
  },
  {
   "cell_type": "code",
   "execution_count": 8,
   "id": "d17e5231",
   "metadata": {},
   "outputs": [
    {
     "data": {
      "text/plain": [
       "smart    351\n",
       "ultra    149\n",
       "Name: tariff, dtype: int64"
      ]
     },
     "execution_count": 8,
     "metadata": {},
     "output_type": "execute_result"
    }
   ],
   "source": [
    "users.tariff.value_counts()"
   ]
  },
  {
   "cell_type": "markdown",
   "id": "670e257e",
   "metadata": {},
   "source": [
    "Все верно, имеется только два тарифа: смарт и ультра. Причем тарифом смарт пользуется количество людей более чем в 2 раза превышающее пользователей тарифа ультра.  \n",
    "\n",
    "Теперь проверим таблицу на дубликаты."
   ]
  },
  {
   "cell_type": "code",
   "execution_count": 9,
   "id": "e0412db0",
   "metadata": {},
   "outputs": [
    {
     "name": "stdout",
     "output_type": "stream",
     "text": [
      "Количество дубликатов -  0\n"
     ]
    }
   ],
   "source": [
    "print('Количество дубликатов - ', users.duplicated().sum())"
   ]
  },
  {
   "cell_type": "code",
   "execution_count": 10,
   "id": "6600a225",
   "metadata": {},
   "outputs": [
    {
     "name": "stdout",
     "output_type": "stream",
     "text": [
      "<class 'pandas.core.frame.DataFrame'>\n",
      "RangeIndex: 500 entries, 0 to 499\n",
      "Data columns (total 8 columns):\n",
      " #   Column      Non-Null Count  Dtype         \n",
      "---  ------      --------------  -----         \n",
      " 0   user_id     500 non-null    int64         \n",
      " 1   age         500 non-null    int64         \n",
      " 2   churn_date  38 non-null     datetime64[ns]\n",
      " 3   city        500 non-null    object        \n",
      " 4   first_name  500 non-null    object        \n",
      " 5   last_name   500 non-null    object        \n",
      " 6   reg_date    500 non-null    datetime64[ns]\n",
      " 7   tariff      500 non-null    object        \n",
      "dtypes: datetime64[ns](2), int64(2), object(4)\n",
      "memory usage: 31.4+ KB\n"
     ]
    }
   ],
   "source": [
    "users.info()"
   ]
  },
  {
   "cell_type": "markdown",
   "id": "a64689df",
   "metadata": {},
   "source": [
    "Таблица подготовлена к дальнейшей работе."
   ]
  },
  {
   "cell_type": "markdown",
   "id": "d92689fb",
   "metadata": {},
   "source": [
    "**Таблица calls**  "
   ]
  },
  {
   "cell_type": "code",
   "execution_count": 11,
   "id": "54794357",
   "metadata": {},
   "outputs": [
    {
     "name": "stdout",
     "output_type": "stream",
     "text": [
      "<class 'pandas.core.frame.DataFrame'>\n",
      "RangeIndex: 202607 entries, 0 to 202606\n",
      "Data columns (total 4 columns):\n",
      " #   Column     Non-Null Count   Dtype  \n",
      "---  ------     --------------   -----  \n",
      " 0   id         202607 non-null  object \n",
      " 1   call_date  202607 non-null  object \n",
      " 2   duration   202607 non-null  float64\n",
      " 3   user_id    202607 non-null  int64  \n",
      "dtypes: float64(1), int64(1), object(2)\n",
      "memory usage: 6.2+ MB\n"
     ]
    }
   ],
   "source": [
    "calls.info()"
   ]
  },
  {
   "cell_type": "markdown",
   "id": "baad1e49",
   "metadata": {},
   "source": [
    "Проверим уникальность совершенных звонков по их id."
   ]
  },
  {
   "cell_type": "code",
   "execution_count": 12,
   "id": "6ac43c10",
   "metadata": {},
   "outputs": [
    {
     "data": {
      "text/plain": [
       "1000_0      1\n",
       "1344_881    1\n",
       "1344_883    1\n",
       "1344_884    1\n",
       "1344_885    1\n",
       "           ..\n",
       "1171_562    1\n",
       "1171_563    1\n",
       "1171_564    1\n",
       "1171_565    1\n",
       "1499_219    1\n",
       "Name: id, Length: 202607, dtype: int64"
      ]
     },
     "execution_count": 12,
     "metadata": {},
     "output_type": "execute_result"
    }
   ],
   "source": [
    "calls.id.value_counts()"
   ]
  },
  {
   "cell_type": "markdown",
   "id": "5b5c1c39",
   "metadata": {},
   "source": [
    "Каждый звонок уникален. Количество уникальных строк равно общему количеству строк в таблице."
   ]
  },
  {
   "cell_type": "markdown",
   "id": "591425c0",
   "metadata": {},
   "source": [
    "В столбце с датой звонка поменяем тип данных на datetime."
   ]
  },
  {
   "cell_type": "code",
   "execution_count": 13,
   "id": "34730d78",
   "metadata": {},
   "outputs": [],
   "source": [
    "calls.call_date = pd.to_datetime(calls.call_date, format='%Y-%m-%d')"
   ]
  },
  {
   "cell_type": "markdown",
   "id": "3a39920c",
   "metadata": {},
   "source": [
    "Проверим значения столбца с длительностью звонков."
   ]
  },
  {
   "cell_type": "code",
   "execution_count": 14,
   "id": "a9d0abd0",
   "metadata": {},
   "outputs": [
    {
     "data": {
      "text/plain": [
       "count    202607.000000\n",
       "mean          6.755887\n",
       "std           5.843365\n",
       "min           0.000000\n",
       "25%           1.300000\n",
       "50%           6.000000\n",
       "75%          10.700000\n",
       "max          38.000000\n",
       "Name: duration, dtype: float64"
      ]
     },
     "execution_count": 14,
     "metadata": {},
     "output_type": "execute_result"
    }
   ],
   "source": [
    "calls.duration.describe()"
   ]
  },
  {
   "cell_type": "markdown",
   "id": "76250250",
   "metadata": {},
   "source": [
    "Значения выглядят правдоподобно. Имеются вызовы с нулевой продолжительность - это, скорее всего, пользователь не дозвонился или произведен сброс звонка. Так как в тарифах установлена поминутная тарификация, то округлим значения стобца до целых минут в большую сторону."
   ]
  },
  {
   "cell_type": "code",
   "execution_count": 15,
   "id": "f4165ebd",
   "metadata": {},
   "outputs": [],
   "source": [
    "def ceil_value(value):\n",
    "    '''Функция принимает значение в виде десятичной дроби, \n",
    "    и возвращает в виде целого числа, с округлением в \n",
    "    большую сторону'''\n",
    "    return math.ceil(value)\n",
    "\n",
    "calls['duration'] = calls['duration'].apply(ceil_value)"
   ]
  },
  {
   "cell_type": "markdown",
   "id": "698d2191",
   "metadata": {},
   "source": [
    "Проверим столбец 'users_id'"
   ]
  },
  {
   "cell_type": "code",
   "execution_count": 16,
   "id": "99b0c323",
   "metadata": {
    "scrolled": true
   },
   "outputs": [
    {
     "name": "stdout",
     "output_type": "stream",
     "text": [
      "Номер первого пользователя 1000\n",
      "Номер последнего пользователя 1499\n",
      "Количество уникальных пользователей =  492\n"
     ]
    }
   ],
   "source": [
    "print('Номер первого пользователя', calls.user_id.min())\n",
    "print('Номер последнего пользователя', calls.user_id.max())\n",
    "print('Количество уникальных пользователей = ', calls.user_id.nunique())"
   ]
  },
  {
   "cell_type": "markdown",
   "id": "3a61727d",
   "metadata": {},
   "source": [
    "Судя по последнему номеру пользователя, их количество совпадает с таблицей users, но имеется 8 человек, которые не совершали звонков за целый год. Вероятно, они пользуются только интернетом. Посмотрим на этих пользователей."
   ]
  },
  {
   "cell_type": "code",
   "execution_count": 17,
   "id": "8f47e79f",
   "metadata": {},
   "outputs": [
    {
     "name": "stdout",
     "output_type": "stream",
     "text": [
      "[1091, 1106, 1128, 1231, 1328, 1371, 1473, 1489]\n"
     ]
    }
   ],
   "source": [
    "not_call = []\n",
    "for i in users['user_id']:\n",
    "    if i not in calls['user_id'].unique(): \n",
    "        not_call.append(i) \n",
    "print(not_call)"
   ]
  },
  {
   "cell_type": "code",
   "execution_count": 18,
   "id": "d159a121",
   "metadata": {},
   "outputs": [
    {
     "data": {
      "text/html": [
       "<div>\n",
       "<style scoped>\n",
       "    .dataframe tbody tr th:only-of-type {\n",
       "        vertical-align: middle;\n",
       "    }\n",
       "\n",
       "    .dataframe tbody tr th {\n",
       "        vertical-align: top;\n",
       "    }\n",
       "\n",
       "    .dataframe thead th {\n",
       "        text-align: right;\n",
       "    }\n",
       "</style>\n",
       "<table border=\"1\" class=\"dataframe\">\n",
       "  <thead>\n",
       "    <tr style=\"text-align: right;\">\n",
       "      <th></th>\n",
       "      <th>user_id</th>\n",
       "      <th>age</th>\n",
       "      <th>churn_date</th>\n",
       "      <th>city</th>\n",
       "      <th>first_name</th>\n",
       "      <th>last_name</th>\n",
       "      <th>reg_date</th>\n",
       "      <th>tariff</th>\n",
       "    </tr>\n",
       "  </thead>\n",
       "  <tbody>\n",
       "    <tr>\n",
       "      <th>91</th>\n",
       "      <td>1091</td>\n",
       "      <td>36</td>\n",
       "      <td>NaT</td>\n",
       "      <td>Набережные Челны</td>\n",
       "      <td>Вера</td>\n",
       "      <td>Суслова</td>\n",
       "      <td>2018-05-08</td>\n",
       "      <td>ultra</td>\n",
       "    </tr>\n",
       "    <tr>\n",
       "      <th>106</th>\n",
       "      <td>1106</td>\n",
       "      <td>67</td>\n",
       "      <td>NaT</td>\n",
       "      <td>Калуга</td>\n",
       "      <td>Исаак</td>\n",
       "      <td>Костин</td>\n",
       "      <td>2018-04-26</td>\n",
       "      <td>ultra</td>\n",
       "    </tr>\n",
       "    <tr>\n",
       "      <th>128</th>\n",
       "      <td>1128</td>\n",
       "      <td>51</td>\n",
       "      <td>2018-12-23</td>\n",
       "      <td>Волжский</td>\n",
       "      <td>Ксения</td>\n",
       "      <td>Агаева</td>\n",
       "      <td>2018-12-15</td>\n",
       "      <td>ultra</td>\n",
       "    </tr>\n",
       "    <tr>\n",
       "      <th>231</th>\n",
       "      <td>1231</td>\n",
       "      <td>63</td>\n",
       "      <td>NaT</td>\n",
       "      <td>Чебоксары</td>\n",
       "      <td>Касьян</td>\n",
       "      <td>Авдюков</td>\n",
       "      <td>2018-05-23</td>\n",
       "      <td>ultra</td>\n",
       "    </tr>\n",
       "    <tr>\n",
       "      <th>328</th>\n",
       "      <td>1328</td>\n",
       "      <td>44</td>\n",
       "      <td>NaT</td>\n",
       "      <td>Мурманск</td>\n",
       "      <td>Рауль</td>\n",
       "      <td>Аркадьев</td>\n",
       "      <td>2018-10-16</td>\n",
       "      <td>ultra</td>\n",
       "    </tr>\n",
       "    <tr>\n",
       "      <th>371</th>\n",
       "      <td>1371</td>\n",
       "      <td>50</td>\n",
       "      <td>2018-12-30</td>\n",
       "      <td>Омск</td>\n",
       "      <td>Ириней</td>\n",
       "      <td>Трофимов</td>\n",
       "      <td>2018-12-25</td>\n",
       "      <td>smart</td>\n",
       "    </tr>\n",
       "    <tr>\n",
       "      <th>473</th>\n",
       "      <td>1473</td>\n",
       "      <td>18</td>\n",
       "      <td>NaT</td>\n",
       "      <td>Красноярск</td>\n",
       "      <td>Николай</td>\n",
       "      <td>Лебедев</td>\n",
       "      <td>2018-08-05</td>\n",
       "      <td>ultra</td>\n",
       "    </tr>\n",
       "    <tr>\n",
       "      <th>489</th>\n",
       "      <td>1489</td>\n",
       "      <td>35</td>\n",
       "      <td>NaT</td>\n",
       "      <td>Санкт-Петербург</td>\n",
       "      <td>Павел</td>\n",
       "      <td>Гончаров</td>\n",
       "      <td>2018-08-15</td>\n",
       "      <td>smart</td>\n",
       "    </tr>\n",
       "  </tbody>\n",
       "</table>\n",
       "</div>"
      ],
      "text/plain": [
       "     user_id  age churn_date              city first_name last_name  \\\n",
       "91      1091   36        NaT  Набережные Челны       Вера   Суслова   \n",
       "106     1106   67        NaT            Калуга      Исаак    Костин   \n",
       "128     1128   51 2018-12-23          Волжский     Ксения    Агаева   \n",
       "231     1231   63        NaT         Чебоксары     Касьян   Авдюков   \n",
       "328     1328   44        NaT          Мурманск      Рауль  Аркадьев   \n",
       "371     1371   50 2018-12-30              Омск     Ириней  Трофимов   \n",
       "473     1473   18        NaT        Красноярск    Николай   Лебедев   \n",
       "489     1489   35        NaT   Санкт-Петербург      Павел  Гончаров   \n",
       "\n",
       "      reg_date tariff  \n",
       "91  2018-05-08  ultra  \n",
       "106 2018-04-26  ultra  \n",
       "128 2018-12-15  ultra  \n",
       "231 2018-05-23  ultra  \n",
       "328 2018-10-16  ultra  \n",
       "371 2018-12-25  smart  \n",
       "473 2018-08-05  ultra  \n",
       "489 2018-08-15  smart  "
      ]
     },
     "execution_count": 18,
     "metadata": {},
     "output_type": "execute_result"
    }
   ],
   "source": [
    "users[users['user_id'].isin([1091, 1106, 1128, 1231, 1328, 1371, 1473, 1489])]"
   ]
  },
  {
   "cell_type": "code",
   "execution_count": 19,
   "id": "883f896d",
   "metadata": {},
   "outputs": [
    {
     "name": "stdout",
     "output_type": "stream",
     "text": [
      "<class 'pandas.core.frame.DataFrame'>\n",
      "RangeIndex: 202607 entries, 0 to 202606\n",
      "Data columns (total 4 columns):\n",
      " #   Column     Non-Null Count   Dtype         \n",
      "---  ------     --------------   -----         \n",
      " 0   id         202607 non-null  object        \n",
      " 1   call_date  202607 non-null  datetime64[ns]\n",
      " 2   duration   202607 non-null  int64         \n",
      " 3   user_id    202607 non-null  int64         \n",
      "dtypes: datetime64[ns](1), int64(2), object(1)\n",
      "memory usage: 6.2+ MB\n"
     ]
    }
   ],
   "source": [
    "calls.info()"
   ]
  },
  {
   "cell_type": "markdown",
   "id": "817e6357",
   "metadata": {},
   "source": [
    "Таблица подготовлена к дальнейшей работе."
   ]
  },
  {
   "cell_type": "markdown",
   "id": "25617fe0",
   "metadata": {},
   "source": [
    "**Таблица messages**"
   ]
  },
  {
   "cell_type": "code",
   "execution_count": 20,
   "id": "1b84f43f",
   "metadata": {},
   "outputs": [
    {
     "name": "stdout",
     "output_type": "stream",
     "text": [
      "<class 'pandas.core.frame.DataFrame'>\n",
      "RangeIndex: 123036 entries, 0 to 123035\n",
      "Data columns (total 3 columns):\n",
      " #   Column        Non-Null Count   Dtype \n",
      "---  ------        --------------   ----- \n",
      " 0   id            123036 non-null  object\n",
      " 1   message_date  123036 non-null  object\n",
      " 2   user_id       123036 non-null  int64 \n",
      "dtypes: int64(1), object(2)\n",
      "memory usage: 2.8+ MB\n"
     ]
    }
   ],
   "source": [
    "messages.info()"
   ]
  },
  {
   "cell_type": "markdown",
   "id": "b77f5015",
   "metadata": {},
   "source": [
    "Проверим уникальность отправленных сообщений по их id."
   ]
  },
  {
   "cell_type": "code",
   "execution_count": 21,
   "id": "a173a031",
   "metadata": {},
   "outputs": [
    {
     "data": {
      "text/plain": [
       "1000_0      1\n",
       "1344_248    1\n",
       "1344_96     1\n",
       "1344_95     1\n",
       "1344_94     1\n",
       "           ..\n",
       "1174_352    1\n",
       "1174_351    1\n",
       "1174_350    1\n",
       "1174_349    1\n",
       "1499_183    1\n",
       "Name: id, Length: 123036, dtype: int64"
      ]
     },
     "execution_count": 21,
     "metadata": {},
     "output_type": "execute_result"
    }
   ],
   "source": [
    "messages.id.value_counts()"
   ]
  },
  {
   "cell_type": "markdown",
   "id": "1b980f23",
   "metadata": {},
   "source": [
    "Каждое сообщение уникально. Количество уникальных строк равно общему количеству строк в таблице.  \n",
    "\n",
    "В столбце с датой отправки сообщения поменяем тип данных на datetime."
   ]
  },
  {
   "cell_type": "code",
   "execution_count": 22,
   "id": "3c2f5d2f",
   "metadata": {},
   "outputs": [],
   "source": [
    "messages.message_date = pd.to_datetime(messages.message_date, format='%Y-%m-%d')"
   ]
  },
  {
   "cell_type": "markdown",
   "id": "08d1963b",
   "metadata": {},
   "source": [
    "Проверим столбец 'users_id'"
   ]
  },
  {
   "cell_type": "code",
   "execution_count": 23,
   "id": "25e4ebf9",
   "metadata": {},
   "outputs": [
    {
     "name": "stdout",
     "output_type": "stream",
     "text": [
      "Номер первого пользователя 1000\n",
      "Номер последнего пользователя 1499\n",
      "Количество уникальных пользователей =  426\n"
     ]
    }
   ],
   "source": [
    "print('Номер первого пользователя', messages.user_id.min())\n",
    "print('Номер последнего пользователя', messages.user_id.max())\n",
    "print('Количество уникальных пользователей = ', messages.user_id.nunique())"
   ]
  },
  {
   "cell_type": "markdown",
   "id": "ecf4e80a",
   "metadata": {},
   "source": [
    "Снова видим, что количество пользователей 500 человек с номером id от 1000 до 1499, но 74 человека не пользовались за 2018 год услугой по отправке SMS."
   ]
  },
  {
   "cell_type": "code",
   "execution_count": 24,
   "id": "f6aea946",
   "metadata": {},
   "outputs": [
    {
     "name": "stdout",
     "output_type": "stream",
     "text": [
      "<class 'pandas.core.frame.DataFrame'>\n",
      "RangeIndex: 123036 entries, 0 to 123035\n",
      "Data columns (total 3 columns):\n",
      " #   Column        Non-Null Count   Dtype         \n",
      "---  ------        --------------   -----         \n",
      " 0   id            123036 non-null  object        \n",
      " 1   message_date  123036 non-null  datetime64[ns]\n",
      " 2   user_id       123036 non-null  int64         \n",
      "dtypes: datetime64[ns](1), int64(1), object(1)\n",
      "memory usage: 2.8+ MB\n"
     ]
    }
   ],
   "source": [
    "messages.info()"
   ]
  },
  {
   "cell_type": "markdown",
   "id": "de95f8c5",
   "metadata": {},
   "source": [
    "Таблица подготовлена к дальнейшей работе."
   ]
  },
  {
   "cell_type": "markdown",
   "id": "cebe7c87",
   "metadata": {},
   "source": [
    "**Таблица internet**"
   ]
  },
  {
   "cell_type": "code",
   "execution_count": 25,
   "id": "0cc233cd",
   "metadata": {},
   "outputs": [
    {
     "name": "stdout",
     "output_type": "stream",
     "text": [
      "<class 'pandas.core.frame.DataFrame'>\n",
      "RangeIndex: 149396 entries, 0 to 149395\n",
      "Data columns (total 5 columns):\n",
      " #   Column        Non-Null Count   Dtype  \n",
      "---  ------        --------------   -----  \n",
      " 0   Unnamed: 0    149396 non-null  int64  \n",
      " 1   id            149396 non-null  object \n",
      " 2   mb_used       149396 non-null  float64\n",
      " 3   session_date  149396 non-null  object \n",
      " 4   user_id       149396 non-null  int64  \n",
      "dtypes: float64(1), int64(2), object(2)\n",
      "memory usage: 5.7+ MB\n"
     ]
    }
   ],
   "source": [
    "internet.info()"
   ]
  },
  {
   "cell_type": "markdown",
   "id": "de64daa4",
   "metadata": {},
   "source": [
    "В таблице присутствует безымянный столбец, который дублирует индексы. Удалим его, так как он не понадобится в дальнейшей работе."
   ]
  },
  {
   "cell_type": "code",
   "execution_count": 26,
   "id": "5e465d40",
   "metadata": {},
   "outputs": [],
   "source": [
    "internet.drop('Unnamed: 0', axis=1, inplace=True)"
   ]
  },
  {
   "cell_type": "markdown",
   "id": "046a3d28",
   "metadata": {},
   "source": [
    "Проверим уникальность интернет-сессий по их id."
   ]
  },
  {
   "cell_type": "code",
   "execution_count": 27,
   "id": "97fa5473",
   "metadata": {},
   "outputs": [
    {
     "data": {
      "text/plain": [
       "1000_0      1\n",
       "1333_109    1\n",
       "1334_0      1\n",
       "1334_1      1\n",
       "1334_2      1\n",
       "           ..\n",
       "1172_80     1\n",
       "1172_81     1\n",
       "1172_82     1\n",
       "1172_83     1\n",
       "1499_156    1\n",
       "Name: id, Length: 149396, dtype: int64"
      ]
     },
     "execution_count": 27,
     "metadata": {},
     "output_type": "execute_result"
    }
   ],
   "source": [
    "internet.id.value_counts()"
   ]
  },
  {
   "cell_type": "markdown",
   "id": "902cb718",
   "metadata": {},
   "source": [
    "Каждая интернет-сессия уникальна. Количество уникальных строк равно общему количеству строк в таблице.  \n",
    "\n",
    "Проверим значения столбца с объемом интернет-трафика."
   ]
  },
  {
   "cell_type": "code",
   "execution_count": 28,
   "id": "2c76db9f",
   "metadata": {},
   "outputs": [
    {
     "data": {
      "text/plain": [
       "count    149396.000000\n",
       "mean        370.192426\n",
       "std         278.300951\n",
       "min           0.000000\n",
       "25%         138.187500\n",
       "50%         348.015000\n",
       "75%         559.552500\n",
       "max        1724.830000\n",
       "Name: mb_used, dtype: float64"
      ]
     },
     "execution_count": 28,
     "metadata": {},
     "output_type": "execute_result"
    }
   ],
   "source": [
    "internet.mb_used.describe()"
   ]
  },
  {
   "cell_type": "markdown",
   "id": "54d4b884",
   "metadata": {},
   "source": [
    "Данные выглядят реалистично. Имеется минимальное значение 0 Мб, но это, скорее всего, прерванное соединение.  \n",
    "Так как компания «Мегалайн» всегда округляет вверх значения мегабайтов, то округлим в большую сторону все значения столбца и поменяем тип на целочисленный."
   ]
  },
  {
   "cell_type": "code",
   "execution_count": 29,
   "id": "10dff727",
   "metadata": {},
   "outputs": [],
   "source": [
    "internet['mb_used'] = internet['mb_used'].apply(ceil_value)"
   ]
  },
  {
   "cell_type": "markdown",
   "id": "ffe734c4",
   "metadata": {},
   "source": [
    "В столбце с датой интернет-сессии поменяем тип данных на datetime."
   ]
  },
  {
   "cell_type": "code",
   "execution_count": 30,
   "id": "ad9f6d70",
   "metadata": {},
   "outputs": [],
   "source": [
    "internet.session_date = pd.to_datetime(internet.session_date, format='%Y-%m-%d')"
   ]
  },
  {
   "cell_type": "markdown",
   "id": "af7b34e0",
   "metadata": {},
   "source": [
    "Проверим столбец 'users_id'"
   ]
  },
  {
   "cell_type": "code",
   "execution_count": 31,
   "id": "33c316ca",
   "metadata": {},
   "outputs": [
    {
     "name": "stdout",
     "output_type": "stream",
     "text": [
      "Номер первого пользователя 1000\n",
      "Номер последнего пользователя 1499\n",
      "Количество уникальных пользователей =  497\n"
     ]
    }
   ],
   "source": [
    "print('Номер первого пользователя', internet.user_id.min())\n",
    "print('Номер последнего пользователя', internet.user_id.max())\n",
    "print('Количество уникальных пользователей = ', internet.user_id.nunique())"
   ]
  },
  {
   "cell_type": "markdown",
   "id": "8cff2a41",
   "metadata": {},
   "source": [
    "Количество пользователей 500 человек. Трое абонентов в 2018 году не пользовались интернетом."
   ]
  },
  {
   "cell_type": "code",
   "execution_count": 32,
   "id": "5b3be198",
   "metadata": {},
   "outputs": [
    {
     "name": "stdout",
     "output_type": "stream",
     "text": [
      "<class 'pandas.core.frame.DataFrame'>\n",
      "RangeIndex: 149396 entries, 0 to 149395\n",
      "Data columns (total 4 columns):\n",
      " #   Column        Non-Null Count   Dtype         \n",
      "---  ------        --------------   -----         \n",
      " 0   id            149396 non-null  object        \n",
      " 1   mb_used       149396 non-null  int64         \n",
      " 2   session_date  149396 non-null  datetime64[ns]\n",
      " 3   user_id       149396 non-null  int64         \n",
      "dtypes: datetime64[ns](1), int64(2), object(1)\n",
      "memory usage: 4.6+ MB\n"
     ]
    }
   ],
   "source": [
    "internet.info()"
   ]
  },
  {
   "cell_type": "markdown",
   "id": "b1b7cac0",
   "metadata": {},
   "source": [
    "Таблица подготовлена к дальнейшей работе."
   ]
  },
  {
   "cell_type": "markdown",
   "id": "83734ae0",
   "metadata": {},
   "source": [
    "**Таблица tariffs**"
   ]
  },
  {
   "cell_type": "code",
   "execution_count": 33,
   "id": "ac8b7802",
   "metadata": {},
   "outputs": [
    {
     "data": {
      "text/html": [
       "<div>\n",
       "<style scoped>\n",
       "    .dataframe tbody tr th:only-of-type {\n",
       "        vertical-align: middle;\n",
       "    }\n",
       "\n",
       "    .dataframe tbody tr th {\n",
       "        vertical-align: top;\n",
       "    }\n",
       "\n",
       "    .dataframe thead th {\n",
       "        text-align: right;\n",
       "    }\n",
       "</style>\n",
       "<table border=\"1\" class=\"dataframe\">\n",
       "  <thead>\n",
       "    <tr style=\"text-align: right;\">\n",
       "      <th></th>\n",
       "      <th>messages_included</th>\n",
       "      <th>mb_per_month_included</th>\n",
       "      <th>minutes_included</th>\n",
       "      <th>rub_monthly_fee</th>\n",
       "      <th>rub_per_gb</th>\n",
       "      <th>rub_per_message</th>\n",
       "      <th>rub_per_minute</th>\n",
       "      <th>tariff_name</th>\n",
       "    </tr>\n",
       "  </thead>\n",
       "  <tbody>\n",
       "    <tr>\n",
       "      <th>0</th>\n",
       "      <td>50</td>\n",
       "      <td>15360</td>\n",
       "      <td>500</td>\n",
       "      <td>550</td>\n",
       "      <td>200</td>\n",
       "      <td>3</td>\n",
       "      <td>3</td>\n",
       "      <td>smart</td>\n",
       "    </tr>\n",
       "    <tr>\n",
       "      <th>1</th>\n",
       "      <td>1000</td>\n",
       "      <td>30720</td>\n",
       "      <td>3000</td>\n",
       "      <td>1950</td>\n",
       "      <td>150</td>\n",
       "      <td>1</td>\n",
       "      <td>1</td>\n",
       "      <td>ultra</td>\n",
       "    </tr>\n",
       "  </tbody>\n",
       "</table>\n",
       "</div>"
      ],
      "text/plain": [
       "   messages_included  mb_per_month_included  minutes_included  \\\n",
       "0                 50                  15360               500   \n",
       "1               1000                  30720              3000   \n",
       "\n",
       "   rub_monthly_fee  rub_per_gb  rub_per_message  rub_per_minute tariff_name  \n",
       "0              550         200                3               3       smart  \n",
       "1             1950         150                1               1       ultra  "
      ]
     },
     "metadata": {},
     "output_type": "display_data"
    },
    {
     "name": "stdout",
     "output_type": "stream",
     "text": [
      "<class 'pandas.core.frame.DataFrame'>\n",
      "RangeIndex: 2 entries, 0 to 1\n",
      "Data columns (total 8 columns):\n",
      " #   Column                 Non-Null Count  Dtype \n",
      "---  ------                 --------------  ----- \n",
      " 0   messages_included      2 non-null      int64 \n",
      " 1   mb_per_month_included  2 non-null      int64 \n",
      " 2   minutes_included       2 non-null      int64 \n",
      " 3   rub_monthly_fee        2 non-null      int64 \n",
      " 4   rub_per_gb             2 non-null      int64 \n",
      " 5   rub_per_message        2 non-null      int64 \n",
      " 6   rub_per_minute         2 non-null      int64 \n",
      " 7   tariff_name            2 non-null      object\n",
      "dtypes: int64(7), object(1)\n",
      "memory usage: 256.0+ bytes\n"
     ]
    }
   ],
   "source": [
    "display(tariffs)\n",
    "tariffs.info()"
   ]
  },
  {
   "cell_type": "markdown",
   "id": "3cc59ca8",
   "metadata": {},
   "source": [
    "Таблица заполнена корректно. Типы данных изменять не нужно."
   ]
  },
  {
   "cell_type": "markdown",
   "id": "4062233d",
   "metadata": {},
   "source": [
    "### Расчёт необходимых показателей"
   ]
  },
  {
   "cell_type": "markdown",
   "id": "e00a3e5e",
   "metadata": {},
   "source": [
    "Чтобы рассчитать для каждого пользователя траты на связь по месяцам, создадим сводные таблицы, предварительно добавив в первоначальные таблицы столбец с номером месяца."
   ]
  },
  {
   "cell_type": "code",
   "execution_count": 34,
   "id": "02c4a441",
   "metadata": {},
   "outputs": [],
   "source": [
    "calls['month'] = pd.DatetimeIndex(calls['call_date']).month\n",
    "messages['month'] = pd.DatetimeIndex(messages['message_date']).month\n",
    "internet['month'] = pd.DatetimeIndex(internet['session_date']).month"
   ]
  },
  {
   "cell_type": "code",
   "execution_count": 35,
   "id": "477947bb",
   "metadata": {},
   "outputs": [
    {
     "data": {
      "text/html": [
       "<div>\n",
       "<style scoped>\n",
       "    .dataframe tbody tr th:only-of-type {\n",
       "        vertical-align: middle;\n",
       "    }\n",
       "\n",
       "    .dataframe tbody tr th {\n",
       "        vertical-align: top;\n",
       "    }\n",
       "\n",
       "    .dataframe thead th {\n",
       "        text-align: right;\n",
       "    }\n",
       "</style>\n",
       "<table border=\"1\" class=\"dataframe\">\n",
       "  <thead>\n",
       "    <tr style=\"text-align: right;\">\n",
       "      <th></th>\n",
       "      <th>user_id</th>\n",
       "      <th>month</th>\n",
       "      <th>calls</th>\n",
       "      <th>minutes</th>\n",
       "    </tr>\n",
       "  </thead>\n",
       "  <tbody>\n",
       "    <tr>\n",
       "      <th>0</th>\n",
       "      <td>1000</td>\n",
       "      <td>5</td>\n",
       "      <td>22</td>\n",
       "      <td>159</td>\n",
       "    </tr>\n",
       "    <tr>\n",
       "      <th>1</th>\n",
       "      <td>1000</td>\n",
       "      <td>6</td>\n",
       "      <td>43</td>\n",
       "      <td>172</td>\n",
       "    </tr>\n",
       "    <tr>\n",
       "      <th>2</th>\n",
       "      <td>1000</td>\n",
       "      <td>7</td>\n",
       "      <td>47</td>\n",
       "      <td>340</td>\n",
       "    </tr>\n",
       "    <tr>\n",
       "      <th>3</th>\n",
       "      <td>1000</td>\n",
       "      <td>8</td>\n",
       "      <td>52</td>\n",
       "      <td>408</td>\n",
       "    </tr>\n",
       "    <tr>\n",
       "      <th>4</th>\n",
       "      <td>1000</td>\n",
       "      <td>9</td>\n",
       "      <td>58</td>\n",
       "      <td>466</td>\n",
       "    </tr>\n",
       "  </tbody>\n",
       "</table>\n",
       "</div>"
      ],
      "text/plain": [
       "   user_id  month  calls  minutes\n",
       "0     1000      5     22      159\n",
       "1     1000      6     43      172\n",
       "2     1000      7     47      340\n",
       "3     1000      8     52      408\n",
       "4     1000      9     58      466"
      ]
     },
     "metadata": {},
     "output_type": "display_data"
    },
    {
     "data": {
      "text/html": [
       "<div>\n",
       "<style scoped>\n",
       "    .dataframe tbody tr th:only-of-type {\n",
       "        vertical-align: middle;\n",
       "    }\n",
       "\n",
       "    .dataframe tbody tr th {\n",
       "        vertical-align: top;\n",
       "    }\n",
       "\n",
       "    .dataframe thead th {\n",
       "        text-align: right;\n",
       "    }\n",
       "</style>\n",
       "<table border=\"1\" class=\"dataframe\">\n",
       "  <thead>\n",
       "    <tr style=\"text-align: right;\">\n",
       "      <th></th>\n",
       "      <th>user_id</th>\n",
       "      <th>month</th>\n",
       "      <th>messages</th>\n",
       "    </tr>\n",
       "  </thead>\n",
       "  <tbody>\n",
       "    <tr>\n",
       "      <th>0</th>\n",
       "      <td>1000</td>\n",
       "      <td>5</td>\n",
       "      <td>22</td>\n",
       "    </tr>\n",
       "    <tr>\n",
       "      <th>1</th>\n",
       "      <td>1000</td>\n",
       "      <td>6</td>\n",
       "      <td>60</td>\n",
       "    </tr>\n",
       "    <tr>\n",
       "      <th>2</th>\n",
       "      <td>1000</td>\n",
       "      <td>7</td>\n",
       "      <td>75</td>\n",
       "    </tr>\n",
       "    <tr>\n",
       "      <th>3</th>\n",
       "      <td>1000</td>\n",
       "      <td>8</td>\n",
       "      <td>81</td>\n",
       "    </tr>\n",
       "    <tr>\n",
       "      <th>4</th>\n",
       "      <td>1000</td>\n",
       "      <td>9</td>\n",
       "      <td>57</td>\n",
       "    </tr>\n",
       "  </tbody>\n",
       "</table>\n",
       "</div>"
      ],
      "text/plain": [
       "   user_id  month  messages\n",
       "0     1000      5        22\n",
       "1     1000      6        60\n",
       "2     1000      7        75\n",
       "3     1000      8        81\n",
       "4     1000      9        57"
      ]
     },
     "metadata": {},
     "output_type": "display_data"
    },
    {
     "data": {
      "text/html": [
       "<div>\n",
       "<style scoped>\n",
       "    .dataframe tbody tr th:only-of-type {\n",
       "        vertical-align: middle;\n",
       "    }\n",
       "\n",
       "    .dataframe tbody tr th {\n",
       "        vertical-align: top;\n",
       "    }\n",
       "\n",
       "    .dataframe thead th {\n",
       "        text-align: right;\n",
       "    }\n",
       "</style>\n",
       "<table border=\"1\" class=\"dataframe\">\n",
       "  <thead>\n",
       "    <tr style=\"text-align: right;\">\n",
       "      <th></th>\n",
       "      <th>user_id</th>\n",
       "      <th>month</th>\n",
       "      <th>traffic</th>\n",
       "    </tr>\n",
       "  </thead>\n",
       "  <tbody>\n",
       "    <tr>\n",
       "      <th>0</th>\n",
       "      <td>1000</td>\n",
       "      <td>5</td>\n",
       "      <td>2256</td>\n",
       "    </tr>\n",
       "    <tr>\n",
       "      <th>1</th>\n",
       "      <td>1000</td>\n",
       "      <td>6</td>\n",
       "      <td>23257</td>\n",
       "    </tr>\n",
       "    <tr>\n",
       "      <th>2</th>\n",
       "      <td>1000</td>\n",
       "      <td>7</td>\n",
       "      <td>14016</td>\n",
       "    </tr>\n",
       "    <tr>\n",
       "      <th>3</th>\n",
       "      <td>1000</td>\n",
       "      <td>8</td>\n",
       "      <td>14070</td>\n",
       "    </tr>\n",
       "    <tr>\n",
       "      <th>4</th>\n",
       "      <td>1000</td>\n",
       "      <td>9</td>\n",
       "      <td>14581</td>\n",
       "    </tr>\n",
       "  </tbody>\n",
       "</table>\n",
       "</div>"
      ],
      "text/plain": [
       "   user_id  month  traffic\n",
       "0     1000      5     2256\n",
       "1     1000      6    23257\n",
       "2     1000      7    14016\n",
       "3     1000      8    14070\n",
       "4     1000      9    14581"
      ]
     },
     "metadata": {},
     "output_type": "display_data"
    }
   ],
   "source": [
    "calls_monthly = calls.groupby(['user_id', 'month'])['duration'].agg(['count','sum']).reset_index()\n",
    "calls_monthly.columns = ['user_id', 'month', 'calls', 'minutes']\n",
    "\n",
    "messages_monthly = messages.groupby(['user_id', 'month'])['id'].count().reset_index()\n",
    "messages_monthly.columns = ['user_id', 'month', 'messages']\n",
    "\n",
    "internet_monthly = internet.groupby(['user_id', 'month'])['mb_used'].sum().reset_index()\n",
    "internet_monthly.columns = ['user_id', 'month', 'traffic']\n",
    "\n",
    "display(calls_monthly.head(), messages_monthly.head(), internet_monthly.head())"
   ]
  },
  {
   "cell_type": "markdown",
   "id": "06375120",
   "metadata": {},
   "source": [
    "Для подсчета помесячной выручки с каждого пользователя, создадим объединенную таблицу stat, в которую войдут все траты на связь каждого пользователя. Затем добавим в эту таблицу столбец 'income' с помесячной выручкой."
   ]
  },
  {
   "cell_type": "code",
   "execution_count": 36,
   "id": "f9fc626e",
   "metadata": {
    "scrolled": true
   },
   "outputs": [
    {
     "data": {
      "text/html": [
       "<div>\n",
       "<style scoped>\n",
       "    .dataframe tbody tr th:only-of-type {\n",
       "        vertical-align: middle;\n",
       "    }\n",
       "\n",
       "    .dataframe tbody tr th {\n",
       "        vertical-align: top;\n",
       "    }\n",
       "\n",
       "    .dataframe thead th {\n",
       "        text-align: right;\n",
       "    }\n",
       "</style>\n",
       "<table border=\"1\" class=\"dataframe\">\n",
       "  <thead>\n",
       "    <tr style=\"text-align: right;\">\n",
       "      <th></th>\n",
       "      <th>user_id</th>\n",
       "      <th>month</th>\n",
       "      <th>calls</th>\n",
       "      <th>minutes</th>\n",
       "      <th>messages</th>\n",
       "      <th>traffic</th>\n",
       "      <th>age</th>\n",
       "      <th>churn_date</th>\n",
       "      <th>city</th>\n",
       "      <th>first_name</th>\n",
       "      <th>last_name</th>\n",
       "      <th>reg_date</th>\n",
       "      <th>tariff</th>\n",
       "    </tr>\n",
       "  </thead>\n",
       "  <tbody>\n",
       "    <tr>\n",
       "      <th>0</th>\n",
       "      <td>1000</td>\n",
       "      <td>5.0</td>\n",
       "      <td>22.0</td>\n",
       "      <td>159.0</td>\n",
       "      <td>22.0</td>\n",
       "      <td>2256.0</td>\n",
       "      <td>52</td>\n",
       "      <td>NaT</td>\n",
       "      <td>Краснодар</td>\n",
       "      <td>Рафаил</td>\n",
       "      <td>Верещагин</td>\n",
       "      <td>2018-05-25</td>\n",
       "      <td>ultra</td>\n",
       "    </tr>\n",
       "    <tr>\n",
       "      <th>1</th>\n",
       "      <td>1000</td>\n",
       "      <td>6.0</td>\n",
       "      <td>43.0</td>\n",
       "      <td>172.0</td>\n",
       "      <td>60.0</td>\n",
       "      <td>23257.0</td>\n",
       "      <td>52</td>\n",
       "      <td>NaT</td>\n",
       "      <td>Краснодар</td>\n",
       "      <td>Рафаил</td>\n",
       "      <td>Верещагин</td>\n",
       "      <td>2018-05-25</td>\n",
       "      <td>ultra</td>\n",
       "    </tr>\n",
       "    <tr>\n",
       "      <th>2</th>\n",
       "      <td>1000</td>\n",
       "      <td>7.0</td>\n",
       "      <td>47.0</td>\n",
       "      <td>340.0</td>\n",
       "      <td>75.0</td>\n",
       "      <td>14016.0</td>\n",
       "      <td>52</td>\n",
       "      <td>NaT</td>\n",
       "      <td>Краснодар</td>\n",
       "      <td>Рафаил</td>\n",
       "      <td>Верещагин</td>\n",
       "      <td>2018-05-25</td>\n",
       "      <td>ultra</td>\n",
       "    </tr>\n",
       "    <tr>\n",
       "      <th>3</th>\n",
       "      <td>1000</td>\n",
       "      <td>8.0</td>\n",
       "      <td>52.0</td>\n",
       "      <td>408.0</td>\n",
       "      <td>81.0</td>\n",
       "      <td>14070.0</td>\n",
       "      <td>52</td>\n",
       "      <td>NaT</td>\n",
       "      <td>Краснодар</td>\n",
       "      <td>Рафаил</td>\n",
       "      <td>Верещагин</td>\n",
       "      <td>2018-05-25</td>\n",
       "      <td>ultra</td>\n",
       "    </tr>\n",
       "    <tr>\n",
       "      <th>4</th>\n",
       "      <td>1000</td>\n",
       "      <td>9.0</td>\n",
       "      <td>58.0</td>\n",
       "      <td>466.0</td>\n",
       "      <td>57.0</td>\n",
       "      <td>14581.0</td>\n",
       "      <td>52</td>\n",
       "      <td>NaT</td>\n",
       "      <td>Краснодар</td>\n",
       "      <td>Рафаил</td>\n",
       "      <td>Верещагин</td>\n",
       "      <td>2018-05-25</td>\n",
       "      <td>ultra</td>\n",
       "    </tr>\n",
       "    <tr>\n",
       "      <th>...</th>\n",
       "      <td>...</td>\n",
       "      <td>...</td>\n",
       "      <td>...</td>\n",
       "      <td>...</td>\n",
       "      <td>...</td>\n",
       "      <td>...</td>\n",
       "      <td>...</td>\n",
       "      <td>...</td>\n",
       "      <td>...</td>\n",
       "      <td>...</td>\n",
       "      <td>...</td>\n",
       "      <td>...</td>\n",
       "      <td>...</td>\n",
       "    </tr>\n",
       "    <tr>\n",
       "      <th>3211</th>\n",
       "      <td>1489</td>\n",
       "      <td>10.0</td>\n",
       "      <td>NaN</td>\n",
       "      <td>NaN</td>\n",
       "      <td>21.0</td>\n",
       "      <td>19588.0</td>\n",
       "      <td>35</td>\n",
       "      <td>NaT</td>\n",
       "      <td>Санкт-Петербург</td>\n",
       "      <td>Павел</td>\n",
       "      <td>Гончаров</td>\n",
       "      <td>2018-08-15</td>\n",
       "      <td>smart</td>\n",
       "    </tr>\n",
       "    <tr>\n",
       "      <th>3212</th>\n",
       "      <td>1489</td>\n",
       "      <td>11.0</td>\n",
       "      <td>NaN</td>\n",
       "      <td>NaN</td>\n",
       "      <td>20.0</td>\n",
       "      <td>17516.0</td>\n",
       "      <td>35</td>\n",
       "      <td>NaT</td>\n",
       "      <td>Санкт-Петербург</td>\n",
       "      <td>Павел</td>\n",
       "      <td>Гончаров</td>\n",
       "      <td>2018-08-15</td>\n",
       "      <td>smart</td>\n",
       "    </tr>\n",
       "    <tr>\n",
       "      <th>3213</th>\n",
       "      <td>1489</td>\n",
       "      <td>12.0</td>\n",
       "      <td>NaN</td>\n",
       "      <td>NaN</td>\n",
       "      <td>35.0</td>\n",
       "      <td>17341.0</td>\n",
       "      <td>35</td>\n",
       "      <td>NaT</td>\n",
       "      <td>Санкт-Петербург</td>\n",
       "      <td>Павел</td>\n",
       "      <td>Гончаров</td>\n",
       "      <td>2018-08-15</td>\n",
       "      <td>smart</td>\n",
       "    </tr>\n",
       "    <tr>\n",
       "      <th>3214</th>\n",
       "      <td>1128</td>\n",
       "      <td>NaN</td>\n",
       "      <td>NaN</td>\n",
       "      <td>NaN</td>\n",
       "      <td>NaN</td>\n",
       "      <td>NaN</td>\n",
       "      <td>51</td>\n",
       "      <td>2018-12-23</td>\n",
       "      <td>Волжский</td>\n",
       "      <td>Ксения</td>\n",
       "      <td>Агаева</td>\n",
       "      <td>2018-12-15</td>\n",
       "      <td>ultra</td>\n",
       "    </tr>\n",
       "    <tr>\n",
       "      <th>3215</th>\n",
       "      <td>1371</td>\n",
       "      <td>NaN</td>\n",
       "      <td>NaN</td>\n",
       "      <td>NaN</td>\n",
       "      <td>NaN</td>\n",
       "      <td>NaN</td>\n",
       "      <td>50</td>\n",
       "      <td>2018-12-30</td>\n",
       "      <td>Омск</td>\n",
       "      <td>Ириней</td>\n",
       "      <td>Трофимов</td>\n",
       "      <td>2018-12-25</td>\n",
       "      <td>smart</td>\n",
       "    </tr>\n",
       "  </tbody>\n",
       "</table>\n",
       "<p>3216 rows × 13 columns</p>\n",
       "</div>"
      ],
      "text/plain": [
       "      user_id  month  calls  minutes  messages  traffic  age churn_date  \\\n",
       "0        1000    5.0   22.0    159.0      22.0   2256.0   52        NaT   \n",
       "1        1000    6.0   43.0    172.0      60.0  23257.0   52        NaT   \n",
       "2        1000    7.0   47.0    340.0      75.0  14016.0   52        NaT   \n",
       "3        1000    8.0   52.0    408.0      81.0  14070.0   52        NaT   \n",
       "4        1000    9.0   58.0    466.0      57.0  14581.0   52        NaT   \n",
       "...       ...    ...    ...      ...       ...      ...  ...        ...   \n",
       "3211     1489   10.0    NaN      NaN      21.0  19588.0   35        NaT   \n",
       "3212     1489   11.0    NaN      NaN      20.0  17516.0   35        NaT   \n",
       "3213     1489   12.0    NaN      NaN      35.0  17341.0   35        NaT   \n",
       "3214     1128    NaN    NaN      NaN       NaN      NaN   51 2018-12-23   \n",
       "3215     1371    NaN    NaN      NaN       NaN      NaN   50 2018-12-30   \n",
       "\n",
       "                 city first_name  last_name   reg_date tariff  \n",
       "0           Краснодар     Рафаил  Верещагин 2018-05-25  ultra  \n",
       "1           Краснодар     Рафаил  Верещагин 2018-05-25  ultra  \n",
       "2           Краснодар     Рафаил  Верещагин 2018-05-25  ultra  \n",
       "3           Краснодар     Рафаил  Верещагин 2018-05-25  ultra  \n",
       "4           Краснодар     Рафаил  Верещагин 2018-05-25  ultra  \n",
       "...               ...        ...        ...        ...    ...  \n",
       "3211  Санкт-Петербург      Павел   Гончаров 2018-08-15  smart  \n",
       "3212  Санкт-Петербург      Павел   Гончаров 2018-08-15  smart  \n",
       "3213  Санкт-Петербург      Павел   Гончаров 2018-08-15  smart  \n",
       "3214         Волжский     Ксения     Агаева 2018-12-15  ultra  \n",
       "3215             Омск     Ириней   Трофимов 2018-12-25  smart  \n",
       "\n",
       "[3216 rows x 13 columns]"
      ]
     },
     "execution_count": 36,
     "metadata": {},
     "output_type": "execute_result"
    }
   ],
   "source": [
    "# создадим таблицу stat, объединяя таблицы методом merge\n",
    "stat = pd.merge(calls_monthly, messages_monthly, how='outer', on=['user_id', 'month'])\n",
    "stat = pd.merge(stat, internet_monthly, how='outer', on=['user_id', 'month'])\n",
    "stat = pd.merge(stat, users, how='outer', on='user_id')\n",
    "stat"
   ]
  },
  {
   "cell_type": "markdown",
   "id": "6a81955d",
   "metadata": {},
   "source": [
    "Проверим пропуски в объединенной таблице."
   ]
  },
  {
   "cell_type": "code",
   "execution_count": 37,
   "id": "1fec8976",
   "metadata": {
    "scrolled": true
   },
   "outputs": [
    {
     "data": {
      "text/plain": [
       "user_id          0\n",
       "month            2\n",
       "calls           42\n",
       "minutes         42\n",
       "messages       499\n",
       "traffic         13\n",
       "age              0\n",
       "churn_date    3027\n",
       "city             0\n",
       "first_name       0\n",
       "last_name        0\n",
       "reg_date         0\n",
       "tariff           0\n",
       "dtype: int64"
      ]
     },
     "execution_count": 37,
     "metadata": {},
     "output_type": "execute_result"
    }
   ],
   "source": [
    "stat.isna().sum()"
   ]
  },
  {
   "cell_type": "markdown",
   "id": "2719f5d2",
   "metadata": {},
   "source": [
    "Пропуски в звонках, минутах, сообщениях и трафике понятны - это не использование услуги в конкретном месяце. Данные пропуски заменим на ноль. Но имеется два пропуска в столбце с номером месяца. Проверим с чем это связано."
   ]
  },
  {
   "cell_type": "code",
   "execution_count": 38,
   "id": "d09430df",
   "metadata": {},
   "outputs": [
    {
     "data": {
      "text/html": [
       "<div>\n",
       "<style scoped>\n",
       "    .dataframe tbody tr th:only-of-type {\n",
       "        vertical-align: middle;\n",
       "    }\n",
       "\n",
       "    .dataframe tbody tr th {\n",
       "        vertical-align: top;\n",
       "    }\n",
       "\n",
       "    .dataframe thead th {\n",
       "        text-align: right;\n",
       "    }\n",
       "</style>\n",
       "<table border=\"1\" class=\"dataframe\">\n",
       "  <thead>\n",
       "    <tr style=\"text-align: right;\">\n",
       "      <th></th>\n",
       "      <th>user_id</th>\n",
       "      <th>month</th>\n",
       "      <th>calls</th>\n",
       "      <th>minutes</th>\n",
       "      <th>messages</th>\n",
       "      <th>traffic</th>\n",
       "      <th>age</th>\n",
       "      <th>churn_date</th>\n",
       "      <th>city</th>\n",
       "      <th>first_name</th>\n",
       "      <th>last_name</th>\n",
       "      <th>reg_date</th>\n",
       "      <th>tariff</th>\n",
       "    </tr>\n",
       "  </thead>\n",
       "  <tbody>\n",
       "    <tr>\n",
       "      <th>3214</th>\n",
       "      <td>1128</td>\n",
       "      <td>NaN</td>\n",
       "      <td>NaN</td>\n",
       "      <td>NaN</td>\n",
       "      <td>NaN</td>\n",
       "      <td>NaN</td>\n",
       "      <td>51</td>\n",
       "      <td>2018-12-23</td>\n",
       "      <td>Волжский</td>\n",
       "      <td>Ксения</td>\n",
       "      <td>Агаева</td>\n",
       "      <td>2018-12-15</td>\n",
       "      <td>ultra</td>\n",
       "    </tr>\n",
       "    <tr>\n",
       "      <th>3215</th>\n",
       "      <td>1371</td>\n",
       "      <td>NaN</td>\n",
       "      <td>NaN</td>\n",
       "      <td>NaN</td>\n",
       "      <td>NaN</td>\n",
       "      <td>NaN</td>\n",
       "      <td>50</td>\n",
       "      <td>2018-12-30</td>\n",
       "      <td>Омск</td>\n",
       "      <td>Ириней</td>\n",
       "      <td>Трофимов</td>\n",
       "      <td>2018-12-25</td>\n",
       "      <td>smart</td>\n",
       "    </tr>\n",
       "  </tbody>\n",
       "</table>\n",
       "</div>"
      ],
      "text/plain": [
       "      user_id  month  calls  minutes  messages  traffic  age churn_date  \\\n",
       "3214     1128    NaN    NaN      NaN       NaN      NaN   51 2018-12-23   \n",
       "3215     1371    NaN    NaN      NaN       NaN      NaN   50 2018-12-30   \n",
       "\n",
       "          city first_name last_name   reg_date tariff  \n",
       "3214  Волжский     Ксения    Агаева 2018-12-15  ultra  \n",
       "3215      Омск     Ириней  Трофимов 2018-12-25  smart  "
      ]
     },
     "metadata": {},
     "output_type": "display_data"
    }
   ],
   "source": [
    "display(stat[stat['month'].isna()])"
   ]
  },
  {
   "cell_type": "markdown",
   "id": "bb220d3a",
   "metadata": {},
   "source": [
    "Дата регистрации показывает, что тариф приобрели в конце года. Значит заменим пропуск на декабрь, т.е. номер 12."
   ]
  },
  {
   "cell_type": "code",
   "execution_count": 39,
   "id": "54c51b7f",
   "metadata": {},
   "outputs": [
    {
     "data": {
      "text/plain": [
       "user_id          0\n",
       "month            0\n",
       "calls            0\n",
       "minutes          0\n",
       "messages         0\n",
       "traffic          0\n",
       "age              0\n",
       "churn_date    3027\n",
       "city             0\n",
       "first_name       0\n",
       "last_name        0\n",
       "reg_date         0\n",
       "tariff           0\n",
       "dtype: int64"
      ]
     },
     "execution_count": 39,
     "metadata": {},
     "output_type": "execute_result"
    }
   ],
   "source": [
    "stat.loc[:,['calls', 'minutes', 'messages', 'traffic']] = stat.loc[:,['calls', 'minutes', 'messages', 'traffic']].fillna(0)\n",
    "stat.loc[:,['month']] = stat.loc[:,['month']].fillna(12)\n",
    "stat.isna().sum()"
   ]
  },
  {
   "cell_type": "markdown",
   "id": "c2f64969",
   "metadata": {},
   "source": [
    "По заданию помесячная выручка с каждого пользователя рассчитывается так: *вычтите бесплатный лимит из суммарного количества звонков, сообщений и интернет-трафика; остаток умножьте на значение из тарифного плана; прибавьте абонентскую плату, соответствующую тарифному плану.* Для заполнения столбца 'income' создадим функцию."
   ]
  },
  {
   "cell_type": "code",
   "execution_count": 40,
   "id": "8f696891",
   "metadata": {},
   "outputs": [],
   "source": [
    "def income_monthly(table):\n",
    "    ''' Функция income_monthly рассчитывает помесячную выручку.\n",
    "    Под каждый тариф создано условие, в соответствии с которым\n",
    "    функция сначала считает выручку от каждого услуги, имеющейся \n",
    "    в тарифе, а затем, путем сложения, возвращает общую выручку'''\n",
    "        \n",
    "    if table['tariff'] == 'smart':\n",
    "        \n",
    "        inc_calls = (table['minutes'] - tariffs.loc[0,'minutes_included']) * tariffs.loc[0,'rub_per_minute']\n",
    "        if inc_calls < 0 :\n",
    "            inc_calls = 0\n",
    "        \n",
    "        inc_messages = (table['messages'] - tariffs.loc[0,'messages_included']) * tariffs.loc[0,'rub_per_message']\n",
    "        if inc_messages < 0 :\n",
    "            inc_messages = 0\n",
    "            \n",
    "        # так в тарифе учет интернет трафика идет в Гб, то разделим Мб на 1024\n",
    "        inc_traffic  = (table['traffic'] - tariffs.loc[0,'mb_per_month_included'])/1024 * tariffs.loc[0,'rub_per_gb'] \n",
    "        if inc_traffic < 0 :\n",
    "            inc_traffic = 0\n",
    "             \n",
    "        income = inc_calls + inc_messages + inc_traffic + tariffs.loc[0,'rub_monthly_fee']\n",
    "        \n",
    "    elif table['tariff'] == 'ultra':\n",
    "        \n",
    "        inc_calls = (table['minutes'] - tariffs.loc[1,'minutes_included']) * tariffs.loc[1,'rub_per_minute']\n",
    "        if inc_calls < 0 :\n",
    "            inc_calls = 0\n",
    "        \n",
    "        inc_messages = (table['messages'] - tariffs.loc[1,'messages_included']) * tariffs.loc[1,'rub_per_message']\n",
    "        if inc_messages < 0 :\n",
    "            inc_messages = 0\n",
    "        \n",
    "        inc_traffic  = (table['traffic'] - tariffs.loc[1,'mb_per_month_included'])/1024 * tariffs.loc[1,'rub_per_gb'] \n",
    "        if inc_traffic < 0 :\n",
    "            inc_traffic = 0\n",
    "             \n",
    "        income = inc_calls + inc_messages + inc_traffic + tariffs.loc[1,'rub_monthly_fee']\n",
    "        \n",
    "    else:\n",
    "        print('Ошибка')\n",
    "        \n",
    "    \n",
    "    return income\n",
    "\n",
    "stat['income'] = stat.apply(income_monthly, axis=1)"
   ]
  },
  {
   "cell_type": "code",
   "execution_count": 41,
   "id": "df1b7c58",
   "metadata": {},
   "outputs": [
    {
     "data": {
      "text/html": [
       "<div>\n",
       "<style scoped>\n",
       "    .dataframe tbody tr th:only-of-type {\n",
       "        vertical-align: middle;\n",
       "    }\n",
       "\n",
       "    .dataframe tbody tr th {\n",
       "        vertical-align: top;\n",
       "    }\n",
       "\n",
       "    .dataframe thead th {\n",
       "        text-align: right;\n",
       "    }\n",
       "</style>\n",
       "<table border=\"1\" class=\"dataframe\">\n",
       "  <thead>\n",
       "    <tr style=\"text-align: right;\">\n",
       "      <th></th>\n",
       "      <th>user_id</th>\n",
       "      <th>month</th>\n",
       "      <th>calls</th>\n",
       "      <th>minutes</th>\n",
       "      <th>messages</th>\n",
       "      <th>traffic</th>\n",
       "      <th>age</th>\n",
       "      <th>churn_date</th>\n",
       "      <th>city</th>\n",
       "      <th>first_name</th>\n",
       "      <th>last_name</th>\n",
       "      <th>reg_date</th>\n",
       "      <th>tariff</th>\n",
       "      <th>income</th>\n",
       "    </tr>\n",
       "  </thead>\n",
       "  <tbody>\n",
       "    <tr>\n",
       "      <th>1731</th>\n",
       "      <td>1277</td>\n",
       "      <td>8.0</td>\n",
       "      <td>32.0</td>\n",
       "      <td>185.0</td>\n",
       "      <td>131.0</td>\n",
       "      <td>23950.0</td>\n",
       "      <td>30</td>\n",
       "      <td>NaT</td>\n",
       "      <td>Новосибирск</td>\n",
       "      <td>Валерия</td>\n",
       "      <td>Андреенко</td>\n",
       "      <td>2018-02-19</td>\n",
       "      <td>ultra</td>\n",
       "      <td>1950.000000</td>\n",
       "    </tr>\n",
       "    <tr>\n",
       "      <th>3117</th>\n",
       "      <td>1490</td>\n",
       "      <td>5.0</td>\n",
       "      <td>56.0</td>\n",
       "      <td>339.0</td>\n",
       "      <td>37.0</td>\n",
       "      <td>21362.0</td>\n",
       "      <td>30</td>\n",
       "      <td>NaT</td>\n",
       "      <td>Москва</td>\n",
       "      <td>Радомир</td>\n",
       "      <td>Алесин</td>\n",
       "      <td>2018-04-03</td>\n",
       "      <td>smart</td>\n",
       "      <td>1722.265625</td>\n",
       "    </tr>\n",
       "    <tr>\n",
       "      <th>34</th>\n",
       "      <td>1005</td>\n",
       "      <td>5.0</td>\n",
       "      <td>73.0</td>\n",
       "      <td>595.0</td>\n",
       "      <td>42.0</td>\n",
       "      <td>7877.0</td>\n",
       "      <td>67</td>\n",
       "      <td>NaT</td>\n",
       "      <td>Набережные Челны</td>\n",
       "      <td>Афанасий</td>\n",
       "      <td>Горлов</td>\n",
       "      <td>2018-01-25</td>\n",
       "      <td>smart</td>\n",
       "      <td>835.000000</td>\n",
       "    </tr>\n",
       "    <tr>\n",
       "      <th>1143</th>\n",
       "      <td>1180</td>\n",
       "      <td>6.0</td>\n",
       "      <td>9.0</td>\n",
       "      <td>31.0</td>\n",
       "      <td>25.0</td>\n",
       "      <td>28177.0</td>\n",
       "      <td>27</td>\n",
       "      <td>NaT</td>\n",
       "      <td>Москва</td>\n",
       "      <td>Лев</td>\n",
       "      <td>Мишин</td>\n",
       "      <td>2018-02-02</td>\n",
       "      <td>ultra</td>\n",
       "      <td>1950.000000</td>\n",
       "    </tr>\n",
       "    <tr>\n",
       "      <th>1327</th>\n",
       "      <td>1210</td>\n",
       "      <td>7.0</td>\n",
       "      <td>11.0</td>\n",
       "      <td>72.0</td>\n",
       "      <td>0.0</td>\n",
       "      <td>2046.0</td>\n",
       "      <td>33</td>\n",
       "      <td>NaT</td>\n",
       "      <td>Севастополь</td>\n",
       "      <td>Евфросинья</td>\n",
       "      <td>Серебрякова</td>\n",
       "      <td>2018-07-29</td>\n",
       "      <td>smart</td>\n",
       "      <td>550.000000</td>\n",
       "    </tr>\n",
       "  </tbody>\n",
       "</table>\n",
       "</div>"
      ],
      "text/plain": [
       "      user_id  month  calls  minutes  messages  traffic  age churn_date  \\\n",
       "1731     1277    8.0   32.0    185.0     131.0  23950.0   30        NaT   \n",
       "3117     1490    5.0   56.0    339.0      37.0  21362.0   30        NaT   \n",
       "34       1005    5.0   73.0    595.0      42.0   7877.0   67        NaT   \n",
       "1143     1180    6.0    9.0     31.0      25.0  28177.0   27        NaT   \n",
       "1327     1210    7.0   11.0     72.0       0.0   2046.0   33        NaT   \n",
       "\n",
       "                  city  first_name    last_name   reg_date tariff       income  \n",
       "1731       Новосибирск     Валерия    Андреенко 2018-02-19  ultra  1950.000000  \n",
       "3117            Москва     Радомир       Алесин 2018-04-03  smart  1722.265625  \n",
       "34    Набережные Челны    Афанасий       Горлов 2018-01-25  smart   835.000000  \n",
       "1143            Москва         Лев        Мишин 2018-02-02  ultra  1950.000000  \n",
       "1327       Севастополь  Евфросинья  Серебрякова 2018-07-29  smart   550.000000  "
      ]
     },
     "execution_count": 41,
     "metadata": {},
     "output_type": "execute_result"
    }
   ],
   "source": [
    "stat.sample(5)"
   ]
  },
  {
   "cell_type": "markdown",
   "id": "f7fd546f",
   "metadata": {},
   "source": [
    "Округлим значения выручки до целого значения, так как оба тарифа предполагают оплату минут и мегабайтов, округленных до целого числа. После выполненных операций, в таблице изменились типы данных, устраним этот недочет."
   ]
  },
  {
   "cell_type": "code",
   "execution_count": 42,
   "id": "f09fdf21",
   "metadata": {},
   "outputs": [],
   "source": [
    "stat.income = stat.income.apply(ceil_value)\n",
    "stat = stat.astype({'month': 'int64',\n",
    "                   'calls': 'int64',\n",
    "                   'minutes': 'int64',\n",
    "                   'messages': 'int64',\n",
    "                   'traffic': 'int64'})"
   ]
  },
  {
   "cell_type": "code",
   "execution_count": 43,
   "id": "9902d229",
   "metadata": {},
   "outputs": [
    {
     "name": "stdout",
     "output_type": "stream",
     "text": [
      "<class 'pandas.core.frame.DataFrame'>\n",
      "Int64Index: 3216 entries, 0 to 3215\n",
      "Data columns (total 14 columns):\n",
      " #   Column      Non-Null Count  Dtype         \n",
      "---  ------      --------------  -----         \n",
      " 0   user_id     3216 non-null   int64         \n",
      " 1   month       3216 non-null   int64         \n",
      " 2   calls       3216 non-null   int64         \n",
      " 3   minutes     3216 non-null   int64         \n",
      " 4   messages    3216 non-null   int64         \n",
      " 5   traffic     3216 non-null   int64         \n",
      " 6   age         3216 non-null   int64         \n",
      " 7   churn_date  189 non-null    datetime64[ns]\n",
      " 8   city        3216 non-null   object        \n",
      " 9   first_name  3216 non-null   object        \n",
      " 10  last_name   3216 non-null   object        \n",
      " 11  reg_date    3216 non-null   datetime64[ns]\n",
      " 12  tariff      3216 non-null   object        \n",
      " 13  income      3216 non-null   int64         \n",
      "dtypes: datetime64[ns](2), int64(8), object(4)\n",
      "memory usage: 376.9+ KB\n"
     ]
    }
   ],
   "source": [
    "stat.info()"
   ]
  },
  {
   "cell_type": "markdown",
   "id": "8c05080b",
   "metadata": {},
   "source": [
    "### Вывод"
   ]
  },
  {
   "cell_type": "markdown",
   "id": "96550d5b",
   "metadata": {},
   "source": [
    "В ходе предобработки данных сохранен полный объем предоставленной информации. Был изменен тип данных на datetime в столбцах с информацией о датах: совершенного звонка, отправленного сообщения и интернет-сессии. Округлены в большую сторону(такие условия тарифа) данные о продолжительности звонка и объему интернет-трафика. Сгруппировал данные в 3 таблицы: calls_monthly, messages_monthly, internet_monthly и посчитал помесячную выручку с каждого пользователя. Путем объединения таблиц создал общую таблицу stat - в которую сгруппировал данные по каждому абоненту за каждый месяц пользования. Заполнили образовавшиеся пропуски. Рассчитал помесячную выручку за 2018 год для каждого пользователя."
   ]
  },
  {
   "cell_type": "markdown",
   "id": "551794c0",
   "metadata": {},
   "source": [
    "## Анализ данных"
   ]
  },
  {
   "cell_type": "markdown",
   "id": "5838df2f",
   "metadata": {},
   "source": [
    "Опишем поведение клиентов оператора, исходя из выборки. Разберемся сколько минут разговора, сколько сообщений и какой объём интернет-трафика требуется пользователям каждого тарифа в месяц. Посчитаем среднее количество, дисперсию и стандартное отклонение. Построим гистограммы и опишем распределения."
   ]
  },
  {
   "cell_type": "markdown",
   "id": "d71d6acd",
   "metadata": {},
   "source": [
    "### Рассмотрение показателей по тарифам и их распределение"
   ]
  },
  {
   "cell_type": "markdown",
   "id": "b8c8b51a",
   "metadata": {},
   "source": [
    "Создадим две сводные таблицы, в которых показатели будут разделены по тарифам."
   ]
  },
  {
   "cell_type": "code",
   "execution_count": 44,
   "id": "8147583d",
   "metadata": {
    "scrolled": false
   },
   "outputs": [
    {
     "name": "stdout",
     "output_type": "stream",
     "text": [
      "<<<<<<<<<<<<<<<< Тариф \"СМАРТ\" >>>>>>>>>>>>>>>>\n"
     ]
    },
    {
     "data": {
      "text/html": [
       "<div>\n",
       "<style scoped>\n",
       "    .dataframe tbody tr th:only-of-type {\n",
       "        vertical-align: middle;\n",
       "    }\n",
       "\n",
       "    .dataframe tbody tr th {\n",
       "        vertical-align: top;\n",
       "    }\n",
       "\n",
       "    .dataframe thead th {\n",
       "        text-align: right;\n",
       "    }\n",
       "</style>\n",
       "<table border=\"1\" class=\"dataframe\">\n",
       "  <thead>\n",
       "    <tr style=\"text-align: right;\">\n",
       "      <th></th>\n",
       "      <th>tariff</th>\n",
       "      <th>month</th>\n",
       "      <th>minutes</th>\n",
       "      <th>messages</th>\n",
       "      <th>traffic</th>\n",
       "      <th>income</th>\n",
       "    </tr>\n",
       "  </thead>\n",
       "  <tbody>\n",
       "    <tr>\n",
       "      <th>0</th>\n",
       "      <td>smart</td>\n",
       "      <td>1</td>\n",
       "      <td>6931</td>\n",
       "      <td>620</td>\n",
       "      <td>289831</td>\n",
       "      <td>23890</td>\n",
       "    </tr>\n",
       "    <tr>\n",
       "      <th>1</th>\n",
       "      <td>smart</td>\n",
       "      <td>2</td>\n",
       "      <td>17324</td>\n",
       "      <td>1397</td>\n",
       "      <td>673461</td>\n",
       "      <td>46659</td>\n",
       "    </tr>\n",
       "    <tr>\n",
       "      <th>2</th>\n",
       "      <td>smart</td>\n",
       "      <td>3</td>\n",
       "      <td>30034</td>\n",
       "      <td>2453</td>\n",
       "      <td>1164537</td>\n",
       "      <td>86136</td>\n",
       "    </tr>\n",
       "    <tr>\n",
       "      <th>3</th>\n",
       "      <td>smart</td>\n",
       "      <td>4</td>\n",
       "      <td>41119</td>\n",
       "      <td>3443</td>\n",
       "      <td>1509702</td>\n",
       "      <td>103325</td>\n",
       "    </tr>\n",
       "    <tr>\n",
       "      <th>4</th>\n",
       "      <td>smart</td>\n",
       "      <td>5</td>\n",
       "      <td>54618</td>\n",
       "      <td>4762</td>\n",
       "      <td>2231353</td>\n",
       "      <td>161749</td>\n",
       "    </tr>\n",
       "    <tr>\n",
       "      <th>5</th>\n",
       "      <td>smart</td>\n",
       "      <td>6</td>\n",
       "      <td>64885</td>\n",
       "      <td>5478</td>\n",
       "      <td>2593622</td>\n",
       "      <td>188575</td>\n",
       "    </tr>\n",
       "    <tr>\n",
       "      <th>6</th>\n",
       "      <td>smart</td>\n",
       "      <td>7</td>\n",
       "      <td>82079</td>\n",
       "      <td>6784</td>\n",
       "      <td>3168466</td>\n",
       "      <td>234839</td>\n",
       "    </tr>\n",
       "    <tr>\n",
       "      <th>7</th>\n",
       "      <td>smart</td>\n",
       "      <td>8</td>\n",
       "      <td>99045</td>\n",
       "      <td>7905</td>\n",
       "      <td>3908561</td>\n",
       "      <td>295817</td>\n",
       "    </tr>\n",
       "    <tr>\n",
       "      <th>8</th>\n",
       "      <td>smart</td>\n",
       "      <td>9</td>\n",
       "      <td>111439</td>\n",
       "      <td>8746</td>\n",
       "      <td>4244377</td>\n",
       "      <td>311832</td>\n",
       "    </tr>\n",
       "    <tr>\n",
       "      <th>9</th>\n",
       "      <td>smart</td>\n",
       "      <td>10</td>\n",
       "      <td>125284</td>\n",
       "      <td>9927</td>\n",
       "      <td>4932898</td>\n",
       "      <td>383717</td>\n",
       "    </tr>\n",
       "    <tr>\n",
       "      <th>10</th>\n",
       "      <td>smart</td>\n",
       "      <td>11</td>\n",
       "      <td>137544</td>\n",
       "      <td>10768</td>\n",
       "      <td>5345940</td>\n",
       "      <td>405647</td>\n",
       "    </tr>\n",
       "    <tr>\n",
       "      <th>11</th>\n",
       "      <td>smart</td>\n",
       "      <td>12</td>\n",
       "      <td>161275</td>\n",
       "      <td>12130</td>\n",
       "      <td>6112113</td>\n",
       "      <td>508150</td>\n",
       "    </tr>\n",
       "  </tbody>\n",
       "</table>\n",
       "</div>"
      ],
      "text/plain": [
       "   tariff  month  minutes  messages  traffic  income\n",
       "0   smart      1     6931       620   289831   23890\n",
       "1   smart      2    17324      1397   673461   46659\n",
       "2   smart      3    30034      2453  1164537   86136\n",
       "3   smart      4    41119      3443  1509702  103325\n",
       "4   smart      5    54618      4762  2231353  161749\n",
       "5   smart      6    64885      5478  2593622  188575\n",
       "6   smart      7    82079      6784  3168466  234839\n",
       "7   smart      8    99045      7905  3908561  295817\n",
       "8   smart      9   111439      8746  4244377  311832\n",
       "9   smart     10   125284      9927  4932898  383717\n",
       "10  smart     11   137544     10768  5345940  405647\n",
       "11  smart     12   161275     12130  6112113  508150"
      ]
     },
     "metadata": {},
     "output_type": "display_data"
    },
    {
     "name": "stdout",
     "output_type": "stream",
     "text": [
      "<<<<<<<<<<<<<<<< Тариф \"УЛЬТРА\" >>>>>>>>>>>>>>>>\n"
     ]
    },
    {
     "data": {
      "text/html": [
       "<div>\n",
       "<style scoped>\n",
       "    .dataframe tbody tr th:only-of-type {\n",
       "        vertical-align: middle;\n",
       "    }\n",
       "\n",
       "    .dataframe tbody tr th {\n",
       "        vertical-align: top;\n",
       "    }\n",
       "\n",
       "    .dataframe thead th {\n",
       "        text-align: right;\n",
       "    }\n",
       "</style>\n",
       "<table border=\"1\" class=\"dataframe\">\n",
       "  <thead>\n",
       "    <tr style=\"text-align: right;\">\n",
       "      <th></th>\n",
       "      <th>tariff</th>\n",
       "      <th>month</th>\n",
       "      <th>minutes</th>\n",
       "      <th>messages</th>\n",
       "      <th>traffic</th>\n",
       "      <th>income</th>\n",
       "    </tr>\n",
       "  </thead>\n",
       "  <tbody>\n",
       "    <tr>\n",
       "      <th>0</th>\n",
       "      <td>ultra</td>\n",
       "      <td>1</td>\n",
       "      <td>3853</td>\n",
       "      <td>304</td>\n",
       "      <td>118382</td>\n",
       "      <td>17550</td>\n",
       "    </tr>\n",
       "    <tr>\n",
       "      <th>1</th>\n",
       "      <td>ultra</td>\n",
       "      <td>2</td>\n",
       "      <td>7131</td>\n",
       "      <td>527</td>\n",
       "      <td>282887</td>\n",
       "      <td>47354</td>\n",
       "    </tr>\n",
       "    <tr>\n",
       "      <th>2</th>\n",
       "      <td>ultra</td>\n",
       "      <td>3</td>\n",
       "      <td>18117</td>\n",
       "      <td>1195</td>\n",
       "      <td>649423</td>\n",
       "      <td>74156</td>\n",
       "    </tr>\n",
       "    <tr>\n",
       "      <th>3</th>\n",
       "      <td>ultra</td>\n",
       "      <td>4</td>\n",
       "      <td>25191</td>\n",
       "      <td>1736</td>\n",
       "      <td>926409</td>\n",
       "      <td>109751</td>\n",
       "    </tr>\n",
       "    <tr>\n",
       "      <th>4</th>\n",
       "      <td>ultra</td>\n",
       "      <td>5</td>\n",
       "      <td>34192</td>\n",
       "      <td>2536</td>\n",
       "      <td>1298540</td>\n",
       "      <td>137684</td>\n",
       "    </tr>\n",
       "    <tr>\n",
       "      <th>5</th>\n",
       "      <td>ultra</td>\n",
       "      <td>6</td>\n",
       "      <td>40295</td>\n",
       "      <td>3505</td>\n",
       "      <td>1591148</td>\n",
       "      <td>170696</td>\n",
       "    </tr>\n",
       "    <tr>\n",
       "      <th>6</th>\n",
       "      <td>ultra</td>\n",
       "      <td>7</td>\n",
       "      <td>49667</td>\n",
       "      <td>4536</td>\n",
       "      <td>1866833</td>\n",
       "      <td>191881</td>\n",
       "    </tr>\n",
       "    <tr>\n",
       "      <th>7</th>\n",
       "      <td>ultra</td>\n",
       "      <td>8</td>\n",
       "      <td>54653</td>\n",
       "      <td>5183</td>\n",
       "      <td>2096565</td>\n",
       "      <td>221620</td>\n",
       "    </tr>\n",
       "    <tr>\n",
       "      <th>8</th>\n",
       "      <td>ultra</td>\n",
       "      <td>9</td>\n",
       "      <td>62036</td>\n",
       "      <td>6013</td>\n",
       "      <td>2210554</td>\n",
       "      <td>231586</td>\n",
       "    </tr>\n",
       "    <tr>\n",
       "      <th>9</th>\n",
       "      <td>ultra</td>\n",
       "      <td>10</td>\n",
       "      <td>68644</td>\n",
       "      <td>7187</td>\n",
       "      <td>2467856</td>\n",
       "      <td>253009</td>\n",
       "    </tr>\n",
       "    <tr>\n",
       "      <th>10</th>\n",
       "      <td>ultra</td>\n",
       "      <td>11</td>\n",
       "      <td>72545</td>\n",
       "      <td>7476</td>\n",
       "      <td>2653912</td>\n",
       "      <td>278840</td>\n",
       "    </tr>\n",
       "    <tr>\n",
       "      <th>11</th>\n",
       "      <td>ultra</td>\n",
       "      <td>12</td>\n",
       "      <td>82400</td>\n",
       "      <td>8425</td>\n",
       "      <td>3032089</td>\n",
       "      <td>297513</td>\n",
       "    </tr>\n",
       "  </tbody>\n",
       "</table>\n",
       "</div>"
      ],
      "text/plain": [
       "   tariff  month  minutes  messages  traffic  income\n",
       "0   ultra      1     3853       304   118382   17550\n",
       "1   ultra      2     7131       527   282887   47354\n",
       "2   ultra      3    18117      1195   649423   74156\n",
       "3   ultra      4    25191      1736   926409  109751\n",
       "4   ultra      5    34192      2536  1298540  137684\n",
       "5   ultra      6    40295      3505  1591148  170696\n",
       "6   ultra      7    49667      4536  1866833  191881\n",
       "7   ultra      8    54653      5183  2096565  221620\n",
       "8   ultra      9    62036      6013  2210554  231586\n",
       "9   ultra     10    68644      7187  2467856  253009\n",
       "10  ultra     11    72545      7476  2653912  278840\n",
       "11  ultra     12    82400      8425  3032089  297513"
      ]
     },
     "metadata": {},
     "output_type": "display_data"
    }
   ],
   "source": [
    "all_stat = stat.groupby(['tariff', 'month'])['minutes', 'messages', 'traffic', 'income'].sum().reset_index()\n",
    "smart = all_stat.query(' tariff==\"smart\" ')\n",
    "ultra = all_stat.query(' tariff==\"ultra\" ').reset_index(drop=True)\n",
    "print('<' * 16, 'Тариф \"СМАРТ\"', '>' * 16)\n",
    "display(smart)\n",
    "print('<' * 16, 'Тариф \"УЛЬТРА\"', '>' * 16)\n",
    "display(ultra)"
   ]
  },
  {
   "cell_type": "markdown",
   "id": "fb340a39",
   "metadata": {},
   "source": [
    "С помощью столбчатых диаграмм визуально оценим изменение общих показателей."
   ]
  },
  {
   "cell_type": "code",
   "execution_count": 45,
   "id": "5b1354a7",
   "metadata": {},
   "outputs": [
    {
     "data": {
      "image/png": "[encoded data removed]",
      "text/plain": [
       "<Figure size 1080x360 with 1 Axes>"
      ]
     },
     "metadata": {
      "needs_background": "light"
     },
     "output_type": "display_data"
    },
    {
     "data": {
      "image/png": "[encoded data removed]",
      "text/plain": [
       "<Figure size 1080x360 with 1 Axes>"
      ]
     },
     "metadata": {
      "needs_background": "light"
     },
     "output_type": "display_data"
    },
    {
     "data": {
      "image/png": "[encoded data removed]",
      "text/plain": [
       "<Figure size 1080x360 with 1 Axes>"
      ]
     },
     "metadata": {
      "needs_background": "light"
     },
     "output_type": "display_data"
    },
    {
     "data": {
      "image/png": "[encoded data removed]",
      "text/plain": [
       "<Figure size 1080x360 with 1 Axes>"
      ]
     },
     "metadata": {
      "needs_background": "light"
     },
     "output_type": "display_data"
    }
   ],
   "source": [
    "for value in ['minutes', 'messages', 'traffic','income']:\n",
    "    plt.figure(figsize=(15, 5))\n",
    "    plt.bar(smart['month'], smart[value], label='смарт', color='b', alpha=0.8, width=0.5)\n",
    "    plt.bar(ultra['month'], ultra[value], label='ультра', color='r', alpha=0.5, width=0.8)\n",
    "    plt.xlabel('month')\n",
    "    plt.ylabel(value)\n",
    "    plt.grid()\n",
    "    plt.title(f'Помесячное количество {value} по всем пользователям для двух тарифов')\n",
    "    plt.legend()\n",
    "    plt.show();"
   ]
  },
  {
   "cell_type": "markdown",
   "id": "2b383a49",
   "metadata": {},
   "source": [
    "**Анализируя графики, можно сказать следующее.** \n",
    "\n",
    "Последоватедьно, месяц за месяцем, траты на обоих тарифах росли, так как происходил приток новых клиентов. Заметно, что суммарные траты (минуты, SMS, интернет) всех пользователей тарифа 'Смарт' превышает аналогичные показатели тарифа 'Ультра' более чем на 50 %, но нам известно, что и пользователей тарифом 'Смарт' в два с небольшим раза больше, чем на тарифе 'Ультра'. График по выручке имеет некоторые особенности: за первые 4 месяца абоненты обоих тарифов принесли компании \"Мегалайн\" практически одинаковые суммы, но, начиная с мая, пользователи 'Смарт' с каждым месяцем стали приносить выручки больше и в декабре выручка от 'Смарт' превысила выручку от 'Ультра' примерно на 40 %. Но нужно проверить, сколько платит в среднем один пользователь за год. "
   ]
  },
  {
   "cell_type": "code",
   "execution_count": 46,
   "id": "e7ea56d2",
   "metadata": {},
   "outputs": [
    {
     "name": "stdout",
     "output_type": "stream",
     "text": [
      "Выручка тарифа \"Смарт\" за 2018 год = 2750336 рублей, а в среднем за год один клиент заплатил 7836 рублей\n",
      "Выручка тарифа \"Ультра\" за 2018 год = 2031640 рублей, а в среднем за год один клиент заплатил 13635 рублей\n"
     ]
    }
   ],
   "source": [
    "smart_income = smart['income'].sum()\n",
    "ultra_income = ultra['income'].sum()\n",
    "print(f'Выручка тарифа \"Смарт\" за 2018 год = {smart_income} рублей, а в среднем за год один клиент заплатил {round(smart_income/351)} рублей')\n",
    "print(f'Выручка тарифа \"Ультра\" за 2018 год = {ultra_income} рублей, а в среднем за год один клиент заплатил {round(ultra_income/149)} рублей')"
   ]
  },
  {
   "cell_type": "markdown",
   "id": "2f3f8541",
   "metadata": {},
   "source": [
    "Как видим в целом за год выручка от тарифа \"Смарт\" превысила выручку от тарифа \"Ультра\" примерно на 26 %, но количество абонентов у \"Смарт\", как мы помним, больше в 2 с небольшим раза. Делаем вывод, что компании \"Мегалайн\" для значительного повышения выручки, нужно больше привлекать клиентов на тариф \"Ультра\"."
   ]
  },
  {
   "cell_type": "markdown",
   "id": "0e71ad85",
   "metadata": {},
   "source": [
    "С помощью гистограмм узнаем распределение пользователей в рассматриваемых параметрах."
   ]
  },
  {
   "cell_type": "code",
   "execution_count": 47,
   "id": "6c29eb9e",
   "metadata": {
    "scrolled": false
   },
   "outputs": [
    {
     "data": {
      "image/png": "[encoded data removed]",
      "text/plain": [
       "<Figure size 1080x360 with 1 Axes>"
      ]
     },
     "metadata": {
      "needs_background": "light"
     },
     "output_type": "display_data"
    },
    {
     "data": {
      "image/png": "[encoded data removed]",
      "text/plain": [
       "<Figure size 1080x360 with 1 Axes>"
      ]
     },
     "metadata": {
      "needs_background": "light"
     },
     "output_type": "display_data"
    },
    {
     "data": {
      "image/png": "[encoded data removed]",
      "text/plain": [
       "<Figure size 1080x360 with 1 Axes>"
      ]
     },
     "metadata": {
      "needs_background": "light"
     },
     "output_type": "display_data"
    },
    {
     "data": {
      "image/png": "[encoded data removed]",
      "text/plain": [
       "<Figure size 1080x360 with 1 Axes>"
      ]
     },
     "metadata": {
      "needs_background": "light"
     },
     "output_type": "display_data"
    }
   ],
   "source": [
    "for value in ['minutes', 'messages', 'traffic','income']:\n",
    "    plt.figure(figsize=(15, 5))\n",
    "    \n",
    "    plt.hist(stat.loc[stat['tariff'] == \"smart\", value], histtype='step', label='смарт', color='b', alpha=0.7, linewidth=3, bins = 30)\n",
    "    plt.hist(stat.loc[stat['tariff'] == \"ultra\", value], histtype='step', label='ультра', color='r', alpha=0.7, linewidth=3, bins = 30)\n",
    "    plt.xlabel(value)\n",
    "    plt.grid()\n",
    "    plt.title(f'Распределение значений {value} для обоих тарифов')\n",
    "    plt.legend()\n",
    "    plt.show();"
   ]
  },
  {
   "cell_type": "markdown",
   "id": "a63b821f",
   "metadata": {},
   "source": [
    "**Анализируя распределения, отметим следующее:**\n",
    "\n",
    "*тариф \"Смарт\"*\n",
    "- минуты разговора имеют нормальное распределение и основная доля пользователей стремится разговаривать по телефону как раз около 500 минут, предоставляемых по тарифу, но есть часть клиентов не укладывается в предоставляемый лимит;\n",
    "- SMS выглядят как распределение Пуассона. Ярко выражено количество пользователей, которые отправили всего около 10 сообщений за весь рассматриваемый период. Думаю, это какие-нибудь sms-поздравления;\n",
    "- использование интернета также имеет нормальное распределение, основная масса клиентов старается уместится в предоставленные 15 Гб, хотя имеется слабая скошенность вправо, значит предоставленного объема интернет-трафика клиентам не хватает;\n",
    "- выручка имеет вид распределения Пуассона, выделяется доля клиентов, укладывающихся в установленные тарифом 550 рублей, но имеется и достаточное количество людей, которые платят сверх установленного тарифным планом.\n",
    "\n",
    "*тариф \"Ультра\"*  \n",
    "- израсходованные минуты имеют вид распределения Пуассона. Примерно равное количество людей расходует минуты в диапазоне от 0 до 850, далее наблюдается хвост. Лимит по минутам на тарифе большой, поэтому клиенты не беспокоятся;\n",
    "- ситуация с сообщениями аналогична тарифу \"Смарт\";\n",
    "- использование интернета похоже на \"разглаженное\" нормальное распределение. Основная доля использует около 21 Гб, большинство укладывается в предоставляемые тарифом 30 ГБ, но есть те, кому и этого объема не хватает;\n",
    "- выручка имеет вид распределения Пуассона, основная доля клиентов платит установленные тарифом 1950 рублей."
   ]
  },
  {
   "cell_type": "markdown",
   "id": "b4b78f68",
   "metadata": {},
   "source": [
    "### Расчет среднего, дисперсии и стандартного отклонения"
   ]
  },
  {
   "cell_type": "markdown",
   "id": "9a1cdec6",
   "metadata": {},
   "source": [
    "Для более полной картины необходимо установить и проанализировать усредненные показатели по обоим тарифам.  \n",
    "\n",
    "Посмотрим сперва на помесячные средние показатели обоих тарифов."
   ]
  },
  {
   "cell_type": "code",
   "execution_count": 48,
   "id": "cfa3488c",
   "metadata": {},
   "outputs": [
    {
     "name": "stdout",
     "output_type": "stream",
     "text": [
      "<<<<<<<<<<<<<<<<<<<< Тариф \"СМАРТ\" >>>>>>>>>>>>>>>>>>>>\n"
     ]
    },
    {
     "data": {
      "text/html": [
       "<div>\n",
       "<style scoped>\n",
       "    .dataframe tbody tr th:only-of-type {\n",
       "        vertical-align: middle;\n",
       "    }\n",
       "\n",
       "    .dataframe tbody tr th {\n",
       "        vertical-align: top;\n",
       "    }\n",
       "\n",
       "    .dataframe thead th {\n",
       "        text-align: right;\n",
       "    }\n",
       "</style>\n",
       "<table border=\"1\" class=\"dataframe\">\n",
       "  <thead>\n",
       "    <tr style=\"text-align: right;\">\n",
       "      <th></th>\n",
       "      <th>tariff</th>\n",
       "      <th>month</th>\n",
       "      <th>minutes</th>\n",
       "      <th>messages</th>\n",
       "      <th>traffic</th>\n",
       "      <th>income</th>\n",
       "    </tr>\n",
       "  </thead>\n",
       "  <tbody>\n",
       "    <tr>\n",
       "      <th>0</th>\n",
       "      <td>smart</td>\n",
       "      <td>1</td>\n",
       "      <td>203.852941</td>\n",
       "      <td>18.235294</td>\n",
       "      <td>8524.441176</td>\n",
       "      <td>702.647059</td>\n",
       "    </tr>\n",
       "    <tr>\n",
       "      <th>1</th>\n",
       "      <td>smart</td>\n",
       "      <td>2</td>\n",
       "      <td>298.689655</td>\n",
       "      <td>24.086207</td>\n",
       "      <td>11611.396552</td>\n",
       "      <td>804.465517</td>\n",
       "    </tr>\n",
       "    <tr>\n",
       "      <th>2</th>\n",
       "      <td>smart</td>\n",
       "      <td>3</td>\n",
       "      <td>390.051948</td>\n",
       "      <td>31.857143</td>\n",
       "      <td>15123.857143</td>\n",
       "      <td>1118.649351</td>\n",
       "    </tr>\n",
       "    <tr>\n",
       "      <th>3</th>\n",
       "      <td>smart</td>\n",
       "      <td>4</td>\n",
       "      <td>367.133929</td>\n",
       "      <td>30.741071</td>\n",
       "      <td>13479.482143</td>\n",
       "      <td>922.544643</td>\n",
       "    </tr>\n",
       "    <tr>\n",
       "      <th>4</th>\n",
       "      <td>smart</td>\n",
       "      <td>5</td>\n",
       "      <td>387.361702</td>\n",
       "      <td>33.773050</td>\n",
       "      <td>15825.198582</td>\n",
       "      <td>1147.156028</td>\n",
       "    </tr>\n",
       "    <tr>\n",
       "      <th>5</th>\n",
       "      <td>smart</td>\n",
       "      <td>6</td>\n",
       "      <td>395.640244</td>\n",
       "      <td>33.402439</td>\n",
       "      <td>15814.768293</td>\n",
       "      <td>1149.847561</td>\n",
       "    </tr>\n",
       "    <tr>\n",
       "      <th>6</th>\n",
       "      <td>smart</td>\n",
       "      <td>7</td>\n",
       "      <td>408.353234</td>\n",
       "      <td>33.751244</td>\n",
       "      <td>15763.512438</td>\n",
       "      <td>1168.353234</td>\n",
       "    </tr>\n",
       "    <tr>\n",
       "      <th>7</th>\n",
       "      <td>smart</td>\n",
       "      <td>8</td>\n",
       "      <td>421.468085</td>\n",
       "      <td>33.638298</td>\n",
       "      <td>16632.174468</td>\n",
       "      <td>1258.795745</td>\n",
       "    </tr>\n",
       "    <tr>\n",
       "      <th>8</th>\n",
       "      <td>smart</td>\n",
       "      <td>9</td>\n",
       "      <td>428.611538</td>\n",
       "      <td>33.638462</td>\n",
       "      <td>16324.526923</td>\n",
       "      <td>1199.353846</td>\n",
       "    </tr>\n",
       "    <tr>\n",
       "      <th>9</th>\n",
       "      <td>smart</td>\n",
       "      <td>10</td>\n",
       "      <td>426.136054</td>\n",
       "      <td>33.765306</td>\n",
       "      <td>16778.564626</td>\n",
       "      <td>1305.159864</td>\n",
       "    </tr>\n",
       "    <tr>\n",
       "      <th>10</th>\n",
       "      <td>smart</td>\n",
       "      <td>11</td>\n",
       "      <td>435.265823</td>\n",
       "      <td>34.075949</td>\n",
       "      <td>16917.531646</td>\n",
       "      <td>1283.693038</td>\n",
       "    </tr>\n",
       "    <tr>\n",
       "      <th>11</th>\n",
       "      <td>smart</td>\n",
       "      <td>12</td>\n",
       "      <td>477.144970</td>\n",
       "      <td>35.887574</td>\n",
       "      <td>18083.174556</td>\n",
       "      <td>1503.402367</td>\n",
       "    </tr>\n",
       "  </tbody>\n",
       "</table>\n",
       "</div>"
      ],
      "text/plain": [
       "   tariff  month     minutes   messages       traffic       income\n",
       "0   smart      1  203.852941  18.235294   8524.441176   702.647059\n",
       "1   smart      2  298.689655  24.086207  11611.396552   804.465517\n",
       "2   smart      3  390.051948  31.857143  15123.857143  1118.649351\n",
       "3   smart      4  367.133929  30.741071  13479.482143   922.544643\n",
       "4   smart      5  387.361702  33.773050  15825.198582  1147.156028\n",
       "5   smart      6  395.640244  33.402439  15814.768293  1149.847561\n",
       "6   smart      7  408.353234  33.751244  15763.512438  1168.353234\n",
       "7   smart      8  421.468085  33.638298  16632.174468  1258.795745\n",
       "8   smart      9  428.611538  33.638462  16324.526923  1199.353846\n",
       "9   smart     10  426.136054  33.765306  16778.564626  1305.159864\n",
       "10  smart     11  435.265823  34.075949  16917.531646  1283.693038\n",
       "11  smart     12  477.144970  35.887574  18083.174556  1503.402367"
      ]
     },
     "metadata": {},
     "output_type": "display_data"
    },
    {
     "name": "stdout",
     "output_type": "stream",
     "text": [
      "<<<<<<<<<<<<<<<<<<<< Тариф \"УЛЬТРА\" >>>>>>>>>>>>>>>>>>>>\n"
     ]
    },
    {
     "data": {
      "text/html": [
       "<div>\n",
       "<style scoped>\n",
       "    .dataframe tbody tr th:only-of-type {\n",
       "        vertical-align: middle;\n",
       "    }\n",
       "\n",
       "    .dataframe tbody tr th {\n",
       "        vertical-align: top;\n",
       "    }\n",
       "\n",
       "    .dataframe thead th {\n",
       "        text-align: right;\n",
       "    }\n",
       "</style>\n",
       "<table border=\"1\" class=\"dataframe\">\n",
       "  <thead>\n",
       "    <tr style=\"text-align: right;\">\n",
       "      <th></th>\n",
       "      <th>tariff</th>\n",
       "      <th>month</th>\n",
       "      <th>minutes</th>\n",
       "      <th>messages</th>\n",
       "      <th>traffic</th>\n",
       "      <th>income</th>\n",
       "    </tr>\n",
       "  </thead>\n",
       "  <tbody>\n",
       "    <tr>\n",
       "      <th>0</th>\n",
       "      <td>ultra</td>\n",
       "      <td>1</td>\n",
       "      <td>428.111111</td>\n",
       "      <td>33.777778</td>\n",
       "      <td>13153.555556</td>\n",
       "      <td>1950.000000</td>\n",
       "    </tr>\n",
       "    <tr>\n",
       "      <th>1</th>\n",
       "      <td>ultra</td>\n",
       "      <td>2</td>\n",
       "      <td>297.125000</td>\n",
       "      <td>21.958333</td>\n",
       "      <td>11786.958333</td>\n",
       "      <td>1973.083333</td>\n",
       "    </tr>\n",
       "    <tr>\n",
       "      <th>2</th>\n",
       "      <td>ultra</td>\n",
       "      <td>3</td>\n",
       "      <td>489.648649</td>\n",
       "      <td>32.297297</td>\n",
       "      <td>17551.972973</td>\n",
       "      <td>2004.216216</td>\n",
       "    </tr>\n",
       "    <tr>\n",
       "      <th>3</th>\n",
       "      <td>ultra</td>\n",
       "      <td>4</td>\n",
       "      <td>458.018182</td>\n",
       "      <td>31.563636</td>\n",
       "      <td>16843.800000</td>\n",
       "      <td>1995.472727</td>\n",
       "    </tr>\n",
       "    <tr>\n",
       "      <th>4</th>\n",
       "      <td>ultra</td>\n",
       "      <td>5</td>\n",
       "      <td>510.328358</td>\n",
       "      <td>37.850746</td>\n",
       "      <td>19381.194030</td>\n",
       "      <td>2054.985075</td>\n",
       "    </tr>\n",
       "    <tr>\n",
       "      <th>5</th>\n",
       "      <td>ultra</td>\n",
       "      <td>6</td>\n",
       "      <td>479.702381</td>\n",
       "      <td>41.726190</td>\n",
       "      <td>18942.238095</td>\n",
       "      <td>2032.095238</td>\n",
       "    </tr>\n",
       "    <tr>\n",
       "      <th>6</th>\n",
       "      <td>ultra</td>\n",
       "      <td>7</td>\n",
       "      <td>545.791209</td>\n",
       "      <td>49.846154</td>\n",
       "      <td>20514.648352</td>\n",
       "      <td>2108.582418</td>\n",
       "    </tr>\n",
       "    <tr>\n",
       "      <th>7</th>\n",
       "      <td>ultra</td>\n",
       "      <td>8</td>\n",
       "      <td>510.775701</td>\n",
       "      <td>48.439252</td>\n",
       "      <td>19594.065421</td>\n",
       "      <td>2071.214953</td>\n",
       "    </tr>\n",
       "    <tr>\n",
       "      <th>8</th>\n",
       "      <td>ultra</td>\n",
       "      <td>9</td>\n",
       "      <td>539.443478</td>\n",
       "      <td>52.286957</td>\n",
       "      <td>19222.208696</td>\n",
       "      <td>2013.791304</td>\n",
       "    </tr>\n",
       "    <tr>\n",
       "      <th>9</th>\n",
       "      <td>ultra</td>\n",
       "      <td>10</td>\n",
       "      <td>558.081301</td>\n",
       "      <td>58.430894</td>\n",
       "      <td>20063.869919</td>\n",
       "      <td>2056.983740</td>\n",
       "    </tr>\n",
       "    <tr>\n",
       "      <th>10</th>\n",
       "      <td>ultra</td>\n",
       "      <td>11</td>\n",
       "      <td>541.380597</td>\n",
       "      <td>55.791045</td>\n",
       "      <td>19805.313433</td>\n",
       "      <td>2080.895522</td>\n",
       "    </tr>\n",
       "    <tr>\n",
       "      <th>11</th>\n",
       "      <td>ultra</td>\n",
       "      <td>12</td>\n",
       "      <td>588.571429</td>\n",
       "      <td>60.178571</td>\n",
       "      <td>21657.778571</td>\n",
       "      <td>2125.092857</td>\n",
       "    </tr>\n",
       "  </tbody>\n",
       "</table>\n",
       "</div>"
      ],
      "text/plain": [
       "   tariff  month     minutes   messages       traffic       income\n",
       "0   ultra      1  428.111111  33.777778  13153.555556  1950.000000\n",
       "1   ultra      2  297.125000  21.958333  11786.958333  1973.083333\n",
       "2   ultra      3  489.648649  32.297297  17551.972973  2004.216216\n",
       "3   ultra      4  458.018182  31.563636  16843.800000  1995.472727\n",
       "4   ultra      5  510.328358  37.850746  19381.194030  2054.985075\n",
       "5   ultra      6  479.702381  41.726190  18942.238095  2032.095238\n",
       "6   ultra      7  545.791209  49.846154  20514.648352  2108.582418\n",
       "7   ultra      8  510.775701  48.439252  19594.065421  2071.214953\n",
       "8   ultra      9  539.443478  52.286957  19222.208696  2013.791304\n",
       "9   ultra     10  558.081301  58.430894  20063.869919  2056.983740\n",
       "10  ultra     11  541.380597  55.791045  19805.313433  2080.895522\n",
       "11  ultra     12  588.571429  60.178571  21657.778571  2125.092857"
      ]
     },
     "metadata": {},
     "output_type": "display_data"
    }
   ],
   "source": [
    "mean_stat = stat.groupby(['tariff', 'month'])['minutes', 'messages', 'traffic','income'].mean().reset_index()\n",
    "mean_smart = mean_stat.query('tariff==\"smart\"')\n",
    "mean_ultra = mean_stat.query('tariff==\"ultra\"').reset_index(drop=True)\n",
    "print('<' * 20, 'Тариф \"СМАРТ\"', '>' * 20)\n",
    "display(mean_smart)\n",
    "print('<' * 20, 'Тариф \"УЛЬТРА\"', '>' * 20)\n",
    "display(mean_ultra)"
   ]
  },
  {
   "cell_type": "markdown",
   "id": "27f485d4",
   "metadata": {},
   "source": [
    "Теперь узнаем сколько в среднем в месяц составляет конкретный показатель на обоих тарифах, и округлим его до целого числа."
   ]
  },
  {
   "cell_type": "code",
   "execution_count": 49,
   "id": "6045d7e0",
   "metadata": {},
   "outputs": [
    {
     "name": "stdout",
     "output_type": "stream",
     "text": [
      "Среднее количество minutes на тарифе \"смарт\" = 387, а на тарифе \"ультра\" = 496\n",
      "Среднее количество messages на тарифе \"смарт\" = 31, а на тарифе \"ультра\" = 44\n",
      "Среднее количество traffic на тарифе \"смарт\" = 15073, а на тарифе \"ультра\" = 18210\n",
      "Среднее количество income на тарифе \"смарт\" = 1130, а на тарифе \"ультра\" = 2039\n"
     ]
    }
   ],
   "source": [
    "for value in ['minutes', 'messages', 'traffic', 'income']:\n",
    "    print(f'Среднее количество {value} на тарифе \"смарт\" = {round(mean_smart[value].mean())}, а на тарифе \"ультра\" = {round(mean_ultra[value].mean())}')"
   ]
  },
  {
   "cell_type": "markdown",
   "id": "cdabc9af",
   "metadata": {},
   "source": [
    "Для удобства соберём в единую таблицу статистические показатели: среднее, дисперсию и стандартное отклонение."
   ]
  },
  {
   "cell_type": "code",
   "execution_count": 50,
   "id": "10a20aa2",
   "metadata": {},
   "outputs": [
    {
     "name": "stdout",
     "output_type": "stream",
     "text": [
      "<<<< Статистика по тарифам >>>>\n"
     ]
    },
    {
     "data": {
      "text/html": [
       "<div>\n",
       "<style scoped>\n",
       "    .dataframe tbody tr th:only-of-type {\n",
       "        vertical-align: middle;\n",
       "    }\n",
       "\n",
       "    .dataframe tbody tr th {\n",
       "        vertical-align: top;\n",
       "    }\n",
       "\n",
       "    .dataframe thead th {\n",
       "        text-align: right;\n",
       "    }\n",
       "</style>\n",
       "<table border=\"1\" class=\"dataframe\">\n",
       "  <thead>\n",
       "    <tr style=\"text-align: right;\">\n",
       "      <th></th>\n",
       "      <th>tariff</th>\n",
       "      <th>option</th>\n",
       "      <th>mean</th>\n",
       "      <th>var</th>\n",
       "      <th>std</th>\n",
       "    </tr>\n",
       "  </thead>\n",
       "  <tbody>\n",
       "    <tr>\n",
       "      <th>0</th>\n",
       "      <td>smart</td>\n",
       "      <td>minutes</td>\n",
       "      <td>387</td>\n",
       "      <td>5198</td>\n",
       "      <td>72</td>\n",
       "    </tr>\n",
       "    <tr>\n",
       "      <th>1</th>\n",
       "      <td>ultra</td>\n",
       "      <td>minutes</td>\n",
       "      <td>496</td>\n",
       "      <td>5925</td>\n",
       "      <td>77</td>\n",
       "    </tr>\n",
       "    <tr>\n",
       "      <th>2</th>\n",
       "      <td>smart</td>\n",
       "      <td>messages</td>\n",
       "      <td>31</td>\n",
       "      <td>26</td>\n",
       "      <td>5</td>\n",
       "    </tr>\n",
       "    <tr>\n",
       "      <th>3</th>\n",
       "      <td>ultra</td>\n",
       "      <td>messages</td>\n",
       "      <td>44</td>\n",
       "      <td>150</td>\n",
       "      <td>12</td>\n",
       "    </tr>\n",
       "    <tr>\n",
       "      <th>4</th>\n",
       "      <td>smart</td>\n",
       "      <td>traffic</td>\n",
       "      <td>15073</td>\n",
       "      <td>7124616</td>\n",
       "      <td>2669</td>\n",
       "    </tr>\n",
       "    <tr>\n",
       "      <th>5</th>\n",
       "      <td>ultra</td>\n",
       "      <td>traffic</td>\n",
       "      <td>18210</td>\n",
       "      <td>8831919</td>\n",
       "      <td>2972</td>\n",
       "    </tr>\n",
       "    <tr>\n",
       "      <th>6</th>\n",
       "      <td>smart</td>\n",
       "      <td>income</td>\n",
       "      <td>1130</td>\n",
       "      <td>49914</td>\n",
       "      <td>223</td>\n",
       "    </tr>\n",
       "    <tr>\n",
       "      <th>7</th>\n",
       "      <td>ultra</td>\n",
       "      <td>income</td>\n",
       "      <td>2039</td>\n",
       "      <td>2880</td>\n",
       "      <td>54</td>\n",
       "    </tr>\n",
       "  </tbody>\n",
       "</table>\n",
       "</div>"
      ],
      "text/plain": [
       "  tariff    option   mean      var   std\n",
       "0  smart   minutes    387     5198    72\n",
       "1  ultra   minutes    496     5925    77\n",
       "2  smart  messages     31       26     5\n",
       "3  ultra  messages     44      150    12\n",
       "4  smart   traffic  15073  7124616  2669\n",
       "5  ultra   traffic  18210  8831919  2972\n",
       "6  smart    income   1130    49914   223\n",
       "7  ultra    income   2039     2880    54"
      ]
     },
     "execution_count": 50,
     "metadata": {},
     "output_type": "execute_result"
    }
   ],
   "source": [
    "mean_stat = pd.DataFrame(columns = ['tariff', 'option', 'mean', 'var', 'std'])\n",
    "\n",
    "index = 0\n",
    "tarif = ['smart', 'ultra']\n",
    "for value in ['minutes', 'messages', 'traffic', 'income']:\n",
    "    tarif_index = 0\n",
    "    for df in [mean_smart, mean_ultra]:\n",
    "        mean_stat.loc[index, 'option'] = value\n",
    "        mean_stat.loc[index, 'mean'] = round(df[value].mean())\n",
    "        # так как данные являются выборкой, то используем параметр ddof=1\n",
    "        mean_stat.loc[index, 'var'] = round(np.var(df[value], ddof=1)) \n",
    "        mean_stat.loc[index, 'std'] = round(np.std(df[value], ddof=1)) \n",
    "        mean_stat.loc[index, 'tariff'] = tarif[tarif_index]\n",
    "        index +=1\n",
    "        tarif_index +=1\n",
    "print('<<<< Статистика по тарифам >>>>')\n",
    "mean_stat"
   ]
  },
  {
   "cell_type": "markdown",
   "id": "9df73ff2",
   "metadata": {},
   "source": [
    "**Помня правило трех сигм и принимая за математическое ожидание средние значения показателей можно сделать следующие выводы:**\n",
    "\n",
    "*тариф \"Смарт\":*\n",
    "- рассчитав крайнюю правую границу по минутам (387 + 72 * 3 = 603), получаем разницу с лимитом в 103 минуты, и умножив это значение на 3 (столько стоит одна минута разговора сверх лимита) получаем переплату в 309 рублей - с такой переплатой, еще нет смысла переходить на тариф \"Ультра\";\n",
    "- перерасходы по сообщениям на тарифе крайне редки;\n",
    "- учитывая округление Гб по условиям тарифа, то среднее значение объема трафика на тарифе составит 16 Гб, а это уже переплата на 200 рублей. Исходя из правила трех сигм, крайняя граница составит 25 Гб, а это переплата уже на 1800 рублей (по условию 1 Гб сверх лимита стоит 200 рублей).\n",
    "- Исходя из написанного выше и статистике по выручке, можно сказать, что в среднем переплачивают 580 рублей (стоимость тарифа 550 рублей). С большой увереностью можно сказать, что переплачивают активные интернет пользователи, и тем клиентам, которые перерасходуют более 6 Гб, следует перейти на тариф \"Ультра\"."
   ]
  },
  {
   "cell_type": "code",
   "execution_count": 51,
   "id": "d5bfb308",
   "metadata": {},
   "outputs": [
    {
     "data": {
      "text/plain": [
       "78"
      ]
     },
     "execution_count": 51,
     "metadata": {},
     "output_type": "execute_result"
    }
   ],
   "source": [
    "change_smart = stat.query('tariff == \"smart\" and minutes > 550 and traffic > 21000').user_id.nunique()\n",
    "change_smart"
   ]
  },
  {
   "cell_type": "markdown",
   "id": "7fc89573",
   "metadata": {},
   "source": [
    "Количество клиентов, которым следовало бы перейти на тариф \"Ультра\" составляет 78 человек, а это примерно 22 % от общего числа пользователей тарифа \"Смарт\"."
   ]
  },
  {
   "cell_type": "markdown",
   "id": "1327ba15",
   "metadata": {},
   "source": [
    "*тариф \"Ультра\":*\n",
    "- исходя из статистических показателей, все клиенты укладываются в тарифный лимит по длительности звонков;\n",
    "- израсходование по сообщениям также никакому клиенту не грозит;\n",
    "- перерасходование лимита по интернет-трафику присутствует у малой части клиентов, и этим клиентам, я бы посоветовал найти безлимитный тариф;\n",
    "- судя по среднему значению выручки, средняя переплата на тарифе составляет 89 рублей. Этому способствуют интернет пользователи, о которых было сказано выше;\n",
    "- на тарифе имеются клиенты расходующие менее 500 минут и 15 Гб, и им следовало бы перейти на тариф \"Смарт\"."
   ]
  },
  {
   "cell_type": "code",
   "execution_count": 52,
   "id": "9cf9efe6",
   "metadata": {},
   "outputs": [
    {
     "data": {
      "text/plain": [
       "89"
      ]
     },
     "execution_count": 52,
     "metadata": {},
     "output_type": "execute_result"
    }
   ],
   "source": [
    "change_ultra = len(stat.query('tariff == \"ultra\" and minutes < 500 and messages < 50 and traffic < 15000').user_id.unique())\n",
    "change_ultra"
   ]
  },
  {
   "cell_type": "markdown",
   "id": "efad3755",
   "metadata": {},
   "source": [
    "Количество клиентов, которым следовало бы перейти на тариф \"Смарт\" составляет 89 человек, а это почти 60 % от общего числа пользователей тарифа \"Ультра\". Но компании \"Мегалайн\" данный переход не выгоден."
   ]
  },
  {
   "cell_type": "markdown",
   "id": "e2dcdd0f",
   "metadata": {},
   "source": [
    "## Проверка гипотез"
   ]
  },
  {
   "cell_type": "markdown",
   "id": "91adfd7e",
   "metadata": {},
   "source": [
    "**Проверка первой гипотезы**"
   ]
  },
  {
   "cell_type": "markdown",
   "id": "93a5716c",
   "metadata": {},
   "source": [
    "Нулевая гипотеза формулируется так, чтобы был знак равенства. Поэтому сформулируем нулевую гипотезу $H_0$ как то, что средняя выручка тарифов «Ультра» и «Смарт» равны. Альтернативной гипотезой $H_1$ будет условие по заданию: \"средняя выручка пользователей тарифов «Ультра» и «Смарт» различается\".\n",
    "\n",
    "Применять будем метод scipy.stats.ttest_ind, в котором параметр equal_var = False, так как ранее уже установили что дисперсии тарифов отличаются\n",
    "\n",
    "Критический уровень значимости зададим 0.05."
   ]
  },
  {
   "cell_type": "code",
   "execution_count": 53,
   "id": "116c7bbf",
   "metadata": {},
   "outputs": [
    {
     "name": "stdout",
     "output_type": "stream",
     "text": [
      "P-value составляет: 8.457666151853618e-09\n",
      "Отвергаем нулевую гипотезу\n"
     ]
    }
   ],
   "source": [
    "alpha = 0.05\n",
    "results = st.ttest_ind(mean_smart['income'], mean_ultra['income'], equal_var = False)\n",
    "print('P-value составляет:', results.pvalue)\n",
    "\n",
    "if (results.pvalue < alpha):\n",
    "    print(\"Отвергаем нулевую гипотезу\")\n",
    "else:\n",
    "    print(\"Не получилось отвергнуть нулевую гипотезу\")"
   ]
  },
  {
   "cell_type": "markdown",
   "id": "5f15dd2c",
   "metadata": {},
   "source": [
    "**Вывод по первой гипотезе.**  \n",
    "\n",
    "Столь маленькое p-value говорит о том, что вероятность случайного совпадения средних наших выборок крайне мала. Поэтому нулевая гипотеза отвергается, а альтернативная гипотеза подтверждается и условие, что средняя выручка пользователей тарифов «Ультра» и «Смарт» различается, выполняется."
   ]
  },
  {
   "cell_type": "markdown",
   "id": "2e469d5c",
   "metadata": {},
   "source": [
    "**Проверка второй гипотезы**"
   ]
  },
  {
   "cell_type": "markdown",
   "id": "b584c913",
   "metadata": {},
   "source": [
    "Сперва сформулируем нулевую и альтернативную гипотезы:\n",
    "\n",
    "$H_0$ - средняя выручка пользователей из Москвы и остальных регионов равна.  \n",
    "$H_1$ - средняя выручка пользователей из Москвы и остальных регионов не равна.  \n",
    "\n",
    "Для проверки гипотезы необходимо создать двa массива данных: moscow - в которой будут абоненты обоих тарифов из Москвы, и regions - в которой будут абоненты обоих тарифов из остальных регионов."
   ]
  },
  {
   "cell_type": "code",
   "execution_count": 54,
   "id": "6bddb8a0",
   "metadata": {},
   "outputs": [],
   "source": [
    "moscow = stat.query('city == \"Москва\"').groupby('user_id')['income'].mean().values\n",
    "regions = stat.query('city != \"Москва\"').groupby('user_id')['income'].mean().values"
   ]
  },
  {
   "cell_type": "code",
   "execution_count": 55,
   "id": "8fa6319f",
   "metadata": {},
   "outputs": [
    {
     "name": "stdout",
     "output_type": "stream",
     "text": [
      "Дисперсия moscow = 361922.2929841319, \n",
      "Дисперсия regions = 412226.6974271358\n"
     ]
    }
   ],
   "source": [
    "print(f'''Дисперсия moscow = {np.var(moscow)}, \n",
    "Дисперсия regions = {np.var(regions)}''')"
   ]
  },
  {
   "cell_type": "markdown",
   "id": "6a17fb49",
   "metadata": {},
   "source": [
    "Опять же применять будем метод scipy.stats.ttest_ind, в котором параметр equal_var = False, так как дисперсии выборок отличаются.\n",
    "\n",
    "Критический уровень значимости зададим 0.05."
   ]
  },
  {
   "cell_type": "code",
   "execution_count": 56,
   "id": "2aaac04f",
   "metadata": {},
   "outputs": [
    {
     "name": "stdout",
     "output_type": "stream",
     "text": [
      "P-value: 0.3952139848785875\n",
      "Не получилось отвергнуть нулевую гипотезу\n"
     ]
    }
   ],
   "source": [
    "alpha = 0.05\n",
    "results = st.ttest_ind(moscow, regions, equal_var = False)\n",
    "print('P-value:', results.pvalue)\n",
    "\n",
    "if (results.pvalue < alpha):\n",
    "    print(\"Отвергаем нулевую гипотезу\")\n",
    "else:\n",
    "    print(\"Не получилось отвергнуть нулевую гипотезу\")"
   ]
  },
  {
   "cell_type": "markdown",
   "id": "991fc9a3",
   "metadata": {},
   "source": [
    "**Вывод по второй гипотезе**  \n",
    "\n",
    "Полученное p-value равно 0.39, а значит существует большая вероятность того, что отличие средних значений выборок случайно и мы не можем отвергнуть нулевую гипотезу, которая говорит о том, что средняя выручка пользователей из Москвы и остальных регионов равна. Альтернативную гипотезу о различии средней выручки пользователей из Москвы и остальных регионов отвергаем."
   ]
  },
  {
   "cell_type": "markdown",
   "id": "8d4a3f3e",
   "metadata": {},
   "source": [
    "## Общий вывод"
   ]
  },
  {
   "cell_type": "markdown",
   "id": "d911d196",
   "metadata": {},
   "source": [
    "Для выполнения проекта были предоставлены пять таблиц с выборкой данных от телеком-компании \"Мегалайн\".  \n",
    "\n",
    "В ходе предобработки данных был сохранен полный объем предоставленной информации. В целом, предоставленные данные были корретны. Был изменен тип данных на datetime в столбцах с информацией о датах: совершенного звонка, отправленного сообщения и интернет-сессии. В соответствии с заданием округлены в большую сторону данные о продолжительности звонка и объему интернет-трафика. Для подсчета помесячной выручки с каждого клиента сгруппировал данные в 3 таблицы: calls_monthly, messages_monthly, internet_monthly. Путем объединения таблиц создал общую таблицу stat - в которую сгруппировал данные по каждому абоненту за каждый месяц пользования. Заполнил образовавшиеся пропуски. Рассчитал помесячную выручку за 2018 год для каждого пользователя. \n",
    "\n",
    "В ходе анализа установлено:\n",
    "- Последоватедьно, месяц за месяцем, траты на обоих тарифах росли, так как происходил приток новых клиентов;\n",
    "- В тарифе \"Смарт\" большинство клиентов укладываются в лимит 500 минут разговора - среднее значение за 2018 год - 387 минут. В тарифе \"Ультра\" среднемесячное значение - 496 минут (лимит в 3000 минут никем не превышен);\n",
    "- SMS-сообщения не популярная услуга на обоих тарифах. На тарифе \"Смарт\" лимит превышается редко, на тарифе \"Ультра\" - лимит не превышен никем;\n",
    "- Предоставление интернет-трафика наоборот очень популярная услуга. На тарифе \"Смарт\" клиенты часто превышают лимит, и даже среднее значение использования (с округлением 16 Гб) превышает установленный лимит в 15 Гб. На тарифе \"Ультра\" лимит в 30 Гб превышен небольшой частью клиентов.\n",
    "- Выручка абонентов \"Ультра\" в подавляющем большинстве случаев ограничивается ежемесячной платой 1950 рублей и в среднем превышается она на 89 рублей. Клиенты тарифа \"Смарт\" наоборот очень частенько платят сверх ежемесячной платы 550 рублей. Средняя переплата составляет 580 рублей. Основная причина переплаты - это перерасход интернет-трафика;\n",
    "- Значения общей выручки за 2018 год: тариф \"Смарт\" - 2 750 336 рублей, тариф \"Ультра\" - 2 031 640 рублей. Но учитывая, что в среднем за год один абонент \"Смарта\" заплатил 7836 рублей, а абонент \"Ультра\" - 13635  рублей, и зная, что на тарифе \"Смарт\" довольно часто переплачивают за интернет, то тариф \"Ультра\" выглядит более перспективным и сотруднмкам \"Мегалайна\" стоит сфокусироваться на его продвижении. Есть как минимум 78 клиентов, которым данный переход будет выгоден.  \n",
    "\n",
    "Проверены две гипотезы:\n",
    "- Первая гипотеза: средняя выручка пользователей тарифов «Ультра» и «Смарт» различается - ПОДТВЕРДИЛАСЬ;\n",
    "- Вторая гипотеза: средняя выручка пользователей из Москвы отличается от выручки пользователей из других регионов - НЕ ПОДТВЕРДИЛАСЬ."
   ]
  }
 ],
 "metadata": {
  "kernelspec": {
   "display_name": "Python 3 (ipykernel)",
   "language": "python",
   "name": "python3"
  },
  "language_info": {
   "codemirror_mode": {
    "name": "ipython",
    "version": 3
   },
   "file_extension": ".py",
   "mimetype": "text/x-python",
   "name": "python",
   "nbconvert_exporter": "python",
   "pygments_lexer": "ipython3",
   "version": "3.9.7"
  },
  "toc": {
   "base_numbering": 1,
   "nav_menu": {},
   "number_sections": true,
   "sideBar": true,
   "skip_h1_title": true,
   "title_cell": "Содержание",
   "title_sidebar": "Содержание",
   "toc_cell": true,
   "toc_position": {},
   "toc_section_display": true,
   "toc_window_display": true
  }
 },
 "nbformat": 4,
 "nbformat_minor": 5
}
