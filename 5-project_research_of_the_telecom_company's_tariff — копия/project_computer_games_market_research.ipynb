{
 "cells": [
  {
   "cell_type": "markdown",
   "id": "c9d83cc9",
   "metadata": {
    "toc": true
   },
   "source": [
    "<h1>Содержание<span class=\"tocSkip\"></span></h1>\n",
    "<div class=\"toc\"><ul class=\"toc-item\"><li><span><a href=\"#Открытие-файла-с-данными-и-изучение-общей-информации\" data-toc-modified-id=\"Открытие-файла-с-данными-и-изучение-общей-информации-1\"><span class=\"toc-item-num\">1&nbsp;&nbsp;</span>Открытие файла с данными и изучение общей информации</a></span></li><li><span><a href=\"#Подготовка-данных\" data-toc-modified-id=\"Подготовка-данных-2\"><span class=\"toc-item-num\">2&nbsp;&nbsp;</span>Подготовка данных</a></span><ul class=\"toc-item\"><li><span><a href=\"#Обработка-пропусков\" data-toc-modified-id=\"Обработка-пропусков-2.1\"><span class=\"toc-item-num\">2.1&nbsp;&nbsp;</span>Обработка пропусков</a></span></li><li><span><a href=\"#Изменение-типов-данных-и-добавление-информации\" data-toc-modified-id=\"Изменение-типов-данных-и-добавление-информации-2.2\"><span class=\"toc-item-num\">2.2&nbsp;&nbsp;</span>Изменение типов данных и добавление информации</a></span></li><li><span><a href=\"#Вывод\" data-toc-modified-id=\"Вывод-2.3\"><span class=\"toc-item-num\">2.3&nbsp;&nbsp;</span>Вывод</a></span></li></ul></li><li><span><a href=\"#Исследовательский-анализ-данных\" data-toc-modified-id=\"Исследовательский-анализ-данных-3\"><span class=\"toc-item-num\">3&nbsp;&nbsp;</span>Исследовательский анализ данных</a></span><ul class=\"toc-item\"><li><span><a href=\"#Выпуск-игр-в-разные-годы\" data-toc-modified-id=\"Выпуск-игр-в-разные-годы-3.1\"><span class=\"toc-item-num\">3.1&nbsp;&nbsp;</span>Выпуск игр в разные годы</a></span></li><li><span><a href=\"#Изменение-продаж-по-платформам\" data-toc-modified-id=\"Изменение-продаж-по-платформам-3.2\"><span class=\"toc-item-num\">3.2&nbsp;&nbsp;</span>Изменение продаж по платформам</a></span></li><li><span><a href=\"#Определение-потенциально-прибыльных-платформ\" data-toc-modified-id=\"Определение-потенциально-прибыльных-платформ-3.3\"><span class=\"toc-item-num\">3.3&nbsp;&nbsp;</span>Определение потенциально прибыльных платформ</a></span></li><li><span><a href=\"#Глобальные-продажи-игр-в-разбивке-по-платформам\" data-toc-modified-id=\"Глобальные-продажи-игр-в-разбивке-по-платформам-3.4\"><span class=\"toc-item-num\">3.4&nbsp;&nbsp;</span>Глобальные продажи игр в разбивке по платформам</a></span></li><li><span><a href=\"#Корреляция-между-отзывами-и-продажами\" data-toc-modified-id=\"Корреляция-между-отзывами-и-продажами-3.5\"><span class=\"toc-item-num\">3.5&nbsp;&nbsp;</span>Корреляция между отзывами и продажами</a></span></li><li><span><a href=\"#Общее-распределение-игр-по-жанрам\" data-toc-modified-id=\"Общее-распределение-игр-по-жанрам-3.6\"><span class=\"toc-item-num\">3.6&nbsp;&nbsp;</span>Общее распределение игр по жанрам</a></span></li><li><span><a href=\"#Вывод\" data-toc-modified-id=\"Вывод-3.7\"><span class=\"toc-item-num\">3.7&nbsp;&nbsp;</span>Вывод</a></span></li></ul></li><li><span><a href=\"#Составление-портрета-пользователя-каждого-региона\" data-toc-modified-id=\"Составление-портрета-пользователя-каждого-региона-4\"><span class=\"toc-item-num\">4&nbsp;&nbsp;</span>Составление портрета пользователя каждого региона</a></span><ul class=\"toc-item\"><li><span><a href=\"#Самые-поулярные-платформы-в-регионах\" data-toc-modified-id=\"Самые-поулярные-платформы-в-регионах-4.1\"><span class=\"toc-item-num\">4.1&nbsp;&nbsp;</span>Самые поулярные платформы в регионах</a></span></li><li><span><a href=\"#Самые-популярные-жанры-в-регионах\" data-toc-modified-id=\"Самые-популярные-жанры-в-регионах-4.2\"><span class=\"toc-item-num\">4.2&nbsp;&nbsp;</span>Самые популярные жанры в регионах</a></span></li><li><span><a href=\"#Влияние-возрастного-рейтинга-на-продажи-в-регионах\" data-toc-modified-id=\"Влияние-возрастного-рейтинга-на-продажи-в-регионах-4.3\"><span class=\"toc-item-num\">4.3&nbsp;&nbsp;</span>Влияние возрастного рейтинга на продажи в регионах</a></span></li><li><span><a href=\"#Вывод\" data-toc-modified-id=\"Вывод-4.4\"><span class=\"toc-item-num\">4.4&nbsp;&nbsp;</span>Вывод</a></span></li></ul></li><li><span><a href=\"#Проверка-гипотез\" data-toc-modified-id=\"Проверка-гипотез-5\"><span class=\"toc-item-num\">5&nbsp;&nbsp;</span>Проверка гипотез</a></span><ul class=\"toc-item\"><li><span><a href=\"#Проверка-первой-гипотезы\" data-toc-modified-id=\"Проверка-первой-гипотезы-5.1\"><span class=\"toc-item-num\">5.1&nbsp;&nbsp;</span>Проверка первой гипотезы</a></span></li><li><span><a href=\"#Проверка-второй-гипотезы\" data-toc-modified-id=\"Проверка-второй-гипотезы-5.2\"><span class=\"toc-item-num\">5.2&nbsp;&nbsp;</span>Проверка второй гипотезы</a></span></li></ul></li><li><span><a href=\"#Общий-вывод\" data-toc-modified-id=\"Общий-вывод-6\"><span class=\"toc-item-num\">6&nbsp;&nbsp;</span>Общий вывод</a></span></li></ul></div>"
   ]
  },
  {
   "cell_type": "markdown",
   "id": "6dd7ad5a",
   "metadata": {},
   "source": [
    "# Изучение закономерностей рынка компьютерных игр"
   ]
  },
  {
   "cell_type": "markdown",
   "id": "30df8d24",
   "metadata": {},
   "source": [
    "**Описание проекта:**  \n",
    "\n",
    "Из открытых источников доступны исторические данные о продажах игр, оценки пользователей и экспертов, жанры и платформы. Нужно выявить определяющие успешность игры закономерности. Это позволит сделать ставку на потенциально популярный продукт и спланировать рекламные кампании интернет-магазина.  \n",
    "Нам предоставлены данные за 2016 год. Представим, что сейчас декабрь 2016 г., и планируется кампания на 2017-й.  \n",
    "В наборе данных попадается аббревиатура ESRB (Entertainment Software Rating Board) — это ассоциация, определяющая возрастной рейтинг компьютерных игр. ESRB оценивает игровой контент и присваивает ему подходящую возрастную категорию, а именно:\n",
    "- EC («Early childhood») — «Для детей младшего возраста»\n",
    "- E («Everyone») — «Для всех»\n",
    "- K-A (\"Kids to Adults\") — вариация категории «Для всех»\n",
    "- E10+ («Everyone 10 and older») — «Для всех от 10 лет и старше»\n",
    "- T («Teen») — «Подросткам»\n",
    "- M («Mature») — «Для взрослых 17+»\n",
    "- AO («Adults Only 18+») — «Только для взрослых»\n",
    "- RP («Rating Pending») — «Рейтинг ожидается»\n",
    "- Данные за 2016 год могут быть неполными.\n",
    "\n",
    "**Описание данных:**  \n",
    "\n",
    "Name — название игры  \n",
    "Platform — платформа  \n",
    "Year_of_Release — год выпуска  \n",
    "Genre — жанр игры  \n",
    "NA_sales — продажи в Северной Америке (миллионы проданных копий)  \n",
    "EU_sales — продажи в Европе (миллионы проданных копий)  \n",
    "JP_sales — продажи в Японии (миллионы проданных копий)  \n",
    "Other_sales — продажи в других странах (миллионы проданных копий)  \n",
    "Critic_Score — оценка критиков (максимум 100)  \n",
    "User_Score — оценка пользователей (максимум 10)  \n",
    "Rating — рейтинг от организации ESRB (англ. Entertainment Software Rating Board)."
   ]
  },
  {
   "cell_type": "markdown",
   "id": "b0134d51",
   "metadata": {},
   "source": [
    "## Открытие файла с данными и изучение общей информации"
   ]
  },
  {
   "cell_type": "code",
   "execution_count": 2,
   "id": "d4aa9936",
   "metadata": {},
   "outputs": [],
   "source": [
    "import pandas as pd\n",
    "import numpy as np\n",
    "import matplotlib.pyplot as plt\n",
    "import seaborn as sns\n",
    "from scipy import stats as st\n",
    "import warnings"
   ]
  },
  {
   "cell_type": "code",
   "execution_count": 3,
   "id": "484f5026",
   "metadata": {},
   "outputs": [
    {
     "data": {
      "text/html": [
       "<div>\n",
       "<style scoped>\n",
       "    .dataframe tbody tr th:only-of-type {\n",
       "        vertical-align: middle;\n",
       "    }\n",
       "\n",
       "    .dataframe tbody tr th {\n",
       "        vertical-align: top;\n",
       "    }\n",
       "\n",
       "    .dataframe thead th {\n",
       "        text-align: right;\n",
       "    }\n",
       "</style>\n",
       "<table border=\"1\" class=\"dataframe\">\n",
       "  <thead>\n",
       "    <tr style=\"text-align: right;\">\n",
       "      <th></th>\n",
       "      <th>Name</th>\n",
       "      <th>Platform</th>\n",
       "      <th>Year_of_Release</th>\n",
       "      <th>Genre</th>\n",
       "      <th>NA_sales</th>\n",
       "      <th>EU_sales</th>\n",
       "      <th>JP_sales</th>\n",
       "      <th>Other_sales</th>\n",
       "      <th>Critic_Score</th>\n",
       "      <th>User_Score</th>\n",
       "      <th>Rating</th>\n",
       "    </tr>\n",
       "  </thead>\n",
       "  <tbody>\n",
       "    <tr>\n",
       "      <td>0</td>\n",
       "      <td>Wii Sports</td>\n",
       "      <td>Wii</td>\n",
       "      <td>2,006.00</td>\n",
       "      <td>Sports</td>\n",
       "      <td>41.36</td>\n",
       "      <td>28.96</td>\n",
       "      <td>3.77</td>\n",
       "      <td>8.45</td>\n",
       "      <td>76.00</td>\n",
       "      <td>8</td>\n",
       "      <td>E</td>\n",
       "    </tr>\n",
       "    <tr>\n",
       "      <td>1</td>\n",
       "      <td>Super Mario Bros.</td>\n",
       "      <td>NES</td>\n",
       "      <td>1,985.00</td>\n",
       "      <td>Platform</td>\n",
       "      <td>29.08</td>\n",
       "      <td>3.58</td>\n",
       "      <td>6.81</td>\n",
       "      <td>0.77</td>\n",
       "      <td>nan</td>\n",
       "      <td>NaN</td>\n",
       "      <td>NaN</td>\n",
       "    </tr>\n",
       "    <tr>\n",
       "      <td>2</td>\n",
       "      <td>Mario Kart Wii</td>\n",
       "      <td>Wii</td>\n",
       "      <td>2,008.00</td>\n",
       "      <td>Racing</td>\n",
       "      <td>15.68</td>\n",
       "      <td>12.76</td>\n",
       "      <td>3.79</td>\n",
       "      <td>3.29</td>\n",
       "      <td>82.00</td>\n",
       "      <td>8.3</td>\n",
       "      <td>E</td>\n",
       "    </tr>\n",
       "    <tr>\n",
       "      <td>3</td>\n",
       "      <td>Wii Sports Resort</td>\n",
       "      <td>Wii</td>\n",
       "      <td>2,009.00</td>\n",
       "      <td>Sports</td>\n",
       "      <td>15.61</td>\n",
       "      <td>10.93</td>\n",
       "      <td>3.28</td>\n",
       "      <td>2.95</td>\n",
       "      <td>80.00</td>\n",
       "      <td>8</td>\n",
       "      <td>E</td>\n",
       "    </tr>\n",
       "    <tr>\n",
       "      <td>4</td>\n",
       "      <td>Pokemon Red/Pokemon Blue</td>\n",
       "      <td>GB</td>\n",
       "      <td>1,996.00</td>\n",
       "      <td>Role-Playing</td>\n",
       "      <td>11.27</td>\n",
       "      <td>8.89</td>\n",
       "      <td>10.22</td>\n",
       "      <td>1.00</td>\n",
       "      <td>nan</td>\n",
       "      <td>NaN</td>\n",
       "      <td>NaN</td>\n",
       "    </tr>\n",
       "    <tr>\n",
       "      <td>5</td>\n",
       "      <td>Tetris</td>\n",
       "      <td>GB</td>\n",
       "      <td>1,989.00</td>\n",
       "      <td>Puzzle</td>\n",
       "      <td>23.20</td>\n",
       "      <td>2.26</td>\n",
       "      <td>4.22</td>\n",
       "      <td>0.58</td>\n",
       "      <td>nan</td>\n",
       "      <td>NaN</td>\n",
       "      <td>NaN</td>\n",
       "    </tr>\n",
       "    <tr>\n",
       "      <td>6</td>\n",
       "      <td>New Super Mario Bros.</td>\n",
       "      <td>DS</td>\n",
       "      <td>2,006.00</td>\n",
       "      <td>Platform</td>\n",
       "      <td>11.28</td>\n",
       "      <td>9.14</td>\n",
       "      <td>6.50</td>\n",
       "      <td>2.88</td>\n",
       "      <td>89.00</td>\n",
       "      <td>8.5</td>\n",
       "      <td>E</td>\n",
       "    </tr>\n",
       "    <tr>\n",
       "      <td>7</td>\n",
       "      <td>Wii Play</td>\n",
       "      <td>Wii</td>\n",
       "      <td>2,006.00</td>\n",
       "      <td>Misc</td>\n",
       "      <td>13.96</td>\n",
       "      <td>9.18</td>\n",
       "      <td>2.93</td>\n",
       "      <td>2.84</td>\n",
       "      <td>58.00</td>\n",
       "      <td>6.6</td>\n",
       "      <td>E</td>\n",
       "    </tr>\n",
       "    <tr>\n",
       "      <td>8</td>\n",
       "      <td>New Super Mario Bros. Wii</td>\n",
       "      <td>Wii</td>\n",
       "      <td>2,009.00</td>\n",
       "      <td>Platform</td>\n",
       "      <td>14.44</td>\n",
       "      <td>6.94</td>\n",
       "      <td>4.70</td>\n",
       "      <td>2.24</td>\n",
       "      <td>87.00</td>\n",
       "      <td>8.4</td>\n",
       "      <td>E</td>\n",
       "    </tr>\n",
       "    <tr>\n",
       "      <td>9</td>\n",
       "      <td>Duck Hunt</td>\n",
       "      <td>NES</td>\n",
       "      <td>1,984.00</td>\n",
       "      <td>Shooter</td>\n",
       "      <td>26.93</td>\n",
       "      <td>0.63</td>\n",
       "      <td>0.28</td>\n",
       "      <td>0.47</td>\n",
       "      <td>nan</td>\n",
       "      <td>NaN</td>\n",
       "      <td>NaN</td>\n",
       "    </tr>\n",
       "  </tbody>\n",
       "</table>\n",
       "</div>"
      ],
      "text/plain": [
       "                        Name Platform  Year_of_Release         Genre  \\\n",
       "0                 Wii Sports      Wii         2,006.00        Sports   \n",
       "1          Super Mario Bros.      NES         1,985.00      Platform   \n",
       "2             Mario Kart Wii      Wii         2,008.00        Racing   \n",
       "3          Wii Sports Resort      Wii         2,009.00        Sports   \n",
       "4   Pokemon Red/Pokemon Blue       GB         1,996.00  Role-Playing   \n",
       "5                     Tetris       GB         1,989.00        Puzzle   \n",
       "6      New Super Mario Bros.       DS         2,006.00      Platform   \n",
       "7                   Wii Play      Wii         2,006.00          Misc   \n",
       "8  New Super Mario Bros. Wii      Wii         2,009.00      Platform   \n",
       "9                  Duck Hunt      NES         1,984.00       Shooter   \n",
       "\n",
       "   NA_sales  EU_sales  JP_sales  Other_sales  Critic_Score User_Score Rating  \n",
       "0     41.36     28.96      3.77         8.45         76.00          8      E  \n",
       "1     29.08      3.58      6.81         0.77           nan        NaN    NaN  \n",
       "2     15.68     12.76      3.79         3.29         82.00        8.3      E  \n",
       "3     15.61     10.93      3.28         2.95         80.00          8      E  \n",
       "4     11.27      8.89     10.22         1.00           nan        NaN    NaN  \n",
       "5     23.20      2.26      4.22         0.58           nan        NaN    NaN  \n",
       "6     11.28      9.14      6.50         2.88         89.00        8.5      E  \n",
       "7     13.96      9.18      2.93         2.84         58.00        6.6      E  \n",
       "8     14.44      6.94      4.70         2.24         87.00        8.4      E  \n",
       "9     26.93      0.63      0.28         0.47           nan        NaN    NaN  "
      ]
     },
     "metadata": {},
     "output_type": "display_data"
    },
    {
     "name": "stdout",
     "output_type": "stream",
     "text": [
      "<class 'pandas.core.frame.DataFrame'>\n",
      "RangeIndex: 16715 entries, 0 to 16714\n",
      "Data columns (total 11 columns):\n",
      "Name               16713 non-null object\n",
      "Platform           16715 non-null object\n",
      "Year_of_Release    16446 non-null float64\n",
      "Genre              16713 non-null object\n",
      "NA_sales           16715 non-null float64\n",
      "EU_sales           16715 non-null float64\n",
      "JP_sales           16715 non-null float64\n",
      "Other_sales        16715 non-null float64\n",
      "Critic_Score       8137 non-null float64\n",
      "User_Score         10014 non-null object\n",
      "Rating             9949 non-null object\n",
      "dtypes: float64(6), object(5)\n",
      "memory usage: 1.4+ MB\n"
     ]
    }
   ],
   "source": [
    "try:\n",
    "    df = pd.read_csv('games.csv')\n",
    "except:\n",
    "    df = pd.read_csv('/datasets/games.csv')\n",
    "    \n",
    "pd.options.display.float_format = '{:,.2f}'.format\n",
    "display(df.head(10))\n",
    "df.info()"
   ]
  },
  {
   "cell_type": "code",
   "execution_count": 4,
   "id": "7f9ef4ad",
   "metadata": {},
   "outputs": [
    {
     "data": {
      "text/html": [
       "<div>\n",
       "<style scoped>\n",
       "    .dataframe tbody tr th:only-of-type {\n",
       "        vertical-align: middle;\n",
       "    }\n",
       "\n",
       "    .dataframe tbody tr th {\n",
       "        vertical-align: top;\n",
       "    }\n",
       "\n",
       "    .dataframe thead th {\n",
       "        text-align: right;\n",
       "    }\n",
       "</style>\n",
       "<table border=\"1\" class=\"dataframe\">\n",
       "  <thead>\n",
       "    <tr style=\"text-align: right;\">\n",
       "      <th></th>\n",
       "      <th>count</th>\n",
       "      <th>unique</th>\n",
       "      <th>top</th>\n",
       "      <th>freq</th>\n",
       "      <th>mean</th>\n",
       "      <th>std</th>\n",
       "      <th>min</th>\n",
       "      <th>25%</th>\n",
       "      <th>50%</th>\n",
       "      <th>75%</th>\n",
       "      <th>max</th>\n",
       "    </tr>\n",
       "  </thead>\n",
       "  <tbody>\n",
       "    <tr>\n",
       "      <td>Name</td>\n",
       "      <td>16713</td>\n",
       "      <td>11559</td>\n",
       "      <td>Need for Speed: Most Wanted</td>\n",
       "      <td>12</td>\n",
       "      <td>NaN</td>\n",
       "      <td>NaN</td>\n",
       "      <td>NaN</td>\n",
       "      <td>NaN</td>\n",
       "      <td>NaN</td>\n",
       "      <td>NaN</td>\n",
       "      <td>NaN</td>\n",
       "    </tr>\n",
       "    <tr>\n",
       "      <td>Platform</td>\n",
       "      <td>16715</td>\n",
       "      <td>31</td>\n",
       "      <td>PS2</td>\n",
       "      <td>2161</td>\n",
       "      <td>NaN</td>\n",
       "      <td>NaN</td>\n",
       "      <td>NaN</td>\n",
       "      <td>NaN</td>\n",
       "      <td>NaN</td>\n",
       "      <td>NaN</td>\n",
       "      <td>NaN</td>\n",
       "    </tr>\n",
       "    <tr>\n",
       "      <td>Year_of_Release</td>\n",
       "      <td>16,446.00</td>\n",
       "      <td>NaN</td>\n",
       "      <td>NaN</td>\n",
       "      <td>NaN</td>\n",
       "      <td>2,006.48</td>\n",
       "      <td>5.88</td>\n",
       "      <td>1,980.00</td>\n",
       "      <td>2,003.00</td>\n",
       "      <td>2,007.00</td>\n",
       "      <td>2,010.00</td>\n",
       "      <td>2,016.00</td>\n",
       "    </tr>\n",
       "    <tr>\n",
       "      <td>Genre</td>\n",
       "      <td>16713</td>\n",
       "      <td>12</td>\n",
       "      <td>Action</td>\n",
       "      <td>3369</td>\n",
       "      <td>NaN</td>\n",
       "      <td>NaN</td>\n",
       "      <td>NaN</td>\n",
       "      <td>NaN</td>\n",
       "      <td>NaN</td>\n",
       "      <td>NaN</td>\n",
       "      <td>NaN</td>\n",
       "    </tr>\n",
       "    <tr>\n",
       "      <td>NA_sales</td>\n",
       "      <td>16,715.00</td>\n",
       "      <td>NaN</td>\n",
       "      <td>NaN</td>\n",
       "      <td>NaN</td>\n",
       "      <td>0.26</td>\n",
       "      <td>0.81</td>\n",
       "      <td>0.00</td>\n",
       "      <td>0.00</td>\n",
       "      <td>0.08</td>\n",
       "      <td>0.24</td>\n",
       "      <td>41.36</td>\n",
       "    </tr>\n",
       "    <tr>\n",
       "      <td>EU_sales</td>\n",
       "      <td>16,715.00</td>\n",
       "      <td>NaN</td>\n",
       "      <td>NaN</td>\n",
       "      <td>NaN</td>\n",
       "      <td>0.15</td>\n",
       "      <td>0.50</td>\n",
       "      <td>0.00</td>\n",
       "      <td>0.00</td>\n",
       "      <td>0.02</td>\n",
       "      <td>0.11</td>\n",
       "      <td>28.96</td>\n",
       "    </tr>\n",
       "    <tr>\n",
       "      <td>JP_sales</td>\n",
       "      <td>16,715.00</td>\n",
       "      <td>NaN</td>\n",
       "      <td>NaN</td>\n",
       "      <td>NaN</td>\n",
       "      <td>0.08</td>\n",
       "      <td>0.31</td>\n",
       "      <td>0.00</td>\n",
       "      <td>0.00</td>\n",
       "      <td>0.00</td>\n",
       "      <td>0.04</td>\n",
       "      <td>10.22</td>\n",
       "    </tr>\n",
       "    <tr>\n",
       "      <td>Other_sales</td>\n",
       "      <td>16,715.00</td>\n",
       "      <td>NaN</td>\n",
       "      <td>NaN</td>\n",
       "      <td>NaN</td>\n",
       "      <td>0.05</td>\n",
       "      <td>0.19</td>\n",
       "      <td>0.00</td>\n",
       "      <td>0.00</td>\n",
       "      <td>0.01</td>\n",
       "      <td>0.03</td>\n",
       "      <td>10.57</td>\n",
       "    </tr>\n",
       "    <tr>\n",
       "      <td>Critic_Score</td>\n",
       "      <td>8,137.00</td>\n",
       "      <td>NaN</td>\n",
       "      <td>NaN</td>\n",
       "      <td>NaN</td>\n",
       "      <td>68.97</td>\n",
       "      <td>13.94</td>\n",
       "      <td>13.00</td>\n",
       "      <td>60.00</td>\n",
       "      <td>71.00</td>\n",
       "      <td>79.00</td>\n",
       "      <td>98.00</td>\n",
       "    </tr>\n",
       "    <tr>\n",
       "      <td>User_Score</td>\n",
       "      <td>10014</td>\n",
       "      <td>96</td>\n",
       "      <td>tbd</td>\n",
       "      <td>2424</td>\n",
       "      <td>NaN</td>\n",
       "      <td>NaN</td>\n",
       "      <td>NaN</td>\n",
       "      <td>NaN</td>\n",
       "      <td>NaN</td>\n",
       "      <td>NaN</td>\n",
       "      <td>NaN</td>\n",
       "    </tr>\n",
       "    <tr>\n",
       "      <td>Rating</td>\n",
       "      <td>9949</td>\n",
       "      <td>8</td>\n",
       "      <td>E</td>\n",
       "      <td>3990</td>\n",
       "      <td>NaN</td>\n",
       "      <td>NaN</td>\n",
       "      <td>NaN</td>\n",
       "      <td>NaN</td>\n",
       "      <td>NaN</td>\n",
       "      <td>NaN</td>\n",
       "      <td>NaN</td>\n",
       "    </tr>\n",
       "  </tbody>\n",
       "</table>\n",
       "</div>"
      ],
      "text/plain": [
       "                    count unique                          top  freq     mean  \\\n",
       "Name                16713  11559  Need for Speed: Most Wanted    12      NaN   \n",
       "Platform            16715     31                          PS2  2161      NaN   \n",
       "Year_of_Release 16,446.00    NaN                          NaN   NaN 2,006.48   \n",
       "Genre               16713     12                       Action  3369      NaN   \n",
       "NA_sales        16,715.00    NaN                          NaN   NaN     0.26   \n",
       "EU_sales        16,715.00    NaN                          NaN   NaN     0.15   \n",
       "JP_sales        16,715.00    NaN                          NaN   NaN     0.08   \n",
       "Other_sales     16,715.00    NaN                          NaN   NaN     0.05   \n",
       "Critic_Score     8,137.00    NaN                          NaN   NaN    68.97   \n",
       "User_Score          10014     96                          tbd  2424      NaN   \n",
       "Rating               9949      8                            E  3990      NaN   \n",
       "\n",
       "                  std      min      25%      50%      75%      max  \n",
       "Name              NaN      NaN      NaN      NaN      NaN      NaN  \n",
       "Platform          NaN      NaN      NaN      NaN      NaN      NaN  \n",
       "Year_of_Release  5.88 1,980.00 2,003.00 2,007.00 2,010.00 2,016.00  \n",
       "Genre             NaN      NaN      NaN      NaN      NaN      NaN  \n",
       "NA_sales         0.81     0.00     0.00     0.08     0.24    41.36  \n",
       "EU_sales         0.50     0.00     0.00     0.02     0.11    28.96  \n",
       "JP_sales         0.31     0.00     0.00     0.00     0.04    10.22  \n",
       "Other_sales      0.19     0.00     0.00     0.01     0.03    10.57  \n",
       "Critic_Score    13.94    13.00    60.00    71.00    79.00    98.00  \n",
       "User_Score        NaN      NaN      NaN      NaN      NaN      NaN  \n",
       "Rating            NaN      NaN      NaN      NaN      NaN      NaN  "
      ]
     },
     "execution_count": 4,
     "metadata": {},
     "output_type": "execute_result"
    }
   ],
   "source": [
    "df.describe(include=['float','object']).T"
   ]
  },
  {
   "cell_type": "code",
   "execution_count": 5,
   "id": "8aa51a00",
   "metadata": {},
   "outputs": [
    {
     "data": {
      "text/plain": [
       "Name               0.01\n",
       "Platform           0.00\n",
       "Year_of_Release    1.61\n",
       "Genre              0.01\n",
       "NA_sales           0.00\n",
       "EU_sales           0.00\n",
       "JP_sales           0.00\n",
       "Other_sales        0.00\n",
       "Critic_Score      51.32\n",
       "User_Score        40.09\n",
       "Rating            40.48\n",
       "dtype: float64"
      ]
     },
     "execution_count": 5,
     "metadata": {},
     "output_type": "execute_result"
    }
   ],
   "source": [
    "df.isna().mean() * 100"
   ]
  },
  {
   "cell_type": "markdown",
   "id": "710c90fd",
   "metadata": {},
   "source": [
    "**Вывод по данным:**  \n",
    "\n",
    "В исходном датасете 16715 строк и 11 колонок. Прочитав данные и ознакомившись с ними, выявил ошибки и неточности, которые необходимо обработать:\n",
    "- названия столбцов содержат в себе буквы разного регистра;\n",
    "- имеются пропуски в столбцах: Name - 0,1 %, Year_of_Release - 1,6 %, Genre - 0,1 %, Critic_Score - 51,3 %, User_Score - 40,1 % и Rating - 40,5 %;\n",
    "- в столбце Year_of_Release необходимо изменить тип данных;\n",
    "- значения в столбце User_Score необходимо перевести в числовой формат."
   ]
  },
  {
   "cell_type": "markdown",
   "id": "c7501729",
   "metadata": {},
   "source": [
    "## Подготовка данных"
   ]
  },
  {
   "cell_type": "markdown",
   "id": "f22b6fbb",
   "metadata": {},
   "source": [
    "Изменим названия столбцов - приведем их к нижнему регистру."
   ]
  },
  {
   "cell_type": "code",
   "execution_count": 6,
   "id": "dc2a8604",
   "metadata": {},
   "outputs": [],
   "source": [
    "df.columns = df.columns.str.lower()"
   ]
  },
  {
   "cell_type": "markdown",
   "id": "a8dcbab4",
   "metadata": {},
   "source": [
    "### Обработка пропусков"
   ]
  },
  {
   "cell_type": "markdown",
   "id": "99470441",
   "metadata": {},
   "source": [
    "Проверим пропуски в названиях игр."
   ]
  },
  {
   "cell_type": "code",
   "execution_count": 7,
   "id": "ea04310e",
   "metadata": {},
   "outputs": [
    {
     "data": {
      "text/html": [
       "<div>\n",
       "<style scoped>\n",
       "    .dataframe tbody tr th:only-of-type {\n",
       "        vertical-align: middle;\n",
       "    }\n",
       "\n",
       "    .dataframe tbody tr th {\n",
       "        vertical-align: top;\n",
       "    }\n",
       "\n",
       "    .dataframe thead th {\n",
       "        text-align: right;\n",
       "    }\n",
       "</style>\n",
       "<table border=\"1\" class=\"dataframe\">\n",
       "  <thead>\n",
       "    <tr style=\"text-align: right;\">\n",
       "      <th></th>\n",
       "      <th>name</th>\n",
       "      <th>platform</th>\n",
       "      <th>year_of_release</th>\n",
       "      <th>genre</th>\n",
       "      <th>na_sales</th>\n",
       "      <th>eu_sales</th>\n",
       "      <th>jp_sales</th>\n",
       "      <th>other_sales</th>\n",
       "      <th>critic_score</th>\n",
       "      <th>user_score</th>\n",
       "      <th>rating</th>\n",
       "    </tr>\n",
       "  </thead>\n",
       "  <tbody>\n",
       "    <tr>\n",
       "      <td>659</td>\n",
       "      <td>NaN</td>\n",
       "      <td>GEN</td>\n",
       "      <td>1,993.00</td>\n",
       "      <td>NaN</td>\n",
       "      <td>1.78</td>\n",
       "      <td>0.53</td>\n",
       "      <td>0.00</td>\n",
       "      <td>0.08</td>\n",
       "      <td>nan</td>\n",
       "      <td>NaN</td>\n",
       "      <td>NaN</td>\n",
       "    </tr>\n",
       "    <tr>\n",
       "      <td>14244</td>\n",
       "      <td>NaN</td>\n",
       "      <td>GEN</td>\n",
       "      <td>1,993.00</td>\n",
       "      <td>NaN</td>\n",
       "      <td>0.00</td>\n",
       "      <td>0.00</td>\n",
       "      <td>0.03</td>\n",
       "      <td>0.00</td>\n",
       "      <td>nan</td>\n",
       "      <td>NaN</td>\n",
       "      <td>NaN</td>\n",
       "    </tr>\n",
       "  </tbody>\n",
       "</table>\n",
       "</div>"
      ],
      "text/plain": [
       "      name platform  year_of_release genre  na_sales  eu_sales  jp_sales  \\\n",
       "659    NaN      GEN         1,993.00   NaN      1.78      0.53      0.00   \n",
       "14244  NaN      GEN         1,993.00   NaN      0.00      0.00      0.03   \n",
       "\n",
       "       other_sales  critic_score user_score rating  \n",
       "659           0.08           nan        NaN    NaN  \n",
       "14244         0.00           nan        NaN    NaN  "
      ]
     },
     "execution_count": 7,
     "metadata": {},
     "output_type": "execute_result"
    }
   ],
   "source": [
    "df[df['name'].isna()]"
   ]
  },
  {
   "cell_type": "code",
   "execution_count": 8,
   "id": "d2a6f41d",
   "metadata": {},
   "outputs": [
    {
     "data": {
      "text/html": [
       "<div>\n",
       "<style scoped>\n",
       "    .dataframe tbody tr th:only-of-type {\n",
       "        vertical-align: middle;\n",
       "    }\n",
       "\n",
       "    .dataframe tbody tr th {\n",
       "        vertical-align: top;\n",
       "    }\n",
       "\n",
       "    .dataframe thead th {\n",
       "        text-align: right;\n",
       "    }\n",
       "</style>\n",
       "<table border=\"1\" class=\"dataframe\">\n",
       "  <thead>\n",
       "    <tr style=\"text-align: right;\">\n",
       "      <th></th>\n",
       "      <th>name</th>\n",
       "      <th>platform</th>\n",
       "      <th>year_of_release</th>\n",
       "      <th>genre</th>\n",
       "      <th>na_sales</th>\n",
       "      <th>eu_sales</th>\n",
       "      <th>jp_sales</th>\n",
       "      <th>other_sales</th>\n",
       "      <th>critic_score</th>\n",
       "      <th>user_score</th>\n",
       "      <th>rating</th>\n",
       "    </tr>\n",
       "  </thead>\n",
       "  <tbody>\n",
       "    <tr>\n",
       "      <td>659</td>\n",
       "      <td>NaN</td>\n",
       "      <td>GEN</td>\n",
       "      <td>1,993.00</td>\n",
       "      <td>NaN</td>\n",
       "      <td>1.78</td>\n",
       "      <td>0.53</td>\n",
       "      <td>0.00</td>\n",
       "      <td>0.08</td>\n",
       "      <td>nan</td>\n",
       "      <td>NaN</td>\n",
       "      <td>NaN</td>\n",
       "    </tr>\n",
       "    <tr>\n",
       "      <td>7885</td>\n",
       "      <td>Shining Force II</td>\n",
       "      <td>GEN</td>\n",
       "      <td>1,993.00</td>\n",
       "      <td>Strategy</td>\n",
       "      <td>0.00</td>\n",
       "      <td>0.00</td>\n",
       "      <td>0.19</td>\n",
       "      <td>0.00</td>\n",
       "      <td>nan</td>\n",
       "      <td>NaN</td>\n",
       "      <td>NaN</td>\n",
       "    </tr>\n",
       "    <tr>\n",
       "      <td>8893</td>\n",
       "      <td>Super Street Fighter II</td>\n",
       "      <td>GEN</td>\n",
       "      <td>1,993.00</td>\n",
       "      <td>Fighting</td>\n",
       "      <td>0.00</td>\n",
       "      <td>0.00</td>\n",
       "      <td>0.15</td>\n",
       "      <td>0.00</td>\n",
       "      <td>nan</td>\n",
       "      <td>NaN</td>\n",
       "      <td>NaN</td>\n",
       "    </tr>\n",
       "    <tr>\n",
       "      <td>11986</td>\n",
       "      <td>Ecco: The Tides of Time</td>\n",
       "      <td>GEN</td>\n",
       "      <td>1,993.00</td>\n",
       "      <td>Adventure</td>\n",
       "      <td>0.00</td>\n",
       "      <td>0.00</td>\n",
       "      <td>0.07</td>\n",
       "      <td>0.00</td>\n",
       "      <td>nan</td>\n",
       "      <td>NaN</td>\n",
       "      <td>NaN</td>\n",
       "    </tr>\n",
       "    <tr>\n",
       "      <td>12098</td>\n",
       "      <td>Street Fighter II': Special Champion Edition (...</td>\n",
       "      <td>GEN</td>\n",
       "      <td>1,993.00</td>\n",
       "      <td>Action</td>\n",
       "      <td>0.00</td>\n",
       "      <td>0.00</td>\n",
       "      <td>0.07</td>\n",
       "      <td>0.00</td>\n",
       "      <td>nan</td>\n",
       "      <td>NaN</td>\n",
       "      <td>NaN</td>\n",
       "    </tr>\n",
       "    <tr>\n",
       "      <td>12264</td>\n",
       "      <td>Streets of Rage 3</td>\n",
       "      <td>GEN</td>\n",
       "      <td>1,993.00</td>\n",
       "      <td>Action</td>\n",
       "      <td>0.00</td>\n",
       "      <td>0.00</td>\n",
       "      <td>0.07</td>\n",
       "      <td>0.00</td>\n",
       "      <td>nan</td>\n",
       "      <td>NaN</td>\n",
       "      <td>NaN</td>\n",
       "    </tr>\n",
       "    <tr>\n",
       "      <td>12984</td>\n",
       "      <td>Dynamite Headdy</td>\n",
       "      <td>GEN</td>\n",
       "      <td>1,993.00</td>\n",
       "      <td>Platform</td>\n",
       "      <td>0.00</td>\n",
       "      <td>0.00</td>\n",
       "      <td>0.05</td>\n",
       "      <td>0.00</td>\n",
       "      <td>nan</td>\n",
       "      <td>NaN</td>\n",
       "      <td>NaN</td>\n",
       "    </tr>\n",
       "    <tr>\n",
       "      <td>13343</td>\n",
       "      <td>Beyond Oasis</td>\n",
       "      <td>GEN</td>\n",
       "      <td>1,993.00</td>\n",
       "      <td>Role-Playing</td>\n",
       "      <td>0.00</td>\n",
       "      <td>0.00</td>\n",
       "      <td>0.05</td>\n",
       "      <td>0.00</td>\n",
       "      <td>nan</td>\n",
       "      <td>NaN</td>\n",
       "      <td>NaN</td>\n",
       "    </tr>\n",
       "    <tr>\n",
       "      <td>14244</td>\n",
       "      <td>NaN</td>\n",
       "      <td>GEN</td>\n",
       "      <td>1,993.00</td>\n",
       "      <td>NaN</td>\n",
       "      <td>0.00</td>\n",
       "      <td>0.00</td>\n",
       "      <td>0.03</td>\n",
       "      <td>0.00</td>\n",
       "      <td>nan</td>\n",
       "      <td>NaN</td>\n",
       "      <td>NaN</td>\n",
       "    </tr>\n",
       "  </tbody>\n",
       "</table>\n",
       "</div>"
      ],
      "text/plain": [
       "                                                    name platform  \\\n",
       "659                                                  NaN      GEN   \n",
       "7885                                    Shining Force II      GEN   \n",
       "8893                             Super Street Fighter II      GEN   \n",
       "11986                            Ecco: The Tides of Time      GEN   \n",
       "12098  Street Fighter II': Special Champion Edition (...      GEN   \n",
       "12264                                  Streets of Rage 3      GEN   \n",
       "12984                                    Dynamite Headdy      GEN   \n",
       "13343                                       Beyond Oasis      GEN   \n",
       "14244                                                NaN      GEN   \n",
       "\n",
       "       year_of_release         genre  na_sales  eu_sales  jp_sales  \\\n",
       "659           1,993.00           NaN      1.78      0.53      0.00   \n",
       "7885          1,993.00      Strategy      0.00      0.00      0.19   \n",
       "8893          1,993.00      Fighting      0.00      0.00      0.15   \n",
       "11986         1,993.00     Adventure      0.00      0.00      0.07   \n",
       "12098         1,993.00        Action      0.00      0.00      0.07   \n",
       "12264         1,993.00        Action      0.00      0.00      0.07   \n",
       "12984         1,993.00      Platform      0.00      0.00      0.05   \n",
       "13343         1,993.00  Role-Playing      0.00      0.00      0.05   \n",
       "14244         1,993.00           NaN      0.00      0.00      0.03   \n",
       "\n",
       "       other_sales  critic_score user_score rating  \n",
       "659           0.08           nan        NaN    NaN  \n",
       "7885          0.00           nan        NaN    NaN  \n",
       "8893          0.00           nan        NaN    NaN  \n",
       "11986         0.00           nan        NaN    NaN  \n",
       "12098         0.00           nan        NaN    NaN  \n",
       "12264         0.00           nan        NaN    NaN  \n",
       "12984         0.00           nan        NaN    NaN  \n",
       "13343         0.00           nan        NaN    NaN  \n",
       "14244         0.00           nan        NaN    NaN  "
      ]
     },
     "execution_count": 8,
     "metadata": {},
     "output_type": "execute_result"
    }
   ],
   "source": [
    "df.query('platform==\"GEN\" and year_of_release==1993')"
   ]
  },
  {
   "cell_type": "markdown",
   "id": "99e363a9",
   "metadata": {},
   "source": [
    "Основательных данных, чтобы заполнить пропуски в названии игр в зависимости от значений других столбцов, не нашлось, поэтому избавимся от этих двух строк."
   ]
  },
  {
   "cell_type": "code",
   "execution_count": 9,
   "id": "294deda3",
   "metadata": {},
   "outputs": [],
   "source": [
    "df.dropna(subset=['name'], inplace=True)\n",
    "df = df.reset_index(drop=True)"
   ]
  },
  {
   "cell_type": "markdown",
   "id": "cac756bb",
   "metadata": {},
   "source": [
    "Хоть в столбце с названием игровой платформы и нет пропусков, но необходимо посмотреть, что из себя представляют, находящиеся в нем значения."
   ]
  },
  {
   "cell_type": "code",
   "execution_count": 10,
   "id": "c434b701",
   "metadata": {},
   "outputs": [
    {
     "data": {
      "text/plain": [
       "PS2     2161\n",
       "DS      2151\n",
       "PS3     1331\n",
       "Wii     1320\n",
       "X360    1262\n",
       "PSP     1209\n",
       "PS      1197\n",
       "PC       974\n",
       "XB       824\n",
       "GBA      822\n",
       "GC       556\n",
       "3DS      520\n",
       "PSV      430\n",
       "PS4      392\n",
       "N64      319\n",
       "XOne     247\n",
       "SNES     239\n",
       "SAT      173\n",
       "WiiU     147\n",
       "2600     133\n",
       "GB        98\n",
       "NES       98\n",
       "DC        52\n",
       "GEN       27\n",
       "NG        12\n",
       "WS         6\n",
       "SCD        6\n",
       "3DO        3\n",
       "TG16       2\n",
       "GG         1\n",
       "PCFX       1\n",
       "Name: platform, dtype: int64"
      ]
     },
     "execution_count": 10,
     "metadata": {},
     "output_type": "execute_result"
    }
   ],
   "source": [
    "df['platform'].value_counts()"
   ]
  },
  {
   "cell_type": "markdown",
   "id": "85ad1868",
   "metadata": {},
   "source": [
    "Некорректных значений не обнаружил, столбец в порядке."
   ]
  },
  {
   "cell_type": "markdown",
   "id": "78895ce2",
   "metadata": {},
   "source": [
    "Проверим и откорректируем столбец с годом реализации игр."
   ]
  },
  {
   "cell_type": "code",
   "execution_count": 11,
   "id": "ec72d72e",
   "metadata": {},
   "outputs": [
    {
     "data": {
      "text/plain": [
       "2,008.00    1427\n",
       "2,009.00    1426\n",
       "2,010.00    1255\n",
       "2,007.00    1197\n",
       "2,011.00    1136\n",
       "2,006.00    1006\n",
       "2,005.00     939\n",
       "2,002.00     829\n",
       "2,003.00     775\n",
       "2,004.00     762\n",
       "2,012.00     653\n",
       "2,015.00     606\n",
       "2,014.00     581\n",
       "2,013.00     544\n",
       "2,016.00     502\n",
       "2,001.00     482\n",
       "1,998.00     379\n",
       "2,000.00     350\n",
       "1,999.00     338\n",
       "1,997.00     289\n",
       "1,996.00     263\n",
       "1,995.00     219\n",
       "1,994.00     121\n",
       "1,993.00      60\n",
       "1,981.00      46\n",
       "1,992.00      43\n",
       "1,991.00      41\n",
       "1,982.00      36\n",
       "1,986.00      21\n",
       "1,989.00      17\n",
       "1,983.00      17\n",
       "1,990.00      16\n",
       "1,987.00      16\n",
       "1,988.00      15\n",
       "1,985.00      14\n",
       "1,984.00      14\n",
       "1,980.00       9\n",
       "Name: year_of_release, dtype: int64"
      ]
     },
     "execution_count": 11,
     "metadata": {},
     "output_type": "execute_result"
    }
   ],
   "source": [
    "df['year_of_release'].value_counts()"
   ]
  },
  {
   "cell_type": "markdown",
   "id": "369caf8d",
   "metadata": {},
   "source": [
    "Из списка видно, что самый ранний год реализации игры 1980, а самый поздний 2016. Наиболее насыщенные года по реализации - 2008 и 2009. "
   ]
  },
  {
   "cell_type": "code",
   "execution_count": 12,
   "id": "24bf1b4a",
   "metadata": {},
   "outputs": [
    {
     "name": "stdout",
     "output_type": "stream",
     "text": [
      "Количество пропусков в столбце = 269\n"
     ]
    }
   ],
   "source": [
    "print('Количество пропусков в столбце =', df['year_of_release'].isna().sum())"
   ]
  },
  {
   "cell_type": "markdown",
   "id": "c7333f30",
   "metadata": {},
   "source": [
    "Учитывая, что даты выпуска на разных игровых платформах и в разных странах могут отличаться, считаю некорректно замещать пропуски основываясь на эти данные. Поэтому заменим пропуски на нетипичное значение -1."
   ]
  },
  {
   "cell_type": "code",
   "execution_count": 13,
   "id": "b03dadd5",
   "metadata": {},
   "outputs": [],
   "source": [
    "df['year_of_release'] = df['year_of_release'].fillna(-1)"
   ]
  },
  {
   "cell_type": "markdown",
   "id": "5b794f6a",
   "metadata": {},
   "source": [
    "Проверим столбец с жанрами игр."
   ]
  },
  {
   "cell_type": "code",
   "execution_count": 14,
   "id": "a1f5f7d7",
   "metadata": {},
   "outputs": [
    {
     "data": {
      "text/plain": [
       "Action          3369\n",
       "Sports          2348\n",
       "Misc            1750\n",
       "Role-Playing    1498\n",
       "Shooter         1323\n",
       "Adventure       1303\n",
       "Racing          1249\n",
       "Platform         888\n",
       "Simulation       873\n",
       "Fighting         849\n",
       "Strategy         683\n",
       "Puzzle           580\n",
       "Name: genre, dtype: int64"
      ]
     },
     "execution_count": 14,
     "metadata": {},
     "output_type": "execute_result"
    }
   ],
   "source": [
    "df['genre'].value_counts()"
   ]
  },
  {
   "cell_type": "markdown",
   "id": "1d9654c5",
   "metadata": {},
   "source": [
    "Данные в столбце корректны. Пропуски из столбца убрались, когда удалили пропуски из столбца с названием игры."
   ]
  },
  {
   "cell_type": "markdown",
   "id": "3518adb3",
   "metadata": {},
   "source": [
    "Пропуски в столбцах 'critic_score' и 'user_score' могли возникнуть из-за большого количества разных факторов. Во-первых, в 80-е года обратная связь была еще очень слабой, а может раньше эти данные просто не собирали. Во-вторых, сильно влияют игровые платформы: кто-то больше любит приставки, а кто-то компьютеры. А также бонально могли быть сбои системы, ошибки при выгрузке данных, человеческий фактор и другое. Заполнили пропуски нетипичным значением -1, а затем будем учитывать это в дальнейшей работе. Это поможет сохранить данные и не повлиять на результаты исследования."
   ]
  },
  {
   "cell_type": "code",
   "execution_count": 15,
   "id": "32d12d22",
   "metadata": {},
   "outputs": [],
   "source": [
    "df['critic_score'] = df['critic_score'].fillna(-1)\n",
    "df['user_score'] = df['user_score'].fillna(-1)"
   ]
  },
  {
   "cell_type": "markdown",
   "id": "97a3a64b",
   "metadata": {},
   "source": [
    "Из характеристик таблицы мы знаем, что в столбце 'user_score' имеются значения 'tbd' (to be determined), переводится как: \"будет определен позднее\", то есть, для этих наблюдений оценка пользователей еще не определена. Заменим эти значения также на -1."
   ]
  },
  {
   "cell_type": "code",
   "execution_count": 16,
   "id": "8882c58d",
   "metadata": {},
   "outputs": [],
   "source": [
    "df['user_score'] = df['user_score'].replace('tbd', -1)"
   ]
  },
  {
   "cell_type": "markdown",
   "id": "b3dfd362",
   "metadata": {},
   "source": [
    "Проверим столбец с рейтингом по возрастной категории."
   ]
  },
  {
   "cell_type": "code",
   "execution_count": 17,
   "id": "e09f4703",
   "metadata": {},
   "outputs": [
    {
     "data": {
      "text/plain": [
       "E       3990\n",
       "T       2961\n",
       "M       1563\n",
       "E10+    1420\n",
       "EC         8\n",
       "RP         3\n",
       "K-A        3\n",
       "AO         1\n",
       "Name: rating, dtype: int64"
      ]
     },
     "execution_count": 17,
     "metadata": {},
     "output_type": "execute_result"
    }
   ],
   "source": [
    "df['rating'].value_counts()"
   ]
  },
  {
   "cell_type": "markdown",
   "id": "ae01de75",
   "metadata": {},
   "source": [
    "Так как в столбце 'rating' есть категории E и K-A, которые являются вариациями одной категории, то приведем их к единообразию."
   ]
  },
  {
   "cell_type": "code",
   "execution_count": 18,
   "id": "7ae4a7bc",
   "metadata": {},
   "outputs": [],
   "source": [
    "df['rating'] = df['rating'].replace('K-A', 'E')"
   ]
  },
  {
   "cell_type": "markdown",
   "id": "e0f3d68c",
   "metadata": {},
   "source": [
    "Пропуски в столбце заменим значением 'None', что будет значить отсутствие значения, и которое будем учитывать далее."
   ]
  },
  {
   "cell_type": "code",
   "execution_count": 19,
   "id": "d0a07df3",
   "metadata": {},
   "outputs": [],
   "source": [
    "df['rating'] = df['rating'].fillna('None')"
   ]
  },
  {
   "cell_type": "markdown",
   "id": "16be69a2",
   "metadata": {},
   "source": [
    "### Изменение типов данных и добавление информации"
   ]
  },
  {
   "cell_type": "markdown",
   "id": "07cce7ac",
   "metadata": {},
   "source": [
    "Для того, чтобы год был целым числом, в столбце 'year_of_release' изменим тип данных на int64."
   ]
  },
  {
   "cell_type": "code",
   "execution_count": 20,
   "id": "111b3510",
   "metadata": {},
   "outputs": [],
   "source": [
    "df['year_of_release'] = df['year_of_release'].astype('int64')"
   ]
  },
  {
   "cell_type": "markdown",
   "id": "3a93bac6",
   "metadata": {},
   "source": [
    "Оценка пользователей должна быть выражена в числовом формате, поэтому в столбце 'user_score' поменяем тип данных на float."
   ]
  },
  {
   "cell_type": "code",
   "execution_count": 21,
   "id": "120295e5",
   "metadata": {},
   "outputs": [],
   "source": [
    "df['user_score'] = df['user_score'].astype('float')"
   ]
  },
  {
   "cell_type": "markdown",
   "id": "776c478e",
   "metadata": {},
   "source": [
    "Проверим наличие дубликатов в таблице."
   ]
  },
  {
   "cell_type": "code",
   "execution_count": 22,
   "id": "511df15d",
   "metadata": {},
   "outputs": [
    {
     "data": {
      "text/plain": [
       "0"
      ]
     },
     "execution_count": 22,
     "metadata": {},
     "output_type": "execute_result"
    }
   ],
   "source": [
    "df.duplicated().sum()"
   ]
  },
  {
   "cell_type": "markdown",
   "id": "1701a962",
   "metadata": {},
   "source": [
    "Дублирующей информации не обнаружено."
   ]
  },
  {
   "cell_type": "markdown",
   "id": "d5603568",
   "metadata": {},
   "source": [
    "Добавим в таблицу столбец 'total_sales', в котором посчитаем количество продаж во всех регионах мира. "
   ]
  },
  {
   "cell_type": "code",
   "execution_count": 23,
   "id": "39b3362a",
   "metadata": {},
   "outputs": [],
   "source": [
    "df['total_sales'] = df['na_sales'] + df['eu_sales'] + df['jp_sales'] + df['other_sales']"
   ]
  },
  {
   "cell_type": "code",
   "execution_count": 24,
   "id": "23719e31",
   "metadata": {},
   "outputs": [
    {
     "name": "stdout",
     "output_type": "stream",
     "text": [
      "<class 'pandas.core.frame.DataFrame'>\n",
      "RangeIndex: 16713 entries, 0 to 16712\n",
      "Data columns (total 12 columns):\n",
      "name               16713 non-null object\n",
      "platform           16713 non-null object\n",
      "year_of_release    16713 non-null int64\n",
      "genre              16713 non-null object\n",
      "na_sales           16713 non-null float64\n",
      "eu_sales           16713 non-null float64\n",
      "jp_sales           16713 non-null float64\n",
      "other_sales        16713 non-null float64\n",
      "critic_score       16713 non-null float64\n",
      "user_score         16713 non-null float64\n",
      "rating             16713 non-null object\n",
      "total_sales        16713 non-null float64\n",
      "dtypes: float64(7), int64(1), object(4)\n",
      "memory usage: 1.5+ MB\n"
     ]
    }
   ],
   "source": [
    "df.info()"
   ]
  },
  {
   "cell_type": "markdown",
   "id": "26caaaf2",
   "metadata": {},
   "source": [
    "### Вывод"
   ]
  },
  {
   "cell_type": "markdown",
   "id": "389f1cb2",
   "metadata": {},
   "source": [
    "В ходе предобработки данных удалено всего 2 строки из первоначальной таблицы. Пропуски в столбцах year_of_release, сritic_score, user_score и rating заменены на нетиповое значение -1, так как заполнение этих пропусков средними данными, основанными на значениях других столбцов, привело бы к искажению результатов исследования. Будем учитывать это при проведении анализа. В соответствии с заданием добавлен столбец 'total_score',отражающий общее количество продаж по всему миру."
   ]
  },
  {
   "cell_type": "markdown",
   "id": "368fa25e",
   "metadata": {},
   "source": [
    "## Исследовательский анализ данных"
   ]
  },
  {
   "cell_type": "markdown",
   "id": "7707b63a",
   "metadata": {},
   "source": [
    "### Выпуск игр в разные годы"
   ]
  },
  {
   "cell_type": "markdown",
   "id": "6dc5d1d4",
   "metadata": {},
   "source": [
    "Для того, чтобы узнать количество выпущенных игр в разные годы, создадим сперва сводную таблицу, а для ее анализа построим график."
   ]
  },
  {
   "cell_type": "code",
   "execution_count": 25,
   "id": "fa62f9f4",
   "metadata": {},
   "outputs": [
    {
     "data": {
      "text/html": [
       "<div>\n",
       "<style scoped>\n",
       "    .dataframe tbody tr th:only-of-type {\n",
       "        vertical-align: middle;\n",
       "    }\n",
       "\n",
       "    .dataframe tbody tr th {\n",
       "        vertical-align: top;\n",
       "    }\n",
       "\n",
       "    .dataframe thead th {\n",
       "        text-align: right;\n",
       "    }\n",
       "</style>\n",
       "<table border=\"1\" class=\"dataframe\">\n",
       "  <thead>\n",
       "    <tr style=\"text-align: right;\">\n",
       "      <th></th>\n",
       "      <th>0</th>\n",
       "      <th>1</th>\n",
       "      <th>2</th>\n",
       "      <th>3</th>\n",
       "      <th>4</th>\n",
       "      <th>5</th>\n",
       "      <th>6</th>\n",
       "      <th>7</th>\n",
       "      <th>8</th>\n",
       "      <th>9</th>\n",
       "      <th>...</th>\n",
       "      <th>27</th>\n",
       "      <th>28</th>\n",
       "      <th>29</th>\n",
       "      <th>30</th>\n",
       "      <th>31</th>\n",
       "      <th>32</th>\n",
       "      <th>33</th>\n",
       "      <th>34</th>\n",
       "      <th>35</th>\n",
       "      <th>36</th>\n",
       "    </tr>\n",
       "  </thead>\n",
       "  <tbody>\n",
       "    <tr>\n",
       "      <td>year</td>\n",
       "      <td>1980</td>\n",
       "      <td>1981</td>\n",
       "      <td>1982</td>\n",
       "      <td>1983</td>\n",
       "      <td>1984</td>\n",
       "      <td>1985</td>\n",
       "      <td>1986</td>\n",
       "      <td>1987</td>\n",
       "      <td>1988</td>\n",
       "      <td>1989</td>\n",
       "      <td>...</td>\n",
       "      <td>2007</td>\n",
       "      <td>2008</td>\n",
       "      <td>2009</td>\n",
       "      <td>2010</td>\n",
       "      <td>2011</td>\n",
       "      <td>2012</td>\n",
       "      <td>2013</td>\n",
       "      <td>2014</td>\n",
       "      <td>2015</td>\n",
       "      <td>2016</td>\n",
       "    </tr>\n",
       "    <tr>\n",
       "      <td>quantity</td>\n",
       "      <td>9</td>\n",
       "      <td>46</td>\n",
       "      <td>36</td>\n",
       "      <td>17</td>\n",
       "      <td>14</td>\n",
       "      <td>14</td>\n",
       "      <td>21</td>\n",
       "      <td>16</td>\n",
       "      <td>15</td>\n",
       "      <td>17</td>\n",
       "      <td>...</td>\n",
       "      <td>1197</td>\n",
       "      <td>1427</td>\n",
       "      <td>1426</td>\n",
       "      <td>1255</td>\n",
       "      <td>1136</td>\n",
       "      <td>653</td>\n",
       "      <td>544</td>\n",
       "      <td>581</td>\n",
       "      <td>606</td>\n",
       "      <td>502</td>\n",
       "    </tr>\n",
       "  </tbody>\n",
       "</table>\n",
       "<p>2 rows × 37 columns</p>\n",
       "</div>"
      ],
      "text/plain": [
       "            0     1     2     3     4     5     6     7     8     9   ...  \\\n",
       "year      1980  1981  1982  1983  1984  1985  1986  1987  1988  1989  ...   \n",
       "quantity     9    46    36    17    14    14    21    16    15    17  ...   \n",
       "\n",
       "            27    28    29    30    31    32    33    34    35    36  \n",
       "year      2007  2008  2009  2010  2011  2012  2013  2014  2015  2016  \n",
       "quantity  1197  1427  1426  1255  1136   653   544   581   606   502  \n",
       "\n",
       "[2 rows x 37 columns]"
      ]
     },
     "execution_count": 25,
     "metadata": {},
     "output_type": "execute_result"
    }
   ],
   "source": [
    "game_release = df.query('year_of_release != -1').pivot_table(index='year_of_release', values='name', aggfunc='count').reset_index()\n",
    "game_release.columns = ['year', 'quantity']\n",
    "game_release.T"
   ]
  },
  {
   "cell_type": "code",
   "execution_count": 26,
   "id": "c43a7e62",
   "metadata": {},
   "outputs": [
    {
     "data": {
      "image/png": "[encoded data removed]",
      "text/plain": [
       "<Figure size 1080x360 with 1 Axes>"
      ]
     },
     "metadata": {
      "needs_background": "light"
     },
     "output_type": "display_data"
    }
   ],
   "source": [
    "plt.figure(figsize=(15, 5))\n",
    "plt.bar(game_release['year'], game_release['quantity'], width=0.8)\n",
    "plt.xlabel('Год')\n",
    "plt.ylabel('Количество выпусков')\n",
    "plt.grid()\n",
    "plt.title('Количество выпусков игр по годам')\n",
    "plt.show();"
   ]
  },
  {
   "cell_type": "markdown",
   "id": "3b66d350",
   "metadata": {},
   "source": [
    "Анализируя график можно заметить, что период до 1993 года включительно, характеризуется слабой активностью на рынке игр. Хорошо видно, что рост в релизах игр наступает с 1994 года, когда выпущена уже 121 игра (скорее всего это связано с технологическим рывком в компьютерной индустрии), а после него начинается игровой бум, который достигает пика в 2008 году. В 2010 году наступает спад, а уже к 2012 релизы падают в 2 раза. Последние четыре года в выпуске игр наблюдается слабый нелинейный спад. "
   ]
  },
  {
   "cell_type": "markdown",
   "id": "85602057",
   "metadata": {},
   "source": [
    "### Изменение продаж по платформам"
   ]
  },
  {
   "cell_type": "markdown",
   "id": "6efb06d9",
   "metadata": {},
   "source": [
    "Посмотрим на суммарные продажи по игровым платформам, чтобы выделить наиболее популярные из них."
   ]
  },
  {
   "cell_type": "code",
   "execution_count": 27,
   "id": "6c5b3948",
   "metadata": {},
   "outputs": [
    {
     "data": {
      "text/html": [
       "<div>\n",
       "<style scoped>\n",
       "    .dataframe tbody tr th:only-of-type {\n",
       "        vertical-align: middle;\n",
       "    }\n",
       "\n",
       "    .dataframe tbody tr th {\n",
       "        vertical-align: top;\n",
       "    }\n",
       "\n",
       "    .dataframe thead th {\n",
       "        text-align: right;\n",
       "    }\n",
       "</style>\n",
       "<table border=\"1\" class=\"dataframe\">\n",
       "  <thead>\n",
       "    <tr style=\"text-align: right;\">\n",
       "      <th></th>\n",
       "      <th>platform</th>\n",
       "      <th>total_sales</th>\n",
       "    </tr>\n",
       "  </thead>\n",
       "  <tbody>\n",
       "    <tr>\n",
       "      <td>0</td>\n",
       "      <td>PS2</td>\n",
       "      <td>1,255.77</td>\n",
       "    </tr>\n",
       "    <tr>\n",
       "      <td>1</td>\n",
       "      <td>X360</td>\n",
       "      <td>971.42</td>\n",
       "    </tr>\n",
       "    <tr>\n",
       "      <td>2</td>\n",
       "      <td>PS3</td>\n",
       "      <td>939.65</td>\n",
       "    </tr>\n",
       "    <tr>\n",
       "      <td>3</td>\n",
       "      <td>Wii</td>\n",
       "      <td>907.51</td>\n",
       "    </tr>\n",
       "    <tr>\n",
       "      <td>4</td>\n",
       "      <td>DS</td>\n",
       "      <td>806.12</td>\n",
       "    </tr>\n",
       "    <tr>\n",
       "      <td>5</td>\n",
       "      <td>PS</td>\n",
       "      <td>730.86</td>\n",
       "    </tr>\n",
       "    <tr>\n",
       "      <td>6</td>\n",
       "      <td>GBA</td>\n",
       "      <td>317.85</td>\n",
       "    </tr>\n",
       "    <tr>\n",
       "      <td>7</td>\n",
       "      <td>PS4</td>\n",
       "      <td>314.14</td>\n",
       "    </tr>\n",
       "    <tr>\n",
       "      <td>8</td>\n",
       "      <td>PSP</td>\n",
       "      <td>294.05</td>\n",
       "    </tr>\n",
       "    <tr>\n",
       "      <td>9</td>\n",
       "      <td>PC</td>\n",
       "      <td>259.52</td>\n",
       "    </tr>\n",
       "  </tbody>\n",
       "</table>\n",
       "</div>"
      ],
      "text/plain": [
       "  platform  total_sales\n",
       "0      PS2     1,255.77\n",
       "1     X360       971.42\n",
       "2      PS3       939.65\n",
       "3      Wii       907.51\n",
       "4       DS       806.12\n",
       "5       PS       730.86\n",
       "6      GBA       317.85\n",
       "7      PS4       314.14\n",
       "8      PSP       294.05\n",
       "9       PC       259.52"
      ]
     },
     "execution_count": 27,
     "metadata": {},
     "output_type": "execute_result"
    }
   ],
   "source": [
    "platf_sale = df.pivot_table(\n",
    "    index='platform', values='total_sales', aggfunc='sum').sort_values('total_sales', ascending=False).reset_index()\n",
    "platf_sale.head(10)"
   ]
  },
  {
   "cell_type": "markdown",
   "id": "9da83d6a",
   "metadata": {},
   "source": [
    "Наиболее популярными выглядят первые 6 игровых платформ, так как между 6 и 7 местом разрыв в сумме продаж более чем два раза. Распределение продаж по годам построим по этим 6 платформам."
   ]
  },
  {
   "cell_type": "code",
   "execution_count": 28,
   "id": "6da8eabd",
   "metadata": {},
   "outputs": [
    {
     "data": {
      "image/png": "[encoded data removed]",
      "text/plain": [
       "<Figure size 1080x360 with 1 Axes>"
      ]
     },
     "metadata": {
      "needs_background": "light"
     },
     "output_type": "display_data"
    }
   ],
   "source": [
    "top_platforms = platf_sale.head(6).platform.values\n",
    "plt.figure(figsize=(15, 5))\n",
    "plt.grid()\n",
    "plt.title('Суммарные продажи на популярных платформах по годам')\n",
    "\n",
    "life_period = 0\n",
    "for i in range(0, len(top_platforms)):\n",
    "    platf_distrib = df.query('year_of_release != -1 and platform == @top_platforms[@i]') \\\n",
    "    .groupby('year_of_release')['total_sales'].sum()\n",
    "    \n",
    "    life_period += platf_distrib.count()\n",
    "    platf_distrib.plot(x=platf_distrib.index, y=platf_distrib.values, style='-o', \\\n",
    "                  label=top_platforms[i], grid=True);\n",
    "plt.xlabel('Год')    \n",
    "plt.ylabel('Объём продаж')\n",
    "plt.legend()\n",
    "plt.show();"
   ]
  },
  {
   "cell_type": "code",
   "execution_count": 29,
   "id": "4c98c9a5",
   "metadata": {},
   "outputs": [
    {
     "name": "stdout",
     "output_type": "stream",
     "text": [
      "Срок сменяемости платформ составляет 11 лет\n"
     ]
    }
   ],
   "source": [
    "print(f'Срок сменяемости платформ составляет {round(life_period / len(top_platforms))} лет')"
   ]
  },
  {
   "cell_type": "markdown",
   "id": "ad82fffe",
   "metadata": {},
   "source": [
    "У всех, представленных на графике игровых платформ, распределение по продажам близко к нормальному. По расчетной формуле  получилось, что период между сменой платформ со старой на новую равен 11 годам. Учитывая это, за актуальный срок для исследования возьмем половину \"жизненнного цикла\" платформы, т.е. 2011-2016 гг."
   ]
  },
  {
   "cell_type": "markdown",
   "id": "05a77750",
   "metadata": {},
   "source": [
    "### Определение потенциально прибыльных платформ"
   ]
  },
  {
   "cell_type": "markdown",
   "id": "631feffd",
   "metadata": {},
   "source": [
    "Для определения потенциально прибыльных платформ на 2017 год создадим сводную таблицу, в которую будут входить данные за актуальный период. Возьмем период, начиная с 2011 года."
   ]
  },
  {
   "cell_type": "code",
   "execution_count": 30,
   "id": "7c68770a",
   "metadata": {
    "scrolled": false
   },
   "outputs": [
    {
     "data": {
      "text/html": [
       "<div>\n",
       "<style scoped>\n",
       "    .dataframe tbody tr th:only-of-type {\n",
       "        vertical-align: middle;\n",
       "    }\n",
       "\n",
       "    .dataframe tbody tr th {\n",
       "        vertical-align: top;\n",
       "    }\n",
       "\n",
       "    .dataframe thead th {\n",
       "        text-align: right;\n",
       "    }\n",
       "</style>\n",
       "<table border=\"1\" class=\"dataframe\">\n",
       "  <thead>\n",
       "    <tr style=\"text-align: right;\">\n",
       "      <th>platform</th>\n",
       "      <th>year_of_release</th>\n",
       "      <th>3DS</th>\n",
       "      <th>DS</th>\n",
       "      <th>PC</th>\n",
       "      <th>PS2</th>\n",
       "      <th>PS3</th>\n",
       "      <th>PS4</th>\n",
       "      <th>PSP</th>\n",
       "      <th>PSV</th>\n",
       "      <th>Wii</th>\n",
       "      <th>WiiU</th>\n",
       "      <th>X360</th>\n",
       "      <th>XOne</th>\n",
       "    </tr>\n",
       "  </thead>\n",
       "  <tbody>\n",
       "    <tr>\n",
       "      <td>0</td>\n",
       "      <td>2011</td>\n",
       "      <td>63.20</td>\n",
       "      <td>26.18</td>\n",
       "      <td>35.03</td>\n",
       "      <td>0.45</td>\n",
       "      <td>156.78</td>\n",
       "      <td>0.00</td>\n",
       "      <td>17.82</td>\n",
       "      <td>4.63</td>\n",
       "      <td>59.65</td>\n",
       "      <td>0.00</td>\n",
       "      <td>143.84</td>\n",
       "      <td>0.00</td>\n",
       "    </tr>\n",
       "    <tr>\n",
       "      <td>1</td>\n",
       "      <td>2012</td>\n",
       "      <td>51.36</td>\n",
       "      <td>11.01</td>\n",
       "      <td>23.22</td>\n",
       "      <td>0.00</td>\n",
       "      <td>107.36</td>\n",
       "      <td>0.00</td>\n",
       "      <td>7.69</td>\n",
       "      <td>16.19</td>\n",
       "      <td>21.71</td>\n",
       "      <td>17.56</td>\n",
       "      <td>99.74</td>\n",
       "      <td>0.00</td>\n",
       "    </tr>\n",
       "    <tr>\n",
       "      <td>2</td>\n",
       "      <td>2013</td>\n",
       "      <td>56.57</td>\n",
       "      <td>1.54</td>\n",
       "      <td>12.38</td>\n",
       "      <td>0.00</td>\n",
       "      <td>113.25</td>\n",
       "      <td>25.99</td>\n",
       "      <td>3.14</td>\n",
       "      <td>10.59</td>\n",
       "      <td>8.59</td>\n",
       "      <td>21.65</td>\n",
       "      <td>88.58</td>\n",
       "      <td>18.96</td>\n",
       "    </tr>\n",
       "    <tr>\n",
       "      <td>3</td>\n",
       "      <td>2014</td>\n",
       "      <td>43.76</td>\n",
       "      <td>0.00</td>\n",
       "      <td>13.28</td>\n",
       "      <td>0.00</td>\n",
       "      <td>47.76</td>\n",
       "      <td>100.00</td>\n",
       "      <td>0.24</td>\n",
       "      <td>11.90</td>\n",
       "      <td>3.75</td>\n",
       "      <td>22.03</td>\n",
       "      <td>34.74</td>\n",
       "      <td>54.07</td>\n",
       "    </tr>\n",
       "    <tr>\n",
       "      <td>4</td>\n",
       "      <td>2015</td>\n",
       "      <td>27.78</td>\n",
       "      <td>0.00</td>\n",
       "      <td>8.52</td>\n",
       "      <td>0.00</td>\n",
       "      <td>16.82</td>\n",
       "      <td>118.90</td>\n",
       "      <td>0.12</td>\n",
       "      <td>6.25</td>\n",
       "      <td>1.14</td>\n",
       "      <td>16.35</td>\n",
       "      <td>11.96</td>\n",
       "      <td>60.14</td>\n",
       "    </tr>\n",
       "    <tr>\n",
       "      <td>5</td>\n",
       "      <td>2016</td>\n",
       "      <td>15.14</td>\n",
       "      <td>0.00</td>\n",
       "      <td>5.25</td>\n",
       "      <td>0.00</td>\n",
       "      <td>3.60</td>\n",
       "      <td>69.25</td>\n",
       "      <td>0.00</td>\n",
       "      <td>4.25</td>\n",
       "      <td>0.18</td>\n",
       "      <td>4.60</td>\n",
       "      <td>1.52</td>\n",
       "      <td>26.15</td>\n",
       "    </tr>\n",
       "  </tbody>\n",
       "</table>\n",
       "</div>"
      ],
      "text/plain": [
       "platform  year_of_release   3DS    DS    PC  PS2    PS3    PS4   PSP   PSV  \\\n",
       "0                    2011 63.20 26.18 35.03 0.45 156.78   0.00 17.82  4.63   \n",
       "1                    2012 51.36 11.01 23.22 0.00 107.36   0.00  7.69 16.19   \n",
       "2                    2013 56.57  1.54 12.38 0.00 113.25  25.99  3.14 10.59   \n",
       "3                    2014 43.76  0.00 13.28 0.00  47.76 100.00  0.24 11.90   \n",
       "4                    2015 27.78  0.00  8.52 0.00  16.82 118.90  0.12  6.25   \n",
       "5                    2016 15.14  0.00  5.25 0.00   3.60  69.25  0.00  4.25   \n",
       "\n",
       "platform   Wii  WiiU   X360  XOne  \n",
       "0        59.65  0.00 143.84  0.00  \n",
       "1        21.71 17.56  99.74  0.00  \n",
       "2         8.59 21.65  88.58 18.96  \n",
       "3         3.75 22.03  34.74 54.07  \n",
       "4         1.14 16.35  11.96 60.14  \n",
       "5         0.18  4.60   1.52 26.15  "
      ]
     },
     "execution_count": 30,
     "metadata": {},
     "output_type": "execute_result"
    }
   ],
   "source": [
    "forecast_2017 = df.query('year_of_release >= 2011').pivot_table(\n",
    "    index='year_of_release', columns='platform', values='total_sales', aggfunc='sum') \\\n",
    "    .fillna(0).reset_index()\n",
    "forecast_2017"
   ]
  },
  {
   "cell_type": "code",
   "execution_count": 31,
   "id": "0969736e",
   "metadata": {},
   "outputs": [
    {
     "data": {
      "image/png": "[encoded data removed]",
      "text/plain": [
       "<Figure size 1080x720 with 1 Axes>"
      ]
     },
     "metadata": {
      "needs_background": "light"
     },
     "output_type": "display_data"
    }
   ],
   "source": [
    "color = ['r','g','gray','pink','c','orange','brown', \\\n",
    "'black','yellow','b','darkcyan','lime']\n",
    "plt.figure(figsize=(15, 10))\n",
    "plt.title('Объёмы продаж на разных платформах за период с 2011 по 2016 гг.')\n",
    "plt.grid()\n",
    "\n",
    "i=0\n",
    "for column in forecast_2017.columns[1:]:\n",
    "    plt.plot(forecast_2017['year_of_release'].to_list(), forecast_2017[column].to_list(), label=column, color=color[i]);\n",
    "    i+=1\n",
    "    \n",
    "plt.xlabel('Год')    \n",
    "plt.ylabel('Объём продаж')\n",
    "plt.legend()\n",
    "plt.show();"
   ]
  },
  {
   "cell_type": "markdown",
   "id": "f1585ae2",
   "metadata": {},
   "source": [
    "В рассматриваемом периоде из всех игровых платформ выделяются три - это 3DS, PS4 и XOne, которые прошли около половины своего жизненного цикла, но пик популярности у всех уже пройден: 3DS идет на спад с 2013 года, а  PS4 и XOne пошли на спад в 2016 году.\n",
    "\n",
    "Стоит отметить платформу PC (персональный компьютер), которая существует уже давно, объемы продаж у нее небольшие, но как говорится, она заняла свою нишу и скорее всего будет поддерживать этот уровень.\n",
    "\n",
    "Также заслуживает внимания PSV - портативная игровая консоль, у которой также есть свои поклонники, видимо те, кто любит поиграть в дороге. И пока не вышла обновленная версия приставки, PSV будет приносить небольшую прибыль.\n",
    "\n",
    "В итоге у нас сложился ТОП-5 потенциально прибыльных платформ на 2017 год:\n",
    "- 1 место - XOne;\n",
    "- 2 место - PS4;\n",
    "- 3 место - 3DS;\n",
    "- 4 место - PC;\n",
    "- 5 место - PSV."
   ]
  },
  {
   "cell_type": "markdown",
   "id": "d60a9e94",
   "metadata": {},
   "source": [
    "### Глобальные продажи игр в разбивке по платформам"
   ]
  },
  {
   "cell_type": "markdown",
   "id": "bf329d9a",
   "metadata": {},
   "source": [
    "Посмотрим на общие суммы продаж для каждой платформы в рассматриваемом периоде 2011 - 2016 гг. По этим данным построим графики «ящик с усами»."
   ]
  },
  {
   "cell_type": "code",
   "execution_count": 32,
   "id": "d737be5c",
   "metadata": {},
   "outputs": [
    {
     "data": {
      "text/html": [
       "<div>\n",
       "<style scoped>\n",
       "    .dataframe tbody tr th:only-of-type {\n",
       "        vertical-align: middle;\n",
       "    }\n",
       "\n",
       "    .dataframe tbody tr th {\n",
       "        vertical-align: top;\n",
       "    }\n",
       "\n",
       "    .dataframe thead th {\n",
       "        text-align: right;\n",
       "    }\n",
       "</style>\n",
       "<table border=\"1\" class=\"dataframe\">\n",
       "  <thead>\n",
       "    <tr style=\"text-align: right;\">\n",
       "      <th></th>\n",
       "      <th>0</th>\n",
       "      <th>1</th>\n",
       "      <th>2</th>\n",
       "      <th>3</th>\n",
       "      <th>4</th>\n",
       "      <th>5</th>\n",
       "      <th>6</th>\n",
       "      <th>7</th>\n",
       "      <th>8</th>\n",
       "      <th>9</th>\n",
       "      <th>10</th>\n",
       "      <th>11</th>\n",
       "    </tr>\n",
       "  </thead>\n",
       "  <tbody>\n",
       "    <tr>\n",
       "      <td>platform</td>\n",
       "      <td>PS3</td>\n",
       "      <td>X360</td>\n",
       "      <td>PS4</td>\n",
       "      <td>3DS</td>\n",
       "      <td>XOne</td>\n",
       "      <td>PC</td>\n",
       "      <td>Wii</td>\n",
       "      <td>WiiU</td>\n",
       "      <td>PSV</td>\n",
       "      <td>DS</td>\n",
       "      <td>PSP</td>\n",
       "      <td>PS2</td>\n",
       "    </tr>\n",
       "    <tr>\n",
       "      <td>total_sales</td>\n",
       "      <td>445.57</td>\n",
       "      <td>380.38</td>\n",
       "      <td>314.14</td>\n",
       "      <td>257.81</td>\n",
       "      <td>159.32</td>\n",
       "      <td>97.68</td>\n",
       "      <td>95.02</td>\n",
       "      <td>82.19</td>\n",
       "      <td>53.81</td>\n",
       "      <td>38.73</td>\n",
       "      <td>29.01</td>\n",
       "      <td>0.45</td>\n",
       "    </tr>\n",
       "  </tbody>\n",
       "</table>\n",
       "</div>"
      ],
      "text/plain": [
       "                 0      1      2      3      4     5     6     7     8     9  \\\n",
       "platform       PS3   X360    PS4    3DS   XOne    PC   Wii  WiiU   PSV    DS   \n",
       "total_sales 445.57 380.38 314.14 257.81 159.32 97.68 95.02 82.19 53.81 38.73   \n",
       "\n",
       "               10   11  \n",
       "platform      PSP  PS2  \n",
       "total_sales 29.01 0.45  "
      ]
     },
     "metadata": {},
     "output_type": "display_data"
    },
    {
     "data": {
      "text/html": [
       "<div>\n",
       "<style scoped>\n",
       "    .dataframe tbody tr th:only-of-type {\n",
       "        vertical-align: middle;\n",
       "    }\n",
       "\n",
       "    .dataframe tbody tr th {\n",
       "        vertical-align: top;\n",
       "    }\n",
       "\n",
       "    .dataframe thead th {\n",
       "        text-align: right;\n",
       "    }\n",
       "</style>\n",
       "<table border=\"1\" class=\"dataframe\">\n",
       "  <thead>\n",
       "    <tr style=\"text-align: right;\">\n",
       "      <th></th>\n",
       "      <th>count</th>\n",
       "      <th>mean</th>\n",
       "      <th>std</th>\n",
       "      <th>min</th>\n",
       "      <th>25%</th>\n",
       "      <th>50%</th>\n",
       "      <th>75%</th>\n",
       "      <th>max</th>\n",
       "    </tr>\n",
       "  </thead>\n",
       "  <tbody>\n",
       "    <tr>\n",
       "      <td>total_sales</td>\n",
       "      <td>12.00</td>\n",
       "      <td>162.84</td>\n",
       "      <td>149.58</td>\n",
       "      <td>0.45</td>\n",
       "      <td>50.04</td>\n",
       "      <td>96.35</td>\n",
       "      <td>271.89</td>\n",
       "      <td>445.57</td>\n",
       "    </tr>\n",
       "  </tbody>\n",
       "</table>\n",
       "</div>"
      ],
      "text/plain": [
       "             count   mean    std  min   25%   50%    75%    max\n",
       "total_sales  12.00 162.84 149.58 0.45 50.04 96.35 271.89 445.57"
      ]
     },
     "execution_count": 32,
     "metadata": {},
     "output_type": "execute_result"
    }
   ],
   "source": [
    "sales = df.query('year_of_release >= 2011').groupby('platform')['total_sales'].sum().sort_values(ascending=False).reset_index()\n",
    "display(sales.T)\n",
    "sales.describe().T"
   ]
  },
  {
   "cell_type": "code",
   "execution_count": 33,
   "id": "1025412b",
   "metadata": {},
   "outputs": [
    {
     "data": {
      "image/png": "[encoded data removed]",
      "text/plain": [
       "<Figure size 1152x864 with 10 Axes>"
      ]
     },
     "metadata": {
      "needs_background": "light"
     },
     "output_type": "display_data"
    }
   ],
   "source": [
    "fig, (ax1, ax2, ax3, ax4, ax5, ax6, ax7, ax8, ax9, ax10) = plt.subplots(nrows=1, ncols=10, figsize=(16, 12))\n",
    "fig.autofmt_xdate();\n",
    "\n",
    "p = {ax1:'X360', ax2:'PS3', ax3:'WiiU', ax4:'DS', ax5:'PC', ax6:'PS4', ax7:'PSP', ax8:'3DS', ax9:'XOne', ax10:'PSV'}\n",
    "for ax in [ax1, ax2, ax3, ax4, ax5, ax6, ax7, ax8, ax9, ax10]:\n",
    "    sales = df.query('platform==@p[@ax] and total_sales < 1.2')['total_sales']\n",
    "    ax.boxplot(sales)\n",
    "    ax.grid()\n",
    "    ax.set_title(p[ax])\n",
    "\n",
    "fig.autofmt_xdate()"
   ]
  },
  {
   "cell_type": "markdown",
   "id": "e7d82da7",
   "metadata": {},
   "source": [
    "Продажи на популярных платформах схожи - медианные значения продаж на платформах X360, PS3, WiiU, PS2, XOne находятся близко к уровню 0,2 млн, а в целом продажи укладываются в 0,8 - 1,1 млн копий. Выбросы на графиках у популярных платформ незначительны, это может означать, что практически все игры, выпускаемые на данных платформах, стабильно хорошего уровня. На платформах PC, DS, PSP и PSV наоборот, достаточно много выбросов, и это, скорее всего, связано с тем, что в основном на данных платформах игры не так популярны, но случаются эксклюзивы, когда вырастают продажи."
   ]
  },
  {
   "cell_type": "markdown",
   "id": "64720d31",
   "metadata": {},
   "source": [
    "### Корреляция между отзывами и продажами"
   ]
  },
  {
   "cell_type": "markdown",
   "id": "dbc3fbba",
   "metadata": {},
   "source": [
    "В начале проведем исследование для одной платформы. Самой популярной игровой платформой за актуальный период времени является X360. Ее и выберем для анализа зависимости между продажами и отзывами."
   ]
  },
  {
   "cell_type": "code",
   "execution_count": 33,
   "id": "7603f104",
   "metadata": {},
   "outputs": [],
   "source": [
    "x360 = df.query('platform == \"X360\" and year_of_release >= 2011 and user_score != -1 and critic_score != -1') \\\n",
    "[['total_sales', 'critic_score', 'user_score']].reset_index(drop=True)"
   ]
  },
  {
   "cell_type": "code",
   "execution_count": 34,
   "id": "5ad061b7",
   "metadata": {},
   "outputs": [
    {
     "data": {
      "text/html": [
       "<style  type=\"text/css\" >\n",
       "    #T_77d18afa_9562_11ec_bd54_02420a39a355row0_col0 {\n",
       "            background-color:  #b40426;\n",
       "            color:  #f1f1f1;\n",
       "        }    #T_77d18afa_9562_11ec_bd54_02420a39a355row0_col1 {\n",
       "            background-color:  #3b4cc0;\n",
       "            color:  #f1f1f1;\n",
       "        }    #T_77d18afa_9562_11ec_bd54_02420a39a355row0_col2 {\n",
       "            background-color:  #3b4cc0;\n",
       "            color:  #f1f1f1;\n",
       "        }    #T_77d18afa_9562_11ec_bd54_02420a39a355row1_col0 {\n",
       "            background-color:  #b9d0f9;\n",
       "            color:  #000000;\n",
       "        }    #T_77d18afa_9562_11ec_bd54_02420a39a355row1_col1 {\n",
       "            background-color:  #b40426;\n",
       "            color:  #f1f1f1;\n",
       "        }    #T_77d18afa_9562_11ec_bd54_02420a39a355row1_col2 {\n",
       "            background-color:  #ead4c8;\n",
       "            color:  #000000;\n",
       "        }    #T_77d18afa_9562_11ec_bd54_02420a39a355row2_col0 {\n",
       "            background-color:  #3b4cc0;\n",
       "            color:  #f1f1f1;\n",
       "        }    #T_77d18afa_9562_11ec_bd54_02420a39a355row2_col1 {\n",
       "            background-color:  #9bbcff;\n",
       "            color:  #000000;\n",
       "        }    #T_77d18afa_9562_11ec_bd54_02420a39a355row2_col2 {\n",
       "            background-color:  #b40426;\n",
       "            color:  #f1f1f1;\n",
       "        }</style><table id=\"T_77d18afa_9562_11ec_bd54_02420a39a355\" ><thead>    <tr>        <th class=\"blank level0\" ></th>        <th class=\"col_heading level0 col0\" >total_sales</th>        <th class=\"col_heading level0 col1\" >critic_score</th>        <th class=\"col_heading level0 col2\" >user_score</th>    </tr></thead><tbody>\n",
       "                <tr>\n",
       "                        <th id=\"T_77d18afa_9562_11ec_bd54_02420a39a355level0_row0\" class=\"row_heading level0 row0\" >total_sales</th>\n",
       "                        <td id=\"T_77d18afa_9562_11ec_bd54_02420a39a355row0_col0\" class=\"data row0 col0\" >1</td>\n",
       "                        <td id=\"T_77d18afa_9562_11ec_bd54_02420a39a355row0_col1\" class=\"data row0 col1\" >0.390397</td>\n",
       "                        <td id=\"T_77d18afa_9562_11ec_bd54_02420a39a355row0_col2\" class=\"data row0 col2\" >0.0241105</td>\n",
       "            </tr>\n",
       "            <tr>\n",
       "                        <th id=\"T_77d18afa_9562_11ec_bd54_02420a39a355level0_row1\" class=\"row_heading level0 row1\" >critic_score</th>\n",
       "                        <td id=\"T_77d18afa_9562_11ec_bd54_02420a39a355row1_col0\" class=\"data row1 col0\" >0.390397</td>\n",
       "                        <td id=\"T_77d18afa_9562_11ec_bd54_02420a39a355row1_col1\" class=\"data row1 col1\" >1</td>\n",
       "                        <td id=\"T_77d18afa_9562_11ec_bd54_02420a39a355row1_col2\" class=\"data row1 col2\" >0.568386</td>\n",
       "            </tr>\n",
       "            <tr>\n",
       "                        <th id=\"T_77d18afa_9562_11ec_bd54_02420a39a355level0_row2\" class=\"row_heading level0 row2\" >user_score</th>\n",
       "                        <td id=\"T_77d18afa_9562_11ec_bd54_02420a39a355row2_col0\" class=\"data row2 col0\" >0.0241105</td>\n",
       "                        <td id=\"T_77d18afa_9562_11ec_bd54_02420a39a355row2_col1\" class=\"data row2 col1\" >0.568386</td>\n",
       "                        <td id=\"T_77d18afa_9562_11ec_bd54_02420a39a355row2_col2\" class=\"data row2 col2\" >1</td>\n",
       "            </tr>\n",
       "    </tbody></table>"
      ],
      "text/plain": [
       "<pandas.io.formats.style.Styler at 0x7f3404550990>"
      ]
     },
     "execution_count": 34,
     "metadata": {},
     "output_type": "execute_result"
    }
   ],
   "source": [
    "x360.corr().style.background_gradient(cmap='coolwarm')"
   ]
  },
  {
   "cell_type": "code",
   "execution_count": 42,
   "id": "c1198b29",
   "metadata": {},
   "outputs": [
    {
     "data": {
      "image/png": "[encoded data removed]",
      "text/plain": [
       "<Figure size 1080x216 with 1 Axes>"
      ]
     },
     "metadata": {
      "needs_background": "light"
     },
     "output_type": "display_data"
    }
   ],
   "source": [
    "x360.plot(x='critic_score', y='total_sales', kind='scatter', figsize=(15, 3), alpha=0.2)\n",
    "plt.title('Зависимость продаж от оценок критиков');"
   ]
  },
  {
   "cell_type": "code",
   "execution_count": 43,
   "id": "f47cd631",
   "metadata": {},
   "outputs": [
    {
     "data": {
      "image/png": "[encoded data removed]",
      "text/plain": [
       "<Figure size 1080x216 with 1 Axes>"
      ]
     },
     "metadata": {
      "needs_background": "light"
     },
     "output_type": "display_data"
    }
   ],
   "source": [
    "x360.plot(x='user_score', y='total_sales', kind='scatter', figsize=(15, 3), alpha=0.2)\n",
    "plt.title('Зависимость продаж от оценок пользователей');"
   ]
  },
  {
   "cell_type": "markdown",
   "id": "74521ddf",
   "metadata": {},
   "source": [
    "Рассматривая корреляцию, отметим следующее. Взаимосвязь между продажами и оценками критиков слабая (коэффициент 0,39) и прямопропорциональная. Взаимосвязь между продажами и оценками пользователей практически отсутствует (коэффициент 0,02). Можно сделать вывод, что для платформы X360 есть небольшая зависимость между продажами и оценками критиков, и продаж больше при оценке от 70 до 85 баллов."
   ]
  },
  {
   "cell_type": "markdown",
   "id": "fe17dc08",
   "metadata": {},
   "source": [
    "Проведем анализ зависимости между продажами и отзывами еще для нескольких платформ, имеющихся в актуальном периоде, и сравним их."
   ]
  },
  {
   "cell_type": "markdown",
   "id": "cba76306",
   "metadata": {},
   "source": [
    "Соберем ТОП-10 игровых платформ по продажам за актуальный период."
   ]
  },
  {
   "cell_type": "code",
   "execution_count": 45,
   "id": "f9b09584",
   "metadata": {},
   "outputs": [
    {
     "data": {
      "text/html": [
       "<div>\n",
       "<style scoped>\n",
       "    .dataframe tbody tr th:only-of-type {\n",
       "        vertical-align: middle;\n",
       "    }\n",
       "\n",
       "    .dataframe tbody tr th {\n",
       "        vertical-align: top;\n",
       "    }\n",
       "\n",
       "    .dataframe thead th {\n",
       "        text-align: right;\n",
       "    }\n",
       "</style>\n",
       "<table border=\"1\" class=\"dataframe\">\n",
       "  <thead>\n",
       "    <tr style=\"text-align: right;\">\n",
       "      <th></th>\n",
       "      <th>platform</th>\n",
       "      <th>total_sales</th>\n",
       "    </tr>\n",
       "  </thead>\n",
       "  <tbody>\n",
       "    <tr>\n",
       "      <td>0</td>\n",
       "      <td>PS3</td>\n",
       "      <td>445.57</td>\n",
       "    </tr>\n",
       "    <tr>\n",
       "      <td>1</td>\n",
       "      <td>X360</td>\n",
       "      <td>380.38</td>\n",
       "    </tr>\n",
       "    <tr>\n",
       "      <td>2</td>\n",
       "      <td>PS4</td>\n",
       "      <td>314.14</td>\n",
       "    </tr>\n",
       "    <tr>\n",
       "      <td>3</td>\n",
       "      <td>3DS</td>\n",
       "      <td>257.81</td>\n",
       "    </tr>\n",
       "    <tr>\n",
       "      <td>4</td>\n",
       "      <td>XOne</td>\n",
       "      <td>159.32</td>\n",
       "    </tr>\n",
       "    <tr>\n",
       "      <td>5</td>\n",
       "      <td>PC</td>\n",
       "      <td>97.68</td>\n",
       "    </tr>\n",
       "    <tr>\n",
       "      <td>6</td>\n",
       "      <td>Wii</td>\n",
       "      <td>95.02</td>\n",
       "    </tr>\n",
       "    <tr>\n",
       "      <td>7</td>\n",
       "      <td>WiiU</td>\n",
       "      <td>82.19</td>\n",
       "    </tr>\n",
       "    <tr>\n",
       "      <td>8</td>\n",
       "      <td>PSV</td>\n",
       "      <td>53.81</td>\n",
       "    </tr>\n",
       "    <tr>\n",
       "      <td>9</td>\n",
       "      <td>DS</td>\n",
       "      <td>38.73</td>\n",
       "    </tr>\n",
       "  </tbody>\n",
       "</table>\n",
       "</div>"
      ],
      "text/plain": [
       "  platform  total_sales\n",
       "0      PS3       445.57\n",
       "1     X360       380.38\n",
       "2      PS4       314.14\n",
       "3      3DS       257.81\n",
       "4     XOne       159.32\n",
       "5       PC        97.68\n",
       "6      Wii        95.02\n",
       "7     WiiU        82.19\n",
       "8      PSV        53.81\n",
       "9       DS        38.73"
      ]
     },
     "execution_count": 45,
     "metadata": {},
     "output_type": "execute_result"
    }
   ],
   "source": [
    "top10 = df.query('year_of_release >= 2011').groupby('platform')['total_sales'].sum().sort_values(ascending=False).reset_index().head(10)\n",
    "top10"
   ]
  },
  {
   "cell_type": "markdown",
   "id": "f9a11a8f",
   "metadata": {},
   "source": [
    "Создадим словарь с данными по продажам и отзывам на популярных платформах. На основании этого словаря построим таблицу корреляции между продажами и отзывами критиков и пользователей."
   ]
  },
  {
   "cell_type": "code",
   "execution_count": 47,
   "id": "097ee95c",
   "metadata": {},
   "outputs": [],
   "source": [
    "sale_score = {}\n",
    "for x in top10['platform']:\n",
    "    sale_score[x] = df.query('platform==@x and user_score != -1 and critic_score != -1') \\\n",
    "    [['total_sales', 'critic_score', 'user_score']].reset_index(drop=True)"
   ]
  },
  {
   "cell_type": "code",
   "execution_count": 48,
   "id": "2ee60a5a",
   "metadata": {},
   "outputs": [],
   "source": [
    "i=0\n",
    "corr_top10 = pd.DataFrame(columns=['platform','critic_sale','user_sale'])\n",
    "for pl_name in sale_score.keys():\n",
    "    corr_top10.loc[i, 'platform'] = pl_name\n",
    "    corr_top10.loc[i, 'critic_sale'] = sale_score[pl_name]['total_sales'].corr(sale_score[pl_name]['critic_score'])\n",
    "    corr_top10.loc[i, 'user_sale'] = sale_score[pl_name]['total_sales'].corr(sale_score[pl_name]['user_score'])\n",
    "    i+=1"
   ]
  },
  {
   "cell_type": "code",
   "execution_count": 51,
   "id": "822d02c8",
   "metadata": {},
   "outputs": [
    {
     "data": {
      "text/html": [
       "<div>\n",
       "<style scoped>\n",
       "    .dataframe tbody tr th:only-of-type {\n",
       "        vertical-align: middle;\n",
       "    }\n",
       "\n",
       "    .dataframe tbody tr th {\n",
       "        vertical-align: top;\n",
       "    }\n",
       "\n",
       "    .dataframe thead th {\n",
       "        text-align: right;\n",
       "    }\n",
       "</style>\n",
       "<table border=\"1\" class=\"dataframe\">\n",
       "  <thead>\n",
       "    <tr style=\"text-align: right;\">\n",
       "      <th></th>\n",
       "      <th>platform</th>\n",
       "      <th>critic_sale</th>\n",
       "      <th>user_sale</th>\n",
       "    </tr>\n",
       "  </thead>\n",
       "  <tbody>\n",
       "    <tr>\n",
       "      <td>0</td>\n",
       "      <td>PS3</td>\n",
       "      <td>0.43</td>\n",
       "      <td>0.14</td>\n",
       "    </tr>\n",
       "    <tr>\n",
       "      <td>1</td>\n",
       "      <td>X360</td>\n",
       "      <td>0.39</td>\n",
       "      <td>0.11</td>\n",
       "    </tr>\n",
       "    <tr>\n",
       "      <td>2</td>\n",
       "      <td>PS4</td>\n",
       "      <td>0.41</td>\n",
       "      <td>-0.03</td>\n",
       "    </tr>\n",
       "    <tr>\n",
       "      <td>3</td>\n",
       "      <td>3DS</td>\n",
       "      <td>0.34</td>\n",
       "      <td>0.23</td>\n",
       "    </tr>\n",
       "    <tr>\n",
       "      <td>4</td>\n",
       "      <td>XOne</td>\n",
       "      <td>0.41</td>\n",
       "      <td>-0.09</td>\n",
       "    </tr>\n",
       "    <tr>\n",
       "      <td>5</td>\n",
       "      <td>PC</td>\n",
       "      <td>0.26</td>\n",
       "      <td>0.00</td>\n",
       "    </tr>\n",
       "    <tr>\n",
       "      <td>6</td>\n",
       "      <td>Wii</td>\n",
       "      <td>0.17</td>\n",
       "      <td>0.11</td>\n",
       "    </tr>\n",
       "    <tr>\n",
       "      <td>7</td>\n",
       "      <td>WiiU</td>\n",
       "      <td>0.35</td>\n",
       "      <td>0.39</td>\n",
       "    </tr>\n",
       "    <tr>\n",
       "      <td>8</td>\n",
       "      <td>PSV</td>\n",
       "      <td>0.13</td>\n",
       "      <td>0.04</td>\n",
       "    </tr>\n",
       "    <tr>\n",
       "      <td>9</td>\n",
       "      <td>DS</td>\n",
       "      <td>0.23</td>\n",
       "      <td>0.14</td>\n",
       "    </tr>\n",
       "  </tbody>\n",
       "</table>\n",
       "</div>"
      ],
      "text/plain": [
       "  platform critic_sale user_sale\n",
       "0      PS3        0.43      0.14\n",
       "1     X360        0.39      0.11\n",
       "2      PS4        0.41     -0.03\n",
       "3      3DS        0.34      0.23\n",
       "4     XOne        0.41     -0.09\n",
       "5       PC        0.26      0.00\n",
       "6      Wii        0.17      0.11\n",
       "7     WiiU        0.35      0.39\n",
       "8      PSV        0.13      0.04\n",
       "9       DS        0.23      0.14"
      ]
     },
     "execution_count": 51,
     "metadata": {},
     "output_type": "execute_result"
    }
   ],
   "source": [
    "corr_top10"
   ]
  },
  {
   "cell_type": "markdown",
   "id": "8cb7c906",
   "metadata": {},
   "source": [
    "Для остальных платформ можем наблюдать практически аналогичную картину: взаимосвязь между оценкой критиков и продажами слабая - коэффициент в пределах 0,3 - 0,4. Взаимосвязь между оценкой пользователей и продажами практически отсутствует. Из этого списка выбивается только игровая платформа WiiU, у которой оба коэффициента примерно одинаковы - 0,35 и 0,39 соответственно."
   ]
  },
  {
   "cell_type": "markdown",
   "id": "186be8c2",
   "metadata": {},
   "source": [
    "### Общее распределение игр по жанрам"
   ]
  },
  {
   "cell_type": "markdown",
   "id": "67326eab",
   "metadata": {},
   "source": [
    "Создадим две сводные таблицы: в первом случае включающает в себя - жанры и количество игр в них, во втором случае - жанры и суммарные глобальные продажи по ним. На основе таблиц построим графики, наглядно отражающие распределение игр по жанрам."
   ]
  },
  {
   "cell_type": "code",
   "execution_count": 52,
   "id": "3f6006b9",
   "metadata": {},
   "outputs": [
    {
     "name": "stdout",
     "output_type": "stream",
     "text": [
      "Количество игр по жанрам\n"
     ]
    },
    {
     "data": {
      "text/plain": [
       "genre\n",
       "Action          1269\n",
       "Role-Playing     465\n",
       "Adventure        410\n",
       "Sports           389\n",
       "Misc             375\n",
       "Shooter          329\n",
       "Racing           180\n",
       "Fighting         159\n",
       "Simulation       136\n",
       "Platform         122\n",
       "Strategy         117\n",
       "Puzzle            71\n",
       "Name: name, dtype: int64"
      ]
     },
     "metadata": {},
     "output_type": "display_data"
    },
    {
     "name": "stdout",
     "output_type": "stream",
     "text": [
      "Количество продаж по жанрам\n"
     ]
    },
    {
     "data": {
      "text/plain": [
       "genre\n",
       "Action         557.80\n",
       "Shooter        402.91\n",
       "Role-Playing   245.63\n",
       "Sports         237.15\n",
       "Misc           139.42\n",
       "Platform        88.68\n",
       "Racing          88.31\n",
       "Fighting        66.90\n",
       "Simulation      50.26\n",
       "Adventure       45.04\n",
       "Strategy        22.16\n",
       "Puzzle           9.85\n",
       "Name: total_sales, dtype: float64"
      ]
     },
     "metadata": {},
     "output_type": "display_data"
    }
   ],
   "source": [
    "genre_count = df.query('year_of_release >= 2011').groupby('genre')['name'].count().sort_values(ascending=False)\n",
    "genre_sales = df.query('year_of_release >= 2011').groupby('genre')['total_sales'].sum().sort_values(ascending=False)\n",
    "print('Количество игр по жанрам')\n",
    "display(genre_count)\n",
    "print('Количество продаж по жанрам')\n",
    "display(genre_sales)"
   ]
  },
  {
   "cell_type": "code",
   "execution_count": 53,
   "id": "01815f4d",
   "metadata": {},
   "outputs": [
    {
     "data": {
      "image/png": "[encoded data removed]",
      "text/plain": [
       "<Figure size 1224x504 with 2 Axes>"
      ]
     },
     "metadata": {},
     "output_type": "display_data"
    }
   ],
   "source": [
    "fig, (ax1, ax2) = plt.subplots(nrows=1, ncols=2, figsize=(17, 7))\n",
    "\n",
    "explode = (0.1, 0.08, 0.06, 0.04, 0,0,0,0,0,0,0,0)\n",
    "ax1.set_title('Распределение игр по жанрам')\n",
    "ax1.pie(genre_count.values, labels=genre_count.index, autopct='%1.1f%%', explode=explode)  \n",
    "\n",
    "ax2.set_title('Распределение продаж по жанрам')\n",
    "ax2.pie(genre_sales.values, labels=genre_sales.index, autopct='%1.1f%%', explode=explode) \n",
    "\n",
    "plt.show()"
   ]
  },
  {
   "cell_type": "markdown",
   "id": "b5bb6bb1",
   "metadata": {},
   "source": [
    "Распределение игр по жанрам: ТОП-3 - Action(31,6%), Role-Playing(11,6%) и Adventure (10,2%). Замыкают список следующие три игровых жанра: Platform(3,0%), Strategy(2,9%) и Puzzle(1,8%). Разница практически в 18 раз по количеству представленных игр в жанрах между первым и последним местом.\n",
    "\n",
    "Распределение продаж по жанрам: ТОП-3 - Action(28,5%), Shooter(20,6%), Role-Playing(12,6%). Последние три места: Adventure(2,3%), Strategy(1,1%) и Puzzle(0,5%). Разница практически в 57 раз по продажам между первым и последним местом по жанрам."
   ]
  },
  {
   "cell_type": "markdown",
   "id": "bc86534c",
   "metadata": {},
   "source": [
    "### Вывод"
   ]
  },
  {
   "cell_type": "markdown",
   "id": "d03c70cb",
   "metadata": {},
   "source": [
    "В ходе исследовательского анализ данных выяснили, что характерный срок, когда старая игровая платформа сменяется новой, составляет 11 лет. Выделил актуальный срез данных - 2011-2016 гг.\n",
    "\n",
    "Пик продаж на рынке игр был достигнут в 2008 году, а спад начался в 2010 году - мировой финансовый кризис не прошел бесследно и для рынка игр.\n",
    "\n",
    "Выделил список потенциально прибыльных рлатформ на 2017 год: XOne, PS4, 3DS, PC, PSV.\n",
    "\n",
    "Рассмотрел корреляцию между оценкой критиков и выручкой, а также оценкой пользователей и выручкой. Пришел к выводу, что отзывы критиков незначительно влияют на продажи. Немного больше выручка у платформ при оценке критиков от 70 до 85 баллов. Оценка пользователей на продажи практически не влияет.\n",
    "\n",
    "Самыми продаваемыми игровыми жанрами являются Action, Sports и Shooter."
   ]
  },
  {
   "cell_type": "code",
   "execution_count": 62,
   "id": "a3c2d602",
   "metadata": {
    "scrolled": true
   },
   "outputs": [
    {
     "name": "stdout",
     "output_type": "stream",
     "text": [
      "Количество продаж в среднем по жанрам\n"
     ]
    },
    {
     "data": {
      "text/plain": [
       "genre\n",
       "Shooter        1.22\n",
       "Platform       0.73\n",
       "Sports         0.61\n",
       "Role-Playing   0.53\n",
       "Racing         0.49\n",
       "Action         0.44\n",
       "Fighting       0.42\n",
       "Misc           0.37\n",
       "Simulation     0.37\n",
       "Strategy       0.19\n",
       "Puzzle         0.14\n",
       "Adventure      0.11\n",
       "Name: total_sales, dtype: float64"
      ]
     },
     "metadata": {},
     "output_type": "display_data"
    }
   ],
   "source": [
    "genre_sales_mean = df.query('year_of_release >= 2011').groupby('genre')['total_sales'].mean().sort_values(ascending=False)\n",
    "print('Количество продаж в среднем по жанрам')\n",
    "display(genre_sales_mean)"
   ]
  },
  {
   "cell_type": "code",
   "execution_count": 63,
   "id": "4298fa29",
   "metadata": {},
   "outputs": [
    {
     "data": {
      "image/png": "[encoded data removed]",
      "text/plain": [
       "<Figure size 1224x504 with 1 Axes>"
      ]
     },
     "metadata": {},
     "output_type": "display_data"
    }
   ],
   "source": [
    "fig, ax = plt.subplots(nrows=1, ncols=1, figsize=(17, 7))\n",
    "\n",
    "explode = (0.1, 0.08, 0.06, 0.04, 0,0,0,0,0,0,0,0)\n",
    "ax.set_title('Распределение продаж в среднем по жанрам')\n",
    "ax.pie(genre_sales_mean.values, labels=genre_sales_mean.index, autopct='%1.1f%%', explode=explode) \n",
    "\n",
    "plt.show()"
   ]
  },
  {
   "cell_type": "markdown",
   "id": "089b150f",
   "metadata": {},
   "source": [
    "В случае распределения по средним продажам ТОП-3 выглядит следующим образом - Shooter(21,8%), Platform(12,9%), Sports(10,8%). Последние три места: Strategy(3,4%), Puzzle(2,5%) и Adventure(2,0%). Последние места в сравнении с суммированным распределением практически не поменялись, а вот жанр Action откатился на 6 место, это говорит о том, что на его суммированных продажах сказывается большое количество выпущенных игр."
   ]
  },
  {
   "cell_type": "markdown",
   "id": "0c8bfad9",
   "metadata": {},
   "source": [
    "## Составление портрета пользователя каждого региона"
   ]
  },
  {
   "cell_type": "markdown",
   "id": "706f913f",
   "metadata": {},
   "source": [
    "### Самые поулярные платформы в регионах"
   ]
  },
  {
   "cell_type": "markdown",
   "id": "bebfb879",
   "metadata": {},
   "source": [
    "Для удобства построения графиков соберем в словарь данные о 5 самых популярных игровых платформах в четырех регионах, представленных в таблице."
   ]
  },
  {
   "cell_type": "code",
   "execution_count": 66,
   "id": "b8aa87e1",
   "metadata": {},
   "outputs": [],
   "source": [
    "pop_plat_dict = {}\n",
    "for region in ['na_sales', 'eu_sales', 'jp_sales']:\n",
    "    pop_plat_dict[region] = df.query('year_of_release >= 2011').groupby('platform')[region].sum().sort_values(ascending=False).head(5)"
   ]
  },
  {
   "cell_type": "code",
   "execution_count": 67,
   "id": "e4303ed9",
   "metadata": {},
   "outputs": [
    {
     "data": {
      "image/png": "[encoded data removed]",
      "text/plain": [
       "<Figure size 1224x504 with 3 Axes>"
      ]
     },
     "metadata": {},
     "output_type": "display_data"
    }
   ],
   "source": [
    "fig, (ax1, ax2, ax3) = plt.subplots(nrows=1, ncols=3, figsize=(17, 7))\n",
    "\n",
    "x = [ax1, ax2, ax3]\n",
    "region = ['na_sales', 'eu_sales', 'jp_sales']\n",
    "reg_name = ['North America', 'European Union', 'Japan']\n",
    "explode = (0.05, 0, 0, 0, 0)\n",
    "\n",
    "for i in [0,1,2]:\n",
    "    ax = x[i]\n",
    "    ax.set_title(f'''Популярность игровых платформ \n",
    "    в {reg_name[i]}''')\n",
    "    ax.pie(pop_plat_dict[region[i]].values, labels=pop_plat_dict[region[i]].index, autopct='%1.1f%%', explode=explode) \n",
    "    \n",
    "plt.show()"
   ]
  },
  {
   "cell_type": "markdown",
   "id": "2c6c68a6",
   "metadata": {},
   "source": [
    "В Северной Америке самая популярная платформа - X360;  \n",
    "В Европе самая популярная платформа - PS3;  \n",
    "В Японии самая популярная платформа - 3DS;    \n",
    "Выделяются платформы фирмы PS (PlayStation), которые представлены в ведущей пятерке во всем мире."
   ]
  },
  {
   "cell_type": "markdown",
   "id": "ab8b0d57",
   "metadata": {},
   "source": [
    "### Самые популярные жанры в регионах"
   ]
  },
  {
   "cell_type": "markdown",
   "id": "9056a54c",
   "metadata": {},
   "source": [
    "Аналогичным способом определим ТОП-5 игровых жанров в регионах."
   ]
  },
  {
   "cell_type": "code",
   "execution_count": 68,
   "id": "8dab7d19",
   "metadata": {},
   "outputs": [],
   "source": [
    "pop_genre_dict = {}\n",
    "for region in ['na_sales', 'eu_sales', 'jp_sales']:\n",
    "    pop_genre_dict[region] = df.query('year_of_release >= 2011').groupby('genre')[region].sum().sort_values(ascending=False).head(5)"
   ]
  },
  {
   "cell_type": "code",
   "execution_count": 69,
   "id": "077595c8",
   "metadata": {
    "scrolled": true
   },
   "outputs": [
    {
     "data": {
      "image/png": "[encoded data removed]",
      "text/plain": [
       "<Figure size 1224x504 with 3 Axes>"
      ]
     },
     "metadata": {},
     "output_type": "display_data"
    }
   ],
   "source": [
    "fig, (ax1, ax2, ax3) = plt.subplots(nrows=1, ncols=3, figsize=(17, 7))\n",
    "\n",
    "x = [ax1, ax2, ax3]\n",
    "region = ['na_sales', 'eu_sales', 'jp_sales']\n",
    "reg_name = ['North America', 'European Union', 'Japan']\n",
    "explode = (0.05, 0, 0, 0, 0)\n",
    "\n",
    "for i in [0,1,2]:\n",
    "    ax = x[i]\n",
    "    ax.set_title(f'''Популярность игровых жанров \n",
    "    в {reg_name[i]}''')\n",
    "    ax.pie(pop_genre_dict[region[i]].values, labels=pop_genre_dict[region[i]].index, autopct='%1.1f%%', explode=explode);"
   ]
  },
  {
   "cell_type": "markdown",
   "id": "04e53435",
   "metadata": {},
   "source": [
    "В Северной Америке и Европейском Союзе совпадает лидер в игровом жанре - это жанр Экшен, второе и третье места, кстати, тоже идентичны - Шутер и Спорт. В Японии, причем с заметным отрывом, лидирует жанр ролевых игр. Культурные особенности стран задают свои тренды и в сфере компьютерных игр."
   ]
  },
  {
   "cell_type": "markdown",
   "id": "1aa9568a",
   "metadata": {},
   "source": [
    "### Влияние возрастного рейтинга на продажи в регионах"
   ]
  },
  {
   "cell_type": "markdown",
   "id": "e04adcbd",
   "metadata": {},
   "source": [
    "Сначала вспомним, что представляют из себя значения столбца rating.  \n",
    "\n",
    "EC («Early childhood») — «Для детей младшего возраста»  \n",
    "E («Everyone») — «Для всех»  \n",
    "E10+ («Everyone 10 and older») — «Для всех от 10 лет и старше»  \n",
    "T («Teen») — «Подросткам»  \n",
    "M («Mature») — «Для взрослых 17+»  \n",
    "AO («Adults Only 18+») — «Только для взрослых»  \n",
    "RP («Rating Pending») — «Рейтинг ожидается»  \n",
    "\n",
    "Создадим сводную таблицу на основе данных рейтинга ESRB и продаж в регионах."
   ]
  },
  {
   "cell_type": "code",
   "execution_count": 70,
   "id": "653c7bb9",
   "metadata": {},
   "outputs": [
    {
     "data": {
      "text/html": [
       "<div>\n",
       "<style scoped>\n",
       "    .dataframe tbody tr th:only-of-type {\n",
       "        vertical-align: middle;\n",
       "    }\n",
       "\n",
       "    .dataframe tbody tr th {\n",
       "        vertical-align: top;\n",
       "    }\n",
       "\n",
       "    .dataframe thead th {\n",
       "        text-align: right;\n",
       "    }\n",
       "</style>\n",
       "<table border=\"1\" class=\"dataframe\">\n",
       "  <thead>\n",
       "    <tr style=\"text-align: right;\">\n",
       "      <th></th>\n",
       "      <th>rating</th>\n",
       "      <th>na_sales</th>\n",
       "      <th>eu_sales</th>\n",
       "      <th>jp_sales</th>\n",
       "    </tr>\n",
       "  </thead>\n",
       "  <tbody>\n",
       "    <tr>\n",
       "      <td>0</td>\n",
       "      <td>AO</td>\n",
       "      <td>1.26</td>\n",
       "      <td>0.61</td>\n",
       "      <td>0.00</td>\n",
       "    </tr>\n",
       "    <tr>\n",
       "      <td>1</td>\n",
       "      <td>E</td>\n",
       "      <td>1,295.55</td>\n",
       "      <td>710.52</td>\n",
       "      <td>199.57</td>\n",
       "    </tr>\n",
       "    <tr>\n",
       "      <td>2</td>\n",
       "      <td>E10+</td>\n",
       "      <td>353.32</td>\n",
       "      <td>188.52</td>\n",
       "      <td>40.20</td>\n",
       "    </tr>\n",
       "    <tr>\n",
       "      <td>3</td>\n",
       "      <td>EC</td>\n",
       "      <td>1.53</td>\n",
       "      <td>0.11</td>\n",
       "      <td>0.00</td>\n",
       "    </tr>\n",
       "    <tr>\n",
       "      <td>4</td>\n",
       "      <td>M</td>\n",
       "      <td>748.48</td>\n",
       "      <td>483.97</td>\n",
       "      <td>64.24</td>\n",
       "    </tr>\n",
       "    <tr>\n",
       "      <td>5</td>\n",
       "      <td>None</td>\n",
       "      <td>1,240.68</td>\n",
       "      <td>613.30</td>\n",
       "      <td>841.93</td>\n",
       "    </tr>\n",
       "    <tr>\n",
       "      <td>6</td>\n",
       "      <td>RP</td>\n",
       "      <td>0.00</td>\n",
       "      <td>0.08</td>\n",
       "      <td>0.00</td>\n",
       "    </tr>\n",
       "    <tr>\n",
       "      <td>7</td>\n",
       "      <td>T</td>\n",
       "      <td>759.75</td>\n",
       "      <td>427.03</td>\n",
       "      <td>151.40</td>\n",
       "    </tr>\n",
       "  </tbody>\n",
       "</table>\n",
       "</div>"
      ],
      "text/plain": [
       "  rating  na_sales  eu_sales  jp_sales\n",
       "0     AO      1.26      0.61      0.00\n",
       "1      E  1,295.55    710.52    199.57\n",
       "2   E10+    353.32    188.52     40.20\n",
       "3     EC      1.53      0.11      0.00\n",
       "4      M    748.48    483.97     64.24\n",
       "5   None  1,240.68    613.30    841.93\n",
       "6     RP      0.00      0.08      0.00\n",
       "7      T    759.75    427.03    151.40"
      ]
     },
     "execution_count": 70,
     "metadata": {},
     "output_type": "execute_result"
    }
   ],
   "source": [
    "warnings.simplefilter(\"ignore\")\n",
    "esrb_sale = df.groupby('rating')['na_sales', 'eu_sales', 'jp_sales'].sum().reset_index()\n",
    "esrb_sale"
   ]
  },
  {
   "cell_type": "code",
   "execution_count": 75,
   "id": "3b4452dd",
   "metadata": {},
   "outputs": [
    {
     "data": {
      "image/png": "[encoded data removed]",
      "text/plain": [
       "<Figure size 1080x360 with 3 Axes>"
      ]
     },
     "metadata": {
      "needs_background": "light"
     },
     "output_type": "display_data"
    }
   ],
   "source": [
    "fig, (ax1, ax2, ax3) = plt.subplots(nrows=1, ncols=3, figsize=(15, 5))\n",
    "\n",
    "x = [ax1, ax2, ax3]\n",
    "region = ['na_sales', 'eu_sales', 'jp_sales']\n",
    "reg_name = ['North America', 'European Union', 'Japan']\n",
    "\n",
    "for i in [0,1,2]:\n",
    "    ax = x[i]\n",
    "    ax.set_title(f'''Распределение рейтинга ESBR \n",
    "    в {reg_name[i]}''')\n",
    "    ax.bar(esrb_sale['rating'], esrb_sale[region[i]], width = 0.5)\n",
    "       \n",
    "plt.show()"
   ]
  },
  {
   "cell_type": "markdown",
   "id": "69a71bc1",
   "metadata": {},
   "source": [
    "Большое количество игр во всех регионах не имеют проставленного рейтинга, особенно это заметно в Японии, скорее всего это связано с различием в местном законодательстве, из-за чего возникают вопросы при выставлении рейтинга. Если не брать в расчет None, то во всех трех регионах подавляющее количество игр разбито в рейтинге по четырем возрастным категориям: E, E10+, M, T. Категория E (\"Для всех\") во всех регионах занимает первое место по продажам. В Северной Америке категории M и T, можно сказать делят между собой 2 место. В Японии с явным преимуществом второе место занимает категория T (\"Подростки\"), в Евросоюзе, наоборот, второе место, но с небольшим преимуществом, у категории M (\"Взрослые 17+\")."
   ]
  },
  {
   "cell_type": "markdown",
   "id": "44d449b7",
   "metadata": {},
   "source": [
    "### Вывод"
   ]
  },
  {
   "cell_type": "markdown",
   "id": "d76fc08d",
   "metadata": {},
   "source": [
    "Обобщая полученные результаты в данном разделе, выведем портрет пользователя для каждого региона:  \n",
    "\n",
    "- Пользователь в Северной Америке: предпочитает возрастную категорию \"Для всех\", обладатель игровой приставки X360 или PS3, в игровых жанрах склоняется в пользу Экшен и Шутер;\n",
    "- Пользователь в Евросоюзе: предпочитает возрастную категорию \"Для всех\", обладатель игровой приставки семейства PS, в игровых жанрах склоняется в пользу Экшен и Шутер;\n",
    "-  Пользователь в Японии: в большинстве случаев возрастная категория не определена, обладатель игровой приставки 3DS, в игровых жанрах склоняется в пользу Ролевых игр и Экшен."
   ]
  },
  {
   "cell_type": "markdown",
   "id": "fd24746a",
   "metadata": {},
   "source": [
    "## Проверка гипотез"
   ]
  },
  {
   "cell_type": "markdown",
   "id": "19617bae",
   "metadata": {},
   "source": [
    "### Проверка первой гипотезы"
   ]
  },
  {
   "cell_type": "markdown",
   "id": "78db7da1",
   "metadata": {},
   "source": [
    "Сформулируем нулевую и альтернативную гипотезы. Нулевую гипотезу будем формулировать так, чтобы использовать знак равенства.\n",
    "\n",
    "$H_0$ - средние пользовательские рейтинги платформ Xbox One и PC одинаковые;  \n",
    "$H_1$ - средние пользовательские рейтинги платформ Xbox One и PC различны.  \n",
    "\n",
    "Для проверки гипотезы необходимо создать двa массива данных: XOne и PC."
   ]
  },
  {
   "cell_type": "code",
   "execution_count": 76,
   "id": "0aaf6b53",
   "metadata": {},
   "outputs": [],
   "source": [
    "xone = df.query('year_of_release >= 2011 and platform == \"XOne\" and user_score != -1')['user_score'].to_list()\n",
    "pc = df.query('year_of_release >= 2011 and platform == \"PC\" and user_score != -1')['user_score'].to_list()"
   ]
  },
  {
   "cell_type": "code",
   "execution_count": 77,
   "id": "cfffdf5f",
   "metadata": {},
   "outputs": [
    {
     "name": "stdout",
     "output_type": "stream",
     "text": [
      "Дисперсия XOne = 1.8965188383045526 \n",
      "Дисперсия PC = 2.5878388099608483\n"
     ]
    }
   ],
   "source": [
    "print(f'''Дисперсия XOne = {np.var(xone)} \n",
    "Дисперсия PC = {np.var(pc)}''')"
   ]
  },
  {
   "cell_type": "markdown",
   "id": "e1a92587",
   "metadata": {},
   "source": [
    "Полученные дисперсии отличаются примерно на 27%, поэтому используем параметр equal_var=False.\n",
    "\n",
    "Критический уровень статистической значимости примем 5%."
   ]
  },
  {
   "cell_type": "code",
   "execution_count": 78,
   "id": "8591bd5b",
   "metadata": {},
   "outputs": [
    {
     "name": "stdout",
     "output_type": "stream",
     "text": [
      "p-value = 0.6130712247638477\n",
      "Не получилось отвергнуть нулевую гипотезу\n"
     ]
    }
   ],
   "source": [
    "alpha = 0.05\n",
    "\n",
    "results = st.ttest_ind(xone, pc, equal_var = False)\n",
    "\n",
    "print('p-value =', results.pvalue)\n",
    "\n",
    "if (results.pvalue < alpha):\n",
    "    print(\"Отвергаем нулевую гипотезу\")\n",
    "else:\n",
    "    print(\"Не получилось отвергнуть нулевую гипотезу\")"
   ]
  },
  {
   "cell_type": "markdown",
   "id": "3d73a4e7",
   "metadata": {},
   "source": [
    "**Не получилось отвергнуть нулевую гипотезу - это значит, что средние пользовательские рейтинги платформ Xbox One и PC одинаковы.**"
   ]
  },
  {
   "cell_type": "markdown",
   "id": "90ad3e09",
   "metadata": {},
   "source": [
    "Проверим какой в реальности средний пользовательский рейтинг у этих платформ."
   ]
  },
  {
   "cell_type": "code",
   "execution_count": 79,
   "id": "55a72888",
   "metadata": {
    "scrolled": true
   },
   "outputs": [
    {
     "name": "stdout",
     "output_type": "stream",
     "text": [
      "Cредний пользовательский рейтинг платформы Xbox One - 6.52\n",
      "Cредний пользовательский рейтинг платформы PC - 6.45\n"
     ]
    }
   ],
   "source": [
    "print('Cредний пользовательский рейтинг платформы Xbox One -', round(sum(xone)/len(xone), 2))\n",
    "print('Cредний пользовательский рейтинг платформы PC -', round(sum(pc)/len(pc), 2))"
   ]
  },
  {
   "cell_type": "markdown",
   "id": "91712151",
   "metadata": {},
   "source": [
    "Рейтинги отличаются на 0,07 балла, что является не значительным и может быть отнесено к погрешности."
   ]
  },
  {
   "cell_type": "markdown",
   "id": "e624bc6c",
   "metadata": {},
   "source": [
    "### Проверка второй гипотезы"
   ]
  },
  {
   "cell_type": "markdown",
   "id": "d1e15882",
   "metadata": {},
   "source": [
    "Сформулируем нулевую и альтернативную гипотезы.\n",
    "\n",
    "$H_0$ - средние пользовательские рейтинги жанров Action и Sports одинаковые;  \n",
    "$H_1$ - средние пользовательские рейтинги жанров Action и Sports различны.  \n",
    "\n",
    "Для проверки гипотезы необходимо создать двa массива данных: Action и Sports"
   ]
  },
  {
   "cell_type": "code",
   "execution_count": 80,
   "id": "22abd0b3",
   "metadata": {},
   "outputs": [],
   "source": [
    "action = df.query('year_of_release >= 2011 and genre == \"Action\"and user_score != -1')['user_score'].to_list()\n",
    "sports = df.query('year_of_release >= 2011 and genre == \"Sports\"and user_score != -1')['user_score'].to_list()"
   ]
  },
  {
   "cell_type": "code",
   "execution_count": 81,
   "id": "faf64e9a",
   "metadata": {},
   "outputs": [
    {
     "name": "stdout",
     "output_type": "stream",
     "text": [
      "Дисперсия Actione = 1.8091482798664535 \n",
      "Дисперсия Sports = 2.87079202194461\n"
     ]
    }
   ],
   "source": [
    "print(f'''Дисперсия Actione = {np.var(action)} \n",
    "Дисперсия Sports = {np.var(sports)}''')"
   ]
  },
  {
   "cell_type": "markdown",
   "id": "d3ac2265",
   "metadata": {},
   "source": [
    "Полученные дисперсии отличаются примерно на 37%, поэтому используем параметр equal_var=False.\n",
    "\n",
    "Критический уровень статистической значимости примем 5%."
   ]
  },
  {
   "cell_type": "code",
   "execution_count": 82,
   "id": "b46fc483",
   "metadata": {},
   "outputs": [
    {
     "name": "stdout",
     "output_type": "stream",
     "text": [
      "p-value = 8.285648549432565e-19\n",
      "Отвергаем нулевую гипотезу\n"
     ]
    }
   ],
   "source": [
    "alpha = 0.05\n",
    "\n",
    "results = st.ttest_ind(action, sports, equal_var = False)\n",
    "\n",
    "print('p-value =', results.pvalue)\n",
    "\n",
    "if (results.pvalue < alpha):\n",
    "    print(\"Отвергаем нулевую гипотезу\")\n",
    "else:\n",
    "    print(\"Не получилось отвергнуть нулевую гипотезу\")"
   ]
  },
  {
   "cell_type": "markdown",
   "id": "3f42393a",
   "metadata": {},
   "source": [
    "**Отвергаем нулевую гипотезу - это значит, что cредние пользовательские рейтинги жанров Action и Sports различны**"
   ]
  },
  {
   "cell_type": "markdown",
   "id": "4cf8a36a",
   "metadata": {},
   "source": [
    "Проверим какой в реальности средний пользовательский рейтинг у этих игровых жанров."
   ]
  },
  {
   "cell_type": "code",
   "execution_count": 83,
   "id": "6d226829",
   "metadata": {
    "scrolled": true
   },
   "outputs": [
    {
     "name": "stdout",
     "output_type": "stream",
     "text": [
      "Cредний пользовательский рейтинг жанра Actione - 6.78\n",
      "Cредний пользовательский рейтинг жанра Sports - 5.65\n"
     ]
    }
   ],
   "source": [
    "print('Cредний пользовательский рейтинг жанра Actione -', round(sum(action)/len(action), 2))\n",
    "print('Cредний пользовательский рейтинг жанра Sports -', round(sum(sports)/len(sports), 2))"
   ]
  },
  {
   "cell_type": "markdown",
   "id": "ab6d7085",
   "metadata": {},
   "source": [
    "Действительно, средний пользовательский рейтинг у этих жанров отличается на 1,13 балла."
   ]
  },
  {
   "cell_type": "markdown",
   "id": "d1147a84",
   "metadata": {},
   "source": [
    "## Общий вывод"
   ]
  },
  {
   "cell_type": "markdown",
   "id": "d81015a2",
   "metadata": {},
   "source": [
    "При изучении исходного датасета ознакомился с предоставленными данными (в исходном варианте 16715 строк и 11 колонок), выявил ошибки и пропуски, а затем устранил их: привел названия столбцов к нижнему регистру, преобразовал данные в нужные типы, заполнил пропуски, посчитал суммарные продажи во всех регионах и добавил в таблицу.  \n",
    "\n",
    "*В ходе исследовательского анализа установил:*\n",
    "- заметный рост рынка компьютерных игр начался в 1994 году, пик продаж на рынке игр был достигнут в 2008 году, а спад начался в 2010 году. К 2016 году количество выпускаемых игр снизилось более чем в 2 раза, по сравнению с пиковым значением;\n",
    "- характерный срок, когда старая игровая платформа сменяется новой, составляет 11 лет. Для исследования выделил актуальный срез данных за 2011-2016 гг., составляющий половину \"жизненного срока\" игровой платформы;\n",
    "- список потенциально прибыльных платформ на 2017 год: XOne, PS4, 3DS, PC, PSV.\n",
    "- корреляция между отзывами критиков и продажами слабая, а между отзывами пользователей и продажами практически отсутствует.  Отзывы критиков незначительно влияют на продажи - немного больше выручка у платформ при оценке критиков от 70 до 85 баллов. \n",
    "- самыми продаваемыми игровыми жанрами являются Action, Sports и Shooter, но у жанра Action существенное влияние на этот показатель оказывает количество выпущенных игр. \n",
    "\n",
    "*Определил портрет среднего пользователя для каждого региона:*\n",
    "- Пользователь в Северной Америке: предпочитает возрастную категорию \"Для всех\", обладатель игровой приставки X360 или PS3, в игровых жанрах склоняется в пользу Экшен и Шутер;\n",
    "- Пользователь в Евросоюзе: предпочитает возрастную категорию \"Для всех\", обладатель игровой приставки семейства PS, в игровых жанрах склоняется в пользу Экшен и Шутер;\n",
    "-  Пользователь в Японии: в большинстве случаев возрастная категория не определена, обладатель игровой приставки 3DS, в игровых жанрах склоняется в пользу Ролевых игр и Экшен. \n",
    "\n",
    "*Проверены гипотезы:*\n",
    "- Средние пользовательские рейтинги платформ Xbox One и PC одинаковые - гипотеза не отвергнута;\n",
    "- Средние пользовательские рейтинги жанров Action и Sports одинаковые - гипотеза отвергнута."
   ]
  }
 ],
 "metadata": {
  "ExecuteTimeLog": [
   {
    "duration": 2368,
    "start_time": "2022-02-23T06:29:19.987Z"
   },
   {
    "duration": 2223,
    "start_time": "2022-02-23T06:29:22.358Z"
   },
   {
    "duration": -4249,
    "start_time": "2022-02-23T06:29:28.835Z"
   },
   {
    "duration": -4250,
    "start_time": "2022-02-23T06:29:28.837Z"
   },
   {
    "duration": -4250,
    "start_time": "2022-02-23T06:29:28.839Z"
   },
   {
    "duration": -4251,
    "start_time": "2022-02-23T06:29:28.841Z"
   },
   {
    "duration": -4251,
    "start_time": "2022-02-23T06:29:28.842Z"
   },
   {
    "duration": -4251,
    "start_time": "2022-02-23T06:29:28.844Z"
   },
   {
    "duration": -4252,
    "start_time": "2022-02-23T06:29:28.846Z"
   },
   {
    "duration": -4253,
    "start_time": "2022-02-23T06:29:28.848Z"
   },
   {
    "duration": -4252,
    "start_time": "2022-02-23T06:29:28.849Z"
   },
   {
    "duration": -4253,
    "start_time": "2022-02-23T06:29:28.851Z"
   },
   {
    "duration": -4253,
    "start_time": "2022-02-23T06:29:28.853Z"
   },
   {
    "duration": -4253,
    "start_time": "2022-02-23T06:29:28.854Z"
   },
   {
    "duration": -4253,
    "start_time": "2022-02-23T06:29:28.856Z"
   },
   {
    "duration": -4254,
    "start_time": "2022-02-23T06:29:28.858Z"
   },
   {
    "duration": -4254,
    "start_time": "2022-02-23T06:29:28.860Z"
   },
   {
    "duration": -4274,
    "start_time": "2022-02-23T06:29:28.881Z"
   },
   {
    "duration": -4274,
    "start_time": "2022-02-23T06:29:28.883Z"
   },
   {
    "duration": -4274,
    "start_time": "2022-02-23T06:29:28.885Z"
   },
   {
    "duration": -4274,
    "start_time": "2022-02-23T06:29:28.886Z"
   },
   {
    "duration": -4274,
    "start_time": "2022-02-23T06:29:28.888Z"
   },
   {
    "duration": -4274,
    "start_time": "2022-02-23T06:29:28.890Z"
   },
   {
    "duration": -4274,
    "start_time": "2022-02-23T06:29:28.891Z"
   },
   {
    "duration": -4274,
    "start_time": "2022-02-23T06:29:28.893Z"
   },
   {
    "duration": -4274,
    "start_time": "2022-02-23T06:29:28.895Z"
   },
   {
    "duration": -4274,
    "start_time": "2022-02-23T06:29:28.896Z"
   },
   {
    "duration": -4275,
    "start_time": "2022-02-23T06:29:28.898Z"
   },
   {
    "duration": -4275,
    "start_time": "2022-02-23T06:29:28.899Z"
   },
   {
    "duration": -4275,
    "start_time": "2022-02-23T06:29:28.901Z"
   },
   {
    "duration": -4276,
    "start_time": "2022-02-23T06:29:28.903Z"
   },
   {
    "duration": -4276,
    "start_time": "2022-02-23T06:29:28.904Z"
   },
   {
    "duration": -4276,
    "start_time": "2022-02-23T06:29:28.906Z"
   },
   {
    "duration": -4296,
    "start_time": "2022-02-23T06:29:28.927Z"
   },
   {
    "duration": -4306,
    "start_time": "2022-02-23T06:29:28.939Z"
   },
   {
    "duration": -4325,
    "start_time": "2022-02-23T06:29:28.959Z"
   },
   {
    "duration": -4325,
    "start_time": "2022-02-23T06:29:28.961Z"
   },
   {
    "duration": -4326,
    "start_time": "2022-02-23T06:29:28.963Z"
   },
   {
    "duration": -4387,
    "start_time": "2022-02-23T06:29:29.026Z"
   },
   {
    "duration": -4406,
    "start_time": "2022-02-23T06:29:29.047Z"
   },
   {
    "duration": -4407,
    "start_time": "2022-02-23T06:29:29.049Z"
   },
   {
    "duration": -4408,
    "start_time": "2022-02-23T06:29:29.051Z"
   },
   {
    "duration": -4408,
    "start_time": "2022-02-23T06:29:29.053Z"
   },
   {
    "duration": -4407,
    "start_time": "2022-02-23T06:29:29.054Z"
   },
   {
    "duration": -4408,
    "start_time": "2022-02-23T06:29:29.056Z"
   },
   {
    "duration": -4409,
    "start_time": "2022-02-23T06:29:29.058Z"
   },
   {
    "duration": -4408,
    "start_time": "2022-02-23T06:29:29.059Z"
   },
   {
    "duration": -4456,
    "start_time": "2022-02-23T06:29:29.108Z"
   },
   {
    "duration": -4474,
    "start_time": "2022-02-23T06:29:29.127Z"
   },
   {
    "duration": -4477,
    "start_time": "2022-02-23T06:29:29.132Z"
   },
   {
    "duration": -4476,
    "start_time": "2022-02-23T06:29:29.133Z"
   },
   {
    "duration": -4476,
    "start_time": "2022-02-23T06:29:29.135Z"
   },
   {
    "duration": -4477,
    "start_time": "2022-02-23T06:29:29.137Z"
   },
   {
    "duration": -4477,
    "start_time": "2022-02-23T06:29:29.139Z"
   },
   {
    "duration": -4477,
    "start_time": "2022-02-23T06:29:29.140Z"
   },
   {
    "duration": -4478,
    "start_time": "2022-02-23T06:29:29.142Z"
   },
   {
    "duration": 1508,
    "start_time": "2022-02-23T08:02:07.655Z"
   },
   {
    "duration": 286,
    "start_time": "2022-02-23T08:02:09.166Z"
   },
   {
    "duration": 95,
    "start_time": "2022-02-23T08:08:34.203Z"
   },
   {
    "duration": 16,
    "start_time": "2022-02-23T08:08:40.937Z"
   },
   {
    "duration": 5,
    "start_time": "2022-02-23T08:09:02.236Z"
   },
   {
    "duration": 19,
    "start_time": "2022-02-23T08:11:32.899Z"
   },
   {
    "duration": 24,
    "start_time": "2022-02-23T08:11:34.329Z"
   },
   {
    "duration": 14,
    "start_time": "2022-02-23T08:11:40.885Z"
   },
   {
    "duration": 10,
    "start_time": "2022-02-23T08:11:47.545Z"
   },
   {
    "duration": 10,
    "start_time": "2022-02-23T08:11:55.806Z"
   },
   {
    "duration": 6,
    "start_time": "2022-02-23T08:12:06.481Z"
   },
   {
    "duration": 5,
    "start_time": "2022-02-23T08:12:08.512Z"
   },
   {
    "duration": 11,
    "start_time": "2022-02-23T08:12:14.227Z"
   },
   {
    "duration": 9,
    "start_time": "2022-02-23T08:12:32.265Z"
   },
   {
    "duration": 6,
    "start_time": "2022-02-23T08:12:40.483Z"
   },
   {
    "duration": 10,
    "start_time": "2022-02-23T08:12:42.293Z"
   },
   {
    "duration": 6,
    "start_time": "2022-02-23T08:12:58.264Z"
   },
   {
    "duration": 7,
    "start_time": "2022-02-23T08:13:00.088Z"
   },
   {
    "duration": 5,
    "start_time": "2022-02-23T08:13:10.149Z"
   },
   {
    "duration": 7,
    "start_time": "2022-02-23T08:13:16.408Z"
   },
   {
    "duration": 23,
    "start_time": "2022-02-23T08:13:19.288Z"
   },
   {
    "duration": 6,
    "start_time": "2022-02-23T08:14:02.339Z"
   },
   {
    "duration": 14,
    "start_time": "2022-02-23T08:14:31.374Z"
   },
   {
    "duration": 39,
    "start_time": "2022-02-23T08:14:49.246Z"
   },
   {
    "duration": 510,
    "start_time": "2022-02-23T08:15:08.189Z"
   },
   {
    "duration": 23,
    "start_time": "2022-02-23T08:15:43.509Z"
   },
   {
    "duration": 2167,
    "start_time": "2022-02-23T08:16:42.827Z"
   },
   {
    "duration": 5,
    "start_time": "2022-02-23T08:16:58.783Z"
   },
   {
    "duration": 43,
    "start_time": "2022-02-23T08:23:02.198Z"
   },
   {
    "duration": 692,
    "start_time": "2022-02-23T08:25:00.893Z"
   },
   {
    "duration": 688,
    "start_time": "2022-02-23T08:25:52.136Z"
   },
   {
    "duration": 4740,
    "start_time": "2022-02-23T08:42:01.079Z"
   },
   {
    "duration": 4654,
    "start_time": "2022-02-23T08:43:18.533Z"
   },
   {
    "duration": 4570,
    "start_time": "2022-02-23T08:44:08.562Z"
   },
   {
    "duration": 4911,
    "start_time": "2022-02-23T08:45:24.198Z"
   },
   {
    "duration": 50,
    "start_time": "2022-02-23T08:45:56.805Z"
   },
   {
    "duration": 46,
    "start_time": "2022-02-23T08:46:07.267Z"
   },
   {
    "duration": 5334,
    "start_time": "2022-02-23T08:47:48.173Z"
   },
   {
    "duration": 5169,
    "start_time": "2022-02-23T08:48:22.004Z"
   },
   {
    "duration": 4385,
    "start_time": "2022-02-23T08:48:47.558Z"
   },
   {
    "duration": 5186,
    "start_time": "2022-02-23T08:49:11.556Z"
   },
   {
    "duration": 15,
    "start_time": "2022-02-23T09:26:53.563Z"
   },
   {
    "duration": 587,
    "start_time": "2022-02-23T09:26:56.205Z"
   },
   {
    "duration": 582,
    "start_time": "2022-02-23T09:27:10.421Z"
   },
   {
    "duration": 515,
    "start_time": "2022-02-23T09:27:34.379Z"
   },
   {
    "duration": 16,
    "start_time": "2022-02-23T09:35:45.673Z"
   },
   {
    "duration": 23,
    "start_time": "2022-02-23T09:35:57.367Z"
   },
   {
    "duration": 482,
    "start_time": "2022-02-23T09:36:28.470Z"
   },
   {
    "duration": 509,
    "start_time": "2022-02-23T09:36:58.426Z"
   },
   {
    "duration": 128,
    "start_time": "2022-02-23T09:45:12.130Z"
   },
   {
    "duration": 7,
    "start_time": "2022-02-23T09:45:21.905Z"
   },
   {
    "duration": 324,
    "start_time": "2022-02-23T09:45:45.032Z"
   },
   {
    "duration": 616,
    "start_time": "2022-02-23T09:45:56.523Z"
   },
   {
    "duration": 129,
    "start_time": "2022-02-23T09:46:35.031Z"
   },
   {
    "duration": 554,
    "start_time": "2022-02-23T09:46:36.502Z"
   },
   {
    "duration": 9,
    "start_time": "2022-02-23T09:57:00.509Z"
   },
   {
    "duration": 821,
    "start_time": "2022-02-23T09:57:02.878Z"
   },
   {
    "duration": 897,
    "start_time": "2022-02-23T09:59:39.361Z"
   },
   {
    "duration": 933,
    "start_time": "2022-02-23T10:00:11.651Z"
   },
   {
    "duration": 6,
    "start_time": "2022-02-23T10:06:51.447Z"
   },
   {
    "duration": 8,
    "start_time": "2022-02-23T10:17:07.748Z"
   },
   {
    "duration": 457,
    "start_time": "2022-02-23T10:17:26.504Z"
   },
   {
    "duration": 517,
    "start_time": "2022-02-23T10:17:39.169Z"
   },
   {
    "duration": 657,
    "start_time": "2022-02-23T10:18:30.907Z"
   },
   {
    "duration": 252,
    "start_time": "2022-02-23T10:18:52.416Z"
   },
   {
    "duration": 280,
    "start_time": "2022-02-23T10:19:51.519Z"
   },
   {
    "duration": 286,
    "start_time": "2022-02-23T10:20:05.896Z"
   },
   {
    "duration": 250,
    "start_time": "2022-02-23T10:22:15.452Z"
   },
   {
    "duration": 10,
    "start_time": "2022-02-23T10:23:45.073Z"
   },
   {
    "duration": 386,
    "start_time": "2022-02-23T10:23:52.483Z"
   },
   {
    "duration": 112,
    "start_time": "2022-02-23T10:25:33.458Z"
   },
   {
    "duration": 89,
    "start_time": "2022-02-23T10:25:49.073Z"
   },
   {
    "duration": 80,
    "start_time": "2022-02-23T10:26:03.057Z"
   },
   {
    "duration": 86,
    "start_time": "2022-02-23T10:26:21.043Z"
   },
   {
    "duration": 1287,
    "start_time": "2022-02-24T11:10:40.331Z"
   },
   {
    "duration": 220,
    "start_time": "2022-02-24T11:10:41.621Z"
   },
   {
    "duration": 60,
    "start_time": "2022-02-24T11:10:41.843Z"
   },
   {
    "duration": 22,
    "start_time": "2022-02-24T11:10:41.905Z"
   },
   {
    "duration": 3,
    "start_time": "2022-02-24T11:10:41.929Z"
   },
   {
    "duration": 15,
    "start_time": "2022-02-24T11:10:41.934Z"
   },
   {
    "duration": 17,
    "start_time": "2022-02-24T11:10:41.952Z"
   },
   {
    "duration": 8,
    "start_time": "2022-02-24T11:10:41.972Z"
   },
   {
    "duration": 49,
    "start_time": "2022-02-24T11:10:41.982Z"
   },
   {
    "duration": 7,
    "start_time": "2022-02-24T11:10:42.033Z"
   },
   {
    "duration": 17,
    "start_time": "2022-02-24T11:10:42.041Z"
   },
   {
    "duration": 14,
    "start_time": "2022-02-24T11:10:42.061Z"
   },
   {
    "duration": 10,
    "start_time": "2022-02-24T11:10:42.077Z"
   },
   {
    "duration": 10,
    "start_time": "2022-02-24T11:10:42.089Z"
   },
   {
    "duration": 6,
    "start_time": "2022-02-24T11:10:42.101Z"
   },
   {
    "duration": 15,
    "start_time": "2022-02-24T11:10:42.108Z"
   },
   {
    "duration": 6,
    "start_time": "2022-02-24T11:10:42.125Z"
   },
   {
    "duration": 8,
    "start_time": "2022-02-24T11:10:42.133Z"
   },
   {
    "duration": 6,
    "start_time": "2022-02-24T11:10:42.142Z"
   },
   {
    "duration": 8,
    "start_time": "2022-02-24T11:10:42.150Z"
   },
   {
    "duration": 20,
    "start_time": "2022-02-24T11:10:42.159Z"
   },
   {
    "duration": 4,
    "start_time": "2022-02-24T11:10:42.181Z"
   },
   {
    "duration": 37,
    "start_time": "2022-02-24T11:10:42.187Z"
   },
   {
    "duration": 25,
    "start_time": "2022-02-24T11:10:42.226Z"
   },
   {
    "duration": 328,
    "start_time": "2022-02-24T11:10:42.252Z"
   },
   {
    "duration": 16,
    "start_time": "2022-02-24T11:10:42.582Z"
   },
   {
    "duration": 2390,
    "start_time": "2022-02-24T11:10:42.600Z"
   },
   {
    "duration": 3,
    "start_time": "2022-02-24T11:10:44.992Z"
   },
   {
    "duration": 45,
    "start_time": "2022-02-24T11:10:44.997Z"
   },
   {
    "duration": 438,
    "start_time": "2022-02-24T11:10:45.043Z"
   },
   {
    "duration": 41,
    "start_time": "2022-02-24T11:10:45.483Z"
   },
   {
    "duration": 4036,
    "start_time": "2022-02-24T11:10:45.526Z"
   },
   {
    "duration": 10,
    "start_time": "2022-02-24T11:11:06.665Z"
   },
   {
    "duration": 489,
    "start_time": "2022-02-24T11:11:08.636Z"
   },
   {
    "duration": 5,
    "start_time": "2022-02-24T11:18:56.975Z"
   },
   {
    "duration": 260,
    "start_time": "2022-02-24T11:22:17.734Z"
   },
   {
    "duration": 4,
    "start_time": "2022-02-24T11:22:40.729Z"
   },
   {
    "duration": 745,
    "start_time": "2022-02-24T11:22:47.328Z"
   },
   {
    "duration": 4,
    "start_time": "2022-02-24T11:23:23.316Z"
   },
   {
    "duration": 1246,
    "start_time": "2022-02-24T11:23:23.322Z"
   },
   {
    "duration": 363,
    "start_time": "2022-02-24T11:24:26.823Z"
   },
   {
    "duration": 336,
    "start_time": "2022-02-24T11:24:43.913Z"
   },
   {
    "duration": 330,
    "start_time": "2022-02-24T11:24:54.684Z"
   },
   {
    "duration": 311,
    "start_time": "2022-02-24T11:55:50.664Z"
   },
   {
    "duration": 18,
    "start_time": "2022-02-24T11:56:07.599Z"
   },
   {
    "duration": 48,
    "start_time": "2022-02-24T11:59:36.833Z"
   },
   {
    "duration": 45,
    "start_time": "2022-02-24T12:00:17.984Z"
   },
   {
    "duration": 30,
    "start_time": "2022-02-24T12:02:09.322Z"
   },
   {
    "duration": 7,
    "start_time": "2022-02-24T12:02:20.160Z"
   },
   {
    "duration": 11,
    "start_time": "2022-02-24T12:07:18.546Z"
   },
   {
    "duration": 8,
    "start_time": "2022-02-24T12:07:56.427Z"
   },
   {
    "duration": 17,
    "start_time": "2022-02-24T12:18:10.911Z"
   },
   {
    "duration": 422,
    "start_time": "2022-02-24T12:18:21.665Z"
   },
   {
    "duration": 268,
    "start_time": "2022-02-24T12:40:31.099Z"
   },
   {
    "duration": 265,
    "start_time": "2022-02-24T12:41:07.216Z"
   },
   {
    "duration": 290,
    "start_time": "2022-02-24T12:41:15.140Z"
   },
   {
    "duration": 18,
    "start_time": "2022-02-24T12:42:10.727Z"
   },
   {
    "duration": 494,
    "start_time": "2022-02-24T12:45:15.032Z"
   },
   {
    "duration": 24,
    "start_time": "2022-02-24T13:14:40.818Z"
   },
   {
    "duration": 1026,
    "start_time": "2022-02-24T13:19:45.623Z"
   },
   {
    "duration": 75,
    "start_time": "2022-02-24T13:21:33.441Z"
   },
   {
    "duration": 12,
    "start_time": "2022-02-24T13:21:42.338Z"
   },
   {
    "duration": 240,
    "start_time": "2022-02-24T13:22:23.550Z"
   },
   {
    "duration": 11,
    "start_time": "2022-02-24T13:34:19.693Z"
   },
   {
    "duration": 279,
    "start_time": "2022-02-24T13:34:20.951Z"
   },
   {
    "duration": 16,
    "start_time": "2022-02-24T13:35:26.595Z"
   },
   {
    "duration": 280,
    "start_time": "2022-02-24T13:35:31.330Z"
   },
   {
    "duration": 16,
    "start_time": "2022-02-24T13:37:41.814Z"
   },
   {
    "duration": 283,
    "start_time": "2022-02-24T13:37:50.188Z"
   },
   {
    "duration": 12,
    "start_time": "2022-02-24T13:42:06.795Z"
   },
   {
    "duration": 431,
    "start_time": "2022-02-24T13:42:28.290Z"
   },
   {
    "duration": 445,
    "start_time": "2022-02-24T14:14:11.093Z"
   },
   {
    "duration": 442,
    "start_time": "2022-02-24T14:14:35.846Z"
   },
   {
    "duration": 567,
    "start_time": "2022-02-24T14:14:55.966Z"
   },
   {
    "duration": 437,
    "start_time": "2022-02-24T14:15:10.727Z"
   },
   {
    "duration": 13,
    "start_time": "2022-02-24T14:23:56.892Z"
   },
   {
    "duration": 3,
    "start_time": "2022-02-24T14:24:00.761Z"
   },
   {
    "duration": 5,
    "start_time": "2022-02-24T14:24:54.563Z"
   },
   {
    "duration": 5,
    "start_time": "2022-02-24T14:25:54.461Z"
   },
   {
    "duration": 13,
    "start_time": "2022-02-24T14:28:30.796Z"
   },
   {
    "duration": 4,
    "start_time": "2022-02-24T14:28:32.705Z"
   },
   {
    "duration": 6,
    "start_time": "2022-02-24T14:29:12.955Z"
   },
   {
    "duration": 4,
    "start_time": "2022-02-24T14:29:53.517Z"
   },
   {
    "duration": 383,
    "start_time": "2022-02-25T12:03:46.218Z"
   },
   {
    "duration": 1246,
    "start_time": "2022-02-25T12:03:48.830Z"
   },
   {
    "duration": 274,
    "start_time": "2022-02-25T12:03:50.078Z"
   },
   {
    "duration": 51,
    "start_time": "2022-02-25T12:03:50.354Z"
   },
   {
    "duration": 8,
    "start_time": "2022-02-25T12:03:50.407Z"
   },
   {
    "duration": 3,
    "start_time": "2022-02-25T12:03:50.417Z"
   },
   {
    "duration": 29,
    "start_time": "2022-02-25T12:03:50.421Z"
   },
   {
    "duration": 16,
    "start_time": "2022-02-25T12:03:50.452Z"
   },
   {
    "duration": 7,
    "start_time": "2022-02-25T12:03:50.470Z"
   },
   {
    "duration": 12,
    "start_time": "2022-02-25T12:03:50.480Z"
   },
   {
    "duration": 16,
    "start_time": "2022-02-25T12:03:50.494Z"
   },
   {
    "duration": 7,
    "start_time": "2022-02-25T12:03:50.511Z"
   },
   {
    "duration": 15,
    "start_time": "2022-02-25T12:03:50.519Z"
   },
   {
    "duration": 11,
    "start_time": "2022-02-25T12:03:50.535Z"
   },
   {
    "duration": 16,
    "start_time": "2022-02-25T12:03:50.547Z"
   },
   {
    "duration": 9,
    "start_time": "2022-02-25T12:03:50.565Z"
   },
   {
    "duration": 16,
    "start_time": "2022-02-25T12:03:50.576Z"
   },
   {
    "duration": 10,
    "start_time": "2022-02-25T12:03:50.593Z"
   },
   {
    "duration": 11,
    "start_time": "2022-02-25T12:03:50.604Z"
   },
   {
    "duration": 10,
    "start_time": "2022-02-25T12:03:50.617Z"
   },
   {
    "duration": 18,
    "start_time": "2022-02-25T12:03:50.628Z"
   },
   {
    "duration": 22,
    "start_time": "2022-02-25T12:03:50.647Z"
   },
   {
    "duration": 3,
    "start_time": "2022-02-25T12:03:50.670Z"
   },
   {
    "duration": 13,
    "start_time": "2022-02-25T12:03:50.675Z"
   },
   {
    "duration": 21,
    "start_time": "2022-02-25T12:03:50.689Z"
   },
   {
    "duration": 303,
    "start_time": "2022-02-25T12:03:50.711Z"
   },
   {
    "duration": 14,
    "start_time": "2022-02-25T12:03:51.016Z"
   },
   {
    "duration": 2597,
    "start_time": "2022-02-25T12:03:51.033Z"
   },
   {
    "duration": 3,
    "start_time": "2022-02-25T12:03:53.632Z"
   },
   {
    "duration": 47,
    "start_time": "2022-02-25T12:03:53.637Z"
   },
   {
    "duration": 353,
    "start_time": "2022-02-25T12:03:53.686Z"
   },
   {
    "duration": 25,
    "start_time": "2022-02-25T12:03:54.045Z"
   },
   {
    "duration": 4868,
    "start_time": "2022-02-25T12:03:54.071Z"
   },
   {
    "duration": 400,
    "start_time": "2022-02-25T12:03:58.941Z"
   }
  ],
  "kernelspec": {
   "display_name": "Python 3 (ipykernel)",
   "language": "python",
   "name": "python3"
  },
  "language_info": {
   "codemirror_mode": {
    "name": "ipython",
    "version": 3
   },
   "file_extension": ".py",
   "mimetype": "text/x-python",
   "name": "python",
   "nbconvert_exporter": "python",
   "pygments_lexer": "ipython3",
   "version": "3.9.7"
  },
  "toc": {
   "base_numbering": 1,
   "nav_menu": {},
   "number_sections": true,
   "sideBar": true,
   "skip_h1_title": true,
   "title_cell": "Содержание",
   "title_sidebar": "Содержание",
   "toc_cell": true,
   "toc_position": {},
   "toc_section_display": true,
   "toc_window_display": true
  }
 },
 "nbformat": 4,
 "nbformat_minor": 5
}
